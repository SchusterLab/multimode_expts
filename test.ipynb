{
 "cells": [
  {
   "cell_type": "code",
   "execution_count": 1,
   "id": "dbe23e12",
   "metadata": {},
   "outputs": [
    {
     "name": "stdout",
     "output_type": "stream",
     "text": [
      "Warning serial library import failed.\n",
      "Could not load InstrumentManagerWindow\n",
      "Could not import QickInstrument, try install qick package\n",
      "Could not load AD5780 dac \n",
      "Could not load labbrick\n",
      "Could not load Autonics TM4 Driver\n"
     ]
    }
   ],
   "source": [
    "from slab import *"
   ]
  },
  {
   "cell_type": "code",
   "execution_count": null,
   "id": "3524a65e",
   "metadata": {},
   "outputs": [
    {
     "name": "stdout",
     "output_type": "stream",
     "text": [
      "Warning serial library import failed.\n",
      "Could not load InstrumentManagerWindow\n",
      "Could not import QickInstrument, try install qick package\n",
      "Could not load AD5780 dac \n",
      "Could not load labbrick\n",
      "Could not load Autonics TM4 Driver\n"
     ]
    }
   ],
   "source": [
    "from slab import get_all_filenames, get_current_filename, current_file_index"
   ]
  },
  {
   "cell_type": "code",
   "execution_count": 2,
   "id": "1e7527bc",
   "metadata": {},
   "outputs": [
    {
     "name": "stdout",
     "output_type": "stream",
     "text": [
      "['H:\\\\Shared drives\\\\SLab\\\\Multimode\\\\experiment\\\\250505_craqm\\\\data\\\\00000_SingleBeamSplitterRBPostSelection_sweep_depth.h5', 'H:\\\\Shared drives\\\\SLab\\\\Multimode\\\\experiment\\\\250505_craqm\\\\data\\\\00001_SingleBeamSplitterRBPostSelection_sweep_depth.h5', 'H:\\\\Shared drives\\\\SLab\\\\Multimode\\\\experiment\\\\250505_craqm\\\\data\\\\00002_SingleBeamSplitterRBPostSelection_sweep_depth.h5', 'H:\\\\Shared drives\\\\SLab\\\\Multimode\\\\experiment\\\\250505_craqm\\\\data\\\\00003_SingleBeamSplitterRBPostSelection_sweep_depth.h5', 'H:\\\\Shared drives\\\\SLab\\\\Multimode\\\\experiment\\\\250505_craqm\\\\data\\\\00004_SingleBeamSplitterRBPostSelection_sweep_depth.h5', 'H:\\\\Shared drives\\\\SLab\\\\Multimode\\\\experiment\\\\250505_craqm\\\\data\\\\00005_SingleBeamSplitterRBPostSelection_sweep_depth.h5', 'H:\\\\Shared drives\\\\SLab\\\\Multimode\\\\experiment\\\\250505_craqm\\\\data\\\\00006_SingleBeamSplitterRBPostSelection_sweep_depth.h5', 'H:\\\\Shared drives\\\\SLab\\\\Multimode\\\\experiment\\\\250505_craqm\\\\data\\\\00007_SingleBeamSplitterRBPostSelection_sweep_depth.h5', 'H:\\\\Shared drives\\\\SLab\\\\Multimode\\\\experiment\\\\250505_craqm\\\\data\\\\00008_SingleBeamSplitterRBPostSelection_sweep_depth.h5', 'H:\\\\Shared drives\\\\SLab\\\\Multimode\\\\experiment\\\\250505_craqm\\\\data\\\\00009_SingleBeamSplitterRBPostSelection_sweep_depth.h5', 'H:\\\\Shared drives\\\\SLab\\\\Multimode\\\\experiment\\\\250505_craqm\\\\data\\\\00010_SingleBeamSplitterRBPostSelection_sweep_depth.h5', 'H:\\\\Shared drives\\\\SLab\\\\Multimode\\\\experiment\\\\250505_craqm\\\\data\\\\00011_SingleBeamSplitterRBPostSelection_sweep_depth.h5', 'H:\\\\Shared drives\\\\SLab\\\\Multimode\\\\experiment\\\\250505_craqm\\\\data\\\\00012_SingleBeamSplitterRBPostSelection_sweep_depth.h5', 'H:\\\\Shared drives\\\\SLab\\\\Multimode\\\\experiment\\\\250505_craqm\\\\data\\\\00013_SingleBeamSplitterRBPostSelection_sweep_depth.h5', 'H:\\\\Shared drives\\\\SLab\\\\Multimode\\\\experiment\\\\250505_craqm\\\\data\\\\00014_SingleBeamSplitterRBPostSelection_sweep_depth.h5', 'H:\\\\Shared drives\\\\SLab\\\\Multimode\\\\experiment\\\\250505_craqm\\\\data\\\\00015_SingleBeamSplitterRBPostSelection_sweep_depth.h5', 'H:\\\\Shared drives\\\\SLab\\\\Multimode\\\\experiment\\\\250505_craqm\\\\data\\\\00016_SingleBeamSplitterRBPostSelection_sweep_depth.h5', 'H:\\\\Shared drives\\\\SLab\\\\Multimode\\\\experiment\\\\250505_craqm\\\\data\\\\00017_SingleBeamSplitterRBPostSelection_sweep_depth.h5', 'H:\\\\Shared drives\\\\SLab\\\\Multimode\\\\experiment\\\\250505_craqm\\\\data\\\\00018_SingleBeamSplitterRBPostSelection_sweep_depth.h5', 'H:\\\\Shared drives\\\\SLab\\\\Multimode\\\\experiment\\\\250505_craqm\\\\data\\\\00019_SingleBeamSplitterRBPostSelection_sweep_depth.h5', 'H:\\\\Shared drives\\\\SLab\\\\Multimode\\\\experiment\\\\250505_craqm\\\\data\\\\00020_SingleBeamSplitterRBPostSelection_sweep_depth.h5', 'H:\\\\Shared drives\\\\SLab\\\\Multimode\\\\experiment\\\\250505_craqm\\\\data\\\\00021_SingleBeamSplitterRBPostSelection_sweep_depth.h5', 'H:\\\\Shared drives\\\\SLab\\\\Multimode\\\\experiment\\\\250505_craqm\\\\data\\\\00022_SingleBeamSplitterRBPostSelection_sweep_depth.h5', 'H:\\\\Shared drives\\\\SLab\\\\Multimode\\\\experiment\\\\250505_craqm\\\\data\\\\00023_SingleBeamSplitterRBPostSelection_sweep_depth.h5', 'H:\\\\Shared drives\\\\SLab\\\\Multimode\\\\experiment\\\\250505_craqm\\\\data\\\\00024_SingleBeamSplitterRBPostSelection_sweep_depth.h5', 'H:\\\\Shared drives\\\\SLab\\\\Multimode\\\\experiment\\\\250505_craqm\\\\data\\\\00025_SingleBeamSplitterRBPostSelection_sweep_depth.h5', 'H:\\\\Shared drives\\\\SLab\\\\Multimode\\\\experiment\\\\250505_craqm\\\\data\\\\00026_SingleBeamSplitterRBPostSelection_sweep_depth.h5', 'H:\\\\Shared drives\\\\SLab\\\\Multimode\\\\experiment\\\\250505_craqm\\\\data\\\\00027_SingleBeamSplitterRBPostSelection_sweep_depth.h5', 'H:\\\\Shared drives\\\\SLab\\\\Multimode\\\\experiment\\\\250505_craqm\\\\data\\\\00028_SingleBeamSplitterRBPostSelection_sweep_depth.h5', 'H:\\\\Shared drives\\\\SLab\\\\Multimode\\\\experiment\\\\250505_craqm\\\\data\\\\00029_SingleBeamSplitterRBPostSelection_sweep_depth.h5', 'H:\\\\Shared drives\\\\SLab\\\\Multimode\\\\experiment\\\\250505_craqm\\\\data\\\\00030_SingleBeamSplitterRBPostSelection_sweep_depth.h5', 'H:\\\\Shared drives\\\\SLab\\\\Multimode\\\\experiment\\\\250505_craqm\\\\data\\\\00031_SingleBeamSplitterRBPostSelection_sweep_depth.h5', 'H:\\\\Shared drives\\\\SLab\\\\Multimode\\\\experiment\\\\250505_craqm\\\\data\\\\00032_SingleBeamSplitterRBPostSelection_sweep_depth.h5', 'H:\\\\Shared drives\\\\SLab\\\\Multimode\\\\experiment\\\\250505_craqm\\\\data\\\\00033_SingleBeamSplitterRBPostSelection_sweep_depth.h5', 'H:\\\\Shared drives\\\\SLab\\\\Multimode\\\\experiment\\\\250505_craqm\\\\data\\\\00034_SingleBeamSplitterRBPostSelection_sweep_depth.h5', 'H:\\\\Shared drives\\\\SLab\\\\Multimode\\\\experiment\\\\250505_craqm\\\\data\\\\00035_SingleBeamSplitterRBPostSelection_sweep_depth.h5', 'H:\\\\Shared drives\\\\SLab\\\\Multimode\\\\experiment\\\\250505_craqm\\\\data\\\\00036_SingleBeamSplitterRBPostSelection_sweep_depth.h5', 'H:\\\\Shared drives\\\\SLab\\\\Multimode\\\\experiment\\\\250505_craqm\\\\data\\\\00037_SingleBeamSplitterRBPostSelection_sweep_depth.h5', 'H:\\\\Shared drives\\\\SLab\\\\Multimode\\\\experiment\\\\250505_craqm\\\\data\\\\00038_SingleBeamSplitterRBPostSelection_sweep_depth.h5', 'H:\\\\Shared drives\\\\SLab\\\\Multimode\\\\experiment\\\\250505_craqm\\\\data\\\\00039_SingleBeamSplitterRBPostSelection_sweep_depth.h5', 'H:\\\\Shared drives\\\\SLab\\\\Multimode\\\\experiment\\\\250505_craqm\\\\data\\\\00040_SingleBeamSplitterRBPostSelection_sweep_depth.h5', 'H:\\\\Shared drives\\\\SLab\\\\Multimode\\\\experiment\\\\250505_craqm\\\\data\\\\00041_SingleBeamSplitterRBPostSelection_sweep_depth.h5', 'H:\\\\Shared drives\\\\SLab\\\\Multimode\\\\experiment\\\\250505_craqm\\\\data\\\\00042_SingleBeamSplitterRBPostSelection_sweep_depth.h5', 'H:\\\\Shared drives\\\\SLab\\\\Multimode\\\\experiment\\\\250505_craqm\\\\data\\\\00043_SingleBeamSplitterRBPostSelection_sweep_depth.h5', 'H:\\\\Shared drives\\\\SLab\\\\Multimode\\\\experiment\\\\250505_craqm\\\\data\\\\00044_SingleBeamSplitterRBPostSelection_sweep_depth.h5', 'H:\\\\Shared drives\\\\SLab\\\\Multimode\\\\experiment\\\\250505_craqm\\\\data\\\\00045_SingleBeamSplitterRBPostSelection_sweep_depth.h5', 'H:\\\\Shared drives\\\\SLab\\\\Multimode\\\\experiment\\\\250505_craqm\\\\data\\\\00046_SingleBeamSplitterRBPostSelection_sweep_depth.h5', 'H:\\\\Shared drives\\\\SLab\\\\Multimode\\\\experiment\\\\250505_craqm\\\\data\\\\00047_SingleBeamSplitterRBPostSelection_sweep_depth.h5', 'H:\\\\Shared drives\\\\SLab\\\\Multimode\\\\experiment\\\\250505_craqm\\\\data\\\\00048_SingleBeamSplitterRBPostSelection_sweep_depth.h5', 'H:\\\\Shared drives\\\\SLab\\\\Multimode\\\\experiment\\\\250505_craqm\\\\data\\\\00049_SingleBeamSplitterRBPostSelection_sweep_depth.h5', 'H:\\\\Shared drives\\\\SLab\\\\Multimode\\\\experiment\\\\250505_craqm\\\\data\\\\00050_SingleBeamSplitterRBPostSelection_sweep_depth.h5', 'H:\\\\Shared drives\\\\SLab\\\\Multimode\\\\experiment\\\\250505_craqm\\\\data\\\\00051_SingleBeamSplitterRBPostSelection_sweep_depth.h5', 'H:\\\\Shared drives\\\\SLab\\\\Multimode\\\\experiment\\\\250505_craqm\\\\data\\\\00052_SingleBeamSplitterRBPostSelection_sweep_depth.h5', 'H:\\\\Shared drives\\\\SLab\\\\Multimode\\\\experiment\\\\250505_craqm\\\\data\\\\00053_SingleBeamSplitterRBPostSelection_sweep_depth', 'H:\\\\Shared drives\\\\SLab\\\\Multimode\\\\experiment\\\\250505_craqm\\\\data\\\\00053_SingleBeamSplitterRBPostSelection_sweep_depth.h5', 'H:\\\\Shared drives\\\\SLab\\\\Multimode\\\\experiment\\\\250505_craqm\\\\data\\\\00054_SingleBeamSplitterRBPostSelection_sweep_depth', 'H:\\\\Shared drives\\\\SLab\\\\Multimode\\\\experiment\\\\250505_craqm\\\\data\\\\00054_SingleBeamSplitterRBPostSelection_sweep_depth.h5', 'H:\\\\Shared drives\\\\SLab\\\\Multimode\\\\experiment\\\\250505_craqm\\\\data\\\\00055_SingleBeamSplitterRBPostSelection_sweep_depth', 'H:\\\\Shared drives\\\\SLab\\\\Multimode\\\\experiment\\\\250505_craqm\\\\data\\\\00056_SingleBeamSplitterRBPostSelection_sweep_depth', 'H:\\\\Shared drives\\\\SLab\\\\Multimode\\\\experiment\\\\250505_craqm\\\\data\\\\00056_SingleBeamSplitterRBPostSelection_sweep_depth.h5']\n"
     ]
    },
    {
     "data": {
      "text/plain": [
       "['00000_SingleBeamSplitterRBPostSelection_sweep_depth.h5',\n",
       " '00001_SingleBeamSplitterRBPostSelection_sweep_depth.h5',\n",
       " '00002_SingleBeamSplitterRBPostSelection_sweep_depth.h5',\n",
       " '00003_SingleBeamSplitterRBPostSelection_sweep_depth.h5',\n",
       " '00004_SingleBeamSplitterRBPostSelection_sweep_depth.h5',\n",
       " '00005_SingleBeamSplitterRBPostSelection_sweep_depth.h5',\n",
       " '00006_SingleBeamSplitterRBPostSelection_sweep_depth.h5',\n",
       " '00007_SingleBeamSplitterRBPostSelection_sweep_depth.h5',\n",
       " '00008_SingleBeamSplitterRBPostSelection_sweep_depth.h5',\n",
       " '00009_SingleBeamSplitterRBPostSelection_sweep_depth.h5',\n",
       " '00010_SingleBeamSplitterRBPostSelection_sweep_depth.h5',\n",
       " '00011_SingleBeamSplitterRBPostSelection_sweep_depth.h5',\n",
       " '00012_SingleBeamSplitterRBPostSelection_sweep_depth.h5',\n",
       " '00013_SingleBeamSplitterRBPostSelection_sweep_depth.h5',\n",
       " '00014_SingleBeamSplitterRBPostSelection_sweep_depth.h5',\n",
       " '00015_SingleBeamSplitterRBPostSelection_sweep_depth.h5',\n",
       " '00016_SingleBeamSplitterRBPostSelection_sweep_depth.h5',\n",
       " '00017_SingleBeamSplitterRBPostSelection_sweep_depth.h5',\n",
       " '00018_SingleBeamSplitterRBPostSelection_sweep_depth.h5',\n",
       " '00019_SingleBeamSplitterRBPostSelection_sweep_depth.h5',\n",
       " '00020_SingleBeamSplitterRBPostSelection_sweep_depth.h5',\n",
       " '00021_SingleBeamSplitterRBPostSelection_sweep_depth.h5',\n",
       " '00022_SingleBeamSplitterRBPostSelection_sweep_depth.h5',\n",
       " '00023_SingleBeamSplitterRBPostSelection_sweep_depth.h5',\n",
       " '00024_SingleBeamSplitterRBPostSelection_sweep_depth.h5',\n",
       " '00025_SingleBeamSplitterRBPostSelection_sweep_depth.h5',\n",
       " '00026_SingleBeamSplitterRBPostSelection_sweep_depth.h5',\n",
       " '00027_SingleBeamSplitterRBPostSelection_sweep_depth.h5',\n",
       " '00028_SingleBeamSplitterRBPostSelection_sweep_depth.h5',\n",
       " '00029_SingleBeamSplitterRBPostSelection_sweep_depth.h5',\n",
       " '00030_SingleBeamSplitterRBPostSelection_sweep_depth.h5',\n",
       " '00031_SingleBeamSplitterRBPostSelection_sweep_depth.h5',\n",
       " '00032_SingleBeamSplitterRBPostSelection_sweep_depth.h5',\n",
       " '00033_SingleBeamSplitterRBPostSelection_sweep_depth.h5',\n",
       " '00034_SingleBeamSplitterRBPostSelection_sweep_depth.h5',\n",
       " '00035_SingleBeamSplitterRBPostSelection_sweep_depth.h5',\n",
       " '00036_SingleBeamSplitterRBPostSelection_sweep_depth.h5',\n",
       " '00037_SingleBeamSplitterRBPostSelection_sweep_depth.h5',\n",
       " '00038_SingleBeamSplitterRBPostSelection_sweep_depth.h5',\n",
       " '00039_SingleBeamSplitterRBPostSelection_sweep_depth.h5',\n",
       " '00040_SingleBeamSplitterRBPostSelection_sweep_depth.h5',\n",
       " '00041_SingleBeamSplitterRBPostSelection_sweep_depth.h5',\n",
       " '00042_SingleBeamSplitterRBPostSelection_sweep_depth.h5',\n",
       " '00043_SingleBeamSplitterRBPostSelection_sweep_depth.h5',\n",
       " '00044_SingleBeamSplitterRBPostSelection_sweep_depth.h5',\n",
       " '00045_SingleBeamSplitterRBPostSelection_sweep_depth.h5',\n",
       " '00046_SingleBeamSplitterRBPostSelection_sweep_depth.h5',\n",
       " '00047_SingleBeamSplitterRBPostSelection_sweep_depth.h5',\n",
       " '00048_SingleBeamSplitterRBPostSelection_sweep_depth.h5',\n",
       " '00049_SingleBeamSplitterRBPostSelection_sweep_depth.h5',\n",
       " '00050_SingleBeamSplitterRBPostSelection_sweep_depth.h5',\n",
       " '00051_SingleBeamSplitterRBPostSelection_sweep_depth.h5',\n",
       " '00052_SingleBeamSplitterRBPostSelection_sweep_depth.h5',\n",
       " '00053_SingleBeamSplitterRBPostSelection_sweep_depth',\n",
       " '00053_SingleBeamSplitterRBPostSelection_sweep_depth.h5',\n",
       " '00054_SingleBeamSplitterRBPostSelection_sweep_depth',\n",
       " '00054_SingleBeamSplitterRBPostSelection_sweep_depth.h5',\n",
       " '00055_SingleBeamSplitterRBPostSelection_sweep_depth',\n",
       " '00056_SingleBeamSplitterRBPostSelection_sweep_depth',\n",
       " '00056_SingleBeamSplitterRBPostSelection_sweep_depth.h5']"
      ]
     },
     "execution_count": 2,
     "metadata": {},
     "output_type": "execute_result"
    }
   ],
   "source": [
    "expt_path = 'H:\\\\Shared drives\\\\SLab\\\\Multimode\\\\experiment\\\\250505_craqm\\\\data'\n",
    "get_all_filenames(expt_path, prefix='SingleBeamSplitterRBPostSelection_sweep_depth')"
   ]
  },
  {
   "cell_type": "code",
   "execution_count": 3,
   "id": "71b71e4c",
   "metadata": {},
   "outputs": [
    {
     "name": "stdout",
     "output_type": "stream",
     "text": [
      "['H:\\\\Shared drives\\\\SLab\\\\Multimode\\\\experiment\\\\250505_craqm\\\\data\\\\00000_SingleBeamSplitterRBPostSelection_sweep_depth.h5', 'H:\\\\Shared drives\\\\SLab\\\\Multimode\\\\experiment\\\\250505_craqm\\\\data\\\\00001_SingleBeamSplitterRBPostSelection_sweep_depth.h5', 'H:\\\\Shared drives\\\\SLab\\\\Multimode\\\\experiment\\\\250505_craqm\\\\data\\\\00002_SingleBeamSplitterRBPostSelection_sweep_depth.h5', 'H:\\\\Shared drives\\\\SLab\\\\Multimode\\\\experiment\\\\250505_craqm\\\\data\\\\00003_SingleBeamSplitterRBPostSelection_sweep_depth.h5', 'H:\\\\Shared drives\\\\SLab\\\\Multimode\\\\experiment\\\\250505_craqm\\\\data\\\\00004_SingleBeamSplitterRBPostSelection_sweep_depth.h5', 'H:\\\\Shared drives\\\\SLab\\\\Multimode\\\\experiment\\\\250505_craqm\\\\data\\\\00005_SingleBeamSplitterRBPostSelection_sweep_depth.h5', 'H:\\\\Shared drives\\\\SLab\\\\Multimode\\\\experiment\\\\250505_craqm\\\\data\\\\00006_SingleBeamSplitterRBPostSelection_sweep_depth.h5', 'H:\\\\Shared drives\\\\SLab\\\\Multimode\\\\experiment\\\\250505_craqm\\\\data\\\\00007_SingleBeamSplitterRBPostSelection_sweep_depth.h5', 'H:\\\\Shared drives\\\\SLab\\\\Multimode\\\\experiment\\\\250505_craqm\\\\data\\\\00008_SingleBeamSplitterRBPostSelection_sweep_depth.h5', 'H:\\\\Shared drives\\\\SLab\\\\Multimode\\\\experiment\\\\250505_craqm\\\\data\\\\00009_SingleBeamSplitterRBPostSelection_sweep_depth.h5', 'H:\\\\Shared drives\\\\SLab\\\\Multimode\\\\experiment\\\\250505_craqm\\\\data\\\\00010_SingleBeamSplitterRBPostSelection_sweep_depth.h5', 'H:\\\\Shared drives\\\\SLab\\\\Multimode\\\\experiment\\\\250505_craqm\\\\data\\\\00011_SingleBeamSplitterRBPostSelection_sweep_depth.h5', 'H:\\\\Shared drives\\\\SLab\\\\Multimode\\\\experiment\\\\250505_craqm\\\\data\\\\00012_SingleBeamSplitterRBPostSelection_sweep_depth.h5', 'H:\\\\Shared drives\\\\SLab\\\\Multimode\\\\experiment\\\\250505_craqm\\\\data\\\\00013_SingleBeamSplitterRBPostSelection_sweep_depth.h5', 'H:\\\\Shared drives\\\\SLab\\\\Multimode\\\\experiment\\\\250505_craqm\\\\data\\\\00014_SingleBeamSplitterRBPostSelection_sweep_depth.h5', 'H:\\\\Shared drives\\\\SLab\\\\Multimode\\\\experiment\\\\250505_craqm\\\\data\\\\00015_SingleBeamSplitterRBPostSelection_sweep_depth.h5', 'H:\\\\Shared drives\\\\SLab\\\\Multimode\\\\experiment\\\\250505_craqm\\\\data\\\\00016_SingleBeamSplitterRBPostSelection_sweep_depth.h5', 'H:\\\\Shared drives\\\\SLab\\\\Multimode\\\\experiment\\\\250505_craqm\\\\data\\\\00017_SingleBeamSplitterRBPostSelection_sweep_depth.h5', 'H:\\\\Shared drives\\\\SLab\\\\Multimode\\\\experiment\\\\250505_craqm\\\\data\\\\00018_SingleBeamSplitterRBPostSelection_sweep_depth.h5', 'H:\\\\Shared drives\\\\SLab\\\\Multimode\\\\experiment\\\\250505_craqm\\\\data\\\\00019_SingleBeamSplitterRBPostSelection_sweep_depth.h5', 'H:\\\\Shared drives\\\\SLab\\\\Multimode\\\\experiment\\\\250505_craqm\\\\data\\\\00020_SingleBeamSplitterRBPostSelection_sweep_depth.h5', 'H:\\\\Shared drives\\\\SLab\\\\Multimode\\\\experiment\\\\250505_craqm\\\\data\\\\00021_SingleBeamSplitterRBPostSelection_sweep_depth.h5', 'H:\\\\Shared drives\\\\SLab\\\\Multimode\\\\experiment\\\\250505_craqm\\\\data\\\\00022_SingleBeamSplitterRBPostSelection_sweep_depth.h5', 'H:\\\\Shared drives\\\\SLab\\\\Multimode\\\\experiment\\\\250505_craqm\\\\data\\\\00023_SingleBeamSplitterRBPostSelection_sweep_depth.h5', 'H:\\\\Shared drives\\\\SLab\\\\Multimode\\\\experiment\\\\250505_craqm\\\\data\\\\00024_SingleBeamSplitterRBPostSelection_sweep_depth.h5', 'H:\\\\Shared drives\\\\SLab\\\\Multimode\\\\experiment\\\\250505_craqm\\\\data\\\\00025_SingleBeamSplitterRBPostSelection_sweep_depth.h5', 'H:\\\\Shared drives\\\\SLab\\\\Multimode\\\\experiment\\\\250505_craqm\\\\data\\\\00026_SingleBeamSplitterRBPostSelection_sweep_depth.h5', 'H:\\\\Shared drives\\\\SLab\\\\Multimode\\\\experiment\\\\250505_craqm\\\\data\\\\00027_SingleBeamSplitterRBPostSelection_sweep_depth.h5', 'H:\\\\Shared drives\\\\SLab\\\\Multimode\\\\experiment\\\\250505_craqm\\\\data\\\\00028_SingleBeamSplitterRBPostSelection_sweep_depth.h5', 'H:\\\\Shared drives\\\\SLab\\\\Multimode\\\\experiment\\\\250505_craqm\\\\data\\\\00029_SingleBeamSplitterRBPostSelection_sweep_depth.h5', 'H:\\\\Shared drives\\\\SLab\\\\Multimode\\\\experiment\\\\250505_craqm\\\\data\\\\00030_SingleBeamSplitterRBPostSelection_sweep_depth.h5', 'H:\\\\Shared drives\\\\SLab\\\\Multimode\\\\experiment\\\\250505_craqm\\\\data\\\\00031_SingleBeamSplitterRBPostSelection_sweep_depth.h5', 'H:\\\\Shared drives\\\\SLab\\\\Multimode\\\\experiment\\\\250505_craqm\\\\data\\\\00032_SingleBeamSplitterRBPostSelection_sweep_depth.h5', 'H:\\\\Shared drives\\\\SLab\\\\Multimode\\\\experiment\\\\250505_craqm\\\\data\\\\00033_SingleBeamSplitterRBPostSelection_sweep_depth.h5', 'H:\\\\Shared drives\\\\SLab\\\\Multimode\\\\experiment\\\\250505_craqm\\\\data\\\\00034_SingleBeamSplitterRBPostSelection_sweep_depth.h5', 'H:\\\\Shared drives\\\\SLab\\\\Multimode\\\\experiment\\\\250505_craqm\\\\data\\\\00035_SingleBeamSplitterRBPostSelection_sweep_depth.h5', 'H:\\\\Shared drives\\\\SLab\\\\Multimode\\\\experiment\\\\250505_craqm\\\\data\\\\00036_SingleBeamSplitterRBPostSelection_sweep_depth.h5', 'H:\\\\Shared drives\\\\SLab\\\\Multimode\\\\experiment\\\\250505_craqm\\\\data\\\\00037_SingleBeamSplitterRBPostSelection_sweep_depth.h5', 'H:\\\\Shared drives\\\\SLab\\\\Multimode\\\\experiment\\\\250505_craqm\\\\data\\\\00038_SingleBeamSplitterRBPostSelection_sweep_depth.h5', 'H:\\\\Shared drives\\\\SLab\\\\Multimode\\\\experiment\\\\250505_craqm\\\\data\\\\00039_SingleBeamSplitterRBPostSelection_sweep_depth.h5', 'H:\\\\Shared drives\\\\SLab\\\\Multimode\\\\experiment\\\\250505_craqm\\\\data\\\\00040_SingleBeamSplitterRBPostSelection_sweep_depth.h5', 'H:\\\\Shared drives\\\\SLab\\\\Multimode\\\\experiment\\\\250505_craqm\\\\data\\\\00041_SingleBeamSplitterRBPostSelection_sweep_depth.h5', 'H:\\\\Shared drives\\\\SLab\\\\Multimode\\\\experiment\\\\250505_craqm\\\\data\\\\00042_SingleBeamSplitterRBPostSelection_sweep_depth.h5', 'H:\\\\Shared drives\\\\SLab\\\\Multimode\\\\experiment\\\\250505_craqm\\\\data\\\\00043_SingleBeamSplitterRBPostSelection_sweep_depth.h5', 'H:\\\\Shared drives\\\\SLab\\\\Multimode\\\\experiment\\\\250505_craqm\\\\data\\\\00044_SingleBeamSplitterRBPostSelection_sweep_depth.h5', 'H:\\\\Shared drives\\\\SLab\\\\Multimode\\\\experiment\\\\250505_craqm\\\\data\\\\00045_SingleBeamSplitterRBPostSelection_sweep_depth.h5', 'H:\\\\Shared drives\\\\SLab\\\\Multimode\\\\experiment\\\\250505_craqm\\\\data\\\\00046_SingleBeamSplitterRBPostSelection_sweep_depth.h5', 'H:\\\\Shared drives\\\\SLab\\\\Multimode\\\\experiment\\\\250505_craqm\\\\data\\\\00047_SingleBeamSplitterRBPostSelection_sweep_depth.h5', 'H:\\\\Shared drives\\\\SLab\\\\Multimode\\\\experiment\\\\250505_craqm\\\\data\\\\00048_SingleBeamSplitterRBPostSelection_sweep_depth.h5', 'H:\\\\Shared drives\\\\SLab\\\\Multimode\\\\experiment\\\\250505_craqm\\\\data\\\\00049_SingleBeamSplitterRBPostSelection_sweep_depth.h5', 'H:\\\\Shared drives\\\\SLab\\\\Multimode\\\\experiment\\\\250505_craqm\\\\data\\\\00050_SingleBeamSplitterRBPostSelection_sweep_depth.h5', 'H:\\\\Shared drives\\\\SLab\\\\Multimode\\\\experiment\\\\250505_craqm\\\\data\\\\00051_SingleBeamSplitterRBPostSelection_sweep_depth.h5', 'H:\\\\Shared drives\\\\SLab\\\\Multimode\\\\experiment\\\\250505_craqm\\\\data\\\\00052_SingleBeamSplitterRBPostSelection_sweep_depth.h5', 'H:\\\\Shared drives\\\\SLab\\\\Multimode\\\\experiment\\\\250505_craqm\\\\data\\\\00053_SingleBeamSplitterRBPostSelection_sweep_depth', 'H:\\\\Shared drives\\\\SLab\\\\Multimode\\\\experiment\\\\250505_craqm\\\\data\\\\00053_SingleBeamSplitterRBPostSelection_sweep_depth.h5', 'H:\\\\Shared drives\\\\SLab\\\\Multimode\\\\experiment\\\\250505_craqm\\\\data\\\\00054_SingleBeamSplitterRBPostSelection_sweep_depth', 'H:\\\\Shared drives\\\\SLab\\\\Multimode\\\\experiment\\\\250505_craqm\\\\data\\\\00054_SingleBeamSplitterRBPostSelection_sweep_depth.h5', 'H:\\\\Shared drives\\\\SLab\\\\Multimode\\\\experiment\\\\250505_craqm\\\\data\\\\00055_SingleBeamSplitterRBPostSelection_sweep_depth', 'H:\\\\Shared drives\\\\SLab\\\\Multimode\\\\experiment\\\\250505_craqm\\\\data\\\\00056_SingleBeamSplitterRBPostSelection_sweep_depth', 'H:\\\\Shared drives\\\\SLab\\\\Multimode\\\\experiment\\\\250505_craqm\\\\data\\\\00056_SingleBeamSplitterRBPostSelection_sweep_depth.h5']\n"
     ]
    },
    {
     "data": {
      "text/plain": [
       "'00056_SingleBeamSplitterRBPostSelection_sweep_depth'"
      ]
     },
     "execution_count": 3,
     "metadata": {},
     "output_type": "execute_result"
    }
   ],
   "source": [
    "get_current_filename(expt_path,'SingleBeamSplitterRBPostSelection_sweep_depth')"
   ]
  },
  {
   "cell_type": "code",
   "execution_count": 4,
   "id": "4a0c8ab7",
   "metadata": {},
   "outputs": [
    {
     "name": "stdout",
     "output_type": "stream",
     "text": [
      "['H:\\\\Shared drives\\\\SLab\\\\Multimode\\\\experiment\\\\250505_craqm\\\\data\\\\00000_SingleBeamSplitterRBPostSelection_sweep_depth.h5', 'H:\\\\Shared drives\\\\SLab\\\\Multimode\\\\experiment\\\\250505_craqm\\\\data\\\\00001_SingleBeamSplitterRBPostSelection_sweep_depth.h5', 'H:\\\\Shared drives\\\\SLab\\\\Multimode\\\\experiment\\\\250505_craqm\\\\data\\\\00002_SingleBeamSplitterRBPostSelection_sweep_depth.h5', 'H:\\\\Shared drives\\\\SLab\\\\Multimode\\\\experiment\\\\250505_craqm\\\\data\\\\00003_SingleBeamSplitterRBPostSelection_sweep_depth.h5', 'H:\\\\Shared drives\\\\SLab\\\\Multimode\\\\experiment\\\\250505_craqm\\\\data\\\\00004_SingleBeamSplitterRBPostSelection_sweep_depth.h5', 'H:\\\\Shared drives\\\\SLab\\\\Multimode\\\\experiment\\\\250505_craqm\\\\data\\\\00005_SingleBeamSplitterRBPostSelection_sweep_depth.h5', 'H:\\\\Shared drives\\\\SLab\\\\Multimode\\\\experiment\\\\250505_craqm\\\\data\\\\00006_SingleBeamSplitterRBPostSelection_sweep_depth.h5', 'H:\\\\Shared drives\\\\SLab\\\\Multimode\\\\experiment\\\\250505_craqm\\\\data\\\\00007_SingleBeamSplitterRBPostSelection_sweep_depth.h5', 'H:\\\\Shared drives\\\\SLab\\\\Multimode\\\\experiment\\\\250505_craqm\\\\data\\\\00008_SingleBeamSplitterRBPostSelection_sweep_depth.h5', 'H:\\\\Shared drives\\\\SLab\\\\Multimode\\\\experiment\\\\250505_craqm\\\\data\\\\00009_SingleBeamSplitterRBPostSelection_sweep_depth.h5', 'H:\\\\Shared drives\\\\SLab\\\\Multimode\\\\experiment\\\\250505_craqm\\\\data\\\\00010_SingleBeamSplitterRBPostSelection_sweep_depth.h5', 'H:\\\\Shared drives\\\\SLab\\\\Multimode\\\\experiment\\\\250505_craqm\\\\data\\\\00011_SingleBeamSplitterRBPostSelection_sweep_depth.h5', 'H:\\\\Shared drives\\\\SLab\\\\Multimode\\\\experiment\\\\250505_craqm\\\\data\\\\00012_SingleBeamSplitterRBPostSelection_sweep_depth.h5', 'H:\\\\Shared drives\\\\SLab\\\\Multimode\\\\experiment\\\\250505_craqm\\\\data\\\\00013_SingleBeamSplitterRBPostSelection_sweep_depth.h5', 'H:\\\\Shared drives\\\\SLab\\\\Multimode\\\\experiment\\\\250505_craqm\\\\data\\\\00014_SingleBeamSplitterRBPostSelection_sweep_depth.h5', 'H:\\\\Shared drives\\\\SLab\\\\Multimode\\\\experiment\\\\250505_craqm\\\\data\\\\00015_SingleBeamSplitterRBPostSelection_sweep_depth.h5', 'H:\\\\Shared drives\\\\SLab\\\\Multimode\\\\experiment\\\\250505_craqm\\\\data\\\\00016_SingleBeamSplitterRBPostSelection_sweep_depth.h5', 'H:\\\\Shared drives\\\\SLab\\\\Multimode\\\\experiment\\\\250505_craqm\\\\data\\\\00017_SingleBeamSplitterRBPostSelection_sweep_depth.h5', 'H:\\\\Shared drives\\\\SLab\\\\Multimode\\\\experiment\\\\250505_craqm\\\\data\\\\00018_SingleBeamSplitterRBPostSelection_sweep_depth.h5', 'H:\\\\Shared drives\\\\SLab\\\\Multimode\\\\experiment\\\\250505_craqm\\\\data\\\\00019_SingleBeamSplitterRBPostSelection_sweep_depth.h5', 'H:\\\\Shared drives\\\\SLab\\\\Multimode\\\\experiment\\\\250505_craqm\\\\data\\\\00020_SingleBeamSplitterRBPostSelection_sweep_depth.h5', 'H:\\\\Shared drives\\\\SLab\\\\Multimode\\\\experiment\\\\250505_craqm\\\\data\\\\00021_SingleBeamSplitterRBPostSelection_sweep_depth.h5', 'H:\\\\Shared drives\\\\SLab\\\\Multimode\\\\experiment\\\\250505_craqm\\\\data\\\\00022_SingleBeamSplitterRBPostSelection_sweep_depth.h5', 'H:\\\\Shared drives\\\\SLab\\\\Multimode\\\\experiment\\\\250505_craqm\\\\data\\\\00023_SingleBeamSplitterRBPostSelection_sweep_depth.h5', 'H:\\\\Shared drives\\\\SLab\\\\Multimode\\\\experiment\\\\250505_craqm\\\\data\\\\00024_SingleBeamSplitterRBPostSelection_sweep_depth.h5', 'H:\\\\Shared drives\\\\SLab\\\\Multimode\\\\experiment\\\\250505_craqm\\\\data\\\\00025_SingleBeamSplitterRBPostSelection_sweep_depth.h5', 'H:\\\\Shared drives\\\\SLab\\\\Multimode\\\\experiment\\\\250505_craqm\\\\data\\\\00026_SingleBeamSplitterRBPostSelection_sweep_depth.h5', 'H:\\\\Shared drives\\\\SLab\\\\Multimode\\\\experiment\\\\250505_craqm\\\\data\\\\00027_SingleBeamSplitterRBPostSelection_sweep_depth.h5', 'H:\\\\Shared drives\\\\SLab\\\\Multimode\\\\experiment\\\\250505_craqm\\\\data\\\\00028_SingleBeamSplitterRBPostSelection_sweep_depth.h5', 'H:\\\\Shared drives\\\\SLab\\\\Multimode\\\\experiment\\\\250505_craqm\\\\data\\\\00029_SingleBeamSplitterRBPostSelection_sweep_depth.h5', 'H:\\\\Shared drives\\\\SLab\\\\Multimode\\\\experiment\\\\250505_craqm\\\\data\\\\00030_SingleBeamSplitterRBPostSelection_sweep_depth.h5', 'H:\\\\Shared drives\\\\SLab\\\\Multimode\\\\experiment\\\\250505_craqm\\\\data\\\\00031_SingleBeamSplitterRBPostSelection_sweep_depth.h5', 'H:\\\\Shared drives\\\\SLab\\\\Multimode\\\\experiment\\\\250505_craqm\\\\data\\\\00032_SingleBeamSplitterRBPostSelection_sweep_depth.h5', 'H:\\\\Shared drives\\\\SLab\\\\Multimode\\\\experiment\\\\250505_craqm\\\\data\\\\00033_SingleBeamSplitterRBPostSelection_sweep_depth.h5', 'H:\\\\Shared drives\\\\SLab\\\\Multimode\\\\experiment\\\\250505_craqm\\\\data\\\\00034_SingleBeamSplitterRBPostSelection_sweep_depth.h5', 'H:\\\\Shared drives\\\\SLab\\\\Multimode\\\\experiment\\\\250505_craqm\\\\data\\\\00035_SingleBeamSplitterRBPostSelection_sweep_depth.h5', 'H:\\\\Shared drives\\\\SLab\\\\Multimode\\\\experiment\\\\250505_craqm\\\\data\\\\00036_SingleBeamSplitterRBPostSelection_sweep_depth.h5', 'H:\\\\Shared drives\\\\SLab\\\\Multimode\\\\experiment\\\\250505_craqm\\\\data\\\\00037_SingleBeamSplitterRBPostSelection_sweep_depth.h5', 'H:\\\\Shared drives\\\\SLab\\\\Multimode\\\\experiment\\\\250505_craqm\\\\data\\\\00038_SingleBeamSplitterRBPostSelection_sweep_depth.h5', 'H:\\\\Shared drives\\\\SLab\\\\Multimode\\\\experiment\\\\250505_craqm\\\\data\\\\00039_SingleBeamSplitterRBPostSelection_sweep_depth.h5', 'H:\\\\Shared drives\\\\SLab\\\\Multimode\\\\experiment\\\\250505_craqm\\\\data\\\\00040_SingleBeamSplitterRBPostSelection_sweep_depth.h5', 'H:\\\\Shared drives\\\\SLab\\\\Multimode\\\\experiment\\\\250505_craqm\\\\data\\\\00041_SingleBeamSplitterRBPostSelection_sweep_depth.h5', 'H:\\\\Shared drives\\\\SLab\\\\Multimode\\\\experiment\\\\250505_craqm\\\\data\\\\00042_SingleBeamSplitterRBPostSelection_sweep_depth.h5', 'H:\\\\Shared drives\\\\SLab\\\\Multimode\\\\experiment\\\\250505_craqm\\\\data\\\\00043_SingleBeamSplitterRBPostSelection_sweep_depth.h5', 'H:\\\\Shared drives\\\\SLab\\\\Multimode\\\\experiment\\\\250505_craqm\\\\data\\\\00044_SingleBeamSplitterRBPostSelection_sweep_depth.h5', 'H:\\\\Shared drives\\\\SLab\\\\Multimode\\\\experiment\\\\250505_craqm\\\\data\\\\00045_SingleBeamSplitterRBPostSelection_sweep_depth.h5', 'H:\\\\Shared drives\\\\SLab\\\\Multimode\\\\experiment\\\\250505_craqm\\\\data\\\\00046_SingleBeamSplitterRBPostSelection_sweep_depth.h5', 'H:\\\\Shared drives\\\\SLab\\\\Multimode\\\\experiment\\\\250505_craqm\\\\data\\\\00047_SingleBeamSplitterRBPostSelection_sweep_depth.h5', 'H:\\\\Shared drives\\\\SLab\\\\Multimode\\\\experiment\\\\250505_craqm\\\\data\\\\00048_SingleBeamSplitterRBPostSelection_sweep_depth.h5', 'H:\\\\Shared drives\\\\SLab\\\\Multimode\\\\experiment\\\\250505_craqm\\\\data\\\\00049_SingleBeamSplitterRBPostSelection_sweep_depth.h5', 'H:\\\\Shared drives\\\\SLab\\\\Multimode\\\\experiment\\\\250505_craqm\\\\data\\\\00050_SingleBeamSplitterRBPostSelection_sweep_depth.h5', 'H:\\\\Shared drives\\\\SLab\\\\Multimode\\\\experiment\\\\250505_craqm\\\\data\\\\00051_SingleBeamSplitterRBPostSelection_sweep_depth.h5', 'H:\\\\Shared drives\\\\SLab\\\\Multimode\\\\experiment\\\\250505_craqm\\\\data\\\\00052_SingleBeamSplitterRBPostSelection_sweep_depth.h5', 'H:\\\\Shared drives\\\\SLab\\\\Multimode\\\\experiment\\\\250505_craqm\\\\data\\\\00053_SingleBeamSplitterRBPostSelection_sweep_depth', 'H:\\\\Shared drives\\\\SLab\\\\Multimode\\\\experiment\\\\250505_craqm\\\\data\\\\00053_SingleBeamSplitterRBPostSelection_sweep_depth.h5', 'H:\\\\Shared drives\\\\SLab\\\\Multimode\\\\experiment\\\\250505_craqm\\\\data\\\\00054_SingleBeamSplitterRBPostSelection_sweep_depth', 'H:\\\\Shared drives\\\\SLab\\\\Multimode\\\\experiment\\\\250505_craqm\\\\data\\\\00054_SingleBeamSplitterRBPostSelection_sweep_depth.h5', 'H:\\\\Shared drives\\\\SLab\\\\Multimode\\\\experiment\\\\250505_craqm\\\\data\\\\00055_SingleBeamSplitterRBPostSelection_sweep_depth', 'H:\\\\Shared drives\\\\SLab\\\\Multimode\\\\experiment\\\\250505_craqm\\\\data\\\\00056_SingleBeamSplitterRBPostSelection_sweep_depth', 'H:\\\\Shared drives\\\\SLab\\\\Multimode\\\\experiment\\\\250505_craqm\\\\data\\\\00056_SingleBeamSplitterRBPostSelection_sweep_depth.h5']\n"
     ]
    },
    {
     "data": {
      "text/plain": [
       "56"
      ]
     },
     "execution_count": 4,
     "metadata": {},
     "output_type": "execute_result"
    }
   ],
   "source": [
    "current_file_index(expt_path, 'SingleBeamSplitterRBPostSelection_sweep_depth')"
   ]
  },
  {
   "cell_type": "code",
   "execution_count": null,
   "id": "aeb737d3",
   "metadata": {},
   "outputs": [],
   "source": []
  }
 ],
 "metadata": {
  "kernelspec": {
   "display_name": "slab",
   "language": "python",
   "name": "python3"
  },
  "language_info": {
   "codemirror_mode": {
    "name": "ipython",
    "version": 3
   },
   "file_extension": ".py",
   "mimetype": "text/x-python",
   "name": "python",
   "nbconvert_exporter": "python",
   "pygments_lexer": "ipython3",
   "version": "3.8.17"
  }
 },
 "nbformat": 4,
 "nbformat_minor": 5
}
