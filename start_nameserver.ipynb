{
 "cells": [
  {
   "cell_type": "code",
   "execution_count": 1,
   "id": "7de01aff",
   "metadata": {},
   "outputs": [
    {
     "name": "stdout",
     "output_type": "stream",
     "text": [
      "Broadcast server running on 0.0.0.0:9091\n",
      "NS running on 0.0.0.0:9090 (0.0.0.0)\n",
      "Warning: HMAC key not set. Anyone can connect to this server!\n",
      "URI = PYRO:Pyro.NameServer@0.0.0.0:9090\n",
      "NS shut down.\n"
     ]
    }
   ],
   "source": [
    "import Pyro4\n",
    "import Pyro4.naming\n",
    "\n",
    "def start_nameserver(ns_port=8888):\n",
    "    \"\"\"Starts a Pyro4 nameserver that listens on all network interfaces.\n",
    "\n",
    "    Parameters\n",
    "    ----------\n",
    "    ns_port : int\n",
    "        the port number for the nameserver to listen on\n",
    "\n",
    "    Returns\n",
    "    -------\n",
    "    \"\"\"\n",
    "    Pyro4.config.SERIALIZERS_ACCEPTED = set(['pickle'])\n",
    "    Pyro4.config.PICKLE_PROTOCOL_VERSION=4\n",
    "    Pyro4.naming.startNSloop(host='0.0.0.0', port=ns_port)\n",
    "\n",
    "start_nameserver(ns_port=9090)\n"
   ]
  },
  {
   "cell_type": "code",
   "execution_count": null,
   "id": "e2e9cb6f",
   "metadata": {},
   "outputs": [],
   "source": []
  }
 ],
 "metadata": {
  "kernelspec": {
   "display_name": "slab",
   "language": "python",
   "name": "python3"
  },
  "language_info": {
   "codemirror_mode": {
    "name": "ipython",
    "version": 3
   },
   "file_extension": ".py",
   "mimetype": "text/x-python",
   "name": "python",
   "nbconvert_exporter": "python",
   "pygments_lexer": "ipython3",
   "version": "3.8.17"
  }
 },
 "nbformat": 4,
 "nbformat_minor": 5
}
