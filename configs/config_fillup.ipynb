{
 "cells": [
  {
   "cell_type": "markdown",
   "id": "3f6917b7",
   "metadata": {},
   "source": [
    "# I want to populate multiphoton config"
   ]
  },
  {
   "cell_type": "markdown",
   "id": "00fcd7cc",
   "metadata": {},
   "source": [
    "[]"
   ]
  },
  {
   "cell_type": "code",
   "execution_count": null,
   "id": "1bd82811",
   "metadata": {},
   "outputs": [],
   "source": []
  },
  {
   "cell_type": "code",
   "execution_count": 5,
   "id": "1ab8217f",
   "metadata": {},
   "outputs": [
    {
     "data": {
      "text/plain": [
       "{'pi_g0-e0': {'frequency': 3567.348089,\n",
       "  'gain': 10387,\n",
       "  'length': 0,\n",
       "  'sigma': 0.035,\n",
       "  'type': 'gauss'},\n",
       " 'hpi_g0-e0': {'frequency': 3567.348089,\n",
       "  'gain': 4728,\n",
       "  'length': 0,\n",
       "  'sigma': 0.035,\n",
       "  'type': 'gauss'},\n",
       " 'pi_g1-e1': {'frequency': 3567.055708,\n",
       "  'gain': 10167,\n",
       "  'length': 0,\n",
       "  'sigma': 0.035,\n",
       "  'type': 'gauss'},\n",
       " 'hpi_g1-e1': {'frequency': 3567.055708,\n",
       "  'gain': 4648,\n",
       "  'length': 0,\n",
       "  'sigma': 0.035,\n",
       "  'type': 'gauss'},\n",
       " 'pi_e0-f0': {'frequency': 3423.986852,\n",
       "  'gain': 8221,\n",
       "  'length': 0,\n",
       "  'sigma': 0.035,\n",
       "  'type': 'gauss'},\n",
       " 'hpi_e0-f0': {'frequency': 3423.986852,\n",
       "  'gain': 3858,\n",
       "  'length': 0,\n",
       "  'sigma': 0.035,\n",
       "  'type': 'gauss'},\n",
       " 'pi_e1-f1': {'frequency': 3423.724467,\n",
       "  'gain': 8276,\n",
       "  'length': 0,\n",
       "  'sigma': 0.035,\n",
       "  'type': 'gauss'},\n",
       " 'hpi_e1-f1': {'frequency': 3423.724467,\n",
       "  'gain': 3859,\n",
       "  'length': 0,\n",
       "  'sigma': 0.035,\n",
       "  'type': 'gauss'},\n",
       " 'pi_f0-g1': {'frequency': 2005.9,\n",
       "  'gain': 15000,\n",
       "  'length': 1.082052142,\n",
       "  'sigma': 0.005,\n",
       "  'type': 'flat_top'},\n",
       " 'pi_f1-g2': {'frequency': 2005.32,\n",
       "  'gain': 15000,\n",
       "  'length': 0.762198579,\n",
       "  'sigma': 0.005,\n",
       "  'type': 'flat_top'}}"
      ]
     },
     "execution_count": 5,
     "metadata": {},
     "output_type": "execute_result"
    }
   ],
   "source": [
    "# [pulse name, transition name, frequency, , gain, length , sigma, type , ]\n",
    "\n",
    "pulses = [\n",
    "['pi', 'g0-e0', \t3567.348089, \t10387, 0, 0.035, 'gauss' ],\n",
    "['hpi', 'g0-e0', \t3567.348089, \t4728, 0, 0.035, 'gauss' ],\n",
    "['pi', 'g1-e1', 3567.055708, 10167,  0, 0.035, 'gauss'],\n",
    "['hpi','g1-e1', 3567.055708, 4648,  0, 0.035, 'gauss'],\n",
    "['pi', 'e0-f0', 3423.986852, 8221, 0, 0.035, 'gauss'],\n",
    "['hpi', 'e0-f0', 3423.986852, 3858, 0, 0.035, 'gauss'],\n",
    "['pi', 'e1-f1', 3423.724467, 8276, 0, 0.035, 'gauss'],\n",
    "['hpi', 'e1-f1', 3423.724467, 3859, 0, 0.035, 'gauss'],\n",
    "['pi', 'f0-g1', 2005.9, 15000,  1.082052142, 0.005, 'flat_top'],\n",
    "['pi', 'f1-g2', 2005.32, 15000,  0.762198579, 0.005, 'flat_top'],]\n",
    "\n",
    "# conver this to a dictionary with the following structure : \n",
    "# pulses: \n",
    "#  <pulse name>_<transition name>:\n",
    "#       frequency: <frequency>\n",
    "#       gain: <gain>\n",
    "#       length: <length>\n",
    "#       sigma: <sigma>\n",
    "#        type: <type>\n",
    "#  <pulse name>_<transition name>:\n",
    "# ...\n",
    "pulse_dict = {}\n",
    "for pulse in pulses:\n",
    "    pulse_name, transition_name, frequency, gain, length, sigma, pulse_type = pulse\n",
    "    key = f\"{pulse_name}_{transition_name}\"\n",
    "    pulse_dict[key] = {\n",
    "        \"frequency\": frequency,\n",
    "        \"gain\": gain,\n",
    "        \"length\": length,\n",
    "        \"sigma\": sigma,\n",
    "        \"type\": pulse_type\n",
    "    }\n",
    "# pulse_dict now contains the desired structure\n",
    "\n",
    "pulse_dict"
   ]
  },
  {
   "cell_type": "code",
   "execution_count": 6,
   "id": "48e5db73",
   "metadata": {},
   "outputs": [],
   "source": [
    "import yaml\n",
    "\n",
    "with open('multiphoton_config.yml', 'w') as f:\n",
    "    yaml.dump({'pulses': pulse_dict}, f, default_flow_style=False)"
   ]
  },
  {
   "cell_type": "code",
   "execution_count": null,
   "id": "a0e6bc33",
   "metadata": {},
   "outputs": [],
   "source": []
  }
 ],
 "metadata": {
  "kernelspec": {
   "display_name": "slab",
   "language": "python",
   "name": "python3"
  },
  "language_info": {
   "codemirror_mode": {
    "name": "ipython",
    "version": 3
   },
   "file_extension": ".py",
   "mimetype": "text/x-python",
   "name": "python",
   "nbconvert_exporter": "python",
   "pygments_lexer": "ipython3",
   "version": "3.8.17"
  }
 },
 "nbformat": 4,
 "nbformat_minor": 5
}
