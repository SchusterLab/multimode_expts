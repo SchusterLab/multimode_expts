{
 "cells": [
  {
   "cell_type": "markdown",
   "metadata": {},
   "source": [
    "# Import"
   ]
  },
  {
   "cell_type": "code",
   "execution_count": 1,
   "metadata": {},
   "outputs": [
    {
     "name": "stdout",
     "output_type": "stream",
     "text": [
      "Warning serial library import failed.\n",
      "Could not load InstrumentManagerWindow\n",
      "Could not import QickInstrument, try install qick package\n",
      "Could not load AD5780 dac \n",
      "Could not load labbrick\n",
      "Could not load Autonics TM4 Driver\n"
     ]
    }
   ],
   "source": [
    "%load_ext autoreload\n",
    "%autoreload 2\n",
    "\n",
    "import numpy as np\n",
    "import matplotlib.pyplot as plt\n",
    "\n",
    "from qick import *\n",
    "from qick.helpers import gauss\n",
    "from tqdm import tqdm_notebook as tqdm\n",
    "\n",
    "import time\n",
    "import os\n",
    "import sys\n",
    "sys.path.append('/home/xilinx/jupyter_notebooks/')\n",
    "sys.path.append('C:\\\\_Lib\\\\python\\\\rfsoc\\\\rfsoc_multimode\\\\example_expts')\n",
    "# sys.path.append('C:\\\\_Lib\\\\python\\\\multimode')\n",
    "import scipy as sp\n",
    "import json\n",
    "from scipy.fft import fft, fftfreq\n",
    "\n",
    "from slab.instruments import *\n",
    "from slab.experiment import Experiment\n",
    "from slab.datamanagement import SlabFile\n",
    "from slab import get_next_filename, get_current_filename, AttrDict\n",
    "\n",
    "# Figure params\n",
    "plt.rcParams['figure.figsize'] = [10,6]\n",
    "plt.rcParams.update({'font.size': 14})"
   ]
  },
  {
   "cell_type": "code",
   "execution_count": 2,
   "metadata": {},
   "outputs": [
    {
     "name": "stdout",
     "output_type": "stream",
     "text": [
      "path:  H:\\Shared drives\\SLab\\Multimode\\experiment\\250505_qsim\n"
     ]
    }
   ],
   "source": [
    "import json\n",
    "import os\n",
    "# path = os.getcwd()\n",
    "path = r'H:\\Shared drives\\SLab\\Multimode\\experiment\\250505_qsim' # for data \n",
    "print(\"path: \", path)"
   ]
  },
  {
   "cell_type": "markdown",
   "metadata": {},
   "source": [
    "# Setup experiment hardware"
   ]
  },
  {
   "cell_type": "code",
   "execution_count": 3,
   "metadata": {},
   "outputs": [
    {
     "name": "stdout",
     "output_type": "stream",
     "text": [
      "Data will be stored in H:\\Shared drives\\SLab\\Multimode\\experiment\\250505_qsim\\data\n"
     ]
    }
   ],
   "source": [
    "expt_path=path+'\\\\data'\n",
    "\n",
    "print('Data will be stored in', expt_path)"
   ]
  },
  {
   "cell_type": "code",
   "execution_count": 4,
   "metadata": {
    "editable": true,
    "slideshow": {
     "slide_type": ""
    },
    "tags": []
   },
   "outputs": [
    {
     "name": "stdout",
     "output_type": "stream",
     "text": [
      "Config will be C:\\_Lib\\python\\multimode_expts\\configs\\hardware_config_202505.yml\n",
      "Exp Param will be C:\\_Lib\\python\\multimode_expts\\configs\\experiment_config.yml\n"
     ]
    }
   ],
   "source": [
    "curr_path = os.getcwd()\n",
    "# config_file = curr_path+'\\\\configs\\\\config_rfsoc_ziqian.yml'\n",
    "config_file = curr_path+'\\\\configs\\\\hardware_config_202505.yml'\n",
    "config_path = config_file\n",
    "print('Config will be', config_path)\n",
    "\n",
    "exp_param_file = curr_path+'\\\\configs\\\\experiment_config.yml'\n",
    "exp_param_path = exp_param_file\n",
    "print('Exp Param will be', exp_param_path)"
   ]
  },
  {
   "cell_type": "code",
   "execution_count": 5,
   "metadata": {},
   "outputs": [],
   "source": [
    "qubit_i = 0\n",
    "import yaml\n",
    "with open(config_file, 'r') as cfg_file:\n",
    "    yaml_cfg = yaml.safe_load(cfg_file)\n",
    "yaml_cfg = AttrDict(yaml_cfg)"
   ]
  },
  {
   "cell_type": "code",
   "execution_count": 6,
   "metadata": {
    "editable": true,
    "slideshow": {
     "slide_type": ""
    },
    "tags": []
   },
   "outputs": [],
   "source": [
    "im = InstrumentManager(ns_address='192.168.137.25') # SLAC lab"
   ]
  },
  {
   "cell_type": "code",
   "execution_count": 7,
   "metadata": {},
   "outputs": [
    {
     "data": {
      "text/plain": [
       "dict_keys(['Pyro.NameServer', 'Qick101'])"
      ]
     },
     "execution_count": 7,
     "metadata": {},
     "output_type": "execute_result"
    }
   ],
   "source": [
    "im.keys()"
   ]
  },
  {
   "cell_type": "code",
   "execution_count": 8,
   "metadata": {},
   "outputs": [
    {
     "name": "stdout",
     "output_type": "stream",
     "text": [
      "<Pyro4.core.Proxy at 0x24aec4aaca0; not connected; for PYRO:obj_b1fb9a98023442aeb3457fa66b760e6a@192.168.137.101:40115>\n"
     ]
    }
   ],
   "source": [
    "print(im['Qick101'])"
   ]
  },
  {
   "cell_type": "code",
   "execution_count": 9,
   "metadata": {},
   "outputs": [
    {
     "name": "stdout",
     "output_type": "stream",
     "text": [
      "\n",
      "QICK configuration:\n",
      "\n",
      "\tBoard: ZCU216\n",
      "\n",
      "\tSoftware version: 0.2.180\n",
      "\tFirmware timestamp: Tue Oct 15 12:06:51 2024\n",
      "\n",
      "\tGlobal clocks (MHz): tProcessor 430.080, RF reference 245.760\n",
      "\n",
      "\t7 signal generator channels:\n",
      "\t0:\taxis_signal_gen_v6 - tProc output 0, envelope memory 32768 samples\n",
      "\t\tDAC tile 2, blk 0, 32-bit DDS, fabric=399.360 MHz, f_dds=6389.760 MHz\n",
      "\t1:\taxis_signal_gen_v6 - tProc output 1, envelope memory 32768 samples\n",
      "\t\tDAC tile 2, blk 1, 32-bit DDS, fabric=399.360 MHz, f_dds=6389.760 MHz\n",
      "\t2:\taxis_signal_gen_v6 - tProc output 2, envelope memory 32768 samples\n",
      "\t\tDAC tile 2, blk 2, 32-bit DDS, fabric=399.360 MHz, f_dds=6389.760 MHz\n",
      "\t3:\taxis_signal_gen_v6 - tProc output 3, envelope memory 32768 samples\n",
      "\t\tDAC tile 2, blk 3, 32-bit DDS, fabric=399.360 MHz, f_dds=6389.760 MHz\n",
      "\t4:\taxis_signal_gen_v6 - tProc output 4, envelope memory 32768 samples\n",
      "\t\tDAC tile 3, blk 0, 32-bit DDS, fabric=430.080 MHz, f_dds=6881.280 MHz\n",
      "\t5:\taxis_signal_gen_v6 - tProc output 5, envelope memory 32768 samples\n",
      "\t\tDAC tile 3, blk 1, 32-bit DDS, fabric=430.080 MHz, f_dds=6881.280 MHz\n",
      "\t6:\taxis_sg_mux4_v2 - tProc output 6, envelope memory 0 samples\n",
      "\t\tDAC tile 0, blk 0, 32-bit DDS, fabric=430.080 MHz, f_dds=1720.320 MHz\n",
      "\n",
      "\t4 constant-IQ outputs:\n",
      "\t0:\tDAC tile 1, blk 0, fs=6881.280 MHz\n",
      "\t1:\tDAC tile 1, blk 1, fs=6881.280 MHz\n",
      "\t2:\tDAC tile 1, blk 2, fs=6881.280 MHz\n",
      "\t3:\tDAC tile 1, blk 3, fs=6881.280 MHz\n",
      "\n",
      "\t4 readout channels:\n",
      "\t0:\taxis_pfb_readout_v2 - controlled by PYNQ\n",
      "\t\tADC tile 2, blk 0, 35-bit DDS, fabric=307.200 MHz, fs=2457.600 MHz\n",
      "\t\tmaxlen 16384 (avg) 1024 (decimated)\n",
      "\t\ttriggered by output 7, pin 8, feedback to tProc input 0\n",
      "\t1:\taxis_pfb_readout_v2 - controlled by PYNQ\n",
      "\t\tADC tile 2, blk 0, 35-bit DDS, fabric=307.200 MHz, fs=2457.600 MHz\n",
      "\t\tmaxlen 16384 (avg) 1024 (decimated)\n",
      "\t\ttriggered by output 7, pin 9, feedback to tProc input 1\n",
      "\t2:\taxis_pfb_readout_v2 - controlled by PYNQ\n",
      "\t\tADC tile 2, blk 0, 35-bit DDS, fabric=307.200 MHz, fs=2457.600 MHz\n",
      "\t\tmaxlen 16384 (avg) 1024 (decimated)\n",
      "\t\ttriggered by output 7, pin 10, feedback to tProc input 2\n",
      "\t3:\taxis_pfb_readout_v2 - controlled by PYNQ\n",
      "\t\tADC tile 2, blk 0, 35-bit DDS, fabric=307.200 MHz, fs=2457.600 MHz\n",
      "\t\tmaxlen 16384 (avg) 1024 (decimated)\n",
      "\t\ttriggered by output 7, pin 11, feedback to tProc input 3\n",
      "\n",
      "\t11 DACs:\n",
      "\t\tDAC tile 0, blk 0 is 0_228, on JHC1\n",
      "\t\tDAC tile 1, blk 0 is 0_229, on JHC1\n",
      "\t\tDAC tile 1, blk 1 is 1_229, on JHC2\n",
      "\t\tDAC tile 1, blk 2 is 2_229, on JHC1\n",
      "\t\tDAC tile 1, blk 3 is 3_229, on JHC2\n",
      "\t\tDAC tile 2, blk 0 is 0_230, on JHC3\n",
      "\t\tDAC tile 2, blk 1 is 1_230, on JHC4\n",
      "\t\tDAC tile 2, blk 2 is 2_230, on JHC3\n",
      "\t\tDAC tile 2, blk 3 is 3_230, on JHC4\n",
      "\t\tDAC tile 3, blk 0 is 0_231, on JHC3\n",
      "\t\tDAC tile 3, blk 1 is 1_231, on JHC4\n",
      "\n",
      "\t1 ADCs:\n",
      "\t\tADC tile 2, blk 0 is 0_226, on JHC7\n",
      "\n",
      "\t8 digital output pins:\n",
      "\t0:\tPMOD0_0_LS (output 7, pin 0)\n",
      "\t1:\tPMOD0_1_LS (output 7, pin 1)\n",
      "\t2:\tPMOD0_2_LS (output 7, pin 2)\n",
      "\t3:\tPMOD0_3_LS (output 7, pin 3)\n",
      "\t4:\tPMOD0_4_LS (output 7, pin 4)\n",
      "\t5:\tPMOD0_5_LS (output 7, pin 5)\n",
      "\t6:\tPMOD0_6_LS (output 7, pin 6)\n",
      "\t7:\tPMOD0_7_LS (output 7, pin 7)\n",
      "\n",
      "\ttProc axis_tproc64x32_x8: program memory 32768 words, data memory 4096 words\n",
      "\t\texternal start pin: PMOD1_0_LS\n"
     ]
    }
   ],
   "source": [
    "soc = QickConfig(im[yaml_cfg['aliases']['soc']].get_cfg())\n",
    "print(soc)"
   ]
  },
  {
   "cell_type": "code",
   "execution_count": 10,
   "metadata": {},
   "outputs": [
    {
     "data": {
      "text/plain": [
       "0.0023251488095238095"
      ]
     },
     "execution_count": 10,
     "metadata": {},
     "output_type": "execute_result"
    }
   ],
   "source": [
    "soc.cycles2us(1)"
   ]
  },
  {
   "cell_type": "markdown",
   "metadata": {},
   "source": [
    "# Choose experiment name"
   ]
  },
  {
   "cell_type": "code",
   "execution_count": 11,
   "metadata": {
    "scrolled": true
   },
   "outputs": [
    {
     "name": "stdout",
     "output_type": "stream",
     "text": [
      "Path added at highest priority\n",
      "['C:\\\\_Lib\\\\python\\\\multimode_expts', 'C:\\\\_Lib\\\\python', 'C:\\\\_Lib\\\\python\\\\slab', 'C:\\\\_Lib\\\\python\\\\qick\\\\qick_lib', 'C:\\\\_Lib\\\\python\\\\rfsoc\\\\rfsoc_multimode\\\\example_expts', 'C:\\\\_Lib\\\\python\\\\multimode_expts', 'C:\\\\Users\\\\26049\\\\.conda\\\\envs\\\\slab\\\\python38.zip', 'C:\\\\Users\\\\26049\\\\.conda\\\\envs\\\\slab\\\\DLLs', 'C:\\\\Users\\\\26049\\\\.conda\\\\envs\\\\slab\\\\lib', 'C:\\\\Users\\\\26049\\\\.conda\\\\envs\\\\slab', '', 'C:\\\\Users\\\\26049\\\\AppData\\\\Roaming\\\\Python\\\\Python38\\\\site-packages', 'C:\\\\Users\\\\26049\\\\.conda\\\\envs\\\\slab\\\\lib\\\\site-packages', 'C:\\\\Users\\\\26049\\\\.conda\\\\envs\\\\slab\\\\lib\\\\site-packages\\\\easy_lmfit-1.0-py3.8.egg', 'C:\\\\Users\\\\26049\\\\.conda\\\\envs\\\\slab\\\\lib\\\\site-packages\\\\attrdict-2.0.1-py3.8.egg', 'C:\\\\Users\\\\26049\\\\.conda\\\\envs\\\\slab\\\\lib\\\\site-packages\\\\win32', 'C:\\\\Users\\\\26049\\\\.conda\\\\envs\\\\slab\\\\lib\\\\site-packages\\\\win32\\\\lib', 'C:\\\\Users\\\\26049\\\\.conda\\\\envs\\\\slab\\\\lib\\\\site-packages\\\\Pythonwin', '/home/xilinx/jupyter_notebooks/', 'C:\\\\_Lib\\\\python\\\\rfsoc\\\\rfsoc_multimode\\\\example_expts']\n",
      "importing from path  C:\\_Lib\\python\\multimode_expts\\experiments\\fitting.py\n",
      "imported experiments.fitting\n",
      "importing from path  C:\\_Lib\\python\\multimode_expts\\experiments\\qsim\n",
      "imported experiments.qsim.floquet_general\n",
      "imported experiments.qsim.qsim_experiments\n",
      "imported experiments.qsim.sideband_ramsey\n",
      "imported experiments.qsim.utils\n",
      "importing from path  C:\\_Lib\\python\\multimode_expts\\experiments\\qubit_cavity\n",
      "imported experiments.qubit_cavity.amplitude_rabi_f0g1\n",
      "imported experiments.qubit_cavity.displacement_enhanced_sideband\n",
      "imported experiments.qubit_cavity.displace_amplitude_calibration\n",
      "imported experiments.qubit_cavity.displace_pulse_probe\n",
      "imported experiments.qubit_cavity.ecd\n",
      "imported experiments.qubit_cavity.ecd_backup\n",
      "imported experiments.qubit_cavity.ecd_read_spec\n",
      "imported experiments.qubit_cavity.non_demolution_readout\n",
      "imported experiments.qubit_cavity.out_and_back\n",
      "imported experiments.qubit_cavity.photo_resolved_pulse_probe\n",
      "imported experiments.qubit_cavity.qubit_cavity_opt\n",
      "imported experiments.qubit_cavity.single_mode_cats_wigner_tomography\n",
      "imported experiments.qubit_cavity.single_mode_wigner_tomography - Copy\n",
      "imported experiments.qubit_cavity.single_mode_wigner_tomography\n",
      "imported experiments.qubit_cavity.small_chi_calibration\n",
      "imported experiments.qubit_cavity.test_opt\n",
      "imported experiments.qubit_cavity.test_opt2\n",
      "imported experiments.qubit_cavity.test_opt_ecd\n",
      "importing from path  C:\\_Lib\\python\\multimode_expts\\experiments\\single_qubit\n",
      "imported experiments.single_qubit.acstarkshift_spectroscopy\n",
      "imported experiments.single_qubit.active_reset_single_shot\n",
      "imported experiments.single_qubit.amplitude_rabi\n",
      "imported experiments.single_qubit.amplitude_rabi_ef\n",
      "imported experiments.single_qubit.amplitude_rabi_general\n",
      "imported experiments.single_qubit.cavity2qubit\n",
      "imported experiments.single_qubit.cavity_spectroscopy\n",
      "imported experiments.single_qubit.dragpulse_calibration\n",
      "imported experiments.single_qubit.dual_rail_single_shot\n",
      "imported experiments.single_qubit.fast_reset_test\n",
      "imported experiments.single_qubit.flux_sweep\n",
      "imported experiments.single_qubit.length_rabi\n",
      "imported experiments.single_qubit.length_rabi_f0g1_general\n",
      "imported experiments.single_qubit.length_rabi_general\n",
      "imported experiments.single_qubit.normalize\n",
      "imported experiments.single_qubit.parity_delay\n",
      "imported experiments.single_qubit.parity_freq\n",
      "imported experiments.single_qubit.parity_gain\n",
      "imported experiments.single_qubit.parity_measurement_temp\n",
      "imported experiments.single_qubit.phase_sweep\n",
      "imported experiments.single_qubit.phase_sweep_averager\n",
      "imported experiments.single_qubit.pulse_cavity_probe_readout\n",
      "imported experiments.single_qubit.pulse_probe_ef_spectroscopy\n",
      "imported experiments.single_qubit.pulse_probe_f0g1_spectroscopy\n",
      "imported experiments.single_qubit.pulse_probe_spectroscopy\n",
      "imported experiments.single_qubit.pulse_probe_spectroscopy_prepulse\n",
      "imported experiments.single_qubit.ramsey_ef\n",
      "imported experiments.single_qubit.rbam\n",
      "imported experiments.single_qubit.rb_BSgate\n",
      "imported experiments.single_qubit.rb_BSgate_check_target\n",
      "imported experiments.single_qubit.rb_BSgate_postselection\n",
      "imported experiments.single_qubit.rb_BSgate_postselection_storage\n",
      "imported experiments.single_qubit.rb_BSgate_ramsey\n",
      "imported experiments.single_qubit.rb_ziqian\n",
      "imported experiments.single_qubit.resonator_spectroscopy\n",
      "imported experiments.single_qubit.rfsoc_tof_calibration\n",
      "imported experiments.single_qubit.rf_flux_modulation_general\n",
      "imported experiments.single_qubit.rf_flux_spectroscopy\n",
      "imported experiments.single_qubit.rf_flux_spectroscopy_f0g1\n",
      "imported experiments.single_qubit.sideband_general\n",
      "imported experiments.single_qubit.sideband_t1_general\n",
      "imported experiments.single_qubit.single_shot\n",
      "imported experiments.single_qubit.single_shot_old\n",
      "imported experiments.single_qubit.single_shot_prepulse\n",
      "imported experiments.single_qubit.square_pulse\n",
      "imported experiments.single_qubit.t1\n",
      "imported experiments.single_qubit.t1_cavity\n",
      "imported experiments.single_qubit.t1_fluxonium\n",
      "imported experiments.single_qubit.t1_ring_down\n",
      "imported experiments.single_qubit.t2_cavity\n",
      "imported experiments.single_qubit.t2_echo\n",
      "imported experiments.single_qubit.t2_fluxonium\n",
      "imported experiments.single_qubit.t2_ramsey\n",
      "importing from path  C:\\_Lib\\python\\multimode_expts\\experiments\\two_qubit\n",
      "C:\\_Lib\\python\\multimode_expts\\experiments\\__init__.py\n"
     ]
    }
   ],
   "source": [
    "import sys\n",
    "\n",
    "# Path to add\n",
    "expts_path = 'C:\\\\_Lib\\\\python\\\\multimode_expts'\n",
    "\n",
    "# Add the path to the system path at the highest priority\n",
    "# if expts_path not in sys.path:\n",
    "sys.path.insert(0, expts_path)\n",
    "print('Path added at highest priority')\n",
    "\n",
    "# Verify the path is added\n",
    "print(sys.path)\n",
    "\n",
    "# Import the experiments module from multimode\n",
    "import experiments as meas\n",
    "\n",
    "# Verify the module is imported from the correct path\n",
    "print(meas.__file__)"
   ]
  },
  {
   "cell_type": "markdown",
   "metadata": {},
   "source": [
    "# Qsim"
   ]
  },
  {
   "cell_type": "markdown",
   "metadata": {},
   "source": [
    "## Initial random try"
   ]
  },
  {
   "cell_type": "code",
   "execution_count": 13,
   "metadata": {
    "scrolled": true
   },
   "outputs": [
    {
     "name": "stdout",
     "output_type": "stream",
     "text": [
      "Loaded:  {'init_storage': 4, 'start': 0.007, 'step': 60, 'qubits': [0], 'expts': 100, 'reps': 100, 'rounds': 1, 'flux_drive': ['low', 874, 9000, 0.05], 'prepulse': True, 'postpulse': True, 'active_reset': False, 'man_reset': False, 'storage_reset': False, 'update_post_pulse_phase': [False, 1.07], 'floquet_cycles': 1}\n",
      "Config is:  {'init_storage': 4, 'start': 0.007, 'step': 60, 'qubits': [0], 'expts': 100, 'reps': 100, 'rounds': 1, 'flux_drive': ['low', 874, 9000, 0.05], 'prepulse': True, 'postpulse': True, 'active_reset': False, 'man_reset': False, 'storage_reset': False, 'update_post_pulse_phase': [False, 1.07], 'floquet_cycles': 1}\n"
     ]
    },
    {
     "data": {
      "application/vnd.jupyter.widget-view+json": {
       "model_id": "580f6a4d959a488e999ec9d85758419a",
       "version_major": 2,
       "version_minor": 0
      },
      "text/plain": [
       "  0%|          | 0/7 [00:00<?, ?it/s]"
      ]
     },
     "metadata": {},
     "output_type": "display_data"
    },
    {
     "name": "stdout",
     "output_type": "stream",
     "text": [
      "Saving H:\\Shared drives\\SLab\\Multimode\\experiment\\250505_qsim\\data\\00020_storage_sweep.h5\n",
      "Loaded:  {'init_storage': 4, 'start': 0.007, 'step': 60, 'qubits': [0], 'expts': 100, 'reps': 100, 'rounds': 1, 'flux_drive': ['low', 874, 9000, 0.05], 'prepulse': True, 'postpulse': True, 'active_reset': False, 'man_reset': False, 'storage_reset': False, 'update_post_pulse_phase': [False, 1.07], 'floquet_cycles': 6}\n",
      "Config is:  {'init_storage': 4, 'start': 0.007, 'step': 60, 'qubits': [0], 'expts': 100, 'reps': 100, 'rounds': 1, 'flux_drive': ['low', 874, 9000, 0.05], 'prepulse': True, 'postpulse': True, 'active_reset': False, 'man_reset': False, 'storage_reset': False, 'update_post_pulse_phase': [False, 1.07], 'floquet_cycles': 6}\n"
     ]
    },
    {
     "data": {
      "application/vnd.jupyter.widget-view+json": {
       "model_id": "bfcb4ce55653493493a84062e4e6cf1c",
       "version_major": 2,
       "version_minor": 0
      },
      "text/plain": [
       "  0%|          | 0/7 [00:00<?, ?it/s]"
      ]
     },
     "metadata": {},
     "output_type": "display_data"
    },
    {
     "name": "stdout",
     "output_type": "stream",
     "text": [
      "Saving H:\\Shared drives\\SLab\\Multimode\\experiment\\250505_qsim\\data\\00021_storage_sweep.h5\n",
      "Loaded:  {'init_storage': 4, 'start': 0.007, 'step': 60, 'qubits': [0], 'expts': 100, 'reps': 100, 'rounds': 1, 'flux_drive': ['low', 874, 9000, 0.05], 'prepulse': True, 'postpulse': True, 'active_reset': False, 'man_reset': False, 'storage_reset': False, 'update_post_pulse_phase': [False, 1.07], 'floquet_cycles': 11}\n",
      "Config is:  {'init_storage': 4, 'start': 0.007, 'step': 60, 'qubits': [0], 'expts': 100, 'reps': 100, 'rounds': 1, 'flux_drive': ['low', 874, 9000, 0.05], 'prepulse': True, 'postpulse': True, 'active_reset': False, 'man_reset': False, 'storage_reset': False, 'update_post_pulse_phase': [False, 1.07], 'floquet_cycles': 11}\n"
     ]
    },
    {
     "data": {
      "application/vnd.jupyter.widget-view+json": {
       "model_id": "79fedb1d100f49b5acb0e8ac8c689950",
       "version_major": 2,
       "version_minor": 0
      },
      "text/plain": [
       "  0%|          | 0/7 [00:00<?, ?it/s]"
      ]
     },
     "metadata": {},
     "output_type": "display_data"
    },
    {
     "name": "stdout",
     "output_type": "stream",
     "text": [
      "Saving H:\\Shared drives\\SLab\\Multimode\\experiment\\250505_qsim\\data\\00022_storage_sweep.h5\n",
      "Loaded:  {'init_storage': 4, 'start': 0.007, 'step': 60, 'qubits': [0], 'expts': 100, 'reps': 100, 'rounds': 1, 'flux_drive': ['low', 874, 9000, 0.05], 'prepulse': True, 'postpulse': True, 'active_reset': False, 'man_reset': False, 'storage_reset': False, 'update_post_pulse_phase': [False, 1.07], 'floquet_cycles': 16}\n",
      "Config is:  {'init_storage': 4, 'start': 0.007, 'step': 60, 'qubits': [0], 'expts': 100, 'reps': 100, 'rounds': 1, 'flux_drive': ['low', 874, 9000, 0.05], 'prepulse': True, 'postpulse': True, 'active_reset': False, 'man_reset': False, 'storage_reset': False, 'update_post_pulse_phase': [False, 1.07], 'floquet_cycles': 16}\n"
     ]
    },
    {
     "data": {
      "application/vnd.jupyter.widget-view+json": {
       "model_id": "121ac4a1c9f5464da0ccf4e71e2b8551",
       "version_major": 2,
       "version_minor": 0
      },
      "text/plain": [
       "  0%|          | 0/7 [00:00<?, ?it/s]"
      ]
     },
     "metadata": {},
     "output_type": "display_data"
    },
    {
     "name": "stdout",
     "output_type": "stream",
     "text": [
      "Saving H:\\Shared drives\\SLab\\Multimode\\experiment\\250505_qsim\\data\\00023_storage_sweep.h5\n",
      "Loaded:  {'init_storage': 4, 'start': 0.007, 'step': 60, 'qubits': [0], 'expts': 100, 'reps': 100, 'rounds': 1, 'flux_drive': ['low', 874, 9000, 0.05], 'prepulse': True, 'postpulse': True, 'active_reset': False, 'man_reset': False, 'storage_reset': False, 'update_post_pulse_phase': [False, 1.07], 'floquet_cycles': 21}\n",
      "Config is:  {'init_storage': 4, 'start': 0.007, 'step': 60, 'qubits': [0], 'expts': 100, 'reps': 100, 'rounds': 1, 'flux_drive': ['low', 874, 9000, 0.05], 'prepulse': True, 'postpulse': True, 'active_reset': False, 'man_reset': False, 'storage_reset': False, 'update_post_pulse_phase': [False, 1.07], 'floquet_cycles': 21}\n"
     ]
    },
    {
     "data": {
      "application/vnd.jupyter.widget-view+json": {
       "model_id": "683a161cf421434c9376db334b0cc168",
       "version_major": 2,
       "version_minor": 0
      },
      "text/plain": [
       "  0%|          | 0/7 [00:00<?, ?it/s]"
      ]
     },
     "metadata": {},
     "output_type": "display_data"
    },
    {
     "name": "stdout",
     "output_type": "stream",
     "text": [
      "Saving H:\\Shared drives\\SLab\\Multimode\\experiment\\250505_qsim\\data\\00024_storage_sweep.h5\n",
      "Loaded:  {'init_storage': 4, 'start': 0.007, 'step': 60, 'qubits': [0], 'expts': 100, 'reps': 100, 'rounds': 1, 'flux_drive': ['low', 874, 9000, 0.05], 'prepulse': True, 'postpulse': True, 'active_reset': False, 'man_reset': False, 'storage_reset': False, 'update_post_pulse_phase': [False, 1.07], 'floquet_cycles': 26}\n",
      "Config is:  {'init_storage': 4, 'start': 0.007, 'step': 60, 'qubits': [0], 'expts': 100, 'reps': 100, 'rounds': 1, 'flux_drive': ['low', 874, 9000, 0.05], 'prepulse': True, 'postpulse': True, 'active_reset': False, 'man_reset': False, 'storage_reset': False, 'update_post_pulse_phase': [False, 1.07], 'floquet_cycles': 26}\n"
     ]
    },
    {
     "data": {
      "application/vnd.jupyter.widget-view+json": {
       "model_id": "83c7f306a7d1473c9ece99d601c87569",
       "version_major": 2,
       "version_minor": 0
      },
      "text/plain": [
       "  0%|          | 0/7 [00:00<?, ?it/s]"
      ]
     },
     "metadata": {},
     "output_type": "display_data"
    },
    {
     "name": "stdout",
     "output_type": "stream",
     "text": [
      "Saving H:\\Shared drives\\SLab\\Multimode\\experiment\\250505_qsim\\data\\00025_storage_sweep.h5\n",
      "Loaded:  {'init_storage': 4, 'start': 0.007, 'step': 60, 'qubits': [0], 'expts': 100, 'reps': 100, 'rounds': 1, 'flux_drive': ['low', 874, 9000, 0.05], 'prepulse': True, 'postpulse': True, 'active_reset': False, 'man_reset': False, 'storage_reset': False, 'update_post_pulse_phase': [False, 1.07], 'floquet_cycles': 31}\n",
      "Config is:  {'init_storage': 4, 'start': 0.007, 'step': 60, 'qubits': [0], 'expts': 100, 'reps': 100, 'rounds': 1, 'flux_drive': ['low', 874, 9000, 0.05], 'prepulse': True, 'postpulse': True, 'active_reset': False, 'man_reset': False, 'storage_reset': False, 'update_post_pulse_phase': [False, 1.07], 'floquet_cycles': 31}\n"
     ]
    },
    {
     "data": {
      "application/vnd.jupyter.widget-view+json": {
       "model_id": "86be3092dcef4972856e269b0a917374",
       "version_major": 2,
       "version_minor": 0
      },
      "text/plain": [
       "  0%|          | 0/7 [00:00<?, ?it/s]"
      ]
     },
     "metadata": {},
     "output_type": "display_data"
    },
    {
     "name": "stdout",
     "output_type": "stream",
     "text": [
      "Saving H:\\Shared drives\\SLab\\Multimode\\experiment\\250505_qsim\\data\\00026_storage_sweep.h5\n",
      "Loaded:  {'init_storage': 4, 'start': 0.007, 'step': 60, 'qubits': [0], 'expts': 100, 'reps': 100, 'rounds': 1, 'flux_drive': ['low', 874, 9000, 0.05], 'prepulse': True, 'postpulse': True, 'active_reset': False, 'man_reset': False, 'storage_reset': False, 'update_post_pulse_phase': [False, 1.07], 'floquet_cycles': 36}\n",
      "Config is:  {'init_storage': 4, 'start': 0.007, 'step': 60, 'qubits': [0], 'expts': 100, 'reps': 100, 'rounds': 1, 'flux_drive': ['low', 874, 9000, 0.05], 'prepulse': True, 'postpulse': True, 'active_reset': False, 'man_reset': False, 'storage_reset': False, 'update_post_pulse_phase': [False, 1.07], 'floquet_cycles': 36}\n"
     ]
    },
    {
     "data": {
      "application/vnd.jupyter.widget-view+json": {
       "model_id": "c05207ee3f444b85ba260ecf415ab439",
       "version_major": 2,
       "version_minor": 0
      },
      "text/plain": [
       "  0%|          | 0/7 [00:00<?, ?it/s]"
      ]
     },
     "metadata": {},
     "output_type": "display_data"
    },
    {
     "name": "stdout",
     "output_type": "stream",
     "text": [
      "Saving H:\\Shared drives\\SLab\\Multimode\\experiment\\250505_qsim\\data\\00027_storage_sweep.h5\n",
      "Loaded:  {'init_storage': 4, 'start': 0.007, 'step': 60, 'qubits': [0], 'expts': 100, 'reps': 100, 'rounds': 1, 'flux_drive': ['low', 874, 9000, 0.05], 'prepulse': True, 'postpulse': True, 'active_reset': False, 'man_reset': False, 'storage_reset': False, 'update_post_pulse_phase': [False, 1.07], 'floquet_cycles': 41}\n",
      "Config is:  {'init_storage': 4, 'start': 0.007, 'step': 60, 'qubits': [0], 'expts': 100, 'reps': 100, 'rounds': 1, 'flux_drive': ['low', 874, 9000, 0.05], 'prepulse': True, 'postpulse': True, 'active_reset': False, 'man_reset': False, 'storage_reset': False, 'update_post_pulse_phase': [False, 1.07], 'floquet_cycles': 41}\n"
     ]
    },
    {
     "data": {
      "application/vnd.jupyter.widget-view+json": {
       "model_id": "4f9f1e899d9d45ccb83708a841ba4058",
       "version_major": 2,
       "version_minor": 0
      },
      "text/plain": [
       "  0%|          | 0/7 [00:00<?, ?it/s]"
      ]
     },
     "metadata": {},
     "output_type": "display_data"
    },
    {
     "name": "stdout",
     "output_type": "stream",
     "text": [
      "Saving H:\\Shared drives\\SLab\\Multimode\\experiment\\250505_qsim\\data\\00028_storage_sweep.h5\n",
      "Loaded:  {'init_storage': 4, 'start': 0.007, 'step': 60, 'qubits': [0], 'expts': 100, 'reps': 100, 'rounds': 1, 'flux_drive': ['low', 874, 9000, 0.05], 'prepulse': True, 'postpulse': True, 'active_reset': False, 'man_reset': False, 'storage_reset': False, 'update_post_pulse_phase': [False, 1.07], 'floquet_cycles': 46}\n",
      "Config is:  {'init_storage': 4, 'start': 0.007, 'step': 60, 'qubits': [0], 'expts': 100, 'reps': 100, 'rounds': 1, 'flux_drive': ['low', 874, 9000, 0.05], 'prepulse': True, 'postpulse': True, 'active_reset': False, 'man_reset': False, 'storage_reset': False, 'update_post_pulse_phase': [False, 1.07], 'floquet_cycles': 46}\n"
     ]
    },
    {
     "data": {
      "application/vnd.jupyter.widget-view+json": {
       "model_id": "95afef0a0ef046c3b033d11e3f1b27eb",
       "version_major": 2,
       "version_minor": 0
      },
      "text/plain": [
       "  0%|          | 0/7 [00:00<?, ?it/s]"
      ]
     },
     "metadata": {},
     "output_type": "display_data"
    },
    {
     "name": "stdout",
     "output_type": "stream",
     "text": [
      "Saving H:\\Shared drives\\SLab\\Multimode\\experiment\\250505_qsim\\data\\00029_storage_sweep.h5\n"
     ]
    }
   ],
   "source": [
    "import multimode_expts.experiments.qsim.qsim_experiments as qsim_exp\n",
    "\n",
    "experiment_name = 'storage_sweep'\n",
    "\n",
    "flqSwap = qsim_exp.floquet_swap_class(\n",
    "    soccfg=soc, \n",
    "    path=expt_path, \n",
    "    prefix=experiment_name, \n",
    "    config_file=config_path, \n",
    "    exp_param_file=os.path.join(curr_path, 'configs', 'qsim_exp_cfg.yml')\n",
    ")\n",
    "\n",
    "flqSwap.run_sweep( sweep_experiment_name = experiment_name)"
   ]
  },
  {
   "cell_type": "code",
   "execution_count": null,
   "metadata": {},
   "outputs": [],
   "source": []
  },
  {
   "cell_type": "markdown",
   "metadata": {},
   "source": [
    "## Sideband Ramsey"
   ]
  },
  {
   "cell_type": "markdown",
   "metadata": {},
   "source": [
    "This is starting to test our channel phases: when we switch from one channel generator freq to diff freq (activating different storage swaps), does our code preserve phase coherence between the successive (partial) pulses. \n",
    "\n",
    "We start from a simple M1-Sx Ramsey: qubit ge, qubit ef, f0g1 to initialize man1 into |1>, then do pi/2 on the beam splitter and wait and another pi/2."
   ]
  },
  {
   "cell_type": "code",
   "execution_count": 12,
   "metadata": {
    "scrolled": true
   },
   "outputs": [
    {
     "name": "stdout",
     "output_type": "stream",
     "text": [
      "importing from path  C:\\_Lib\\python\\multimode_expts\\experiments\\fitting.py\n",
      "imported experiments.fitting\n",
      "importing from path  C:\\_Lib\\python\\multimode_expts\\experiments\\qsim\n",
      "imported experiments.qsim.floquet_general\n",
      "imported experiments.qsim.qsim_experiments\n",
      "imported experiments.qsim.sideband_ramsey\n",
      "imported experiments.qsim.utils\n",
      "importing from path  C:\\_Lib\\python\\multimode_expts\\experiments\\qubit_cavity\n",
      "imported experiments.qubit_cavity.amplitude_rabi_f0g1\n",
      "imported experiments.qubit_cavity.displacement_enhanced_sideband\n",
      "imported experiments.qubit_cavity.displace_amplitude_calibration\n",
      "imported experiments.qubit_cavity.displace_pulse_probe\n",
      "imported experiments.qubit_cavity.ecd\n",
      "imported experiments.qubit_cavity.ecd_backup\n",
      "imported experiments.qubit_cavity.ecd_read_spec\n",
      "imported experiments.qubit_cavity.non_demolution_readout\n",
      "imported experiments.qubit_cavity.out_and_back\n",
      "imported experiments.qubit_cavity.photo_resolved_pulse_probe\n",
      "imported experiments.qubit_cavity.qubit_cavity_opt\n",
      "imported experiments.qubit_cavity.single_mode_cats_wigner_tomography\n",
      "imported experiments.qubit_cavity.single_mode_wigner_tomography - Copy\n",
      "imported experiments.qubit_cavity.single_mode_wigner_tomography\n",
      "imported experiments.qubit_cavity.small_chi_calibration\n",
      "imported experiments.qubit_cavity.test_opt\n",
      "imported experiments.qubit_cavity.test_opt2\n",
      "imported experiments.qubit_cavity.test_opt_ecd\n",
      "importing from path  C:\\_Lib\\python\\multimode_expts\\experiments\\single_qubit\n",
      "imported experiments.single_qubit.acstarkshift_spectroscopy\n",
      "imported experiments.single_qubit.active_reset_single_shot\n",
      "imported experiments.single_qubit.amplitude_rabi\n",
      "imported experiments.single_qubit.amplitude_rabi_ef\n",
      "imported experiments.single_qubit.amplitude_rabi_general\n",
      "imported experiments.single_qubit.cavity2qubit\n",
      "imported experiments.single_qubit.cavity_spectroscopy\n",
      "imported experiments.single_qubit.dragpulse_calibration\n",
      "imported experiments.single_qubit.dual_rail_single_shot\n",
      "imported experiments.single_qubit.fast_reset_test\n",
      "imported experiments.single_qubit.flux_sweep\n",
      "imported experiments.single_qubit.length_rabi\n",
      "imported experiments.single_qubit.length_rabi_f0g1_general\n",
      "imported experiments.single_qubit.length_rabi_general\n",
      "imported experiments.single_qubit.normalize\n",
      "imported experiments.single_qubit.parity_delay\n",
      "imported experiments.single_qubit.parity_freq\n",
      "imported experiments.single_qubit.parity_gain\n",
      "imported experiments.single_qubit.parity_measurement_temp\n",
      "imported experiments.single_qubit.phase_sweep\n",
      "imported experiments.single_qubit.phase_sweep_averager\n",
      "imported experiments.single_qubit.pulse_cavity_probe_readout\n",
      "imported experiments.single_qubit.pulse_probe_ef_spectroscopy\n",
      "imported experiments.single_qubit.pulse_probe_f0g1_spectroscopy\n",
      "imported experiments.single_qubit.pulse_probe_spectroscopy\n",
      "imported experiments.single_qubit.pulse_probe_spectroscopy_prepulse\n",
      "imported experiments.single_qubit.ramsey_ef\n",
      "imported experiments.single_qubit.rbam\n",
      "imported experiments.single_qubit.rb_BSgate\n",
      "imported experiments.single_qubit.rb_BSgate_check_target\n",
      "imported experiments.single_qubit.rb_BSgate_postselection\n",
      "imported experiments.single_qubit.rb_BSgate_postselection_storage\n",
      "imported experiments.single_qubit.rb_BSgate_ramsey\n",
      "imported experiments.single_qubit.rb_ziqian\n",
      "imported experiments.single_qubit.resonator_spectroscopy\n",
      "imported experiments.single_qubit.rfsoc_tof_calibration\n",
      "imported experiments.single_qubit.rf_flux_modulation_general\n",
      "imported experiments.single_qubit.rf_flux_spectroscopy\n",
      "imported experiments.single_qubit.rf_flux_spectroscopy_f0g1\n",
      "imported experiments.single_qubit.sideband_general\n",
      "imported experiments.single_qubit.sideband_t1_general\n",
      "imported experiments.single_qubit.single_shot\n",
      "imported experiments.single_qubit.single_shot_old\n",
      "imported experiments.single_qubit.single_shot_prepulse\n",
      "imported experiments.single_qubit.square_pulse\n",
      "imported experiments.single_qubit.t1\n",
      "imported experiments.single_qubit.t1_cavity\n",
      "imported experiments.single_qubit.t1_fluxonium\n",
      "imported experiments.single_qubit.t1_ring_down\n",
      "imported experiments.single_qubit.t2_cavity\n",
      "imported experiments.single_qubit.t2_echo\n",
      "imported experiments.single_qubit.t2_fluxonium\n",
      "imported experiments.single_qubit.t2_ramsey\n",
      "importing from path  C:\\_Lib\\python\\multimode_expts\\experiments\\two_qubit\n"
     ]
    }
   ],
   "source": [
    "from multimode_expts.experiments.qsim.sideband_ramsey import SidebandRamseyExperiment"
   ]
  },
  {
   "cell_type": "code",
   "execution_count": 22,
   "metadata": {},
   "outputs": [],
   "source": [
    "expt_params = dict(\n",
    "    start = 0.01, # wait time tau [us]\n",
    "    step = 0.3,  # [us] 1 cycle is 0.0023251488095238095 [us], 2.7901785714285716 # [us]=1200 cycles\n",
    "    expts = 100,\n",
    "    ramsey_freq = 0.2, # [MHz]\n",
    "    reps = 50,\n",
    "    rounds = 1,\n",
    "    qubits = [0],\n",
    "    f0g1_cavity = 1,  #  1/2 name of manipulate cavity\n",
    "    stor_no = 1, # storage mode number, 1 to 7\n",
    "    normalize = False,\n",
    "    active_reset = False,\n",
    "    man_reset = False, \n",
    "    storage_reset = False, \n",
    "\n",
    "    pre_active_reset_pulse = False,\n",
    "    pre_sweep_pulse = [[3573.388770912761, 3418.9853023326227, 2005.29],\n",
    "                    [11864, 9339, 15000],\n",
    "                    [0, 0, 0.6340707551313035],\n",
    "                    [0, 0, 0],\n",
    "                    [2, 2, 0],\n",
    "                    ['g', 'g', 'flat_top'],\n",
    "                    [0.035, 0.035, 0.005]],\n",
    "    post_sweep_pulse =[],\n",
    "    # [[2007.54], [15000], [0.6164057205175526], [0], [0], ['flat_top'], [0.005]]\n",
    "    advance_phase = 0, # advance phase of second pi/2 by this much [degrees]\n",
    "    echoes = [False, 0], # [on/off, number of echoes]\n",
    ")\n",
    "\n",
    "sbr = SidebandRamseyExperiment(\n",
    "    soccfg=soc,\n",
    "    path=expt_path,\n",
    "    #prefix='SidebandRamsey',\n",
    "    config_file=config_path,\n",
    "    expt_params = expt_params,\n",
    "    progress=True)\n",
    "\n",
    "sbr.acquire()\n",
    "# sbr.go(analyze=True, display=True, progress=True, save=True)"
   ]
  },
  {
   "cell_type": "code",
   "execution_count": null,
   "metadata": {},
   "outputs": [],
   "source": []
  },
  {
   "cell_type": "code",
   "execution_count": null,
   "metadata": {},
   "outputs": [],
   "source": []
  },
  {
   "cell_type": "code",
   "execution_count": null,
   "metadata": {},
   "outputs": [],
   "source": []
  },
  {
   "cell_type": "code",
   "execution_count": null,
   "metadata": {},
   "outputs": [],
   "source": []
  },
  {
   "cell_type": "code",
   "execution_count": null,
   "metadata": {},
   "outputs": [],
   "source": []
  },
  {
   "cell_type": "code",
   "execution_count": null,
   "metadata": {},
   "outputs": [],
   "source": []
  },
  {
   "cell_type": "markdown",
   "metadata": {
    "jp-MarkdownHeadingCollapsed": true
   },
   "source": [
    "# Ramp current"
   ]
  },
  {
   "cell_type": "code",
   "execution_count": null,
   "metadata": {},
   "outputs": [],
   "source": [
    "# coupler\n",
    "dcflux = YokogawaGS200(address=\"192.168.137.148\")\n",
    "dcflux.set_output(True)\n",
    "dcflux.set_mode('current')\n",
    "dcflux.ramp_current(0.00032, sweeprate=0.0001)"
   ]
  },
  {
   "cell_type": "code",
   "execution_count": null,
   "metadata": {},
   "outputs": [],
   "source": [
    "# jpa\n",
    "dcflux = YokogawaGS200(address=\"192.168.137.149\")\n",
    "dcflux.set_output(True)\n",
    "dcflux.set_mode('current')\n",
    "dcflux.ramp_current(0.000, sweeprate=0.002)"
   ]
  },
  {
   "cell_type": "code",
   "execution_count": null,
   "metadata": {},
   "outputs": [],
   "source": [
    "# dcflux = YokogawaGS200(address=\"192.168.137.148\")\n",
    "#     dcflux.set_output(True)\n",
    "#     dcflux.set_mode('current')\n",
    "#     dcflux.ramp_current(0.000, sweeprate=0.002)"
   ]
  },
  {
   "cell_type": "code",
   "execution_count": null,
   "metadata": {},
   "outputs": [],
   "source": []
  }
 ],
 "metadata": {
  "kernelspec": {
   "display_name": "Python 3 (ipykernel)",
   "language": "python",
   "name": "python3"
  },
  "language_info": {
   "codemirror_mode": {
    "name": "ipython",
    "version": 3
   },
   "file_extension": ".py",
   "mimetype": "text/x-python",
   "name": "python",
   "nbconvert_exporter": "python",
   "pygments_lexer": "ipython3",
   "version": "3.8.17"
  }
 },
 "nbformat": 4,
 "nbformat_minor": 4
}
