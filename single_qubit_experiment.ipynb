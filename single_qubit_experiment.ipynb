{
 "cells": [
  {
   "cell_type": "code",
   "execution_count": 1,
   "metadata": {},
   "outputs": [
    {
     "name": "stdout",
     "output_type": "stream",
     "text": [
      "hello world\n"
     ]
    }
   ],
   "source": [
    "print('hello world')"
   ]
  },
  {
   "cell_type": "code",
   "execution_count": 2,
   "metadata": {},
   "outputs": [
    {
     "name": "stdout",
     "output_type": "stream",
     "text": [
      "Warning serial library import failed.\n",
      "Could not load InstrumentManagerWindow\n",
      "Could not import QickInstrument, try install qick package\n",
      "Could not load AD5780 dac \n",
      "Could not load labbrick\n",
      "Could not load Autonics TM4 Driver\n"
     ]
    }
   ],
   "source": [
    "%load_ext autoreload\n",
    "%autoreload 2\n",
    "\n",
    "import numpy as np\n",
    "import matplotlib.pyplot as plt\n",
    "\n",
    "from qick import *\n",
    "from qick.helpers import gauss\n",
    "from tqdm import tqdm_notebook as tqdm\n",
    "\n",
    "import time\n",
    "import os\n",
    "import sys\n",
    "sys.path.append('/home/xilinx/jupyter_notebooks/')\n",
    "sys.path.append('C:\\\\_Lib\\\\python\\\\rfsoc\\\\rfsoc_multimode\\\\example_expts')\n",
    "# sys.path.append('C:\\\\_Lib\\\\python\\\\multimode')\n",
    "import scipy as sp\n",
    "import json\n",
    "from scipy.fft import fft, fftfreq\n",
    "\n",
    "from slab.instruments import *\n",
    "from slab.experiment import Experiment\n",
    "from slab.datamanagement import SlabFile\n",
    "from slab import get_next_filename, get_current_filename, AttrDict\n",
    "\n",
    "# Figure params\n",
    "plt.rcParams['figure.figsize'] = [10,6]\n",
    "plt.rcParams.update({'font.size': 14})"
   ]
  },
  {
   "cell_type": "code",
   "execution_count": 3,
   "metadata": {},
   "outputs": [
    {
     "name": "stdout",
     "output_type": "stream",
     "text": [
      "path:  H:\\Shared drives\\SLab\\Multimode\\experiment\\250307_qsim\n"
     ]
    }
   ],
   "source": [
    "import json\n",
    "import os\n",
    "# path = os.getcwd()\n",
    "path = r'H:\\Shared drives\\SLab\\Multimode\\experiment\\250307_qsim' # for data \n",
    "print(\"path: \", path)"
   ]
  },
  {
   "cell_type": "markdown",
   "metadata": {},
   "source": [
    "# setup experiment hardware"
   ]
  },
  {
   "cell_type": "code",
   "execution_count": 4,
   "metadata": {},
   "outputs": [
    {
     "name": "stdout",
     "output_type": "stream",
     "text": [
      "Data will be stored in H:\\Shared drives\\SLab\\Multimode\\experiment\\250307_qsim\\data\n"
     ]
    }
   ],
   "source": [
    "expt_path=path+'\\\\data'\n",
    "\n",
    "print('Data will be stored in', expt_path)"
   ]
  },
  {
   "cell_type": "code",
   "execution_count": 5,
   "metadata": {},
   "outputs": [
    {
     "name": "stdout",
     "output_type": "stream",
     "text": [
      "Config will be c:\\_Lib\\python\\multimode_expts\\config_rfsoc_ziqian.yml\n",
      "Exp Param will be c:\\_Lib\\python\\multimode_expts\\experiment_config.yml\n"
     ]
    }
   ],
   "source": [
    "curr_path = os.getcwd()\n",
    "config_file = curr_path+'\\\\config_rfsoc_ziqian.yml'\n",
    "config_path = config_file\n",
    "print('Config will be', config_path)\n",
    "\n",
    "exp_param_file = curr_path+'\\\\experiment_config.yml'\n",
    "exp_param_path = exp_param_file\n",
    "print('Exp Param will be', exp_param_path)"
   ]
  },
  {
   "cell_type": "code",
   "execution_count": 6,
   "metadata": {},
   "outputs": [],
   "source": [
    "qubit_i = 0\n",
    "import yaml\n",
    "with open(config_file, 'r') as cfg_file:\n",
    "    yaml_cfg = yaml.safe_load(cfg_file)\n",
    "yaml_cfg = AttrDict(yaml_cfg)"
   ]
  },
  {
   "cell_type": "code",
   "execution_count": 11,
   "metadata": {},
   "outputs": [],
   "source": [
    "\n",
    "im = InstrumentManager(ns_address='192.168.137.25') # SLAC lab"
   ]
  },
  {
   "cell_type": "code",
   "execution_count": 12,
   "metadata": {},
   "outputs": [
    {
     "data": {
      "text/plain": [
       "dict_keys(['Pyro.NameServer', 'Qick101'])"
      ]
     },
     "execution_count": 12,
     "metadata": {},
     "output_type": "execute_result"
    }
   ],
   "source": [
    "im.keys()"
   ]
  },
  {
   "cell_type": "code",
   "execution_count": 13,
   "metadata": {},
   "outputs": [
    {
     "name": "stdout",
     "output_type": "stream",
     "text": [
      "<Pyro4.core.Proxy at 0x2163749c040; not connected; for PYRO:obj_4c646acffd6b4cab9d49e30a145c1af5@192.168.137.101:35909>\n"
     ]
    }
   ],
   "source": [
    "print(im['Qick101'])"
   ]
  },
  {
   "cell_type": "code",
   "execution_count": 14,
   "metadata": {},
   "outputs": [
    {
     "name": "stdout",
     "output_type": "stream",
     "text": [
      "\n",
      "QICK configuration:\n",
      "\n",
      "\tBoard: ZCU216\n",
      "\n",
      "\tSoftware version: 0.2.180\n",
      "\tFirmware timestamp: Tue Oct 15 12:06:51 2024\n",
      "\n",
      "\tGlobal clocks (MHz): tProcessor 430.080, RF reference 245.760\n",
      "\n",
      "\t7 signal generator channels:\n",
      "\t0:\taxis_signal_gen_v6 - tProc output 0, envelope memory 32768 samples\n",
      "\t\tDAC tile 2, blk 0, 32-bit DDS, fabric=399.360 MHz, f_dds=6389.760 MHz\n",
      "\t1:\taxis_signal_gen_v6 - tProc output 1, envelope memory 32768 samples\n",
      "\t\tDAC tile 2, blk 1, 32-bit DDS, fabric=399.360 MHz, f_dds=6389.760 MHz\n",
      "\t2:\taxis_signal_gen_v6 - tProc output 2, envelope memory 32768 samples\n",
      "\t\tDAC tile 2, blk 2, 32-bit DDS, fabric=399.360 MHz, f_dds=6389.760 MHz\n",
      "\t3:\taxis_signal_gen_v6 - tProc output 3, envelope memory 32768 samples\n",
      "\t\tDAC tile 2, blk 3, 32-bit DDS, fabric=399.360 MHz, f_dds=6389.760 MHz\n",
      "\t4:\taxis_signal_gen_v6 - tProc output 4, envelope memory 32768 samples\n",
      "\t\tDAC tile 3, blk 0, 32-bit DDS, fabric=430.080 MHz, f_dds=6881.280 MHz\n",
      "\t5:\taxis_signal_gen_v6 - tProc output 5, envelope memory 32768 samples\n",
      "\t\tDAC tile 3, blk 1, 32-bit DDS, fabric=430.080 MHz, f_dds=6881.280 MHz\n",
      "\t6:\taxis_sg_mux4_v2 - tProc output 6, envelope memory 0 samples\n",
      "\t\tDAC tile 0, blk 0, 32-bit DDS, fabric=430.080 MHz, f_dds=1720.320 MHz\n",
      "\n",
      "\t4 constant-IQ outputs:\n",
      "\t0:\tDAC tile 1, blk 0, fs=6881.280 MHz\n",
      "\t1:\tDAC tile 1, blk 1, fs=6881.280 MHz\n",
      "\t2:\tDAC tile 1, blk 2, fs=6881.280 MHz\n",
      "\t3:\tDAC tile 1, blk 3, fs=6881.280 MHz\n",
      "\n",
      "\t4 readout channels:\n",
      "\t0:\taxis_pfb_readout_v2 - controlled by PYNQ\n",
      "\t\tADC tile 2, blk 0, 35-bit DDS, fabric=307.200 MHz, fs=2457.600 MHz\n",
      "\t\tmaxlen 16384 (avg) 1024 (decimated)\n",
      "\t\ttriggered by output 7, pin 8, feedback to tProc input 0\n",
      "\t1:\taxis_pfb_readout_v2 - controlled by PYNQ\n",
      "\t\tADC tile 2, blk 0, 35-bit DDS, fabric=307.200 MHz, fs=2457.600 MHz\n",
      "\t\tmaxlen 16384 (avg) 1024 (decimated)\n",
      "\t\ttriggered by output 7, pin 9, feedback to tProc input 1\n",
      "\t2:\taxis_pfb_readout_v2 - controlled by PYNQ\n",
      "\t\tADC tile 2, blk 0, 35-bit DDS, fabric=307.200 MHz, fs=2457.600 MHz\n",
      "\t\tmaxlen 16384 (avg) 1024 (decimated)\n",
      "\t\ttriggered by output 7, pin 10, feedback to tProc input 2\n",
      "\t3:\taxis_pfb_readout_v2 - controlled by PYNQ\n",
      "\t\tADC tile 2, blk 0, 35-bit DDS, fabric=307.200 MHz, fs=2457.600 MHz\n",
      "\t\tmaxlen 16384 (avg) 1024 (decimated)\n",
      "\t\ttriggered by output 7, pin 11, feedback to tProc input 3\n",
      "\n",
      "\t11 DACs:\n",
      "\t\tDAC tile 0, blk 0 is 0_228, on JHC1\n",
      "\t\tDAC tile 1, blk 0 is 0_229, on JHC1\n",
      "\t\tDAC tile 1, blk 1 is 1_229, on JHC2\n",
      "\t\tDAC tile 1, blk 2 is 2_229, on JHC1\n",
      "\t\tDAC tile 1, blk 3 is 3_229, on JHC2\n",
      "\t\tDAC tile 2, blk 0 is 0_230, on JHC3\n",
      "\t\tDAC tile 2, blk 1 is 1_230, on JHC4\n",
      "\t\tDAC tile 2, blk 2 is 2_230, on JHC3\n",
      "\t\tDAC tile 2, blk 3 is 3_230, on JHC4\n",
      "\t\tDAC tile 3, blk 0 is 0_231, on JHC3\n",
      "\t\tDAC tile 3, blk 1 is 1_231, on JHC4\n",
      "\n",
      "\t1 ADCs:\n",
      "\t\tADC tile 2, blk 0 is 0_226, on JHC7\n",
      "\n",
      "\t8 digital output pins:\n",
      "\t0:\tPMOD0_0_LS (output 7, pin 0)\n",
      "\t1:\tPMOD0_1_LS (output 7, pin 1)\n",
      "\t2:\tPMOD0_2_LS (output 7, pin 2)\n",
      "\t3:\tPMOD0_3_LS (output 7, pin 3)\n",
      "\t4:\tPMOD0_4_LS (output 7, pin 4)\n",
      "\t5:\tPMOD0_5_LS (output 7, pin 5)\n",
      "\t6:\tPMOD0_6_LS (output 7, pin 6)\n",
      "\t7:\tPMOD0_7_LS (output 7, pin 7)\n",
      "\n",
      "\ttProc axis_tproc64x32_x8: program memory 32768 words, data memory 4096 words\n",
      "\t\texternal start pin: PMOD1_0_LS\n"
     ]
    }
   ],
   "source": [
    "soc = QickConfig(im[yaml_cfg['aliases']['soc']].get_cfg())\n",
    "print(soc)"
   ]
  },
  {
   "cell_type": "code",
   "execution_count": 14,
   "metadata": {},
   "outputs": [
    {
     "data": {
      "text/plain": [
       "0.0023251488095238095"
      ]
     },
     "execution_count": 14,
     "metadata": {},
     "output_type": "execute_result"
    }
   ],
   "source": [
    "soc.cycles2us(1)"
   ]
  },
  {
   "cell_type": "markdown",
   "metadata": {},
   "source": [
    "# choose experiment name"
   ]
  },
  {
   "cell_type": "code",
   "execution_count": 15,
   "metadata": {},
   "outputs": [
    {
     "name": "stdout",
     "output_type": "stream",
     "text": [
      "Path added at highest priority\n",
      "['C:\\\\_Lib\\\\python\\\\multimode_expts', 'c:\\\\_Lib\\\\python\\\\multimode_expts', 'C:\\\\_Lib\\\\python', 'C:\\\\_Lib\\\\python\\\\slab', 'C:\\\\_Lib\\\\python\\\\qick\\\\qick_lib', 'C:\\\\_Lib\\\\python\\\\rfsoc\\\\rfsoc_multimode\\\\example_expts', 'c:\\\\_Lib\\\\python\\\\multimode_expts', 'c:\\\\Users\\\\26049\\\\.conda\\\\envs\\\\slab\\\\python38.zip', 'c:\\\\Users\\\\26049\\\\.conda\\\\envs\\\\slab\\\\DLLs', 'c:\\\\Users\\\\26049\\\\.conda\\\\envs\\\\slab\\\\lib', 'c:\\\\Users\\\\26049\\\\.conda\\\\envs\\\\slab', '', 'C:\\\\Users\\\\26049\\\\AppData\\\\Roaming\\\\Python\\\\Python38\\\\site-packages', 'c:\\\\Users\\\\26049\\\\.conda\\\\envs\\\\slab\\\\lib\\\\site-packages', 'c:\\\\Users\\\\26049\\\\.conda\\\\envs\\\\slab\\\\lib\\\\site-packages\\\\easy_lmfit-1.0-py3.8.egg', 'c:\\\\Users\\\\26049\\\\.conda\\\\envs\\\\slab\\\\lib\\\\site-packages\\\\attrdict-2.0.1-py3.8.egg', 'c:\\\\Users\\\\26049\\\\.conda\\\\envs\\\\slab\\\\lib\\\\site-packages\\\\win32', 'c:\\\\Users\\\\26049\\\\.conda\\\\envs\\\\slab\\\\lib\\\\site-packages\\\\win32\\\\lib', 'c:\\\\Users\\\\26049\\\\.conda\\\\envs\\\\slab\\\\lib\\\\site-packages\\\\Pythonwin', '/home/xilinx/jupyter_notebooks/', 'C:\\\\_Lib\\\\python\\\\rfsoc\\\\rfsoc_multimode\\\\example_expts']\n",
      "importing from path  C:\\_Lib\\python\\multimode_expts\\experiments\\clifford_averager_program.py\n",
      "imported experiments.clifford_averager_program\n",
      "importing from path  C:\\_Lib\\python\\multimode_expts\\experiments\\fitting.py\n",
      "imported experiments.fitting\n",
      "importing from path  C:\\_Lib\\python\\multimode_expts\\experiments\\qram_protocol_timestepped.py\n",
      "imported experiments.qram_protocol_timestepped\n",
      "importing from path  C:\\_Lib\\python\\multimode_expts\\experiments\\qsim\n",
      "imported experiments.qsim.floquet_general\n",
      "importing from path  C:\\_Lib\\python\\multimode_expts\\experiments\\qubit_cavity\n",
      "imported experiments.qubit_cavity.amplitude_rabi_f0g1\n",
      "imported experiments.qubit_cavity.displacement_enhanced_sideband\n",
      "imported experiments.qubit_cavity.displace_amplitude_calibration\n",
      "imported experiments.qubit_cavity.displace_pulse_probe\n",
      "imported experiments.qubit_cavity.ecd\n",
      "imported experiments.qubit_cavity.ecd_backup\n",
      "imported experiments.qubit_cavity.ecd_read_spec\n",
      "imported experiments.qubit_cavity.non_demolution_readout\n",
      "imported experiments.qubit_cavity.out_and_back\n",
      "imported experiments.qubit_cavity.photo_resolved_pulse_probe\n",
      "imported experiments.qubit_cavity.qubit_cavity_opt\n",
      "imported experiments.qubit_cavity.single_mode_cats_wigner_tomography\n",
      "imported experiments.qubit_cavity.single_mode_wigner_tomography - Copy\n",
      "imported experiments.qubit_cavity.single_mode_wigner_tomography\n",
      "imported experiments.qubit_cavity.small_chi_calibration\n",
      "imported experiments.qubit_cavity.test_opt\n",
      "imported experiments.qubit_cavity.test_opt2\n",
      "imported experiments.qubit_cavity.test_opt_ecd\n",
      "importing from path  C:\\_Lib\\python\\multimode_expts\\experiments\\single_qubit\n",
      "imported experiments.single_qubit.acstarkshift_spectroscopy\n",
      "imported experiments.single_qubit.active_reset_single_shot\n",
      "imported experiments.single_qubit.amplitude_rabi\n",
      "imported experiments.single_qubit.amplitude_rabi_ef\n",
      "imported experiments.single_qubit.amplitude_rabi_general\n",
      "imported experiments.single_qubit.cavity2qubit\n",
      "imported experiments.single_qubit.cavity_spectroscopy\n",
      "imported experiments.single_qubit.dragpulse_calibration\n",
      "imported experiments.single_qubit.dual_rail_single_shot\n",
      "imported experiments.single_qubit.fast_reset_test\n",
      "imported experiments.single_qubit.flux_sweep\n",
      "imported experiments.single_qubit.length_rabi\n",
      "imported experiments.single_qubit.length_rabi_f0g1_general\n",
      "imported experiments.single_qubit.length_rabi_general\n",
      "imported experiments.single_qubit.normalize\n",
      "imported experiments.single_qubit.parity_delay\n",
      "imported experiments.single_qubit.parity_freq\n",
      "imported experiments.single_qubit.parity_gain\n",
      "imported experiments.single_qubit.parity_measurement_temp\n",
      "imported experiments.single_qubit.phase_sweep\n",
      "imported experiments.single_qubit.phase_sweep_averager\n",
      "imported experiments.single_qubit.pulse_cavity_probe_readout\n",
      "imported experiments.single_qubit.pulse_probe_ef_spectroscopy\n",
      "imported experiments.single_qubit.pulse_probe_f0g1_spectroscopy\n",
      "imported experiments.single_qubit.pulse_probe_spectroscopy\n",
      "imported experiments.single_qubit.pulse_probe_spectroscopy_prepulse\n",
      "imported experiments.single_qubit.ramsey_ef\n",
      "imported experiments.single_qubit.randbench\n",
      "imported experiments.single_qubit.rbam\n",
      "imported experiments.single_qubit.rb_BSgate\n",
      "imported experiments.single_qubit.rb_BSgate_check_target\n",
      "imported experiments.single_qubit.rb_BSgate_postselection\n",
      "imported experiments.single_qubit.rb_BSgate_postselection_storage\n",
      "imported experiments.single_qubit.rb_BSgate_ramsey\n",
      "imported experiments.single_qubit.rb_ziqian - Copy\n",
      "imported experiments.single_qubit.rb_ziqian copy\n",
      "imported experiments.single_qubit.rb_ziqian\n",
      "imported experiments.single_qubit.rb_ziqian_backup\n",
      "imported experiments.single_qubit.resonator_spectroscopy\n",
      "imported experiments.single_qubit.rfsoc_tof_calibration\n",
      "imported experiments.single_qubit.rf_flux_modulation_general\n",
      "imported experiments.single_qubit.rf_flux_spectroscopy\n",
      "imported experiments.single_qubit.rf_flux_spectroscopy_f0g1\n",
      "imported experiments.single_qubit.sideband_general\n",
      "imported experiments.single_qubit.sideband_t1_general\n",
      "imported experiments.single_qubit.single_shot\n",
      "imported experiments.single_qubit.single_shot_old\n",
      "imported experiments.single_qubit.single_shot_prepulse\n",
      "imported experiments.single_qubit.square_pulse\n",
      "imported experiments.single_qubit.t1\n",
      "imported experiments.single_qubit.t1_cavity\n",
      "imported experiments.single_qubit.t1_fluxonium\n",
      "imported experiments.single_qubit.t1_ring_down\n",
      "imported experiments.single_qubit.t2_cavity\n",
      "imported experiments.single_qubit.t2_echo\n",
      "imported experiments.single_qubit.t2_fluxonium\n",
      "imported experiments.single_qubit.t2_ramsey\n",
      "importing from path  C:\\_Lib\\python\\multimode_expts\\experiments\\two_qubit\n",
      "imported experiments.two_qubit.amplitude_rabi_EgGf\n",
      "imported experiments.two_qubit.length_rabi_EgGf\n",
      "imported experiments.two_qubit.length_rabi_pi_pulse_ZZ\n",
      "imported experiments.two_qubit.pulse_probe_coupling_spectroscopy\n",
      "imported experiments.two_qubit.pulse_probe_EgGf_spectroscopy\n",
      "imported experiments.two_qubit.twoqutrit_state_tomography\n",
      "imported experiments.two_qubit.twoQ_state_tomography\n",
      "C:\\_Lib\\python\\multimode_expts\\experiments\\__init__.py\n"
     ]
    }
   ],
   "source": [
    "import sys\n",
    "\n",
    "# Path to add\n",
    "expts_path = 'C:\\\\_Lib\\\\python\\\\multimode_expts'\n",
    "\n",
    "# Add the path to the system path at the highest priority\n",
    "if expts_path not in sys.path:\n",
    "    sys.path.insert(0, expts_path)\n",
    "    print('Path added at highest priority')\n",
    "\n",
    "# Verify the path is added\n",
    "print(sys.path)\n",
    "\n",
    "# Import the experiments module from multimode\n",
    "import experiments as meas\n",
    "\n",
    "# Verify the module is imported from the correct path\n",
    "print(meas.__file__)"
   ]
  },
  {
   "cell_type": "markdown",
   "metadata": {},
   "source": [
    "# Run experiments"
   ]
  },
  {
   "cell_type": "code",
   "execution_count": null,
   "metadata": {},
   "outputs": [],
   "source": [
    "# notuse expts\n",
    "# experiment_class, experiment_name = 'single_qubit.single_shot_old', 'HistogramExperiment_oldold'\n",
    "# experiment_class, experiment_name = 'single_qubit.single_shot', 'HistogramExperiment_old'\n",
    "# experiment_class, experiment_name = 'qubit_cavity.non_demolution_readout', 'DemolutionMeasurementExperiment'\n",
    "\n",
    "\n",
    "# experiment_class, experiment_name = 'single_qubit.phase_sweep', 'PhaseSweepExperiment'\n",
    "# experiment_class, experiment_name = 'single_qubit.phase_sweep_averager', 'PhaseSweepAveragerExperiment'\n",
    "# experiment_class, experiment_name = 'qubit_cavity.ecd', 'ECDExperiment'\n",
    "# experiment_class, experiment_name = 'qubit_cavity.ecd_read_spec', 'ECDReadSpecExperiment'\n",
    "# experiment_class, experiment_name = 'single_qubit.pulse_probe_ef_spectroscopy', 'PulseProbeEFSpectroscopyExperiment'\n",
    "# experiment_class, experiment_name = 'qubit_cavity.single_mode_wigner_tomography', 'WignerTomography1ModeExperiment'\n",
    "# experiment_class, experiment_name = 'qubit_cavity.single_mode_cats_wigner_tomography', 'WignerTomography1ModeCatExperiment'\n",
    "# experiment_class, experiment_name = 'single_qubit.amplitude_rabi_general', 'AmplitudeRabiGeneralExperiment'\n",
    "# experiment_class, experiment_name = 'single_qubit.amplitude_rabi_ef', 'AmplitudeRabiEFExperiment'\n",
    "# experiment_class, experiment_name = 'single_qubit.t2_echo', 'RamseyEchoExperiment'\n",
    "# experiment_class, experiment_name = 'single_qubit.t2_cavity', 'CavityRamseyExperiment_old'\n",
    "\n",
    "# experiment_class, experiment_name = 'single_qubit.cavity2qubit', 'Cavity2QubitSweepExperiment'"
   ]
  },
  {
   "cell_type": "code",
   "execution_count": 33,
   "metadata": {},
   "outputs": [
    {
     "name": "stdout",
     "output_type": "stream",
     "text": [
      "{'prepulse_qubit': {'freq': [3569.3482778089246], 'length': [0.06], 'gain': [30], 'phase': [0], 'repeat_time': 10}, 'device': {'qubit': {'T1': [127.0], 'f_ge': [3568.655054337803], 'f_ge_resolved': [3568.655054337803], 'f_ge_idle': [3568.655054337803], 'f_ef': [3425.3983357264633], 'f_ef_idle': [3425.3983357264633], 'ramp_sigma': [0.005], 'ramp_sigma_num': [3], 'pulses': {'pi_ge': {'gain': [11105], 'sigma': [0.035], 'length': [0], 'type': 'gauss'}, 'pi_ge_ftop': {'gain': [3000], 'sigma': [0.005], 'length': [0.190914187445986], 'type': 'flat_top'}, 'pi_ge_fast': {'gain': [10682], 'sigma': [0.035], 'length': [0], 'type': 'gauss'}, 'pi_ge_resolved': {'gain': [50], 'sigma': [0.005], 'length': [6.553697146578866], 'type': 'flat_top', 'repeat_no': 1}, 'hpi_ge': {'gain': [5282], 'length': [0], 'sigma': [0.035], 'type': 'gauss'}, 'hpi_ge_ftop': {'gain': [3000], 'sigma': [0.005], 'length': [0.09131395179924079], 'type': 'flat_top'}, 'hpi_ge_fast': {'gain': [5195], 'length': [0], 'sigma': [0.035], 'type': 'gauss'}, 'pi_ef_ftop': {'gain': [3000], 'sigma': [0.005], 'length': [0.15377089082752435], 'type': 'flat_top'}, 'pi_ef_new': {'gain': [3000], 'sigma': [0.005], 'length': [0.15377089082752435], 'type': 'flat_top'}, 'hpi_ef_ftop': {'gain': [3000], 'sigma': [0.005], 'length': [0.073291601301268], 'type': 'flat_top'}, 'hpi_ef_new': {'gain': [3000], 'sigma': [0.005], 'length': [0.073291601301268], 'type': 'flat_top'}, 'pi_ef': {'gain': [9530], 'length': [0], 'sigma': [0.035], 'type': 'gauss'}, 'hpi_ef': {'gain': [4425], 'sigma': [0.035], 'type': 'gauss'}, 'f0g1': {'gain': [20000], 'length': [0.4209728295970486], 'sigma': [0.005]}, 'pi_f0g1': {'sigma': [0.005]}, 'pi_m1si': {'sigma': [0.005]}, 'binomial_M1': {'ge_freq': [3568.18781776926, 3567.90056386609, 3567.61563457181, 3568.18781776926, 3568.18781776926], 'ge_gain': [9653, 9653, 9653, 9653, 9653], 'ge_sigma': [0.035, 0.035, 0.035, 0.035, 0.035], 'ef_freq': [3425.55703383178, 3425.30098176373, 3425.55703383178, 3425.55703383178, 3425.55703383178], 'ef_gain': [7575, 7575, 7575, 7575, 7575], 'ef_sigma': [0.035, 0.035, 0.035, 0.035, 0.035], 'f0g1_freq': [2006.76, 2006.22, 2006.76, 2006.76, 2006.76], 'f0g1_gain': [15000, 15000, 15000, 15000, 15000], 'f0g1_length': [0.621500217304513, 0.436074712309811, 0.621500217304513, 0.621500217304513, 0.621500217304513], 'f0g1_sigma': [0.005, 0.005, 0.005, 0.005, 0.005]}}, 'f0g1': 1828.6, 'cycles_add_to_R': 400}, 'QM': {'chi_shift_matrix': [[-142.92577186624158, -0.28725, -0.27214], [-0.28725, -0.006572659352514165, 0.0], [-0.27214, 0.0, -0.0034172418618254596]], 'pulses': {'qubit_pi_ge': {'gain': [[10682, 10682], [10682, 10682]], 'sigma': [[0.035, 0.035], [0.035, 0.035]], 'type': 'gauss'}, 'qubit_pi_ge_resolved': {'gain': [[50, 50], [50, 50]], 'sigma': [[0.005, 0.005], [0.005, 0.005]], 'length': [[6.553697146578866, 6.553697146578866], [6.553697146578866, 6.553697146578866]], 'type': 'flat_top'}, 'qubit_pi_ge_resolved_man': {'freq': [], 'gain': [50, 50], 'sigma': [0.005, 0.005], 'length': [6.288721018841144, 0], 'type': 'flat_top'}, 'f0g1': {'freq': [2007.09, 1834.84], 'gain': [15000, 15000], 'length': [0.615286689634651, 1.060413], 'hpilength': [0.3076433448173255, 0.528845], 'sigma': 0.005}, 'f1g2': {'freq': [2002.98, 1840.6], 'gain': [15000, 20000], 'length': [0.43461615322272, 0.9276287688775608], 'hpilength': [0.21730807661136, 0.4638143844387804], 'sigma': 0.005}}}, 'readout': {'trig_offset': 450, 'frequency': [748.8], 'gain': [700], 'phase': [116], 'threshold': [-142.19573962934146], 'threshold_list': [-142.19573962934146], 'man1_drive_list': [0], 'man2_drive_list': [0], 'readout_length': [1], 'relax_delay': [2500], 'confusion_matrix_with_reset': [0.9964530022802125, 0.0035469977197875036, 0.013768302080657598, 0.9862316979193424], 'confusion_matrix_without_reset': [0.9911499999999999, 0.008850000000000136, 0.023799999999999998, 0.9762]}, 'manipulate': {'trig_offset': 450, 'f_ge': [4984.026194477733, 5157.8527963217475], 'standard_dispalce': [0.05, 0.05], 'revival_time': [1.4338571581438915, 1.7366205852286094], 'gain_to_alpha': [0.00014281, 0.00020045], 'freq_to_alpha': [0.495062203431879, 0.0], 'gain': [2000, 2000], 'chi': [1.0, 1.0], 'readout_length': [8], 'phase': [-176.45792887777], 'cycles_add_to_Q': 260, 'idling_phase': [[0.0, 0.0], [0.0, 0.0]], 'idling_freq': [0, 0]}, 'storage': {'trig_offset': 450, 'f_ge': [6229.766612195359, 5300], 'gain': [1000, 2000], 'chi': [1.0, 1.0], 'readout_length': [8], 'phase': [-176.45792887777], 'storage_man_file': 'C:/_Lib/python/multimode_expts/man1_storage_swap_dataset.csv', 'idling_phase': [[-52.6696123, -22.7088024, 4.32404839, 1.74059096, 3.07928552, 131.15854816947694, -90.34878087129891], [-0.8543699, -116.043431, 3.45837055, 0.608331428, -2.036, 9.45, 95.59156092221656], [1.04040701, -3.74923237, -117.783814, 0.356992259, -2.45519509, 0.647967825, 12.8401564], [1.66740192, -4.21812224, 3.29786448, -154.122273, -1.60291285, -1.18402153, 5.044314], [4.82521854, 0.209877344, 5.59148305, 7.67963852, -91.167355, 1.30630108, 5.65421906], [3.70780701, 0.0768208841, 4.16044796, 2.61829414, 3.48690085, -37.3968965, 4.05643677], [3.84028579, -0.418792628, 4.0522379, 3.24634888, 2.06016015, 3.24251258, -22.4708301]], 'idling_freq': [-2.5937677197135596, -2.85371864950844, -2.446015004544113, -1.8393250164457633, -3.231025833205897, -3.2053137013077597, -2.935087792327744]}, 'active_reset': {'qubit_ge': [4000, 0.1422665780546079, 0.005], 'qubit_ef': [3000, 0.15377089082752435, 0.005], 'relax_delay': [50], 'M1_S_sigma': 0.005, 'chis': [0, -0.2901125302876254, -0.544001797571183], 'M_lossy': [[2313.44, 5000, 10, 2, 2], [2094.05, 8000, 15, 2, 2]]}}, 'hw': {'soc': {'dacs': {'qubit': {'ch': 2, 'type': 'full', 'nyquist': 1}, 'readout': {'ch': 5, 'type': 'full', 'nyquist': 1}, 'manipulate_in': {'ch': 4, 'type': 'full', 'nyquist': 2}, 'storage_in': {'ch': 6, 'type': 'full', 'nyquist': 2}, 'flux_low': {'ch': 1, 'type': 'full', 'nyquist': 1}, 'flux_high': {'ch': 3, 'type': 'full', 'nyquist': 1}, 'sideband': {'ch': 0, 'type': 'full', 'nyquist': 1}}, 'adcs': {'readout': {'ch': 0}, 'cavity_out': {'ch': 1}}}}, 'aliases': {'soc': 'Qick101'}, 'expt': {'start': 0.007, 'step': 0.05, 'qubits': [0], 'expts': 300, 'reps': 400, 'rounds': 1, 'flux_drive': ['low', 520.32, 5000, 0.05], 'prepulse': True, 'postpulse': True, 'active_reset': False, 'man_reset': True, 'storage_reset': True, 'update_post_pulse_phase': [False, 1.07], 'pre_sweep_pulse': [[3568.655054337803, 3425.3983357264633, 2006.8], [11105, 9530, 15000], [0, 0, 0.6077792185114786], [0, 0, 0], [2, 2, 0], ['g', 'g', 'flat_top'], [0.035, 0.035, 0.005]], 'post_sweep_pulse': [[2006.8], [15000], [0.6077792185114786], [0], [0], ['flat_top'], [0.005]]}}\n"
     ]
    },
    {
     "data": {
      "application/vnd.jupyter.widget-view+json": {
       "model_id": "03f2ffcc24de42b99f43ed1a75f16e9c",
       "version_major": 2,
       "version_minor": 0
      },
      "text/plain": [
       "  0%|          | 0/300 [00:00<?, ?it/s]"
      ]
     },
     "metadata": {},
     "output_type": "display_data"
    },
    {
     "name": "stdout",
     "output_type": "stream",
     "text": [
      "Saving H:\\Shared drives\\SLab\\Multimode\\experiment\\250307_qsim\\data\\00012_SidebandGeneralExperiment.h5\n"
     ]
    }
   ],
   "source": [
    "# ---------------------- Readout ----------------------\n",
    "# experiment_class, experiment_name = 'single_qubit.resonator_spectroscopy', 'ResonatorSpectroscopyExperiment' # for readout\n",
    "\n",
    "# ---------------------- Qubit ----------------------\n",
    "## Basic\n",
    "experiment_class, experiment_name = 'single_qubit.t1', 'T1Experiment'\n",
    "experiment_class, experiment_name = 'single_qubit.single_shot', 'HistogramExperiment'\n",
    "# experiment_class, experiment_name = 'single_qubit.t2_ramsey', 'RamseyExperiment'\n",
    "## Advanced\n",
    "# experiment_class, experiment_name = 'single_qubit.amplitude_rabi', 'AmplitudeRabiExperiment' # <-------------- for ge and ef\n",
    "# experiment_class, experiment_name = 'single_qubit.length_rabi_general', 'LengthRabiGeneralExperiment'\n",
    "# experiment_class, experiment_name = 'single_qubit.pulse_probe_spectroscopy', 'PulseProbeSpectroscopyExperiment'\n",
    "# experiment_class, experiment_name = 'single_qubit.pulse_probe_spectroscopy_prepulse', 'PulseProbePrePulseSpectroscopyExperiment'\n",
    "\n",
    "# ---------------------- Man Cavity ----------------------\n",
    "\n",
    "# experiment_class, experiment_name = 'single_qubit.cavity_spectroscopy', 'CavitySpectroscopyExperiment'\n",
    "# experiment_class, experiment_name = 'single_qubit.length_rabi_f0g1_general', 'LengthRabiGeneralF0g1Experiment'\n",
    "# experiment_class, experiment_name = 'single_qubit.t1_cavity', 'T1CavityExperiment'\n",
    "# experiment_class, experiment_name = 'single_qubit.t2_cavity', 'CavityRamseyExperiment' # -------\n",
    "# experiment_class, experiment_name = 'single_qubit.pulse_probe_f0g1_spectroscopy', 'PulseProbeF0g1SpectroscopyExperiment' # <--------------\n",
    "\n",
    "# ---------------------- Storage ----------------------\n",
    "# experiment_class, experiment_name = 'single_qubit.rf_flux_spectroscopy_f0g1', 'FluxSpectroscopyF0g1Experiment' \n",
    "experiment_class, experiment_name = 'single_qubit.sideband_general', 'SidebandGeneralExperiment'\n",
    "# experiment_class, experiment_name = 'single_qubit.sideband_t1_general', 'SidebandT1GeneralExperiment' # --------\n",
    "\n",
    "## Wigner Tomography \n",
    "# experiment_class, experiment_name = 'single_qubit.parity_delay', 'ParityDelayExperiment'\n",
    "# experiment_class, experiment_name = 'single_qubit.parity_gain', 'ParityGainExperiment'\n",
    "# experiment_class, experiment_name = 'single_qubit.parity_freq', 'ParityFreqExperiment'\n",
    "\n",
    "## Cavity Temperature \n",
    "# experiment_class, experiment_name = 'single_qubit.parity_measurement_temp', 'ParityTempExperiment'\n",
    "\n",
    "\n",
    "\n",
    "# experiment_class, experiment_name = 'single_qubit.single_shot_prepulse','HistogramPrepulseExperiment'\n",
    "# experiment_class, experiment_name = 'single_qubit.rb_ziqian', 'SingleRB'\n",
    "# experiment_class, experiment_name = 'single_qubit.rbam', 'MultiRBAM'\n",
    "# experiment_class, experiment_name = 'single_qubit.rb_BSgate', 'SingleBeamSplitterRB'\n",
    "# experiment_class, experiment_name = 'single_qubit.rb_BSgate_postselection', 'SingleBeamSplitterRBPostSelection'\n",
    "# experiment_class, experiment_name = 'single_qubit.rb_BSgate_check_target', 'SingleBeamSplitterRB_check_target'\n",
    "# experiment_class, experiment_name = 'single_qubit.rb_BSgate_ramsey', 'SingleBeamSplitterRB_ramsey'\n",
    "# experiment_class, experiment_name = 'qubit_cavity.displacement_enhanced_sideband', 'DisplacementEnhancedSidebandExperiment'\n",
    "\n",
    "# experiment_class, experiment_name = 'qubit_cavity.out_and_back', 'OutAndBackExperiment'\n",
    "# experiment_class, experiment_name = 'qubit_cavity.amplitude_rabi_f0g1', 'AmplitudeRabiF0g1Experiment'\n",
    "\n",
    "# experiment_class, experiment_name = 'single_qubit.dragpulse_calibration', 'DragCalibrationExperiment' \n",
    "# experiment_class, experiment_name = 'single_qubit.fast_reset_test', 'FastResetExperiment'\n",
    "# experiment_class, experiment_name = 'single_qubit.active_reset_single_shot', 'HistogramActiveResetExperiment'\n",
    "\n",
    "\n",
    "# \n",
    "\n",
    "run_exp = eval(f\"meas.{experiment_class}.{experiment_name}(soccfg=soc, path=expt_path, prefix=experiment_name, config_file=config_path)\")\n",
    "\n",
    "\n",
    "with open(exp_param_file, 'r') as file:\n",
    "\n",
    "    # Load the YAML contents\n",
    "    loaded = yaml.safe_load(file)\n",
    "    run_exp.cfg.expt = eval(f\"loaded['{experiment_name}']\")\n",
    "\n",
    "# special updates on device_config file\n",
    "run_exp.cfg.device.readout.relax_delay = [2500] # Wait time between experiments [us]\n",
    "print(run_exp.cfg)\n",
    "run_exp.go(analyze=False, display=False, progress=True, save=True)"
   ]
  },
  {
   "cell_type": "code",
   "execution_count": 25,
   "metadata": {},
   "outputs": [
    {
     "data": {
      "text/plain": [
       "<module 'experiments' from 'C:\\\\_Lib\\\\python\\\\multimode_expts\\\\experiments\\\\__init__.py'>"
      ]
     },
     "execution_count": 25,
     "metadata": {},
     "output_type": "execute_result"
    }
   ],
   "source": [
    "meas"
   ]
  },
  {
   "cell_type": "code",
   "execution_count": 21,
   "metadata": {},
   "outputs": [
    {
     "data": {
      "text/plain": [
       "[[3568.5231306126566, 3425.328569191211, 2007.54],\n",
       " [10973, 9530, 15000],\n",
       " [0, 0, 0.6164057205175526],\n",
       " [0, 0, 0],\n",
       " [2, 2, 0],\n",
       " ['g', 'g', 'flat_top'],\n",
       " [0.035, 0.035, 0.005]]"
      ]
     },
     "execution_count": 21,
     "metadata": {},
     "output_type": "execute_result"
    }
   ],
   "source": [
    "from MM_dual_rail_base import MM_dual_rail_base\n",
    "mm_base_dummy = MM_dual_rail_base(yaml_cfg)\n",
    "# prep_stor = mm_base_dummy.prep_random_state_mode(2,1)  # prepare the storage state + \n",
    "# prep_man_hpi = mm_base_dummy.prep_random_state_mode(3, 1)[:-1]  # prepare the storage state +\n",
    "prep_man_pi = mm_base_dummy.prep_man_photon(1)  # prepare the storage state +\n",
    "mm_base_dummy.get_prepulse_creator(   prep_man_pi).pulse.tolist()\n"
   ]
  },
  {
   "cell_type": "code",
   "execution_count": 46,
   "metadata": {},
   "outputs": [
    {
     "data": {
      "text/plain": [
       "array([['qubit', 'ge', 'pi', '0'],\n",
       "       ['qubit', 'ef', 'pi', '0'],\n",
       "       ['man', 'M1', 'pi', '0']], dtype='<U11')"
      ]
     },
     "execution_count": 46,
     "metadata": {},
     "output_type": "execute_result"
    }
   ],
   "source": [
    "prep_man"
   ]
  },
  {
   "cell_type": "code",
   "execution_count": 108,
   "metadata": {},
   "outputs": [
    {
     "data": {
      "text/plain": [
       "[[7, 8, 9], [4, 5, 6], [1, 2, 3], [1, 2, 3], [4, 5, 6], [7, 8, 9]]"
      ]
     },
     "execution_count": 108,
     "metadata": {},
     "output_type": "execute_result"
    }
   ],
   "source": [
    "# Sample NumPy array\n",
    "my_array = np.array([[1, 2, 3], [4, 5, 6], [7, 8, 9]]).tolist()\n",
    "\n",
    "# Reverse the array along axis 0\n",
    "reversed_array = np.flip(my_array, axis=0).tolist() + my_array\n",
    "\n",
    "reversed_array"
   ]
  },
  {
   "cell_type": "markdown",
   "metadata": {},
   "source": [
    "$\\text{Gain (linear)} = 10^{\\frac{\\text{dB}}{20}} $"
   ]
  },
  {
   "cell_type": "markdown",
   "metadata": {},
   "source": [
    "# Run sequential experiment"
   ]
  },
  {
   "cell_type": "code",
   "execution_count": 32,
   "metadata": {},
   "outputs": [
    {
     "name": "stdout",
     "output_type": "stream",
     "text": [
      "SidebandGeneralExperiment\n",
      "Index: 0 Freq. = 519.5 MHz\n",
      "Saving H:\\Shared drives\\SLab\\Multimode\\experiment\\250307_qsim\\data\\00328_sideband_general_sweep.h5\n",
      "Index: 1 Freq. = 519.55 MHz\n",
      "Saving H:\\Shared drives\\SLab\\Multimode\\experiment\\250307_qsim\\data\\00329_sideband_general_sweep.h5\n",
      "Index: 2 Freq. = 519.5999999999999 MHz\n",
      "Saving H:\\Shared drives\\SLab\\Multimode\\experiment\\250307_qsim\\data\\00330_sideband_general_sweep.h5\n",
      "Index: 3 Freq. = 519.6499999999999 MHz\n",
      "Saving H:\\Shared drives\\SLab\\Multimode\\experiment\\250307_qsim\\data\\00331_sideband_general_sweep.h5\n",
      "Index: 4 Freq. = 519.6999999999998 MHz\n",
      "Saving H:\\Shared drives\\SLab\\Multimode\\experiment\\250307_qsim\\data\\00332_sideband_general_sweep.h5\n",
      "Index: 5 Freq. = 519.7499999999998 MHz\n",
      "Saving H:\\Shared drives\\SLab\\Multimode\\experiment\\250307_qsim\\data\\00333_sideband_general_sweep.h5\n",
      "Index: 6 Freq. = 519.7999999999997 MHz\n",
      "Saving H:\\Shared drives\\SLab\\Multimode\\experiment\\250307_qsim\\data\\00334_sideband_general_sweep.h5\n",
      "Index: 7 Freq. = 519.8499999999997 MHz\n",
      "Saving H:\\Shared drives\\SLab\\Multimode\\experiment\\250307_qsim\\data\\00335_sideband_general_sweep.h5\n",
      "Index: 8 Freq. = 519.8999999999996 MHz\n",
      "Saving H:\\Shared drives\\SLab\\Multimode\\experiment\\250307_qsim\\data\\00336_sideband_general_sweep.h5\n",
      "Index: 9 Freq. = 519.9499999999996 MHz\n",
      "Saving H:\\Shared drives\\SLab\\Multimode\\experiment\\250307_qsim\\data\\00337_sideband_general_sweep.h5\n",
      "Index: 10 Freq. = 519.9999999999995 MHz\n",
      "Saving H:\\Shared drives\\SLab\\Multimode\\experiment\\250307_qsim\\data\\00338_sideband_general_sweep.h5\n",
      "Index: 11 Freq. = 520.0499999999995 MHz\n",
      "Saving H:\\Shared drives\\SLab\\Multimode\\experiment\\250307_qsim\\data\\00339_sideband_general_sweep.h5\n",
      "Index: 12 Freq. = 520.0999999999995 MHz\n",
      "Saving H:\\Shared drives\\SLab\\Multimode\\experiment\\250307_qsim\\data\\00340_sideband_general_sweep.h5\n",
      "Index: 13 Freq. = 520.1499999999994 MHz\n",
      "Saving H:\\Shared drives\\SLab\\Multimode\\experiment\\250307_qsim\\data\\00341_sideband_general_sweep.h5\n",
      "Index: 14 Freq. = 520.1999999999994 MHz\n",
      "Saving H:\\Shared drives\\SLab\\Multimode\\experiment\\250307_qsim\\data\\00342_sideband_general_sweep.h5\n",
      "Index: 15 Freq. = 520.2499999999993 MHz\n",
      "Saving H:\\Shared drives\\SLab\\Multimode\\experiment\\250307_qsim\\data\\00343_sideband_general_sweep.h5\n",
      "Index: 16 Freq. = 520.2999999999993 MHz\n",
      "Saving H:\\Shared drives\\SLab\\Multimode\\experiment\\250307_qsim\\data\\00344_sideband_general_sweep.h5\n",
      "Index: 17 Freq. = 520.3499999999992 MHz\n",
      "Saving H:\\Shared drives\\SLab\\Multimode\\experiment\\250307_qsim\\data\\00345_sideband_general_sweep.h5\n",
      "Index: 18 Freq. = 520.3999999999992 MHz\n",
      "Saving H:\\Shared drives\\SLab\\Multimode\\experiment\\250307_qsim\\data\\00346_sideband_general_sweep.h5\n",
      "Index: 19 Freq. = 520.4499999999991 MHz\n",
      "Saving H:\\Shared drives\\SLab\\Multimode\\experiment\\250307_qsim\\data\\00347_sideband_general_sweep.h5\n",
      "Index: 20 Freq. = 520.4999999999991 MHz\n",
      "Saving H:\\Shared drives\\SLab\\Multimode\\experiment\\250307_qsim\\data\\00348_sideband_general_sweep.h5\n",
      "Index: 21 Freq. = 520.549999999999 MHz\n",
      "Saving H:\\Shared drives\\SLab\\Multimode\\experiment\\250307_qsim\\data\\00349_sideband_general_sweep.h5\n",
      "Index: 22 Freq. = 520.599999999999 MHz\n",
      "Saving H:\\Shared drives\\SLab\\Multimode\\experiment\\250307_qsim\\data\\00350_sideband_general_sweep.h5\n",
      "Index: 23 Freq. = 520.649999999999 MHz\n",
      "Saving H:\\Shared drives\\SLab\\Multimode\\experiment\\250307_qsim\\data\\00351_sideband_general_sweep.h5\n",
      "Index: 24 Freq. = 520.6999999999989 MHz\n",
      "Saving H:\\Shared drives\\SLab\\Multimode\\experiment\\250307_qsim\\data\\00352_sideband_general_sweep.h5\n",
      "Index: 25 Freq. = 520.7499999999989 MHz\n",
      "Saving H:\\Shared drives\\SLab\\Multimode\\experiment\\250307_qsim\\data\\00353_sideband_general_sweep.h5\n",
      "Index: 26 Freq. = 520.7999999999988 MHz\n",
      "Saving H:\\Shared drives\\SLab\\Multimode\\experiment\\250307_qsim\\data\\00354_sideband_general_sweep.h5\n",
      "Index: 27 Freq. = 520.8499999999988 MHz\n",
      "Saving H:\\Shared drives\\SLab\\Multimode\\experiment\\250307_qsim\\data\\00355_sideband_general_sweep.h5\n",
      "Index: 28 Freq. = 520.8999999999987 MHz\n",
      "Saving H:\\Shared drives\\SLab\\Multimode\\experiment\\250307_qsim\\data\\00356_sideband_general_sweep.h5\n",
      "Index: 29 Freq. = 520.9499999999987 MHz\n",
      "Saving H:\\Shared drives\\SLab\\Multimode\\experiment\\250307_qsim\\data\\00357_sideband_general_sweep.h5\n"
     ]
    }
   ],
   "source": [
    "import multimode_expts.sequential_experiment as seq_exp\n",
    "\n",
    "experiment_name = 'length_rabi_sweep'\n",
    "# experiment_name = 'dc_flux_sweep'\n",
    "experiment_name = 'length_rabi_f0g1_sweep'\n",
    "# experiment_name = 'gain_displace_sweep'\n",
    "# experiment_name = 'sideband_general_sweep' # Deprecated\n",
    "experiment_class, experiment_name = 'sidebands_class', 'sideband_general_sweep'\n",
    "# experiment_class, experiment_name = 'sidebands_class', 'sideband_gain_freq_sweep'\n",
    "# experiment_class, experiment_name = 'sidebands_class', 'sideband_cross_kerr_cancellation'\n",
    "# experiment_name = 'single_shot_phase_sweep'\n",
    "# experiment_name = 'single_shot_freq_sweep'\n",
    "# experiment_name = 'HistogramExperiment_freq_sweep'\n",
    "# experiment_name = 'HistogramExperiment_ef_freq_sweep'\n",
    "# experiment_name = 'single_shot_time_sweep'\n",
    "# experiment_name = 'single_qubit_tomography'      # <--------------\n",
    "# experiment_name = 'SingleRB_sweep_freq'\n",
    "# experiment_name = 'SingleRB_sweep_pi_amp'\n",
    "# experiment_name = 'SingleRB_sweep_hpi_amp'\n",
    "# experiment_name = 'SingleRB_sweep_f0g1_phase'\n",
    "# experiment_name = 'SingleRB_sweep_de|pth_and_prepulse'\n",
    "# experiment_name = 'SingleRB_sweep_depth'\n",
    "# experiment_name = 'MultiRBAM_sweep_depth'\n",
    "# experiment_name = 'SingleBeamsplitterRB_sweep_depth'\n",
    "# experiment_name = 'SingleBeamSplitterRB_sweep_freq'\n",
    "# experiment_name = 'SingleBeamSplitterRB_gain_freq'\n",
    "# experiment_name = 'pulseprobe_f0g1_dc_flux_sweep'\n",
    "# experiment_name = 'PhaseSweepAverager_sweep_reps_middlepulse'\n",
    "# experiment_name = 'cavity_t1_dc_flux_sweep'\n",
    "# experiment_name = 'displace_enhanced_sweep'\n",
    "# experiment_name = 'fluxspectroscopy_f0g1_dc_flux_sweep'\n",
    "# experiment_name = 'storage_sideband_sweep'\n",
    "# experiment_name = 'sideband_fidelity_optimization'\n",
    "# experiment_name = 'storage_t1_optimization'\n",
    "# experiment_name = 'SingleBeamSplitterRBPostSelection_sweep_depth'#\n",
    "# experiment_name = 'SingleBeamSplitterRBPostSelection_sweep_depth_and_ram'\n",
    "# experiment_name = 'SingleBeamSplitterRBPostSelection_sweep_depth_and_single_spec'\n",
    "# experiment_name = 'DualRail_sweep_depth_and_single_spec_and_stor'\n",
    "# experiment_name = 'SingleBeamSplitterRBPostSelection_sweep_depth_storsweep'\n",
    "# experiment_name = 'SingleBeamSplitterRBPostSelection_sweep_depth_defined_storsweep'\n",
    "\n",
    "# experiment_name = 'ramsey_sweep'\n",
    "# experiment_name = 'cavity_ramsey_sweep'\n",
    "# experiment_name = 'manipulate_dc_flux_sweep'\n",
    "# experiment_name = 'rb_bs_optimization'\n",
    "# experiment_name = 'rb_bs_dual_rail_optimization'\n",
    "# experiment_name = 'cross_kerr_sweep'\n",
    "# experiment_name = 'single_dual_rail_tomography'\n",
    "# experiment_name = 'two_dual_rail_tomography'\n",
    "# experiment_name = 'cavity_t1_dc_flux_sweep_new'\n",
    "# experiment_name = 'cavity_temperature_sweep'\n",
    "# experiment_name = 'cavity_temperature_sweep_parity'\n",
    "# ---------------------- Dual Rail ----------------------\n",
    "# experiment_class, experiment_name = 'MM_dual_rail_seq_exp', 'SingleBeamSplitterRB_check_target_sweep_depth'\n",
    "# experiment_class, experiment_name = 'MM_dual_rail_seq_exp', 'SingleBeamSplitterRB_stor_ramsey_spec'\n",
    "# experiment_class, experiment_name = 'MM_dual_rail_seq_exp', 'SingleBeamSplitterRB_stor_ramsey_spec_for_sp_pairs'\n",
    "\n",
    "\n",
    "# ---------------------- Cavity RTamsey ----------------------\n",
    "# experiment_class, experiment_name = 'sweep_cavity_ramsey_expts', 'cavity_temperature_sweep_parity_with_without_reset'\n",
    "# experiment_class, experiment_name = 'sweep_cavity_ramsey_expts', 'cavity_ramsey_with_spectators'\n",
    "# experiment_class, experiment_name = 'sweep_cavity_ramsey_expts', 'stor_cavity_ramsey_sweep'\n",
    "\n",
    "# ---------------------- storage sweep-----------\n",
    "# experiment_class, experiment_name = 'storage_sweep_class', 'storage_t1_sweep'\n",
    "\n",
    "\n",
    "# Option 1\n",
    "# class_for_exp = eval('seq_exp.' + experiment_class)()\n",
    "# eval('class_for_exp.' + experiment_name)(soccfg=soc, path=expt_path, prefix=experiment_name, config_file=config_path, exp_param_file=exp_param_file)\n",
    "\n",
    "# Option 2\n",
    "# eval('seq_exp.' + experiment_name)(soccfg=soc, path=expt_path, prefix=experiment_name, config_file=config_path, exp_param_file=exp_param_file)\n",
    "\n",
    "# Option 3\n",
    "class_for_exp = eval('seq_exp.' + experiment_class)(soccfg=soc, path=expt_path, prefix=experiment_name, config_file=config_path, exp_param_file=exp_param_file)\n",
    "eval('class_for_exp.run_sweep')( sweep_experiment_name = experiment_name)\n"
   ]
  },
  {
   "cell_type": "code",
   "execution_count": 20,
   "metadata": {},
   "outputs": [
    {
     "name": "stdout",
     "output_type": "stream",
     "text": [
      "Loaded:  {'init_storage': 4, 'start': 0.007, 'step': 60, 'qubits': [0], 'expts': 100, 'reps': 100, 'rounds': 1, 'flux_drive': ['low', 874, 9000, 0.05], 'prepulse': True, 'postpulse': True, 'active_reset': False, 'man_reset': False, 'storage_reset': False, 'update_post_pulse_phase': [False, 1.07], 'floquet_cycles': 1}\n",
      "Config is:  {'init_storage': 4, 'start': 0.007, 'step': 60, 'qubits': [0], 'expts': 100, 'reps': 100, 'rounds': 1, 'flux_drive': ['low', 874, 9000, 0.05], 'prepulse': True, 'postpulse': True, 'active_reset': False, 'man_reset': False, 'storage_reset': False, 'update_post_pulse_phase': [False, 1.07], 'floquet_cycles': 1}\n"
     ]
    },
    {
     "data": {
      "application/vnd.jupyter.widget-view+json": {
       "model_id": "56d7ede5846a420fb18981867c1ef7f1",
       "version_major": 2,
       "version_minor": 0
      },
      "text/plain": [
       "  0%|          | 0/7 [00:00<?, ?it/s]"
      ]
     },
     "metadata": {},
     "output_type": "display_data"
    },
    {
     "name": "stdout",
     "output_type": "stream",
     "text": [
      "['ge', 'pi', 0]\n",
      "['ef', 'pi', 0]\n",
      "['ge', 'pi', 0]\n",
      "['ef', 'pi', 0]\n",
      "['ge', 'pi', 0]\n",
      "['ef', 'pi', 0]\n",
      "['ge', 'pi', 0]\n",
      "['ef', 'pi', 0]\n",
      "['ge', 'pi', 0]\n",
      "['ef', 'pi', 0]\n",
      "['ge', 'pi', 0]\n",
      "['ef', 'pi', 0]\n",
      "['ge', 'pi', 0]\n",
      "['ef', 'pi', 0]\n",
      "Saving H:\\Shared drives\\SLab\\Multimode\\experiment\\250307_qsim\\data\\00595_storage_sweep.h5\n",
      "Loaded:  {'init_storage': 4, 'start': 0.007, 'step': 60, 'qubits': [0], 'expts': 100, 'reps': 100, 'rounds': 1, 'flux_drive': ['low', 874, 9000, 0.05], 'prepulse': True, 'postpulse': True, 'active_reset': False, 'man_reset': False, 'storage_reset': False, 'update_post_pulse_phase': [False, 1.07], 'floquet_cycles': 6}\n",
      "Config is:  {'init_storage': 4, 'start': 0.007, 'step': 60, 'qubits': [0], 'expts': 100, 'reps': 100, 'rounds': 1, 'flux_drive': ['low', 874, 9000, 0.05], 'prepulse': True, 'postpulse': True, 'active_reset': False, 'man_reset': False, 'storage_reset': False, 'update_post_pulse_phase': [False, 1.07], 'floquet_cycles': 6}\n"
     ]
    },
    {
     "data": {
      "application/vnd.jupyter.widget-view+json": {
       "model_id": "ed9be02283234134b720bce2126921bb",
       "version_major": 2,
       "version_minor": 0
      },
      "text/plain": [
       "  0%|          | 0/7 [00:00<?, ?it/s]"
      ]
     },
     "metadata": {},
     "output_type": "display_data"
    },
    {
     "name": "stdout",
     "output_type": "stream",
     "text": [
      "['ge', 'pi', 0]\n",
      "['ef', 'pi', 0]\n",
      "['ge', 'pi', 0]\n",
      "['ef', 'pi', 0]\n",
      "['ge', 'pi', 0]\n",
      "['ef', 'pi', 0]\n",
      "['ge', 'pi', 0]\n",
      "['ef', 'pi', 0]\n",
      "['ge', 'pi', 0]\n",
      "['ef', 'pi', 0]\n",
      "['ge', 'pi', 0]\n",
      "['ef', 'pi', 0]\n",
      "['ge', 'pi', 0]\n",
      "['ef', 'pi', 0]\n",
      "Saving H:\\Shared drives\\SLab\\Multimode\\experiment\\250307_qsim\\data\\00596_storage_sweep.h5\n",
      "Loaded:  {'init_storage': 4, 'start': 0.007, 'step': 60, 'qubits': [0], 'expts': 100, 'reps': 100, 'rounds': 1, 'flux_drive': ['low', 874, 9000, 0.05], 'prepulse': True, 'postpulse': True, 'active_reset': False, 'man_reset': False, 'storage_reset': False, 'update_post_pulse_phase': [False, 1.07], 'floquet_cycles': 11}\n",
      "Config is:  {'init_storage': 4, 'start': 0.007, 'step': 60, 'qubits': [0], 'expts': 100, 'reps': 100, 'rounds': 1, 'flux_drive': ['low', 874, 9000, 0.05], 'prepulse': True, 'postpulse': True, 'active_reset': False, 'man_reset': False, 'storage_reset': False, 'update_post_pulse_phase': [False, 1.07], 'floquet_cycles': 11}\n"
     ]
    },
    {
     "data": {
      "application/vnd.jupyter.widget-view+json": {
       "model_id": "71b6ea41a1e947639af39a2d9f998208",
       "version_major": 2,
       "version_minor": 0
      },
      "text/plain": [
       "  0%|          | 0/7 [00:00<?, ?it/s]"
      ]
     },
     "metadata": {},
     "output_type": "display_data"
    },
    {
     "name": "stdout",
     "output_type": "stream",
     "text": [
      "['ge', 'pi', 0]\n",
      "['ef', 'pi', 0]\n",
      "['ge', 'pi', 0]\n",
      "['ef', 'pi', 0]\n",
      "['ge', 'pi', 0]\n",
      "['ef', 'pi', 0]\n",
      "['ge', 'pi', 0]\n",
      "['ef', 'pi', 0]\n",
      "['ge', 'pi', 0]\n",
      "['ef', 'pi', 0]\n",
      "['ge', 'pi', 0]\n",
      "['ef', 'pi', 0]\n",
      "['ge', 'pi', 0]\n",
      "['ef', 'pi', 0]\n",
      "Saving H:\\Shared drives\\SLab\\Multimode\\experiment\\250307_qsim\\data\\00597_storage_sweep.h5\n",
      "Loaded:  {'init_storage': 4, 'start': 0.007, 'step': 60, 'qubits': [0], 'expts': 100, 'reps': 100, 'rounds': 1, 'flux_drive': ['low', 874, 9000, 0.05], 'prepulse': True, 'postpulse': True, 'active_reset': False, 'man_reset': False, 'storage_reset': False, 'update_post_pulse_phase': [False, 1.07], 'floquet_cycles': 16}\n",
      "Config is:  {'init_storage': 4, 'start': 0.007, 'step': 60, 'qubits': [0], 'expts': 100, 'reps': 100, 'rounds': 1, 'flux_drive': ['low', 874, 9000, 0.05], 'prepulse': True, 'postpulse': True, 'active_reset': False, 'man_reset': False, 'storage_reset': False, 'update_post_pulse_phase': [False, 1.07], 'floquet_cycles': 16}\n"
     ]
    },
    {
     "data": {
      "application/vnd.jupyter.widget-view+json": {
       "model_id": "80de80eb3bbf490cb02c67e372302874",
       "version_major": 2,
       "version_minor": 0
      },
      "text/plain": [
       "  0%|          | 0/7 [00:00<?, ?it/s]"
      ]
     },
     "metadata": {},
     "output_type": "display_data"
    },
    {
     "name": "stdout",
     "output_type": "stream",
     "text": [
      "['ge', 'pi', 0]\n",
      "['ef', 'pi', 0]\n",
      "['ge', 'pi', 0]\n",
      "['ef', 'pi', 0]\n",
      "['ge', 'pi', 0]\n",
      "['ef', 'pi', 0]\n",
      "['ge', 'pi', 0]\n",
      "['ef', 'pi', 0]\n",
      "['ge', 'pi', 0]\n",
      "['ef', 'pi', 0]\n",
      "['ge', 'pi', 0]\n",
      "['ef', 'pi', 0]\n",
      "['ge', 'pi', 0]\n",
      "['ef', 'pi', 0]\n",
      "Saving H:\\Shared drives\\SLab\\Multimode\\experiment\\250307_qsim\\data\\00598_storage_sweep.h5\n",
      "Loaded:  {'init_storage': 4, 'start': 0.007, 'step': 60, 'qubits': [0], 'expts': 100, 'reps': 100, 'rounds': 1, 'flux_drive': ['low', 874, 9000, 0.05], 'prepulse': True, 'postpulse': True, 'active_reset': False, 'man_reset': False, 'storage_reset': False, 'update_post_pulse_phase': [False, 1.07], 'floquet_cycles': 21}\n",
      "Config is:  {'init_storage': 4, 'start': 0.007, 'step': 60, 'qubits': [0], 'expts': 100, 'reps': 100, 'rounds': 1, 'flux_drive': ['low', 874, 9000, 0.05], 'prepulse': True, 'postpulse': True, 'active_reset': False, 'man_reset': False, 'storage_reset': False, 'update_post_pulse_phase': [False, 1.07], 'floquet_cycles': 21}\n"
     ]
    },
    {
     "data": {
      "application/vnd.jupyter.widget-view+json": {
       "model_id": "00c13702193c43de88481c9b8401e191",
       "version_major": 2,
       "version_minor": 0
      },
      "text/plain": [
       "  0%|          | 0/7 [00:00<?, ?it/s]"
      ]
     },
     "metadata": {},
     "output_type": "display_data"
    },
    {
     "name": "stdout",
     "output_type": "stream",
     "text": [
      "['ge', 'pi', 0]\n",
      "['ef', 'pi', 0]\n",
      "['ge', 'pi', 0]\n",
      "['ef', 'pi', 0]\n",
      "['ge', 'pi', 0]\n",
      "['ef', 'pi', 0]\n",
      "['ge', 'pi', 0]\n",
      "['ef', 'pi', 0]\n",
      "['ge', 'pi', 0]\n",
      "['ef', 'pi', 0]\n",
      "['ge', 'pi', 0]\n",
      "['ef', 'pi', 0]\n",
      "['ge', 'pi', 0]\n",
      "['ef', 'pi', 0]\n",
      "Saving H:\\Shared drives\\SLab\\Multimode\\experiment\\250307_qsim\\data\\00599_storage_sweep.h5\n",
      "Loaded:  {'init_storage': 4, 'start': 0.007, 'step': 60, 'qubits': [0], 'expts': 100, 'reps': 100, 'rounds': 1, 'flux_drive': ['low', 874, 9000, 0.05], 'prepulse': True, 'postpulse': True, 'active_reset': False, 'man_reset': False, 'storage_reset': False, 'update_post_pulse_phase': [False, 1.07], 'floquet_cycles': 26}\n",
      "Config is:  {'init_storage': 4, 'start': 0.007, 'step': 60, 'qubits': [0], 'expts': 100, 'reps': 100, 'rounds': 1, 'flux_drive': ['low', 874, 9000, 0.05], 'prepulse': True, 'postpulse': True, 'active_reset': False, 'man_reset': False, 'storage_reset': False, 'update_post_pulse_phase': [False, 1.07], 'floquet_cycles': 26}\n"
     ]
    },
    {
     "data": {
      "application/vnd.jupyter.widget-view+json": {
       "model_id": "baf0462eda124667a63ffae01eeb1b99",
       "version_major": 2,
       "version_minor": 0
      },
      "text/plain": [
       "  0%|          | 0/7 [00:00<?, ?it/s]"
      ]
     },
     "metadata": {},
     "output_type": "display_data"
    },
    {
     "name": "stdout",
     "output_type": "stream",
     "text": [
      "['ge', 'pi', 0]\n",
      "['ef', 'pi', 0]\n",
      "['ge', 'pi', 0]\n",
      "['ef', 'pi', 0]\n",
      "['ge', 'pi', 0]\n",
      "['ef', 'pi', 0]\n",
      "['ge', 'pi', 0]\n",
      "['ef', 'pi', 0]\n",
      "['ge', 'pi', 0]\n",
      "['ef', 'pi', 0]\n",
      "['ge', 'pi', 0]\n",
      "['ef', 'pi', 0]\n",
      "['ge', 'pi', 0]\n",
      "['ef', 'pi', 0]\n",
      "Saving H:\\Shared drives\\SLab\\Multimode\\experiment\\250307_qsim\\data\\00600_storage_sweep.h5\n",
      "Loaded:  {'init_storage': 4, 'start': 0.007, 'step': 60, 'qubits': [0], 'expts': 100, 'reps': 100, 'rounds': 1, 'flux_drive': ['low', 874, 9000, 0.05], 'prepulse': True, 'postpulse': True, 'active_reset': False, 'man_reset': False, 'storage_reset': False, 'update_post_pulse_phase': [False, 1.07], 'floquet_cycles': 31}\n",
      "Config is:  {'init_storage': 4, 'start': 0.007, 'step': 60, 'qubits': [0], 'expts': 100, 'reps': 100, 'rounds': 1, 'flux_drive': ['low', 874, 9000, 0.05], 'prepulse': True, 'postpulse': True, 'active_reset': False, 'man_reset': False, 'storage_reset': False, 'update_post_pulse_phase': [False, 1.07], 'floquet_cycles': 31}\n"
     ]
    },
    {
     "data": {
      "application/vnd.jupyter.widget-view+json": {
       "model_id": "7a92135bff6f41c288bd60fefcd193ef",
       "version_major": 2,
       "version_minor": 0
      },
      "text/plain": [
       "  0%|          | 0/7 [00:00<?, ?it/s]"
      ]
     },
     "metadata": {},
     "output_type": "display_data"
    },
    {
     "name": "stdout",
     "output_type": "stream",
     "text": [
      "['ge', 'pi', 0]\n",
      "['ef', 'pi', 0]\n",
      "['ge', 'pi', 0]\n",
      "['ef', 'pi', 0]\n",
      "['ge', 'pi', 0]\n",
      "['ef', 'pi', 0]\n",
      "['ge', 'pi', 0]\n",
      "['ef', 'pi', 0]\n",
      "['ge', 'pi', 0]\n",
      "['ef', 'pi', 0]\n",
      "['ge', 'pi', 0]\n",
      "['ef', 'pi', 0]\n",
      "['ge', 'pi', 0]\n",
      "['ef', 'pi', 0]\n",
      "Saving H:\\Shared drives\\SLab\\Multimode\\experiment\\250307_qsim\\data\\00601_storage_sweep.h5\n",
      "Loaded:  {'init_storage': 4, 'start': 0.007, 'step': 60, 'qubits': [0], 'expts': 100, 'reps': 100, 'rounds': 1, 'flux_drive': ['low', 874, 9000, 0.05], 'prepulse': True, 'postpulse': True, 'active_reset': False, 'man_reset': False, 'storage_reset': False, 'update_post_pulse_phase': [False, 1.07], 'floquet_cycles': 36}\n",
      "Config is:  {'init_storage': 4, 'start': 0.007, 'step': 60, 'qubits': [0], 'expts': 100, 'reps': 100, 'rounds': 1, 'flux_drive': ['low', 874, 9000, 0.05], 'prepulse': True, 'postpulse': True, 'active_reset': False, 'man_reset': False, 'storage_reset': False, 'update_post_pulse_phase': [False, 1.07], 'floquet_cycles': 36}\n"
     ]
    },
    {
     "data": {
      "application/vnd.jupyter.widget-view+json": {
       "model_id": "b978ff3648734fd1a3169241b0bc873b",
       "version_major": 2,
       "version_minor": 0
      },
      "text/plain": [
       "  0%|          | 0/7 [00:00<?, ?it/s]"
      ]
     },
     "metadata": {},
     "output_type": "display_data"
    },
    {
     "name": "stdout",
     "output_type": "stream",
     "text": [
      "['ge', 'pi', 0]\n",
      "['ef', 'pi', 0]\n",
      "['ge', 'pi', 0]\n",
      "['ef', 'pi', 0]\n",
      "['ge', 'pi', 0]\n",
      "['ef', 'pi', 0]\n",
      "['ge', 'pi', 0]\n",
      "['ef', 'pi', 0]\n",
      "['ge', 'pi', 0]\n",
      "['ef', 'pi', 0]\n",
      "['ge', 'pi', 0]\n",
      "['ef', 'pi', 0]\n",
      "['ge', 'pi', 0]\n",
      "['ef', 'pi', 0]\n",
      "Saving H:\\Shared drives\\SLab\\Multimode\\experiment\\250307_qsim\\data\\00602_storage_sweep.h5\n",
      "Loaded:  {'init_storage': 4, 'start': 0.007, 'step': 60, 'qubits': [0], 'expts': 100, 'reps': 100, 'rounds': 1, 'flux_drive': ['low', 874, 9000, 0.05], 'prepulse': True, 'postpulse': True, 'active_reset': False, 'man_reset': False, 'storage_reset': False, 'update_post_pulse_phase': [False, 1.07], 'floquet_cycles': 41}\n",
      "Config is:  {'init_storage': 4, 'start': 0.007, 'step': 60, 'qubits': [0], 'expts': 100, 'reps': 100, 'rounds': 1, 'flux_drive': ['low', 874, 9000, 0.05], 'prepulse': True, 'postpulse': True, 'active_reset': False, 'man_reset': False, 'storage_reset': False, 'update_post_pulse_phase': [False, 1.07], 'floquet_cycles': 41}\n"
     ]
    },
    {
     "data": {
      "application/vnd.jupyter.widget-view+json": {
       "model_id": "21535250f34347ca8211b31bd23e71cd",
       "version_major": 2,
       "version_minor": 0
      },
      "text/plain": [
       "  0%|          | 0/7 [00:00<?, ?it/s]"
      ]
     },
     "metadata": {},
     "output_type": "display_data"
    },
    {
     "name": "stdout",
     "output_type": "stream",
     "text": [
      "['ge', 'pi', 0]\n",
      "['ef', 'pi', 0]\n",
      "['ge', 'pi', 0]\n",
      "['ef', 'pi', 0]\n",
      "['ge', 'pi', 0]\n",
      "['ef', 'pi', 0]\n",
      "['ge', 'pi', 0]\n",
      "['ef', 'pi', 0]\n",
      "['ge', 'pi', 0]\n",
      "['ef', 'pi', 0]\n",
      "['ge', 'pi', 0]\n",
      "['ef', 'pi', 0]\n",
      "['ge', 'pi', 0]\n",
      "['ef', 'pi', 0]\n",
      "Saving H:\\Shared drives\\SLab\\Multimode\\experiment\\250307_qsim\\data\\00603_storage_sweep.h5\n",
      "Loaded:  {'init_storage': 4, 'start': 0.007, 'step': 60, 'qubits': [0], 'expts': 100, 'reps': 100, 'rounds': 1, 'flux_drive': ['low', 874, 9000, 0.05], 'prepulse': True, 'postpulse': True, 'active_reset': False, 'man_reset': False, 'storage_reset': False, 'update_post_pulse_phase': [False, 1.07], 'floquet_cycles': 46}\n",
      "Config is:  {'init_storage': 4, 'start': 0.007, 'step': 60, 'qubits': [0], 'expts': 100, 'reps': 100, 'rounds': 1, 'flux_drive': ['low', 874, 9000, 0.05], 'prepulse': True, 'postpulse': True, 'active_reset': False, 'man_reset': False, 'storage_reset': False, 'update_post_pulse_phase': [False, 1.07], 'floquet_cycles': 46}\n"
     ]
    },
    {
     "data": {
      "application/vnd.jupyter.widget-view+json": {
       "model_id": "c43e3d9a3e2f47168b5f2c7dd8c0c866",
       "version_major": 2,
       "version_minor": 0
      },
      "text/plain": [
       "  0%|          | 0/7 [00:00<?, ?it/s]"
      ]
     },
     "metadata": {},
     "output_type": "display_data"
    },
    {
     "name": "stdout",
     "output_type": "stream",
     "text": [
      "['ge', 'pi', 0]\n",
      "['ef', 'pi', 0]\n",
      "['ge', 'pi', 0]\n",
      "['ef', 'pi', 0]\n",
      "['ge', 'pi', 0]\n",
      "['ef', 'pi', 0]\n",
      "['ge', 'pi', 0]\n",
      "['ef', 'pi', 0]\n",
      "['ge', 'pi', 0]\n",
      "['ef', 'pi', 0]\n",
      "['ge', 'pi', 0]\n",
      "['ef', 'pi', 0]\n",
      "['ge', 'pi', 0]\n",
      "['ef', 'pi', 0]\n",
      "Saving H:\\Shared drives\\SLab\\Multimode\\experiment\\250307_qsim\\data\\00604_storage_sweep.h5\n",
      "Loaded:  {'init_storage': 4, 'start': 0.007, 'step': 60, 'qubits': [0], 'expts': 100, 'reps': 100, 'rounds': 1, 'flux_drive': ['low', 874, 9000, 0.05], 'prepulse': True, 'postpulse': True, 'active_reset': False, 'man_reset': False, 'storage_reset': False, 'update_post_pulse_phase': [False, 1.07], 'floquet_cycles': 51}\n",
      "Config is:  {'init_storage': 4, 'start': 0.007, 'step': 60, 'qubits': [0], 'expts': 100, 'reps': 100, 'rounds': 1, 'flux_drive': ['low', 874, 9000, 0.05], 'prepulse': True, 'postpulse': True, 'active_reset': False, 'man_reset': False, 'storage_reset': False, 'update_post_pulse_phase': [False, 1.07], 'floquet_cycles': 51}\n"
     ]
    },
    {
     "data": {
      "application/vnd.jupyter.widget-view+json": {
       "model_id": "2b9af65040e94306aad4cbd90649fc3d",
       "version_major": 2,
       "version_minor": 0
      },
      "text/plain": [
       "  0%|          | 0/7 [00:00<?, ?it/s]"
      ]
     },
     "metadata": {},
     "output_type": "display_data"
    },
    {
     "name": "stdout",
     "output_type": "stream",
     "text": [
      "['ge', 'pi', 0]\n",
      "['ef', 'pi', 0]\n",
      "['ge', 'pi', 0]\n",
      "['ef', 'pi', 0]\n",
      "['ge', 'pi', 0]\n",
      "['ef', 'pi', 0]\n",
      "['ge', 'pi', 0]\n",
      "['ef', 'pi', 0]\n",
      "['ge', 'pi', 0]\n",
      "['ef', 'pi', 0]\n",
      "['ge', 'pi', 0]\n",
      "['ef', 'pi', 0]\n",
      "['ge', 'pi', 0]\n",
      "['ef', 'pi', 0]\n",
      "Saving H:\\Shared drives\\SLab\\Multimode\\experiment\\250307_qsim\\data\\00605_storage_sweep.h5\n",
      "Loaded:  {'init_storage': 4, 'start': 0.007, 'step': 60, 'qubits': [0], 'expts': 100, 'reps': 100, 'rounds': 1, 'flux_drive': ['low', 874, 9000, 0.05], 'prepulse': True, 'postpulse': True, 'active_reset': False, 'man_reset': False, 'storage_reset': False, 'update_post_pulse_phase': [False, 1.07], 'floquet_cycles': 56}\n",
      "Config is:  {'init_storage': 4, 'start': 0.007, 'step': 60, 'qubits': [0], 'expts': 100, 'reps': 100, 'rounds': 1, 'flux_drive': ['low', 874, 9000, 0.05], 'prepulse': True, 'postpulse': True, 'active_reset': False, 'man_reset': False, 'storage_reset': False, 'update_post_pulse_phase': [False, 1.07], 'floquet_cycles': 56}\n"
     ]
    },
    {
     "data": {
      "application/vnd.jupyter.widget-view+json": {
       "model_id": "039c3c8f71bf4be7adc1873b4dd439cb",
       "version_major": 2,
       "version_minor": 0
      },
      "text/plain": [
       "  0%|          | 0/7 [00:00<?, ?it/s]"
      ]
     },
     "metadata": {},
     "output_type": "display_data"
    },
    {
     "name": "stdout",
     "output_type": "stream",
     "text": [
      "['ge', 'pi', 0]\n",
      "['ef', 'pi', 0]\n",
      "['ge', 'pi', 0]\n",
      "['ef', 'pi', 0]\n",
      "['ge', 'pi', 0]\n",
      "['ef', 'pi', 0]\n",
      "['ge', 'pi', 0]\n",
      "['ef', 'pi', 0]\n",
      "['ge', 'pi', 0]\n",
      "['ef', 'pi', 0]\n",
      "['ge', 'pi', 0]\n",
      "['ef', 'pi', 0]\n",
      "['ge', 'pi', 0]\n",
      "['ef', 'pi', 0]\n",
      "Saving H:\\Shared drives\\SLab\\Multimode\\experiment\\250307_qsim\\data\\00606_storage_sweep.h5\n",
      "Loaded:  {'init_storage': 4, 'start': 0.007, 'step': 60, 'qubits': [0], 'expts': 100, 'reps': 100, 'rounds': 1, 'flux_drive': ['low', 874, 9000, 0.05], 'prepulse': True, 'postpulse': True, 'active_reset': False, 'man_reset': False, 'storage_reset': False, 'update_post_pulse_phase': [False, 1.07], 'floquet_cycles': 61}\n",
      "Config is:  {'init_storage': 4, 'start': 0.007, 'step': 60, 'qubits': [0], 'expts': 100, 'reps': 100, 'rounds': 1, 'flux_drive': ['low', 874, 9000, 0.05], 'prepulse': True, 'postpulse': True, 'active_reset': False, 'man_reset': False, 'storage_reset': False, 'update_post_pulse_phase': [False, 1.07], 'floquet_cycles': 61}\n"
     ]
    },
    {
     "data": {
      "application/vnd.jupyter.widget-view+json": {
       "model_id": "5dc25fb44c9c416e98d55be9f685aa82",
       "version_major": 2,
       "version_minor": 0
      },
      "text/plain": [
       "  0%|          | 0/7 [00:00<?, ?it/s]"
      ]
     },
     "metadata": {},
     "output_type": "display_data"
    },
    {
     "name": "stdout",
     "output_type": "stream",
     "text": [
      "['ge', 'pi', 0]\n",
      "['ef', 'pi', 0]\n",
      "['ge', 'pi', 0]\n",
      "['ef', 'pi', 0]\n",
      "['ge', 'pi', 0]\n",
      "['ef', 'pi', 0]\n",
      "['ge', 'pi', 0]\n",
      "['ef', 'pi', 0]\n",
      "['ge', 'pi', 0]\n",
      "['ef', 'pi', 0]\n",
      "['ge', 'pi', 0]\n",
      "['ef', 'pi', 0]\n",
      "['ge', 'pi', 0]\n",
      "['ef', 'pi', 0]\n",
      "Saving H:\\Shared drives\\SLab\\Multimode\\experiment\\250307_qsim\\data\\00607_storage_sweep.h5\n",
      "Loaded:  {'init_storage': 4, 'start': 0.007, 'step': 60, 'qubits': [0], 'expts': 100, 'reps': 100, 'rounds': 1, 'flux_drive': ['low', 874, 9000, 0.05], 'prepulse': True, 'postpulse': True, 'active_reset': False, 'man_reset': False, 'storage_reset': False, 'update_post_pulse_phase': [False, 1.07], 'floquet_cycles': 66}\n",
      "Config is:  {'init_storage': 4, 'start': 0.007, 'step': 60, 'qubits': [0], 'expts': 100, 'reps': 100, 'rounds': 1, 'flux_drive': ['low', 874, 9000, 0.05], 'prepulse': True, 'postpulse': True, 'active_reset': False, 'man_reset': False, 'storage_reset': False, 'update_post_pulse_phase': [False, 1.07], 'floquet_cycles': 66}\n"
     ]
    },
    {
     "data": {
      "application/vnd.jupyter.widget-view+json": {
       "model_id": "a452cd6f4fcb464cac9b4e1aee7638ad",
       "version_major": 2,
       "version_minor": 0
      },
      "text/plain": [
       "  0%|          | 0/7 [00:00<?, ?it/s]"
      ]
     },
     "metadata": {},
     "output_type": "display_data"
    },
    {
     "name": "stdout",
     "output_type": "stream",
     "text": [
      "['ge', 'pi', 0]\n",
      "['ef', 'pi', 0]\n",
      "['ge', 'pi', 0]\n",
      "['ef', 'pi', 0]\n",
      "['ge', 'pi', 0]\n",
      "['ef', 'pi', 0]\n",
      "['ge', 'pi', 0]\n",
      "['ef', 'pi', 0]\n",
      "['ge', 'pi', 0]\n",
      "['ef', 'pi', 0]\n",
      "['ge', 'pi', 0]\n",
      "['ef', 'pi', 0]\n",
      "['ge', 'pi', 0]\n",
      "['ef', 'pi', 0]\n",
      "Saving H:\\Shared drives\\SLab\\Multimode\\experiment\\250307_qsim\\data\\00608_storage_sweep.h5\n",
      "Loaded:  {'init_storage': 4, 'start': 0.007, 'step': 60, 'qubits': [0], 'expts': 100, 'reps': 100, 'rounds': 1, 'flux_drive': ['low', 874, 9000, 0.05], 'prepulse': True, 'postpulse': True, 'active_reset': False, 'man_reset': False, 'storage_reset': False, 'update_post_pulse_phase': [False, 1.07], 'floquet_cycles': 71}\n",
      "Config is:  {'init_storage': 4, 'start': 0.007, 'step': 60, 'qubits': [0], 'expts': 100, 'reps': 100, 'rounds': 1, 'flux_drive': ['low', 874, 9000, 0.05], 'prepulse': True, 'postpulse': True, 'active_reset': False, 'man_reset': False, 'storage_reset': False, 'update_post_pulse_phase': [False, 1.07], 'floquet_cycles': 71}\n"
     ]
    },
    {
     "data": {
      "application/vnd.jupyter.widget-view+json": {
       "model_id": "6b45e4103bce4248b98084bcf22f62ac",
       "version_major": 2,
       "version_minor": 0
      },
      "text/plain": [
       "  0%|          | 0/7 [00:00<?, ?it/s]"
      ]
     },
     "metadata": {},
     "output_type": "display_data"
    },
    {
     "name": "stdout",
     "output_type": "stream",
     "text": [
      "['ge', 'pi', 0]\n",
      "['ef', 'pi', 0]\n",
      "['ge', 'pi', 0]\n",
      "['ef', 'pi', 0]\n",
      "['ge', 'pi', 0]\n",
      "['ef', 'pi', 0]\n",
      "['ge', 'pi', 0]\n",
      "['ef', 'pi', 0]\n",
      "['ge', 'pi', 0]\n",
      "['ef', 'pi', 0]\n",
      "['ge', 'pi', 0]\n",
      "['ef', 'pi', 0]\n",
      "['ge', 'pi', 0]\n",
      "['ef', 'pi', 0]\n",
      "Saving H:\\Shared drives\\SLab\\Multimode\\experiment\\250307_qsim\\data\\00609_storage_sweep.h5\n",
      "Loaded:  {'init_storage': 4, 'start': 0.007, 'step': 60, 'qubits': [0], 'expts': 100, 'reps': 100, 'rounds': 1, 'flux_drive': ['low', 874, 9000, 0.05], 'prepulse': True, 'postpulse': True, 'active_reset': False, 'man_reset': False, 'storage_reset': False, 'update_post_pulse_phase': [False, 1.07], 'floquet_cycles': 76}\n",
      "Config is:  {'init_storage': 4, 'start': 0.007, 'step': 60, 'qubits': [0], 'expts': 100, 'reps': 100, 'rounds': 1, 'flux_drive': ['low', 874, 9000, 0.05], 'prepulse': True, 'postpulse': True, 'active_reset': False, 'man_reset': False, 'storage_reset': False, 'update_post_pulse_phase': [False, 1.07], 'floquet_cycles': 76}\n"
     ]
    },
    {
     "data": {
      "application/vnd.jupyter.widget-view+json": {
       "model_id": "51ecaa01fcf7434e8bff1decf6f28bf3",
       "version_major": 2,
       "version_minor": 0
      },
      "text/plain": [
       "  0%|          | 0/7 [00:00<?, ?it/s]"
      ]
     },
     "metadata": {},
     "output_type": "display_data"
    },
    {
     "name": "stdout",
     "output_type": "stream",
     "text": [
      "['ge', 'pi', 0]\n",
      "['ef', 'pi', 0]\n",
      "['ge', 'pi', 0]\n",
      "['ef', 'pi', 0]\n",
      "['ge', 'pi', 0]\n",
      "['ef', 'pi', 0]\n",
      "['ge', 'pi', 0]\n",
      "['ef', 'pi', 0]\n",
      "['ge', 'pi', 0]\n",
      "['ef', 'pi', 0]\n",
      "['ge', 'pi', 0]\n",
      "['ef', 'pi', 0]\n",
      "['ge', 'pi', 0]\n",
      "['ef', 'pi', 0]\n",
      "Saving H:\\Shared drives\\SLab\\Multimode\\experiment\\250307_qsim\\data\\00610_storage_sweep.h5\n",
      "Loaded:  {'init_storage': 4, 'start': 0.007, 'step': 60, 'qubits': [0], 'expts': 100, 'reps': 100, 'rounds': 1, 'flux_drive': ['low', 874, 9000, 0.05], 'prepulse': True, 'postpulse': True, 'active_reset': False, 'man_reset': False, 'storage_reset': False, 'update_post_pulse_phase': [False, 1.07], 'floquet_cycles': 81}\n",
      "Config is:  {'init_storage': 4, 'start': 0.007, 'step': 60, 'qubits': [0], 'expts': 100, 'reps': 100, 'rounds': 1, 'flux_drive': ['low', 874, 9000, 0.05], 'prepulse': True, 'postpulse': True, 'active_reset': False, 'man_reset': False, 'storage_reset': False, 'update_post_pulse_phase': [False, 1.07], 'floquet_cycles': 81}\n"
     ]
    },
    {
     "data": {
      "application/vnd.jupyter.widget-view+json": {
       "model_id": "982bc0902bca4f64831c9beb7f5d25b3",
       "version_major": 2,
       "version_minor": 0
      },
      "text/plain": [
       "  0%|          | 0/7 [00:00<?, ?it/s]"
      ]
     },
     "metadata": {},
     "output_type": "display_data"
    },
    {
     "name": "stdout",
     "output_type": "stream",
     "text": [
      "['ge', 'pi', 0]\n",
      "['ef', 'pi', 0]\n",
      "['ge', 'pi', 0]\n",
      "['ef', 'pi', 0]\n",
      "['ge', 'pi', 0]\n",
      "['ef', 'pi', 0]\n",
      "['ge', 'pi', 0]\n",
      "['ef', 'pi', 0]\n",
      "['ge', 'pi', 0]\n",
      "['ef', 'pi', 0]\n",
      "['ge', 'pi', 0]\n",
      "['ef', 'pi', 0]\n",
      "['ge', 'pi', 0]\n",
      "['ef', 'pi', 0]\n",
      "Saving H:\\Shared drives\\SLab\\Multimode\\experiment\\250307_qsim\\data\\00611_storage_sweep.h5\n",
      "Loaded:  {'init_storage': 4, 'start': 0.007, 'step': 60, 'qubits': [0], 'expts': 100, 'reps': 100, 'rounds': 1, 'flux_drive': ['low', 874, 9000, 0.05], 'prepulse': True, 'postpulse': True, 'active_reset': False, 'man_reset': False, 'storage_reset': False, 'update_post_pulse_phase': [False, 1.07], 'floquet_cycles': 86}\n",
      "Config is:  {'init_storage': 4, 'start': 0.007, 'step': 60, 'qubits': [0], 'expts': 100, 'reps': 100, 'rounds': 1, 'flux_drive': ['low', 874, 9000, 0.05], 'prepulse': True, 'postpulse': True, 'active_reset': False, 'man_reset': False, 'storage_reset': False, 'update_post_pulse_phase': [False, 1.07], 'floquet_cycles': 86}\n"
     ]
    },
    {
     "data": {
      "application/vnd.jupyter.widget-view+json": {
       "model_id": "7d900380f651435ba3efa7a6ffd967d5",
       "version_major": 2,
       "version_minor": 0
      },
      "text/plain": [
       "  0%|          | 0/7 [00:00<?, ?it/s]"
      ]
     },
     "metadata": {},
     "output_type": "display_data"
    },
    {
     "name": "stdout",
     "output_type": "stream",
     "text": [
      "['ge', 'pi', 0]\n",
      "['ef', 'pi', 0]\n",
      "['ge', 'pi', 0]\n",
      "['ef', 'pi', 0]\n",
      "['ge', 'pi', 0]\n",
      "['ef', 'pi', 0]\n",
      "['ge', 'pi', 0]\n",
      "['ef', 'pi', 0]\n",
      "['ge', 'pi', 0]\n",
      "['ef', 'pi', 0]\n",
      "['ge', 'pi', 0]\n",
      "['ef', 'pi', 0]\n",
      "['ge', 'pi', 0]\n",
      "['ef', 'pi', 0]\n",
      "Saving H:\\Shared drives\\SLab\\Multimode\\experiment\\250307_qsim\\data\\00612_storage_sweep.h5\n",
      "Loaded:  {'init_storage': 4, 'start': 0.007, 'step': 60, 'qubits': [0], 'expts': 100, 'reps': 100, 'rounds': 1, 'flux_drive': ['low', 874, 9000, 0.05], 'prepulse': True, 'postpulse': True, 'active_reset': False, 'man_reset': False, 'storage_reset': False, 'update_post_pulse_phase': [False, 1.07], 'floquet_cycles': 91}\n",
      "Config is:  {'init_storage': 4, 'start': 0.007, 'step': 60, 'qubits': [0], 'expts': 100, 'reps': 100, 'rounds': 1, 'flux_drive': ['low', 874, 9000, 0.05], 'prepulse': True, 'postpulse': True, 'active_reset': False, 'man_reset': False, 'storage_reset': False, 'update_post_pulse_phase': [False, 1.07], 'floquet_cycles': 91}\n"
     ]
    },
    {
     "data": {
      "application/vnd.jupyter.widget-view+json": {
       "model_id": "e58c730f146341d18da7d46dba29acef",
       "version_major": 2,
       "version_minor": 0
      },
      "text/plain": [
       "  0%|          | 0/7 [00:00<?, ?it/s]"
      ]
     },
     "metadata": {},
     "output_type": "display_data"
    },
    {
     "name": "stdout",
     "output_type": "stream",
     "text": [
      "['ge', 'pi', 0]\n",
      "['ef', 'pi', 0]\n",
      "['ge', 'pi', 0]\n",
      "['ef', 'pi', 0]\n",
      "['ge', 'pi', 0]\n",
      "['ef', 'pi', 0]\n",
      "['ge', 'pi', 0]\n",
      "['ef', 'pi', 0]\n",
      "['ge', 'pi', 0]\n",
      "['ef', 'pi', 0]\n",
      "['ge', 'pi', 0]\n",
      "['ef', 'pi', 0]\n",
      "['ge', 'pi', 0]\n",
      "['ef', 'pi', 0]\n",
      "Saving H:\\Shared drives\\SLab\\Multimode\\experiment\\250307_qsim\\data\\00613_storage_sweep.h5\n",
      "Loaded:  {'init_storage': 4, 'start': 0.007, 'step': 60, 'qubits': [0], 'expts': 100, 'reps': 100, 'rounds': 1, 'flux_drive': ['low', 874, 9000, 0.05], 'prepulse': True, 'postpulse': True, 'active_reset': False, 'man_reset': False, 'storage_reset': False, 'update_post_pulse_phase': [False, 1.07], 'floquet_cycles': 96}\n",
      "Config is:  {'init_storage': 4, 'start': 0.007, 'step': 60, 'qubits': [0], 'expts': 100, 'reps': 100, 'rounds': 1, 'flux_drive': ['low', 874, 9000, 0.05], 'prepulse': True, 'postpulse': True, 'active_reset': False, 'man_reset': False, 'storage_reset': False, 'update_post_pulse_phase': [False, 1.07], 'floquet_cycles': 96}\n"
     ]
    },
    {
     "data": {
      "application/vnd.jupyter.widget-view+json": {
       "model_id": "4fa6ac969b6e4366b934518c5d57ddc6",
       "version_major": 2,
       "version_minor": 0
      },
      "text/plain": [
       "  0%|          | 0/7 [00:00<?, ?it/s]"
      ]
     },
     "metadata": {},
     "output_type": "display_data"
    },
    {
     "name": "stdout",
     "output_type": "stream",
     "text": [
      "['ge', 'pi', 0]\n",
      "['ef', 'pi', 0]\n",
      "['ge', 'pi', 0]\n",
      "['ef', 'pi', 0]\n",
      "['ge', 'pi', 0]\n",
      "['ef', 'pi', 0]\n",
      "['ge', 'pi', 0]\n",
      "['ef', 'pi', 0]\n",
      "['ge', 'pi', 0]\n",
      "['ef', 'pi', 0]\n",
      "['ge', 'pi', 0]\n",
      "['ef', 'pi', 0]\n",
      "['ge', 'pi', 0]\n",
      "['ef', 'pi', 0]\n",
      "Saving H:\\Shared drives\\SLab\\Multimode\\experiment\\250307_qsim\\data\\00614_storage_sweep.h5\n",
      "Loaded:  {'init_storage': 4, 'start': 0.007, 'step': 60, 'qubits': [0], 'expts': 100, 'reps': 100, 'rounds': 1, 'flux_drive': ['low', 874, 9000, 0.05], 'prepulse': True, 'postpulse': True, 'active_reset': False, 'man_reset': False, 'storage_reset': False, 'update_post_pulse_phase': [False, 1.07], 'floquet_cycles': 101}\n",
      "Config is:  {'init_storage': 4, 'start': 0.007, 'step': 60, 'qubits': [0], 'expts': 100, 'reps': 100, 'rounds': 1, 'flux_drive': ['low', 874, 9000, 0.05], 'prepulse': True, 'postpulse': True, 'active_reset': False, 'man_reset': False, 'storage_reset': False, 'update_post_pulse_phase': [False, 1.07], 'floquet_cycles': 101}\n"
     ]
    },
    {
     "data": {
      "application/vnd.jupyter.widget-view+json": {
       "model_id": "8fa518751fc244e492ec535707fe00b6",
       "version_major": 2,
       "version_minor": 0
      },
      "text/plain": [
       "  0%|          | 0/7 [00:00<?, ?it/s]"
      ]
     },
     "metadata": {},
     "output_type": "display_data"
    },
    {
     "name": "stdout",
     "output_type": "stream",
     "text": [
      "['ge', 'pi', 0]\n",
      "['ef', 'pi', 0]\n",
      "['ge', 'pi', 0]\n",
      "['ef', 'pi', 0]\n",
      "['ge', 'pi', 0]\n",
      "['ef', 'pi', 0]\n",
      "['ge', 'pi', 0]\n",
      "['ef', 'pi', 0]\n",
      "['ge', 'pi', 0]\n",
      "['ef', 'pi', 0]\n",
      "['ge', 'pi', 0]\n",
      "['ef', 'pi', 0]\n",
      "['ge', 'pi', 0]\n",
      "['ef', 'pi', 0]\n",
      "Saving H:\\Shared drives\\SLab\\Multimode\\experiment\\250307_qsim\\data\\00615_storage_sweep.h5\n",
      "Loaded:  {'init_storage': 4, 'start': 0.007, 'step': 60, 'qubits': [0], 'expts': 100, 'reps': 100, 'rounds': 1, 'flux_drive': ['low', 874, 9000, 0.05], 'prepulse': True, 'postpulse': True, 'active_reset': False, 'man_reset': False, 'storage_reset': False, 'update_post_pulse_phase': [False, 1.07], 'floquet_cycles': 106}\n",
      "Config is:  {'init_storage': 4, 'start': 0.007, 'step': 60, 'qubits': [0], 'expts': 100, 'reps': 100, 'rounds': 1, 'flux_drive': ['low', 874, 9000, 0.05], 'prepulse': True, 'postpulse': True, 'active_reset': False, 'man_reset': False, 'storage_reset': False, 'update_post_pulse_phase': [False, 1.07], 'floquet_cycles': 106}\n"
     ]
    },
    {
     "data": {
      "application/vnd.jupyter.widget-view+json": {
       "model_id": "91d81271ae9f4e88b5825a07e885d5b7",
       "version_major": 2,
       "version_minor": 0
      },
      "text/plain": [
       "  0%|          | 0/7 [00:00<?, ?it/s]"
      ]
     },
     "metadata": {},
     "output_type": "display_data"
    },
    {
     "name": "stdout",
     "output_type": "stream",
     "text": [
      "['ge', 'pi', 0]\n",
      "['ef', 'pi', 0]\n",
      "['ge', 'pi', 0]\n",
      "['ef', 'pi', 0]\n",
      "['ge', 'pi', 0]\n",
      "['ef', 'pi', 0]\n",
      "['ge', 'pi', 0]\n",
      "['ef', 'pi', 0]\n",
      "['ge', 'pi', 0]\n",
      "['ef', 'pi', 0]\n",
      "['ge', 'pi', 0]\n",
      "['ef', 'pi', 0]\n",
      "['ge', 'pi', 0]\n",
      "['ef', 'pi', 0]\n",
      "Saving H:\\Shared drives\\SLab\\Multimode\\experiment\\250307_qsim\\data\\00616_storage_sweep.h5\n",
      "Loaded:  {'init_storage': 4, 'start': 0.007, 'step': 60, 'qubits': [0], 'expts': 100, 'reps': 100, 'rounds': 1, 'flux_drive': ['low', 874, 9000, 0.05], 'prepulse': True, 'postpulse': True, 'active_reset': False, 'man_reset': False, 'storage_reset': False, 'update_post_pulse_phase': [False, 1.07], 'floquet_cycles': 111}\n",
      "Config is:  {'init_storage': 4, 'start': 0.007, 'step': 60, 'qubits': [0], 'expts': 100, 'reps': 100, 'rounds': 1, 'flux_drive': ['low', 874, 9000, 0.05], 'prepulse': True, 'postpulse': True, 'active_reset': False, 'man_reset': False, 'storage_reset': False, 'update_post_pulse_phase': [False, 1.07], 'floquet_cycles': 111}\n"
     ]
    },
    {
     "data": {
      "application/vnd.jupyter.widget-view+json": {
       "model_id": "d3758354622d4078b728eb9035689ae6",
       "version_major": 2,
       "version_minor": 0
      },
      "text/plain": [
       "  0%|          | 0/7 [00:00<?, ?it/s]"
      ]
     },
     "metadata": {},
     "output_type": "display_data"
    },
    {
     "name": "stdout",
     "output_type": "stream",
     "text": [
      "['ge', 'pi', 0]\n",
      "['ef', 'pi', 0]\n",
      "['ge', 'pi', 0]\n",
      "['ef', 'pi', 0]\n",
      "['ge', 'pi', 0]\n",
      "['ef', 'pi', 0]\n",
      "['ge', 'pi', 0]\n",
      "['ef', 'pi', 0]\n",
      "['ge', 'pi', 0]\n",
      "['ef', 'pi', 0]\n",
      "['ge', 'pi', 0]\n",
      "['ef', 'pi', 0]\n",
      "['ge', 'pi', 0]\n",
      "['ef', 'pi', 0]\n",
      "Saving H:\\Shared drives\\SLab\\Multimode\\experiment\\250307_qsim\\data\\00617_storage_sweep.h5\n",
      "Loaded:  {'init_storage': 4, 'start': 0.007, 'step': 60, 'qubits': [0], 'expts': 100, 'reps': 100, 'rounds': 1, 'flux_drive': ['low', 874, 9000, 0.05], 'prepulse': True, 'postpulse': True, 'active_reset': False, 'man_reset': False, 'storage_reset': False, 'update_post_pulse_phase': [False, 1.07], 'floquet_cycles': 116}\n",
      "Config is:  {'init_storage': 4, 'start': 0.007, 'step': 60, 'qubits': [0], 'expts': 100, 'reps': 100, 'rounds': 1, 'flux_drive': ['low', 874, 9000, 0.05], 'prepulse': True, 'postpulse': True, 'active_reset': False, 'man_reset': False, 'storage_reset': False, 'update_post_pulse_phase': [False, 1.07], 'floquet_cycles': 116}\n"
     ]
    },
    {
     "data": {
      "application/vnd.jupyter.widget-view+json": {
       "model_id": "fd5d46b4ed28483b981321de0f0052c9",
       "version_major": 2,
       "version_minor": 0
      },
      "text/plain": [
       "  0%|          | 0/7 [00:00<?, ?it/s]"
      ]
     },
     "metadata": {},
     "output_type": "display_data"
    },
    {
     "name": "stdout",
     "output_type": "stream",
     "text": [
      "['ge', 'pi', 0]\n",
      "['ef', 'pi', 0]\n",
      "['ge', 'pi', 0]\n",
      "['ef', 'pi', 0]\n",
      "['ge', 'pi', 0]\n",
      "['ef', 'pi', 0]\n",
      "['ge', 'pi', 0]\n",
      "['ef', 'pi', 0]\n",
      "['ge', 'pi', 0]\n",
      "['ef', 'pi', 0]\n",
      "['ge', 'pi', 0]\n",
      "['ef', 'pi', 0]\n",
      "['ge', 'pi', 0]\n",
      "['ef', 'pi', 0]\n",
      "Saving H:\\Shared drives\\SLab\\Multimode\\experiment\\250307_qsim\\data\\00618_storage_sweep.h5\n",
      "Loaded:  {'init_storage': 4, 'start': 0.007, 'step': 60, 'qubits': [0], 'expts': 100, 'reps': 100, 'rounds': 1, 'flux_drive': ['low', 874, 9000, 0.05], 'prepulse': True, 'postpulse': True, 'active_reset': False, 'man_reset': False, 'storage_reset': False, 'update_post_pulse_phase': [False, 1.07], 'floquet_cycles': 121}\n",
      "Config is:  {'init_storage': 4, 'start': 0.007, 'step': 60, 'qubits': [0], 'expts': 100, 'reps': 100, 'rounds': 1, 'flux_drive': ['low', 874, 9000, 0.05], 'prepulse': True, 'postpulse': True, 'active_reset': False, 'man_reset': False, 'storage_reset': False, 'update_post_pulse_phase': [False, 1.07], 'floquet_cycles': 121}\n"
     ]
    },
    {
     "data": {
      "application/vnd.jupyter.widget-view+json": {
       "model_id": "e7a3994148c34ef3a593046487174a07",
       "version_major": 2,
       "version_minor": 0
      },
      "text/plain": [
       "  0%|          | 0/7 [00:00<?, ?it/s]"
      ]
     },
     "metadata": {},
     "output_type": "display_data"
    },
    {
     "name": "stdout",
     "output_type": "stream",
     "text": [
      "['ge', 'pi', 0]\n",
      "['ef', 'pi', 0]\n",
      "['ge', 'pi', 0]\n",
      "['ef', 'pi', 0]\n",
      "['ge', 'pi', 0]\n",
      "['ef', 'pi', 0]\n",
      "['ge', 'pi', 0]\n",
      "['ef', 'pi', 0]\n",
      "['ge', 'pi', 0]\n",
      "['ef', 'pi', 0]\n",
      "['ge', 'pi', 0]\n",
      "['ef', 'pi', 0]\n",
      "['ge', 'pi', 0]\n",
      "['ef', 'pi', 0]\n",
      "Saving H:\\Shared drives\\SLab\\Multimode\\experiment\\250307_qsim\\data\\00619_storage_sweep.h5\n",
      "Loaded:  {'init_storage': 4, 'start': 0.007, 'step': 60, 'qubits': [0], 'expts': 100, 'reps': 100, 'rounds': 1, 'flux_drive': ['low', 874, 9000, 0.05], 'prepulse': True, 'postpulse': True, 'active_reset': False, 'man_reset': False, 'storage_reset': False, 'update_post_pulse_phase': [False, 1.07], 'floquet_cycles': 126}\n",
      "Config is:  {'init_storage': 4, 'start': 0.007, 'step': 60, 'qubits': [0], 'expts': 100, 'reps': 100, 'rounds': 1, 'flux_drive': ['low', 874, 9000, 0.05], 'prepulse': True, 'postpulse': True, 'active_reset': False, 'man_reset': False, 'storage_reset': False, 'update_post_pulse_phase': [False, 1.07], 'floquet_cycles': 126}\n"
     ]
    },
    {
     "data": {
      "application/vnd.jupyter.widget-view+json": {
       "model_id": "ba46c1070a0347ffb784dccd5f682725",
       "version_major": 2,
       "version_minor": 0
      },
      "text/plain": [
       "  0%|          | 0/7 [00:00<?, ?it/s]"
      ]
     },
     "metadata": {},
     "output_type": "display_data"
    },
    {
     "name": "stdout",
     "output_type": "stream",
     "text": [
      "['ge', 'pi', 0]\n",
      "['ef', 'pi', 0]\n",
      "['ge', 'pi', 0]\n",
      "['ef', 'pi', 0]\n",
      "['ge', 'pi', 0]\n",
      "['ef', 'pi', 0]\n",
      "['ge', 'pi', 0]\n",
      "['ef', 'pi', 0]\n",
      "['ge', 'pi', 0]\n",
      "['ef', 'pi', 0]\n",
      "['ge', 'pi', 0]\n",
      "['ef', 'pi', 0]\n",
      "['ge', 'pi', 0]\n",
      "['ef', 'pi', 0]\n",
      "Saving H:\\Shared drives\\SLab\\Multimode\\experiment\\250307_qsim\\data\\00620_storage_sweep.h5\n",
      "Loaded:  {'init_storage': 4, 'start': 0.007, 'step': 60, 'qubits': [0], 'expts': 100, 'reps': 100, 'rounds': 1, 'flux_drive': ['low', 874, 9000, 0.05], 'prepulse': True, 'postpulse': True, 'active_reset': False, 'man_reset': False, 'storage_reset': False, 'update_post_pulse_phase': [False, 1.07], 'floquet_cycles': 131}\n",
      "Config is:  {'init_storage': 4, 'start': 0.007, 'step': 60, 'qubits': [0], 'expts': 100, 'reps': 100, 'rounds': 1, 'flux_drive': ['low', 874, 9000, 0.05], 'prepulse': True, 'postpulse': True, 'active_reset': False, 'man_reset': False, 'storage_reset': False, 'update_post_pulse_phase': [False, 1.07], 'floquet_cycles': 131}\n"
     ]
    },
    {
     "data": {
      "application/vnd.jupyter.widget-view+json": {
       "model_id": "7e4144d696af43918916e64dea5c8998",
       "version_major": 2,
       "version_minor": 0
      },
      "text/plain": [
       "  0%|          | 0/7 [00:00<?, ?it/s]"
      ]
     },
     "metadata": {},
     "output_type": "display_data"
    },
    {
     "name": "stdout",
     "output_type": "stream",
     "text": [
      "['ge', 'pi', 0]\n",
      "['ef', 'pi', 0]\n",
      "['ge', 'pi', 0]\n",
      "['ef', 'pi', 0]\n",
      "['ge', 'pi', 0]\n",
      "['ef', 'pi', 0]\n",
      "['ge', 'pi', 0]\n",
      "['ef', 'pi', 0]\n",
      "['ge', 'pi', 0]\n",
      "['ef', 'pi', 0]\n",
      "['ge', 'pi', 0]\n",
      "['ef', 'pi', 0]\n",
      "['ge', 'pi', 0]\n",
      "['ef', 'pi', 0]\n",
      "Saving H:\\Shared drives\\SLab\\Multimode\\experiment\\250307_qsim\\data\\00621_storage_sweep.h5\n",
      "Loaded:  {'init_storage': 4, 'start': 0.007, 'step': 60, 'qubits': [0], 'expts': 100, 'reps': 100, 'rounds': 1, 'flux_drive': ['low', 874, 9000, 0.05], 'prepulse': True, 'postpulse': True, 'active_reset': False, 'man_reset': False, 'storage_reset': False, 'update_post_pulse_phase': [False, 1.07], 'floquet_cycles': 136}\n",
      "Config is:  {'init_storage': 4, 'start': 0.007, 'step': 60, 'qubits': [0], 'expts': 100, 'reps': 100, 'rounds': 1, 'flux_drive': ['low', 874, 9000, 0.05], 'prepulse': True, 'postpulse': True, 'active_reset': False, 'man_reset': False, 'storage_reset': False, 'update_post_pulse_phase': [False, 1.07], 'floquet_cycles': 136}\n"
     ]
    },
    {
     "data": {
      "application/vnd.jupyter.widget-view+json": {
       "model_id": "abeab2aed8c9420eaaf652627c831691",
       "version_major": 2,
       "version_minor": 0
      },
      "text/plain": [
       "  0%|          | 0/7 [00:00<?, ?it/s]"
      ]
     },
     "metadata": {},
     "output_type": "display_data"
    },
    {
     "name": "stdout",
     "output_type": "stream",
     "text": [
      "['ge', 'pi', 0]\n",
      "['ef', 'pi', 0]\n",
      "['ge', 'pi', 0]\n",
      "['ef', 'pi', 0]\n",
      "['ge', 'pi', 0]\n",
      "['ef', 'pi', 0]\n",
      "['ge', 'pi', 0]\n",
      "['ef', 'pi', 0]\n",
      "['ge', 'pi', 0]\n",
      "['ef', 'pi', 0]\n",
      "['ge', 'pi', 0]\n",
      "['ef', 'pi', 0]\n",
      "['ge', 'pi', 0]\n",
      "['ef', 'pi', 0]\n",
      "Saving H:\\Shared drives\\SLab\\Multimode\\experiment\\250307_qsim\\data\\00622_storage_sweep.h5\n",
      "Loaded:  {'init_storage': 4, 'start': 0.007, 'step': 60, 'qubits': [0], 'expts': 100, 'reps': 100, 'rounds': 1, 'flux_drive': ['low', 874, 9000, 0.05], 'prepulse': True, 'postpulse': True, 'active_reset': False, 'man_reset': False, 'storage_reset': False, 'update_post_pulse_phase': [False, 1.07], 'floquet_cycles': 141}\n",
      "Config is:  {'init_storage': 4, 'start': 0.007, 'step': 60, 'qubits': [0], 'expts': 100, 'reps': 100, 'rounds': 1, 'flux_drive': ['low', 874, 9000, 0.05], 'prepulse': True, 'postpulse': True, 'active_reset': False, 'man_reset': False, 'storage_reset': False, 'update_post_pulse_phase': [False, 1.07], 'floquet_cycles': 141}\n"
     ]
    },
    {
     "data": {
      "application/vnd.jupyter.widget-view+json": {
       "model_id": "df04ac1f67474e6d8fe052bd3e4d2153",
       "version_major": 2,
       "version_minor": 0
      },
      "text/plain": [
       "  0%|          | 0/7 [00:00<?, ?it/s]"
      ]
     },
     "metadata": {},
     "output_type": "display_data"
    },
    {
     "name": "stdout",
     "output_type": "stream",
     "text": [
      "['ge', 'pi', 0]\n",
      "['ef', 'pi', 0]\n",
      "['ge', 'pi', 0]\n",
      "['ef', 'pi', 0]\n",
      "['ge', 'pi', 0]\n",
      "['ef', 'pi', 0]\n",
      "['ge', 'pi', 0]\n",
      "['ef', 'pi', 0]\n",
      "['ge', 'pi', 0]\n",
      "['ef', 'pi', 0]\n",
      "['ge', 'pi', 0]\n",
      "['ef', 'pi', 0]\n",
      "['ge', 'pi', 0]\n",
      "['ef', 'pi', 0]\n",
      "Saving H:\\Shared drives\\SLab\\Multimode\\experiment\\250307_qsim\\data\\00623_storage_sweep.h5\n",
      "Loaded:  {'init_storage': 4, 'start': 0.007, 'step': 60, 'qubits': [0], 'expts': 100, 'reps': 100, 'rounds': 1, 'flux_drive': ['low', 874, 9000, 0.05], 'prepulse': True, 'postpulse': True, 'active_reset': False, 'man_reset': False, 'storage_reset': False, 'update_post_pulse_phase': [False, 1.07], 'floquet_cycles': 146}\n",
      "Config is:  {'init_storage': 4, 'start': 0.007, 'step': 60, 'qubits': [0], 'expts': 100, 'reps': 100, 'rounds': 1, 'flux_drive': ['low', 874, 9000, 0.05], 'prepulse': True, 'postpulse': True, 'active_reset': False, 'man_reset': False, 'storage_reset': False, 'update_post_pulse_phase': [False, 1.07], 'floquet_cycles': 146}\n"
     ]
    },
    {
     "data": {
      "application/vnd.jupyter.widget-view+json": {
       "model_id": "bbc2acebf18341e7acf50ee950d458eb",
       "version_major": 2,
       "version_minor": 0
      },
      "text/plain": [
       "  0%|          | 0/7 [00:00<?, ?it/s]"
      ]
     },
     "metadata": {},
     "output_type": "display_data"
    },
    {
     "name": "stdout",
     "output_type": "stream",
     "text": [
      "['ge', 'pi', 0]\n",
      "['ef', 'pi', 0]\n",
      "['ge', 'pi', 0]\n",
      "['ef', 'pi', 0]\n",
      "['ge', 'pi', 0]\n",
      "['ef', 'pi', 0]\n",
      "['ge', 'pi', 0]\n",
      "['ef', 'pi', 0]\n",
      "['ge', 'pi', 0]\n",
      "['ef', 'pi', 0]\n",
      "['ge', 'pi', 0]\n",
      "['ef', 'pi', 0]\n",
      "['ge', 'pi', 0]\n",
      "['ef', 'pi', 0]\n",
      "Saving H:\\Shared drives\\SLab\\Multimode\\experiment\\250307_qsim\\data\\00624_storage_sweep.h5\n",
      "Loaded:  {'init_storage': 4, 'start': 0.007, 'step': 60, 'qubits': [0], 'expts': 100, 'reps': 100, 'rounds': 1, 'flux_drive': ['low', 874, 9000, 0.05], 'prepulse': True, 'postpulse': True, 'active_reset': False, 'man_reset': False, 'storage_reset': False, 'update_post_pulse_phase': [False, 1.07], 'floquet_cycles': 151}\n",
      "Config is:  {'init_storage': 4, 'start': 0.007, 'step': 60, 'qubits': [0], 'expts': 100, 'reps': 100, 'rounds': 1, 'flux_drive': ['low', 874, 9000, 0.05], 'prepulse': True, 'postpulse': True, 'active_reset': False, 'man_reset': False, 'storage_reset': False, 'update_post_pulse_phase': [False, 1.07], 'floquet_cycles': 151}\n"
     ]
    },
    {
     "data": {
      "application/vnd.jupyter.widget-view+json": {
       "model_id": "f6bb0a9bbcd145508102d7b60298dc30",
       "version_major": 2,
       "version_minor": 0
      },
      "text/plain": [
       "  0%|          | 0/7 [00:00<?, ?it/s]"
      ]
     },
     "metadata": {},
     "output_type": "display_data"
    },
    {
     "name": "stdout",
     "output_type": "stream",
     "text": [
      "['ge', 'pi', 0]\n",
      "['ef', 'pi', 0]\n",
      "['ge', 'pi', 0]\n",
      "['ef', 'pi', 0]\n",
      "['ge', 'pi', 0]\n",
      "['ef', 'pi', 0]\n",
      "['ge', 'pi', 0]\n",
      "['ef', 'pi', 0]\n",
      "['ge', 'pi', 0]\n",
      "['ef', 'pi', 0]\n",
      "['ge', 'pi', 0]\n",
      "['ef', 'pi', 0]\n",
      "['ge', 'pi', 0]\n",
      "['ef', 'pi', 0]\n",
      "Saving H:\\Shared drives\\SLab\\Multimode\\experiment\\250307_qsim\\data\\00625_storage_sweep.h5\n",
      "Loaded:  {'init_storage': 4, 'start': 0.007, 'step': 60, 'qubits': [0], 'expts': 100, 'reps': 100, 'rounds': 1, 'flux_drive': ['low', 874, 9000, 0.05], 'prepulse': True, 'postpulse': True, 'active_reset': False, 'man_reset': False, 'storage_reset': False, 'update_post_pulse_phase': [False, 1.07], 'floquet_cycles': 156}\n",
      "Config is:  {'init_storage': 4, 'start': 0.007, 'step': 60, 'qubits': [0], 'expts': 100, 'reps': 100, 'rounds': 1, 'flux_drive': ['low', 874, 9000, 0.05], 'prepulse': True, 'postpulse': True, 'active_reset': False, 'man_reset': False, 'storage_reset': False, 'update_post_pulse_phase': [False, 1.07], 'floquet_cycles': 156}\n"
     ]
    },
    {
     "data": {
      "application/vnd.jupyter.widget-view+json": {
       "model_id": "b8078c3bc7d849ceb025f80c8a92d8b7",
       "version_major": 2,
       "version_minor": 0
      },
      "text/plain": [
       "  0%|          | 0/7 [00:00<?, ?it/s]"
      ]
     },
     "metadata": {},
     "output_type": "display_data"
    },
    {
     "name": "stdout",
     "output_type": "stream",
     "text": [
      "['ge', 'pi', 0]\n",
      "['ef', 'pi', 0]\n",
      "['ge', 'pi', 0]\n",
      "['ef', 'pi', 0]\n",
      "['ge', 'pi', 0]\n",
      "['ef', 'pi', 0]\n",
      "['ge', 'pi', 0]\n",
      "['ef', 'pi', 0]\n",
      "['ge', 'pi', 0]\n",
      "['ef', 'pi', 0]\n",
      "['ge', 'pi', 0]\n",
      "['ef', 'pi', 0]\n",
      "['ge', 'pi', 0]\n",
      "['ef', 'pi', 0]\n",
      "Saving H:\\Shared drives\\SLab\\Multimode\\experiment\\250307_qsim\\data\\00626_storage_sweep.h5\n",
      "Loaded:  {'init_storage': 4, 'start': 0.007, 'step': 60, 'qubits': [0], 'expts': 100, 'reps': 100, 'rounds': 1, 'flux_drive': ['low', 874, 9000, 0.05], 'prepulse': True, 'postpulse': True, 'active_reset': False, 'man_reset': False, 'storage_reset': False, 'update_post_pulse_phase': [False, 1.07], 'floquet_cycles': 161}\n",
      "Config is:  {'init_storage': 4, 'start': 0.007, 'step': 60, 'qubits': [0], 'expts': 100, 'reps': 100, 'rounds': 1, 'flux_drive': ['low', 874, 9000, 0.05], 'prepulse': True, 'postpulse': True, 'active_reset': False, 'man_reset': False, 'storage_reset': False, 'update_post_pulse_phase': [False, 1.07], 'floquet_cycles': 161}\n"
     ]
    },
    {
     "data": {
      "application/vnd.jupyter.widget-view+json": {
       "model_id": "944b6dbe8ca640e7bd161bfdd77a19f9",
       "version_major": 2,
       "version_minor": 0
      },
      "text/plain": [
       "  0%|          | 0/7 [00:00<?, ?it/s]"
      ]
     },
     "metadata": {},
     "output_type": "display_data"
    },
    {
     "name": "stdout",
     "output_type": "stream",
     "text": [
      "['ge', 'pi', 0]\n",
      "['ef', 'pi', 0]\n",
      "['ge', 'pi', 0]\n",
      "['ef', 'pi', 0]\n",
      "['ge', 'pi', 0]\n",
      "['ef', 'pi', 0]\n",
      "['ge', 'pi', 0]\n",
      "['ef', 'pi', 0]\n",
      "['ge', 'pi', 0]\n",
      "['ef', 'pi', 0]\n",
      "['ge', 'pi', 0]\n",
      "['ef', 'pi', 0]\n",
      "['ge', 'pi', 0]\n",
      "['ef', 'pi', 0]\n",
      "Saving H:\\Shared drives\\SLab\\Multimode\\experiment\\250307_qsim\\data\\00627_storage_sweep.h5\n",
      "Loaded:  {'init_storage': 4, 'start': 0.007, 'step': 60, 'qubits': [0], 'expts': 100, 'reps': 100, 'rounds': 1, 'flux_drive': ['low', 874, 9000, 0.05], 'prepulse': True, 'postpulse': True, 'active_reset': False, 'man_reset': False, 'storage_reset': False, 'update_post_pulse_phase': [False, 1.07], 'floquet_cycles': 166}\n",
      "Config is:  {'init_storage': 4, 'start': 0.007, 'step': 60, 'qubits': [0], 'expts': 100, 'reps': 100, 'rounds': 1, 'flux_drive': ['low', 874, 9000, 0.05], 'prepulse': True, 'postpulse': True, 'active_reset': False, 'man_reset': False, 'storage_reset': False, 'update_post_pulse_phase': [False, 1.07], 'floquet_cycles': 166}\n"
     ]
    },
    {
     "data": {
      "application/vnd.jupyter.widget-view+json": {
       "model_id": "cf224da89e3744e5b81e9d4b75dfe83a",
       "version_major": 2,
       "version_minor": 0
      },
      "text/plain": [
       "  0%|          | 0/7 [00:00<?, ?it/s]"
      ]
     },
     "metadata": {},
     "output_type": "display_data"
    },
    {
     "name": "stdout",
     "output_type": "stream",
     "text": [
      "['ge', 'pi', 0]\n",
      "['ef', 'pi', 0]\n",
      "['ge', 'pi', 0]\n",
      "['ef', 'pi', 0]\n",
      "['ge', 'pi', 0]\n",
      "['ef', 'pi', 0]\n",
      "['ge', 'pi', 0]\n",
      "['ef', 'pi', 0]\n",
      "['ge', 'pi', 0]\n",
      "['ef', 'pi', 0]\n",
      "['ge', 'pi', 0]\n",
      "['ef', 'pi', 0]\n",
      "['ge', 'pi', 0]\n",
      "['ef', 'pi', 0]\n",
      "Saving H:\\Shared drives\\SLab\\Multimode\\experiment\\250307_qsim\\data\\00628_storage_sweep.h5\n",
      "Loaded:  {'init_storage': 4, 'start': 0.007, 'step': 60, 'qubits': [0], 'expts': 100, 'reps': 100, 'rounds': 1, 'flux_drive': ['low', 874, 9000, 0.05], 'prepulse': True, 'postpulse': True, 'active_reset': False, 'man_reset': False, 'storage_reset': False, 'update_post_pulse_phase': [False, 1.07], 'floquet_cycles': 171}\n",
      "Config is:  {'init_storage': 4, 'start': 0.007, 'step': 60, 'qubits': [0], 'expts': 100, 'reps': 100, 'rounds': 1, 'flux_drive': ['low', 874, 9000, 0.05], 'prepulse': True, 'postpulse': True, 'active_reset': False, 'man_reset': False, 'storage_reset': False, 'update_post_pulse_phase': [False, 1.07], 'floquet_cycles': 171}\n"
     ]
    },
    {
     "data": {
      "application/vnd.jupyter.widget-view+json": {
       "model_id": "eddd0d0e3bf54a80aec1c1e644f0a0a9",
       "version_major": 2,
       "version_minor": 0
      },
      "text/plain": [
       "  0%|          | 0/7 [00:00<?, ?it/s]"
      ]
     },
     "metadata": {},
     "output_type": "display_data"
    },
    {
     "name": "stdout",
     "output_type": "stream",
     "text": [
      "['ge', 'pi', 0]\n",
      "['ef', 'pi', 0]\n",
      "['ge', 'pi', 0]\n",
      "['ef', 'pi', 0]\n",
      "['ge', 'pi', 0]\n",
      "['ef', 'pi', 0]\n",
      "['ge', 'pi', 0]\n",
      "['ef', 'pi', 0]\n",
      "['ge', 'pi', 0]\n",
      "['ef', 'pi', 0]\n",
      "['ge', 'pi', 0]\n",
      "['ef', 'pi', 0]\n",
      "['ge', 'pi', 0]\n",
      "['ef', 'pi', 0]\n",
      "Saving H:\\Shared drives\\SLab\\Multimode\\experiment\\250307_qsim\\data\\00629_storage_sweep.h5\n",
      "Loaded:  {'init_storage': 4, 'start': 0.007, 'step': 60, 'qubits': [0], 'expts': 100, 'reps': 100, 'rounds': 1, 'flux_drive': ['low', 874, 9000, 0.05], 'prepulse': True, 'postpulse': True, 'active_reset': False, 'man_reset': False, 'storage_reset': False, 'update_post_pulse_phase': [False, 1.07], 'floquet_cycles': 176}\n",
      "Config is:  {'init_storage': 4, 'start': 0.007, 'step': 60, 'qubits': [0], 'expts': 100, 'reps': 100, 'rounds': 1, 'flux_drive': ['low', 874, 9000, 0.05], 'prepulse': True, 'postpulse': True, 'active_reset': False, 'man_reset': False, 'storage_reset': False, 'update_post_pulse_phase': [False, 1.07], 'floquet_cycles': 176}\n"
     ]
    },
    {
     "data": {
      "application/vnd.jupyter.widget-view+json": {
       "model_id": "1fcbd15adda84b6c8634c401ece215f2",
       "version_major": 2,
       "version_minor": 0
      },
      "text/plain": [
       "  0%|          | 0/7 [00:00<?, ?it/s]"
      ]
     },
     "metadata": {},
     "output_type": "display_data"
    },
    {
     "name": "stdout",
     "output_type": "stream",
     "text": [
      "['ge', 'pi', 0]\n",
      "['ef', 'pi', 0]\n",
      "['ge', 'pi', 0]\n",
      "['ef', 'pi', 0]\n",
      "['ge', 'pi', 0]\n",
      "['ef', 'pi', 0]\n",
      "['ge', 'pi', 0]\n",
      "['ef', 'pi', 0]\n",
      "['ge', 'pi', 0]\n",
      "['ef', 'pi', 0]\n",
      "['ge', 'pi', 0]\n",
      "['ef', 'pi', 0]\n",
      "['ge', 'pi', 0]\n",
      "['ef', 'pi', 0]\n",
      "Saving H:\\Shared drives\\SLab\\Multimode\\experiment\\250307_qsim\\data\\00630_storage_sweep.h5\n",
      "Loaded:  {'init_storage': 4, 'start': 0.007, 'step': 60, 'qubits': [0], 'expts': 100, 'reps': 100, 'rounds': 1, 'flux_drive': ['low', 874, 9000, 0.05], 'prepulse': True, 'postpulse': True, 'active_reset': False, 'man_reset': False, 'storage_reset': False, 'update_post_pulse_phase': [False, 1.07], 'floquet_cycles': 181}\n",
      "Config is:  {'init_storage': 4, 'start': 0.007, 'step': 60, 'qubits': [0], 'expts': 100, 'reps': 100, 'rounds': 1, 'flux_drive': ['low', 874, 9000, 0.05], 'prepulse': True, 'postpulse': True, 'active_reset': False, 'man_reset': False, 'storage_reset': False, 'update_post_pulse_phase': [False, 1.07], 'floquet_cycles': 181}\n"
     ]
    },
    {
     "data": {
      "application/vnd.jupyter.widget-view+json": {
       "model_id": "ee9f2e6d06554d51b6d8f606fe90fd44",
       "version_major": 2,
       "version_minor": 0
      },
      "text/plain": [
       "  0%|          | 0/7 [00:00<?, ?it/s]"
      ]
     },
     "metadata": {},
     "output_type": "display_data"
    },
    {
     "name": "stdout",
     "output_type": "stream",
     "text": [
      "['ge', 'pi', 0]\n",
      "['ef', 'pi', 0]\n",
      "['ge', 'pi', 0]\n",
      "['ef', 'pi', 0]\n",
      "['ge', 'pi', 0]\n",
      "['ef', 'pi', 0]\n",
      "['ge', 'pi', 0]\n",
      "['ef', 'pi', 0]\n",
      "['ge', 'pi', 0]\n",
      "['ef', 'pi', 0]\n",
      "['ge', 'pi', 0]\n",
      "['ef', 'pi', 0]\n",
      "['ge', 'pi', 0]\n",
      "['ef', 'pi', 0]\n",
      "Saving H:\\Shared drives\\SLab\\Multimode\\experiment\\250307_qsim\\data\\00631_storage_sweep.h5\n",
      "Loaded:  {'init_storage': 4, 'start': 0.007, 'step': 60, 'qubits': [0], 'expts': 100, 'reps': 100, 'rounds': 1, 'flux_drive': ['low', 874, 9000, 0.05], 'prepulse': True, 'postpulse': True, 'active_reset': False, 'man_reset': False, 'storage_reset': False, 'update_post_pulse_phase': [False, 1.07], 'floquet_cycles': 186}\n",
      "Config is:  {'init_storage': 4, 'start': 0.007, 'step': 60, 'qubits': [0], 'expts': 100, 'reps': 100, 'rounds': 1, 'flux_drive': ['low', 874, 9000, 0.05], 'prepulse': True, 'postpulse': True, 'active_reset': False, 'man_reset': False, 'storage_reset': False, 'update_post_pulse_phase': [False, 1.07], 'floquet_cycles': 186}\n"
     ]
    },
    {
     "data": {
      "application/vnd.jupyter.widget-view+json": {
       "model_id": "121e38062b8d4de293acd51ed2623b44",
       "version_major": 2,
       "version_minor": 0
      },
      "text/plain": [
       "  0%|          | 0/7 [00:00<?, ?it/s]"
      ]
     },
     "metadata": {},
     "output_type": "display_data"
    },
    {
     "name": "stdout",
     "output_type": "stream",
     "text": [
      "['ge', 'pi', 0]\n",
      "['ef', 'pi', 0]\n",
      "['ge', 'pi', 0]\n",
      "['ef', 'pi', 0]\n",
      "['ge', 'pi', 0]\n",
      "['ef', 'pi', 0]\n",
      "['ge', 'pi', 0]\n",
      "['ef', 'pi', 0]\n",
      "['ge', 'pi', 0]\n",
      "['ef', 'pi', 0]\n",
      "['ge', 'pi', 0]\n",
      "['ef', 'pi', 0]\n",
      "['ge', 'pi', 0]\n",
      "['ef', 'pi', 0]\n",
      "Saving H:\\Shared drives\\SLab\\Multimode\\experiment\\250307_qsim\\data\\00632_storage_sweep.h5\n",
      "Loaded:  {'init_storage': 4, 'start': 0.007, 'step': 60, 'qubits': [0], 'expts': 100, 'reps': 100, 'rounds': 1, 'flux_drive': ['low', 874, 9000, 0.05], 'prepulse': True, 'postpulse': True, 'active_reset': False, 'man_reset': False, 'storage_reset': False, 'update_post_pulse_phase': [False, 1.07], 'floquet_cycles': 191}\n",
      "Config is:  {'init_storage': 4, 'start': 0.007, 'step': 60, 'qubits': [0], 'expts': 100, 'reps': 100, 'rounds': 1, 'flux_drive': ['low', 874, 9000, 0.05], 'prepulse': True, 'postpulse': True, 'active_reset': False, 'man_reset': False, 'storage_reset': False, 'update_post_pulse_phase': [False, 1.07], 'floquet_cycles': 191}\n"
     ]
    },
    {
     "data": {
      "application/vnd.jupyter.widget-view+json": {
       "model_id": "6481ef5b102d4228889951945275010c",
       "version_major": 2,
       "version_minor": 0
      },
      "text/plain": [
       "  0%|          | 0/7 [00:00<?, ?it/s]"
      ]
     },
     "metadata": {},
     "output_type": "display_data"
    },
    {
     "name": "stdout",
     "output_type": "stream",
     "text": [
      "['ge', 'pi', 0]\n",
      "['ef', 'pi', 0]\n",
      "['ge', 'pi', 0]\n",
      "['ef', 'pi', 0]\n",
      "['ge', 'pi', 0]\n",
      "['ef', 'pi', 0]\n",
      "['ge', 'pi', 0]\n",
      "['ef', 'pi', 0]\n",
      "['ge', 'pi', 0]\n",
      "['ef', 'pi', 0]\n",
      "['ge', 'pi', 0]\n",
      "['ef', 'pi', 0]\n",
      "['ge', 'pi', 0]\n",
      "['ef', 'pi', 0]\n",
      "Saving H:\\Shared drives\\SLab\\Multimode\\experiment\\250307_qsim\\data\\00633_storage_sweep.h5\n",
      "Loaded:  {'init_storage': 4, 'start': 0.007, 'step': 60, 'qubits': [0], 'expts': 100, 'reps': 100, 'rounds': 1, 'flux_drive': ['low', 874, 9000, 0.05], 'prepulse': True, 'postpulse': True, 'active_reset': False, 'man_reset': False, 'storage_reset': False, 'update_post_pulse_phase': [False, 1.07], 'floquet_cycles': 196}\n",
      "Config is:  {'init_storage': 4, 'start': 0.007, 'step': 60, 'qubits': [0], 'expts': 100, 'reps': 100, 'rounds': 1, 'flux_drive': ['low', 874, 9000, 0.05], 'prepulse': True, 'postpulse': True, 'active_reset': False, 'man_reset': False, 'storage_reset': False, 'update_post_pulse_phase': [False, 1.07], 'floquet_cycles': 196}\n"
     ]
    },
    {
     "data": {
      "application/vnd.jupyter.widget-view+json": {
       "model_id": "37552a5886e1495ea63a6d81b94e4d23",
       "version_major": 2,
       "version_minor": 0
      },
      "text/plain": [
       "  0%|          | 0/7 [00:00<?, ?it/s]"
      ]
     },
     "metadata": {},
     "output_type": "display_data"
    },
    {
     "name": "stdout",
     "output_type": "stream",
     "text": [
      "['ge', 'pi', 0]\n",
      "['ef', 'pi', 0]\n",
      "['ge', 'pi', 0]\n",
      "['ef', 'pi', 0]\n",
      "['ge', 'pi', 0]\n",
      "['ef', 'pi', 0]\n",
      "['ge', 'pi', 0]\n",
      "['ef', 'pi', 0]\n",
      "['ge', 'pi', 0]\n",
      "['ef', 'pi', 0]\n",
      "['ge', 'pi', 0]\n",
      "['ef', 'pi', 0]\n",
      "['ge', 'pi', 0]\n",
      "['ef', 'pi', 0]\n",
      "Saving H:\\Shared drives\\SLab\\Multimode\\experiment\\250307_qsim\\data\\00634_storage_sweep.h5\n",
      "Loaded:  {'init_storage': 4, 'start': 0.007, 'step': 60, 'qubits': [0], 'expts': 100, 'reps': 100, 'rounds': 1, 'flux_drive': ['low', 874, 9000, 0.05], 'prepulse': True, 'postpulse': True, 'active_reset': False, 'man_reset': False, 'storage_reset': False, 'update_post_pulse_phase': [False, 1.07], 'floquet_cycles': 201}\n",
      "Config is:  {'init_storage': 4, 'start': 0.007, 'step': 60, 'qubits': [0], 'expts': 100, 'reps': 100, 'rounds': 1, 'flux_drive': ['low', 874, 9000, 0.05], 'prepulse': True, 'postpulse': True, 'active_reset': False, 'man_reset': False, 'storage_reset': False, 'update_post_pulse_phase': [False, 1.07], 'floquet_cycles': 201}\n"
     ]
    },
    {
     "data": {
      "application/vnd.jupyter.widget-view+json": {
       "model_id": "d740e4553100449589b318547d7138ab",
       "version_major": 2,
       "version_minor": 0
      },
      "text/plain": [
       "  0%|          | 0/7 [00:00<?, ?it/s]"
      ]
     },
     "metadata": {},
     "output_type": "display_data"
    },
    {
     "name": "stdout",
     "output_type": "stream",
     "text": [
      "['ge', 'pi', 0]\n",
      "['ef', 'pi', 0]\n",
      "['ge', 'pi', 0]\n",
      "['ef', 'pi', 0]\n",
      "['ge', 'pi', 0]\n",
      "['ef', 'pi', 0]\n",
      "['ge', 'pi', 0]\n",
      "['ef', 'pi', 0]\n",
      "['ge', 'pi', 0]\n",
      "['ef', 'pi', 0]\n",
      "['ge', 'pi', 0]\n",
      "['ef', 'pi', 0]\n",
      "['ge', 'pi', 0]\n",
      "['ef', 'pi', 0]\n",
      "Saving H:\\Shared drives\\SLab\\Multimode\\experiment\\250307_qsim\\data\\00635_storage_sweep.h5\n",
      "Loaded:  {'init_storage': 4, 'start': 0.007, 'step': 60, 'qubits': [0], 'expts': 100, 'reps': 100, 'rounds': 1, 'flux_drive': ['low', 874, 9000, 0.05], 'prepulse': True, 'postpulse': True, 'active_reset': False, 'man_reset': False, 'storage_reset': False, 'update_post_pulse_phase': [False, 1.07], 'floquet_cycles': 206}\n",
      "Config is:  {'init_storage': 4, 'start': 0.007, 'step': 60, 'qubits': [0], 'expts': 100, 'reps': 100, 'rounds': 1, 'flux_drive': ['low', 874, 9000, 0.05], 'prepulse': True, 'postpulse': True, 'active_reset': False, 'man_reset': False, 'storage_reset': False, 'update_post_pulse_phase': [False, 1.07], 'floquet_cycles': 206}\n"
     ]
    },
    {
     "data": {
      "application/vnd.jupyter.widget-view+json": {
       "model_id": "290b998a582a4cdbb8b6e146aabce2bb",
       "version_major": 2,
       "version_minor": 0
      },
      "text/plain": [
       "  0%|          | 0/7 [00:00<?, ?it/s]"
      ]
     },
     "metadata": {},
     "output_type": "display_data"
    },
    {
     "name": "stdout",
     "output_type": "stream",
     "text": [
      "['ge', 'pi', 0]\n",
      "['ef', 'pi', 0]\n",
      "['ge', 'pi', 0]\n",
      "['ef', 'pi', 0]\n",
      "['ge', 'pi', 0]\n",
      "['ef', 'pi', 0]\n",
      "['ge', 'pi', 0]\n",
      "['ef', 'pi', 0]\n",
      "['ge', 'pi', 0]\n",
      "['ef', 'pi', 0]\n",
      "['ge', 'pi', 0]\n",
      "['ef', 'pi', 0]\n",
      "['ge', 'pi', 0]\n",
      "['ef', 'pi', 0]\n",
      "Saving H:\\Shared drives\\SLab\\Multimode\\experiment\\250307_qsim\\data\\00636_storage_sweep.h5\n",
      "Loaded:  {'init_storage': 4, 'start': 0.007, 'step': 60, 'qubits': [0], 'expts': 100, 'reps': 100, 'rounds': 1, 'flux_drive': ['low', 874, 9000, 0.05], 'prepulse': True, 'postpulse': True, 'active_reset': False, 'man_reset': False, 'storage_reset': False, 'update_post_pulse_phase': [False, 1.07], 'floquet_cycles': 211}\n",
      "Config is:  {'init_storage': 4, 'start': 0.007, 'step': 60, 'qubits': [0], 'expts': 100, 'reps': 100, 'rounds': 1, 'flux_drive': ['low', 874, 9000, 0.05], 'prepulse': True, 'postpulse': True, 'active_reset': False, 'man_reset': False, 'storage_reset': False, 'update_post_pulse_phase': [False, 1.07], 'floquet_cycles': 211}\n"
     ]
    },
    {
     "data": {
      "application/vnd.jupyter.widget-view+json": {
       "model_id": "04a23942c8654b208240468100b779ce",
       "version_major": 2,
       "version_minor": 0
      },
      "text/plain": [
       "  0%|          | 0/7 [00:00<?, ?it/s]"
      ]
     },
     "metadata": {},
     "output_type": "display_data"
    },
    {
     "name": "stdout",
     "output_type": "stream",
     "text": [
      "['ge', 'pi', 0]\n",
      "['ef', 'pi', 0]\n",
      "['ge', 'pi', 0]\n",
      "['ef', 'pi', 0]\n",
      "['ge', 'pi', 0]\n",
      "['ef', 'pi', 0]\n",
      "['ge', 'pi', 0]\n",
      "['ef', 'pi', 0]\n",
      "['ge', 'pi', 0]\n",
      "['ef', 'pi', 0]\n",
      "['ge', 'pi', 0]\n",
      "['ef', 'pi', 0]\n",
      "['ge', 'pi', 0]\n",
      "['ef', 'pi', 0]\n",
      "Saving H:\\Shared drives\\SLab\\Multimode\\experiment\\250307_qsim\\data\\00637_storage_sweep.h5\n",
      "Loaded:  {'init_storage': 4, 'start': 0.007, 'step': 60, 'qubits': [0], 'expts': 100, 'reps': 100, 'rounds': 1, 'flux_drive': ['low', 874, 9000, 0.05], 'prepulse': True, 'postpulse': True, 'active_reset': False, 'man_reset': False, 'storage_reset': False, 'update_post_pulse_phase': [False, 1.07], 'floquet_cycles': 216}\n",
      "Config is:  {'init_storage': 4, 'start': 0.007, 'step': 60, 'qubits': [0], 'expts': 100, 'reps': 100, 'rounds': 1, 'flux_drive': ['low', 874, 9000, 0.05], 'prepulse': True, 'postpulse': True, 'active_reset': False, 'man_reset': False, 'storage_reset': False, 'update_post_pulse_phase': [False, 1.07], 'floquet_cycles': 216}\n"
     ]
    },
    {
     "data": {
      "application/vnd.jupyter.widget-view+json": {
       "model_id": "51cb383ac7ea4427bf08515fa8865874",
       "version_major": 2,
       "version_minor": 0
      },
      "text/plain": [
       "  0%|          | 0/7 [00:00<?, ?it/s]"
      ]
     },
     "metadata": {},
     "output_type": "display_data"
    },
    {
     "name": "stdout",
     "output_type": "stream",
     "text": [
      "['ge', 'pi', 0]\n",
      "['ef', 'pi', 0]\n",
      "['ge', 'pi', 0]\n",
      "['ef', 'pi', 0]\n",
      "['ge', 'pi', 0]\n",
      "['ef', 'pi', 0]\n",
      "['ge', 'pi', 0]\n",
      "['ef', 'pi', 0]\n",
      "['ge', 'pi', 0]\n",
      "['ef', 'pi', 0]\n",
      "['ge', 'pi', 0]\n",
      "['ef', 'pi', 0]\n",
      "['ge', 'pi', 0]\n",
      "['ef', 'pi', 0]\n",
      "Saving H:\\Shared drives\\SLab\\Multimode\\experiment\\250307_qsim\\data\\00638_storage_sweep.h5\n",
      "Loaded:  {'init_storage': 4, 'start': 0.007, 'step': 60, 'qubits': [0], 'expts': 100, 'reps': 100, 'rounds': 1, 'flux_drive': ['low', 874, 9000, 0.05], 'prepulse': True, 'postpulse': True, 'active_reset': False, 'man_reset': False, 'storage_reset': False, 'update_post_pulse_phase': [False, 1.07], 'floquet_cycles': 221}\n",
      "Config is:  {'init_storage': 4, 'start': 0.007, 'step': 60, 'qubits': [0], 'expts': 100, 'reps': 100, 'rounds': 1, 'flux_drive': ['low', 874, 9000, 0.05], 'prepulse': True, 'postpulse': True, 'active_reset': False, 'man_reset': False, 'storage_reset': False, 'update_post_pulse_phase': [False, 1.07], 'floquet_cycles': 221}\n"
     ]
    },
    {
     "data": {
      "application/vnd.jupyter.widget-view+json": {
       "model_id": "561d9f1850fb464cb60a8180f2da948c",
       "version_major": 2,
       "version_minor": 0
      },
      "text/plain": [
       "  0%|          | 0/7 [00:00<?, ?it/s]"
      ]
     },
     "metadata": {},
     "output_type": "display_data"
    },
    {
     "name": "stdout",
     "output_type": "stream",
     "text": [
      "['ge', 'pi', 0]\n",
      "['ef', 'pi', 0]\n",
      "['ge', 'pi', 0]\n",
      "['ef', 'pi', 0]\n",
      "['ge', 'pi', 0]\n",
      "['ef', 'pi', 0]\n",
      "['ge', 'pi', 0]\n",
      "['ef', 'pi', 0]\n",
      "['ge', 'pi', 0]\n",
      "['ef', 'pi', 0]\n",
      "['ge', 'pi', 0]\n",
      "['ef', 'pi', 0]\n",
      "['ge', 'pi', 0]\n",
      "['ef', 'pi', 0]\n",
      "Saving H:\\Shared drives\\SLab\\Multimode\\experiment\\250307_qsim\\data\\00639_storage_sweep.h5\n",
      "Loaded:  {'init_storage': 4, 'start': 0.007, 'step': 60, 'qubits': [0], 'expts': 100, 'reps': 100, 'rounds': 1, 'flux_drive': ['low', 874, 9000, 0.05], 'prepulse': True, 'postpulse': True, 'active_reset': False, 'man_reset': False, 'storage_reset': False, 'update_post_pulse_phase': [False, 1.07], 'floquet_cycles': 226}\n",
      "Config is:  {'init_storage': 4, 'start': 0.007, 'step': 60, 'qubits': [0], 'expts': 100, 'reps': 100, 'rounds': 1, 'flux_drive': ['low', 874, 9000, 0.05], 'prepulse': True, 'postpulse': True, 'active_reset': False, 'man_reset': False, 'storage_reset': False, 'update_post_pulse_phase': [False, 1.07], 'floquet_cycles': 226}\n"
     ]
    },
    {
     "data": {
      "application/vnd.jupyter.widget-view+json": {
       "model_id": "4d782a20e8154ce6911868fbf3ece829",
       "version_major": 2,
       "version_minor": 0
      },
      "text/plain": [
       "  0%|          | 0/7 [00:00<?, ?it/s]"
      ]
     },
     "metadata": {},
     "output_type": "display_data"
    },
    {
     "name": "stdout",
     "output_type": "stream",
     "text": [
      "['ge', 'pi', 0]\n",
      "['ef', 'pi', 0]\n",
      "['ge', 'pi', 0]\n",
      "['ef', 'pi', 0]\n",
      "['ge', 'pi', 0]\n",
      "['ef', 'pi', 0]\n",
      "['ge', 'pi', 0]\n",
      "['ef', 'pi', 0]\n",
      "['ge', 'pi', 0]\n",
      "['ef', 'pi', 0]\n",
      "['ge', 'pi', 0]\n",
      "['ef', 'pi', 0]\n",
      "['ge', 'pi', 0]\n",
      "['ef', 'pi', 0]\n",
      "Saving H:\\Shared drives\\SLab\\Multimode\\experiment\\250307_qsim\\data\\00640_storage_sweep.h5\n",
      "Loaded:  {'init_storage': 4, 'start': 0.007, 'step': 60, 'qubits': [0], 'expts': 100, 'reps': 100, 'rounds': 1, 'flux_drive': ['low', 874, 9000, 0.05], 'prepulse': True, 'postpulse': True, 'active_reset': False, 'man_reset': False, 'storage_reset': False, 'update_post_pulse_phase': [False, 1.07], 'floquet_cycles': 231}\n",
      "Config is:  {'init_storage': 4, 'start': 0.007, 'step': 60, 'qubits': [0], 'expts': 100, 'reps': 100, 'rounds': 1, 'flux_drive': ['low', 874, 9000, 0.05], 'prepulse': True, 'postpulse': True, 'active_reset': False, 'man_reset': False, 'storage_reset': False, 'update_post_pulse_phase': [False, 1.07], 'floquet_cycles': 231}\n"
     ]
    },
    {
     "data": {
      "application/vnd.jupyter.widget-view+json": {
       "model_id": "264a6846b2d74ee68e4eeb11faa5fe79",
       "version_major": 2,
       "version_minor": 0
      },
      "text/plain": [
       "  0%|          | 0/7 [00:00<?, ?it/s]"
      ]
     },
     "metadata": {},
     "output_type": "display_data"
    },
    {
     "name": "stdout",
     "output_type": "stream",
     "text": [
      "['ge', 'pi', 0]\n",
      "['ef', 'pi', 0]\n",
      "['ge', 'pi', 0]\n",
      "['ef', 'pi', 0]\n",
      "['ge', 'pi', 0]\n",
      "['ef', 'pi', 0]\n",
      "['ge', 'pi', 0]\n",
      "['ef', 'pi', 0]\n",
      "['ge', 'pi', 0]\n",
      "['ef', 'pi', 0]\n",
      "['ge', 'pi', 0]\n",
      "['ef', 'pi', 0]\n",
      "['ge', 'pi', 0]\n",
      "['ef', 'pi', 0]\n",
      "Saving H:\\Shared drives\\SLab\\Multimode\\experiment\\250307_qsim\\data\\00641_storage_sweep.h5\n",
      "Loaded:  {'init_storage': 4, 'start': 0.007, 'step': 60, 'qubits': [0], 'expts': 100, 'reps': 100, 'rounds': 1, 'flux_drive': ['low', 874, 9000, 0.05], 'prepulse': True, 'postpulse': True, 'active_reset': False, 'man_reset': False, 'storage_reset': False, 'update_post_pulse_phase': [False, 1.07], 'floquet_cycles': 236}\n",
      "Config is:  {'init_storage': 4, 'start': 0.007, 'step': 60, 'qubits': [0], 'expts': 100, 'reps': 100, 'rounds': 1, 'flux_drive': ['low', 874, 9000, 0.05], 'prepulse': True, 'postpulse': True, 'active_reset': False, 'man_reset': False, 'storage_reset': False, 'update_post_pulse_phase': [False, 1.07], 'floquet_cycles': 236}\n"
     ]
    },
    {
     "data": {
      "application/vnd.jupyter.widget-view+json": {
       "model_id": "5ef21b41f9b44e3d897116468185cd10",
       "version_major": 2,
       "version_minor": 0
      },
      "text/plain": [
       "  0%|          | 0/7 [00:00<?, ?it/s]"
      ]
     },
     "metadata": {},
     "output_type": "display_data"
    },
    {
     "name": "stdout",
     "output_type": "stream",
     "text": [
      "['ge', 'pi', 0]\n",
      "['ef', 'pi', 0]\n",
      "['ge', 'pi', 0]\n",
      "['ef', 'pi', 0]\n",
      "['ge', 'pi', 0]\n",
      "['ef', 'pi', 0]\n",
      "['ge', 'pi', 0]\n",
      "['ef', 'pi', 0]\n",
      "['ge', 'pi', 0]\n",
      "['ef', 'pi', 0]\n",
      "['ge', 'pi', 0]\n",
      "['ef', 'pi', 0]\n",
      "['ge', 'pi', 0]\n",
      "['ef', 'pi', 0]\n",
      "Saving H:\\Shared drives\\SLab\\Multimode\\experiment\\250307_qsim\\data\\00642_storage_sweep.h5\n",
      "Loaded:  {'init_storage': 4, 'start': 0.007, 'step': 60, 'qubits': [0], 'expts': 100, 'reps': 100, 'rounds': 1, 'flux_drive': ['low', 874, 9000, 0.05], 'prepulse': True, 'postpulse': True, 'active_reset': False, 'man_reset': False, 'storage_reset': False, 'update_post_pulse_phase': [False, 1.07], 'floquet_cycles': 241}\n",
      "Config is:  {'init_storage': 4, 'start': 0.007, 'step': 60, 'qubits': [0], 'expts': 100, 'reps': 100, 'rounds': 1, 'flux_drive': ['low', 874, 9000, 0.05], 'prepulse': True, 'postpulse': True, 'active_reset': False, 'man_reset': False, 'storage_reset': False, 'update_post_pulse_phase': [False, 1.07], 'floquet_cycles': 241}\n"
     ]
    },
    {
     "data": {
      "application/vnd.jupyter.widget-view+json": {
       "model_id": "bff176f0ef6e4822b6ebaa62ef1f46eb",
       "version_major": 2,
       "version_minor": 0
      },
      "text/plain": [
       "  0%|          | 0/7 [00:00<?, ?it/s]"
      ]
     },
     "metadata": {},
     "output_type": "display_data"
    },
    {
     "name": "stdout",
     "output_type": "stream",
     "text": [
      "['ge', 'pi', 0]\n",
      "['ef', 'pi', 0]\n",
      "['ge', 'pi', 0]\n",
      "['ef', 'pi', 0]\n",
      "['ge', 'pi', 0]\n",
      "['ef', 'pi', 0]\n",
      "['ge', 'pi', 0]\n",
      "['ef', 'pi', 0]\n",
      "['ge', 'pi', 0]\n",
      "['ef', 'pi', 0]\n",
      "['ge', 'pi', 0]\n",
      "['ef', 'pi', 0]\n",
      "['ge', 'pi', 0]\n",
      "['ef', 'pi', 0]\n",
      "Saving H:\\Shared drives\\SLab\\Multimode\\experiment\\250307_qsim\\data\\00643_storage_sweep.h5\n",
      "Loaded:  {'init_storage': 4, 'start': 0.007, 'step': 60, 'qubits': [0], 'expts': 100, 'reps': 100, 'rounds': 1, 'flux_drive': ['low', 874, 9000, 0.05], 'prepulse': True, 'postpulse': True, 'active_reset': False, 'man_reset': False, 'storage_reset': False, 'update_post_pulse_phase': [False, 1.07], 'floquet_cycles': 246}\n",
      "Config is:  {'init_storage': 4, 'start': 0.007, 'step': 60, 'qubits': [0], 'expts': 100, 'reps': 100, 'rounds': 1, 'flux_drive': ['low', 874, 9000, 0.05], 'prepulse': True, 'postpulse': True, 'active_reset': False, 'man_reset': False, 'storage_reset': False, 'update_post_pulse_phase': [False, 1.07], 'floquet_cycles': 246}\n"
     ]
    },
    {
     "data": {
      "application/vnd.jupyter.widget-view+json": {
       "model_id": "87b93a2f91cd48c49fdd8e4691a558b5",
       "version_major": 2,
       "version_minor": 0
      },
      "text/plain": [
       "  0%|          | 0/7 [00:00<?, ?it/s]"
      ]
     },
     "metadata": {},
     "output_type": "display_data"
    },
    {
     "name": "stdout",
     "output_type": "stream",
     "text": [
      "['ge', 'pi', 0]\n",
      "['ef', 'pi', 0]\n",
      "['ge', 'pi', 0]\n",
      "['ef', 'pi', 0]\n",
      "['ge', 'pi', 0]\n",
      "['ef', 'pi', 0]\n",
      "['ge', 'pi', 0]\n",
      "['ef', 'pi', 0]\n",
      "['ge', 'pi', 0]\n",
      "['ef', 'pi', 0]\n",
      "['ge', 'pi', 0]\n",
      "['ef', 'pi', 0]\n",
      "['ge', 'pi', 0]\n",
      "['ef', 'pi', 0]\n",
      "Saving H:\\Shared drives\\SLab\\Multimode\\experiment\\250307_qsim\\data\\00644_storage_sweep.h5\n",
      "Loaded:  {'init_storage': 4, 'start': 0.007, 'step': 60, 'qubits': [0], 'expts': 100, 'reps': 100, 'rounds': 1, 'flux_drive': ['low', 874, 9000, 0.05], 'prepulse': True, 'postpulse': True, 'active_reset': False, 'man_reset': False, 'storage_reset': False, 'update_post_pulse_phase': [False, 1.07], 'floquet_cycles': 251}\n",
      "Config is:  {'init_storage': 4, 'start': 0.007, 'step': 60, 'qubits': [0], 'expts': 100, 'reps': 100, 'rounds': 1, 'flux_drive': ['low', 874, 9000, 0.05], 'prepulse': True, 'postpulse': True, 'active_reset': False, 'man_reset': False, 'storage_reset': False, 'update_post_pulse_phase': [False, 1.07], 'floquet_cycles': 251}\n"
     ]
    },
    {
     "data": {
      "application/vnd.jupyter.widget-view+json": {
       "model_id": "676e65c09f90477fbd8a215b5a48cd3b",
       "version_major": 2,
       "version_minor": 0
      },
      "text/plain": [
       "  0%|          | 0/7 [00:00<?, ?it/s]"
      ]
     },
     "metadata": {},
     "output_type": "display_data"
    },
    {
     "name": "stdout",
     "output_type": "stream",
     "text": [
      "['ge', 'pi', 0]\n",
      "['ef', 'pi', 0]\n",
      "['ge', 'pi', 0]\n",
      "['ef', 'pi', 0]\n",
      "['ge', 'pi', 0]\n",
      "['ef', 'pi', 0]\n",
      "['ge', 'pi', 0]\n",
      "['ef', 'pi', 0]\n",
      "['ge', 'pi', 0]\n",
      "['ef', 'pi', 0]\n",
      "['ge', 'pi', 0]\n",
      "['ef', 'pi', 0]\n",
      "['ge', 'pi', 0]\n",
      "['ef', 'pi', 0]\n",
      "Saving H:\\Shared drives\\SLab\\Multimode\\experiment\\250307_qsim\\data\\00645_storage_sweep.h5\n",
      "Loaded:  {'init_storage': 4, 'start': 0.007, 'step': 60, 'qubits': [0], 'expts': 100, 'reps': 100, 'rounds': 1, 'flux_drive': ['low', 874, 9000, 0.05], 'prepulse': True, 'postpulse': True, 'active_reset': False, 'man_reset': False, 'storage_reset': False, 'update_post_pulse_phase': [False, 1.07], 'floquet_cycles': 256}\n",
      "Config is:  {'init_storage': 4, 'start': 0.007, 'step': 60, 'qubits': [0], 'expts': 100, 'reps': 100, 'rounds': 1, 'flux_drive': ['low', 874, 9000, 0.05], 'prepulse': True, 'postpulse': True, 'active_reset': False, 'man_reset': False, 'storage_reset': False, 'update_post_pulse_phase': [False, 1.07], 'floquet_cycles': 256}\n"
     ]
    },
    {
     "data": {
      "application/vnd.jupyter.widget-view+json": {
       "model_id": "73463ddd4c7e4ca48b63c7fe812a4b12",
       "version_major": 2,
       "version_minor": 0
      },
      "text/plain": [
       "  0%|          | 0/7 [00:00<?, ?it/s]"
      ]
     },
     "metadata": {},
     "output_type": "display_data"
    },
    {
     "name": "stdout",
     "output_type": "stream",
     "text": [
      "['ge', 'pi', 0]\n",
      "['ef', 'pi', 0]\n",
      "['ge', 'pi', 0]\n",
      "['ef', 'pi', 0]\n",
      "['ge', 'pi', 0]\n",
      "['ef', 'pi', 0]\n",
      "['ge', 'pi', 0]\n",
      "['ef', 'pi', 0]\n",
      "['ge', 'pi', 0]\n",
      "['ef', 'pi', 0]\n",
      "['ge', 'pi', 0]\n",
      "['ef', 'pi', 0]\n",
      "['ge', 'pi', 0]\n",
      "['ef', 'pi', 0]\n",
      "Saving H:\\Shared drives\\SLab\\Multimode\\experiment\\250307_qsim\\data\\00646_storage_sweep.h5\n",
      "Loaded:  {'init_storage': 4, 'start': 0.007, 'step': 60, 'qubits': [0], 'expts': 100, 'reps': 100, 'rounds': 1, 'flux_drive': ['low', 874, 9000, 0.05], 'prepulse': True, 'postpulse': True, 'active_reset': False, 'man_reset': False, 'storage_reset': False, 'update_post_pulse_phase': [False, 1.07], 'floquet_cycles': 261}\n",
      "Config is:  {'init_storage': 4, 'start': 0.007, 'step': 60, 'qubits': [0], 'expts': 100, 'reps': 100, 'rounds': 1, 'flux_drive': ['low', 874, 9000, 0.05], 'prepulse': True, 'postpulse': True, 'active_reset': False, 'man_reset': False, 'storage_reset': False, 'update_post_pulse_phase': [False, 1.07], 'floquet_cycles': 261}\n"
     ]
    },
    {
     "data": {
      "application/vnd.jupyter.widget-view+json": {
       "model_id": "f33ca0dd2a264bb59dfc3327ceaab22b",
       "version_major": 2,
       "version_minor": 0
      },
      "text/plain": [
       "  0%|          | 0/7 [00:00<?, ?it/s]"
      ]
     },
     "metadata": {},
     "output_type": "display_data"
    },
    {
     "name": "stdout",
     "output_type": "stream",
     "text": [
      "['ge', 'pi', 0]\n",
      "['ef', 'pi', 0]\n",
      "['ge', 'pi', 0]\n",
      "['ef', 'pi', 0]\n",
      "['ge', 'pi', 0]\n",
      "['ef', 'pi', 0]\n",
      "['ge', 'pi', 0]\n",
      "['ef', 'pi', 0]\n",
      "['ge', 'pi', 0]\n",
      "['ef', 'pi', 0]\n",
      "['ge', 'pi', 0]\n",
      "['ef', 'pi', 0]\n",
      "['ge', 'pi', 0]\n",
      "['ef', 'pi', 0]\n",
      "Saving H:\\Shared drives\\SLab\\Multimode\\experiment\\250307_qsim\\data\\00647_storage_sweep.h5\n",
      "Loaded:  {'init_storage': 4, 'start': 0.007, 'step': 60, 'qubits': [0], 'expts': 100, 'reps': 100, 'rounds': 1, 'flux_drive': ['low', 874, 9000, 0.05], 'prepulse': True, 'postpulse': True, 'active_reset': False, 'man_reset': False, 'storage_reset': False, 'update_post_pulse_phase': [False, 1.07], 'floquet_cycles': 266}\n",
      "Config is:  {'init_storage': 4, 'start': 0.007, 'step': 60, 'qubits': [0], 'expts': 100, 'reps': 100, 'rounds': 1, 'flux_drive': ['low', 874, 9000, 0.05], 'prepulse': True, 'postpulse': True, 'active_reset': False, 'man_reset': False, 'storage_reset': False, 'update_post_pulse_phase': [False, 1.07], 'floquet_cycles': 266}\n"
     ]
    },
    {
     "data": {
      "application/vnd.jupyter.widget-view+json": {
       "model_id": "7687aa42727a46f99583b4745f2ad5c6",
       "version_major": 2,
       "version_minor": 0
      },
      "text/plain": [
       "  0%|          | 0/7 [00:00<?, ?it/s]"
      ]
     },
     "metadata": {},
     "output_type": "display_data"
    },
    {
     "name": "stdout",
     "output_type": "stream",
     "text": [
      "['ge', 'pi', 0]\n",
      "['ef', 'pi', 0]\n",
      "['ge', 'pi', 0]\n",
      "['ef', 'pi', 0]\n",
      "['ge', 'pi', 0]\n",
      "['ef', 'pi', 0]\n",
      "['ge', 'pi', 0]\n",
      "['ef', 'pi', 0]\n",
      "['ge', 'pi', 0]\n",
      "['ef', 'pi', 0]\n",
      "['ge', 'pi', 0]\n",
      "['ef', 'pi', 0]\n",
      "['ge', 'pi', 0]\n",
      "['ef', 'pi', 0]\n",
      "Saving H:\\Shared drives\\SLab\\Multimode\\experiment\\250307_qsim\\data\\00648_storage_sweep.h5\n",
      "Loaded:  {'init_storage': 4, 'start': 0.007, 'step': 60, 'qubits': [0], 'expts': 100, 'reps': 100, 'rounds': 1, 'flux_drive': ['low', 874, 9000, 0.05], 'prepulse': True, 'postpulse': True, 'active_reset': False, 'man_reset': False, 'storage_reset': False, 'update_post_pulse_phase': [False, 1.07], 'floquet_cycles': 271}\n",
      "Config is:  {'init_storage': 4, 'start': 0.007, 'step': 60, 'qubits': [0], 'expts': 100, 'reps': 100, 'rounds': 1, 'flux_drive': ['low', 874, 9000, 0.05], 'prepulse': True, 'postpulse': True, 'active_reset': False, 'man_reset': False, 'storage_reset': False, 'update_post_pulse_phase': [False, 1.07], 'floquet_cycles': 271}\n"
     ]
    },
    {
     "data": {
      "application/vnd.jupyter.widget-view+json": {
       "model_id": "3a0f2007256f49859053beaf812f0a3f",
       "version_major": 2,
       "version_minor": 0
      },
      "text/plain": [
       "  0%|          | 0/7 [00:00<?, ?it/s]"
      ]
     },
     "metadata": {},
     "output_type": "display_data"
    },
    {
     "name": "stdout",
     "output_type": "stream",
     "text": [
      "['ge', 'pi', 0]\n",
      "['ef', 'pi', 0]\n",
      "['ge', 'pi', 0]\n",
      "['ef', 'pi', 0]\n",
      "['ge', 'pi', 0]\n",
      "['ef', 'pi', 0]\n",
      "['ge', 'pi', 0]\n",
      "['ef', 'pi', 0]\n",
      "['ge', 'pi', 0]\n",
      "['ef', 'pi', 0]\n",
      "['ge', 'pi', 0]\n",
      "['ef', 'pi', 0]\n",
      "['ge', 'pi', 0]\n",
      "['ef', 'pi', 0]\n",
      "Saving H:\\Shared drives\\SLab\\Multimode\\experiment\\250307_qsim\\data\\00649_storage_sweep.h5\n",
      "Loaded:  {'init_storage': 4, 'start': 0.007, 'step': 60, 'qubits': [0], 'expts': 100, 'reps': 100, 'rounds': 1, 'flux_drive': ['low', 874, 9000, 0.05], 'prepulse': True, 'postpulse': True, 'active_reset': False, 'man_reset': False, 'storage_reset': False, 'update_post_pulse_phase': [False, 1.07], 'floquet_cycles': 276}\n",
      "Config is:  {'init_storage': 4, 'start': 0.007, 'step': 60, 'qubits': [0], 'expts': 100, 'reps': 100, 'rounds': 1, 'flux_drive': ['low', 874, 9000, 0.05], 'prepulse': True, 'postpulse': True, 'active_reset': False, 'man_reset': False, 'storage_reset': False, 'update_post_pulse_phase': [False, 1.07], 'floquet_cycles': 276}\n"
     ]
    },
    {
     "data": {
      "application/vnd.jupyter.widget-view+json": {
       "model_id": "ef20868e46444ed5b35a6bf0bbb26d0a",
       "version_major": 2,
       "version_minor": 0
      },
      "text/plain": [
       "  0%|          | 0/7 [00:00<?, ?it/s]"
      ]
     },
     "metadata": {},
     "output_type": "display_data"
    },
    {
     "name": "stdout",
     "output_type": "stream",
     "text": [
      "['ge', 'pi', 0]\n",
      "['ef', 'pi', 0]\n",
      "['ge', 'pi', 0]\n",
      "['ef', 'pi', 0]\n",
      "['ge', 'pi', 0]\n",
      "['ef', 'pi', 0]\n",
      "['ge', 'pi', 0]\n",
      "['ef', 'pi', 0]\n",
      "['ge', 'pi', 0]\n",
      "['ef', 'pi', 0]\n",
      "['ge', 'pi', 0]\n",
      "['ef', 'pi', 0]\n",
      "['ge', 'pi', 0]\n",
      "['ef', 'pi', 0]\n",
      "Saving H:\\Shared drives\\SLab\\Multimode\\experiment\\250307_qsim\\data\\00650_storage_sweep.h5\n",
      "Loaded:  {'init_storage': 4, 'start': 0.007, 'step': 60, 'qubits': [0], 'expts': 100, 'reps': 100, 'rounds': 1, 'flux_drive': ['low', 874, 9000, 0.05], 'prepulse': True, 'postpulse': True, 'active_reset': False, 'man_reset': False, 'storage_reset': False, 'update_post_pulse_phase': [False, 1.07], 'floquet_cycles': 281}\n",
      "Config is:  {'init_storage': 4, 'start': 0.007, 'step': 60, 'qubits': [0], 'expts': 100, 'reps': 100, 'rounds': 1, 'flux_drive': ['low', 874, 9000, 0.05], 'prepulse': True, 'postpulse': True, 'active_reset': False, 'man_reset': False, 'storage_reset': False, 'update_post_pulse_phase': [False, 1.07], 'floquet_cycles': 281}\n"
     ]
    },
    {
     "data": {
      "application/vnd.jupyter.widget-view+json": {
       "model_id": "be49645184ad4f99995222f261025d05",
       "version_major": 2,
       "version_minor": 0
      },
      "text/plain": [
       "  0%|          | 0/7 [00:00<?, ?it/s]"
      ]
     },
     "metadata": {},
     "output_type": "display_data"
    },
    {
     "name": "stdout",
     "output_type": "stream",
     "text": [
      "['ge', 'pi', 0]\n",
      "['ef', 'pi', 0]\n",
      "['ge', 'pi', 0]\n",
      "['ef', 'pi', 0]\n",
      "['ge', 'pi', 0]\n",
      "['ef', 'pi', 0]\n",
      "['ge', 'pi', 0]\n",
      "['ef', 'pi', 0]\n",
      "['ge', 'pi', 0]\n",
      "['ef', 'pi', 0]\n",
      "['ge', 'pi', 0]\n",
      "['ef', 'pi', 0]\n",
      "['ge', 'pi', 0]\n",
      "['ef', 'pi', 0]\n",
      "Saving H:\\Shared drives\\SLab\\Multimode\\experiment\\250307_qsim\\data\\00651_storage_sweep.h5\n",
      "Loaded:  {'init_storage': 4, 'start': 0.007, 'step': 60, 'qubits': [0], 'expts': 100, 'reps': 100, 'rounds': 1, 'flux_drive': ['low', 874, 9000, 0.05], 'prepulse': True, 'postpulse': True, 'active_reset': False, 'man_reset': False, 'storage_reset': False, 'update_post_pulse_phase': [False, 1.07], 'floquet_cycles': 286}\n",
      "Config is:  {'init_storage': 4, 'start': 0.007, 'step': 60, 'qubits': [0], 'expts': 100, 'reps': 100, 'rounds': 1, 'flux_drive': ['low', 874, 9000, 0.05], 'prepulse': True, 'postpulse': True, 'active_reset': False, 'man_reset': False, 'storage_reset': False, 'update_post_pulse_phase': [False, 1.07], 'floquet_cycles': 286}\n"
     ]
    },
    {
     "data": {
      "application/vnd.jupyter.widget-view+json": {
       "model_id": "42b490b18e3f423995564dfe6d84c821",
       "version_major": 2,
       "version_minor": 0
      },
      "text/plain": [
       "  0%|          | 0/7 [00:00<?, ?it/s]"
      ]
     },
     "metadata": {},
     "output_type": "display_data"
    },
    {
     "name": "stdout",
     "output_type": "stream",
     "text": [
      "['ge', 'pi', 0]\n",
      "['ef', 'pi', 0]\n",
      "['ge', 'pi', 0]\n",
      "['ef', 'pi', 0]\n",
      "['ge', 'pi', 0]\n",
      "['ef', 'pi', 0]\n",
      "['ge', 'pi', 0]\n",
      "['ef', 'pi', 0]\n",
      "['ge', 'pi', 0]\n",
      "['ef', 'pi', 0]\n",
      "['ge', 'pi', 0]\n",
      "['ef', 'pi', 0]\n",
      "['ge', 'pi', 0]\n",
      "['ef', 'pi', 0]\n",
      "Saving H:\\Shared drives\\SLab\\Multimode\\experiment\\250307_qsim\\data\\00652_storage_sweep.h5\n",
      "Loaded:  {'init_storage': 4, 'start': 0.007, 'step': 60, 'qubits': [0], 'expts': 100, 'reps': 100, 'rounds': 1, 'flux_drive': ['low', 874, 9000, 0.05], 'prepulse': True, 'postpulse': True, 'active_reset': False, 'man_reset': False, 'storage_reset': False, 'update_post_pulse_phase': [False, 1.07], 'floquet_cycles': 291}\n",
      "Config is:  {'init_storage': 4, 'start': 0.007, 'step': 60, 'qubits': [0], 'expts': 100, 'reps': 100, 'rounds': 1, 'flux_drive': ['low', 874, 9000, 0.05], 'prepulse': True, 'postpulse': True, 'active_reset': False, 'man_reset': False, 'storage_reset': False, 'update_post_pulse_phase': [False, 1.07], 'floquet_cycles': 291}\n"
     ]
    },
    {
     "data": {
      "application/vnd.jupyter.widget-view+json": {
       "model_id": "d6649884760847b3abf694e837737043",
       "version_major": 2,
       "version_minor": 0
      },
      "text/plain": [
       "  0%|          | 0/7 [00:00<?, ?it/s]"
      ]
     },
     "metadata": {},
     "output_type": "display_data"
    },
    {
     "name": "stdout",
     "output_type": "stream",
     "text": [
      "['ge', 'pi', 0]\n",
      "['ef', 'pi', 0]\n",
      "['ge', 'pi', 0]\n",
      "['ef', 'pi', 0]\n",
      "['ge', 'pi', 0]\n",
      "['ef', 'pi', 0]\n",
      "['ge', 'pi', 0]\n",
      "['ef', 'pi', 0]\n",
      "['ge', 'pi', 0]\n",
      "['ef', 'pi', 0]\n",
      "['ge', 'pi', 0]\n",
      "['ef', 'pi', 0]\n",
      "['ge', 'pi', 0]\n",
      "['ef', 'pi', 0]\n",
      "Saving H:\\Shared drives\\SLab\\Multimode\\experiment\\250307_qsim\\data\\00653_storage_sweep.h5\n",
      "Loaded:  {'init_storage': 4, 'start': 0.007, 'step': 60, 'qubits': [0], 'expts': 100, 'reps': 100, 'rounds': 1, 'flux_drive': ['low', 874, 9000, 0.05], 'prepulse': True, 'postpulse': True, 'active_reset': False, 'man_reset': False, 'storage_reset': False, 'update_post_pulse_phase': [False, 1.07], 'floquet_cycles': 296}\n",
      "Config is:  {'init_storage': 4, 'start': 0.007, 'step': 60, 'qubits': [0], 'expts': 100, 'reps': 100, 'rounds': 1, 'flux_drive': ['low', 874, 9000, 0.05], 'prepulse': True, 'postpulse': True, 'active_reset': False, 'man_reset': False, 'storage_reset': False, 'update_post_pulse_phase': [False, 1.07], 'floquet_cycles': 296}\n"
     ]
    },
    {
     "data": {
      "application/vnd.jupyter.widget-view+json": {
       "model_id": "62bec525410947619d4d6711a7d19437",
       "version_major": 2,
       "version_minor": 0
      },
      "text/plain": [
       "  0%|          | 0/7 [00:00<?, ?it/s]"
      ]
     },
     "metadata": {},
     "output_type": "display_data"
    },
    {
     "name": "stdout",
     "output_type": "stream",
     "text": [
      "['ge', 'pi', 0]\n",
      "['ef', 'pi', 0]\n",
      "['ge', 'pi', 0]\n",
      "['ef', 'pi', 0]\n",
      "['ge', 'pi', 0]\n",
      "['ef', 'pi', 0]\n",
      "['ge', 'pi', 0]\n",
      "['ef', 'pi', 0]\n",
      "['ge', 'pi', 0]\n",
      "['ef', 'pi', 0]\n",
      "['ge', 'pi', 0]\n",
      "['ef', 'pi', 0]\n",
      "['ge', 'pi', 0]\n",
      "['ef', 'pi', 0]\n",
      "Saving H:\\Shared drives\\SLab\\Multimode\\experiment\\250307_qsim\\data\\00654_storage_sweep.h5\n",
      "Loaded:  {'init_storage': 4, 'start': 0.007, 'step': 60, 'qubits': [0], 'expts': 100, 'reps': 100, 'rounds': 1, 'flux_drive': ['low', 874, 9000, 0.05], 'prepulse': True, 'postpulse': True, 'active_reset': False, 'man_reset': False, 'storage_reset': False, 'update_post_pulse_phase': [False, 1.07], 'floquet_cycles': 301}\n",
      "Config is:  {'init_storage': 4, 'start': 0.007, 'step': 60, 'qubits': [0], 'expts': 100, 'reps': 100, 'rounds': 1, 'flux_drive': ['low', 874, 9000, 0.05], 'prepulse': True, 'postpulse': True, 'active_reset': False, 'man_reset': False, 'storage_reset': False, 'update_post_pulse_phase': [False, 1.07], 'floquet_cycles': 301}\n"
     ]
    },
    {
     "data": {
      "application/vnd.jupyter.widget-view+json": {
       "model_id": "9128e4e4924f49b786cca8036ba6576a",
       "version_major": 2,
       "version_minor": 0
      },
      "text/plain": [
       "  0%|          | 0/7 [00:00<?, ?it/s]"
      ]
     },
     "metadata": {},
     "output_type": "display_data"
    },
    {
     "name": "stdout",
     "output_type": "stream",
     "text": [
      "['ge', 'pi', 0]\n",
      "['ef', 'pi', 0]\n",
      "['ge', 'pi', 0]\n",
      "['ef', 'pi', 0]\n",
      "['ge', 'pi', 0]\n",
      "['ef', 'pi', 0]\n",
      "['ge', 'pi', 0]\n",
      "['ef', 'pi', 0]\n",
      "['ge', 'pi', 0]\n",
      "['ef', 'pi', 0]\n",
      "['ge', 'pi', 0]\n",
      "['ef', 'pi', 0]\n",
      "['ge', 'pi', 0]\n",
      "['ef', 'pi', 0]\n",
      "Saving H:\\Shared drives\\SLab\\Multimode\\experiment\\250307_qsim\\data\\00655_storage_sweep.h5\n",
      "Loaded:  {'init_storage': 4, 'start': 0.007, 'step': 60, 'qubits': [0], 'expts': 100, 'reps': 100, 'rounds': 1, 'flux_drive': ['low', 874, 9000, 0.05], 'prepulse': True, 'postpulse': True, 'active_reset': False, 'man_reset': False, 'storage_reset': False, 'update_post_pulse_phase': [False, 1.07], 'floquet_cycles': 306}\n",
      "Config is:  {'init_storage': 4, 'start': 0.007, 'step': 60, 'qubits': [0], 'expts': 100, 'reps': 100, 'rounds': 1, 'flux_drive': ['low', 874, 9000, 0.05], 'prepulse': True, 'postpulse': True, 'active_reset': False, 'man_reset': False, 'storage_reset': False, 'update_post_pulse_phase': [False, 1.07], 'floquet_cycles': 306}\n"
     ]
    },
    {
     "data": {
      "application/vnd.jupyter.widget-view+json": {
       "model_id": "f1bbe7e9778942859432d15ba9ad368f",
       "version_major": 2,
       "version_minor": 0
      },
      "text/plain": [
       "  0%|          | 0/7 [00:00<?, ?it/s]"
      ]
     },
     "metadata": {},
     "output_type": "display_data"
    },
    {
     "name": "stdout",
     "output_type": "stream",
     "text": [
      "['ge', 'pi', 0]\n",
      "['ef', 'pi', 0]\n",
      "['ge', 'pi', 0]\n",
      "['ef', 'pi', 0]\n",
      "['ge', 'pi', 0]\n",
      "['ef', 'pi', 0]\n",
      "['ge', 'pi', 0]\n",
      "['ef', 'pi', 0]\n",
      "['ge', 'pi', 0]\n",
      "['ef', 'pi', 0]\n",
      "['ge', 'pi', 0]\n",
      "['ef', 'pi', 0]\n",
      "['ge', 'pi', 0]\n",
      "['ef', 'pi', 0]\n",
      "Saving H:\\Shared drives\\SLab\\Multimode\\experiment\\250307_qsim\\data\\00656_storage_sweep.h5\n",
      "Loaded:  {'init_storage': 4, 'start': 0.007, 'step': 60, 'qubits': [0], 'expts': 100, 'reps': 100, 'rounds': 1, 'flux_drive': ['low', 874, 9000, 0.05], 'prepulse': True, 'postpulse': True, 'active_reset': False, 'man_reset': False, 'storage_reset': False, 'update_post_pulse_phase': [False, 1.07], 'floquet_cycles': 311}\n",
      "Config is:  {'init_storage': 4, 'start': 0.007, 'step': 60, 'qubits': [0], 'expts': 100, 'reps': 100, 'rounds': 1, 'flux_drive': ['low', 874, 9000, 0.05], 'prepulse': True, 'postpulse': True, 'active_reset': False, 'man_reset': False, 'storage_reset': False, 'update_post_pulse_phase': [False, 1.07], 'floquet_cycles': 311}\n"
     ]
    },
    {
     "data": {
      "application/vnd.jupyter.widget-view+json": {
       "model_id": "1c20f82b264941f6904f32a8879b71e9",
       "version_major": 2,
       "version_minor": 0
      },
      "text/plain": [
       "  0%|          | 0/7 [00:00<?, ?it/s]"
      ]
     },
     "metadata": {},
     "output_type": "display_data"
    },
    {
     "name": "stdout",
     "output_type": "stream",
     "text": [
      "['ge', 'pi', 0]\n",
      "['ef', 'pi', 0]\n",
      "['ge', 'pi', 0]\n",
      "['ef', 'pi', 0]\n",
      "['ge', 'pi', 0]\n",
      "['ef', 'pi', 0]\n",
      "['ge', 'pi', 0]\n",
      "['ef', 'pi', 0]\n",
      "['ge', 'pi', 0]\n",
      "['ef', 'pi', 0]\n",
      "['ge', 'pi', 0]\n",
      "['ef', 'pi', 0]\n",
      "['ge', 'pi', 0]\n",
      "['ef', 'pi', 0]\n",
      "Saving H:\\Shared drives\\SLab\\Multimode\\experiment\\250307_qsim\\data\\00657_storage_sweep.h5\n",
      "Loaded:  {'init_storage': 4, 'start': 0.007, 'step': 60, 'qubits': [0], 'expts': 100, 'reps': 100, 'rounds': 1, 'flux_drive': ['low', 874, 9000, 0.05], 'prepulse': True, 'postpulse': True, 'active_reset': False, 'man_reset': False, 'storage_reset': False, 'update_post_pulse_phase': [False, 1.07], 'floquet_cycles': 316}\n",
      "Config is:  {'init_storage': 4, 'start': 0.007, 'step': 60, 'qubits': [0], 'expts': 100, 'reps': 100, 'rounds': 1, 'flux_drive': ['low', 874, 9000, 0.05], 'prepulse': True, 'postpulse': True, 'active_reset': False, 'man_reset': False, 'storage_reset': False, 'update_post_pulse_phase': [False, 1.07], 'floquet_cycles': 316}\n"
     ]
    },
    {
     "data": {
      "application/vnd.jupyter.widget-view+json": {
       "model_id": "5d7ca2df4cb04a2fb3cbcfbee709adbb",
       "version_major": 2,
       "version_minor": 0
      },
      "text/plain": [
       "  0%|          | 0/7 [00:00<?, ?it/s]"
      ]
     },
     "metadata": {},
     "output_type": "display_data"
    },
    {
     "name": "stdout",
     "output_type": "stream",
     "text": [
      "['ge', 'pi', 0]\n",
      "['ef', 'pi', 0]\n",
      "['ge', 'pi', 0]\n",
      "['ef', 'pi', 0]\n",
      "['ge', 'pi', 0]\n",
      "['ef', 'pi', 0]\n",
      "['ge', 'pi', 0]\n",
      "['ef', 'pi', 0]\n",
      "['ge', 'pi', 0]\n",
      "['ef', 'pi', 0]\n",
      "['ge', 'pi', 0]\n",
      "['ef', 'pi', 0]\n",
      "['ge', 'pi', 0]\n",
      "['ef', 'pi', 0]\n",
      "Saving H:\\Shared drives\\SLab\\Multimode\\experiment\\250307_qsim\\data\\00658_storage_sweep.h5\n",
      "Loaded:  {'init_storage': 4, 'start': 0.007, 'step': 60, 'qubits': [0], 'expts': 100, 'reps': 100, 'rounds': 1, 'flux_drive': ['low', 874, 9000, 0.05], 'prepulse': True, 'postpulse': True, 'active_reset': False, 'man_reset': False, 'storage_reset': False, 'update_post_pulse_phase': [False, 1.07], 'floquet_cycles': 321}\n",
      "Config is:  {'init_storage': 4, 'start': 0.007, 'step': 60, 'qubits': [0], 'expts': 100, 'reps': 100, 'rounds': 1, 'flux_drive': ['low', 874, 9000, 0.05], 'prepulse': True, 'postpulse': True, 'active_reset': False, 'man_reset': False, 'storage_reset': False, 'update_post_pulse_phase': [False, 1.07], 'floquet_cycles': 321}\n"
     ]
    },
    {
     "data": {
      "application/vnd.jupyter.widget-view+json": {
       "model_id": "3a1a8f5be7bd4bf1b92c9058311943d6",
       "version_major": 2,
       "version_minor": 0
      },
      "text/plain": [
       "  0%|          | 0/7 [00:00<?, ?it/s]"
      ]
     },
     "metadata": {},
     "output_type": "display_data"
    },
    {
     "name": "stdout",
     "output_type": "stream",
     "text": [
      "['ge', 'pi', 0]\n",
      "['ef', 'pi', 0]\n",
      "['ge', 'pi', 0]\n",
      "['ef', 'pi', 0]\n",
      "['ge', 'pi', 0]\n",
      "['ef', 'pi', 0]\n",
      "['ge', 'pi', 0]\n",
      "['ef', 'pi', 0]\n",
      "['ge', 'pi', 0]\n",
      "['ef', 'pi', 0]\n",
      "['ge', 'pi', 0]\n",
      "['ef', 'pi', 0]\n",
      "['ge', 'pi', 0]\n",
      "['ef', 'pi', 0]\n",
      "Saving H:\\Shared drives\\SLab\\Multimode\\experiment\\250307_qsim\\data\\00659_storage_sweep.h5\n",
      "Loaded:  {'init_storage': 4, 'start': 0.007, 'step': 60, 'qubits': [0], 'expts': 100, 'reps': 100, 'rounds': 1, 'flux_drive': ['low', 874, 9000, 0.05], 'prepulse': True, 'postpulse': True, 'active_reset': False, 'man_reset': False, 'storage_reset': False, 'update_post_pulse_phase': [False, 1.07], 'floquet_cycles': 326}\n",
      "Config is:  {'init_storage': 4, 'start': 0.007, 'step': 60, 'qubits': [0], 'expts': 100, 'reps': 100, 'rounds': 1, 'flux_drive': ['low', 874, 9000, 0.05], 'prepulse': True, 'postpulse': True, 'active_reset': False, 'man_reset': False, 'storage_reset': False, 'update_post_pulse_phase': [False, 1.07], 'floquet_cycles': 326}\n"
     ]
    },
    {
     "data": {
      "application/vnd.jupyter.widget-view+json": {
       "model_id": "781fc9683fd44e6fb5ef4a21303bf535",
       "version_major": 2,
       "version_minor": 0
      },
      "text/plain": [
       "  0%|          | 0/7 [00:00<?, ?it/s]"
      ]
     },
     "metadata": {},
     "output_type": "display_data"
    },
    {
     "name": "stdout",
     "output_type": "stream",
     "text": [
      "['ge', 'pi', 0]\n",
      "['ef', 'pi', 0]\n",
      "['ge', 'pi', 0]\n",
      "['ef', 'pi', 0]\n",
      "['ge', 'pi', 0]\n",
      "['ef', 'pi', 0]\n",
      "['ge', 'pi', 0]\n",
      "['ef', 'pi', 0]\n",
      "['ge', 'pi', 0]\n",
      "['ef', 'pi', 0]\n",
      "['ge', 'pi', 0]\n",
      "['ef', 'pi', 0]\n",
      "['ge', 'pi', 0]\n",
      "['ef', 'pi', 0]\n",
      "Saving H:\\Shared drives\\SLab\\Multimode\\experiment\\250307_qsim\\data\\00660_storage_sweep.h5\n",
      "Loaded:  {'init_storage': 4, 'start': 0.007, 'step': 60, 'qubits': [0], 'expts': 100, 'reps': 100, 'rounds': 1, 'flux_drive': ['low', 874, 9000, 0.05], 'prepulse': True, 'postpulse': True, 'active_reset': False, 'man_reset': False, 'storage_reset': False, 'update_post_pulse_phase': [False, 1.07], 'floquet_cycles': 331}\n",
      "Config is:  {'init_storage': 4, 'start': 0.007, 'step': 60, 'qubits': [0], 'expts': 100, 'reps': 100, 'rounds': 1, 'flux_drive': ['low', 874, 9000, 0.05], 'prepulse': True, 'postpulse': True, 'active_reset': False, 'man_reset': False, 'storage_reset': False, 'update_post_pulse_phase': [False, 1.07], 'floquet_cycles': 331}\n"
     ]
    },
    {
     "data": {
      "application/vnd.jupyter.widget-view+json": {
       "model_id": "4c3f8a869c9645a58f66af61cab4e859",
       "version_major": 2,
       "version_minor": 0
      },
      "text/plain": [
       "  0%|          | 0/7 [00:00<?, ?it/s]"
      ]
     },
     "metadata": {},
     "output_type": "display_data"
    },
    {
     "name": "stdout",
     "output_type": "stream",
     "text": [
      "['ge', 'pi', 0]\n",
      "['ef', 'pi', 0]\n",
      "['ge', 'pi', 0]\n",
      "['ef', 'pi', 0]\n",
      "['ge', 'pi', 0]\n",
      "['ef', 'pi', 0]\n",
      "['ge', 'pi', 0]\n",
      "['ef', 'pi', 0]\n",
      "['ge', 'pi', 0]\n",
      "['ef', 'pi', 0]\n",
      "['ge', 'pi', 0]\n",
      "['ef', 'pi', 0]\n",
      "['ge', 'pi', 0]\n",
      "['ef', 'pi', 0]\n",
      "Saving H:\\Shared drives\\SLab\\Multimode\\experiment\\250307_qsim\\data\\00661_storage_sweep.h5\n",
      "Loaded:  {'init_storage': 4, 'start': 0.007, 'step': 60, 'qubits': [0], 'expts': 100, 'reps': 100, 'rounds': 1, 'flux_drive': ['low', 874, 9000, 0.05], 'prepulse': True, 'postpulse': True, 'active_reset': False, 'man_reset': False, 'storage_reset': False, 'update_post_pulse_phase': [False, 1.07], 'floquet_cycles': 336}\n",
      "Config is:  {'init_storage': 4, 'start': 0.007, 'step': 60, 'qubits': [0], 'expts': 100, 'reps': 100, 'rounds': 1, 'flux_drive': ['low', 874, 9000, 0.05], 'prepulse': True, 'postpulse': True, 'active_reset': False, 'man_reset': False, 'storage_reset': False, 'update_post_pulse_phase': [False, 1.07], 'floquet_cycles': 336}\n"
     ]
    },
    {
     "data": {
      "application/vnd.jupyter.widget-view+json": {
       "model_id": "a589bdb430d64c56a951b671517af4cb",
       "version_major": 2,
       "version_minor": 0
      },
      "text/plain": [
       "  0%|          | 0/7 [00:00<?, ?it/s]"
      ]
     },
     "metadata": {},
     "output_type": "display_data"
    },
    {
     "name": "stdout",
     "output_type": "stream",
     "text": [
      "['ge', 'pi', 0]\n",
      "['ef', 'pi', 0]\n",
      "['ge', 'pi', 0]\n",
      "['ef', 'pi', 0]\n",
      "['ge', 'pi', 0]\n",
      "['ef', 'pi', 0]\n",
      "['ge', 'pi', 0]\n",
      "['ef', 'pi', 0]\n",
      "['ge', 'pi', 0]\n",
      "['ef', 'pi', 0]\n",
      "['ge', 'pi', 0]\n",
      "['ef', 'pi', 0]\n",
      "['ge', 'pi', 0]\n",
      "['ef', 'pi', 0]\n",
      "Saving H:\\Shared drives\\SLab\\Multimode\\experiment\\250307_qsim\\data\\00662_storage_sweep.h5\n",
      "Loaded:  {'init_storage': 4, 'start': 0.007, 'step': 60, 'qubits': [0], 'expts': 100, 'reps': 100, 'rounds': 1, 'flux_drive': ['low', 874, 9000, 0.05], 'prepulse': True, 'postpulse': True, 'active_reset': False, 'man_reset': False, 'storage_reset': False, 'update_post_pulse_phase': [False, 1.07], 'floquet_cycles': 341}\n",
      "Config is:  {'init_storage': 4, 'start': 0.007, 'step': 60, 'qubits': [0], 'expts': 100, 'reps': 100, 'rounds': 1, 'flux_drive': ['low', 874, 9000, 0.05], 'prepulse': True, 'postpulse': True, 'active_reset': False, 'man_reset': False, 'storage_reset': False, 'update_post_pulse_phase': [False, 1.07], 'floquet_cycles': 341}\n"
     ]
    },
    {
     "data": {
      "application/vnd.jupyter.widget-view+json": {
       "model_id": "cd5ce94f04264ddfbaa9253af6e52e26",
       "version_major": 2,
       "version_minor": 0
      },
      "text/plain": [
       "  0%|          | 0/7 [00:00<?, ?it/s]"
      ]
     },
     "metadata": {},
     "output_type": "display_data"
    },
    {
     "name": "stdout",
     "output_type": "stream",
     "text": [
      "['ge', 'pi', 0]\n",
      "['ef', 'pi', 0]\n",
      "['ge', 'pi', 0]\n",
      "['ef', 'pi', 0]\n",
      "['ge', 'pi', 0]\n",
      "['ef', 'pi', 0]\n",
      "['ge', 'pi', 0]\n",
      "['ef', 'pi', 0]\n",
      "['ge', 'pi', 0]\n",
      "['ef', 'pi', 0]\n",
      "['ge', 'pi', 0]\n",
      "['ef', 'pi', 0]\n",
      "['ge', 'pi', 0]\n",
      "['ef', 'pi', 0]\n",
      "Saving H:\\Shared drives\\SLab\\Multimode\\experiment\\250307_qsim\\data\\00663_storage_sweep.h5\n",
      "Loaded:  {'init_storage': 4, 'start': 0.007, 'step': 60, 'qubits': [0], 'expts': 100, 'reps': 100, 'rounds': 1, 'flux_drive': ['low', 874, 9000, 0.05], 'prepulse': True, 'postpulse': True, 'active_reset': False, 'man_reset': False, 'storage_reset': False, 'update_post_pulse_phase': [False, 1.07], 'floquet_cycles': 346}\n",
      "Config is:  {'init_storage': 4, 'start': 0.007, 'step': 60, 'qubits': [0], 'expts': 100, 'reps': 100, 'rounds': 1, 'flux_drive': ['low', 874, 9000, 0.05], 'prepulse': True, 'postpulse': True, 'active_reset': False, 'man_reset': False, 'storage_reset': False, 'update_post_pulse_phase': [False, 1.07], 'floquet_cycles': 346}\n"
     ]
    },
    {
     "data": {
      "application/vnd.jupyter.widget-view+json": {
       "model_id": "ff06c3bb5a1d400eb15f5868774127de",
       "version_major": 2,
       "version_minor": 0
      },
      "text/plain": [
       "  0%|          | 0/7 [00:00<?, ?it/s]"
      ]
     },
     "metadata": {},
     "output_type": "display_data"
    },
    {
     "name": "stdout",
     "output_type": "stream",
     "text": [
      "['ge', 'pi', 0]\n",
      "['ef', 'pi', 0]\n",
      "['ge', 'pi', 0]\n",
      "['ef', 'pi', 0]\n",
      "['ge', 'pi', 0]\n",
      "['ef', 'pi', 0]\n",
      "['ge', 'pi', 0]\n",
      "['ef', 'pi', 0]\n",
      "['ge', 'pi', 0]\n",
      "['ef', 'pi', 0]\n",
      "['ge', 'pi', 0]\n",
      "['ef', 'pi', 0]\n",
      "['ge', 'pi', 0]\n",
      "['ef', 'pi', 0]\n",
      "Saving H:\\Shared drives\\SLab\\Multimode\\experiment\\250307_qsim\\data\\00664_storage_sweep.h5\n",
      "Loaded:  {'init_storage': 4, 'start': 0.007, 'step': 60, 'qubits': [0], 'expts': 100, 'reps': 100, 'rounds': 1, 'flux_drive': ['low', 874, 9000, 0.05], 'prepulse': True, 'postpulse': True, 'active_reset': False, 'man_reset': False, 'storage_reset': False, 'update_post_pulse_phase': [False, 1.07], 'floquet_cycles': 351}\n",
      "Config is:  {'init_storage': 4, 'start': 0.007, 'step': 60, 'qubits': [0], 'expts': 100, 'reps': 100, 'rounds': 1, 'flux_drive': ['low', 874, 9000, 0.05], 'prepulse': True, 'postpulse': True, 'active_reset': False, 'man_reset': False, 'storage_reset': False, 'update_post_pulse_phase': [False, 1.07], 'floquet_cycles': 351}\n"
     ]
    },
    {
     "data": {
      "application/vnd.jupyter.widget-view+json": {
       "model_id": "18303f178bd54b8bba6e35e7714eea2f",
       "version_major": 2,
       "version_minor": 0
      },
      "text/plain": [
       "  0%|          | 0/7 [00:00<?, ?it/s]"
      ]
     },
     "metadata": {},
     "output_type": "display_data"
    },
    {
     "name": "stdout",
     "output_type": "stream",
     "text": [
      "['ge', 'pi', 0]\n",
      "['ef', 'pi', 0]\n",
      "['ge', 'pi', 0]\n",
      "['ef', 'pi', 0]\n",
      "['ge', 'pi', 0]\n",
      "['ef', 'pi', 0]\n",
      "['ge', 'pi', 0]\n",
      "['ef', 'pi', 0]\n",
      "['ge', 'pi', 0]\n",
      "['ef', 'pi', 0]\n",
      "['ge', 'pi', 0]\n",
      "['ef', 'pi', 0]\n",
      "['ge', 'pi', 0]\n",
      "['ef', 'pi', 0]\n",
      "Saving H:\\Shared drives\\SLab\\Multimode\\experiment\\250307_qsim\\data\\00665_storage_sweep.h5\n",
      "Loaded:  {'init_storage': 4, 'start': 0.007, 'step': 60, 'qubits': [0], 'expts': 100, 'reps': 100, 'rounds': 1, 'flux_drive': ['low', 874, 9000, 0.05], 'prepulse': True, 'postpulse': True, 'active_reset': False, 'man_reset': False, 'storage_reset': False, 'update_post_pulse_phase': [False, 1.07], 'floquet_cycles': 356}\n",
      "Config is:  {'init_storage': 4, 'start': 0.007, 'step': 60, 'qubits': [0], 'expts': 100, 'reps': 100, 'rounds': 1, 'flux_drive': ['low', 874, 9000, 0.05], 'prepulse': True, 'postpulse': True, 'active_reset': False, 'man_reset': False, 'storage_reset': False, 'update_post_pulse_phase': [False, 1.07], 'floquet_cycles': 356}\n"
     ]
    },
    {
     "data": {
      "application/vnd.jupyter.widget-view+json": {
       "model_id": "fbf3c9eb8c5a473abe6f8c0a9173e118",
       "version_major": 2,
       "version_minor": 0
      },
      "text/plain": [
       "  0%|          | 0/7 [00:00<?, ?it/s]"
      ]
     },
     "metadata": {},
     "output_type": "display_data"
    },
    {
     "name": "stdout",
     "output_type": "stream",
     "text": [
      "['ge', 'pi', 0]\n",
      "['ef', 'pi', 0]\n",
      "['ge', 'pi', 0]\n",
      "['ef', 'pi', 0]\n",
      "['ge', 'pi', 0]\n",
      "['ef', 'pi', 0]\n",
      "['ge', 'pi', 0]\n",
      "['ef', 'pi', 0]\n",
      "['ge', 'pi', 0]\n",
      "['ef', 'pi', 0]\n",
      "['ge', 'pi', 0]\n",
      "['ef', 'pi', 0]\n",
      "['ge', 'pi', 0]\n",
      "['ef', 'pi', 0]\n",
      "Saving H:\\Shared drives\\SLab\\Multimode\\experiment\\250307_qsim\\data\\00666_storage_sweep.h5\n",
      "Loaded:  {'init_storage': 4, 'start': 0.007, 'step': 60, 'qubits': [0], 'expts': 100, 'reps': 100, 'rounds': 1, 'flux_drive': ['low', 874, 9000, 0.05], 'prepulse': True, 'postpulse': True, 'active_reset': False, 'man_reset': False, 'storage_reset': False, 'update_post_pulse_phase': [False, 1.07], 'floquet_cycles': 361}\n",
      "Config is:  {'init_storage': 4, 'start': 0.007, 'step': 60, 'qubits': [0], 'expts': 100, 'reps': 100, 'rounds': 1, 'flux_drive': ['low', 874, 9000, 0.05], 'prepulse': True, 'postpulse': True, 'active_reset': False, 'man_reset': False, 'storage_reset': False, 'update_post_pulse_phase': [False, 1.07], 'floquet_cycles': 361}\n"
     ]
    },
    {
     "data": {
      "application/vnd.jupyter.widget-view+json": {
       "model_id": "b065e8685a544465b86117a8a217f43f",
       "version_major": 2,
       "version_minor": 0
      },
      "text/plain": [
       "  0%|          | 0/7 [00:00<?, ?it/s]"
      ]
     },
     "metadata": {},
     "output_type": "display_data"
    },
    {
     "name": "stdout",
     "output_type": "stream",
     "text": [
      "['ge', 'pi', 0]\n",
      "['ef', 'pi', 0]\n",
      "['ge', 'pi', 0]\n",
      "['ef', 'pi', 0]\n",
      "['ge', 'pi', 0]\n",
      "['ef', 'pi', 0]\n",
      "['ge', 'pi', 0]\n",
      "['ef', 'pi', 0]\n",
      "['ge', 'pi', 0]\n",
      "['ef', 'pi', 0]\n",
      "['ge', 'pi', 0]\n",
      "['ef', 'pi', 0]\n",
      "['ge', 'pi', 0]\n",
      "['ef', 'pi', 0]\n",
      "Saving H:\\Shared drives\\SLab\\Multimode\\experiment\\250307_qsim\\data\\00667_storage_sweep.h5\n",
      "Loaded:  {'init_storage': 4, 'start': 0.007, 'step': 60, 'qubits': [0], 'expts': 100, 'reps': 100, 'rounds': 1, 'flux_drive': ['low', 874, 9000, 0.05], 'prepulse': True, 'postpulse': True, 'active_reset': False, 'man_reset': False, 'storage_reset': False, 'update_post_pulse_phase': [False, 1.07], 'floquet_cycles': 366}\n",
      "Config is:  {'init_storage': 4, 'start': 0.007, 'step': 60, 'qubits': [0], 'expts': 100, 'reps': 100, 'rounds': 1, 'flux_drive': ['low', 874, 9000, 0.05], 'prepulse': True, 'postpulse': True, 'active_reset': False, 'man_reset': False, 'storage_reset': False, 'update_post_pulse_phase': [False, 1.07], 'floquet_cycles': 366}\n"
     ]
    },
    {
     "data": {
      "application/vnd.jupyter.widget-view+json": {
       "model_id": "c1b5d2650e6b4ab5b88a2373a32365f9",
       "version_major": 2,
       "version_minor": 0
      },
      "text/plain": [
       "  0%|          | 0/7 [00:00<?, ?it/s]"
      ]
     },
     "metadata": {},
     "output_type": "display_data"
    },
    {
     "name": "stdout",
     "output_type": "stream",
     "text": [
      "['ge', 'pi', 0]\n",
      "['ef', 'pi', 0]\n",
      "['ge', 'pi', 0]\n",
      "['ef', 'pi', 0]\n",
      "['ge', 'pi', 0]\n",
      "['ef', 'pi', 0]\n",
      "['ge', 'pi', 0]\n",
      "['ef', 'pi', 0]\n",
      "['ge', 'pi', 0]\n",
      "['ef', 'pi', 0]\n",
      "['ge', 'pi', 0]\n",
      "['ef', 'pi', 0]\n",
      "['ge', 'pi', 0]\n",
      "['ef', 'pi', 0]\n",
      "Saving H:\\Shared drives\\SLab\\Multimode\\experiment\\250307_qsim\\data\\00668_storage_sweep.h5\n",
      "Loaded:  {'init_storage': 4, 'start': 0.007, 'step': 60, 'qubits': [0], 'expts': 100, 'reps': 100, 'rounds': 1, 'flux_drive': ['low', 874, 9000, 0.05], 'prepulse': True, 'postpulse': True, 'active_reset': False, 'man_reset': False, 'storage_reset': False, 'update_post_pulse_phase': [False, 1.07], 'floquet_cycles': 371}\n",
      "Config is:  {'init_storage': 4, 'start': 0.007, 'step': 60, 'qubits': [0], 'expts': 100, 'reps': 100, 'rounds': 1, 'flux_drive': ['low', 874, 9000, 0.05], 'prepulse': True, 'postpulse': True, 'active_reset': False, 'man_reset': False, 'storage_reset': False, 'update_post_pulse_phase': [False, 1.07], 'floquet_cycles': 371}\n"
     ]
    },
    {
     "data": {
      "application/vnd.jupyter.widget-view+json": {
       "model_id": "918b9a98be904a1e8e3ca52777b7b759",
       "version_major": 2,
       "version_minor": 0
      },
      "text/plain": [
       "  0%|          | 0/7 [00:00<?, ?it/s]"
      ]
     },
     "metadata": {},
     "output_type": "display_data"
    },
    {
     "name": "stdout",
     "output_type": "stream",
     "text": [
      "['ge', 'pi', 0]\n",
      "['ef', 'pi', 0]\n",
      "['ge', 'pi', 0]\n",
      "['ef', 'pi', 0]\n",
      "['ge', 'pi', 0]\n",
      "['ef', 'pi', 0]\n",
      "['ge', 'pi', 0]\n",
      "['ef', 'pi', 0]\n",
      "['ge', 'pi', 0]\n",
      "['ef', 'pi', 0]\n",
      "['ge', 'pi', 0]\n",
      "['ef', 'pi', 0]\n",
      "['ge', 'pi', 0]\n",
      "['ef', 'pi', 0]\n",
      "Saving H:\\Shared drives\\SLab\\Multimode\\experiment\\250307_qsim\\data\\00669_storage_sweep.h5\n",
      "Loaded:  {'init_storage': 4, 'start': 0.007, 'step': 60, 'qubits': [0], 'expts': 100, 'reps': 100, 'rounds': 1, 'flux_drive': ['low', 874, 9000, 0.05], 'prepulse': True, 'postpulse': True, 'active_reset': False, 'man_reset': False, 'storage_reset': False, 'update_post_pulse_phase': [False, 1.07], 'floquet_cycles': 376}\n",
      "Config is:  {'init_storage': 4, 'start': 0.007, 'step': 60, 'qubits': [0], 'expts': 100, 'reps': 100, 'rounds': 1, 'flux_drive': ['low', 874, 9000, 0.05], 'prepulse': True, 'postpulse': True, 'active_reset': False, 'man_reset': False, 'storage_reset': False, 'update_post_pulse_phase': [False, 1.07], 'floquet_cycles': 376}\n"
     ]
    },
    {
     "data": {
      "application/vnd.jupyter.widget-view+json": {
       "model_id": "13a84ee9488c4b4b96900d6baf5fd1b9",
       "version_major": 2,
       "version_minor": 0
      },
      "text/plain": [
       "  0%|          | 0/7 [00:00<?, ?it/s]"
      ]
     },
     "metadata": {},
     "output_type": "display_data"
    },
    {
     "name": "stdout",
     "output_type": "stream",
     "text": [
      "['ge', 'pi', 0]\n",
      "['ef', 'pi', 0]\n",
      "['ge', 'pi', 0]\n",
      "['ef', 'pi', 0]\n",
      "['ge', 'pi', 0]\n",
      "['ef', 'pi', 0]\n",
      "['ge', 'pi', 0]\n",
      "['ef', 'pi', 0]\n",
      "['ge', 'pi', 0]\n",
      "['ef', 'pi', 0]\n",
      "['ge', 'pi', 0]\n",
      "['ef', 'pi', 0]\n",
      "['ge', 'pi', 0]\n",
      "['ef', 'pi', 0]\n",
      "Saving H:\\Shared drives\\SLab\\Multimode\\experiment\\250307_qsim\\data\\00670_storage_sweep.h5\n",
      "Loaded:  {'init_storage': 4, 'start': 0.007, 'step': 60, 'qubits': [0], 'expts': 100, 'reps': 100, 'rounds': 1, 'flux_drive': ['low', 874, 9000, 0.05], 'prepulse': True, 'postpulse': True, 'active_reset': False, 'man_reset': False, 'storage_reset': False, 'update_post_pulse_phase': [False, 1.07], 'floquet_cycles': 381}\n",
      "Config is:  {'init_storage': 4, 'start': 0.007, 'step': 60, 'qubits': [0], 'expts': 100, 'reps': 100, 'rounds': 1, 'flux_drive': ['low', 874, 9000, 0.05], 'prepulse': True, 'postpulse': True, 'active_reset': False, 'man_reset': False, 'storage_reset': False, 'update_post_pulse_phase': [False, 1.07], 'floquet_cycles': 381}\n"
     ]
    },
    {
     "data": {
      "application/vnd.jupyter.widget-view+json": {
       "model_id": "653259475d534978992fb83b2b00be28",
       "version_major": 2,
       "version_minor": 0
      },
      "text/plain": [
       "  0%|          | 0/7 [00:00<?, ?it/s]"
      ]
     },
     "metadata": {},
     "output_type": "display_data"
    },
    {
     "name": "stdout",
     "output_type": "stream",
     "text": [
      "['ge', 'pi', 0]\n",
      "['ef', 'pi', 0]\n",
      "['ge', 'pi', 0]\n",
      "['ef', 'pi', 0]\n",
      "['ge', 'pi', 0]\n",
      "['ef', 'pi', 0]\n",
      "['ge', 'pi', 0]\n",
      "['ef', 'pi', 0]\n",
      "['ge', 'pi', 0]\n",
      "['ef', 'pi', 0]\n",
      "['ge', 'pi', 0]\n",
      "['ef', 'pi', 0]\n",
      "['ge', 'pi', 0]\n",
      "['ef', 'pi', 0]\n",
      "Saving H:\\Shared drives\\SLab\\Multimode\\experiment\\250307_qsim\\data\\00671_storage_sweep.h5\n",
      "Loaded:  {'init_storage': 4, 'start': 0.007, 'step': 60, 'qubits': [0], 'expts': 100, 'reps': 100, 'rounds': 1, 'flux_drive': ['low', 874, 9000, 0.05], 'prepulse': True, 'postpulse': True, 'active_reset': False, 'man_reset': False, 'storage_reset': False, 'update_post_pulse_phase': [False, 1.07], 'floquet_cycles': 386}\n",
      "Config is:  {'init_storage': 4, 'start': 0.007, 'step': 60, 'qubits': [0], 'expts': 100, 'reps': 100, 'rounds': 1, 'flux_drive': ['low', 874, 9000, 0.05], 'prepulse': True, 'postpulse': True, 'active_reset': False, 'man_reset': False, 'storage_reset': False, 'update_post_pulse_phase': [False, 1.07], 'floquet_cycles': 386}\n"
     ]
    },
    {
     "data": {
      "application/vnd.jupyter.widget-view+json": {
       "model_id": "b3192202c7fa44a4988ceb1969f82be6",
       "version_major": 2,
       "version_minor": 0
      },
      "text/plain": [
       "  0%|          | 0/7 [00:00<?, ?it/s]"
      ]
     },
     "metadata": {},
     "output_type": "display_data"
    },
    {
     "name": "stdout",
     "output_type": "stream",
     "text": [
      "['ge', 'pi', 0]\n",
      "['ef', 'pi', 0]\n",
      "['ge', 'pi', 0]\n",
      "['ef', 'pi', 0]\n",
      "['ge', 'pi', 0]\n",
      "['ef', 'pi', 0]\n",
      "['ge', 'pi', 0]\n",
      "['ef', 'pi', 0]\n",
      "['ge', 'pi', 0]\n",
      "['ef', 'pi', 0]\n",
      "['ge', 'pi', 0]\n",
      "['ef', 'pi', 0]\n",
      "['ge', 'pi', 0]\n",
      "['ef', 'pi', 0]\n",
      "Saving H:\\Shared drives\\SLab\\Multimode\\experiment\\250307_qsim\\data\\00672_storage_sweep.h5\n",
      "Loaded:  {'init_storage': 4, 'start': 0.007, 'step': 60, 'qubits': [0], 'expts': 100, 'reps': 100, 'rounds': 1, 'flux_drive': ['low', 874, 9000, 0.05], 'prepulse': True, 'postpulse': True, 'active_reset': False, 'man_reset': False, 'storage_reset': False, 'update_post_pulse_phase': [False, 1.07], 'floquet_cycles': 391}\n",
      "Config is:  {'init_storage': 4, 'start': 0.007, 'step': 60, 'qubits': [0], 'expts': 100, 'reps': 100, 'rounds': 1, 'flux_drive': ['low', 874, 9000, 0.05], 'prepulse': True, 'postpulse': True, 'active_reset': False, 'man_reset': False, 'storage_reset': False, 'update_post_pulse_phase': [False, 1.07], 'floquet_cycles': 391}\n"
     ]
    },
    {
     "data": {
      "application/vnd.jupyter.widget-view+json": {
       "model_id": "3c8e8307d9cb46869997797f1ba49ebb",
       "version_major": 2,
       "version_minor": 0
      },
      "text/plain": [
       "  0%|          | 0/7 [00:00<?, ?it/s]"
      ]
     },
     "metadata": {},
     "output_type": "display_data"
    },
    {
     "name": "stdout",
     "output_type": "stream",
     "text": [
      "['ge', 'pi', 0]\n",
      "['ef', 'pi', 0]\n"
     ]
    },
    {
     "ename": "ValueError",
     "evalue": "could not broadcast input array from shape (65902,) into shape (65536,)",
     "output_type": "error",
     "traceback": [
      "\u001b[1;31m---------------------------------------------------------------------------\u001b[0m",
      "\u001b[1;31mValueError\u001b[0m                                Traceback (most recent call last)",
      "Cell \u001b[1;32mIn[20], line 8\u001b[0m\n\u001b[0;32m      4\u001b[0m experiment_class, experiment_name \u001b[38;5;241m=\u001b[39m \u001b[38;5;124m'\u001b[39m\u001b[38;5;124mfloquet_swap_class\u001b[39m\u001b[38;5;124m'\u001b[39m, \u001b[38;5;124m'\u001b[39m\u001b[38;5;124mstorage_sweep\u001b[39m\u001b[38;5;124m'\u001b[39m\n\u001b[0;32m      7\u001b[0m class_for_exp \u001b[38;5;241m=\u001b[39m \u001b[38;5;28meval\u001b[39m(\u001b[38;5;124m'\u001b[39m\u001b[38;5;124mqsim_exp.\u001b[39m\u001b[38;5;124m'\u001b[39m \u001b[38;5;241m+\u001b[39m experiment_class)(soccfg\u001b[38;5;241m=\u001b[39msoc, path\u001b[38;5;241m=\u001b[39mexpt_path, prefix\u001b[38;5;241m=\u001b[39mexperiment_name, config_file\u001b[38;5;241m=\u001b[39mconfig_path, exp_param_file\u001b[38;5;241m=\u001b[39mos\u001b[38;5;241m.\u001b[39mpath\u001b[38;5;241m.\u001b[39mjoin(curr_path, \u001b[38;5;124m'\u001b[39m\u001b[38;5;124mqsim_exp_cfg.yml\u001b[39m\u001b[38;5;124m'\u001b[39m))\n\u001b[1;32m----> 8\u001b[0m \u001b[38;5;28;43meval\u001b[39;49m\u001b[43m(\u001b[49m\u001b[38;5;124;43m'\u001b[39;49m\u001b[38;5;124;43mclass_for_exp.run_sweep\u001b[39;49m\u001b[38;5;124;43m'\u001b[39;49m\u001b[43m)\u001b[49m\u001b[43m(\u001b[49m\u001b[43m \u001b[49m\u001b[43msweep_experiment_name\u001b[49m\u001b[43m \u001b[49m\u001b[38;5;241;43m=\u001b[39;49m\u001b[43m \u001b[49m\u001b[43mexperiment_name\u001b[49m\u001b[43m)\u001b[49m\n",
      "File \u001b[1;32mC:\\_Lib\\python\\multimode_expts\\qsim_experiments.py:93\u001b[0m, in \u001b[0;36mfloquet_swap_class.run_sweep\u001b[1;34m(self, sweep_experiment_name)\u001b[0m\n\u001b[0;32m     89\u001b[0m \u001b[38;5;66;03m# self.sweep_experiment_name = sweep_experiment_name\u001b[39;00m\n\u001b[0;32m     90\u001b[0m \u001b[38;5;66;03m# self.map_sequential_cfg_to_experiment()\u001b[39;00m\n\u001b[0;32m     92\u001b[0m \u001b[38;5;28;01mif\u001b[39;00m sweep_experiment_name \u001b[38;5;241m==\u001b[39m \u001b[38;5;124m'\u001b[39m\u001b[38;5;124mstorage_sweep\u001b[39m\u001b[38;5;124m'\u001b[39m:\n\u001b[1;32m---> 93\u001b[0m     \u001b[38;5;28;43mself\u001b[39;49m\u001b[38;5;241;43m.\u001b[39;49m\u001b[43mstorage_sweep\u001b[49m\u001b[43m(\u001b[49m\u001b[43m)\u001b[49m\n",
      "File \u001b[1;32mC:\\_Lib\\python\\multimode_expts\\qsim_experiments.py:84\u001b[0m, in \u001b[0;36mfloquet_swap_class.storage_sweep\u001b[1;34m(self)\u001b[0m\n\u001b[0;32m     82\u001b[0m run_exp\u001b[38;5;241m.\u001b[39mcfg\u001b[38;5;241m.\u001b[39mdevice\u001b[38;5;241m.\u001b[39mreadout\u001b[38;5;241m.\u001b[39mrelax_delay \u001b[38;5;241m=\u001b[39m \u001b[38;5;241m5000\u001b[39m \u001b[38;5;66;03m# Wait time between experiments [us]\u001b[39;00m\n\u001b[0;32m     83\u001b[0m \u001b[38;5;28mprint\u001b[39m(\u001b[38;5;124m'\u001b[39m\u001b[38;5;124mConfig is: \u001b[39m\u001b[38;5;124m'\u001b[39m, run_exp\u001b[38;5;241m.\u001b[39mcfg\u001b[38;5;241m.\u001b[39mexpt)\n\u001b[1;32m---> 84\u001b[0m \u001b[43mrun_exp\u001b[49m\u001b[38;5;241;43m.\u001b[39;49m\u001b[43mgo\u001b[49m\u001b[43m(\u001b[49m\u001b[43manalyze\u001b[49m\u001b[38;5;241;43m=\u001b[39;49m\u001b[38;5;28;43;01mFalse\u001b[39;49;00m\u001b[43m,\u001b[49m\u001b[43m \u001b[49m\u001b[43mdisplay\u001b[49m\u001b[38;5;241;43m=\u001b[39;49m\u001b[38;5;28;43;01mFalse\u001b[39;49;00m\u001b[43m,\u001b[49m\u001b[43m \u001b[49m\u001b[43mprogress\u001b[49m\u001b[38;5;241;43m=\u001b[39;49m\u001b[38;5;28;43;01mTrue\u001b[39;49;00m\u001b[43m,\u001b[49m\u001b[43m \u001b[49m\u001b[43msave\u001b[49m\u001b[38;5;241;43m=\u001b[39;49m\u001b[38;5;28;43;01mTrue\u001b[39;49;00m\u001b[43m)\u001b[49m\n",
      "File \u001b[1;32mC:\\_Lib\\python\\slab\\experiment.py:111\u001b[0m, in \u001b[0;36mExperiment.go\u001b[1;34m(self, save, analyze, display, progress)\u001b[0m\n\u001b[0;32m    108\u001b[0m \u001b[38;5;28;01mdef\u001b[39;00m \u001b[38;5;21mgo\u001b[39m(\u001b[38;5;28mself\u001b[39m, save\u001b[38;5;241m=\u001b[39m\u001b[38;5;28;01mFalse\u001b[39;00m, analyze\u001b[38;5;241m=\u001b[39m\u001b[38;5;28;01mFalse\u001b[39;00m, display\u001b[38;5;241m=\u001b[39m\u001b[38;5;28;01mFalse\u001b[39;00m, progress\u001b[38;5;241m=\u001b[39m\u001b[38;5;28;01mFalse\u001b[39;00m):\n\u001b[0;32m    109\u001b[0m     \u001b[38;5;66;03m# get data\u001b[39;00m\n\u001b[1;32m--> 111\u001b[0m     data\u001b[38;5;241m=\u001b[39m\u001b[38;5;28;43mself\u001b[39;49m\u001b[38;5;241;43m.\u001b[39;49m\u001b[43macquire\u001b[49m\u001b[43m(\u001b[49m\u001b[43mprogress\u001b[49m\u001b[43m)\u001b[49m\n\u001b[0;32m    112\u001b[0m     \u001b[38;5;28;01mif\u001b[39;00m analyze:\n\u001b[0;32m    113\u001b[0m         data\u001b[38;5;241m=\u001b[39m\u001b[38;5;28mself\u001b[39m\u001b[38;5;241m.\u001b[39manalyze(data)\n",
      "File \u001b[1;32mC:\\_Lib\\python\\multimode_expts\\experiments\\qsim\\floquet_general.py:298\u001b[0m, in \u001b[0;36mFloquetGeneralExperiment.acquire\u001b[1;34m(self, progress, debug)\u001b[0m\n\u001b[0;32m    295\u001b[0m qprog \u001b[38;5;241m=\u001b[39m FloquetGeneralProgram(\n\u001b[0;32m    296\u001b[0m     soccfg\u001b[38;5;241m=\u001b[39m\u001b[38;5;28mself\u001b[39m\u001b[38;5;241m.\u001b[39msoccfg, cfg\u001b[38;5;241m=\u001b[39m\u001b[38;5;28mself\u001b[39m\u001b[38;5;241m.\u001b[39mcfg)\n\u001b[0;32m    297\u001b[0m \u001b[38;5;28mself\u001b[39m\u001b[38;5;241m.\u001b[39mprog \u001b[38;5;241m=\u001b[39m qprog\n\u001b[1;32m--> 298\u001b[0m avgi, avgq \u001b[38;5;241m=\u001b[39m \u001b[43mqprog\u001b[49m\u001b[38;5;241;43m.\u001b[39;49m\u001b[43macquire\u001b[49m\u001b[43m(\u001b[49m\n\u001b[0;32m    299\u001b[0m \u001b[43m    \u001b[49m\u001b[38;5;28;43mself\u001b[39;49m\u001b[38;5;241;43m.\u001b[39;49m\u001b[43mim\u001b[49m\u001b[43m[\u001b[49m\u001b[38;5;28;43mself\u001b[39;49m\u001b[38;5;241;43m.\u001b[39;49m\u001b[43mcfg\u001b[49m\u001b[38;5;241;43m.\u001b[39;49m\u001b[43maliases\u001b[49m\u001b[38;5;241;43m.\u001b[39;49m\u001b[43msoc\u001b[49m\u001b[43m]\u001b[49m\u001b[43m,\u001b[49m\u001b[43m \u001b[49m\u001b[43mthreshold\u001b[49m\u001b[38;5;241;43m=\u001b[39;49m\u001b[38;5;28;43;01mNone\u001b[39;49;00m\u001b[43m,\u001b[49m\u001b[43m \u001b[49m\u001b[43mload_pulses\u001b[49m\u001b[38;5;241;43m=\u001b[39;49m\u001b[38;5;28;43;01mTrue\u001b[39;49;00m\u001b[43m,\u001b[49m\u001b[43m \u001b[49m\u001b[43mprogress\u001b[49m\u001b[38;5;241;43m=\u001b[39;49m\u001b[38;5;28;43;01mFalse\u001b[39;49;00m\u001b[43m,\u001b[49m\u001b[43m \u001b[49m\u001b[43mdebug\u001b[49m\u001b[38;5;241;43m=\u001b[39;49m\u001b[43mdebug\u001b[49m\u001b[43m,\u001b[49m\n\u001b[0;32m    300\u001b[0m \u001b[43m    \u001b[49m\u001b[43mreadouts_per_experiment\u001b[49m\u001b[38;5;241;43m=\u001b[39;49m\u001b[43mread_num\u001b[49m\u001b[43m)\u001b[49m\n\u001b[0;32m    301\u001b[0m avgi \u001b[38;5;241m=\u001b[39m avgi[\u001b[38;5;241m0\u001b[39m][\u001b[38;5;241m0\u001b[39m]\n\u001b[0;32m    302\u001b[0m avgq \u001b[38;5;241m=\u001b[39m avgq[\u001b[38;5;241m0\u001b[39m][\u001b[38;5;241m0\u001b[39m]\n",
      "File \u001b[1;32mC:\\_Lib\\python\\qick\\qick_lib\\qick\\averager_program.py:107\u001b[0m, in \u001b[0;36mAveragerProgram.acquire\u001b[1;34m(self, soc, threshold, angle, readouts_per_experiment, save_experiments, load_pulses, start_src, progress, debug)\u001b[0m\n\u001b[0;32m    104\u001b[0m \u001b[38;5;28;01mif\u001b[39;00m save_experiments \u001b[38;5;129;01mis\u001b[39;00m \u001b[38;5;28;01mNone\u001b[39;00m:\n\u001b[0;32m    105\u001b[0m     save_experiments \u001b[38;5;241m=\u001b[39m \u001b[38;5;28mrange\u001b[39m(readouts_per_experiment)\n\u001b[1;32m--> 107\u001b[0m d_buf, avg_d, shots \u001b[38;5;241m=\u001b[39m \u001b[38;5;28;43msuper\u001b[39;49m\u001b[43m(\u001b[49m\u001b[43m)\u001b[49m\u001b[38;5;241;43m.\u001b[39;49m\u001b[43macquire\u001b[49m\u001b[43m(\u001b[49m\u001b[43msoc\u001b[49m\u001b[43m,\u001b[49m\u001b[43m \u001b[49m\u001b[43mreads_per_rep\u001b[49m\u001b[38;5;241;43m=\u001b[39;49m\u001b[43mreadouts_per_experiment\u001b[49m\u001b[43m,\u001b[49m\u001b[43m \u001b[49m\u001b[43mload_pulses\u001b[49m\u001b[38;5;241;43m=\u001b[39;49m\u001b[43mload_pulses\u001b[49m\u001b[43m,\u001b[49m\u001b[43m \u001b[49m\u001b[43mstart_src\u001b[49m\u001b[38;5;241;43m=\u001b[39;49m\u001b[43mstart_src\u001b[49m\u001b[43m,\u001b[49m\u001b[43m \u001b[49m\u001b[43mprogress\u001b[49m\u001b[38;5;241;43m=\u001b[39;49m\u001b[43mprogress\u001b[49m\u001b[43m,\u001b[49m\u001b[43m \u001b[49m\u001b[43mdebug\u001b[49m\u001b[38;5;241;43m=\u001b[39;49m\u001b[43mdebug\u001b[49m\u001b[43m)\u001b[49m\n\u001b[0;32m    109\u001b[0m \u001b[38;5;66;03m# reformat the data into separate I and Q arrays\u001b[39;00m\n\u001b[0;32m    110\u001b[0m \u001b[38;5;66;03m# save results to class in case you want to look at it later or for analysis\u001b[39;00m\n\u001b[0;32m    111\u001b[0m \u001b[38;5;28mself\u001b[39m\u001b[38;5;241m.\u001b[39mdi_buf \u001b[38;5;241m=\u001b[39m d_buf[:,:,\u001b[38;5;241m0\u001b[39m]\n",
      "File \u001b[1;32mC:\\_Lib\\python\\qick\\qick_lib\\qick\\qick_asm.py:1722\u001b[0m, in \u001b[0;36mQickProgram.acquire\u001b[1;34m(self, soc, reads_per_rep, load_pulses, start_src, progress, debug)\u001b[0m\n\u001b[0;32m   1690\u001b[0m \u001b[38;5;28;01mdef\u001b[39;00m \u001b[38;5;21macquire\u001b[39m(\u001b[38;5;28mself\u001b[39m, soc, reads_per_rep\u001b[38;5;241m=\u001b[39m\u001b[38;5;241m1\u001b[39m, load_pulses\u001b[38;5;241m=\u001b[39m\u001b[38;5;28;01mTrue\u001b[39;00m, start_src\u001b[38;5;241m=\u001b[39m\u001b[38;5;124m\"\u001b[39m\u001b[38;5;124minternal\u001b[39m\u001b[38;5;124m\"\u001b[39m, progress\u001b[38;5;241m=\u001b[39m\u001b[38;5;28;01mFalse\u001b[39;00m, debug\u001b[38;5;241m=\u001b[39m\u001b[38;5;28;01mFalse\u001b[39;00m):\n\u001b[0;32m   1691\u001b[0m \u001b[38;5;250m    \u001b[39m\u001b[38;5;124;03m\"\"\"Acquire data using the accumulated readout.\u001b[39;00m\n\u001b[0;32m   1692\u001b[0m \n\u001b[0;32m   1693\u001b[0m \u001b[38;5;124;03m    Parameters\u001b[39;00m\n\u001b[1;32m   (...)\u001b[0m\n\u001b[0;32m   1720\u001b[0m \u001b[38;5;124;03m        dimensions for a program with multiple expts/steps: (n_ch, n_reads, n_expts, 2)\u001b[39;00m\n\u001b[0;32m   1721\u001b[0m \u001b[38;5;124;03m    \"\"\"\u001b[39;00m\n\u001b[1;32m-> 1722\u001b[0m     \u001b[38;5;28;43mself\u001b[39;49m\u001b[38;5;241;43m.\u001b[39;49m\u001b[43mconfig_all\u001b[49m\u001b[43m(\u001b[49m\u001b[43msoc\u001b[49m\u001b[43m,\u001b[49m\u001b[43m \u001b[49m\u001b[43mload_pulses\u001b[49m\u001b[38;5;241;43m=\u001b[39;49m\u001b[43mload_pulses\u001b[49m\u001b[43m,\u001b[49m\u001b[43m \u001b[49m\u001b[43mstart_src\u001b[49m\u001b[38;5;241;43m=\u001b[39;49m\u001b[43mstart_src\u001b[49m\u001b[43m,\u001b[49m\u001b[43m \u001b[49m\u001b[43mdebug\u001b[49m\u001b[38;5;241;43m=\u001b[39;49m\u001b[43mdebug\u001b[49m\u001b[43m)\u001b[49m\n\u001b[0;32m   1724\u001b[0m     n_ro \u001b[38;5;241m=\u001b[39m \u001b[38;5;28mlen\u001b[39m(\u001b[38;5;28mself\u001b[39m\u001b[38;5;241m.\u001b[39mro_chs)\n\u001b[0;32m   1726\u001b[0m     expts \u001b[38;5;241m=\u001b[39m \u001b[38;5;28mself\u001b[39m\u001b[38;5;241m.\u001b[39mexpts\n",
      "File \u001b[1;32mC:\\_Lib\\python\\qick\\qick_lib\\qick\\qick_asm.py:1912\u001b[0m, in \u001b[0;36mQickProgram.config_all\u001b[1;34m(self, soc, load_pulses, start_src, debug)\u001b[0m\n\u001b[0;32m   1909\u001b[0m \u001b[38;5;28msuper\u001b[39m()\u001b[38;5;241m.\u001b[39mconfig_all(soc, load_pulses)\n\u001b[0;32m   1911\u001b[0m \u001b[38;5;66;03m# load this program into the soc's tproc\u001b[39;00m\n\u001b[1;32m-> 1912\u001b[0m \u001b[38;5;28;43mself\u001b[39;49m\u001b[38;5;241;43m.\u001b[39;49m\u001b[43mload_program\u001b[49m\u001b[43m(\u001b[49m\u001b[43msoc\u001b[49m\u001b[43m,\u001b[49m\u001b[43m \u001b[49m\u001b[43mdebug\u001b[49m\u001b[38;5;241;43m=\u001b[39;49m\u001b[43mdebug\u001b[49m\u001b[43m)\u001b[49m\n\u001b[0;32m   1914\u001b[0m \u001b[38;5;66;03m# configure tproc for internal/external start\u001b[39;00m\n\u001b[0;32m   1915\u001b[0m soc\u001b[38;5;241m.\u001b[39mstart_src(start_src)\n",
      "File \u001b[1;32mC:\\_Lib\\python\\qick\\qick_lib\\qick\\qick_asm.py:2579\u001b[0m, in \u001b[0;36mQickProgram.load_program\u001b[1;34m(self, soc, debug, reset)\u001b[0m\n\u001b[0;32m   2567\u001b[0m \u001b[38;5;28;01mdef\u001b[39;00m \u001b[38;5;21mload_program\u001b[39m(\u001b[38;5;28mself\u001b[39m, soc, debug\u001b[38;5;241m=\u001b[39m\u001b[38;5;28;01mFalse\u001b[39;00m, reset\u001b[38;5;241m=\u001b[39m\u001b[38;5;28;01mFalse\u001b[39;00m):\n\u001b[0;32m   2568\u001b[0m \u001b[38;5;250m    \u001b[39m\u001b[38;5;124;03m\"\"\"Load the compiled program into the tProcessor.\u001b[39;00m\n\u001b[0;32m   2569\u001b[0m \n\u001b[0;32m   2570\u001b[0m \u001b[38;5;124;03m    Parameters\u001b[39;00m\n\u001b[1;32m   (...)\u001b[0m\n\u001b[0;32m   2577\u001b[0m \u001b[38;5;124;03m        Reset the tProc before loading\u001b[39;00m\n\u001b[0;32m   2578\u001b[0m \u001b[38;5;124;03m    \"\"\"\u001b[39;00m\n\u001b[1;32m-> 2579\u001b[0m     \u001b[43msoc\u001b[49m\u001b[38;5;241;43m.\u001b[39;49m\u001b[43mload_bin_program\u001b[49m\u001b[43m(\u001b[49m\u001b[38;5;28;43mself\u001b[39;49m\u001b[38;5;241;43m.\u001b[39;49m\u001b[43mcompile\u001b[49m\u001b[43m(\u001b[49m\u001b[43mdebug\u001b[49m\u001b[38;5;241;43m=\u001b[39;49m\u001b[43mdebug\u001b[49m\u001b[43m)\u001b[49m\u001b[43m,\u001b[49m\u001b[43m \u001b[49m\u001b[43mreset\u001b[49m\u001b[38;5;241;43m=\u001b[39;49m\u001b[43mreset\u001b[49m\u001b[43m)\u001b[49m\n",
      "File \u001b[1;32mc:\\Users\\26049\\.conda\\envs\\slab\\lib\\site-packages\\Pyro4\\core.py:185\u001b[0m, in \u001b[0;36m_RemoteMethod.__call__\u001b[1;34m(self, *args, **kwargs)\u001b[0m\n\u001b[0;32m    183\u001b[0m \u001b[38;5;28;01mfor\u001b[39;00m attempt \u001b[38;5;129;01min\u001b[39;00m \u001b[38;5;28mrange\u001b[39m(\u001b[38;5;28mself\u001b[39m\u001b[38;5;241m.\u001b[39m__max_retries \u001b[38;5;241m+\u001b[39m \u001b[38;5;241m1\u001b[39m):\n\u001b[0;32m    184\u001b[0m     \u001b[38;5;28;01mtry\u001b[39;00m:\n\u001b[1;32m--> 185\u001b[0m         \u001b[38;5;28;01mreturn\u001b[39;00m \u001b[38;5;28;43mself\u001b[39;49m\u001b[38;5;241;43m.\u001b[39;49m\u001b[43m__send\u001b[49m\u001b[43m(\u001b[49m\u001b[38;5;28;43mself\u001b[39;49m\u001b[38;5;241;43m.\u001b[39;49m\u001b[43m__name\u001b[49m\u001b[43m,\u001b[49m\u001b[43m \u001b[49m\u001b[43margs\u001b[49m\u001b[43m,\u001b[49m\u001b[43m \u001b[49m\u001b[43mkwargs\u001b[49m\u001b[43m)\u001b[49m\n\u001b[0;32m    186\u001b[0m     \u001b[38;5;28;01mexcept\u001b[39;00m (errors\u001b[38;5;241m.\u001b[39mConnectionClosedError, errors\u001b[38;5;241m.\u001b[39mTimeoutError):\n\u001b[0;32m    187\u001b[0m         \u001b[38;5;66;03m# only retry for recoverable network errors\u001b[39;00m\n\u001b[0;32m    188\u001b[0m         \u001b[38;5;28;01mif\u001b[39;00m attempt \u001b[38;5;241m>\u001b[39m\u001b[38;5;241m=\u001b[39m \u001b[38;5;28mself\u001b[39m\u001b[38;5;241m.\u001b[39m__max_retries:\n\u001b[0;32m    189\u001b[0m             \u001b[38;5;66;03m# last attempt, raise the exception\u001b[39;00m\n",
      "File \u001b[1;32mc:\\Users\\26049\\.conda\\envs\\slab\\lib\\site-packages\\Pyro4\\core.py:476\u001b[0m, in \u001b[0;36mProxy._pyroInvoke\u001b[1;34m(self, methodname, vargs, kwargs, flags, objectId)\u001b[0m\n\u001b[0;32m    474\u001b[0m     \u001b[38;5;28;01mif\u001b[39;00m sys\u001b[38;5;241m.\u001b[39mplatform \u001b[38;5;241m==\u001b[39m \u001b[38;5;124m\"\u001b[39m\u001b[38;5;124mcli\u001b[39m\u001b[38;5;124m\"\u001b[39m:\n\u001b[0;32m    475\u001b[0m         util\u001b[38;5;241m.\u001b[39mfixIronPythonExceptionForPickle(data, \u001b[38;5;28;01mFalse\u001b[39;00m)\n\u001b[1;32m--> 476\u001b[0m     \u001b[38;5;28;01mraise\u001b[39;00m data  \u001b[38;5;66;03m# if you see this in your traceback, you should probably inspect the remote traceback as well\u001b[39;00m\n\u001b[0;32m    477\u001b[0m \u001b[38;5;28;01melse\u001b[39;00m:\n\u001b[0;32m    478\u001b[0m     \u001b[38;5;28;01mreturn\u001b[39;00m data\n",
      "\u001b[1;31mValueError\u001b[0m: could not broadcast input array from shape (65902,) into shape (65536,)"
     ]
    }
   ],
   "source": [
    "import multimode_expts.qsim_experiments as qsim_exp\n",
    "\n",
    "# ---------------------- qsim sweep-----------\n",
    "experiment_class, experiment_name = 'floquet_swap_class', 'storage_sweep'\n",
    "\n",
    "\n",
    "class_for_exp = eval('qsim_exp.' + experiment_class)(soccfg=soc, path=expt_path, prefix=experiment_name, config_file=config_path, exp_param_file=os.path.join(curr_path, 'qsim_exp_cfg.yml'))\n",
    "eval('class_for_exp.run_sweep')( sweep_experiment_name = experiment_name)\n"
   ]
  },
  {
   "cell_type": "code",
   "execution_count": null,
   "metadata": {},
   "outputs": [],
   "source": []
  },
  {
   "cell_type": "code",
   "execution_count": 123,
   "metadata": {},
   "outputs": [
    {
     "data": {
      "text/plain": [
       "{'start': 0.007,\n",
       " 'step': 20,\n",
       " 'qubits': [0],\n",
       " 'expts': 250,\n",
       " 'reps': 400,\n",
       " 'rounds': 1,\n",
       " 'prepulse': True,\n",
       " 'postpulse': True,\n",
       " 'active_reset': False,\n",
       " 'man_reset': False,\n",
       " 'storage_reset': False,\n",
       " 'pre_sweep_pulse': [[3568.655054337803, 3425.3983357264633, 2006.8, 520.32],\n",
       "  [11105, 9530, 15000, 5000],\n",
       "  [0, 0, 0.6077792185114786, 0.9408112344723606],\n",
       "  [0, 0, 0, 0],\n",
       "  [2, 2, 0, 1],\n",
       "  ['g', 'g', 'flat_top', 'flat_top'],\n",
       "  [0.035, 0.035, 0.005, 0.005]],\n",
       " 'post_sweep_pulse': [[520.32, 2006.8],\n",
       "  [5000, 15000],\n",
       "  [0.9408112344723606, 0.6077792185114786],\n",
       "  [0, 0],\n",
       "  [1, 0],\n",
       "  ['flat_top', 'flat_top'],\n",
       "  [0.005, 0.005]]}"
      ]
     },
     "execution_count": 123,
     "metadata": {},
     "output_type": "execute_result"
    }
   ],
   "source": [
    "class_for_exp.loaded['SidebandT1GeneralExperiment']"
   ]
  },
  {
   "cell_type": "code",
   "execution_count": 201,
   "metadata": {},
   "outputs": [],
   "source": [
    "experiment_class = 'sidebands_class'\n",
    "class_for_exp = eval('seq_exp.' + experiment_class)(soccfg=soc, path=expt_path, prefix=experiment_name, config_file=config_path, exp_param_file=exp_param_file)"
   ]
  },
  {
   "cell_type": "code",
   "execution_count": 44,
   "metadata": {},
   "outputs": [
    {
     "data": {
      "text/plain": [
       "<bound method sidebands_class.run_sweep of <multimode_expts.sequential_experiment.sidebands_class object at 0x0000028220427700>>"
      ]
     },
     "execution_count": 44,
     "metadata": {},
     "output_type": "execute_result"
    }
   ],
   "source": [
    "class_for_exp.run_sweep"
   ]
  },
  {
   "cell_type": "code",
   "execution_count": 15,
   "metadata": {},
   "outputs": [
    {
     "data": {
      "text/plain": [
       "array([ 350.66,  522.23,  697.98,  877.38, 1054.95, 1246.52, 1424.27])"
      ]
     },
     "execution_count": 15,
     "metadata": {},
     "output_type": "execute_result"
    }
   ],
   "source": [
    "np.array([\n",
    "                    349.66, # 349.415, \n",
    "                    521.23, #520.925,\n",
    "                    696.98, #696.665,\n",
    "                    876.38, #875.845,\n",
    "                    1053.95, #1053.395,\n",
    "                    1245.52, # 1245.5, #1245.16,\n",
    "                    1423.27 #1423.04\n",
    "                    ]) + 1"
   ]
  },
  {
   "cell_type": "code",
   "execution_count": 14,
   "metadata": {},
   "outputs": [
    {
     "ename": "TypeError",
     "evalue": "cavity_ramsey_with_spectators() got multiple values for argument 'soccfg'",
     "output_type": "error",
     "traceback": [
      "\u001b[1;31m---------------------------------------------------------------------------\u001b[0m",
      "\u001b[1;31mTypeError\u001b[0m                                 Traceback (most recent call last)",
      "Cell \u001b[1;32mIn[14], line 1\u001b[0m\n\u001b[1;32m----> 1\u001b[0m \u001b[43mclass_for_exp\u001b[49m\u001b[38;5;241;43m.\u001b[39;49m\u001b[43mcavity_ramsey_with_spectators\u001b[49m\u001b[43m(\u001b[49m\u001b[43msoccfg\u001b[49m\u001b[38;5;241;43m=\u001b[39;49m\u001b[43msoc\u001b[49m\u001b[43m,\u001b[49m\u001b[43m \u001b[49m\u001b[43mpath\u001b[49m\u001b[38;5;241;43m=\u001b[39;49m\u001b[43mexpt_path\u001b[49m\u001b[43m,\u001b[49m\u001b[43m \u001b[49m\u001b[43mprefix\u001b[49m\u001b[38;5;241;43m=\u001b[39;49m\u001b[43mexperiment_name\u001b[49m\u001b[43m,\u001b[49m\u001b[43m \u001b[49m\u001b[43mconfig_file\u001b[49m\u001b[38;5;241;43m=\u001b[39;49m\u001b[43mconfig_path\u001b[49m\u001b[43m,\u001b[49m\u001b[43m \u001b[49m\u001b[43mexp_param_file\u001b[49m\u001b[38;5;241;43m=\u001b[39;49m\u001b[43mexp_param_file\u001b[49m\u001b[43m)\u001b[49m\n",
      "\u001b[1;31mTypeError\u001b[0m: cavity_ramsey_with_spectators() got multiple values for argument 'soccfg'"
     ]
    }
   ],
   "source": [
    "class_for_exp.cavity_ramsey_with_spectators(soccfg=soc, path=expt_path, prefix=experiment_name, config_file=config_path, exp_param_file=exp_param_file)"
   ]
  },
  {
   "cell_type": "code",
   "execution_count": 17,
   "metadata": {},
   "outputs": [
    {
     "data": {
      "text/plain": [
       "<qick.qick_asm.QickConfig at 0x28ddf8cfd90>"
      ]
     },
     "execution_count": 17,
     "metadata": {},
     "output_type": "execute_result"
    }
   ],
   "source": [
    "soc"
   ]
  },
  {
   "cell_type": "markdown",
   "metadata": {},
   "source": []
  },
  {
   "cell_type": "code",
   "execution_count": 90,
   "metadata": {},
   "outputs": [
    {
     "data": {
      "text/plain": [
       "[[3568.497301707094, 3425.2997709216247, 2007.54],\n",
       " [10973, 9530, 15000],\n",
       " [0, 0, 0.6164057205175526],\n",
       " [0, 0, 0],\n",
       " [2, 2, 0],\n",
       " ['g', 'g', 'flat_top'],\n",
       " [0.035, 0.035, 0.005]]"
      ]
     },
     "execution_count": 90,
     "metadata": {},
     "output_type": "execute_result"
    }
   ],
   "source": [
    "from multimode_expts.MM_rb_base import  *\n",
    "\n",
    "f0g1_pulse_str = [['qubit', 'ge', 'pi', 0],\n",
    "                    ['qubit', 'ef', 'pi', 0],\n",
    "                    ['man', 'M1', 'pi', 0]]\n",
    "\n",
    "mm_base = MM_rb_base(cfg = yaml_cfg)\n",
    "creator = mm_base.get_prepulse_creator(f0g1_pulse_str)\n",
    "creator.pulse.tolist()\n"
   ]
  },
  {
   "cell_type": "code",
   "execution_count": null,
   "metadata": {},
   "outputs": [],
   "source": [
    "from MM_base import MM_base\n",
    "stor_no=1\n",
    "man_idx=1\n",
    "mm_base = MM_base(cfg = yaml_cfg)\n",
    "pre_sweep_pulse_str = [\n",
    "    ['man', 'M' + str(man_idx) , 'pi',0],\n",
    "                       ['qubit', 'ef', 'pi',0]]\n",
    "creator = mm_base.get_prepulse_creator(pre_sweep_pulse_str)\n",
    "a1 = creator.pulse.tolist()\n",
    "a1\n"
   ]
  },
  {
   "cell_type": "code",
   "execution_count": 42,
   "metadata": {},
   "outputs": [
    {
     "data": {
      "text/plain": [
       "[[349.415, 3568.1515953227604, 3568.1515953227604, 3568.1515953227604],\n",
       " [3000, 5510, 0, 5510],\n",
       " [0.9771428571428572, 0, 1.6833333333333333, 0],\n",
       " [0, 0, 0, 0],\n",
       " [1, 2, 2, 2],\n",
       " ['flat_top', 'g', 'const', 'g'],\n",
       " [0.005, 0.035, 0.0, 0.035]]"
      ]
     },
     "execution_count": 42,
     "metadata": {},
     "output_type": "execute_result"
    }
   ],
   "source": [
    "from MM_base import MM_base\n",
    "stor_no=1\n",
    "man_idx=1\n",
    "mm_base = MM_base(cfg = yaml_cfg)\n",
    "pre_sweep_pulse_str = [['storage', 'M'+ str(man_idx) + '-S' + str(stor_no), 'pi',0],\n",
    "    ['qubit', 'ge', 'hpi',0], # Starting parity meas\n",
    "                ['qubit', 'ge', 'parity_M' + str(man_idx),0], \n",
    "                ['qubit', 'ge', 'hpi',0]]\n",
    "creator = mm_base.get_prepulse_creator(pre_sweep_pulse_str)\n",
    "a1 = creator.pulse.tolist()\n",
    "a1\n"
   ]
  },
  {
   "cell_type": "code",
   "execution_count": 36,
   "metadata": {},
   "outputs": [
    {
     "data": {
      "text/plain": [
       "[[3568.1751638611518, 3425.5564066067, 2007.06, 349.415, 520.925, 520.925],\n",
       " [10716, 8236, 15000, 3000, 5000, 5000],\n",
       " [0, 0, 0.651287, 0.4885714285714285, 0.565451994946885, 0.565451994946885],\n",
       " [0, 0, 0, 0, 0, 0],\n",
       " [2, 2, 0, 1, 1, 1],\n",
       " ['g', 'g', 'flat_top', 'flat_top', 'flat_top', 'flat_top'],\n",
       " [0.035, 0.035, 0.005, 0.005, 0.005, 0.005]]"
      ]
     },
     "execution_count": 36,
     "metadata": {},
     "output_type": "execute_result"
    }
   ],
   "source": [
    "from MM_base import MM_base\n",
    "stor_no=[1,2]\n",
    "man_idx=1\n",
    "mm_base = MM_base(cfg = yaml_cfg)\n",
    "pre_sweep_pulse_str = [['qubit', 'ge', 'pi',0],\n",
    "                    ['qubit', 'ef', 'pi',0],\n",
    "                    ['man', 'M' + str(man_idx) , 'pi',0],\n",
    "                    ['storage', 'M'+ str(man_idx) + '-S' + str(stor_no[0]), 'hpi',0], \n",
    "                    ['storage', 'M'+ str(man_idx) + '-S' + str(stor_no[1]), 'hpi',0],\n",
    "                    ['storage', 'M'+ str(man_idx) + '-S' + str(stor_no[1]), 'hpi',0]]\n",
    "\n",
    "creator = mm_base.get_prepulse_creator(pre_sweep_pulse_str)\n",
    "a1 = creator.pulse.tolist()\n",
    "a1\n"
   ]
  },
  {
   "cell_type": "code",
   "execution_count": 43,
   "metadata": {},
   "outputs": [
    {
     "data": {
      "text/plain": [
       "[[3568.1751638611518,\n",
       "  3425.5564066067,\n",
       "  2007.06,\n",
       "  349.415,\n",
       "  520.925,\n",
       "  520.925,\n",
       "  3568.1751638611518,\n",
       "  3425.5564066067,\n",
       "  2007.06,\n",
       "  696.665,\n",
       "  875.845,\n",
       "  875.845],\n",
       " [10716, 8236, 15000, 3000, 5000, 5000, 10716, 8236, 15000, 9000, 9000, 9000],\n",
       " [0,\n",
       "  0,\n",
       "  0.651287,\n",
       "  0.4885714285714285,\n",
       "  0.565451994946885,\n",
       "  0.565451994946885,\n",
       "  0,\n",
       "  0,\n",
       "  0.651287,\n",
       "  0.666955,\n",
       "  0.6271437312608766,\n",
       "  0.6271437312608766],\n",
       " [0, 0, 0, 0, 0, 0, 0, 0, 0, 0, 0, 0],\n",
       " [2, 2, 0, 1, 1, 1, 2, 2, 0, 1, 1, 1],\n",
       " ['g',\n",
       "  'g',\n",
       "  'flat_top',\n",
       "  'flat_top',\n",
       "  'flat_top',\n",
       "  'flat_top',\n",
       "  'g',\n",
       "  'g',\n",
       "  'flat_top',\n",
       "  'flat_top',\n",
       "  'flat_top',\n",
       "  'flat_top'],\n",
       " [0.035,\n",
       "  0.035,\n",
       "  0.005,\n",
       "  0.005,\n",
       "  0.005,\n",
       "  0.005,\n",
       "  0.035,\n",
       "  0.035,\n",
       "  0.005,\n",
       "  0.005,\n",
       "  0.005,\n",
       "  0.005]]"
      ]
     },
     "execution_count": 43,
     "metadata": {},
     "output_type": "execute_result"
    }
   ],
   "source": [
    "from MM_base import MM_base\n",
    "stor_no=[[1,2],[3,4]]\n",
    "man_idx=1\n",
    "mm_base = MM_base(cfg = yaml_cfg)\n",
    "pre_sweep_pulse_str = [['qubit', 'ge', 'pi',0],\n",
    "                    ['qubit', 'ef', 'pi',0],\n",
    "                    ['man', 'M' + str(man_idx) , 'pi',0],\n",
    "                    ['storage', 'M'+ str(man_idx) + '-S' + str(stor_no[0][0]), 'hpi',0], \n",
    "                    ['storage', 'M'+ str(man_idx) + '-S' + str(stor_no[0][1]), 'hpi',0],\n",
    "                    ['storage', 'M'+ str(man_idx) + '-S' + str(stor_no[0][1]), 'hpi',0],\n",
    "                    ['qubit', 'ge', 'pi',0],\n",
    "                    ['qubit', 'ef', 'pi',0],\n",
    "                    ['man', 'M' + str(man_idx) , 'pi',0],\n",
    "                    ['storage', 'M'+ str(man_idx) + '-S' + str(stor_no[1][0]), 'hpi',0], \n",
    "                    ['storage', 'M'+ str(man_idx) + '-S' + str(stor_no[1][1]), 'hpi',0], \n",
    "                    ['storage', 'M'+ str(man_idx) + '-S' + str(stor_no[1][1]), 'hpi',0]]\n",
    "\n",
    "creator = mm_base.get_prepulse_creator(pre_sweep_pulse_str)\n",
    "a1 = creator.pulse.tolist()\n",
    "a1"
   ]
  },
  {
   "cell_type": "code",
   "execution_count": 29,
   "metadata": {},
   "outputs": [],
   "source": [
    "stor_no=[3,4]\n",
    "man_idx=1\n",
    "post_selection_pulse_str = [['storage', 'M'+ str(man_idx) + '-S' + str(stor_no[0]), 'hpi',0], \n",
    "                    ['storage', 'M'+ str(man_idx) + '-S' + str(stor_no[0]), 'hpi',0],\n",
    "                ['qubit', 'ge', 'hpi',0], # Starting parity meas\n",
    "                ['qubit', 'ge', 'parity_M' + str(man_idx),0], \n",
    "                ['qubit', 'ge', 'hpi',0]]# measure]\n",
    "creator = mm_base.get_prepulse_creator(post_selection_pulse_str)\n",
    "I_gate1 = creator.pulse.tolist()\n",
    "post_selection_pulse_str = [\n",
    "                ['storage', 'M'+ str(man_idx) + '-S' + str(stor_no[1]), 'hpi',0], \n",
    "                    ['storage', 'M'+ str(man_idx) + '-S' + str(stor_no[1]), 'hpi',0],\n",
    "                ['qubit', 'ge', 'hpi',0], # Starting parity meas\n",
    "                ['qubit', 'ge', 'parity_M' + str(man_idx),0], \n",
    "                ['qubit', 'ge', 'hpi',0]]# measure]\n",
    "creator = mm_base.get_prepulse_creator(post_selection_pulse_str)\n",
    "I_gate2 = creator.pulse.tolist()\n",
    "\n",
    "\n",
    "I_gate = [I_gate1, I_gate2]\n",
    "\n",
    "post_selection_pulse_str = [['storage', 'M'+ str(man_idx) + '-S' + str(stor_no[0]), 'hpi',0], \n",
    "                    ['storage', 'M'+ str(man_idx) + '-S' + str(stor_no[0]), 'hpi',0],\n",
    "                ['storage', 'M'+ str(man_idx) + '-S' + str(stor_no[1]), 'hpi',0], \n",
    "                ['qubit', 'ge', 'hpi',0], # Starting parity meas\n",
    "                ['qubit', 'ge', 'parity_M' + str(man_idx),0], \n",
    "                ['qubit', 'ge', 'hpi',0]]\n",
    "creator = mm_base.get_prepulse_creator(post_selection_pulse_str)\n",
    "X_gate1 = creator.pulse.tolist()\n",
    "post_selection_pulse_str = [['storage', 'M'+ str(man_idx) + '-S' + str(stor_no[1]), 'hpi',0], \n",
    "                    ['storage', 'M'+ str(man_idx) + '-S' + str(stor_no[1]), 'hpi',0],\n",
    "                ['qubit', 'ge', 'hpi',0], # Starting parity meas\n",
    "                ['qubit', 'ge', 'parity_M' + str(man_idx),0], \n",
    "                ['qubit', 'ge', 'hpi',0]]\n",
    "creator = mm_base.get_prepulse_creator(post_selection_pulse_str)\n",
    "X_gate2 = creator.pulse.tolist()\n",
    "\n",
    "X_gate = [X_gate1, X_gate2]\n",
    "\n",
    "post_selection_pulse_str = [['storage', 'M'+ str(man_idx) + '-S' + str(stor_no[0]), 'hpi',0], \n",
    "                    ['storage', 'M'+ str(man_idx) + '-S' + str(stor_no[0]), 'hpi',0],\n",
    "                ['storage', 'M'+ str(man_idx) + '-S' + str(stor_no[1]), 'hpi',90], \n",
    "                ['qubit', 'ge', 'hpi',0], # Starting parity meas\n",
    "                ['qubit', 'ge', 'parity_M' + str(man_idx),0], \n",
    "                ['qubit', 'ge', 'hpi',0]]\n",
    "creator = mm_base.get_prepulse_creator(post_selection_pulse_str)\n",
    "Y_gate1 = creator.pulse.tolist()\n",
    "post_selection_pulse_str = [['storage', 'M'+ str(man_idx) + '-S' + str(stor_no[1]), 'hpi',0], \n",
    "                    ['storage', 'M'+ str(man_idx) + '-S' + str(stor_no[1]), 'hpi',0],\n",
    "                ['qubit', 'ge', 'hpi',0], # Starting parity meas\n",
    "                ['qubit', 'ge', 'parity_M' + str(man_idx),0], \n",
    "                ['qubit', 'ge', 'hpi',0]]\n",
    "creator = mm_base.get_prepulse_creator(post_selection_pulse_str)\n",
    "Y_gate2 = creator.pulse.tolist()\n",
    "\n",
    "Y_gate = [Y_gate1, Y_gate2]"
   ]
  },
  {
   "cell_type": "markdown",
   "metadata": {},
   "source": [
    "# Prepulse and Postpulse generator"
   ]
  },
  {
   "cell_type": "code",
   "execution_count": 62,
   "metadata": {},
   "outputs": [
    {
     "ename": "NameError",
     "evalue": "name 'dataset' is not defined",
     "output_type": "error",
     "traceback": [
      "\u001b[1;31m---------------------------------------------------------------------------\u001b[0m",
      "\u001b[1;31mNameError\u001b[0m                                 Traceback (most recent call last)",
      "Cell \u001b[1;32mIn[62], line 6\u001b[0m\n\u001b[0;32m      3\u001b[0m pi2_length \u001b[38;5;241m=\u001b[39m \u001b[38;5;241m0.8425040638970613\u001b[39m\n\u001b[0;32m      4\u001b[0m gain \u001b[38;5;241m=\u001b[39m \u001b[38;5;241m13500\u001b[39m\n\u001b[1;32m----> 6\u001b[0m \u001b[43mdataset\u001b[49m\u001b[38;5;241m.\u001b[39mupdate_all(\u001b[38;5;124m'\u001b[39m\u001b[38;5;124mM1-S7\u001b[39m\u001b[38;5;124m'\u001b[39m, freq, \u001b[38;5;241m0.01\u001b[39m, pi_length, pi2_length, gain)\n",
      "\u001b[1;31mNameError\u001b[0m: name 'dataset' is not defined"
     ]
    }
   ],
   "source": [
    "freq = 1423.04\n",
    "pi_length =0.8425040638970613*2\n",
    "pi2_length = 0.8425040638970613\n",
    "gain = 13500\n",
    "\n",
    "dataset.update_all('M1-S7', freq, 0.01, pi_length, pi2_length, gain)"
   ]
  },
  {
   "cell_type": "markdown",
   "metadata": {},
   "source": [
    "## Dataset"
   ]
  },
  {
   "cell_type": "code",
   "execution_count": 37,
   "metadata": {},
   "outputs": [],
   "source": [
    "from dataset import * \n",
    "from dataset import storage_man_swap_dataset\n"
   ]
  },
  {
   "cell_type": "code",
   "execution_count": null,
   "metadata": {},
   "outputs": [
    {
     "data": {
      "text/plain": [
       "1422.35"
      ]
     },
     "execution_count": 49,
     "metadata": {},
     "output_type": "execute_result"
    }
   ],
   "source": []
  },
  {
   "cell_type": "code",
   "execution_count": 38,
   "metadata": {},
   "outputs": [
    {
     "data": {
      "text/html": [
       "<div>\n",
       "<style scoped>\n",
       "    .dataframe tbody tr th:only-of-type {\n",
       "        vertical-align: middle;\n",
       "    }\n",
       "\n",
       "    .dataframe tbody tr th {\n",
       "        vertical-align: top;\n",
       "    }\n",
       "\n",
       "    .dataframe thead th {\n",
       "        text-align: right;\n",
       "    }\n",
       "</style>\n",
       "<table border=\"1\" class=\"dataframe\">\n",
       "  <thead>\n",
       "    <tr style=\"text-align: right;\">\n",
       "      <th></th>\n",
       "      <th>stor_name</th>\n",
       "      <th>freq (MHz)</th>\n",
       "      <th>precision (MHz)</th>\n",
       "      <th>pi (mus)</th>\n",
       "      <th>h_pi (mus)</th>\n",
       "      <th>gain (DAC units)</th>\n",
       "      <th>last_update</th>\n",
       "    </tr>\n",
       "  </thead>\n",
       "  <tbody>\n",
       "    <tr>\n",
       "      <th>0</th>\n",
       "      <td>M1-S1</td>\n",
       "      <td>348.85</td>\n",
       "      <td>0.01</td>\n",
       "      <td>0.784259</td>\n",
       "      <td>0.343947</td>\n",
       "      <td>3000</td>\n",
       "      <td>2025-03-11 12:35:25.500986</td>\n",
       "    </tr>\n",
       "    <tr>\n",
       "      <th>1</th>\n",
       "      <td>M1-S2</td>\n",
       "      <td>520.32</td>\n",
       "      <td>0.05</td>\n",
       "      <td>0.940811</td>\n",
       "      <td>0.425765</td>\n",
       "      <td>5000</td>\n",
       "      <td>2025-03-12 12:37:50.001793</td>\n",
       "    </tr>\n",
       "    <tr>\n",
       "      <th>2</th>\n",
       "      <td>M1-S3</td>\n",
       "      <td>696.02</td>\n",
       "      <td>0.05</td>\n",
       "      <td>1.134706</td>\n",
       "      <td>0.527018</td>\n",
       "      <td>9000</td>\n",
       "      <td>2025-03-12 11:21:11.606511</td>\n",
       "    </tr>\n",
       "    <tr>\n",
       "      <th>3</th>\n",
       "      <td>M1-S4</td>\n",
       "      <td>874.00</td>\n",
       "      <td>0.05</td>\n",
       "      <td>1.052531</td>\n",
       "      <td>0.476289</td>\n",
       "      <td>9000</td>\n",
       "      <td>2025-03-13 12:59:55.218434</td>\n",
       "    </tr>\n",
       "    <tr>\n",
       "      <th>4</th>\n",
       "      <td>M1-S5</td>\n",
       "      <td>1052.65</td>\n",
       "      <td>0.05</td>\n",
       "      <td>1.735148</td>\n",
       "      <td>0.820643</td>\n",
       "      <td>7500</td>\n",
       "      <td>2025-03-12 10:41:05.165443</td>\n",
       "    </tr>\n",
       "    <tr>\n",
       "      <th>5</th>\n",
       "      <td>M1-S6</td>\n",
       "      <td>1244.52</td>\n",
       "      <td>0.05</td>\n",
       "      <td>1.372186</td>\n",
       "      <td>0.637996</td>\n",
       "      <td>13500</td>\n",
       "      <td>2025-03-12 09:53:56.486329</td>\n",
       "    </tr>\n",
       "    <tr>\n",
       "      <th>6</th>\n",
       "      <td>M1-S7</td>\n",
       "      <td>1422.35</td>\n",
       "      <td>0.05</td>\n",
       "      <td>1.964983</td>\n",
       "      <td>0.927853</td>\n",
       "      <td>10000</td>\n",
       "      <td>2025-03-12 09:14:13.544748</td>\n",
       "    </tr>\n",
       "    <tr>\n",
       "      <th>7</th>\n",
       "      <td>M1-S8</td>\n",
       "      <td>-1.00</td>\n",
       "      <td>-1.00</td>\n",
       "      <td>-1.000000</td>\n",
       "      <td>-1.000000</td>\n",
       "      <td>-1</td>\n",
       "      <td>51:31.3</td>\n",
       "    </tr>\n",
       "    <tr>\n",
       "      <th>8</th>\n",
       "      <td>M1-S9</td>\n",
       "      <td>-1.00</td>\n",
       "      <td>-1.00</td>\n",
       "      <td>-1.000000</td>\n",
       "      <td>-1.000000</td>\n",
       "      <td>-1</td>\n",
       "      <td>51:31.3</td>\n",
       "    </tr>\n",
       "    <tr>\n",
       "      <th>9</th>\n",
       "      <td>M1-S10</td>\n",
       "      <td>-1.00</td>\n",
       "      <td>-1.00</td>\n",
       "      <td>-1.000000</td>\n",
       "      <td>-1.000000</td>\n",
       "      <td>-1</td>\n",
       "      <td>51:31.3</td>\n",
       "    </tr>\n",
       "    <tr>\n",
       "      <th>10</th>\n",
       "      <td>M1-S11</td>\n",
       "      <td>-1.00</td>\n",
       "      <td>-1.00</td>\n",
       "      <td>-1.000000</td>\n",
       "      <td>-1.000000</td>\n",
       "      <td>-1</td>\n",
       "      <td>51:31.3</td>\n",
       "    </tr>\n",
       "    <tr>\n",
       "      <th>11</th>\n",
       "      <td>M1-S12</td>\n",
       "      <td>-1.00</td>\n",
       "      <td>-1.00</td>\n",
       "      <td>-1.000000</td>\n",
       "      <td>-1.000000</td>\n",
       "      <td>-1</td>\n",
       "      <td>51:31.3</td>\n",
       "    </tr>\n",
       "    <tr>\n",
       "      <th>12</th>\n",
       "      <td>M1</td>\n",
       "      <td>2006.80</td>\n",
       "      <td>0.03</td>\n",
       "      <td>0.607779</td>\n",
       "      <td>0.300013</td>\n",
       "      <td>15000</td>\n",
       "      <td>2025-03-10 09:25:09.537608</td>\n",
       "    </tr>\n",
       "    <tr>\n",
       "      <th>13</th>\n",
       "      <td>M2</td>\n",
       "      <td>1834.84</td>\n",
       "      <td>0.01</td>\n",
       "      <td>1.046171</td>\n",
       "      <td>0.521769</td>\n",
       "      <td>15000</td>\n",
       "      <td>2024-11-28 12:07:48.539701</td>\n",
       "    </tr>\n",
       "    <tr>\n",
       "      <th>14</th>\n",
       "      <td>M2-S1</td>\n",
       "      <td>175.63</td>\n",
       "      <td>0.01</td>\n",
       "      <td>2.173484</td>\n",
       "      <td>1.086742</td>\n",
       "      <td>1000</td>\n",
       "      <td>28:20.8</td>\n",
       "    </tr>\n",
       "    <tr>\n",
       "      <th>15</th>\n",
       "      <td>M2-S2</td>\n",
       "      <td>346.84</td>\n",
       "      <td>0.01</td>\n",
       "      <td>0.908835</td>\n",
       "      <td>0.454417</td>\n",
       "      <td>5000</td>\n",
       "      <td>33:56.1</td>\n",
       "    </tr>\n",
       "    <tr>\n",
       "      <th>16</th>\n",
       "      <td>M2-S3</td>\n",
       "      <td>523.22</td>\n",
       "      <td>0.01</td>\n",
       "      <td>1.561615</td>\n",
       "      <td>0.780808</td>\n",
       "      <td>5000</td>\n",
       "      <td>22:30.3</td>\n",
       "    </tr>\n",
       "    <tr>\n",
       "      <th>17</th>\n",
       "      <td>M2-S4</td>\n",
       "      <td>702.65</td>\n",
       "      <td>0.01</td>\n",
       "      <td>1.386764</td>\n",
       "      <td>0.693382</td>\n",
       "      <td>9000</td>\n",
       "      <td>25:33.1</td>\n",
       "    </tr>\n",
       "    <tr>\n",
       "      <th>18</th>\n",
       "      <td>M2-S5</td>\n",
       "      <td>878.78</td>\n",
       "      <td>0.01</td>\n",
       "      <td>1.303372</td>\n",
       "      <td>0.651686</td>\n",
       "      <td>13500</td>\n",
       "      <td>00:05.4</td>\n",
       "    </tr>\n",
       "    <tr>\n",
       "      <th>19</th>\n",
       "      <td>M2-S6</td>\n",
       "      <td>1070.10</td>\n",
       "      <td>0.01</td>\n",
       "      <td>2.379622</td>\n",
       "      <td>1.189811</td>\n",
       "      <td>9000</td>\n",
       "      <td>30:59.0</td>\n",
       "    </tr>\n",
       "    <tr>\n",
       "      <th>20</th>\n",
       "      <td>M2-S7</td>\n",
       "      <td>1249.70</td>\n",
       "      <td>0.01</td>\n",
       "      <td>1.796981</td>\n",
       "      <td>0.898491</td>\n",
       "      <td>12000</td>\n",
       "      <td>56:07.5</td>\n",
       "    </tr>\n",
       "    <tr>\n",
       "      <th>21</th>\n",
       "      <td>M2-M1</td>\n",
       "      <td>173.79</td>\n",
       "      <td>0.01</td>\n",
       "      <td>0.463481</td>\n",
       "      <td>0.231741</td>\n",
       "      <td>2000</td>\n",
       "      <td>2024-10-06 01:47:25.946153</td>\n",
       "    </tr>\n",
       "    <tr>\n",
       "      <th>22</th>\n",
       "      <td>M1-D1</td>\n",
       "      <td>2313.44</td>\n",
       "      <td>0.01</td>\n",
       "      <td>10.000000</td>\n",
       "      <td>0.000000</td>\n",
       "      <td>5000</td>\n",
       "      <td>2025-01-23 14:54:56.384507</td>\n",
       "    </tr>\n",
       "    <tr>\n",
       "      <th>23</th>\n",
       "      <td>M2-D2</td>\n",
       "      <td>2094.05</td>\n",
       "      <td>0.01</td>\n",
       "      <td>15.000000</td>\n",
       "      <td>0.000000</td>\n",
       "      <td>8000</td>\n",
       "      <td>2025-01-23 17:22:53.776061</td>\n",
       "    </tr>\n",
       "    <tr>\n",
       "      <th>24</th>\n",
       "      <td>M1-C</td>\n",
       "      <td>973.23</td>\n",
       "      <td>0.02</td>\n",
       "      <td>0.251127</td>\n",
       "      <td>0.122354</td>\n",
       "      <td>1000</td>\n",
       "      <td>2025-01-20 09:34:00.029234</td>\n",
       "    </tr>\n",
       "    <tr>\n",
       "      <th>25</th>\n",
       "      <td>M1_ce</td>\n",
       "      <td>2008.78</td>\n",
       "      <td>0.02</td>\n",
       "      <td>0.617915</td>\n",
       "      <td>0.304523</td>\n",
       "      <td>15000</td>\n",
       "      <td>2025-01-20 09:52:35.311227</td>\n",
       "    </tr>\n",
       "  </tbody>\n",
       "</table>\n",
       "</div>"
      ],
      "text/plain": [
       "   stor_name  freq (MHz)  precision (MHz)   pi (mus)  h_pi (mus)  \\\n",
       "0      M1-S1      348.85             0.01   0.784259    0.343947   \n",
       "1      M1-S2      520.32             0.05   0.940811    0.425765   \n",
       "2      M1-S3      696.02             0.05   1.134706    0.527018   \n",
       "3      M1-S4      874.00             0.05   1.052531    0.476289   \n",
       "4      M1-S5     1052.65             0.05   1.735148    0.820643   \n",
       "5      M1-S6     1244.52             0.05   1.372186    0.637996   \n",
       "6      M1-S7     1422.35             0.05   1.964983    0.927853   \n",
       "7      M1-S8       -1.00            -1.00  -1.000000   -1.000000   \n",
       "8      M1-S9       -1.00            -1.00  -1.000000   -1.000000   \n",
       "9     M1-S10       -1.00            -1.00  -1.000000   -1.000000   \n",
       "10    M1-S11       -1.00            -1.00  -1.000000   -1.000000   \n",
       "11    M1-S12       -1.00            -1.00  -1.000000   -1.000000   \n",
       "12        M1     2006.80             0.03   0.607779    0.300013   \n",
       "13        M2     1834.84             0.01   1.046171    0.521769   \n",
       "14     M2-S1      175.63             0.01   2.173484    1.086742   \n",
       "15     M2-S2      346.84             0.01   0.908835    0.454417   \n",
       "16     M2-S3      523.22             0.01   1.561615    0.780808   \n",
       "17     M2-S4      702.65             0.01   1.386764    0.693382   \n",
       "18     M2-S5      878.78             0.01   1.303372    0.651686   \n",
       "19     M2-S6     1070.10             0.01   2.379622    1.189811   \n",
       "20     M2-S7     1249.70             0.01   1.796981    0.898491   \n",
       "21     M2-M1      173.79             0.01   0.463481    0.231741   \n",
       "22     M1-D1     2313.44             0.01  10.000000    0.000000   \n",
       "23     M2-D2     2094.05             0.01  15.000000    0.000000   \n",
       "24      M1-C      973.23             0.02   0.251127    0.122354   \n",
       "25     M1_ce     2008.78             0.02   0.617915    0.304523   \n",
       "\n",
       "    gain (DAC units)                 last_update  \n",
       "0               3000  2025-03-11 12:35:25.500986  \n",
       "1               5000  2025-03-12 12:37:50.001793  \n",
       "2               9000  2025-03-12 11:21:11.606511  \n",
       "3               9000  2025-03-13 12:59:55.218434  \n",
       "4               7500  2025-03-12 10:41:05.165443  \n",
       "5              13500  2025-03-12 09:53:56.486329  \n",
       "6              10000  2025-03-12 09:14:13.544748  \n",
       "7                 -1                     51:31.3  \n",
       "8                 -1                     51:31.3  \n",
       "9                 -1                     51:31.3  \n",
       "10                -1                     51:31.3  \n",
       "11                -1                     51:31.3  \n",
       "12             15000  2025-03-10 09:25:09.537608  \n",
       "13             15000  2024-11-28 12:07:48.539701  \n",
       "14              1000                     28:20.8  \n",
       "15              5000                     33:56.1  \n",
       "16              5000                     22:30.3  \n",
       "17              9000                     25:33.1  \n",
       "18             13500                     00:05.4  \n",
       "19              9000                     30:59.0  \n",
       "20             12000                     56:07.5  \n",
       "21              2000  2024-10-06 01:47:25.946153  \n",
       "22              5000  2025-01-23 14:54:56.384507  \n",
       "23              8000  2025-01-23 17:22:53.776061  \n",
       "24              1000  2025-01-20 09:34:00.029234  \n",
       "25             15000  2025-01-20 09:52:35.311227  "
      ]
     },
     "execution_count": 38,
     "metadata": {},
     "output_type": "execute_result"
    }
   ],
   "source": [
    "dataset = storage_man_swap_dataset('man1_storage_swap_dataset.csv')\n",
    "dataset.df"
   ]
  },
  {
   "cell_type": "markdown",
   "metadata": {},
   "source": [
    "## Adding dump and coupler swaps to the dataset"
   ]
  },
  {
   "cell_type": "code",
   "execution_count": 131,
   "metadata": {},
   "outputs": [
    {
     "name": "stderr",
     "output_type": "stream",
     "text": [
      "C:\\_Lib\\python\\multimode_expts\\dataset.py:92: FutureWarning: The frame.append method is deprecated and will be removed from pandas in a future version. Use pandas.concat instead.\n",
      "  self.df = self.df.append(new_row, ignore_index=True)\n",
      "C:\\_Lib\\python\\multimode_expts\\dataset.py:92: FutureWarning: The frame.append method is deprecated and will be removed from pandas in a future version. Use pandas.concat instead.\n",
      "  self.df = self.df.append(new_row, ignore_index=True)\n",
      "C:\\_Lib\\python\\multimode_expts\\dataset.py:92: FutureWarning: The frame.append method is deprecated and will be removed from pandas in a future version. Use pandas.concat instead.\n",
      "  self.df = self.df.append(new_row, ignore_index=True)\n"
     ]
    }
   ],
   "source": [
    "# ##[2313.3, 5000, , 2, 2], \n",
    "# #[2093.9, , 15, 2, 2] \n",
    "ds = dataset\n",
    "# M1-D1\n",
    "ds.append_dataset('M1-D1', 2313.3, 0.01, 10, 0, 5000)\n",
    "#M2 - D2\n",
    "ds.append_dataset('M2-D2', 2093.9, 0.01, 15, 0, 8000)\n",
    "# M1-C (coupler)\n",
    "ds.append_dataset('M1-C', 944.25, 0.01, 0.316677658, 0.158422064, 1000)"
   ]
  },
  {
   "cell_type": "markdown",
   "metadata": {},
   "source": [
    "## New Creator"
   ]
  },
  {
   "cell_type": "code",
   "execution_count": 19,
   "metadata": {},
   "outputs": [
    {
     "name": "stdout",
     "output_type": "stream",
     "text": [
      "['ge', 'pi', 0]\n",
      "['ef', 'pi', 0]\n"
     ]
    },
    {
     "data": {
      "text/plain": [
       "[[3568.655054337803, 3425.3983357264633],\n",
       " [11105, 9530],\n",
       " [0, 0],\n",
       " [0, 0],\n",
       " [2, 2],\n",
       " ['g', 'g'],\n",
       " [0.035, 0.035]]"
      ]
     },
     "execution_count": 19,
     "metadata": {},
     "output_type": "execute_result"
    }
   ],
   "source": [
    "from multimode_expts.MM_base import *\n",
    "mm_base = MM_base(cfg = yaml_cfg)\n",
    "\n",
    "man_idx = 1\n",
    "stor_id = [1,2]\n",
    "\n",
    "## Parity Meas\n",
    "parity_str = [['qubit', 'ge', 'hpi', 0 ], # Starting parity meas\n",
    "                ['qubit', 'ge', 'parity_M' + str(man_idx), 0 ], \n",
    "                ['qubit', 'ge', 'hpi', 0 ], \n",
    "                ]\n",
    "\n",
    "# parity_str_multiple\n",
    "\n",
    "## Prepapre Man1 photon\n",
    "prep_man_pi = [\n",
    "                ['qubit', 'ge', 'pi', 0],\n",
    "                ['qubit', 'ef', 'pi', 0],\n",
    "                ['man', 'M1', 'pi', 0]\n",
    "            ]\n",
    "post_f0g1_str_for_ramsey = [['man', 'M1', 'pi', 0],\n",
    "                ['qubit', 'ef', 'pi', 0], \n",
    "                ['qubit', 'ge', 'hpi', 0]]\n",
    "storage = [['storage', 'M1-S1', 'pi', 0]   ]\n",
    "\n",
    "man = [['man', 'M1', 'pi', 0]   ]\n",
    "\n",
    "prep_stor = [\n",
    "                ['qubit', 'ge', 'pi', 0],\n",
    "                ['qubit', 'ef', 'pi', 0],\n",
    "                ['man', 'M1', 'pi', 0],\n",
    "                ['storage', 'M1-S2', 'pi', 0]  ,\n",
    "                   ]\n",
    "\n",
    "\n",
    "    \n",
    "creator = mm_base.get_prepulse_creator( [['qubit', 'ge', 'pi', 0],\n",
    "                            ['qubit', 'ef', 'pi', 0],])\n",
    "creator.pulse.tolist()\n",
    "# pulse_str"
   ]
  },
  {
   "cell_type": "code",
   "execution_count": 20,
   "metadata": {},
   "outputs": [
    {
     "data": {
      "text/plain": [
       "['storage', 'M1-S2', 'pi', 0]"
      ]
     },
     "execution_count": 20,
     "metadata": {},
     "output_type": "execute_result"
    }
   ],
   "source": [
    "prep_stor[-1]"
   ]
  },
  {
   "cell_type": "code",
   "execution_count": null,
   "metadata": {},
   "outputs": [],
   "source": []
  }
 ],
 "metadata": {
  "kernelspec": {
   "display_name": "slab",
   "language": "python",
   "name": "python3"
  },
  "language_info": {
   "codemirror_mode": {
    "name": "ipython",
    "version": 3
   },
   "file_extension": ".py",
   "mimetype": "text/x-python",
   "name": "python",
   "nbconvert_exporter": "python",
   "pygments_lexer": "ipython3",
   "version": "3.8.17"
  }
 },
 "nbformat": 4,
 "nbformat_minor": 2
}
