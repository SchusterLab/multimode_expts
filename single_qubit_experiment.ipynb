{
 "cells": [
  {
   "cell_type": "markdown",
   "metadata": {},
   "source": [
    "# Import"
   ]
  },
  {
   "cell_type": "code",
   "execution_count": 1,
   "metadata": {},
   "outputs": [
    {
     "name": "stdout",
     "output_type": "stream",
     "text": [
      "Warning serial library import failed.\n",
      "Could not load InstrumentManagerWindow\n",
      "Could not import QickInstrument, try install qick package\n",
      "Could not load AD5780 dac \n",
      "Could not load labbrick\n",
      "Could not load Autonics TM4 Driver\n"
     ]
    }
   ],
   "source": [
    "%load_ext autoreload\n",
    "%autoreload 2\n",
    "\n",
    "import numpy as np\n",
    "import matplotlib.pyplot as plt\n",
    "\n",
    "from qick import *\n",
    "from qick.helpers import gauss\n",
    "from tqdm import tqdm_notebook as tqdm\n",
    "\n",
    "import time\n",
    "import os\n",
    "import sys\n",
    "sys.path.append('/home/xilinx/jupyter_notebooks/')\n",
    "sys.path.append('C:\\\\_Lib\\\\python\\\\rfsoc\\\\rfsoc_multimode\\\\example_expts')\n",
    "# sys.path.append('C:\\\\_Lib\\\\python\\\\multimode')\n",
    "import scipy as sp\n",
    "import json\n",
    "from scipy.fft import fft, fftfreq\n",
    "\n",
    "from slab.instruments import *\n",
    "from slab.experiment import Experiment\n",
    "from slab.datamanagement import SlabFile\n",
    "from slab import get_next_filename, get_current_filename, AttrDict\n",
    "\n",
    "# Figure params\n",
    "plt.rcParams['figure.figsize'] = [10,6]\n",
    "plt.rcParams.update({'font.size': 14})"
   ]
  },
  {
   "cell_type": "code",
   "execution_count": 2,
   "metadata": {},
   "outputs": [
    {
     "name": "stdout",
     "output_type": "stream",
     "text": [
      "path:  H:\\Shared drives\\SLab\\Multimode\\experiment\\250505_craqm\n"
     ]
    }
   ],
   "source": [
    "import json\n",
    "import os\n",
    "# path = os.getcwd()\n",
    "# path = r'H:\\Shared drives\\SLab\\Multimode\\experiment\\250418' # for data \n",
    "path = r'H:\\Shared drives\\SLab\\Multimode\\experiment\\250505_craqm' # for data \n",
    "print(\"path: \", path)"
   ]
  },
  {
   "cell_type": "markdown",
   "metadata": {},
   "source": [
    "# setup experiment hardware"
   ]
  },
  {
   "cell_type": "code",
   "execution_count": 3,
   "metadata": {},
   "outputs": [
    {
     "name": "stdout",
     "output_type": "stream",
     "text": [
      "Data will be stored in H:\\Shared drives\\SLab\\Multimode\\experiment\\250505_craqm\\data\n"
     ]
    }
   ],
   "source": [
    "expt_path=path+'\\\\data'\n",
    "\n",
    "print('Data will be stored in', expt_path)"
   ]
  },
  {
   "cell_type": "code",
   "execution_count": 4,
   "metadata": {
    "editable": true,
    "slideshow": {
     "slide_type": ""
    },
    "tags": []
   },
   "outputs": [
    {
     "name": "stdout",
     "output_type": "stream",
     "text": [
      "Config will be c:\\_Lib\\python\\multimode_expts\\configs\\hardware_config_202505.yml\n",
      "Exp Param will be c:\\_Lib\\python\\multimode_expts\\configs\\experiment_config.yml\n"
     ]
    }
   ],
   "source": [
    "curr_path = os.getcwd()\n",
    "# config_file = curr_path+'\\\\configs\\\\config_rfsoc_ziqian.yml'\n",
    "config_file = curr_path+'\\\\configs\\\\hardware_config_202505.yml'\n",
    "config_path = config_file\n",
    "print('Config will be', config_path)\n",
    "\n",
    "exp_param_file = curr_path+'\\\\configs\\\\experiment_config.yml'\n",
    "exp_param_path = exp_param_file\n",
    "print('Exp Param will be', exp_param_path)"
   ]
  },
  {
   "cell_type": "code",
   "execution_count": 5,
   "metadata": {},
   "outputs": [],
   "source": [
    "qubit_i = 0\n",
    "import yaml\n",
    "with open(config_file, 'r') as cfg_file:\n",
    "    yaml_cfg = yaml.safe_load(cfg_file)\n",
    "yaml_cfg = AttrDict(yaml_cfg)"
   ]
  },
  {
   "cell_type": "code",
   "execution_count": 6,
   "metadata": {
    "editable": true,
    "slideshow": {
     "slide_type": ""
    },
    "tags": []
   },
   "outputs": [],
   "source": [
    "im = InstrumentManager(ns_address='192.168.137.25') # SLAC lab"
   ]
  },
  {
   "cell_type": "code",
   "execution_count": 7,
   "metadata": {},
   "outputs": [
    {
     "data": {
      "text/plain": [
       "dict_keys(['Pyro.NameServer', 'Qick101'])"
      ]
     },
     "execution_count": 7,
     "metadata": {},
     "output_type": "execute_result"
    }
   ],
   "source": [
    "im.keys()"
   ]
  },
  {
   "cell_type": "code",
   "execution_count": 8,
   "metadata": {},
   "outputs": [
    {
     "name": "stdout",
     "output_type": "stream",
     "text": [
      "<Pyro4.core.Proxy at 0x251fc972fd0; not connected; for PYRO:obj_65d5568241f84ce6b086ad472fc0670a@192.168.137.101:38179>\n"
     ]
    }
   ],
   "source": [
    "print(im['Qick101'])"
   ]
  },
  {
   "cell_type": "code",
   "execution_count": 9,
   "metadata": {},
   "outputs": [
    {
     "name": "stdout",
     "output_type": "stream",
     "text": [
      "QICK running on ZCU216, software version 0.2.291\n",
      "\n",
      "Firmware configuration (built Tue Oct 15 12:06:51 2024):\n",
      "\n",
      "\tGlobal clocks (MHz): tProcessor 430.080, RF reference 245.760\n",
      "\n",
      "\t7 signal generator channels:\n",
      "\t0:\taxis_signal_gen_v6 - envelope memory 32768 samples (5.128 us)\n",
      "\t\tfs=6389.760 MHz, fabric=399.360 MHz, 32-bit DDS, range=6389.760 MHz\n",
      "\t\tDAC tile 2, blk 0 is 0_230, on JHC3\n",
      "\t1:\taxis_signal_gen_v6 - envelope memory 32768 samples (5.128 us)\n",
      "\t\tfs=6389.760 MHz, fabric=399.360 MHz, 32-bit DDS, range=6389.760 MHz\n",
      "\t\tDAC tile 2, blk 1 is 1_230, on JHC4\n",
      "\t2:\taxis_signal_gen_v6 - envelope memory 32768 samples (5.128 us)\n",
      "\t\tfs=6389.760 MHz, fabric=399.360 MHz, 32-bit DDS, range=6389.760 MHz\n",
      "\t\tDAC tile 2, blk 2 is 2_230, on JHC3\n",
      "\t3:\taxis_signal_gen_v6 - envelope memory 32768 samples (5.128 us)\n",
      "\t\tfs=6389.760 MHz, fabric=399.360 MHz, 32-bit DDS, range=6389.760 MHz\n",
      "\t\tDAC tile 2, blk 3 is 3_230, on JHC4\n",
      "\t4:\taxis_signal_gen_v6 - envelope memory 32768 samples (4.762 us)\n",
      "\t\tfs=6881.280 MHz, fabric=430.080 MHz, 32-bit DDS, range=6881.280 MHz\n",
      "\t\tDAC tile 3, blk 0 is 0_231, on JHC3\n",
      "\t5:\taxis_signal_gen_v6 - envelope memory 32768 samples (4.762 us)\n",
      "\t\tfs=6881.280 MHz, fabric=430.080 MHz, 32-bit DDS, range=6881.280 MHz\n",
      "\t\tDAC tile 3, blk 1 is 1_231, on JHC4\n",
      "\t6:\taxis_sg_mux4_v2 - envelope memory 0 samples (0.000 us)\n",
      "\t\tfs=6881.280 MHz, fabric=430.080 MHz, 32-bit DDS, range=1720.320 MHz\n",
      "\t\tDAC tile 0, blk 0 is 0_228, on JHC1\n",
      "\n",
      "\t4 constant-IQ outputs:\n",
      "\t0:\tfs=6881.280 MHz\n",
      "\t\tDAC tile 1, blk 0 is 0_229, on JHC1\n",
      "\t1:\tfs=6881.280 MHz\n",
      "\t\tDAC tile 1, blk 1 is 1_229, on JHC2\n",
      "\t2:\tfs=6881.280 MHz\n",
      "\t\tDAC tile 1, blk 2 is 2_229, on JHC1\n",
      "\t3:\tfs=6881.280 MHz\n",
      "\t\tDAC tile 1, blk 3 is 3_229, on JHC2\n",
      "\n",
      "\t4 readout channels:\n",
      "\t0:\taxis_pfb_readout_v2 - configured by PYNQ\n",
      "\t\tfs=2457.600 MHz, decimated=307.200 MHz, 32-bit DDS, range=307.200 MHz\n",
      "\t\tmaxlen 16384 accumulated, 1024 decimated (3.333 us)\n",
      "\t\ttriggered by output 7, pin 8, feedback to tProc input 0\n",
      "\t\tADC tile 2, blk 0 is 0_226, on JHC7\n",
      "\t1:\taxis_pfb_readout_v2 - configured by PYNQ\n",
      "\t\tfs=2457.600 MHz, decimated=307.200 MHz, 32-bit DDS, range=307.200 MHz\n",
      "\t\tmaxlen 16384 accumulated, 1024 decimated (3.333 us)\n",
      "\t\ttriggered by output 7, pin 9, feedback to tProc input 1\n",
      "\t\tADC tile 2, blk 0 is 0_226, on JHC7\n",
      "\t2:\taxis_pfb_readout_v2 - configured by PYNQ\n",
      "\t\tfs=2457.600 MHz, decimated=307.200 MHz, 32-bit DDS, range=307.200 MHz\n",
      "\t\tmaxlen 16384 accumulated, 1024 decimated (3.333 us)\n",
      "\t\ttriggered by output 7, pin 10, feedback to tProc input 2\n",
      "\t\tADC tile 2, blk 0 is 0_226, on JHC7\n",
      "\t3:\taxis_pfb_readout_v2 - configured by PYNQ\n",
      "\t\tfs=2457.600 MHz, decimated=307.200 MHz, 32-bit DDS, range=307.200 MHz\n",
      "\t\tmaxlen 16384 accumulated, 1024 decimated (3.333 us)\n",
      "\t\ttriggered by output 7, pin 11, feedback to tProc input 3\n",
      "\t\tADC tile 2, blk 0 is 0_226, on JHC7\n",
      "\n",
      "\t8 digital output pins:\n",
      "\t0:\tPMOD0_0_LS\n",
      "\t1:\tPMOD0_1_LS\n",
      "\t2:\tPMOD0_2_LS\n",
      "\t3:\tPMOD0_3_LS\n",
      "\t4:\tPMOD0_4_LS\n",
      "\t5:\tPMOD0_5_LS\n",
      "\t6:\tPMOD0_6_LS\n",
      "\t7:\tPMOD0_7_LS\n",
      "\n",
      "\ttProc axis_tproc64x32_x8 (\"v1\") rev 4: program memory 32768 words, data memory 4096 words\n",
      "\t\texternal start pin: PMOD1_0_LS\n"
     ]
    }
   ],
   "source": [
    "soc = QickConfig(im[yaml_cfg['aliases']['soc']].get_cfg())\n",
    "print(soc)"
   ]
  },
  {
   "cell_type": "code",
   "execution_count": 10,
   "metadata": {},
   "outputs": [
    {
     "data": {
      "text/plain": [
       "0.0023251488095238095"
      ]
     },
     "execution_count": 10,
     "metadata": {},
     "output_type": "execute_result"
    }
   ],
   "source": [
    "soc.cycles2us(1)"
   ]
  },
  {
   "cell_type": "markdown",
   "metadata": {},
   "source": [
    "# choose experiment name"
   ]
  },
  {
   "cell_type": "code",
   "execution_count": 39,
   "metadata": {
    "scrolled": true
   },
   "outputs": [
    {
     "name": "stdout",
     "output_type": "stream",
     "text": [
      "Path added at highest priority\n",
      "['C:\\\\_Lib\\\\python\\\\multimode_expts', 'C:\\\\_Lib\\\\python\\\\multimode_expts', 'C:\\\\_Lib\\\\python\\\\multimode_expts', 'C:\\\\_Lib\\\\python', 'C:\\\\_Lib\\\\python\\\\slab', 'C:\\\\_Lib\\\\python\\\\qick\\\\qick_lib', 'C:\\\\_Lib\\\\python\\\\rfsoc\\\\rfsoc_multimode\\\\example_expts', 'c:\\\\_Lib\\\\python\\\\multimode_expts', 'c:\\\\Users\\\\26049\\\\.conda\\\\envs\\\\slab\\\\python38.zip', 'c:\\\\Users\\\\26049\\\\.conda\\\\envs\\\\slab\\\\DLLs', 'c:\\\\Users\\\\26049\\\\.conda\\\\envs\\\\slab\\\\lib', 'c:\\\\Users\\\\26049\\\\.conda\\\\envs\\\\slab', '', 'C:\\\\Users\\\\26049\\\\AppData\\\\Roaming\\\\Python\\\\Python38\\\\site-packages', 'c:\\\\Users\\\\26049\\\\.conda\\\\envs\\\\slab\\\\lib\\\\site-packages', 'c:\\\\Users\\\\26049\\\\.conda\\\\envs\\\\slab\\\\lib\\\\site-packages\\\\easy_lmfit-1.0-py3.8.egg', 'c:\\\\Users\\\\26049\\\\.conda\\\\envs\\\\slab\\\\lib\\\\site-packages\\\\attrdict-2.0.1-py3.8.egg', 'c:\\\\Users\\\\26049\\\\.conda\\\\envs\\\\slab\\\\lib\\\\site-packages\\\\win32', 'c:\\\\Users\\\\26049\\\\.conda\\\\envs\\\\slab\\\\lib\\\\site-packages\\\\win32\\\\lib', 'c:\\\\Users\\\\26049\\\\.conda\\\\envs\\\\slab\\\\lib\\\\site-packages\\\\Pythonwin', '/home/xilinx/jupyter_notebooks/', 'C:\\\\_Lib\\\\python\\\\rfsoc\\\\rfsoc_multimode\\\\example_expts', '/home/xilinx/jupyter_notebooks/', 'C:\\\\_Lib\\\\python\\\\rfsoc\\\\rfsoc_multimode\\\\example_expts', '/home/xilinx/jupyter_notebooks/', 'C:\\\\_Lib\\\\python\\\\rfsoc\\\\rfsoc_multimode\\\\example_expts']\n",
      "C:\\_Lib\\python\\multimode_expts\\experiments\\__init__.py\n"
     ]
    }
   ],
   "source": [
    "import sys\n",
    "\n",
    "# Path to add\n",
    "expts_path = 'C:\\\\_Lib\\\\python\\\\multimode_expts'\n",
    "\n",
    "# Add the path to the system path at the highest priority\n",
    "# if expts_path not in sys.path:\n",
    "sys.path.insert(0, expts_path)\n",
    "print('Path added at highest priority')\n",
    "\n",
    "# Verify the path is added\n",
    "print(sys.path)\n",
    "\n",
    "# Import the experiments module from multimode\n",
    "import experiments as meas\n",
    "\n",
    "# Verify the module is imported from the correct path\n",
    "print(meas.__file__)"
   ]
  },
  {
   "cell_type": "markdown",
   "metadata": {},
   "source": [
    "# Run experiments"
   ]
  },
  {
   "cell_type": "code",
   "execution_count": 45,
   "metadata": {},
   "outputs": [],
   "source": [
    "# notuse expts\n",
    "# experiment_class, experiment_name = 'single_qubit.single_shot_old', 'HistogramExperiment_oldold'\n",
    "# experiment_class, experiment_name = 'single_qubit.single_shot', 'HistogramExperiment_old'\n",
    "# experiment_class, experiment_name = 'qubit_cavity.non_demolution_readout', 'DemolutionMeasurementExperiment'\n",
    "\n",
    "\n",
    "# experiment_class, experiment_name = 'single_qubit.phase_sweep', 'PhaseSweepExperiment'\n",
    "# experiment_class, experiment_name = 'single_qubit.phase_sweep_averager', 'PhaseSweepAveragerExperiment'\n",
    "# experiment_class, experiment_name = 'qubit_cavity.ecd', 'ECDExperiment'\n",
    "# experiment_class, experiment_name = 'qubit_cavity.ecd_read_spec', 'ECDReadSpecExperiment'\n",
    "# experiment_class, experiment_name = 'single_qubit.pulse_probe_ef_spectroscopy', 'PulseProbeEFSpectroscopyExperiment'\n",
    "# experiment_class, experiment_name = 'qubit_cavity.single_mode_wigner_tomography', 'WignerTomography1ModeExperiment'\n",
    "# experiment_class, experiment_name = 'qubit_cavity.single_mode_cats_wigner_tomography', 'WignerTomography1ModeCatExperiment'\n",
    "# experiment_class, experiment_name = 'single_qubit.amplitude_rabi_general', 'AmplitudeRabiGeneralExperiment'\n",
    "# experiment_class, experiment_name = 'single_qubit.amplitude_rabi_ef', 'AmplitudeRabiEFExperiment'\n",
    "# experiment_class, experiment_name = 'single_qubit.t2_echo', 'RamseyEchoExperiment'\n",
    "# experiment_class, experiment_name = 'single_qubit.t2_cavity', 'CavityRamseyExperiment_old'\n",
    "\n",
    "# experiment_class, experiment_name = 'single_qubit.cavity2qubit', 'Cavity2QubitSweepExperiment'"
   ]
  },
  {
   "cell_type": "code",
   "execution_count": 46,
   "metadata": {
    "editable": true,
    "slideshow": {
     "slide_type": ""
    },
    "tags": []
   },
   "outputs": [
    {
     "name": "stdout",
     "output_type": "stream",
     "text": [
      "{'device': {'qubit': {'T1': [370.2930190133963], 'f_ge': [3569.4263053206314], 'f_ef': [3426.287416084909], 'ramp_sigma': [0.005], 'ramp_sigma_num': [3.0], 'pulses': {'pi_ge': {'gain': [11165], 'sigma': [0.035], 'length': [0.0], 'type': 'gauss'}, 'hpi_ge': {'gain': [5289], 'length': [0.0], 'sigma': [0.035], 'type': 'gauss'}, 'pi_ef': {'gain': [8590], 'length': [0.0], 'sigma': [0.035], 'type': 'gauss'}, 'hpi_ef': {'gain': [4060], 'sigma': [0.035], 'type': 'gauss'}}, 'T1_ef': [167.5647128005103]}, 'readout': {'trig_offset': 450, 'frequency': [748.8], 'gain': [800], 'phase': [0.8473846167680859], 'threshold': [-148.02027429647023], 'threshold_list': [[-148.02027429647023]], 'man1_drive_list': [0.0], 'man2_drive_list': [0.0], 'readout_length': [1], 'relax_delay': [2500], 'confusion_matrix_with_reset': [0.9964530022802125, 0.0035469977197875036, 0.013768302080657598, 0.9862316979193424], 'confusion_matrix_without_reset': [0.9880000000000001, 0.0119999999999999, 0.025599999999999998, 0.9744], 'Ie': 13.759785764449656, 'Ig': -292.02027429647035}, 'manipulate': {'f_ge': [4984.026194477733, 5157.8527963217475], 'standard_dispalce': [0.05, 0.05], 'revival_time': [1.7069082057717464, 1.7366205852286094], 'gain_to_alpha': [0.00014281, 0.00020045], 'freq_to_alpha': [0.495062203431879, 0.0], 'chi': [-0.292927292931921, 1.0], 'ramp_sigma': 0.005}, 'storage': {'storage_man_file': 'C:/_Lib/python/multimode_expts/man1_storage_swap_dataset.csv', 'idling_phase': [[-52.6696123, -22.7088024, 4.32404839, 1.74059096, 3.07928552, 131.15854816947694, -90.34878087129891], [-0.8543699, -116.043431, 3.45837055, 0.608331428, -2.036, 9.45, 95.59156092221656], [1.04040701, -3.74923237, -117.783814, 0.356992259, -2.45519509, 0.647967825, 12.8401564], [1.66740192, -4.21812224, 3.29786448, -154.122273, -1.60291285, -1.18402153, 5.044314], [4.82521854, 0.209877344, 5.59148305, 7.67963852, -91.167355, 1.30630108, 5.65421906], [3.70780701, 0.0768208841, 4.16044796, 2.61829414, 3.48690085, -37.3968965, 4.05643677], [3.84028579, -0.418792628, 4.0522379, 3.24634888, 2.06016015, 3.24251258, -22.4708301]], 'idling_freq': [-2.5937677197135596, -2.85371864950844, -2.446015004544113, -1.8393250164457633, -3.231025833205897, -3.2053137013077597, -2.935087792327744], 'ramp_sigma': 0.005}, 'active_reset': {'qubit_ge': [4000.0, 0.1422665780546079, 0.005], 'qubit_ef': [3000.0, 0.15377089082752435, 0.005], 'relax_delay': [50.0], 'M1_S_sigma': 0.005, 'chis': [0.0, -0.2901125302876254, -0.544001797571183], 'M_lossy': [[2312.9, 5000.0, 10.0, 2.0, 2.0], [2094.05, 8000.0, 15.0, 2.0, 2.0]]}}, 'hw': {'soc': {'dacs': {'qubit': {'ch': 2, 'type': 'full', 'nyquist': 1}, 'readout': {'ch': 5, 'type': 'full', 'nyquist': 1}, 'manipulate_in': {'ch': 4, 'type': 'full', 'nyquist': 2}, 'storage_in': {'ch': 6, 'type': 'full', 'nyquist': 2}, 'flux_low': {'ch': 1, 'type': 'full', 'nyquist': 1}, 'flux_high': {'ch': 3, 'type': 'full', 'nyquist': 1}, 'sideband': {'ch': 0, 'type': 'full', 'nyquist': 1}}, 'adcs': {'readout': {'ch': 0}, 'cavity_out': {'ch': 1}}}}, 'aliases': {'soc': 'Qick101'}, 'data_management': {'plot_and_logs_folder': 'H:\\\\Shared drives\\\\SLab\\\\Multimode\\\\experiment\\\\250505_craqm\\\\data\\\\plots_and_logs'}, 'expt': {'qubits': [0], 'reps': 10000, 'check_f': False, 'active_reset': False, 'man_reset': False, 'storage_reset': False, 'qubit': 0, 'pulse_manipulate': False, 'cavity_freq': 4984.373226159381, 'cavity_gain': 1000, 'cavity_length': 2, 'prepulse': True, 'pre_sweep_pulse': [['qubit', 'ge', 'pi', 0], ['qubit', 'ef', 'pi', 0], ['qubit', 'ef', 'pi', 0], ['qubit', 'ge', 'pi', 0]], 'gate_based': True}}\n"
     ]
    },
    {
     "data": {
      "application/vnd.jupyter.widget-view+json": {
       "model_id": "a89a60936c074df89750685622f54a56",
       "version_major": 2,
       "version_minor": 0
      },
      "text/plain": [
       "  0%|          | 0/10000 [00:00<?, ?it/s]"
      ]
     },
     "metadata": {},
     "output_type": "display_data"
    },
    {
     "data": {
      "application/vnd.jupyter.widget-view+json": {
       "model_id": "9bd2eb4a2929455290aa657e5c17ba1f",
       "version_major": 2,
       "version_minor": 0
      },
      "text/plain": [
       "  0%|          | 0/10000 [00:00<?, ?it/s]"
      ]
     },
     "metadata": {},
     "output_type": "display_data"
    },
    {
     "name": "stdout",
     "output_type": "stream",
     "text": [
      "Saving H:\\Shared drives\\SLab\\Multimode\\experiment\\250505_craqm\\data\\00035_HistogramExperiment.h5\n"
     ]
    }
   ],
   "source": [
    "# ---------------------- Readout ----------------------\n",
    "# experiment_class, experiment_name = 'single_qubit.resonator_spectroscopy', 'ResonatorSpectroscopyExperiment' # for readout\n",
    "\n",
    "# ---------------------- Qubit ----------------------\n",
    "## Basic\n",
    "# experiment_class, experiment_name = 'single_qubit.t1', 'T1Experiment'\n",
    "experiment_class, experiment_name = 'single_qubit.single_shot', 'HistogramExperiment'\n",
    "\n",
    "# experiment_class, experiment_name = 'single_qubit.single_shot_prepulse','HistogramPrepulseExperiment'\n",
    "# experiment_class, experiment_name = 'single_qubit.t2_ramsey', 'RamseyExperiment'\n",
    "## Advanced\n",
    "# experiment_class, experiment_name = 'single_qubit.amplitude_rabi', 'AmplitudeRabiExperiment' # <-------------- for ge and ef\n",
    "# experiment_class, experiment_name = 'single_qubit.length_rabi_general', 'LengthRabiGeneralExperiment'\n",
    "# experiment_class, experiment_name = 'single_qubit.pulse_probe_spectroscopy', 'PulseProbeSpectroscopyExperiment'\n",
    "# experiment_class, experiment_name = 'single_qubit.pulse_probe_ef_spectroscopy', 'PulseProbeEFSpectroscopyExperiment'\n",
    "# experiment_class, experiment_name = 'single_qubit.pulse_probe_spectroscopy_prepulse', 'PulseProbePrePulseSpectroscopyExperiment'\n",
    "\n",
    "# ---------------------- Man Cavity ----------------------\n",
    "\n",
    "# experiment_class, experiment_name = 'single_qubit.cavity_spectroscopy', 'CavitySpectroscopyExperiment'\n",
    "# experiment_class, experiment_name = 'single_qubit.length_rabi_f0g1_general', 'LengthRabiGeneralF0g1Experiment'\n",
    "# experiment_class, experiment_name = 'single_qubit.t1_cavity', 'T1CavityExperiment'\n",
    "# experiment_class, experiment_name = 'single_qubit.t2_cavity', 'CavityRamseyExperiment' # -------\n",
    "# experiment_class, experiment_name = 'single_qubit.pulse_probe_f0g1_spectroscopy', 'PulseProbeF0g1SpectroscopyExperiment' # <--------------\n",
    "\n",
    "# ---------------------- Storage ----------------------\n",
    "# experiment_class, experiment_name = 'single_qubit.rf_flux_spectroscopy_f0g1', 'FluxSpectroscopyF0g1Experiment' \n",
    "# experiment_class, experiment_name = 'single_qubit.sideband_general', 'SidebandGeneralExperiment'\n",
    "# experiment_class, experiment_name = 'single_qubit.sideband_t1_general', 'SidebandT1GeneralExperiment' # --------\n",
    "\n",
    "# ----------------------- Storage RB -----------------------\n",
    "# experiment_class, experiment_name = 'single_qubit.rb_BSgate_postselection', 'SingleBeamSplitterRBPostSelection'\n",
    "\n",
    "## Wigner Tomography \n",
    "# experiment_class, experiment_name = 'single_qubit.parity_delay', 'ParityDelayExperiment'\n",
    "# experiment_class, experiment_name = 'single_qubit.parity_gain', 'ParityGainExperiment'\n",
    "# experiment_class, experiment_name = 'single_qubit.parity_freq', 'ParityFreqExperiment'\n",
    "\n",
    "## Cavity Temperature \n",
    "# experiment_class, experiment_name = 'single_qubit.parity_measurement_temp', 'ParityTempExperiment'\n",
    "\n",
    "\n",
    "\n",
    "# experiment_class, experiment_name = 'single_qubit.rb_ziqian', 'SingleRB'\n",
    "# experiment_class, experiment_name = 'single_qubit.rbam', 'MultiRBAM'\n",
    "# experiment_class, experiment_name = 'single_qubit.rb_BSgate', 'SingleBeamSplitterRB'\n",
    "# experiment_class, experiment_name = 'single_qubit.rb_BSgate_postselection', 'SingleBeamSplitterRBPostSelection'\n",
    "# experiment_class, experiment_name = 'single_qubit.rb_BSgate_check_target', 'SingleBeamSplitterRB_check_target'\n",
    "# experiment_class, experiment_name = 'single_qubit.rb_BSgate_ramsey', 'SingleBeamSplitterRB_ramsey'\n",
    "# experiment_class, experiment_name = 'qubit_cavity.displacement_enhanced_sideband', 'DisplacementEnhancedSidebandExperiment'\n",
    "\n",
    "# experiment_class, experiment_name = 'qubit_cavity.out_and_back', 'OutAndBackExperiment'\n",
    "# experiment_class, experiment_name = 'qubit_cavity.amplitude_rabi_f0g1', 'AmplitudeRabiF0g1Experiment'\n",
    "\n",
    "# experiment_class, experiment_name = 'single_qubit.dragpulse_calibration', 'DragCalibrationExperiment' \n",
    "# experiment_class, experiment_name = 'single_qubit.fast_reset_test', 'FastResetExperiment'\n",
    "# experiment_class, experiment_name = 'single_qubit.active_reset_single_shot', 'HistogramActiveResetExperiment'\n",
    "\n",
    "\n",
    "# \n",
    "\n",
    "run_exp = eval(f\"meas.{experiment_class}.{experiment_name}(soccfg=soc, path=expt_path, prefix=experiment_name, config_file=config_path)\")\n",
    "\n",
    "\n",
    "with open(exp_param_file, 'r') as file:\n",
    "\n",
    "    # Load the YAML contents\n",
    "    loaded = yaml.safe_load(file)\n",
    "    run_exp.cfg.expt = eval(f\"loaded['{experiment_name}']\")\n",
    "\n",
    "# special updates on device_config file\n",
    "run_exp.cfg.device.readout.relax_delay = [2500] # Wait time between experiments [us]\n",
    "print(run_exp.cfg)\n",
    "run_exp.go(analyze=False, display=False, progress=True, save=True)"
   ]
  },
  {
   "cell_type": "code",
   "execution_count": 14,
   "metadata": {},
   "outputs": [
    {
     "data": {
      "text/plain": [
       "12"
      ]
     },
     "execution_count": 14,
     "metadata": {},
     "output_type": "execute_result"
    }
   ],
   "source": [
    "soc.us2cycles(0.03, gen_ch = 1)"
   ]
  },
  {
   "cell_type": "code",
   "execution_count": 21,
   "metadata": {},
   "outputs": [
    {
     "name": "stdout",
     "output_type": "stream",
     "text": [
      "Run 0\n"
     ]
    }
   ],
   "source": [
    "for i in range(1): \n",
    "    print('Run %d' % i) "
   ]
  },
  {
   "cell_type": "code",
   "execution_count": 68,
   "metadata": {},
   "outputs": [
    {
     "data": {
      "text/plain": [
       "[[3569.462965491148, 3426.2579958470365],\n",
       " [11161, 8483],\n",
       " [0.0, 0.0],\n",
       " [0, 0],\n",
       " [2, 2],\n",
       " ['g', 'g'],\n",
       " [0.035, 0.035]]"
      ]
     },
     "execution_count": 68,
     "metadata": {},
     "output_type": "execute_result"
    }
   ],
   "source": [
    "# quick pulse maker \n",
    "with open(config_file, 'r') as cfg_file:\n",
    "    yaml_cfg = yaml.safe_load(cfg_file)\n",
    "yaml_cfg = AttrDict(yaml_cfg)\n",
    "\n",
    "from MM_dual_rail_base import MM_dual_rail_base\n",
    "mm_base_dummy = MM_dual_rail_base(yaml_cfg)\n",
    "# prep_stor = mm_base_dummy.prep_random_state_mode(2,1)  # prepare the storage state + \n",
    "# prep_man_hpi = mm_base_dummy.prep_random_state_mode(3, 1)[:-1]  # prepare the storage state +\n",
    "prep_man_pi = mm_base_dummy.prep_man_photon(1)  # prepare the storage state +\n",
    "mm_base_dummy.get_prepulse_creator(   prep_man_pi[:-1]).pulse.tolist()\n"
   ]
  },
  {
   "cell_type": "code",
   "execution_count": null,
   "metadata": {},
   "outputs": [
    {
     "data": {
      "text/plain": [
       "array([['qubit', 'ge', 'pi', '0'],\n",
       "       ['qubit', 'ef', 'pi', '0'],\n",
       "       ['man', 'M1', 'pi', '0']], dtype='<U11')"
      ]
     },
     "execution_count": 46,
     "metadata": {},
     "output_type": "execute_result"
    }
   ],
   "source": [
    "prep_man"
   ]
  },
  {
   "cell_type": "code",
   "execution_count": null,
   "metadata": {},
   "outputs": [
    {
     "data": {
      "text/plain": [
       "[[7, 8, 9], [4, 5, 6], [1, 2, 3], [1, 2, 3], [4, 5, 6], [7, 8, 9]]"
      ]
     },
     "execution_count": 108,
     "metadata": {},
     "output_type": "execute_result"
    }
   ],
   "source": [
    "# Sample NumPy array\n",
    "my_array = np.array([[1, 2, 3], [4, 5, 6], [7, 8, 9]]).tolist()\n",
    "\n",
    "# Reverse the array along axis 0\n",
    "reversed_array = np.flip(my_array, axis=0).tolist() + my_array\n",
    "\n",
    "reversed_array"
   ]
  },
  {
   "cell_type": "markdown",
   "metadata": {},
   "source": [
    "$\\text{Gain (linear)} = 10^{\\frac{\\text{dB}}{20}} $"
   ]
  },
  {
   "cell_type": "markdown",
   "metadata": {},
   "source": [
    "# Run sequential experiment"
   ]
  },
  {
   "cell_type": "code",
   "execution_count": 20,
   "metadata": {},
   "outputs": [
    {
     "name": "stdout",
     "output_type": "stream",
     "text": [
      "Config will be C:\\_Lib\\python\\multimode_expts\\configs\\hardware_config_202505.yml\n",
      "Index: 0 Freq. = 3420.0 GHz\n"
     ]
    },
    {
     "ename": "TypeError",
     "evalue": "list indices must be integers or slices, not float",
     "output_type": "error",
     "traceback": [
      "\u001b[1;31m---------------------------------------------------------------------------\u001b[0m",
      "\u001b[1;31mTypeError\u001b[0m                                 Traceback (most recent call last)",
      "Cell \u001b[1;32mIn[20], line 76\u001b[0m\n\u001b[0;32m      3\u001b[0m experiment_name \u001b[38;5;241m=\u001b[39m \u001b[38;5;124m'\u001b[39m\u001b[38;5;124mlength_rabi_sweep\u001b[39m\u001b[38;5;124m'\u001b[39m\n\u001b[0;32m      4\u001b[0m \u001b[38;5;66;03m# experiment_name = 'dc_flux_sweep'\u001b[39;00m\n\u001b[0;32m      5\u001b[0m \u001b[38;5;66;03m# experiment_name = 'length_rabi_f0g1_sweep'\u001b[39;00m\n\u001b[0;32m      6\u001b[0m \u001b[38;5;66;03m# experiment_name = 'manipulate_spectroscopy_dc_flux_sweep'\u001b[39;00m\n\u001b[1;32m   (...)\u001b[0m\n\u001b[0;32m     74\u001b[0m \n\u001b[0;32m     75\u001b[0m \u001b[38;5;66;03m# Option 2\u001b[39;00m\n\u001b[1;32m---> 76\u001b[0m \u001b[38;5;28;43meval\u001b[39;49m\u001b[43m(\u001b[49m\u001b[38;5;124;43m'\u001b[39;49m\u001b[38;5;124;43mseq_exp.\u001b[39;49m\u001b[38;5;124;43m'\u001b[39;49m\u001b[43m \u001b[49m\u001b[38;5;241;43m+\u001b[39;49m\u001b[43m \u001b[49m\u001b[43mexperiment_name\u001b[49m\u001b[43m)\u001b[49m\u001b[43m(\u001b[49m\u001b[43msoccfg\u001b[49m\u001b[38;5;241;43m=\u001b[39;49m\u001b[43msoc\u001b[49m\u001b[43m,\u001b[49m\u001b[43m \u001b[49m\u001b[43mpath\u001b[49m\u001b[38;5;241;43m=\u001b[39;49m\u001b[43mexpt_path\u001b[49m\u001b[43m,\u001b[49m\u001b[43m \u001b[49m\u001b[43mprefix\u001b[49m\u001b[38;5;241;43m=\u001b[39;49m\u001b[43mexperiment_name\u001b[49m\u001b[43m,\u001b[49m\u001b[43m \u001b[49m\u001b[43mconfig_file\u001b[49m\u001b[38;5;241;43m=\u001b[39;49m\u001b[43mconfig_path\u001b[49m\u001b[43m,\u001b[49m\u001b[43m \u001b[49m\u001b[43mexp_param_file\u001b[49m\u001b[38;5;241;43m=\u001b[39;49m\u001b[43mexp_param_file\u001b[49m\u001b[43m)\u001b[49m\n\u001b[0;32m     78\u001b[0m \u001b[38;5;66;03m#Option 3\u001b[39;00m\n\u001b[0;32m     79\u001b[0m \u001b[38;5;66;03m# class_for_exp = eval('seq_exp.' + experiment_class)(soccfg=soc, path=expt_path, prefix=experiment_name, config_file=config_path, exp_param_file=exp_param_file)\u001b[39;00m\n\u001b[0;32m     80\u001b[0m \u001b[38;5;66;03m# eval('class_for_exp.run_sweep')( sweep_experiment_name = experiment_name)\u001b[39;00m\n",
      "File \u001b[1;32mC:\\_Lib\\python\\multimode_expts\\sequential_experiment.py:2566\u001b[0m, in \u001b[0;36mlength_rabi_sweep\u001b[1;34m(soccfg, path, prefix, config_file, exp_param_file)\u001b[0m\n\u001b[0;32m   2558\u001b[0m run_exp\u001b[38;5;241m.\u001b[39mcfg\u001b[38;5;241m.\u001b[39mexpt \u001b[38;5;241m=\u001b[39m \u001b[38;5;28meval\u001b[39m(\u001b[38;5;124mf\u001b[39m\u001b[38;5;124m\"\u001b[39m\u001b[38;5;124mloaded[\u001b[39m\u001b[38;5;124m'\u001b[39m\u001b[38;5;132;01m{\u001b[39;00mexperiment_name\u001b[38;5;132;01m}\u001b[39;00m\u001b[38;5;124m'\u001b[39m\u001b[38;5;124m]\u001b[39m\u001b[38;5;124m\"\u001b[39m)\n\u001b[0;32m   2560\u001b[0m \u001b[38;5;66;03m# special updates on device_config file\u001b[39;00m\n\u001b[0;32m   2561\u001b[0m \u001b[38;5;66;03m# run_exp.cfg.device.readout.relax_delay = 1500 # Wait time between experiments [us]\u001b[39;00m\n\u001b[0;32m   2562\u001b[0m \u001b[38;5;66;03m# run_exp.cfg.device.readout.relax_delay = 300 # Wait time between experiments [us]\u001b[39;00m\n\u001b[0;32m   2563\u001b[0m \u001b[38;5;66;03m# run_exp.cfg.device.manipulate.readout_length = 5\u001b[39;00m\n\u001b[0;32m   2564\u001b[0m \u001b[38;5;66;03m# run_exp.cfg.device.storage.readout_length = 5\u001b[39;00m\n\u001b[1;32m-> 2566\u001b[0m \u001b[43mrun_exp\u001b[49m\u001b[38;5;241;43m.\u001b[39;49m\u001b[43mgo\u001b[49m\u001b[43m(\u001b[49m\u001b[43manalyze\u001b[49m\u001b[38;5;241;43m=\u001b[39;49m\u001b[38;5;28;43;01mFalse\u001b[39;49;00m\u001b[43m,\u001b[49m\u001b[43m \u001b[49m\u001b[43mdisplay\u001b[49m\u001b[38;5;241;43m=\u001b[39;49m\u001b[38;5;28;43;01mFalse\u001b[39;49;00m\u001b[43m,\u001b[49m\u001b[43m \u001b[49m\u001b[43mprogress\u001b[49m\u001b[38;5;241;43m=\u001b[39;49m\u001b[38;5;28;43;01mFalse\u001b[39;49;00m\u001b[43m,\u001b[49m\u001b[43m \u001b[49m\u001b[43msave\u001b[49m\u001b[38;5;241;43m=\u001b[39;49m\u001b[38;5;28;43;01mTrue\u001b[39;49;00m\u001b[43m)\u001b[49m\n",
      "File \u001b[1;32mC:\\_Lib\\python\\slab\\experiment.py:111\u001b[0m, in \u001b[0;36mExperiment.go\u001b[1;34m(self, save, analyze, display, progress)\u001b[0m\n\u001b[0;32m    108\u001b[0m \u001b[38;5;28;01mdef\u001b[39;00m\u001b[38;5;250m \u001b[39m\u001b[38;5;21mgo\u001b[39m(\u001b[38;5;28mself\u001b[39m, save\u001b[38;5;241m=\u001b[39m\u001b[38;5;28;01mFalse\u001b[39;00m, analyze\u001b[38;5;241m=\u001b[39m\u001b[38;5;28;01mFalse\u001b[39;00m, display\u001b[38;5;241m=\u001b[39m\u001b[38;5;28;01mFalse\u001b[39;00m, progress\u001b[38;5;241m=\u001b[39m\u001b[38;5;28;01mFalse\u001b[39;00m):\n\u001b[0;32m    109\u001b[0m     \u001b[38;5;66;03m# get data\u001b[39;00m\n\u001b[1;32m--> 111\u001b[0m     data\u001b[38;5;241m=\u001b[39m\u001b[38;5;28;43mself\u001b[39;49m\u001b[38;5;241;43m.\u001b[39;49m\u001b[43macquire\u001b[49m\u001b[43m(\u001b[49m\u001b[43mprogress\u001b[49m\u001b[43m)\u001b[49m\n\u001b[0;32m    112\u001b[0m     \u001b[38;5;28;01mif\u001b[39;00m analyze:\n\u001b[0;32m    113\u001b[0m         data\u001b[38;5;241m=\u001b[39m\u001b[38;5;28mself\u001b[39m\u001b[38;5;241m.\u001b[39manalyze(data)\n",
      "File \u001b[1;32mC:\\_Lib\\python\\multimode_expts\\experiments\\single_qubit\\length_rabi_general.py:296\u001b[0m, in \u001b[0;36mLengthRabiGeneralExperiment.acquire\u001b[1;34m(self, progress, debug)\u001b[0m\n\u001b[0;32m    294\u001b[0m \u001b[38;5;28;01mfor\u001b[39;00m length \u001b[38;5;129;01min\u001b[39;00m tqdm(lengths, disable\u001b[38;5;241m=\u001b[39m\u001b[38;5;129;01mnot\u001b[39;00m progress):\n\u001b[0;32m    295\u001b[0m     \u001b[38;5;28mself\u001b[39m\u001b[38;5;241m.\u001b[39mcfg\u001b[38;5;241m.\u001b[39mexpt\u001b[38;5;241m.\u001b[39mlength_placeholder \u001b[38;5;241m=\u001b[39m \u001b[38;5;28mfloat\u001b[39m(length)\n\u001b[1;32m--> 296\u001b[0m     lengthrabi \u001b[38;5;241m=\u001b[39m \u001b[43mLengthRabiGeneralProgram\u001b[49m\u001b[43m(\u001b[49m\n\u001b[0;32m    297\u001b[0m \u001b[43m        \u001b[49m\u001b[43msoccfg\u001b[49m\u001b[38;5;241;43m=\u001b[39;49m\u001b[38;5;28;43mself\u001b[39;49m\u001b[38;5;241;43m.\u001b[39;49m\u001b[43msoccfg\u001b[49m\u001b[43m,\u001b[49m\u001b[43m \u001b[49m\u001b[43mcfg\u001b[49m\u001b[38;5;241;43m=\u001b[39;49m\u001b[38;5;28;43mself\u001b[39;49m\u001b[38;5;241;43m.\u001b[39;49m\u001b[43mcfg\u001b[49m\u001b[43m)\u001b[49m\n\u001b[0;32m    298\u001b[0m     \u001b[38;5;28mself\u001b[39m\u001b[38;5;241m.\u001b[39mprog \u001b[38;5;241m=\u001b[39m lengthrabi\n\u001b[0;32m    299\u001b[0m     avgi, avgq \u001b[38;5;241m=\u001b[39m lengthrabi\u001b[38;5;241m.\u001b[39macquire(\n\u001b[0;32m    300\u001b[0m         \u001b[38;5;28mself\u001b[39m\u001b[38;5;241m.\u001b[39mim[\u001b[38;5;28mself\u001b[39m\u001b[38;5;241m.\u001b[39mcfg\u001b[38;5;241m.\u001b[39maliases\u001b[38;5;241m.\u001b[39msoc], threshold\u001b[38;5;241m=\u001b[39m\u001b[38;5;28;01mNone\u001b[39;00m, load_pulses\u001b[38;5;241m=\u001b[39m\u001b[38;5;28;01mTrue\u001b[39;00m, progress\u001b[38;5;241m=\u001b[39m\u001b[38;5;28;01mFalse\u001b[39;00m, debug\u001b[38;5;241m=\u001b[39mdebug)\n",
      "File \u001b[1;32mC:\\_Lib\\python\\multimode_expts\\experiments\\single_qubit\\length_rabi_general.py:25\u001b[0m, in \u001b[0;36mLengthRabiGeneralProgram.__init__\u001b[1;34m(self, soccfg, cfg)\u001b[0m\n\u001b[0;32m     22\u001b[0m \u001b[38;5;66;03m# copy over parameters for the acquire method\u001b[39;00m\n\u001b[0;32m     23\u001b[0m \u001b[38;5;28mself\u001b[39m\u001b[38;5;241m.\u001b[39mcfg\u001b[38;5;241m.\u001b[39mreps \u001b[38;5;241m=\u001b[39m cfg\u001b[38;5;241m.\u001b[39mexpt\u001b[38;5;241m.\u001b[39mreps\n\u001b[1;32m---> 25\u001b[0m \u001b[38;5;28;43msuper\u001b[39;49m\u001b[43m(\u001b[49m\u001b[43m)\u001b[49m\u001b[38;5;241;43m.\u001b[39;49m\u001b[38;5;21;43m__init__\u001b[39;49m\u001b[43m(\u001b[49m\u001b[43msoccfg\u001b[49m\u001b[43m,\u001b[49m\u001b[43m \u001b[49m\u001b[38;5;28;43mself\u001b[39;49m\u001b[38;5;241;43m.\u001b[39;49m\u001b[43mcfg\u001b[49m\u001b[43m)\u001b[49m\n",
      "File \u001b[1;32mC:\\_Lib\\python\\multimode_expts\\MM_base.py:885\u001b[0m, in \u001b[0;36mMMAveragerProgram.__init__\u001b[1;34m(self, soccfg, cfg)\u001b[0m\n\u001b[0;32m    884\u001b[0m \u001b[38;5;28;01mdef\u001b[39;00m\u001b[38;5;250m \u001b[39m\u001b[38;5;21m__init__\u001b[39m(\u001b[38;5;28mself\u001b[39m, soccfg, cfg):\n\u001b[1;32m--> 885\u001b[0m     \u001b[38;5;28;43msuper\u001b[39;49m\u001b[43m(\u001b[49m\u001b[43m)\u001b[49m\u001b[38;5;241;43m.\u001b[39;49m\u001b[38;5;21;43m__init__\u001b[39;49m\u001b[43m(\u001b[49m\u001b[43msoccfg\u001b[49m\u001b[43m,\u001b[49m\u001b[43m \u001b[49m\u001b[43mcfg\u001b[49m\u001b[43m)\u001b[49m\n",
      "File \u001b[1;32mC:\\_Lib\\python\\qick\\qick_lib\\qick\\averager_program.py:28\u001b[0m, in \u001b[0;36mAveragerProgram.__init__\u001b[1;34m(self, soccfg, cfg)\u001b[0m\n\u001b[0;32m     26\u001b[0m \u001b[38;5;28msuper\u001b[39m()\u001b[38;5;241m.\u001b[39m\u001b[38;5;21m__init__\u001b[39m(soccfg)\n\u001b[0;32m     27\u001b[0m \u001b[38;5;28mself\u001b[39m\u001b[38;5;241m.\u001b[39mcfg \u001b[38;5;241m=\u001b[39m cfg\n\u001b[1;32m---> 28\u001b[0m \u001b[38;5;28;43mself\u001b[39;49m\u001b[38;5;241;43m.\u001b[39;49m\u001b[43mmake_program\u001b[49m\u001b[43m(\u001b[49m\u001b[43m)\u001b[49m\n\u001b[0;32m     29\u001b[0m \u001b[38;5;28;01mif\u001b[39;00m \u001b[38;5;124m\"\u001b[39m\u001b[38;5;124msoft_avgs\u001b[39m\u001b[38;5;124m\"\u001b[39m \u001b[38;5;129;01min\u001b[39;00m cfg:\n\u001b[0;32m     30\u001b[0m     \u001b[38;5;28mself\u001b[39m\u001b[38;5;241m.\u001b[39mrounds \u001b[38;5;241m=\u001b[39m cfg[\u001b[38;5;124m'\u001b[39m\u001b[38;5;124msoft_avgs\u001b[39m\u001b[38;5;124m'\u001b[39m]\n",
      "File \u001b[1;32mC:\\_Lib\\python\\qick\\qick_lib\\qick\\averager_program.py:55\u001b[0m, in \u001b[0;36mAveragerProgram.make_program\u001b[1;34m(self)\u001b[0m\n\u001b[0;32m     53\u001b[0m rjj \u001b[38;5;241m=\u001b[39m \u001b[38;5;241m14\u001b[39m\n\u001b[0;32m     54\u001b[0m rcount \u001b[38;5;241m=\u001b[39m \u001b[38;5;241m15\u001b[39m\n\u001b[1;32m---> 55\u001b[0m \u001b[43mp\u001b[49m\u001b[38;5;241;43m.\u001b[39;49m\u001b[43minitialize\u001b[49m\u001b[43m(\u001b[49m\u001b[43m)\u001b[49m\n\u001b[0;32m     56\u001b[0m p\u001b[38;5;241m.\u001b[39mregwi(\u001b[38;5;241m0\u001b[39m, rcount, \u001b[38;5;241m0\u001b[39m)\n\u001b[0;32m     57\u001b[0m p\u001b[38;5;241m.\u001b[39mregwi(\u001b[38;5;241m0\u001b[39m, rjj, \u001b[38;5;28mself\u001b[39m\u001b[38;5;241m.\u001b[39mcfg[\u001b[38;5;124m'\u001b[39m\u001b[38;5;124mreps\u001b[39m\u001b[38;5;124m'\u001b[39m]\u001b[38;5;241m-\u001b[39m\u001b[38;5;241m1\u001b[39m)\n",
      "File \u001b[1;32mC:\\_Lib\\python\\multimode_expts\\experiments\\single_qubit\\length_rabi_general.py:47\u001b[0m, in \u001b[0;36mLengthRabiGeneralProgram.initialize\u001b[1;34m(self)\u001b[0m\n\u001b[0;32m     44\u001b[0m \u001b[38;5;28mself\u001b[39m\u001b[38;5;241m.\u001b[39mqubit_ch_types \u001b[38;5;241m=\u001b[39m cfg\u001b[38;5;241m.\u001b[39mhw\u001b[38;5;241m.\u001b[39msoc\u001b[38;5;241m.\u001b[39mdacs\u001b[38;5;241m.\u001b[39mqubit\u001b[38;5;241m.\u001b[39mtype\n\u001b[0;32m     46\u001b[0m \u001b[38;5;66;03m# get register page for qubit_chs\u001b[39;00m\n\u001b[1;32m---> 47\u001b[0m \u001b[38;5;28mself\u001b[39m\u001b[38;5;241m.\u001b[39mq_rps \u001b[38;5;241m=\u001b[39m [\u001b[38;5;28mself\u001b[39m\u001b[38;5;241m.\u001b[39mch_page(ch) \u001b[38;5;28;01mfor\u001b[39;00m ch \u001b[38;5;129;01min\u001b[39;00m \u001b[38;5;28mself\u001b[39m\u001b[38;5;241m.\u001b[39mqubit_chs]\n\u001b[0;32m     48\u001b[0m \u001b[38;5;28mself\u001b[39m\u001b[38;5;241m.\u001b[39mf_ge_reg \u001b[38;5;241m=\u001b[39m [\u001b[38;5;28mself\u001b[39m\u001b[38;5;241m.\u001b[39mfreq2reg(\n\u001b[0;32m     49\u001b[0m     cfg\u001b[38;5;241m.\u001b[39mdevice\u001b[38;5;241m.\u001b[39mqubit\u001b[38;5;241m.\u001b[39mf_ge[qTest], gen_ch\u001b[38;5;241m=\u001b[39m\u001b[38;5;28mself\u001b[39m\u001b[38;5;241m.\u001b[39mqubit_chs[qTest])]\n\u001b[0;32m     50\u001b[0m \u001b[38;5;28mself\u001b[39m\u001b[38;5;241m.\u001b[39mf_ef_reg \u001b[38;5;241m=\u001b[39m [\u001b[38;5;28mself\u001b[39m\u001b[38;5;241m.\u001b[39mfreq2reg(\n\u001b[0;32m     51\u001b[0m     cfg\u001b[38;5;241m.\u001b[39mdevice\u001b[38;5;241m.\u001b[39mqubit\u001b[38;5;241m.\u001b[39mf_ef[qTest], gen_ch\u001b[38;5;241m=\u001b[39m\u001b[38;5;28mself\u001b[39m\u001b[38;5;241m.\u001b[39mqubit_chs[qTest])]\n",
      "File \u001b[1;32mC:\\_Lib\\python\\multimode_expts\\experiments\\single_qubit\\length_rabi_general.py:47\u001b[0m, in \u001b[0;36m<listcomp>\u001b[1;34m(.0)\u001b[0m\n\u001b[0;32m     44\u001b[0m \u001b[38;5;28mself\u001b[39m\u001b[38;5;241m.\u001b[39mqubit_ch_types \u001b[38;5;241m=\u001b[39m cfg\u001b[38;5;241m.\u001b[39mhw\u001b[38;5;241m.\u001b[39msoc\u001b[38;5;241m.\u001b[39mdacs\u001b[38;5;241m.\u001b[39mqubit\u001b[38;5;241m.\u001b[39mtype\n\u001b[0;32m     46\u001b[0m \u001b[38;5;66;03m# get register page for qubit_chs\u001b[39;00m\n\u001b[1;32m---> 47\u001b[0m \u001b[38;5;28mself\u001b[39m\u001b[38;5;241m.\u001b[39mq_rps \u001b[38;5;241m=\u001b[39m [\u001b[38;5;28;43mself\u001b[39;49m\u001b[38;5;241;43m.\u001b[39;49m\u001b[43mch_page\u001b[49m\u001b[43m(\u001b[49m\u001b[43mch\u001b[49m\u001b[43m)\u001b[49m \u001b[38;5;28;01mfor\u001b[39;00m ch \u001b[38;5;129;01min\u001b[39;00m \u001b[38;5;28mself\u001b[39m\u001b[38;5;241m.\u001b[39mqubit_chs]\n\u001b[0;32m     48\u001b[0m \u001b[38;5;28mself\u001b[39m\u001b[38;5;241m.\u001b[39mf_ge_reg \u001b[38;5;241m=\u001b[39m [\u001b[38;5;28mself\u001b[39m\u001b[38;5;241m.\u001b[39mfreq2reg(\n\u001b[0;32m     49\u001b[0m     cfg\u001b[38;5;241m.\u001b[39mdevice\u001b[38;5;241m.\u001b[39mqubit\u001b[38;5;241m.\u001b[39mf_ge[qTest], gen_ch\u001b[38;5;241m=\u001b[39m\u001b[38;5;28mself\u001b[39m\u001b[38;5;241m.\u001b[39mqubit_chs[qTest])]\n\u001b[0;32m     50\u001b[0m \u001b[38;5;28mself\u001b[39m\u001b[38;5;241m.\u001b[39mf_ef_reg \u001b[38;5;241m=\u001b[39m [\u001b[38;5;28mself\u001b[39m\u001b[38;5;241m.\u001b[39mfreq2reg(\n\u001b[0;32m     51\u001b[0m     cfg\u001b[38;5;241m.\u001b[39mdevice\u001b[38;5;241m.\u001b[39mqubit\u001b[38;5;241m.\u001b[39mf_ef[qTest], gen_ch\u001b[38;5;241m=\u001b[39m\u001b[38;5;28mself\u001b[39m\u001b[38;5;241m.\u001b[39mqubit_chs[qTest])]\n",
      "File \u001b[1;32mC:\\_Lib\\python\\qick\\qick_lib\\qick\\qick_asm.py:1976\u001b[0m, in \u001b[0;36mQickProgram.ch_page\u001b[1;34m(self, gen_ch)\u001b[0m\n\u001b[0;32m   1962\u001b[0m \u001b[38;5;28;01mdef\u001b[39;00m\u001b[38;5;250m \u001b[39m\u001b[38;5;21mch_page\u001b[39m(\u001b[38;5;28mself\u001b[39m, gen_ch):\n\u001b[0;32m   1963\u001b[0m \u001b[38;5;250m    \u001b[39m\u001b[38;5;124;03m\"\"\"Gets tProc register page associated with generator channel.\u001b[39;00m\n\u001b[0;32m   1964\u001b[0m \n\u001b[0;32m   1965\u001b[0m \u001b[38;5;124;03m    Parameters\u001b[39;00m\n\u001b[1;32m   (...)\u001b[0m\n\u001b[0;32m   1974\u001b[0m \n\u001b[0;32m   1975\u001b[0m \u001b[38;5;124;03m    \"\"\"\u001b[39;00m\n\u001b[1;32m-> 1976\u001b[0m     tproc_ch \u001b[38;5;241m=\u001b[39m \u001b[38;5;28;43mself\u001b[39;49m\u001b[38;5;241;43m.\u001b[39;49m\u001b[43msoccfg\u001b[49m\u001b[43m[\u001b[49m\u001b[38;5;124;43m'\u001b[39;49m\u001b[38;5;124;43mgens\u001b[39;49m\u001b[38;5;124;43m'\u001b[39;49m\u001b[43m]\u001b[49m\u001b[43m[\u001b[49m\u001b[43mgen_ch\u001b[49m\u001b[43m]\u001b[49m[\u001b[38;5;124m'\u001b[39m\u001b[38;5;124mtproc_ch\u001b[39m\u001b[38;5;124m'\u001b[39m]\n\u001b[0;32m   1977\u001b[0m     \u001b[38;5;28;01mreturn\u001b[39;00m \u001b[38;5;28mself\u001b[39m\u001b[38;5;241m.\u001b[39m_ch_page_tproc(tproc_ch)\n",
      "\u001b[1;31mTypeError\u001b[0m: list indices must be integers or slices, not float"
     ]
    }
   ],
   "source": [
    "import multimode_expts.sequential_experiment as seq_exp\n",
    "\n",
    "experiment_name = 'length_rabi_sweep'\n",
    "# experiment_name = 'dc_flux_sweep'\n",
    "# experiment_name = 'length_rabi_f0g1_sweep'\n",
    "# experiment_name = 'manipulate_spectroscopy_dc_flux_sweep'\n",
    "# experiment_name = 'gain_displace_sweep'\n",
    "# experiment_name = 'sideband_general_sweep' # Deprecated\n",
    "\n",
    "# --------- Sideband Experiment -----------\n",
    "# experiment_class, experiment_name = 'sidebands_class', 'sideband_general_sweep'\n",
    "# experiment_class, experiment_name = 'sidebands_class', 'sideband_gain_freq_sweep'\n",
    "# experiment_class, experiment_name = 'sidebands_class', 'sideband_cross_kerr_cancellation'\n",
    "# experiment_name = 'single_shot_phase_sweep'\n",
    "# experiment_name = 'single_shot_freq_sweep'\n",
    "# experiment_name = 'HistogramExperiment_freq_sweep'\n",
    "# experiment_name = 'HistogramExperiment_ef_freq_sweep'\n",
    "# experiment_name = 'single_shot_time_sweep'\n",
    "# experiment_name = 'single_qubit_tomography'      # <--------------\n",
    "# experiment_name = 'SingleRB_sweep_freq'\n",
    "# experiment_name = 'SingleRB_sweep_pi_amp'\n",
    "# experiment_name = 'SingleRB_sweep_hpi_amp'\n",
    "# experiment_name = 'SingleRB_sweep_f0g1_phase'\n",
    "# experiment_name = 'SingleRB_sweep_de|pth_and_prepulse'\n",
    "# experiment_name = 'SingleRB_sweep_depth'\n",
    "# experiment_name = 'MultiRBAM_sweep_depth'\n",
    "# experiment_name = 'SingleBeamsplitterRB_sweep_depth'\n",
    "# experiment_name = 'SingleBeamSplitterRB_sweep_freq'\n",
    "# experiment_name = 'SingleBeamSplitterRB_gain_freq'\n",
    "# experiment_name = 'pulseprobe_f0g1_dc_flux_sweep'\n",
    "# experiment_name = 'PhaseSweepAverager_sweep_reps_middlepulse'\n",
    "# experiment_name = 'cavity_t1_dc_flux_sweep'\n",
    "# experiment_name = 'displace_enhanced_sweep'\n",
    "# experiment_name = 'fluxspectroscopy_f0g1_dc_flux_sweep'\n",
    "# experiment_name = 'storage_sideband_sweep'\n",
    "# experiment_name = 'sideband_fidelity_optimization'\n",
    "# experiment_name = 'storage_t1_optimization'\n",
    "# experiment_name = 'SingleBeamSplitterRBPostSelection_sweep_depth'#\n",
    "# experiment_name = 'SingleBeamSplitterRBPostSelection_sweep_depth_and_ram'\n",
    "# experiment_name = 'SingleBeamSplitterRBPostSelection_sweep_depth_and_single_spec'\n",
    "# experiment_name = 'DualRail_sweep_depth_and_single_spec_and_stor'\n",
    "# experiment_name = 'SingleBeamSplitterRBPostSelection_sweep_depth_storsweep'\n",
    "# experiment_name = 'SingleBeamSplitterRBPostSelection_sweep_depth_defined_storsweep'\n",
    "\n",
    "# experiment_name = 'ramsey_sweep'\n",
    "# experiment_name = 'cavity_ramsey_sweep'\n",
    "# experiment_name = 'manipulate_dc_flux_sweep'\n",
    "# experiment_name = 'rb_bs_optimization'\n",
    "# experiment_name = 'rb_bs_dual_rail_optimization'\n",
    "# experiment_name = 'cross_kerr_sweep'\n",
    "# experiment_name = 'single_dual_rail_tomography'\n",
    "# experiment_name = 'two_dual_rail_tomography'\n",
    "# experiment_name = 'cavity_t1_dc_flux_sweep_new'\n",
    "# experiment_name = 'cavity_temperature_sweep'\n",
    "# experiment_name = 'cavity_temperature_sweep_parity'\n",
    "# ---------------------- Dual Rail ----------------------\n",
    "# experiment_class, experiment_name = 'MM_dual_rail_seq_exp', 'SingleBeamSplitterRB_check_target_sweep_depth'\n",
    "# experiment_class, experiment_name = 'MM_dual_rail_seq_exp', 'SingleBeamSplitterRB_stor_ramsey_spec'\n",
    "# experiment_class, experiment_name = 'MM_dual_rail_seq_exp', 'SingleBeamSplitterRB_stor_ramsey_spec_for_sp_pairs'\n",
    "\n",
    "\n",
    "# ---------------------- Cavity RTamsey ----------------------\n",
    "# experiment_class, experiment_name = 'sweep_cavity_ramsey_expts', 'cavity_temperature_sweep_parity_with_without_reset'\n",
    "# experiment_class, experiment_name = 'sweep_cavity_ramsey_expts', 'cavity_ramsey_with_spectators'\n",
    "# experiment_class, experiment_name = 'sweep_cavity_ramsey_expts', 'stor_cavity_ramsey_sweep'\n",
    "\n",
    "# ---------------------- storage sweep-----------\n",
    "# experiment_class, experiment_name = 'storage_sweep_class', 'storage_t1_sweep'\n",
    "\n",
    "\n",
    "# # Option 1\n",
    "# class_for_exp = eval('seq_exp.' + experiment_class)()\n",
    "# eval('class_for_exp.' + experiment_name)(soccfg=soc, path=expt_path, prefix=experiment_name, config_file=config_path, exp_param_file=exp_param_file)\n",
    "\n",
    "# Option 2\n",
    "eval('seq_exp.' + experiment_name)(soccfg=soc, path=expt_path, prefix=experiment_name, config_file=config_path, exp_param_file=exp_param_file)\n",
    "\n",
    "#Option 3\n",
    "# class_for_exp = eval('seq_exp.' + experiment_class)(soccfg=soc, path=expt_path, prefix=experiment_name, config_file=config_path, exp_param_file=exp_param_file)\n",
    "# eval('class_for_exp.run_sweep')( sweep_experiment_name = experiment_name)\n"
   ]
  },
  {
   "cell_type": "code",
   "execution_count": null,
   "metadata": {},
   "outputs": [],
   "source": []
  },
  {
   "cell_type": "code",
   "execution_count": null,
   "metadata": {},
   "outputs": [],
   "source": []
  },
  {
   "cell_type": "code",
   "execution_count": null,
   "metadata": {},
   "outputs": [],
   "source": []
  },
  {
   "cell_type": "code",
   "execution_count": null,
   "metadata": {},
   "outputs": [],
   "source": []
  },
  {
   "cell_type": "code",
   "execution_count": null,
   "metadata": {},
   "outputs": [],
   "source": [
    "experiment_class = 'sidebands_class'\n",
    "class_for_exp = eval('seq_exp.' + experiment_class)(soccfg=soc, path=expt_path, prefix=experiment_name, config_file=config_path, exp_param_file=exp_param_file)"
   ]
  },
  {
   "cell_type": "code",
   "execution_count": null,
   "metadata": {},
   "outputs": [
    {
     "data": {
      "text/plain": [
       "<bound method sidebands_class.run_sweep of <multimode_expts.sequential_experiment.sidebands_class object at 0x0000028220427700>>"
      ]
     },
     "execution_count": 44,
     "metadata": {},
     "output_type": "execute_result"
    }
   ],
   "source": [
    "class_for_exp.run_sweep"
   ]
  },
  {
   "cell_type": "code",
   "execution_count": null,
   "metadata": {},
   "outputs": [
    {
     "data": {
      "text/plain": [
       "array([ 350.66,  522.23,  697.98,  877.38, 1054.95, 1246.52, 1424.27])"
      ]
     },
     "execution_count": 15,
     "metadata": {},
     "output_type": "execute_result"
    }
   ],
   "source": [
    "np.array([\n",
    "                    349.66, # 349.415, \n",
    "                    521.23, #520.925,\n",
    "                    696.98, #696.665,\n",
    "                    876.38, #875.845,\n",
    "                    1053.95, #1053.395,\n",
    "                    1245.52, # 1245.5, #1245.16,\n",
    "                    1423.27 #1423.04\n",
    "                    ]) + 1"
   ]
  },
  {
   "cell_type": "code",
   "execution_count": null,
   "metadata": {},
   "outputs": [
    {
     "ename": "TypeError",
     "evalue": "cavity_ramsey_with_spectators() got multiple values for argument 'soccfg'",
     "output_type": "error",
     "traceback": [
      "\u001b[1;31m---------------------------------------------------------------------------\u001b[0m",
      "\u001b[1;31mTypeError\u001b[0m                                 Traceback (most recent call last)",
      "Cell \u001b[1;32mIn[14], line 1\u001b[0m\n\u001b[1;32m----> 1\u001b[0m \u001b[43mclass_for_exp\u001b[49m\u001b[38;5;241;43m.\u001b[39;49m\u001b[43mcavity_ramsey_with_spectators\u001b[49m\u001b[43m(\u001b[49m\u001b[43msoccfg\u001b[49m\u001b[38;5;241;43m=\u001b[39;49m\u001b[43msoc\u001b[49m\u001b[43m,\u001b[49m\u001b[43m \u001b[49m\u001b[43mpath\u001b[49m\u001b[38;5;241;43m=\u001b[39;49m\u001b[43mexpt_path\u001b[49m\u001b[43m,\u001b[49m\u001b[43m \u001b[49m\u001b[43mprefix\u001b[49m\u001b[38;5;241;43m=\u001b[39;49m\u001b[43mexperiment_name\u001b[49m\u001b[43m,\u001b[49m\u001b[43m \u001b[49m\u001b[43mconfig_file\u001b[49m\u001b[38;5;241;43m=\u001b[39;49m\u001b[43mconfig_path\u001b[49m\u001b[43m,\u001b[49m\u001b[43m \u001b[49m\u001b[43mexp_param_file\u001b[49m\u001b[38;5;241;43m=\u001b[39;49m\u001b[43mexp_param_file\u001b[49m\u001b[43m)\u001b[49m\n",
      "\u001b[1;31mTypeError\u001b[0m: cavity_ramsey_with_spectators() got multiple values for argument 'soccfg'"
     ]
    }
   ],
   "source": [
    "class_for_exp.cavity_ramsey_with_spectators(soccfg=soc, path=expt_path, prefix=experiment_name, config_file=config_path, exp_param_file=exp_param_file)"
   ]
  },
  {
   "cell_type": "code",
   "execution_count": null,
   "metadata": {},
   "outputs": [
    {
     "data": {
      "text/plain": [
       "<qick.qick_asm.QickConfig at 0x28ddf8cfd90>"
      ]
     },
     "execution_count": 17,
     "metadata": {},
     "output_type": "execute_result"
    }
   ],
   "source": [
    "soc"
   ]
  },
  {
   "cell_type": "markdown",
   "metadata": {},
   "source": []
  },
  {
   "cell_type": "code",
   "execution_count": null,
   "metadata": {},
   "outputs": [
    {
     "data": {
      "text/plain": [
       "[[3568.497301707094, 3425.2997709216247, 2007.54],\n",
       " [10973, 9530, 15000],\n",
       " [0, 0, 0.6164057205175526],\n",
       " [0, 0, 0],\n",
       " [2, 2, 0],\n",
       " ['g', 'g', 'flat_top'],\n",
       " [0.035, 0.035, 0.005]]"
      ]
     },
     "execution_count": 90,
     "metadata": {},
     "output_type": "execute_result"
    }
   ],
   "source": [
    "from multimode_expts.MM_rb_base import  *\n",
    "\n",
    "f0g1_pulse_str = [['qubit', 'ge', 'pi', 0],\n",
    "                    ['qubit', 'ef', 'pi', 0],\n",
    "                    ['man', 'M1', 'pi', 0]]\n",
    "\n",
    "mm_base = MM_rb_base(cfg = yaml_cfg)\n",
    "creator = mm_base.get_prepulse_creator(f0g1_pulse_str)\n",
    "creator.pulse.tolist()\n"
   ]
  },
  {
   "cell_type": "code",
   "execution_count": null,
   "metadata": {},
   "outputs": [],
   "source": [
    "from MM_base import MM_base\n",
    "stor_no=1\n",
    "man_idx=1\n",
    "mm_base = MM_base(cfg = yaml_cfg)\n",
    "pre_sweep_pulse_str = [\n",
    "    ['man', 'M' + str(man_idx) , 'pi',0],\n",
    "                       ['qubit', 'ef', 'pi',0]]\n",
    "creator = mm_base.get_prepulse_creator(pre_sweep_pulse_str)\n",
    "a1 = creator.pulse.tolist()\n",
    "a1\n"
   ]
  },
  {
   "cell_type": "code",
   "execution_count": null,
   "metadata": {},
   "outputs": [
    {
     "data": {
      "text/plain": [
       "[[349.415, 3568.1515953227604, 3568.1515953227604, 3568.1515953227604],\n",
       " [3000, 5510, 0, 5510],\n",
       " [0.9771428571428572, 0, 1.6833333333333333, 0],\n",
       " [0, 0, 0, 0],\n",
       " [1, 2, 2, 2],\n",
       " ['flat_top', 'g', 'const', 'g'],\n",
       " [0.005, 0.035, 0.0, 0.035]]"
      ]
     },
     "execution_count": 42,
     "metadata": {},
     "output_type": "execute_result"
    }
   ],
   "source": [
    "from MM_base import MM_base\n",
    "stor_no=1\n",
    "man_idx=1\n",
    "mm_base = MM_base(cfg = yaml_cfg)\n",
    "pre_sweep_pulse_str = [['storage', 'M'+ str(man_idx) + '-S' + str(stor_no), 'pi',0],\n",
    "    ['qubit', 'ge', 'hpi',0], # Starting parity meas\n",
    "                ['qubit', 'ge', 'parity_M' + str(man_idx),0], \n",
    "                ['qubit', 'ge', 'hpi',0]]\n",
    "creator = mm_base.get_prepulse_creator(pre_sweep_pulse_str)\n",
    "a1 = creator.pulse.tolist()\n",
    "a1\n"
   ]
  },
  {
   "cell_type": "code",
   "execution_count": null,
   "metadata": {},
   "outputs": [
    {
     "data": {
      "text/plain": [
       "[[3568.1751638611518, 3425.5564066067, 2007.06, 349.415, 520.925, 520.925],\n",
       " [10716, 8236, 15000, 3000, 5000, 5000],\n",
       " [0, 0, 0.651287, 0.4885714285714285, 0.565451994946885, 0.565451994946885],\n",
       " [0, 0, 0, 0, 0, 0],\n",
       " [2, 2, 0, 1, 1, 1],\n",
       " ['g', 'g', 'flat_top', 'flat_top', 'flat_top', 'flat_top'],\n",
       " [0.035, 0.035, 0.005, 0.005, 0.005, 0.005]]"
      ]
     },
     "execution_count": 36,
     "metadata": {},
     "output_type": "execute_result"
    }
   ],
   "source": [
    "from MM_base import MM_base\n",
    "stor_no=[1,2]\n",
    "man_idx=1\n",
    "mm_base = MM_base(cfg = yaml_cfg)\n",
    "pre_sweep_pulse_str = [['qubit', 'ge', 'pi',0],\n",
    "                    ['qubit', 'ef', 'pi',0],\n",
    "                    ['man', 'M' + str(man_idx) , 'pi',0],\n",
    "                    ['storage', 'M'+ str(man_idx) + '-S' + str(stor_no[0]), 'hpi',0], \n",
    "                    ['storage', 'M'+ str(man_idx) + '-S' + str(stor_no[1]), 'hpi',0],\n",
    "                    ['storage', 'M'+ str(man_idx) + '-S' + str(stor_no[1]), 'hpi',0]]\n",
    "\n",
    "creator = mm_base.get_prepulse_creator(pre_sweep_pulse_str)\n",
    "a1 = creator.pulse.tolist()\n",
    "a1\n"
   ]
  },
  {
   "cell_type": "code",
   "execution_count": null,
   "metadata": {},
   "outputs": [
    {
     "data": {
      "text/plain": [
       "[[3568.1751638611518,\n",
       "  3425.5564066067,\n",
       "  2007.06,\n",
       "  349.415,\n",
       "  520.925,\n",
       "  520.925,\n",
       "  3568.1751638611518,\n",
       "  3425.5564066067,\n",
       "  2007.06,\n",
       "  696.665,\n",
       "  875.845,\n",
       "  875.845],\n",
       " [10716, 8236, 15000, 3000, 5000, 5000, 10716, 8236, 15000, 9000, 9000, 9000],\n",
       " [0,\n",
       "  0,\n",
       "  0.651287,\n",
       "  0.4885714285714285,\n",
       "  0.565451994946885,\n",
       "  0.565451994946885,\n",
       "  0,\n",
       "  0,\n",
       "  0.651287,\n",
       "  0.666955,\n",
       "  0.6271437312608766,\n",
       "  0.6271437312608766],\n",
       " [0, 0, 0, 0, 0, 0, 0, 0, 0, 0, 0, 0],\n",
       " [2, 2, 0, 1, 1, 1, 2, 2, 0, 1, 1, 1],\n",
       " ['g',\n",
       "  'g',\n",
       "  'flat_top',\n",
       "  'flat_top',\n",
       "  'flat_top',\n",
       "  'flat_top',\n",
       "  'g',\n",
       "  'g',\n",
       "  'flat_top',\n",
       "  'flat_top',\n",
       "  'flat_top',\n",
       "  'flat_top'],\n",
       " [0.035,\n",
       "  0.035,\n",
       "  0.005,\n",
       "  0.005,\n",
       "  0.005,\n",
       "  0.005,\n",
       "  0.035,\n",
       "  0.035,\n",
       "  0.005,\n",
       "  0.005,\n",
       "  0.005,\n",
       "  0.005]]"
      ]
     },
     "execution_count": 43,
     "metadata": {},
     "output_type": "execute_result"
    }
   ],
   "source": [
    "from MM_base import MM_base\n",
    "stor_no=[[1,2],[3,4]]\n",
    "man_idx=1\n",
    "mm_base = MM_base(cfg = yaml_cfg)\n",
    "pre_sweep_pulse_str = [['qubit', 'ge', 'pi',0],\n",
    "                    ['qubit', 'ef', 'pi',0],\n",
    "                    ['man', 'M' + str(man_idx) , 'pi',0],\n",
    "                    ['storage', 'M'+ str(man_idx) + '-S' + str(stor_no[0][0]), 'hpi',0], \n",
    "                    ['storage', 'M'+ str(man_idx) + '-S' + str(stor_no[0][1]), 'hpi',0],\n",
    "                    ['storage', 'M'+ str(man_idx) + '-S' + str(stor_no[0][1]), 'hpi',0],\n",
    "                    ['qubit', 'ge', 'pi',0],\n",
    "                    ['qubit', 'ef', 'pi',0],\n",
    "                    ['man', 'M' + str(man_idx) , 'pi',0],\n",
    "                    ['storage', 'M'+ str(man_idx) + '-S' + str(stor_no[1][0]), 'hpi',0], \n",
    "                    ['storage', 'M'+ str(man_idx) + '-S' + str(stor_no[1][1]), 'hpi',0], \n",
    "                    ['storage', 'M'+ str(man_idx) + '-S' + str(stor_no[1][1]), 'hpi',0]]\n",
    "\n",
    "creator = mm_base.get_prepulse_creator(pre_sweep_pulse_str)\n",
    "a1 = creator.pulse.tolist()\n",
    "a1"
   ]
  },
  {
   "cell_type": "code",
   "execution_count": null,
   "metadata": {},
   "outputs": [],
   "source": [
    "stor_no=[3,4]\n",
    "man_idx=1\n",
    "post_selection_pulse_str = [['storage', 'M'+ str(man_idx) + '-S' + str(stor_no[0]), 'hpi',0], \n",
    "                    ['storage', 'M'+ str(man_idx) + '-S' + str(stor_no[0]), 'hpi',0],\n",
    "                ['qubit', 'ge', 'hpi',0], # Starting parity meas\n",
    "                ['qubit', 'ge', 'parity_M' + str(man_idx),0], \n",
    "                ['qubit', 'ge', 'hpi',0]]# measure]\n",
    "creator = mm_base.get_prepulse_creator(post_selection_pulse_str)\n",
    "I_gate1 = creator.pulse.tolist()\n",
    "post_selection_pulse_str = [\n",
    "                ['storage', 'M'+ str(man_idx) + '-S' + str(stor_no[1]), 'hpi',0], \n",
    "                    ['storage', 'M'+ str(man_idx) + '-S' + str(stor_no[1]), 'hpi',0],\n",
    "                ['qubit', 'ge', 'hpi',0], # Starting parity meas\n",
    "                ['qubit', 'ge', 'parity_M' + str(man_idx),0], \n",
    "                ['qubit', 'ge', 'hpi',0]]# measure]\n",
    "creator = mm_base.get_prepulse_creator(post_selection_pulse_str)\n",
    "I_gate2 = creator.pulse.tolist()\n",
    "\n",
    "\n",
    "I_gate = [I_gate1, I_gate2]\n",
    "\n",
    "post_selection_pulse_str = [['storage', 'M'+ str(man_idx) + '-S' + str(stor_no[0]), 'hpi',0], \n",
    "                    ['storage', 'M'+ str(man_idx) + '-S' + str(stor_no[0]), 'hpi',0],\n",
    "                ['storage', 'M'+ str(man_idx) + '-S' + str(stor_no[1]), 'hpi',0], \n",
    "                ['qubit', 'ge', 'hpi',0], # Starting parity meas\n",
    "                ['qubit', 'ge', 'parity_M' + str(man_idx),0], \n",
    "                ['qubit', 'ge', 'hpi',0]]\n",
    "creator = mm_base.get_prepulse_creator(post_selection_pulse_str)\n",
    "X_gate1 = creator.pulse.tolist()\n",
    "post_selection_pulse_str = [['storage', 'M'+ str(man_idx) + '-S' + str(stor_no[1]), 'hpi',0], \n",
    "                    ['storage', 'M'+ str(man_idx) + '-S' + str(stor_no[1]), 'hpi',0],\n",
    "                ['qubit', 'ge', 'hpi',0], # Starting parity meas\n",
    "                ['qubit', 'ge', 'parity_M' + str(man_idx),0], \n",
    "                ['qubit', 'ge', 'hpi',0]]\n",
    "creator = mm_base.get_prepulse_creator(post_selection_pulse_str)\n",
    "X_gate2 = creator.pulse.tolist()\n",
    "\n",
    "X_gate = [X_gate1, X_gate2]\n",
    "\n",
    "post_selection_pulse_str = [['storage', 'M'+ str(man_idx) + '-S' + str(stor_no[0]), 'hpi',0], \n",
    "                    ['storage', 'M'+ str(man_idx) + '-S' + str(stor_no[0]), 'hpi',0],\n",
    "                ['storage', 'M'+ str(man_idx) + '-S' + str(stor_no[1]), 'hpi',90], \n",
    "                ['qubit', 'ge', 'hpi',0], # Starting parity meas\n",
    "                ['qubit', 'ge', 'parity_M' + str(man_idx),0], \n",
    "                ['qubit', 'ge', 'hpi',0]]\n",
    "creator = mm_base.get_prepulse_creator(post_selection_pulse_str)\n",
    "Y_gate1 = creator.pulse.tolist()\n",
    "post_selection_pulse_str = [['storage', 'M'+ str(man_idx) + '-S' + str(stor_no[1]), 'hpi',0], \n",
    "                    ['storage', 'M'+ str(man_idx) + '-S' + str(stor_no[1]), 'hpi',0],\n",
    "                ['qubit', 'ge', 'hpi',0], # Starting parity meas\n",
    "                ['qubit', 'ge', 'parity_M' + str(man_idx),0], \n",
    "                ['qubit', 'ge', 'hpi',0]]\n",
    "creator = mm_base.get_prepulse_creator(post_selection_pulse_str)\n",
    "Y_gate2 = creator.pulse.tolist()\n",
    "\n",
    "Y_gate = [Y_gate1, Y_gate2]"
   ]
  },
  {
   "cell_type": "markdown",
   "metadata": {},
   "source": [
    "# Prepulse and Postpulse generator"
   ]
  },
  {
   "cell_type": "markdown",
   "metadata": {},
   "source": [
    "## Dataset"
   ]
  },
  {
   "cell_type": "code",
   "execution_count": 106,
   "metadata": {},
   "outputs": [],
   "source": [
    "from dataset import * \n",
    "from dataset import storage_man_swap_dataset\n"
   ]
  },
  {
   "cell_type": "code",
   "execution_count": null,
   "metadata": {},
   "outputs": [],
   "source": []
  },
  {
   "cell_type": "code",
   "execution_count": 107,
   "metadata": {},
   "outputs": [
    {
     "data": {
      "text/html": [
       "<div>\n",
       "<style scoped>\n",
       "    .dataframe tbody tr th:only-of-type {\n",
       "        vertical-align: middle;\n",
       "    }\n",
       "\n",
       "    .dataframe tbody tr th {\n",
       "        vertical-align: top;\n",
       "    }\n",
       "\n",
       "    .dataframe thead th {\n",
       "        text-align: right;\n",
       "    }\n",
       "</style>\n",
       "<table border=\"1\" class=\"dataframe\">\n",
       "  <thead>\n",
       "    <tr style=\"text-align: right;\">\n",
       "      <th></th>\n",
       "      <th>stor_name</th>\n",
       "      <th>freq (MHz)</th>\n",
       "      <th>precision (MHz)</th>\n",
       "      <th>pi (mus)</th>\n",
       "      <th>h_pi (mus)</th>\n",
       "      <th>gain (DAC units)</th>\n",
       "      <th>last_update</th>\n",
       "    </tr>\n",
       "  </thead>\n",
       "  <tbody>\n",
       "    <tr>\n",
       "      <th>0</th>\n",
       "      <td>M1-S1</td>\n",
       "      <td>349.110</td>\n",
       "      <td>NaN</td>\n",
       "      <td>0.813627</td>\n",
       "      <td>0.360513</td>\n",
       "      <td>3000</td>\n",
       "      <td>2025-05-22 16:05:21.623488</td>\n",
       "    </tr>\n",
       "    <tr>\n",
       "      <th>1</th>\n",
       "      <td>M1-S2</td>\n",
       "      <td>520.610</td>\n",
       "      <td>NaN</td>\n",
       "      <td>0.165878</td>\n",
       "      <td>0.080903</td>\n",
       "      <td>5000</td>\n",
       "      <td>2025-05-22 15:50:43.604290</td>\n",
       "    </tr>\n",
       "    <tr>\n",
       "      <th>2</th>\n",
       "      <td>M1-S3</td>\n",
       "      <td>696.350</td>\n",
       "      <td>NaN</td>\n",
       "      <td>1.122884</td>\n",
       "      <td>0.512333</td>\n",
       "      <td>9000</td>\n",
       "      <td>2025-05-22 15:50:34.895075</td>\n",
       "    </tr>\n",
       "    <tr>\n",
       "      <th>3</th>\n",
       "      <td>M1-S4</td>\n",
       "      <td>875.285</td>\n",
       "      <td>NaN</td>\n",
       "      <td>1.068157</td>\n",
       "      <td>0.488362</td>\n",
       "      <td>9000</td>\n",
       "      <td>2025-05-22 15:54:56.582975</td>\n",
       "    </tr>\n",
       "    <tr>\n",
       "      <th>4</th>\n",
       "      <td>M1-S5</td>\n",
       "      <td>1053.040</td>\n",
       "      <td>NaN</td>\n",
       "      <td>1.744303</td>\n",
       "      <td>0.833387</td>\n",
       "      <td>7500</td>\n",
       "      <td>2025-05-22 15:55:49.320754</td>\n",
       "    </tr>\n",
       "    <tr>\n",
       "      <th>5</th>\n",
       "      <td>M1-S6</td>\n",
       "      <td>1244.860</td>\n",
       "      <td>NaN</td>\n",
       "      <td>1.388454</td>\n",
       "      <td>0.652345</td>\n",
       "      <td>13500</td>\n",
       "      <td>2025-05-22 15:56:51.940958</td>\n",
       "    </tr>\n",
       "    <tr>\n",
       "      <th>6</th>\n",
       "      <td>M1-S7</td>\n",
       "      <td>1422.660</td>\n",
       "      <td>NaN</td>\n",
       "      <td>1.993553</td>\n",
       "      <td>0.948300</td>\n",
       "      <td>10000</td>\n",
       "      <td>2025-05-22 15:57:38.027389</td>\n",
       "    </tr>\n",
       "    <tr>\n",
       "      <th>7</th>\n",
       "      <td>M1-S8</td>\n",
       "      <td>-1.000</td>\n",
       "      <td>-1.00</td>\n",
       "      <td>-1.000000</td>\n",
       "      <td>-1.000000</td>\n",
       "      <td>-1</td>\n",
       "      <td>51:31.3</td>\n",
       "    </tr>\n",
       "    <tr>\n",
       "      <th>8</th>\n",
       "      <td>M1-S9</td>\n",
       "      <td>-1.000</td>\n",
       "      <td>-1.00</td>\n",
       "      <td>-1.000000</td>\n",
       "      <td>-1.000000</td>\n",
       "      <td>-1</td>\n",
       "      <td>51:31.3</td>\n",
       "    </tr>\n",
       "    <tr>\n",
       "      <th>9</th>\n",
       "      <td>M1-S10</td>\n",
       "      <td>-1.000</td>\n",
       "      <td>-1.00</td>\n",
       "      <td>-1.000000</td>\n",
       "      <td>-1.000000</td>\n",
       "      <td>-1</td>\n",
       "      <td>51:31.3</td>\n",
       "    </tr>\n",
       "    <tr>\n",
       "      <th>10</th>\n",
       "      <td>M1-S11</td>\n",
       "      <td>-1.000</td>\n",
       "      <td>-1.00</td>\n",
       "      <td>-1.000000</td>\n",
       "      <td>-1.000000</td>\n",
       "      <td>-1</td>\n",
       "      <td>51:31.3</td>\n",
       "    </tr>\n",
       "    <tr>\n",
       "      <th>11</th>\n",
       "      <td>M1-S12</td>\n",
       "      <td>-1.000</td>\n",
       "      <td>-1.00</td>\n",
       "      <td>-1.000000</td>\n",
       "      <td>-1.000000</td>\n",
       "      <td>-1</td>\n",
       "      <td>51:31.3</td>\n",
       "    </tr>\n",
       "    <tr>\n",
       "      <th>12</th>\n",
       "      <td>M1</td>\n",
       "      <td>2008.975</td>\n",
       "      <td>NaN</td>\n",
       "      <td>0.630303</td>\n",
       "      <td>0.310483</td>\n",
       "      <td>15000</td>\n",
       "      <td>2025-05-22 11:41:48.460289</td>\n",
       "    </tr>\n",
       "    <tr>\n",
       "      <th>13</th>\n",
       "      <td>M2</td>\n",
       "      <td>1834.950</td>\n",
       "      <td>0.01</td>\n",
       "      <td>1.054456</td>\n",
       "      <td>0.520515</td>\n",
       "      <td>15000</td>\n",
       "      <td>2025-04-30 11:22:11.432806</td>\n",
       "    </tr>\n",
       "    <tr>\n",
       "      <th>14</th>\n",
       "      <td>M2-S1</td>\n",
       "      <td>175.630</td>\n",
       "      <td>0.01</td>\n",
       "      <td>2.173484</td>\n",
       "      <td>1.086742</td>\n",
       "      <td>1000</td>\n",
       "      <td>28:20.8</td>\n",
       "    </tr>\n",
       "    <tr>\n",
       "      <th>15</th>\n",
       "      <td>M2-S2</td>\n",
       "      <td>346.840</td>\n",
       "      <td>0.01</td>\n",
       "      <td>0.908835</td>\n",
       "      <td>0.454417</td>\n",
       "      <td>5000</td>\n",
       "      <td>33:56.1</td>\n",
       "    </tr>\n",
       "    <tr>\n",
       "      <th>16</th>\n",
       "      <td>M2-S3</td>\n",
       "      <td>523.220</td>\n",
       "      <td>0.01</td>\n",
       "      <td>1.561615</td>\n",
       "      <td>0.780808</td>\n",
       "      <td>5000</td>\n",
       "      <td>22:30.3</td>\n",
       "    </tr>\n",
       "    <tr>\n",
       "      <th>17</th>\n",
       "      <td>M2-S4</td>\n",
       "      <td>702.650</td>\n",
       "      <td>0.01</td>\n",
       "      <td>1.386764</td>\n",
       "      <td>0.693382</td>\n",
       "      <td>9000</td>\n",
       "      <td>25:33.1</td>\n",
       "    </tr>\n",
       "    <tr>\n",
       "      <th>18</th>\n",
       "      <td>M2-S5</td>\n",
       "      <td>878.780</td>\n",
       "      <td>0.01</td>\n",
       "      <td>1.303372</td>\n",
       "      <td>0.651686</td>\n",
       "      <td>13500</td>\n",
       "      <td>00:05.4</td>\n",
       "    </tr>\n",
       "    <tr>\n",
       "      <th>19</th>\n",
       "      <td>M2-S6</td>\n",
       "      <td>1070.100</td>\n",
       "      <td>0.01</td>\n",
       "      <td>2.379622</td>\n",
       "      <td>1.189811</td>\n",
       "      <td>9000</td>\n",
       "      <td>30:59.0</td>\n",
       "    </tr>\n",
       "    <tr>\n",
       "      <th>20</th>\n",
       "      <td>M2-S7</td>\n",
       "      <td>1249.700</td>\n",
       "      <td>0.01</td>\n",
       "      <td>1.796981</td>\n",
       "      <td>0.898491</td>\n",
       "      <td>12000</td>\n",
       "      <td>56:07.5</td>\n",
       "    </tr>\n",
       "    <tr>\n",
       "      <th>21</th>\n",
       "      <td>M2-M1</td>\n",
       "      <td>173.790</td>\n",
       "      <td>0.01</td>\n",
       "      <td>0.463481</td>\n",
       "      <td>0.231741</td>\n",
       "      <td>2000</td>\n",
       "      <td>2024-10-06 01:47:25.946153</td>\n",
       "    </tr>\n",
       "    <tr>\n",
       "      <th>22</th>\n",
       "      <td>M1-D1</td>\n",
       "      <td>2313.440</td>\n",
       "      <td>0.01</td>\n",
       "      <td>10.000000</td>\n",
       "      <td>0.000000</td>\n",
       "      <td>5000</td>\n",
       "      <td>2025-01-23 14:54:56.384507</td>\n",
       "    </tr>\n",
       "    <tr>\n",
       "      <th>23</th>\n",
       "      <td>M2-D2</td>\n",
       "      <td>2094.050</td>\n",
       "      <td>0.01</td>\n",
       "      <td>15.000000</td>\n",
       "      <td>0.000000</td>\n",
       "      <td>8000</td>\n",
       "      <td>2025-01-23 17:22:53.776061</td>\n",
       "    </tr>\n",
       "    <tr>\n",
       "      <th>24</th>\n",
       "      <td>M1-C</td>\n",
       "      <td>973.230</td>\n",
       "      <td>0.02</td>\n",
       "      <td>0.251127</td>\n",
       "      <td>0.122354</td>\n",
       "      <td>1000</td>\n",
       "      <td>2025-01-20 09:34:00.029234</td>\n",
       "    </tr>\n",
       "    <tr>\n",
       "      <th>25</th>\n",
       "      <td>M1_ce</td>\n",
       "      <td>2008.780</td>\n",
       "      <td>0.02</td>\n",
       "      <td>0.617915</td>\n",
       "      <td>0.304523</td>\n",
       "      <td>15000</td>\n",
       "      <td>2025-01-20 09:52:35.311227</td>\n",
       "    </tr>\n",
       "  </tbody>\n",
       "</table>\n",
       "</div>"
      ],
      "text/plain": [
       "   stor_name  freq (MHz)  precision (MHz)   pi (mus)  h_pi (mus)  \\\n",
       "0      M1-S1     349.110              NaN   0.813627    0.360513   \n",
       "1      M1-S2     520.610              NaN   0.165878    0.080903   \n",
       "2      M1-S3     696.350              NaN   1.122884    0.512333   \n",
       "3      M1-S4     875.285              NaN   1.068157    0.488362   \n",
       "4      M1-S5    1053.040              NaN   1.744303    0.833387   \n",
       "5      M1-S6    1244.860              NaN   1.388454    0.652345   \n",
       "6      M1-S7    1422.660              NaN   1.993553    0.948300   \n",
       "7      M1-S8      -1.000            -1.00  -1.000000   -1.000000   \n",
       "8      M1-S9      -1.000            -1.00  -1.000000   -1.000000   \n",
       "9     M1-S10      -1.000            -1.00  -1.000000   -1.000000   \n",
       "10    M1-S11      -1.000            -1.00  -1.000000   -1.000000   \n",
       "11    M1-S12      -1.000            -1.00  -1.000000   -1.000000   \n",
       "12        M1    2008.975              NaN   0.630303    0.310483   \n",
       "13        M2    1834.950             0.01   1.054456    0.520515   \n",
       "14     M2-S1     175.630             0.01   2.173484    1.086742   \n",
       "15     M2-S2     346.840             0.01   0.908835    0.454417   \n",
       "16     M2-S3     523.220             0.01   1.561615    0.780808   \n",
       "17     M2-S4     702.650             0.01   1.386764    0.693382   \n",
       "18     M2-S5     878.780             0.01   1.303372    0.651686   \n",
       "19     M2-S6    1070.100             0.01   2.379622    1.189811   \n",
       "20     M2-S7    1249.700             0.01   1.796981    0.898491   \n",
       "21     M2-M1     173.790             0.01   0.463481    0.231741   \n",
       "22     M1-D1    2313.440             0.01  10.000000    0.000000   \n",
       "23     M2-D2    2094.050             0.01  15.000000    0.000000   \n",
       "24      M1-C     973.230             0.02   0.251127    0.122354   \n",
       "25     M1_ce    2008.780             0.02   0.617915    0.304523   \n",
       "\n",
       "    gain (DAC units)                 last_update  \n",
       "0               3000  2025-05-22 16:05:21.623488  \n",
       "1               5000  2025-05-22 15:50:43.604290  \n",
       "2               9000  2025-05-22 15:50:34.895075  \n",
       "3               9000  2025-05-22 15:54:56.582975  \n",
       "4               7500  2025-05-22 15:55:49.320754  \n",
       "5              13500  2025-05-22 15:56:51.940958  \n",
       "6              10000  2025-05-22 15:57:38.027389  \n",
       "7                 -1                     51:31.3  \n",
       "8                 -1                     51:31.3  \n",
       "9                 -1                     51:31.3  \n",
       "10                -1                     51:31.3  \n",
       "11                -1                     51:31.3  \n",
       "12             15000  2025-05-22 11:41:48.460289  \n",
       "13             15000  2025-04-30 11:22:11.432806  \n",
       "14              1000                     28:20.8  \n",
       "15              5000                     33:56.1  \n",
       "16              5000                     22:30.3  \n",
       "17              9000                     25:33.1  \n",
       "18             13500                     00:05.4  \n",
       "19              9000                     30:59.0  \n",
       "20             12000                     56:07.5  \n",
       "21              2000  2024-10-06 01:47:25.946153  \n",
       "22              5000  2025-01-23 14:54:56.384507  \n",
       "23              8000  2025-01-23 17:22:53.776061  \n",
       "24              1000  2025-01-20 09:34:00.029234  \n",
       "25             15000  2025-01-20 09:52:35.311227  "
      ]
     },
     "execution_count": 107,
     "metadata": {},
     "output_type": "execute_result"
    }
   ],
   "source": [
    "dataset = storage_man_swap_dataset('man1_storage_swap_dataset.csv')\n",
    "dataset.df"
   ]
  },
  {
   "cell_type": "markdown",
   "metadata": {},
   "source": [
    "## Adding dump and coupler swaps to the dataset"
   ]
  },
  {
   "cell_type": "code",
   "execution_count": null,
   "metadata": {},
   "outputs": [
    {
     "name": "stderr",
     "output_type": "stream",
     "text": [
      "C:\\_Lib\\python\\multimode_expts\\dataset.py:92: FutureWarning: The frame.append method is deprecated and will be removed from pandas in a future version. Use pandas.concat instead.\n",
      "  self.df = self.df.append(new_row, ignore_index=True)\n",
      "C:\\_Lib\\python\\multimode_expts\\dataset.py:92: FutureWarning: The frame.append method is deprecated and will be removed from pandas in a future version. Use pandas.concat instead.\n",
      "  self.df = self.df.append(new_row, ignore_index=True)\n",
      "C:\\_Lib\\python\\multimode_expts\\dataset.py:92: FutureWarning: The frame.append method is deprecated and will be removed from pandas in a future version. Use pandas.concat instead.\n",
      "  self.df = self.df.append(new_row, ignore_index=True)\n"
     ]
    }
   ],
   "source": [
    "# ##[2313.3, 5000, , 2, 2], \n",
    "# #[2093.9, , 15, 2, 2] \n",
    "ds = dataset\n",
    "# M1-D1\n",
    "ds.append_dataset('M1-D1', 2313.3, 0.01, 10, 0, 5000)\n",
    "#M2 - D2\n",
    "ds.append_dataset('M2-D2', 2093.9, 0.01, 15, 0, 8000)\n",
    "# M1-C (coupler)\n",
    "ds.append_dataset('M1-C', 944.25, 0.01, 0.316677658, 0.158422064, 1000)"
   ]
  },
  {
   "cell_type": "markdown",
   "metadata": {},
   "source": [
    "## New Creator"
   ]
  },
  {
   "cell_type": "code",
   "execution_count": 108,
   "metadata": {},
   "outputs": [
    {
     "data": {
      "text/plain": [
       "[[3569.4198176358545,\n",
       "  3426.2975766655427,\n",
       "  2008.975,\n",
       "  3426.2975766655427,\n",
       "  3569.4198176358545],\n",
       " [11165, 8627, 15000, 8627, 11165],\n",
       " [0.0, 0.0, 0.6303030824111784, 0.0, 0.0],\n",
       " [0, 0, 0, 0, 0],\n",
       " [2, 2, 0, 2, 2],\n",
       " ['g', 'g', 'flat_top', 'g', 'g'],\n",
       " [0.035, 0.035, 0.005, 0.035, 0.035]]"
      ]
     },
     "execution_count": 108,
     "metadata": {},
     "output_type": "execute_result"
    }
   ],
   "source": [
    "from multimode_expts.MM_base import *\n",
    "mm_base = MM_base(cfg = yaml_cfg)\n",
    "\n",
    "man_idx = 1\n",
    "stor_id = [1,2]\n",
    "\n",
    "## Parity Meas\n",
    "parity_str = [['qubit', 'ge', 'hpi', 0 ], # Starting parity meas\n",
    "                ['qubit', 'ge', 'parity_M' + str(man_idx), 0 ], \n",
    "                ['qubit', 'ge', 'hpi', 0 ], \n",
    "                ]\n",
    "\n",
    "# parity_str_multiple\n",
    "\n",
    "## Prepapre Man1 photon\n",
    "prep_man_pi = [\n",
    "                ['qubit', 'ge', 'pi', 0],\n",
    "                ['qubit', 'ef', 'pi', 0],\n",
    "                ['man', 'M1', 'pi', 0]\n",
    "            ]\n",
    "post_f0g1_str_for_ramsey = [['man', 'M1', 'pi', 0],\n",
    "                ['qubit', 'ef', 'pi', 0], \n",
    "                ['qubit', 'ge', 'hpi', 0]]\n",
    "storage = [['storage', 'M1-S1', 'pi', 0]   ]\n",
    "\n",
    "man = [['man', 'M1', 'pi', 0]   ]\n",
    "\n",
    "prep_stor = [\n",
    "                ['qubit', 'ge', 'hpi', 0],\n",
    "                ['qubit', 'ef', 'pi', 0],\n",
    "                # ['man', 'M1', 'pi', 0],\n",
    "                # ['storage', 'M1-S3', 'pi', 0]  ,\n",
    "                   ]\n",
    "\n",
    "new_pulse =[['qubit', 'ge', 'pi', 0],\n",
    "                    ['qubit', 'ef', 'pi', 0],\n",
    "                    ['man', 'M1', 'pi', 0],\n",
    "                    \n",
    "                    # ['man', 'M1', 'pi', 0],\n",
    "                    ['qubit', 'ef', 'pi', 0],\n",
    "                    ['qubit', 'ge', 'pi', 0]]\n",
    "\n",
    "    \n",
    "creator = mm_base.get_prepulse_creator( new_pulse)\n",
    "creator.pulse.tolist()\n",
    "# pulse_str"
   ]
  },
  {
   "cell_type": "code",
   "execution_count": null,
   "metadata": {},
   "outputs": [
    {
     "data": {
      "text/plain": [
       "['storage', 'M1-S2', 'pi', 0]"
      ]
     },
     "execution_count": 20,
     "metadata": {},
     "output_type": "execute_result"
    }
   ],
   "source": [
    "prep_stor[-1]"
   ]
  },
  {
   "cell_type": "code",
   "execution_count": 27,
   "metadata": {},
   "outputs": [
    {
     "data": {
      "text/plain": [
       "143"
      ]
     },
     "execution_count": 27,
     "metadata": {},
     "output_type": "execute_result"
    }
   ],
   "source": [
    "3571 - 3428"
   ]
  },
  {
   "cell_type": "markdown",
   "metadata": {},
   "source": [
    "# Ramp Current"
   ]
  },
  {
   "cell_type": "code",
   "execution_count": 45,
   "metadata": {},
   "outputs": [],
   "source": [
    "# coupler\n",
    "dcflux = YokogawaGS200(address=\"192.168.137.148\")\n",
    "dcflux.set_output(True)\n",
    "dcflux.set_mode('current')\n",
    "dcflux.ramp_current(0.000, sweeprate=0.0001)\n",
    "dcflux.ramp_current(0.00032, sweeprate=0.0001)"
   ]
  },
  {
   "cell_type": "code",
   "execution_count": null,
   "metadata": {},
   "outputs": [],
   "source": [
    "# jpa\n",
    "dcflux = YokogawaGS200(address=\"192.168.137.149\")\n",
    "dcflux.set_output(True)\n",
    "dcflux.set_mode('current')\n",
    "# dcflux.ramp_current(0.000, sweeprate=0.0001)\n",
    "dcflux.ramp_current(3.800, sweeprate=0.0001)"
   ]
  },
  {
   "cell_type": "code",
   "execution_count": 46,
   "metadata": {},
   "outputs": [
    {
     "data": {
      "text/plain": [
       "1879597607920"
      ]
     },
     "execution_count": 46,
     "metadata": {},
     "output_type": "execute_result"
    }
   ],
   "source": [
    "# jpa Signal core\n",
    "from slab.instruments import SignalCore\n",
    "sc = SignalCore(name = \"SignalCore_JPA\", address=\"10001E48\")\n",
    "sc.open_device()\n",
    "sc.set_output_state(True)\n",
    "sc.set_power(-11.67)\n",
    "# sc.set_output_state(True)\n",
    "sc.close_device()"
   ]
  },
  {
   "cell_type": "markdown",
   "metadata": {},
   "source": [
    "dcflux = YokogawaGS200(address=\"192.168.137.148\")\n",
    "    dcflux.set_output(True)\n",
    "    dcflux.set_mode('current')\n",
    "    dcflux.ramp_current(0.000, sweeprate=0.002)"
   ]
  }
 ],
 "metadata": {
  "kernelspec": {
   "display_name": "slab",
   "language": "python",
   "name": "python3"
  },
  "language_info": {
   "codemirror_mode": {
    "name": "ipython",
    "version": 3
   },
   "file_extension": ".py",
   "mimetype": "text/x-python",
   "name": "python",
   "nbconvert_exporter": "python",
   "pygments_lexer": "ipython3",
   "version": "3.8.17"
  }
 },
 "nbformat": 4,
 "nbformat_minor": 4
}
