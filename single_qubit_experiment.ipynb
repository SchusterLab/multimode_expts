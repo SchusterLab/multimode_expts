{
 "cells": [
  {
   "cell_type": "code",
   "execution_count": 1,
   "metadata": {},
   "outputs": [
    {
     "name": "stdout",
     "output_type": "stream",
     "text": [
      "Warning serial library import failed.\n",
      "Could not load InstrumentManagerWindow\n",
      "Could not import QickInstrument, try install qick package\n",
      "Could not load AD5780 dac \n",
      "Could not load labbrick\n",
      "Could not load Autonics TM4 Driver\n"
     ]
    }
   ],
   "source": [
    "%load_ext autoreload\n",
    "%autoreload 2\n",
    "\n",
    "import numpy as np\n",
    "import matplotlib.pyplot as plt\n",
    "\n",
    "from qick import *\n",
    "from qick.helpers import gauss\n",
    "from tqdm import tqdm_notebook as tqdm\n",
    "\n",
    "import time\n",
    "import os\n",
    "import sys\n",
    "sys.path.append('/home/xilinx/jupyter_notebooks/')\n",
    "sys.path.append('C:\\\\_Lib\\\\python\\\\rfsoc\\\\rfsoc_multimode\\\\example_expts')\n",
    "# sys.path.append('C:\\\\_Lib\\\\python\\\\multimode')\n",
    "import scipy as sp\n",
    "import json\n",
    "from scipy.fft import fft, fftfreq\n",
    "\n",
    "from slab.instruments import *\n",
    "from slab.experiment import Experiment\n",
    "from slab.datamanagement import SlabFile\n",
    "from slab import get_next_filename, get_current_filename, AttrDict\n",
    "\n",
    "# Figure params\n",
    "plt.rcParams['figure.figsize'] = [10,6]\n",
    "plt.rcParams.update({'font.size': 14})"
   ]
  },
  {
   "cell_type": "code",
   "execution_count": 2,
   "metadata": {},
   "outputs": [
    {
     "name": "stdout",
     "output_type": "stream",
     "text": [
      "path:  H:\\Shared drives\\SLab\\Multimode\\experiment\\240911\n"
     ]
    }
   ],
   "source": [
    "import json\n",
    "import os\n",
    "# path = os.getcwd()\n",
    "path = r'H:\\Shared drives\\SLab\\Multimode\\experiment\\240911' # for data \n",
    "print(\"path: \", path)"
   ]
  },
  {
   "cell_type": "markdown",
   "metadata": {},
   "source": [
    "# setup experiment hardware"
   ]
  },
  {
   "cell_type": "code",
   "execution_count": 3,
   "metadata": {},
   "outputs": [
    {
     "name": "stdout",
     "output_type": "stream",
     "text": [
      "Data will be stored in H:\\Shared drives\\SLab\\Multimode\\experiment\\240911\\data1\n"
     ]
    }
   ],
   "source": [
    "expt_path=path+'\\\\data1'\n",
    "\n",
    "print('Data will be stored in', expt_path)"
   ]
  },
  {
   "cell_type": "code",
   "execution_count": 4,
   "metadata": {},
   "outputs": [
    {
     "name": "stdout",
     "output_type": "stream",
     "text": [
      "Config will be c:\\_Lib\\python\\multimode_expts\\config_rfsoc_ziqian.yml\n",
      "Exp Param will be c:\\_Lib\\python\\multimode_expts\\experiment_config.yml\n"
     ]
    }
   ],
   "source": [
    "curr_path = os.getcwd()\n",
    "config_file = curr_path+'\\\\config_rfsoc_ziqian.yml'\n",
    "config_path = config_file\n",
    "print('Config will be', config_path)\n",
    "\n",
    "exp_param_file = curr_path+'\\\\experiment_config.yml'\n",
    "exp_param_path = exp_param_file\n",
    "print('Exp Param will be', exp_param_path)"
   ]
  },
  {
   "cell_type": "code",
   "execution_count": 5,
   "metadata": {},
   "outputs": [],
   "source": [
    "qubit_i = 0\n",
    "import yaml\n",
    "with open(config_file, 'r') as cfg_file:\n",
    "    yaml_cfg = yaml.safe_load(cfg_file)\n",
    "yaml_cfg = AttrDict(yaml_cfg)"
   ]
  },
  {
   "cell_type": "code",
   "execution_count": 6,
   "metadata": {},
   "outputs": [],
   "source": [
    "\n",
    "im = InstrumentManager(ns_address='192.168.137.25') # SLAC lab"
   ]
  },
  {
   "cell_type": "code",
   "execution_count": 7,
   "metadata": {},
   "outputs": [
    {
     "data": {
      "text/plain": [
       "dict_keys(['Pyro.NameServer', 'Qick101'])"
      ]
     },
     "execution_count": 7,
     "metadata": {},
     "output_type": "execute_result"
    }
   ],
   "source": [
    "im.keys()"
   ]
  },
  {
   "cell_type": "code",
   "execution_count": 8,
   "metadata": {},
   "outputs": [
    {
     "name": "stdout",
     "output_type": "stream",
     "text": [
      "<Pyro4.core.Proxy at 0x293ab0f1dc0; not connected; for PYRO:obj_838aa0c048e94c2480cf8174087be298@192.168.137.101:38869>\n"
     ]
    }
   ],
   "source": [
    "print(im['Qick101'])"
   ]
  },
  {
   "cell_type": "code",
   "execution_count": 9,
   "metadata": {},
   "outputs": [
    {
     "name": "stdout",
     "output_type": "stream",
     "text": [
      "\n",
      "QICK configuration:\n",
      "\n",
      "\tBoard: ZCU216\n",
      "\n",
      "\tSoftware version: 0.2.180\n",
      "\tFirmware timestamp: Tue Oct 15 12:06:51 2024\n",
      "\n",
      "\tGlobal clocks (MHz): tProcessor 430.080, RF reference 245.760\n",
      "\n",
      "\t7 signal generator channels:\n",
      "\t0:\taxis_signal_gen_v6 - tProc output 0, envelope memory 32768 samples\n",
      "\t\tDAC tile 2, blk 0, 32-bit DDS, fabric=399.360 MHz, f_dds=6389.760 MHz\n",
      "\t1:\taxis_signal_gen_v6 - tProc output 1, envelope memory 32768 samples\n",
      "\t\tDAC tile 2, blk 1, 32-bit DDS, fabric=399.360 MHz, f_dds=6389.760 MHz\n",
      "\t2:\taxis_signal_gen_v6 - tProc output 2, envelope memory 32768 samples\n",
      "\t\tDAC tile 2, blk 2, 32-bit DDS, fabric=399.360 MHz, f_dds=6389.760 MHz\n",
      "\t3:\taxis_signal_gen_v6 - tProc output 3, envelope memory 32768 samples\n",
      "\t\tDAC tile 2, blk 3, 32-bit DDS, fabric=399.360 MHz, f_dds=6389.760 MHz\n",
      "\t4:\taxis_signal_gen_v6 - tProc output 4, envelope memory 32768 samples\n",
      "\t\tDAC tile 3, blk 0, 32-bit DDS, fabric=430.080 MHz, f_dds=6881.280 MHz\n",
      "\t5:\taxis_signal_gen_v6 - tProc output 5, envelope memory 32768 samples\n",
      "\t\tDAC tile 3, blk 1, 32-bit DDS, fabric=430.080 MHz, f_dds=6881.280 MHz\n",
      "\t6:\taxis_sg_mux4_v2 - tProc output 6, envelope memory 0 samples\n",
      "\t\tDAC tile 0, blk 0, 32-bit DDS, fabric=430.080 MHz, f_dds=1720.320 MHz\n",
      "\n",
      "\t4 constant-IQ outputs:\n",
      "\t0:\tDAC tile 1, blk 0, fs=6881.280 MHz\n",
      "\t1:\tDAC tile 1, blk 1, fs=6881.280 MHz\n",
      "\t2:\tDAC tile 1, blk 2, fs=6881.280 MHz\n",
      "\t3:\tDAC tile 1, blk 3, fs=6881.280 MHz\n",
      "\n",
      "\t4 readout channels:\n",
      "\t0:\taxis_pfb_readout_v2 - controlled by PYNQ\n",
      "\t\tADC tile 2, blk 0, 35-bit DDS, fabric=307.200 MHz, fs=2457.600 MHz\n",
      "\t\tmaxlen 16384 (avg) 1024 (decimated)\n",
      "\t\ttriggered by output 7, pin 8, feedback to tProc input 0\n",
      "\t1:\taxis_pfb_readout_v2 - controlled by PYNQ\n",
      "\t\tADC tile 2, blk 0, 35-bit DDS, fabric=307.200 MHz, fs=2457.600 MHz\n",
      "\t\tmaxlen 16384 (avg) 1024 (decimated)\n",
      "\t\ttriggered by output 7, pin 9, feedback to tProc input 1\n",
      "\t2:\taxis_pfb_readout_v2 - controlled by PYNQ\n",
      "\t\tADC tile 2, blk 0, 35-bit DDS, fabric=307.200 MHz, fs=2457.600 MHz\n",
      "\t\tmaxlen 16384 (avg) 1024 (decimated)\n",
      "\t\ttriggered by output 7, pin 10, feedback to tProc input 2\n",
      "\t3:\taxis_pfb_readout_v2 - controlled by PYNQ\n",
      "\t\tADC tile 2, blk 0, 35-bit DDS, fabric=307.200 MHz, fs=2457.600 MHz\n",
      "\t\tmaxlen 16384 (avg) 1024 (decimated)\n",
      "\t\ttriggered by output 7, pin 11, feedback to tProc input 3\n",
      "\n",
      "\t11 DACs:\n",
      "\t\tDAC tile 0, blk 0 is 0_228, on JHC1\n",
      "\t\tDAC tile 1, blk 0 is 0_229, on JHC1\n",
      "\t\tDAC tile 1, blk 1 is 1_229, on JHC2\n",
      "\t\tDAC tile 1, blk 2 is 2_229, on JHC1\n",
      "\t\tDAC tile 1, blk 3 is 3_229, on JHC2\n",
      "\t\tDAC tile 2, blk 0 is 0_230, on JHC3\n",
      "\t\tDAC tile 2, blk 1 is 1_230, on JHC4\n",
      "\t\tDAC tile 2, blk 2 is 2_230, on JHC3\n",
      "\t\tDAC tile 2, blk 3 is 3_230, on JHC4\n",
      "\t\tDAC tile 3, blk 0 is 0_231, on JHC3\n",
      "\t\tDAC tile 3, blk 1 is 1_231, on JHC4\n",
      "\n",
      "\t1 ADCs:\n",
      "\t\tADC tile 2, blk 0 is 0_226, on JHC7\n",
      "\n",
      "\t8 digital output pins:\n",
      "\t0:\tPMOD0_0_LS (output 7, pin 0)\n",
      "\t1:\tPMOD0_1_LS (output 7, pin 1)\n",
      "\t2:\tPMOD0_2_LS (output 7, pin 2)\n",
      "\t3:\tPMOD0_3_LS (output 7, pin 3)\n",
      "\t4:\tPMOD0_4_LS (output 7, pin 4)\n",
      "\t5:\tPMOD0_5_LS (output 7, pin 5)\n",
      "\t6:\tPMOD0_6_LS (output 7, pin 6)\n",
      "\t7:\tPMOD0_7_LS (output 7, pin 7)\n",
      "\n",
      "\ttProc axis_tproc64x32_x8: program memory 32768 words, data memory 4096 words\n",
      "\t\texternal start pin: PMOD1_0_LS\n"
     ]
    }
   ],
   "source": [
    "soc = QickConfig(im[yaml_cfg['aliases']['soc']].get_cfg())\n",
    "print(soc)"
   ]
  },
  {
   "cell_type": "markdown",
   "metadata": {},
   "source": [
    "# choose experiment name"
   ]
  },
  {
   "cell_type": "code",
   "execution_count": 10,
   "metadata": {},
   "outputs": [
    {
     "name": "stdout",
     "output_type": "stream",
     "text": [
      "Path added at highest priority\n",
      "['C:\\\\_Lib\\\\python\\\\multimode_expts', 'c:\\\\_Lib\\\\python\\\\multimode_expts', 'C:\\\\_Lib\\\\python', 'C:\\\\_Lib\\\\python\\\\slab', 'C:\\\\_Lib\\\\python\\\\qick\\\\qick_lib', 'C:\\\\_Lib\\\\python\\\\rfsoc\\\\rfsoc_multimode\\\\example_expts', 'c:\\\\_Lib\\\\python\\\\multimode_expts', 'c:\\\\Users\\\\26049\\\\.conda\\\\envs\\\\slab\\\\python38.zip', 'c:\\\\Users\\\\26049\\\\.conda\\\\envs\\\\slab\\\\DLLs', 'c:\\\\Users\\\\26049\\\\.conda\\\\envs\\\\slab\\\\lib', 'c:\\\\Users\\\\26049\\\\.conda\\\\envs\\\\slab', '', 'C:\\\\Users\\\\26049\\\\AppData\\\\Roaming\\\\Python\\\\Python38\\\\site-packages', 'c:\\\\Users\\\\26049\\\\.conda\\\\envs\\\\slab\\\\lib\\\\site-packages', 'c:\\\\Users\\\\26049\\\\.conda\\\\envs\\\\slab\\\\lib\\\\site-packages\\\\easy_lmfit-1.0-py3.8.egg', 'c:\\\\Users\\\\26049\\\\.conda\\\\envs\\\\slab\\\\lib\\\\site-packages\\\\attrdict-2.0.1-py3.8.egg', 'c:\\\\Users\\\\26049\\\\.conda\\\\envs\\\\slab\\\\lib\\\\site-packages\\\\win32', 'c:\\\\Users\\\\26049\\\\.conda\\\\envs\\\\slab\\\\lib\\\\site-packages\\\\win32\\\\lib', 'c:\\\\Users\\\\26049\\\\.conda\\\\envs\\\\slab\\\\lib\\\\site-packages\\\\Pythonwin', '/home/xilinx/jupyter_notebooks/', 'C:\\\\_Lib\\\\python\\\\rfsoc\\\\rfsoc_multimode\\\\example_expts']\n",
      "importing from path  C:\\_Lib\\python\\multimode_expts\\experiments\\clifford_averager_program.py\n",
      "imported experiments.clifford_averager_program\n",
      "importing from path  C:\\_Lib\\python\\multimode_expts\\experiments\\fitting.py\n",
      "imported experiments.fitting\n",
      "importing from path  C:\\_Lib\\python\\multimode_expts\\experiments\\qram_protocol_timestepped.py\n",
      "imported experiments.qram_protocol_timestepped\n",
      "importing from path  C:\\_Lib\\python\\multimode_expts\\experiments\\qubit_cavity\n",
      "imported experiments.qubit_cavity.amplitude_rabi_f0g1\n",
      "imported experiments.qubit_cavity.displacement_enhanced_sideband\n",
      "imported experiments.qubit_cavity.displace_amplitude_calibration\n",
      "imported experiments.qubit_cavity.displace_pulse_probe\n",
      "imported experiments.qubit_cavity.ecd\n",
      "imported experiments.qubit_cavity.ecd_backup\n",
      "imported experiments.qubit_cavity.ecd_read_spec\n",
      "imported experiments.qubit_cavity.non_demolution_readout\n",
      "imported experiments.qubit_cavity.out_and_back\n",
      "imported experiments.qubit_cavity.photo_resolved_pulse_probe\n",
      "imported experiments.qubit_cavity.qubit_cavity_opt\n",
      "imported experiments.qubit_cavity.single_mode_cats_wigner_tomography\n",
      "imported experiments.qubit_cavity.single_mode_wigner_tomography - Copy\n",
      "imported experiments.qubit_cavity.single_mode_wigner_tomography\n",
      "imported experiments.qubit_cavity.small_chi_calibration\n",
      "imported experiments.qubit_cavity.test_opt\n",
      "imported experiments.qubit_cavity.test_opt2\n",
      "imported experiments.qubit_cavity.test_opt_ecd\n",
      "importing from path  C:\\_Lib\\python\\multimode_expts\\experiments\\single_qubit\n",
      "imported experiments.single_qubit.acstarkshift_spectroscopy\n",
      "imported experiments.single_qubit.active_reset_single_shot\n",
      "imported experiments.single_qubit.amplitude_rabi\n",
      "imported experiments.single_qubit.amplitude_rabi_ef\n",
      "imported experiments.single_qubit.amplitude_rabi_general\n",
      "imported experiments.single_qubit.cavity2qubit\n",
      "imported experiments.single_qubit.cavity_spectroscopy\n",
      "imported experiments.single_qubit.dragpulse_calibration\n",
      "imported experiments.single_qubit.dual_rail_single_shot\n",
      "imported experiments.single_qubit.fast_reset_test\n",
      "imported experiments.single_qubit.flux_sweep\n",
      "imported experiments.single_qubit.length_rabi\n",
      "imported experiments.single_qubit.length_rabi_f0g1_general\n",
      "imported experiments.single_qubit.length_rabi_general\n",
      "imported experiments.single_qubit.normalize\n",
      "imported experiments.single_qubit.parity_delay\n",
      "imported experiments.single_qubit.parity_freq\n",
      "imported experiments.single_qubit.parity_gain\n",
      "imported experiments.single_qubit.phase_sweep\n",
      "imported experiments.single_qubit.phase_sweep_averager\n",
      "imported experiments.single_qubit.pulse_cavity_probe_readout\n",
      "imported experiments.single_qubit.pulse_probe_ef_spectroscopy\n",
      "imported experiments.single_qubit.pulse_probe_f0g1_spectroscopy\n",
      "imported experiments.single_qubit.pulse_probe_spectroscopy\n",
      "imported experiments.single_qubit.pulse_probe_spectroscopy_prepulse\n",
      "imported experiments.single_qubit.ramsey_ef\n",
      "imported experiments.single_qubit.randbench\n",
      "imported experiments.single_qubit.rbam\n",
      "imported experiments.single_qubit.rb_BSgate\n",
      "imported experiments.single_qubit.rb_BSgate_check_target\n",
      "imported experiments.single_qubit.rb_BSgate_postselection\n",
      "imported experiments.single_qubit.rb_BSgate_postselection_storage\n",
      "imported experiments.single_qubit.rb_BSgate_ramsey\n",
      "imported experiments.single_qubit.rb_ziqian - Copy\n",
      "imported experiments.single_qubit.rb_ziqian copy\n",
      "imported experiments.single_qubit.rb_ziqian\n",
      "imported experiments.single_qubit.rb_ziqian_backup\n",
      "imported experiments.single_qubit.resonator_spectroscopy\n",
      "imported experiments.single_qubit.rfsoc_tof_calibration\n",
      "imported experiments.single_qubit.rf_flux_modulation_general\n",
      "imported experiments.single_qubit.rf_flux_spectroscopy\n",
      "imported experiments.single_qubit.rf_flux_spectroscopy_f0g1\n",
      "imported experiments.single_qubit.sideband_general\n",
      "imported experiments.single_qubit.sideband_t1_general\n",
      "imported experiments.single_qubit.single_shot\n",
      "imported experiments.single_qubit.single_shot_old\n",
      "imported experiments.single_qubit.single_shot_prepulse\n",
      "imported experiments.single_qubit.square_pulse\n",
      "imported experiments.single_qubit.t1\n",
      "imported experiments.single_qubit.t1_cavity\n",
      "imported experiments.single_qubit.t1_fluxonium\n",
      "imported experiments.single_qubit.t1_ring_down\n",
      "imported experiments.single_qubit.t2_cavity\n",
      "imported experiments.single_qubit.t2_echo\n",
      "imported experiments.single_qubit.t2_fluxonium\n",
      "imported experiments.single_qubit.t2_ramsey\n",
      "importing from path  C:\\_Lib\\python\\multimode_expts\\experiments\\two_qubit\n",
      "imported experiments.two_qubit.amplitude_rabi_EgGf\n",
      "imported experiments.two_qubit.length_rabi_EgGf\n",
      "imported experiments.two_qubit.length_rabi_pi_pulse_ZZ\n",
      "imported experiments.two_qubit.pulse_probe_coupling_spectroscopy\n",
      "imported experiments.two_qubit.pulse_probe_EgGf_spectroscopy\n",
      "imported experiments.two_qubit.twoqutrit_state_tomography\n",
      "imported experiments.two_qubit.twoQ_state_tomography\n",
      "C:\\_Lib\\python\\multimode_expts\\experiments\\__init__.py\n"
     ]
    }
   ],
   "source": [
    "import sys\n",
    "\n",
    "# Path to add\n",
    "expts_path = 'C:\\\\_Lib\\\\python\\\\multimode_expts'\n",
    "\n",
    "# Add the path to the system path at the highest priority\n",
    "if expts_path not in sys.path:\n",
    "    sys.path.insert(0, expts_path)\n",
    "    print('Path added at highest priority')\n",
    "\n",
    "# Verify the path is added\n",
    "print(sys.path)\n",
    "\n",
    "# Import the experiments module from multimode\n",
    "import experiments as meas\n",
    "\n",
    "# Verify the module is imported from the correct path\n",
    "print(meas.__file__)"
   ]
  },
  {
   "cell_type": "markdown",
   "metadata": {},
   "source": [
    "# Run experiments"
   ]
  },
  {
   "cell_type": "code",
   "execution_count": 97,
   "metadata": {},
   "outputs": [
    {
     "name": "stdout",
     "output_type": "stream",
     "text": [
      "{'prepulse_qubit': {'freq': [3568.1751638611518], 'length': [0.06], 'gain': [30], 'phase': [0], 'repeat_time': 10}, 'device': {'qubit': {'T1': [127.0], 'f_ge': [3568.1751638611518], 'f_ge_resolved': [3568.1751638611518], 'f_ge_idle': [3568.1751638611518], 'f_ef': [3425.5564066067], 'f_ef_idle': [3425.5564066067], 'ramp_sigma': [0.005], 'ramp_sigma_num': [3], 'pulses': {'pi_ge': {'gain': [10716], 'sigma': [0.035], 'length': [0], 'type': 'gauss'}, 'pi_ge_ftop': {'gain': [3000], 'sigma': [0.005], 'length': [0.190914187445986], 'type': 'flat_top'}, 'pi_ge_fast': {'gain': [10682], 'sigma': [0.035], 'length': [0], 'type': 'gauss'}, 'pi_ge_resolved': {'gain': [50], 'sigma': [0.005], 'length': [6.553697146578866], 'type': 'flat_top', 'repeat_no': 1}, 'hpi_ge': {'gain': [5510], 'length': [0], 'sigma': [0.035], 'type': 'gauss'}, 'hpi_ge_ftop': {'gain': [3000], 'sigma': [0.005], 'length': [0.09131395179924079], 'type': 'flat_top'}, 'hpi_ge_fast': {'gain': [5195], 'length': [0], 'sigma': [0.035], 'type': 'gauss'}, 'pi_ef_ftop': {'gain': [3000], 'sigma': [0.005], 'length': [0.15377089082752435], 'type': 'flat_top'}, 'pi_ef_new': {'gain': [3000], 'sigma': [0.005], 'length': [0.15377089082752435], 'type': 'flat_top'}, 'hpi_ef_ftop': {'gain': [3000], 'sigma': [0.005], 'length': [0.073291601301268], 'type': 'flat_top'}, 'hpi_ef_new': {'gain': [3000], 'sigma': [0.005], 'length': [0.073291601301268], 'type': 'flat_top'}, 'pi_ef': {'gain': [8236], 'length': [0], 'sigma': [0.035], 'type': 'gauss'}, 'hpi_ef': {'gain': [3863], 'sigma': [0.035], 'type': 'gauss'}, 'f0g1': {'gain': [20000], 'length': [0.4209728295970486], 'sigma': [0.005]}, 'pi_f0g1': {'sigma': [0.005]}, 'pi_m1si': {'sigma': [0.005]}, 'binomial_M1': {'ge_freq': [3568.18781776926, 3567.90056386609, 3567.61563457181, 3568.18781776926, 3568.18781776926], 'ge_gain': [9653, 9653, 9653, 9653, 9653], 'ge_sigma': [0.035, 0.035, 0.035, 0.035, 0.035], 'ef_freq': [3425.55703383178, 3425.30098176373, 3425.55703383178, 3425.55703383178, 3425.55703383178], 'ef_gain': [7575, 7575, 7575, 7575, 7575], 'ef_sigma': [0.035, 0.035, 0.035, 0.035, 0.035], 'f0g1_freq': [2006.76, 2006.22, 2006.76, 2006.76, 2006.76], 'f0g1_gain': [15000, 15000, 15000, 15000, 15000], 'f0g1_length': [0.621500217304513, 0.436074712309811, 0.621500217304513, 0.621500217304513, 0.621500217304513], 'f0g1_sigma': [0.005, 0.005, 0.005, 0.005, 0.005]}}, 'f0g1': 1828.6, 'cycles_add_to_R': 400}, 'QM': {'chi_shift_matrix': [[-142.92577186624158, -0.28725, -0.27214], [-0.28725, -0.006572659352514165, 0.0], [-0.27214, 0.0, -0.0034172418618254596]], 'pulses': {'qubit_pi_ge': {'gain': [[10682, 10682], [10682, 10682]], 'sigma': [[0.035, 0.035], [0.035, 0.035]], 'type': 'gauss'}, 'qubit_pi_ge_resolved': {'gain': [[50, 50], [50, 50]], 'sigma': [[0.005, 0.005], [0.005, 0.005]], 'length': [[6.553697146578866, 6.553697146578866], [6.553697146578866, 6.553697146578866]], 'type': 'flat_top'}, 'qubit_pi_ge_resolved_man': {'freq': [], 'gain': [50, 50], 'sigma': [0.005, 0.005], 'length': [6.288721018841144, 0], 'type': 'flat_top'}, 'f0g1': {'freq': [2007.09, 1834.895], 'gain': [15000, 15000], 'length': [0.615286689634651, 1.060413], 'hpilength': [0.3076433448173255, 0.528845], 'sigma': 0.005}, 'f1g2': {'freq': [2002.98, 1840.6], 'gain': [15000, 20000], 'length': [0.43461615322272, 0.9276287688775608], 'hpilength': [0.21730807661136, 0.4638143844387804], 'sigma': 0.005}}}, 'readout': {'trig_offset': 450, 'frequency': [748.8], 'gain': [700], 'phase': [160.076255242564], 'threshold': [-20.865628512802004], 'threshold_list': [-20.865628512802004], 'man1_drive_list': [0], 'man2_drive_list': [0], 'readout_length': [1.0], 'relax_delay': [2500]}, 'manipulate': {'trig_offset': 450, 'f_ge': [4984.026194477733, 5157.8527963217475], 'standard_dispalce': [0.05, 0.05], 'revival_time': [1.6833333333333333, 1.7366205852286094], 'gain_to_alpha': [0.00014281, 0.00020045], 'freq_to_alpha': [0.495062203431879, 0.0], 'gain': [2000, 2000], 'chi': [1.0, 1.0], 'readout_length': [8], 'phase': [-176.45792887777], 'cycles_add_to_Q': 260, 'idling_phase': [[0.0, 0.0], [0.0, 0.0]], 'idling_freq': [0, 0]}, 'storage': {'trig_offset': 450, 'f_ge': [6229.766612195359, 5300], 'gain': [1000, 2000], 'chi': [1.0, 1.0], 'readout_length': [8], 'phase': [-176.45792887777], 'storage_man_file': 'C:/_Lib/python/multimode_expts/man1_storage_swap_dataset.csv', 'idling_phase': [[-52.6696123, -22.7088024, 4.32404839, 1.74059096, 3.07928552, 131.15854816947694, -90.34878087129891], [-0.8543699, -116.043431, 3.45837055, 0.608331428, -2.036, 9.45, 95.59156092221656], [1.04040701, -3.74923237, -117.783814, 0.356992259, -2.45519509, 0.647967825, 12.8401564], [1.66740192, -4.21812224, 3.29786448, -154.122273, -1.60291285, -1.18402153, 5.044314], [4.82521854, 0.209877344, 5.59148305, 7.67963852, -91.167355, 1.30630108, 5.65421906], [3.70780701, 0.0768208841, 4.16044796, 2.61829414, 3.48690085, -37.3968965, 4.05643677], [3.84028579, -0.418792628, 4.0522379, 3.24634888, 2.06016015, 3.24251258, -22.4708301]], 'idling_freq': [-2.5937677197135596, -2.85371864950844, -2.446015004544113, -1.8393250164457633, -3.231025833205897, -3.2053137013077597, -2.935087792327744]}, 'active_reset': {'qubit_ge': [4000, 0.1422665780546079, 0.005], 'qubit_ef': [3000, 0.15377089082752435, 0.005], 'M1_S_freq': [349.41, 520.93, 696.66, 875.825, 1053.405, 1245.17, 1423.155], 'M1_S_gain': [3000, 5000, 9000, 9000, 7500, 13500, 16500], 'relax_delay': [50], 'M1_S_length': [0.9771428571428571, 1.13, 1.33802338, 1.25428746, 1.97319797, 1.59530999, 1.3783587], 'M1_S_sigma': 0.005, 'chis': [0, -0.28725, -0.54329], 'M_lossy': [[2313.3, 5000, 10, 2, 2], [2093.9, 8000, 15, 2, 2]]}}, 'hw': {'soc': {'dacs': {'qubit': {'ch': 2, 'type': 'full', 'nyquist': 1}, 'readout': {'ch': 5, 'type': 'full', 'nyquist': 1}, 'manipulate_in': {'ch': 4, 'type': 'full', 'nyquist': 2}, 'storage_in': {'ch': 6, 'type': 'full', 'nyquist': 2}, 'flux_low': {'ch': 1, 'type': 'full', 'nyquist': 1}, 'flux_high': {'ch': 3, 'type': 'full', 'nyquist': 1}, 'sideband': {'ch': 0, 'type': 'full', 'nyquist': 1}}, 'adcs': {'readout': {'ch': 0}, 'cavity_out': {'ch': 1}}}}, 'aliases': {'soc': 'Qick101'}, 'expt': {'start': 0.01, 'step': 0.2, 'expts': 100, 'ramsey_freq': 0.2, 'reps': 500, 'rounds': 1, 'qubits': [0], 'checkEF': False, 'user_defined_freq': [False, 3425.30098176373, 7575, 0.035], 'qubit_ge_init': False, 'qubit_ge_after': False, 'f0g1_cavity': 0, 'normalize': False, 'active_reset': False, 'man_reset': True, 'storage_reset': True, 'prepulse': False, 'postpulse': False, 'pre_active_reset_pulse': False, 'pre_sweep_pulse': [[3568.1751638611518, 3425.5537944060666, 2007.06, 349.415], [10819, 8327, 15000, 3000], [0, 0, 0.6552866896346518, 0.973722], [0, 0, 0, 0], [2, 2, 0, 1], ['gaussian', 'gaussian', 'flat_top', 'flat_top'], [0.035, 0.035, 0.005, 0.005]], 'reps_middlepulse': 0, 'advance_phase': 0, 'middlepulse': False, 'mid_sweep_pulse': [[3424.2965691707564, 0, 2004.775, 2004.775, 0, 3424.2965691707564], [2563, 0, 3000, 3000, 0, 2563], [0.0, 0.01, 0.740015963968996, 0.740015963968996, 0.01, 0.0], [0, 0, 0, 0, 0, 0], [2, 5, 5, 5, 5, 2], ['gaussian', 'flat_top', 'flat_top', 'flat_top', 'flat_top', 'gaussian'], [0.03, 0.005, 0.005, 0.005, 0.005, 0.03]]}}\n"
     ]
    },
    {
     "data": {
      "application/vnd.jupyter.widget-view+json": {
       "model_id": "3bfb27a8014c42629a34bca2a2dcad36",
       "version_major": 2,
       "version_minor": 0
      },
      "text/plain": [
       "  0%|          | 0/50000 [00:00<?, ?it/s]"
      ]
     },
     "metadata": {},
     "output_type": "display_data"
    },
    {
     "name": "stdout",
     "output_type": "stream",
     "text": [
      "Saving H:\\Shared drives\\SLab\\Multimode\\experiment\\240911\\data1\\00002_RamseyExperiment.h5\n"
     ]
    }
   ],
   "source": [
    "experiment_class, experiment_name = 'single_qubit.t1', 'T1Experiment'\n",
    "# experiment_class, experiment_name = 'single_qubit.single_shot', 'HistogramExperiment'\n",
    "# experiment_class, experiment_name = 'single_qubit.single_shot_old', 'HistogramExperiment_oldold'\n",
    "# experiment_class, experiment_name = 'single_qubit.single_shot', 'HistogramExperiment_old'\n",
    "# experiment_class, experiment_name = 'qubit_cavity.non_demolution_readout', 'DemolutionMeasurementExperiment'\n",
    "# experiment_class, experiment_name = 'single_qubit.t2_ramsey', 'RamseyExperiment'\n",
    "# experiment_class, experiment_name = 'single_qubit.phase_sweep', 'PhaseSweepExperiment'\n",
    "# experiment_class, experiment_name = 'single_qubit.phase_sweep_averager', 'PhaseSweepAveragerExperiment'\n",
    "# experiment_class, experiment_name = 'single_qubit.amplitude_rabi', 'AmplitudeRabiExperiment'\n",
    "# experiment_class, experiment_name = 'single_qubit.amplitude_rabi_general', 'AmplitudeRabiGeneralExperiment'\n",
    "# experiment_class, experiment_name = 'single_qubit.amplitude_rabi_ef', 'AmplitudeRabiEFExperiment'\n",
    "# experiment_class, experiment_name = 'single_qubit.t2_echo', 'RamseyEchoExperiment'\n",
    "# experiment_class, experiment_name = 'single_qubit.cavity_spectroscopy', 'CavitySpectroscopyExperiment'\n",
    "# experiment_class, experiment_name = 'single_qubit.resonator_spectroscopy', 'ResonatorSpectroscopyExperiment'\n",
    "# experiment_class, experiment_name = 'single_qubit.length_rabi_general', 'LengthRabiGeneralExperiment'\n",
    "# experiment_class, experiment_name = 'single_qubit.length_rabi_f0g1_general', 'LengthRabiGeneralF0g1Experiment'\n",
    "# experiment_class, experiment_name = 'qubit_cavity.single_mode_wigner_tomography', 'WignerTomography1ModeExperiment'\n",
    "# experiment_class, experiment_name = 'qubit_cavity.single_mode_cats_wigner_tomography', 'WignerTomography1ModeCatExperiment'\n",
    "# experiment_class, experiment_name = 'single_qubit.pulse_probe_spectroscopy', 'PulseProbeSpectroscopyExperiment'\n",
    "# experiment_class, experiment_name = 'single_qubit.pulse_probe_f0g1_spectroscopy', 'PulseProbeF0g1SpectroscopyExperiment' # <--------------\n",
    "# experiment_class, experiment_name = 'qubit_cavity.ecd', 'ECDExperiment'\n",
    "# experiment_class, experiment_name = 'qubit_cavity.ecd_read_spec', 'ECDReadSpecExperiment'\n",
    "# experiment_class, experiment_name = 'single_qubit.pulse_probe_ef_spectroscopy', 'PulseProbeEFSpectroscopyExperiment'\n",
    "# experiment_class, experiment_name = 'single_qubit.t1_cavity', 'T1CavityExperiment'\n",
    "# experiment_class, experiment_name = 'single_qubit.t2_cavity', 'CavityRamseyExperiment' # -------\n",
    "# experiment_class, experiment_name = 'single_qubit.t2_cavity', 'CavityRamseyExperiment_old'\n",
    "# experiment_class, experiment_name = 'single_qubit.pulse_probe_spectroscopy_prepulse', 'PulseProbePrePulseSpectroscopyExperiment'\n",
    "# experiment_class, experiment_name = 'single_qubit.cavity2qubit', 'Cavity2QubitSweepExperiment'\n",
    "# experiment_class, experiment_name = 'single_qubit.sideband_general', 'SidebandGeneralExperiment'\n",
    "# experiment_class, experiment_name = 'single_qubit.rf_flux_spectroscopy', 'FluxSpectroscopyExperiment'\n",
    "# experiment_class, experiment_name = 'single_qubit.parity_delay', 'ParityDelayExperiment'\n",
    "# experiment_class, experiment_name = 'single_qubit.parity_gain', 'ParityGainExperiment'\n",
    "# experiment_class, experiment_name = 'single_qubit.parity_freq', 'ParityFreqExperiment'\n",
    "# experiment_class, experiment_name = 'single_qubit.single_shot_prepulse','HistogramPrepulseExperiment'\n",
    "# experiment_class, experiment_name = 'single_qubit.rb_ziqian', 'SingleRB'\n",
    "# experiment_class, experiment_name = 'single_qubit.rbam', 'MultiRBAM'\n",
    "# experiment_class, experiment_name = 'single_qubit.rb_BSgate', 'SingleBeamSplitterRB'\n",
    "# experiment_class, experiment_name = 'single_qubit.rb_BSgate_postselection', 'SingleBeamSplitterRBPostSelection'\n",
    "# experiment_class, experiment_name = 'single_qubit.rb_BSgate_check_target', 'SingleBeamSplitterRB_check_target'\n",
    "# experiment_class, experiment_name = 'single_qubit.rb_BSgate_ramsey', 'SingleBeamSplitterRB_ramsey'\n",
    "# experiment_class, experiment_name = 'qubit_cavity.displacement_enhanced_sideband', 'DisplacementEnhancedSidebandExperiment'\n",
    "# experiment_class, experiment_name = 'single_qubit.sideband_t1_general', 'SidebandT1GeneralExperiment'\n",
    "# experiment_class, experiment_name = 'qubit_cavity.out_and_back', 'OutAndBackExperiment'\n",
    "# experiment_class, experiment_name = 'qubit_cavity.amplitude_rabi_f0g1', 'AmplitudeRabiF0g1Experiment'\n",
    "# experiment_class, experiment_name = 'single_qubit.rf_flux_spectroscopy_f0g1', 'FluxSpectroscopyF0g1Experiment' \n",
    "# experiment_class, experiment_name = 'single_qubit.dragpulse_calibration', 'DragCalibrationExperiment' \n",
    "# experiment_class, experiment_name = 'single_qubit.fast_reset_test', 'FastResetExperiment'\n",
    "# experiment_class, experiment_name = 'single_qubit.active_reset_single_shot', 'HistogramActiveResetExperiment'\n",
    "\n",
    "# \n",
    "\n",
    "run_exp = eval(f\"meas.{experiment_class}.{experiment_name}(soccfg=soc, path=expt_path, prefix=experiment_name, config_file=config_path)\")\n",
    "\n",
    "\n",
    "with open(exp_param_file, 'r') as file:\n",
    "\n",
    "    # Load the YAML contenta\n",
    "    loaded = yaml.safe_load(file)\n",
    "    run_exp.cfg.expt = eval(f\"loaded['{experiment_name}']\")\n",
    "\n",
    "# special updates on device_config file\n",
    "# run_exp.cfg.device.readout.relax_delay =\n",
    "#  [1500] # Wait time between experiments [us]\n",
    "run_exp.cfg.device.readout.relax_delay = [100] # best for active reset\n",
    "run_exp.cfg.device.readout.relax_delay = [2500] # Wait time between experiments [us]\n",
    "# run_exp.cfg.device.manipulate.readout_length = 5\n",
    "# run_exp.cfg.device.storage.readout_length = 5\n",
    "#run_exp.cfg.device.readout.relax_delay = int(qick.c)\n",
    "print(run_exp.cfg)\n",
    "run_exp.go(analyze=False, display=False, progress=True, save=True)"
   ]
  },
  {
   "cell_type": "code",
   "execution_count": 45,
   "metadata": {},
   "outputs": [
    {
     "data": {
      "text/plain": [
       "205"
      ]
     },
     "execution_count": 45,
     "metadata": {},
     "output_type": "execute_result"
    }
   ],
   "source": [
    "arr = [[6, 4], [4, 4, 4, 5, 4, 6, 6, 2], [1, 4, 3, 2, 5, 1, 5, 2, 3, 5, 6, 3, 5, 2, 3, 5], [5, 2, 1, 1, 6, 5, 5, 1, 6, 4, 6, 3, 6, 5, 4, 1, 3, 2, 5, 2, 1, 6, 6], [3, 1, 3, 2, 1, 3, 1, 3, 3, 5, 3, 4, 2, 4, 2, 2, 6, 4, 4, 5, 2, 6, 6, 1, 5, 4, 1, 1, 1, 3], [3, 6, 1, 3, 3, 3, 2, 5, 6, 4, 3, 4, 3, 3, 5, 1, 5, 4, 3, 2, 4, 1, 3, 2, 3, 2, 6, 4, 4, 4, 6, 3, 5, 2, 4, 5], [5, 4, 2, 3, 3, 6, 4, 1, 6, 4, 5, 5, 4, 3, 1, 1, 5, 2, 5, 2, 2, 5, 5, 2, 6, 5, 6, 2, 4, 2, 1, 3, 5, 3, 1, 4, 1, 5, 5, 3, 6, 6, 2, 5], [1, 1, 4, 1, 1, 4, 6, 3, 5, 6, 6, 3, 1, 3, 5, 6, 4, 2, 2, 6, 5, 2, 5, 2, 2, 6, 2, 5, 3, 6, 6, 6, 5, 4, 4, 1, 3, 2, 5, 3, 4, 2, 5, 1, 6, 3, 4, 5, 1, 4, 4], [4, 6, 2, 3, 2, 6, 2, 3, 2, 6, 1, 1, 3, 4, 1, 1, 5, 2, 3, 3, 2, 1, 2, 5, 5, 5, 1, 5, 2, 4, 6, 5, 6, 4, 2, 1, 5, 6, 3, 5, 3, 3, 1, 2, 6, 6, 1, 6, 4, 3, 5, 4, 6, 1, 1, 6, 6, 3], [6, 2, 6, 5, 4, 6, 6, 4, 3, 2, 1, 3, 2, 4, 1, 5, 1, 4, 3, 1, 1, 1, 1, 2, 6, 1, 6, 3, 1, 4, 2, 6, 3, 4, 5, 2, 2, 4, 2, 5, 4, 1, 5, 3, 5, 6, 1, 6, 4, 1, 5, 1, 1, 5, 5, 5, 5, 5, 6, 4, 4, 1, 3, 1, 4], [6, 5, 6, 2, 3, 6, 4, 4, 1, 2, 4, 1, 4, 1, 3, 1, 2, 5, 6, 6, 4, 6, 3, 1, 4, 6, 4, 3, 5, 5, 6, 4, 4, 2, 1, 6, 3, 4, 6, 1, 5, 5, 2, 6, 3, 6, 2, 1, 1, 6, 5, 6, 4, 6, 2, 5, 2, 4, 6, 6, 3, 6, 2, 1, 2, 6, 3, 5, 2, 6, 3, 1], [4, 2, 6, 4, 1, 3, 1, 3, 5, 3, 5, 2, 1, 1, 3, 4, 3, 1, 5, 5, 2, 4, 6, 5, 3, 3, 1, 4, 3, 2, 4, 5, 5, 3, 2, 5, 2, 3, 1, 5, 5, 2, 1, 5, 1, 5, 1, 3, 3, 6, 6, 1, 2, 2, 1, 1, 6, 2, 2, 6, 1, 4, 6, 5, 5, 6, 1, 3, 5, 6, 1, 6, 3, 6, 1, 3, 6, 3, 3], [1, 4, 5, 2, 1, 1, 2, 5, 3, 3, 3, 3, 3, 1, 6, 1, 3, 2, 3, 5, 6, 3, 5, 3, 4, 5, 3, 2, 1, 4, 6, 2, 2, 2, 1, 6, 1, 4, 5, 4, 1, 3, 2, 3, 2, 5, 5, 5, 5, 6, 3, 1, 5, 1, 6, 3, 5, 1, 4, 3, 1, 2, 1, 6, 4, 3, 3, 1, 3, 5, 4, 4, 2, 5, 1, 5, 6, 1, 3, 6, 3, 3, 1, 6, 2, 5], [5, 3, 5, 2, 5, 2, 6, 1, 3, 5, 3, 5, 1, 1, 3, 3, 2, 4, 1, 3, 5, 5, 2, 6, 3, 5, 6, 2, 5, 5, 3, 3, 2, 2, 1, 1, 5, 1, 5, 5, 2, 6, 4, 3, 1, 1, 5, 2, 4, 4, 1, 1, 6, 3, 4, 2, 2, 6, 5, 1, 2, 6, 4, 1, 4, 2, 1, 4, 5, 6, 1, 5, 1, 3, 5, 1, 6, 2, 2, 6, 1, 4, 4, 3, 4, 5, 2, 2, 4, 6, 1, 6, 1], [6, 1, 2, 4, 1, 4, 6, 6, 3, 4, 4, 5, 1, 4, 1, 2, 1, 3, 4, 1, 3, 1, 2, 1, 4, 1, 4, 6, 2, 2, 5, 3, 1, 3, 3, 2, 4, 6, 1, 1, 4, 1, 5, 2, 1, 6, 2, 6, 3, 3, 4, 3, 4, 4, 5, 4, 1, 3, 3, 4, 5, 2, 3, 6, 6, 1, 1, 2, 6, 4, 6, 6, 5, 6, 2, 5, 2, 3, 3, 1, 1, 1, 3, 4, 1, 5, 2, 1, 2, 2, 4, 2, 2, 2, 6, 4, 1, 2, 5, 1], [4, 5, 4, 5, 3, 5, 1, 5, 6, 4, 2, 6, 4, 3, 3, 6, 4, 2, 2, 6, 5, 1, 1, 4, 6, 1, 4, 1, 3, 5, 3, 1, 1, 5, 3, 6, 5, 5, 2, 1, 2, 3, 1, 4, 5, 3, 4, 3, 5, 4, 4, 2, 5, 3, 2, 1, 2, 1, 4, 2, 5, 1, 1, 3, 1, 6, 1, 4, 5, 6, 3, 3, 5, 6, 6, 5, 4, 2, 4, 3, 5, 2, 3, 1, 5, 3, 1, 4, 5, 4, 6, 1, 4, 1, 6, 1, 1, 6, 6, 4, 3, 5, 4, 6, 1, 4, 1], [4, 4, 6, 1, 1, 2, 3, 1, 6, 1, 2, 2, 5, 4, 5, 2, 5, 3, 2, 3, 1, 3, 2, 4, 6, 4, 6, 4, 3, 3, 6, 4, 6, 3, 4, 1, 3, 6, 4, 3, 5, 4, 6, 5, 1, 4, 1, 2, 2, 3, 2, 1, 6, 2, 1, 3, 5, 2, 3, 2, 3, 2, 1, 1, 5, 6, 5, 1, 2, 6, 4, 1, 3, 2, 2, 6, 6, 2, 6, 6, 5, 5, 2, 3, 1, 3, 2, 5, 2, 2, 3, 3, 6, 2, 3, 1, 2, 6, 5, 3, 3, 6, 5, 6, 6, 3, 2, 6, 2, 5, 3, 6, 5, 3], [2, 6, 4, 3, 6, 4, 2, 4, 2, 5, 5, 1, 3, 1, 5, 2, 3, 5, 5, 5, 2, 3, 1, 4, 5, 1, 1, 3, 6, 1, 1, 6, 2, 6, 5, 6, 1, 6, 3, 3, 4, 3, 6, 5, 1, 3, 5, 6, 5, 6, 6, 5, 5, 6, 2, 6, 1, 1, 2, 1, 5, 3, 1, 2, 3, 2, 1, 6, 2, 6, 6, 6, 4, 3, 1, 4, 6, 5, 4, 1, 1, 6, 6, 3, 6, 1, 1, 3, 4, 2, 1, 3, 6, 5, 2, 4, 4, 2, 1, 5, 6, 1, 5, 1, 2, 2, 1, 4, 2, 6, 2, 6, 5, 5, 5, 6, 1, 2, 1, 1, 5], [5, 4, 2, 4, 2, 1, 4, 5, 2, 3, 5, 2, 5, 1, 4, 3, 6, 4, 2, 2, 2, 6, 6, 3, 5, 4, 1, 2, 6, 2, 6, 6, 5, 6, 4, 4, 2, 3, 2, 2, 3, 4, 4, 5, 3, 6, 1, 4, 6, 3, 5, 2, 3, 4, 1, 4, 3, 5, 6, 1, 5, 2, 3, 1, 6, 3, 3, 6, 1, 6, 5, 3, 2, 4, 1, 4, 1, 6, 2, 1, 2, 4, 1, 5, 6, 1, 2, 3, 1, 5, 4, 6, 5, 5, 1, 1, 2, 4, 6, 3, 3, 1, 2, 6, 4, 6, 2, 1, 2, 1, 2, 3, 1, 4, 2, 3, 5, 2, 5, 3, 5, 3, 2, 5, 3, 6, 4, 6], [4, 2, 6, 6, 4, 2, 3, 1, 4, 4, 6, 1, 6, 5, 6, 2, 5, 2, 2, 1, 3, 2, 2, 2, 1, 3, 2, 3, 6, 4, 1, 1, 6, 6, 2, 1, 1, 6, 2, 6, 2, 4, 6, 4, 4, 2, 4, 4, 5, 4, 1, 4, 1, 6, 6, 2, 3, 5, 6, 1, 2, 5, 3, 1, 5, 3, 6, 6, 6, 3, 5, 1, 2, 3, 1, 1, 5, 4, 2, 1, 5, 6, 5, 2, 5, 2, 2, 5, 2, 1, 5, 4, 4, 4, 4, 4, 2, 1, 6, 5, 4, 3, 2, 4, 6, 2, 4, 1, 2, 5, 4, 5, 4, 6, 2, 1, 5, 4, 3, 4, 4, 4, 5, 5, 2, 1, 5, 5, 2, 5, 5, 2, 5, 3, 6], [6, 6, 4, 2, 2, 5, 2, 6, 3, 1, 1, 2, 5, 2, 1, 2, 4, 2, 4, 2, 2, 6, 1, 1, 5, 6, 5, 4, 5, 6, 4, 1, 4, 2, 4, 1, 1, 3, 2, 4, 6, 2, 1, 5, 3, 2, 5, 6, 4, 2, 4, 6, 2, 2, 2, 5, 5, 4, 1, 3, 3, 2, 4, 1, 3, 3, 6, 5, 3, 3, 1, 3, 3, 2, 2, 4, 6, 2, 1, 1, 2, 6, 6, 4, 1, 1, 2, 1, 6, 5, 5, 6, 5, 5, 2, 5, 2, 4, 2, 6, 1, 1, 5, 5, 1, 4, 1, 6, 6, 2, 4, 4, 5, 2, 1, 2, 3, 1, 6, 2, 4, 5, 2, 3, 1, 4, 6, 4, 4, 1, 5, 4, 5, 3, 6, 6, 2, 3, 2, 2, 5, 4], [5, 4, 3, 3, 2, 4, 4, 5, 1, 4, 2, 3, 2, 1, 3, 5, 2, 3, 4, 6, 4, 3, 6, 1, 1, 5, 5, 6, 4, 1, 1, 4, 1, 1, 1, 6, 4, 3, 5, 6, 2, 4, 1, 4, 3, 5, 6, 1, 2, 2, 4, 2, 1, 3, 6, 1, 3, 5, 1, 4, 6, 6, 5, 2, 3, 4, 5, 2, 3, 2, 2, 5, 3, 2, 3, 4, 2, 6, 2, 4, 5, 1, 1, 2, 4, 2, 3, 6, 5, 1, 6, 2, 5, 5, 6, 1, 5, 5, 4, 4, 5, 2, 4, 6, 6, 5, 6, 1, 2, 2, 3, 5, 5, 2, 5, 4, 3, 4, 3, 3, 6, 2, 4, 1, 3, 5, 1, 1, 2, 1, 1, 2, 6, 1, 3, 5, 4, 5, 2, 6, 2, 3, 6, 6, 2, 3, 6, 2, 4], [3, 2, 1, 5, 5, 2, 6, 2, 2, 1, 2, 1, 2, 5, 5, 1, 4, 5, 6, 4, 6, 4, 5, 4, 2, 6, 5, 1, 3, 6, 1, 1, 4, 5, 2, 5, 2, 6, 5, 4, 3, 4, 1, 6, 2, 6, 4, 6, 2, 3, 2, 1, 5, 2, 5, 5, 5, 3, 3, 6, 1, 3, 4, 4, 3, 6, 4, 5, 2, 6, 2, 3, 4, 6, 2, 6, 6, 3, 2, 1, 5, 4, 2, 3, 4, 3, 4, 4, 2, 5, 6, 2, 1, 4, 4, 3, 6, 2, 6, 1, 6, 1, 2, 5, 5, 5, 6, 1, 5, 5, 3, 5, 1, 5, 5, 1, 5, 3, 6, 6, 4, 2, 5, 2, 3, 4, 1, 5, 5, 6, 1, 5, 4, 3, 6, 1, 5, 6, 3, 6, 3, 6, 4, 4, 6, 4, 3, 3, 6, 6, 1, 4, 6, 2, 2, 3], [4, 6, 6, 5, 2, 2, 6, 3, 6, 3, 4, 3, 6, 2, 1, 4, 6, 4, 1, 5, 5, 2, 1, 1, 3, 2, 4, 6, 4, 2, 5, 6, 2, 4, 4, 3, 2, 2, 4, 1, 2, 6, 4, 5, 1, 3, 1, 4, 5, 2, 6, 3, 6, 3, 3, 6, 5, 6, 4, 3, 4, 5, 1, 3, 5, 1, 2, 1, 5, 3, 2, 5, 3, 3, 5, 5, 4, 2, 3, 3, 6, 3, 5, 1, 1, 1, 2, 5, 4, 5, 5, 2, 4, 5, 5, 3, 4, 6, 5, 6, 4, 6, 2, 5, 3, 3, 6, 2, 3, 2, 4, 6, 1, 5, 4, 5, 5, 3, 5, 2, 5, 4, 6, 5, 1, 3, 2, 6, 5, 3, 3, 3, 6, 3, 2, 3, 3, 5, 1, 6, 6, 3, 1, 2, 3, 6, 4, 5, 3, 1, 1, 5, 6, 6, 6, 2, 4, 2, 2, 3, 3, 4, 3], [5, 3, 5, 4, 5, 4, 4, 4, 4, 1, 4, 6, 4, 3, 5, 6, 5, 6, 4, 4, 6, 5, 5, 1, 5, 6, 1, 6, 6, 2, 6, 6, 5, 6, 3, 6, 2, 5, 6, 4, 5, 5, 2, 2, 5, 5, 5, 1, 4, 3, 6, 4, 1, 3, 5, 4, 2, 5, 1, 1, 6, 2, 2, 1, 6, 5, 6, 1, 3, 6, 1, 2, 5, 6, 6, 5, 4, 3, 5, 6, 4, 1, 3, 4, 4, 6, 6, 6, 5, 6, 3, 3, 5, 5, 6, 1, 2, 5, 3, 5, 1, 6, 2, 4, 4, 4, 1, 6, 1, 4, 1, 4, 3, 1, 5, 3, 2, 4, 4, 6, 4, 4, 3, 5, 5, 6, 1, 2, 4, 1, 4, 2, 1, 3, 1, 2, 2, 2, 4, 5, 3, 1, 1, 2, 2, 6, 2, 4, 5, 3, 2, 1, 3, 1, 6, 6, 3, 2, 6, 5, 2, 1, 1, 6, 2, 4, 6, 5, 3], [4, 5, 2, 1, 4, 2, 1, 1, 1, 4, 3, 1, 5, 6, 2, 3, 2, 2, 2, 4, 2, 2, 4, 3, 1, 6, 6, 4, 6, 2, 5, 3, 1, 6, 6, 6, 3, 3, 6, 3, 6, 3, 1, 5, 3, 3, 1, 3, 2, 5, 4, 2, 2, 1, 5, 3, 2, 2, 4, 2, 6, 4, 5, 2, 4, 5, 6, 6, 1, 5, 5, 6, 2, 4, 4, 1, 3, 1, 5, 3, 1, 3, 6, 5, 2, 6, 4, 1, 1, 2, 3, 5, 6, 4, 3, 2, 4, 4, 2, 2, 6, 4, 5, 3, 2, 1, 1, 1, 2, 6, 1, 5, 5, 2, 2, 1, 6, 2, 1, 1, 5, 2, 2, 1, 1, 3, 1, 6, 1, 6, 6, 6, 5, 2, 6, 5, 4, 5, 2, 1, 1, 1, 1, 1, 1, 1, 2, 1, 1, 1, 2, 5, 5, 5, 4, 1, 6, 4, 2, 5, 4, 4, 2, 2, 1, 6, 1, 6, 1, 5, 5, 2, 5, 1, 2, 5], [1, 2, 2, 1, 6, 5, 6, 2, 5, 6, 6, 5, 2, 5, 6, 2, 5, 5, 4, 6, 3, 4, 3, 4, 1, 5, 5, 6, 4, 6, 2, 3, 5, 4, 5, 2, 1, 5, 2, 3, 2, 1, 2, 4, 2, 5, 3, 1, 1, 3, 4, 4, 2, 6, 5, 2, 1, 3, 1, 2, 4, 3, 6, 2, 1, 4, 4, 1, 5, 2, 3, 6, 2, 4, 2, 3, 4, 3, 6, 1, 1, 2, 1, 3, 1, 2, 2, 2, 3, 1, 6, 4, 5, 3, 2, 4, 5, 1, 6, 5, 2, 6, 5, 6, 2, 3, 5, 6, 1, 5, 4, 2, 3, 4, 1, 6, 4, 3, 5, 4, 6, 6, 2, 1, 1, 5, 4, 1, 6, 1, 4, 5, 4, 4, 2, 4, 4, 2, 5, 4, 3, 4, 3, 1, 1, 1, 1, 1, 6, 5, 3, 6, 2, 2, 2, 3, 1, 3, 4, 4, 3, 1, 2, 2, 4, 5, 2, 2, 5, 6, 2, 2, 5, 4, 2, 1, 1, 3, 4, 5, 5, 2, 3], [4, 6, 1, 2, 5, 2, 5, 3, 4, 1, 3, 6, 6, 5, 1, 4, 6, 5, 5, 2, 4, 6, 3, 3, 5, 1, 5, 4, 1, 6, 2, 2, 2, 4, 1, 4, 3, 1, 3, 2, 6, 5, 2, 3, 2, 5, 6, 2, 3, 5, 4, 3, 5, 6, 4, 5, 1, 2, 4, 5, 5, 6, 3, 3, 6, 1, 6, 5, 1, 4, 2, 4, 2, 3, 1, 2, 5, 5, 5, 4, 6, 6, 3, 3, 6, 5, 5, 3, 6, 3, 3, 2, 6, 1, 6, 3, 1, 6, 1, 5, 5, 2, 2, 1, 2, 1, 6, 6, 3, 6, 4, 6, 3, 4, 2, 4, 1, 5, 1, 1, 5, 1, 1, 5, 2, 2, 1, 6, 2, 1, 3, 5, 3, 2, 2, 3, 3, 6, 4, 1, 2, 3, 4, 4, 5, 1, 2, 1, 3, 2, 6, 1, 1, 2, 2, 2, 1, 5, 6, 2, 2, 3, 3, 2, 5, 6, 6, 6, 2, 3, 4, 6, 4, 2, 4, 4, 2, 2, 1, 6, 2, 2, 2, 6, 6, 1, 4, 6, 2, 3, 6], [1, 4, 5, 1, 5, 2, 2, 2, 3, 3, 4, 1, 5, 3, 2, 4, 2, 5, 6, 6, 1, 4, 1, 3, 6, 1, 1, 4, 1, 6, 4, 2, 3, 1, 1, 3, 6, 1, 5, 2, 5, 4, 2, 1, 3, 1, 4, 4, 4, 2, 6, 5, 4, 2, 4, 1, 1, 6, 5, 3, 4, 5, 2, 6, 4, 2, 3, 5, 3, 6, 4, 4, 2, 1, 2, 2, 5, 2, 2, 6, 2, 2, 2, 3, 6, 4, 3, 2, 2, 5, 6, 2, 3, 2, 1, 4, 4, 1, 5, 4, 5, 6, 2, 1, 2, 4, 3, 3, 6, 5, 4, 1, 2, 4, 5, 4, 3, 5, 2, 6, 4, 6, 3, 2, 2, 6, 2, 4, 1, 5, 1, 4, 2, 6, 5, 6, 3, 4, 3, 5, 6, 1, 2, 4, 2, 1, 1, 4, 3, 2, 1, 2, 4, 1, 5, 2, 4, 3, 4, 4, 1, 3, 6, 3, 4, 5, 1, 1, 3, 6, 1, 2, 2, 3, 4, 2, 3, 3, 5, 2, 5, 2, 6, 1, 3, 2, 1, 4, 3, 1, 1, 2, 5, 2, 2, 2, 5, 1], [1, 6, 3, 1, 6, 3, 1, 1, 4, 4, 2, 1, 5, 4, 1, 4, 3, 4, 6, 5, 3, 2, 6, 1, 6, 3, 4, 6, 6, 1, 2, 4, 3, 1, 2, 4, 2, 6, 4, 3, 6, 5, 6, 3, 1, 1, 1, 3, 5, 6, 6, 5, 2, 4, 3, 5, 4, 3, 3, 1, 4, 4, 1, 2, 6, 6, 5, 5, 2, 1, 1, 1, 3, 5, 1, 3, 5, 3, 6, 2, 5, 1, 6, 6, 2, 5, 6, 1, 6, 6, 2, 3, 4, 6, 5, 5, 2, 4, 2, 3, 2, 2, 2, 6, 6, 3, 3, 1, 1, 4, 2, 5, 5, 2, 1, 2, 4, 6, 3, 3, 6, 5, 2, 3, 4, 3, 4, 4, 2, 6, 2, 1, 4, 6, 3, 5, 6, 4, 3, 6, 5, 3, 4, 3, 3, 1, 6, 2, 4, 4, 3, 3, 3, 6, 3, 4, 3, 1, 2, 3, 3, 5, 1, 5, 6, 1, 3, 5, 2, 3, 4, 3, 3, 3, 3, 6, 1, 5, 1, 3, 4, 1, 4, 1, 6, 6, 1, 1, 6, 1, 2, 3, 5, 3, 3, 6, 3, 6, 4, 4, 2, 2, 1, 3, 5]]\n",
    "len(arr[-1])"
   ]
  },
  {
   "cell_type": "code",
   "execution_count": 13,
   "metadata": {},
   "outputs": [],
   "source": [
    "from MM_dual_rail_base import *"
   ]
  },
  {
   "cell_type": "code",
   "execution_count": 20,
   "metadata": {},
   "outputs": [
    {
     "data": {
      "text/plain": [
       "1"
      ]
     },
     "execution_count": 20,
     "metadata": {},
     "output_type": "execute_result"
    }
   ],
   "source": [
    "mm_base = MM_dual_rail_base(yaml_cfg)\n",
    "mm_base.get_total_time_from_running_list(running_list = [0, 3], bs_time = 1)"
   ]
  },
  {
   "cell_type": "code",
   "execution_count": 96,
   "metadata": {},
   "outputs": [
    {
     "data": {
      "text/plain": [
       "(19, 19)"
      ]
     },
     "execution_count": 96,
     "metadata": {},
     "output_type": "execute_result"
    }
   ],
   "source": [
    "depth_list = [1, 5, 10, 20, 30, 40,\n",
    "               50, 75, 100, 125, 150,\n",
    "                 175, 200, 250, 300, 400,\n",
    "                   500, 750, 1000]\n",
    "reps_list = [1000, 1000, 1000, 1000, 2000, 2000,\n",
    "             3000, 3000, 3000, 3000, 3000,\n",
    "             3000, 3000, 3000, 5000, 5000,\n",
    "             5000, 10000, 10000]\n",
    "\n",
    "len(depth_list), len(reps_list)\n"
   ]
  },
  {
   "cell_type": "code",
   "execution_count": 30,
   "metadata": {},
   "outputs": [
    {
     "data": {
      "text/plain": [
       "[['qubit', 'ge', 'hpi', -90],\n",
       " ['qubit', 'ef', 'pi', 0],\n",
       " ['man', 'M1', 'pi', 0],\n",
       " ['storage', 'M1-S6', 'pi', 0]]"
      ]
     },
     "execution_count": 30,
     "metadata": {},
     "output_type": "execute_result"
    }
   ],
   "source": [
    "from multimode_expts.MM_dual_rail_base import  *\n",
    "dummy = MM_dual_rail_base( cfg=yaml_cfg)\n",
    "dummy.prepulse_str_for_random_ram_state(1, [1], 6, 6)"
   ]
  },
  {
   "cell_type": "code",
   "execution_count": null,
   "metadata": {},
   "outputs": [],
   "source": [
    "t = 0.01\n",
    "cycles2us = soc.cycles2us(1)\n",
    "int(round(t / cycles2us))"
   ]
  },
  {
   "cell_type": "code",
   "execution_count": null,
   "metadata": {},
   "outputs": [],
   "source": [
    "Ec = 3425.5537944060666 - 3568.1751638611518\n",
    "Ej = (Ec+3568.1751638611518)**2/8/Ec\n",
    "print(Ej, Ec, Ej/Ec)\n",
    "\n",
    "m = 2\n",
    "epsilon = Ec*2**(4*m+5)/math.factorial(m)*np.sqrt(2/np.pi)*(Ej/2/Ec)**(m/2+3/4)*np.exp(-np.sqrt(8*Ej/Ec))*1e3\n",
    "\n",
    "print(epsilon, 'kHz')\n",
    "print('Ramsey limit: ', 1000/epsilon/2/np.pi, 'us')"
   ]
  },
  {
   "cell_type": "markdown",
   "metadata": {},
   "source": [
    "$\\text{Gain (linear)} = 10^{\\frac{\\text{dB}}{20}} $"
   ]
  },
  {
   "cell_type": "markdown",
   "metadata": {},
   "source": [
    "# Run sequential experiment"
   ]
  },
  {
   "cell_type": "code",
   "execution_count": 78,
   "metadata": {},
   "outputs": [
    {
     "name": "stdout",
     "output_type": "stream",
     "text": [
      "Config will be c:\\_Lib\\python\\multimode_expts\\config_rfsoc_ziqian.yml\n",
      "Index: 0 depth. = 1 \n",
      "{'pre_sweep_pulse': [['qubit', 'ge', 'hpi', 0], ['qubit', 'ef', 'pi', 0], ['man', 'M1', 'pi', 0], ['storage', 'M1-S4', 'pi', 0]], 'post_sweep_pulse': [['storage', 'M1-S4', 'pi', 0], ['man', 'M1', 'pi', 0], ['qubit', 'ef', 'pi', 0], ['qubit', 'ge', 'hpi', 0]], 'wait_freq': 0.1, 'prepulse': True, 'postpulse': True, 'rb_time': 'None', 'bs_gate_num': 'None', 'qubits': [0], 'calibrate_single_shot': True, 'singleshot_reps': 10000, 'span': 500, 'active_reset': True, 'man_reset': True, 'storage_reset': True, 'threshold': -39.769721213292996, 'readout_per_round': 4, 'prep_man_photon': False, 'rb_active_reset': True, 'rb_man_reset': True, 'rb_storage_reset': True, 'rb_reps': 300, 'gates_per_wait': 100000, 'rounds': 1, 'variations': 20, 'rb_depth': 1, 'IRB_gate_no': -1, 'bs_repeat': 1, 'sync': False, 'setup': False, 'bs_para': [100, 0, 0.8425040638970613, 0.005]}\n",
      "sscfg active reset True\n",
      "9910\n",
      "9751\n",
      "ge fidelity (%): 96.11463810032998\n",
      "rotation angle (deg): -1.6356138524737602\n",
      "threshold ge: -38.7767508008634\n"
     ]
    },
    {
     "data": {
      "application/vnd.jupyter.widget-view+json": {
       "model_id": "738e675bcece4a128b62d3cee5bf1871",
       "version_major": 2,
       "version_minor": 0
      },
      "text/plain": [
       "  0%|          | 0/20 [00:00<?, ?it/s]"
      ]
     },
     "metadata": {},
     "output_type": "display_data"
    },
    {
     "name": "stdout",
     "output_type": "stream",
     "text": [
      "Saving H:\\Shared drives\\SLab\\Multimode\\experiment\\240911\\data1\\00963_SingleBeamSplitterRB_check_target_sweep_depth.h5\n",
      "Index: 1 depth. = 4 \n",
      "{'pre_sweep_pulse': [['qubit', 'ge', 'hpi', 0], ['qubit', 'ef', 'pi', 0], ['man', 'M1', 'pi', 0], ['storage', 'M1-S4', 'pi', 0]], 'post_sweep_pulse': [['storage', 'M1-S4', 'pi', 0], ['man', 'M1', 'pi', 0], ['qubit', 'ef', 'pi', 0], ['qubit', 'ge', 'hpi', 121.32058520117684]], 'wait_freq': 0.1, 'prepulse': True, 'postpulse': True, 'rb_time': 'None', 'bs_gate_num': 'None', 'qubits': [0], 'calibrate_single_shot': False, 'singleshot_reps': 10000, 'span': 500, 'active_reset': True, 'man_reset': True, 'storage_reset': True, 'threshold': -39.769721213292996, 'readout_per_round': 4, 'prep_man_photon': False, 'rb_active_reset': True, 'rb_man_reset': True, 'rb_storage_reset': True, 'rb_reps': 300, 'gates_per_wait': 100000, 'rounds': 1, 'variations': 20, 'rb_depth': 4, 'IRB_gate_no': -1, 'bs_repeat': 1, 'sync': False, 'setup': False, 'bs_para': [100, 0, 0.8425040638970613, 0.005]}\n",
      "ge fidelity (%): 0\n",
      "rotation angle (deg): [0]\n",
      "threshold ge: 0\n"
     ]
    },
    {
     "data": {
      "application/vnd.jupyter.widget-view+json": {
       "model_id": "d5c2a1d00e3244aebd95d62af67c9f8b",
       "version_major": 2,
       "version_minor": 0
      },
      "text/plain": [
       "  0%|          | 0/20 [00:00<?, ?it/s]"
      ]
     },
     "metadata": {},
     "output_type": "display_data"
    },
    {
     "name": "stdout",
     "output_type": "stream",
     "text": [
      "Saving H:\\Shared drives\\SLab\\Multimode\\experiment\\240911\\data1\\00964_SingleBeamSplitterRB_check_target_sweep_depth.h5\n",
      "Index: 2 depth. = 7 \n",
      "{'pre_sweep_pulse': [['qubit', 'ge', 'hpi', 0], ['qubit', 'ef', 'pi', 0], ['man', 'M1', 'pi', 0], ['storage', 'M1-S4', 'pi', 0]], 'post_sweep_pulse': [['storage', 'M1-S4', 'pi', 0], ['man', 'M1', 'pi', 0], ['qubit', 'ef', 'pi', 0], ['qubit', 'ge', 'hpi', 181.98087780176525]], 'wait_freq': 0.1, 'prepulse': True, 'postpulse': True, 'rb_time': 'None', 'bs_gate_num': 'None', 'qubits': [0], 'calibrate_single_shot': False, 'singleshot_reps': 10000, 'span': 500, 'active_reset': True, 'man_reset': True, 'storage_reset': True, 'threshold': -39.769721213292996, 'readout_per_round': 4, 'prep_man_photon': False, 'rb_active_reset': True, 'rb_man_reset': True, 'rb_storage_reset': True, 'rb_reps': 300, 'gates_per_wait': 100000, 'rounds': 1, 'variations': 20, 'rb_depth': 7, 'IRB_gate_no': -1, 'bs_repeat': 1, 'sync': False, 'setup': False, 'bs_para': [100, 0, 0.8425040638970613, 0.005]}\n",
      "ge fidelity (%): 0\n",
      "rotation angle (deg): [0]\n",
      "threshold ge: 0\n"
     ]
    },
    {
     "data": {
      "application/vnd.jupyter.widget-view+json": {
       "model_id": "c8053756ce434a7e86ca8adb92a0f423",
       "version_major": 2,
       "version_minor": 0
      },
      "text/plain": [
       "  0%|          | 0/20 [00:00<?, ?it/s]"
      ]
     },
     "metadata": {},
     "output_type": "display_data"
    },
    {
     "name": "stdout",
     "output_type": "stream",
     "text": [
      "Saving H:\\Shared drives\\SLab\\Multimode\\experiment\\240911\\data1\\00965_SingleBeamSplitterRB_check_target_sweep_depth.h5\n",
      "Index: 3 depth. = 10 \n",
      "{'pre_sweep_pulse': [['qubit', 'ge', 'hpi', 0], ['qubit', 'ef', 'pi', 0], ['man', 'M1', 'pi', 0], ['storage', 'M1-S4', 'pi', 0]], 'post_sweep_pulse': [['storage', 'M1-S4', 'pi', 0], ['man', 'M1', 'pi', 0], ['qubit', 'ef', 'pi', 0], ['qubit', 'ge', 'hpi', 303.3014630029421]], 'wait_freq': 0.1, 'prepulse': True, 'postpulse': True, 'rb_time': 'None', 'bs_gate_num': 'None', 'qubits': [0], 'calibrate_single_shot': False, 'singleshot_reps': 10000, 'span': 500, 'active_reset': True, 'man_reset': True, 'storage_reset': True, 'threshold': -39.769721213292996, 'readout_per_round': 4, 'prep_man_photon': False, 'rb_active_reset': True, 'rb_man_reset': True, 'rb_storage_reset': True, 'rb_reps': 300, 'gates_per_wait': 100000, 'rounds': 1, 'variations': 20, 'rb_depth': 10, 'IRB_gate_no': -1, 'bs_repeat': 1, 'sync': False, 'setup': False, 'bs_para': [100, 0, 0.8425040638970613, 0.005]}\n",
      "ge fidelity (%): 0\n",
      "rotation angle (deg): [0]\n",
      "threshold ge: 0\n"
     ]
    },
    {
     "data": {
      "application/vnd.jupyter.widget-view+json": {
       "model_id": "a04d9eaaefaa4331836a1f60e1521e76",
       "version_major": 2,
       "version_minor": 0
      },
      "text/plain": [
       "  0%|          | 0/20 [00:00<?, ?it/s]"
      ]
     },
     "metadata": {},
     "output_type": "display_data"
    },
    {
     "name": "stdout",
     "output_type": "stream",
     "text": [
      "Saving H:\\Shared drives\\SLab\\Multimode\\experiment\\240911\\data1\\00966_SingleBeamSplitterRB_check_target_sweep_depth.h5\n",
      "Index: 4 depth. = 13 \n",
      "{'pre_sweep_pulse': [['qubit', 'ge', 'hpi', 0], ['qubit', 'ef', 'pi', 0], ['man', 'M1', 'pi', 0], ['storage', 'M1-S4', 'pi', 0]], 'post_sweep_pulse': [['storage', 'M1-S4', 'pi', 0], ['man', 'M1', 'pi', 0], ['qubit', 'ef', 'pi', 0], ['qubit', 'ge', 'hpi', 424.6220482041189]], 'wait_freq': 0.1, 'prepulse': True, 'postpulse': True, 'rb_time': 'None', 'bs_gate_num': 'None', 'qubits': [0], 'calibrate_single_shot': False, 'singleshot_reps': 10000, 'span': 500, 'active_reset': True, 'man_reset': True, 'storage_reset': True, 'threshold': -39.769721213292996, 'readout_per_round': 4, 'prep_man_photon': False, 'rb_active_reset': True, 'rb_man_reset': True, 'rb_storage_reset': True, 'rb_reps': 300, 'gates_per_wait': 100000, 'rounds': 1, 'variations': 20, 'rb_depth': 13, 'IRB_gate_no': -1, 'bs_repeat': 1, 'sync': False, 'setup': False, 'bs_para': [100, 0, 0.8425040638970613, 0.005]}\n",
      "ge fidelity (%): 0\n",
      "rotation angle (deg): [0]\n",
      "threshold ge: 0\n"
     ]
    },
    {
     "data": {
      "application/vnd.jupyter.widget-view+json": {
       "model_id": "be43248f5ae44576bc94fa618e20ab8e",
       "version_major": 2,
       "version_minor": 0
      },
      "text/plain": [
       "  0%|          | 0/20 [00:00<?, ?it/s]"
      ]
     },
     "metadata": {},
     "output_type": "display_data"
    },
    {
     "name": "stdout",
     "output_type": "stream",
     "text": [
      "Saving H:\\Shared drives\\SLab\\Multimode\\experiment\\240911\\data1\\00967_SingleBeamSplitterRB_check_target_sweep_depth.h5\n",
      "Index: 5 depth. = 16 \n",
      "{'pre_sweep_pulse': [['qubit', 'ge', 'hpi', 0], ['qubit', 'ef', 'pi', 0], ['man', 'M1', 'pi', 0], ['storage', 'M1-S4', 'pi', 0]], 'post_sweep_pulse': [['storage', 'M1-S4', 'pi', 0], ['man', 'M1', 'pi', 0], ['qubit', 'ef', 'pi', 0], ['qubit', 'ge', 'hpi', 545.942633405296]], 'wait_freq': 0.1, 'prepulse': True, 'postpulse': True, 'rb_time': 'None', 'bs_gate_num': 'None', 'qubits': [0], 'calibrate_single_shot': False, 'singleshot_reps': 10000, 'span': 500, 'active_reset': True, 'man_reset': True, 'storage_reset': True, 'threshold': -39.769721213292996, 'readout_per_round': 4, 'prep_man_photon': False, 'rb_active_reset': True, 'rb_man_reset': True, 'rb_storage_reset': True, 'rb_reps': 300, 'gates_per_wait': 100000, 'rounds': 1, 'variations': 20, 'rb_depth': 16, 'IRB_gate_no': -1, 'bs_repeat': 1, 'sync': False, 'setup': False, 'bs_para': [100, 0, 0.8425040638970613, 0.005]}\n",
      "ge fidelity (%): 0\n",
      "rotation angle (deg): [0]\n",
      "threshold ge: 0\n"
     ]
    },
    {
     "data": {
      "application/vnd.jupyter.widget-view+json": {
       "model_id": "bbe224b1c3b84c4bb817c72dd0ed31c6",
       "version_major": 2,
       "version_minor": 0
      },
      "text/plain": [
       "  0%|          | 0/20 [00:00<?, ?it/s]"
      ]
     },
     "metadata": {},
     "output_type": "display_data"
    },
    {
     "name": "stdout",
     "output_type": "stream",
     "text": [
      "Saving H:\\Shared drives\\SLab\\Multimode\\experiment\\240911\\data1\\00968_SingleBeamSplitterRB_check_target_sweep_depth.h5\n",
      "Index: 6 depth. = 19 \n",
      "{'pre_sweep_pulse': [['qubit', 'ge', 'hpi', 0], ['qubit', 'ef', 'pi', 0], ['man', 'M1', 'pi', 0], ['storage', 'M1-S4', 'pi', 0]], 'post_sweep_pulse': [['storage', 'M1-S4', 'pi', 0], ['man', 'M1', 'pi', 0], ['qubit', 'ef', 'pi', 0], ['qubit', 'ge', 'hpi', 667.2632186064726]], 'wait_freq': 0.1, 'prepulse': True, 'postpulse': True, 'rb_time': 'None', 'bs_gate_num': 'None', 'qubits': [0], 'calibrate_single_shot': False, 'singleshot_reps': 10000, 'span': 500, 'active_reset': True, 'man_reset': True, 'storage_reset': True, 'threshold': -39.769721213292996, 'readout_per_round': 4, 'prep_man_photon': False, 'rb_active_reset': True, 'rb_man_reset': True, 'rb_storage_reset': True, 'rb_reps': 300, 'gates_per_wait': 100000, 'rounds': 1, 'variations': 20, 'rb_depth': 19, 'IRB_gate_no': -1, 'bs_repeat': 1, 'sync': False, 'setup': False, 'bs_para': [100, 0, 0.8425040638970613, 0.005]}\n",
      "ge fidelity (%): 0\n",
      "rotation angle (deg): [0]\n",
      "threshold ge: 0\n"
     ]
    },
    {
     "data": {
      "application/vnd.jupyter.widget-view+json": {
       "model_id": "a633279960e649b7b4d7a7f81aa3648a",
       "version_major": 2,
       "version_minor": 0
      },
      "text/plain": [
       "  0%|          | 0/20 [00:00<?, ?it/s]"
      ]
     },
     "metadata": {},
     "output_type": "display_data"
    },
    {
     "name": "stdout",
     "output_type": "stream",
     "text": [
      "Saving H:\\Shared drives\\SLab\\Multimode\\experiment\\240911\\data1\\00969_SingleBeamSplitterRB_check_target_sweep_depth.h5\n",
      "Index: 7 depth. = 22 \n",
      "{'pre_sweep_pulse': [['qubit', 'ge', 'hpi', 0], ['qubit', 'ef', 'pi', 0], ['man', 'M1', 'pi', 0], ['storage', 'M1-S4', 'pi', 0]], 'post_sweep_pulse': [['storage', 'M1-S4', 'pi', 0], ['man', 'M1', 'pi', 0], ['qubit', 'ef', 'pi', 0], ['qubit', 'ge', 'hpi', 818.9139501079436]], 'wait_freq': 0.1, 'prepulse': True, 'postpulse': True, 'rb_time': 'None', 'bs_gate_num': 'None', 'qubits': [0], 'calibrate_single_shot': False, 'singleshot_reps': 10000, 'span': 500, 'active_reset': True, 'man_reset': True, 'storage_reset': True, 'threshold': -39.769721213292996, 'readout_per_round': 4, 'prep_man_photon': False, 'rb_active_reset': True, 'rb_man_reset': True, 'rb_storage_reset': True, 'rb_reps': 300, 'gates_per_wait': 100000, 'rounds': 1, 'variations': 20, 'rb_depth': 22, 'IRB_gate_no': -1, 'bs_repeat': 1, 'sync': False, 'setup': False, 'bs_para': [100, 0, 0.8425040638970613, 0.005]}\n",
      "ge fidelity (%): 0\n",
      "rotation angle (deg): [0]\n",
      "threshold ge: 0\n"
     ]
    },
    {
     "data": {
      "application/vnd.jupyter.widget-view+json": {
       "model_id": "03c051bffacc45779d8d03c03e911466",
       "version_major": 2,
       "version_minor": 0
      },
      "text/plain": [
       "  0%|          | 0/20 [00:00<?, ?it/s]"
      ]
     },
     "metadata": {},
     "output_type": "display_data"
    },
    {
     "name": "stdout",
     "output_type": "stream",
     "text": [
      "Saving H:\\Shared drives\\SLab\\Multimode\\experiment\\240911\\data1\\00970_SingleBeamSplitterRB_check_target_sweep_depth.h5\n",
      "Index: 8 depth. = 25 \n",
      "{'pre_sweep_pulse': [['qubit', 'ge', 'hpi', 0], ['qubit', 'ef', 'pi', 0], ['man', 'M1', 'pi', 0], ['storage', 'M1-S4', 'pi', 0]], 'post_sweep_pulse': [['storage', 'M1-S4', 'pi', 0], ['man', 'M1', 'pi', 0], ['qubit', 'ef', 'pi', 0], ['qubit', 'ge', 'hpi', 909.9043890088261]], 'wait_freq': 0.1, 'prepulse': True, 'postpulse': True, 'rb_time': 'None', 'bs_gate_num': 'None', 'qubits': [0], 'calibrate_single_shot': False, 'singleshot_reps': 10000, 'span': 500, 'active_reset': True, 'man_reset': True, 'storage_reset': True, 'threshold': -39.769721213292996, 'readout_per_round': 4, 'prep_man_photon': False, 'rb_active_reset': True, 'rb_man_reset': True, 'rb_storage_reset': True, 'rb_reps': 300, 'gates_per_wait': 100000, 'rounds': 1, 'variations': 20, 'rb_depth': 25, 'IRB_gate_no': -1, 'bs_repeat': 1, 'sync': False, 'setup': False, 'bs_para': [100, 0, 0.8425040638970613, 0.005]}\n",
      "ge fidelity (%): 0\n",
      "rotation angle (deg): [0]\n",
      "threshold ge: 0\n"
     ]
    },
    {
     "data": {
      "application/vnd.jupyter.widget-view+json": {
       "model_id": "6d6062a9d8614e439b89c27b21760e95",
       "version_major": 2,
       "version_minor": 0
      },
      "text/plain": [
       "  0%|          | 0/20 [00:00<?, ?it/s]"
      ]
     },
     "metadata": {},
     "output_type": "display_data"
    },
    {
     "name": "stdout",
     "output_type": "stream",
     "text": [
      "Saving H:\\Shared drives\\SLab\\Multimode\\experiment\\240911\\data1\\00971_SingleBeamSplitterRB_check_target_sweep_depth.h5\n",
      "Index: 9 depth. = 28 \n",
      "{'pre_sweep_pulse': [['qubit', 'ge', 'hpi', 0], ['qubit', 'ef', 'pi', 0], ['man', 'M1', 'pi', 0], ['storage', 'M1-S4', 'pi', 0]], 'post_sweep_pulse': [['storage', 'M1-S4', 'pi', 0], ['man', 'M1', 'pi', 0], ['qubit', 'ef', 'pi', 0], ['qubit', 'ge', 'hpi', 970.5646816094146]], 'wait_freq': 0.1, 'prepulse': True, 'postpulse': True, 'rb_time': 'None', 'bs_gate_num': 'None', 'qubits': [0], 'calibrate_single_shot': False, 'singleshot_reps': 10000, 'span': 500, 'active_reset': True, 'man_reset': True, 'storage_reset': True, 'threshold': -39.769721213292996, 'readout_per_round': 4, 'prep_man_photon': False, 'rb_active_reset': True, 'rb_man_reset': True, 'rb_storage_reset': True, 'rb_reps': 300, 'gates_per_wait': 100000, 'rounds': 1, 'variations': 20, 'rb_depth': 28, 'IRB_gate_no': -1, 'bs_repeat': 1, 'sync': False, 'setup': False, 'bs_para': [100, 0, 0.8425040638970613, 0.005]}\n",
      "ge fidelity (%): 0\n",
      "rotation angle (deg): [0]\n",
      "threshold ge: 0\n"
     ]
    },
    {
     "data": {
      "application/vnd.jupyter.widget-view+json": {
       "model_id": "5c291f7ef7ea4fea9958723e41d1b7c0",
       "version_major": 2,
       "version_minor": 0
      },
      "text/plain": [
       "  0%|          | 0/20 [00:00<?, ?it/s]"
      ]
     },
     "metadata": {},
     "output_type": "display_data"
    },
    {
     "name": "stdout",
     "output_type": "stream",
     "text": [
      "Saving H:\\Shared drives\\SLab\\Multimode\\experiment\\240911\\data1\\00972_SingleBeamSplitterRB_check_target_sweep_depth.h5\n",
      "Index: 10 depth. = 31 \n",
      "{'pre_sweep_pulse': [['qubit', 'ge', 'hpi', 0], ['qubit', 'ef', 'pi', 0], ['man', 'M1', 'pi', 0], ['storage', 'M1-S4', 'pi', 0]], 'post_sweep_pulse': [['storage', 'M1-S4', 'pi', 0], ['man', 'M1', 'pi', 0], ['qubit', 'ef', 'pi', 0], ['qubit', 'ge', 'hpi', 1031.2249742100032]], 'wait_freq': 0.1, 'prepulse': True, 'postpulse': True, 'rb_time': 'None', 'bs_gate_num': 'None', 'qubits': [0], 'calibrate_single_shot': False, 'singleshot_reps': 10000, 'span': 500, 'active_reset': True, 'man_reset': True, 'storage_reset': True, 'threshold': -39.769721213292996, 'readout_per_round': 4, 'prep_man_photon': False, 'rb_active_reset': True, 'rb_man_reset': True, 'rb_storage_reset': True, 'rb_reps': 300, 'gates_per_wait': 100000, 'rounds': 1, 'variations': 20, 'rb_depth': 31, 'IRB_gate_no': -1, 'bs_repeat': 1, 'sync': False, 'setup': False, 'bs_para': [100, 0, 0.8425040638970613, 0.005]}\n",
      "ge fidelity (%): 0\n",
      "rotation angle (deg): [0]\n",
      "threshold ge: 0\n"
     ]
    },
    {
     "data": {
      "application/vnd.jupyter.widget-view+json": {
       "model_id": "df85d0e12ce54e2f951a6f6432432454",
       "version_major": 2,
       "version_minor": 0
      },
      "text/plain": [
       "  0%|          | 0/20 [00:00<?, ?it/s]"
      ]
     },
     "metadata": {},
     "output_type": "display_data"
    },
    {
     "name": "stdout",
     "output_type": "stream",
     "text": [
      "Saving H:\\Shared drives\\SLab\\Multimode\\experiment\\240911\\data1\\00973_SingleBeamSplitterRB_check_target_sweep_depth.h5\n",
      "Index: 11 depth. = 34 \n",
      "{'pre_sweep_pulse': [['qubit', 'ge', 'hpi', 0], ['qubit', 'ef', 'pi', 0], ['man', 'M1', 'pi', 0], ['storage', 'M1-S4', 'pi', 0]], 'post_sweep_pulse': [['storage', 'M1-S4', 'pi', 0], ['man', 'M1', 'pi', 0], ['qubit', 'ef', 'pi', 0], ['qubit', 'ge', 'hpi', 1243.535998312062]], 'wait_freq': 0.1, 'prepulse': True, 'postpulse': True, 'rb_time': 'None', 'bs_gate_num': 'None', 'qubits': [0], 'calibrate_single_shot': False, 'singleshot_reps': 10000, 'span': 500, 'active_reset': True, 'man_reset': True, 'storage_reset': True, 'threshold': -39.769721213292996, 'readout_per_round': 4, 'prep_man_photon': False, 'rb_active_reset': True, 'rb_man_reset': True, 'rb_storage_reset': True, 'rb_reps': 300, 'gates_per_wait': 100000, 'rounds': 1, 'variations': 20, 'rb_depth': 34, 'IRB_gate_no': -1, 'bs_repeat': 1, 'sync': False, 'setup': False, 'bs_para': [100, 0, 0.8425040638970613, 0.005]}\n",
      "ge fidelity (%): 0\n",
      "rotation angle (deg): [0]\n",
      "threshold ge: 0\n"
     ]
    },
    {
     "data": {
      "application/vnd.jupyter.widget-view+json": {
       "model_id": "37c67189ffaa4ea5b23a5b49fe5fa788",
       "version_major": 2,
       "version_minor": 0
      },
      "text/plain": [
       "  0%|          | 0/20 [00:00<?, ?it/s]"
      ]
     },
     "metadata": {},
     "output_type": "display_data"
    },
    {
     "name": "stdout",
     "output_type": "stream",
     "text": [
      "Saving H:\\Shared drives\\SLab\\Multimode\\experiment\\240911\\data1\\00974_SingleBeamSplitterRB_check_target_sweep_depth.h5\n",
      "Index: 12 depth. = 37 \n",
      "{'pre_sweep_pulse': [['qubit', 'ge', 'hpi', 0], ['qubit', 'ef', 'pi', 0], ['man', 'M1', 'pi', 0], ['storage', 'M1-S4', 'pi', 0]], 'post_sweep_pulse': [['storage', 'M1-S4', 'pi', 0], ['man', 'M1', 'pi', 0], ['qubit', 'ef', 'pi', 0], ['qubit', 'ge', 'hpi', 1304.1962909126505]], 'wait_freq': 0.1, 'prepulse': True, 'postpulse': True, 'rb_time': 'None', 'bs_gate_num': 'None', 'qubits': [0], 'calibrate_single_shot': False, 'singleshot_reps': 10000, 'span': 500, 'active_reset': True, 'man_reset': True, 'storage_reset': True, 'threshold': -39.769721213292996, 'readout_per_round': 4, 'prep_man_photon': False, 'rb_active_reset': True, 'rb_man_reset': True, 'rb_storage_reset': True, 'rb_reps': 300, 'gates_per_wait': 100000, 'rounds': 1, 'variations': 20, 'rb_depth': 37, 'IRB_gate_no': -1, 'bs_repeat': 1, 'sync': False, 'setup': False, 'bs_para': [100, 0, 0.8425040638970613, 0.005]}\n",
      "ge fidelity (%): 0\n",
      "rotation angle (deg): [0]\n",
      "threshold ge: 0\n"
     ]
    },
    {
     "data": {
      "application/vnd.jupyter.widget-view+json": {
       "model_id": "44a15a7a4b0e4dd7818cbead869e5896",
       "version_major": 2,
       "version_minor": 0
      },
      "text/plain": [
       "  0%|          | 0/20 [00:00<?, ?it/s]"
      ]
     },
     "metadata": {},
     "output_type": "display_data"
    },
    {
     "name": "stdout",
     "output_type": "stream",
     "text": [
      "Saving H:\\Shared drives\\SLab\\Multimode\\experiment\\240911\\data1\\00975_SingleBeamSplitterRB_check_target_sweep_depth.h5\n",
      "Index: 13 depth. = 40 \n",
      "{'pre_sweep_pulse': [['qubit', 'ge', 'hpi', 0], ['qubit', 'ef', 'pi', 0], ['man', 'M1', 'pi', 0], ['storage', 'M1-S4', 'pi', 0]], 'post_sweep_pulse': [['storage', 'M1-S4', 'pi', 0], ['man', 'M1', 'pi', 0], ['qubit', 'ef', 'pi', 0], ['qubit', 'ge', 'hpi', 1455.8470224141215]], 'wait_freq': 0.1, 'prepulse': True, 'postpulse': True, 'rb_time': 'None', 'bs_gate_num': 'None', 'qubits': [0], 'calibrate_single_shot': False, 'singleshot_reps': 10000, 'span': 500, 'active_reset': True, 'man_reset': True, 'storage_reset': True, 'threshold': -39.769721213292996, 'readout_per_round': 4, 'prep_man_photon': False, 'rb_active_reset': True, 'rb_man_reset': True, 'rb_storage_reset': True, 'rb_reps': 300, 'gates_per_wait': 100000, 'rounds': 1, 'variations': 20, 'rb_depth': 40, 'IRB_gate_no': -1, 'bs_repeat': 1, 'sync': False, 'setup': False, 'bs_para': [100, 0, 0.8425040638970613, 0.005]}\n",
      "ge fidelity (%): 0\n",
      "rotation angle (deg): [0]\n",
      "threshold ge: 0\n"
     ]
    },
    {
     "data": {
      "application/vnd.jupyter.widget-view+json": {
       "model_id": "4ade8610b6444dfb99fd333dc797604b",
       "version_major": 2,
       "version_minor": 0
      },
      "text/plain": [
       "  0%|          | 0/20 [00:00<?, ?it/s]"
      ]
     },
     "metadata": {},
     "output_type": "display_data"
    },
    {
     "name": "stdout",
     "output_type": "stream",
     "text": [
      "Saving H:\\Shared drives\\SLab\\Multimode\\experiment\\240911\\data1\\00976_SingleBeamSplitterRB_check_target_sweep_depth.h5\n",
      "Index: 14 depth. = 43 \n",
      "{'pre_sweep_pulse': [['qubit', 'ge', 'hpi', 0], ['qubit', 'ef', 'pi', 0], ['man', 'M1', 'pi', 0], ['storage', 'M1-S4', 'pi', 0]], 'post_sweep_pulse': [['storage', 'M1-S4', 'pi', 0], ['man', 'M1', 'pi', 0], ['qubit', 'ef', 'pi', 0], ['qubit', 'ge', 'hpi', 1789.478631717357]], 'wait_freq': 0.1, 'prepulse': True, 'postpulse': True, 'rb_time': 'None', 'bs_gate_num': 'None', 'qubits': [0], 'calibrate_single_shot': False, 'singleshot_reps': 10000, 'span': 500, 'active_reset': True, 'man_reset': True, 'storage_reset': True, 'threshold': -39.769721213292996, 'readout_per_round': 4, 'prep_man_photon': False, 'rb_active_reset': True, 'rb_man_reset': True, 'rb_storage_reset': True, 'rb_reps': 300, 'gates_per_wait': 100000, 'rounds': 1, 'variations': 20, 'rb_depth': 43, 'IRB_gate_no': -1, 'bs_repeat': 1, 'sync': False, 'setup': False, 'bs_para': [100, 0, 0.8425040638970613, 0.005]}\n",
      "ge fidelity (%): 0\n",
      "rotation angle (deg): [0]\n",
      "threshold ge: 0\n"
     ]
    },
    {
     "data": {
      "application/vnd.jupyter.widget-view+json": {
       "model_id": "b8e0ad071c8d4876871d1d88a1d4efdf",
       "version_major": 2,
       "version_minor": 0
      },
      "text/plain": [
       "  0%|          | 0/20 [00:00<?, ?it/s]"
      ]
     },
     "metadata": {},
     "output_type": "display_data"
    },
    {
     "name": "stdout",
     "output_type": "stream",
     "text": [
      "Saving H:\\Shared drives\\SLab\\Multimode\\experiment\\240911\\data1\\00977_SingleBeamSplitterRB_check_target_sweep_depth.h5\n",
      "Index: 15 depth. = 46 \n",
      "{'pre_sweep_pulse': [['qubit', 'ge', 'hpi', 0], ['qubit', 'ef', 'pi', 0], ['man', 'M1', 'pi', 0], ['storage', 'M1-S4', 'pi', 0]], 'post_sweep_pulse': [['storage', 'M1-S4', 'pi', 0], ['man', 'M1', 'pi', 0], ['qubit', 'ef', 'pi', 0], ['qubit', 'ge', 'hpi', 1759.1484854170633]], 'wait_freq': 0.1, 'prepulse': True, 'postpulse': True, 'rb_time': 'None', 'bs_gate_num': 'None', 'qubits': [0], 'calibrate_single_shot': False, 'singleshot_reps': 10000, 'span': 500, 'active_reset': True, 'man_reset': True, 'storage_reset': True, 'threshold': -39.769721213292996, 'readout_per_round': 4, 'prep_man_photon': False, 'rb_active_reset': True, 'rb_man_reset': True, 'rb_storage_reset': True, 'rb_reps': 300, 'gates_per_wait': 100000, 'rounds': 1, 'variations': 20, 'rb_depth': 46, 'IRB_gate_no': -1, 'bs_repeat': 1, 'sync': False, 'setup': False, 'bs_para': [100, 0, 0.8425040638970613, 0.005]}\n",
      "ge fidelity (%): 0\n",
      "rotation angle (deg): [0]\n",
      "threshold ge: 0\n"
     ]
    },
    {
     "data": {
      "application/vnd.jupyter.widget-view+json": {
       "model_id": "a33d27265be64b438b64686523c1fc6c",
       "version_major": 2,
       "version_minor": 0
      },
      "text/plain": [
       "  0%|          | 0/20 [00:00<?, ?it/s]"
      ]
     },
     "metadata": {},
     "output_type": "display_data"
    },
    {
     "name": "stdout",
     "output_type": "stream",
     "text": [
      "Saving H:\\Shared drives\\SLab\\Multimode\\experiment\\240911\\data1\\00978_SingleBeamSplitterRB_check_target_sweep_depth.h5\n",
      "Index: 16 depth. = 49 \n",
      "{'pre_sweep_pulse': [['qubit', 'ge', 'hpi', 0], ['qubit', 'ef', 'pi', 0], ['man', 'M1', 'pi', 0], ['storage', 'M1-S4', 'pi', 0]], 'post_sweep_pulse': [['storage', 'M1-S4', 'pi', 0], ['man', 'M1', 'pi', 0], ['qubit', 'ef', 'pi', 0], ['qubit', 'ge', 'hpi', 1910.7992169185338]], 'wait_freq': 0.1, 'prepulse': True, 'postpulse': True, 'rb_time': 'None', 'bs_gate_num': 'None', 'qubits': [0], 'calibrate_single_shot': False, 'singleshot_reps': 10000, 'span': 500, 'active_reset': True, 'man_reset': True, 'storage_reset': True, 'threshold': -39.769721213292996, 'readout_per_round': 4, 'prep_man_photon': False, 'rb_active_reset': True, 'rb_man_reset': True, 'rb_storage_reset': True, 'rb_reps': 300, 'gates_per_wait': 100000, 'rounds': 1, 'variations': 20, 'rb_depth': 49, 'IRB_gate_no': -1, 'bs_repeat': 1, 'sync': False, 'setup': False, 'bs_para': [100, 0, 0.8425040638970613, 0.005]}\n",
      "ge fidelity (%): 0\n",
      "rotation angle (deg): [0]\n",
      "threshold ge: 0\n"
     ]
    },
    {
     "data": {
      "application/vnd.jupyter.widget-view+json": {
       "model_id": "2ba587c657ef4a9986aacb2883111fe1",
       "version_major": 2,
       "version_minor": 0
      },
      "text/plain": [
       "  0%|          | 0/20 [00:00<?, ?it/s]"
      ]
     },
     "metadata": {},
     "output_type": "display_data"
    },
    {
     "name": "stdout",
     "output_type": "stream",
     "text": [
      "Saving H:\\Shared drives\\SLab\\Multimode\\experiment\\240911\\data1\\00979_SingleBeamSplitterRB_check_target_sweep_depth.h5\n",
      "Index: 17 depth. = 52 \n",
      "{'pre_sweep_pulse': [['qubit', 'ge', 'hpi', 0], ['qubit', 'ef', 'pi', 0], ['man', 'M1', 'pi', 0], ['storage', 'M1-S4', 'pi', 0]], 'post_sweep_pulse': [['storage', 'M1-S4', 'pi', 0], ['man', 'M1', 'pi', 0], ['qubit', 'ef', 'pi', 0], ['qubit', 'ge', 'hpi', 1941.1293632188276]], 'wait_freq': 0.1, 'prepulse': True, 'postpulse': True, 'rb_time': 'None', 'bs_gate_num': 'None', 'qubits': [0], 'calibrate_single_shot': False, 'singleshot_reps': 10000, 'span': 500, 'active_reset': True, 'man_reset': True, 'storage_reset': True, 'threshold': -39.769721213292996, 'readout_per_round': 4, 'prep_man_photon': False, 'rb_active_reset': True, 'rb_man_reset': True, 'rb_storage_reset': True, 'rb_reps': 300, 'gates_per_wait': 100000, 'rounds': 1, 'variations': 20, 'rb_depth': 52, 'IRB_gate_no': -1, 'bs_repeat': 1, 'sync': False, 'setup': False, 'bs_para': [100, 0, 0.8425040638970613, 0.005]}\n",
      "ge fidelity (%): 0\n",
      "rotation angle (deg): [0]\n",
      "threshold ge: 0\n"
     ]
    },
    {
     "data": {
      "application/vnd.jupyter.widget-view+json": {
       "model_id": "9c35ab21543044229282a5ea2c4cddb4",
       "version_major": 2,
       "version_minor": 0
      },
      "text/plain": [
       "  0%|          | 0/20 [00:00<?, ?it/s]"
      ]
     },
     "metadata": {},
     "output_type": "display_data"
    },
    {
     "name": "stdout",
     "output_type": "stream",
     "text": [
      "Saving H:\\Shared drives\\SLab\\Multimode\\experiment\\240911\\data1\\00980_SingleBeamSplitterRB_check_target_sweep_depth.h5\n",
      "Index: 18 depth. = 55 \n",
      "{'pre_sweep_pulse': [['qubit', 'ge', 'hpi', 0], ['qubit', 'ef', 'pi', 0], ['man', 'M1', 'pi', 0], ['storage', 'M1-S4', 'pi', 0]], 'post_sweep_pulse': [['storage', 'M1-S4', 'pi', 0], ['man', 'M1', 'pi', 0], ['qubit', 'ef', 'pi', 0], ['qubit', 'ge', 'hpi', 2062.449948420004]], 'wait_freq': 0.1, 'prepulse': True, 'postpulse': True, 'rb_time': 'None', 'bs_gate_num': 'None', 'qubits': [0], 'calibrate_single_shot': False, 'singleshot_reps': 10000, 'span': 500, 'active_reset': True, 'man_reset': True, 'storage_reset': True, 'threshold': -39.769721213292996, 'readout_per_round': 4, 'prep_man_photon': False, 'rb_active_reset': True, 'rb_man_reset': True, 'rb_storage_reset': True, 'rb_reps': 300, 'gates_per_wait': 100000, 'rounds': 1, 'variations': 20, 'rb_depth': 55, 'IRB_gate_no': -1, 'bs_repeat': 1, 'sync': False, 'setup': False, 'bs_para': [100, 0, 0.8425040638970613, 0.005]}\n",
      "ge fidelity (%): 0\n",
      "rotation angle (deg): [0]\n",
      "threshold ge: 0\n"
     ]
    },
    {
     "data": {
      "application/vnd.jupyter.widget-view+json": {
       "model_id": "fdae1ace533b4f35bae07e1c1d0b8824",
       "version_major": 2,
       "version_minor": 0
      },
      "text/plain": [
       "  0%|          | 0/20 [00:00<?, ?it/s]"
      ]
     },
     "metadata": {},
     "output_type": "display_data"
    },
    {
     "name": "stdout",
     "output_type": "stream",
     "text": [
      "Saving H:\\Shared drives\\SLab\\Multimode\\experiment\\240911\\data1\\00981_SingleBeamSplitterRB_check_target_sweep_depth.h5\n",
      "Index: 19 depth. = 58 \n",
      "{'pre_sweep_pulse': [['qubit', 'ge', 'hpi', 0], ['qubit', 'ef', 'pi', 0], ['man', 'M1', 'pi', 0], ['storage', 'M1-S4', 'pi', 0]], 'post_sweep_pulse': [['storage', 'M1-S4', 'pi', 0], ['man', 'M1', 'pi', 0], ['qubit', 'ef', 'pi', 0], ['qubit', 'ge', 'hpi', 2244.4308262217696]], 'wait_freq': 0.1, 'prepulse': True, 'postpulse': True, 'rb_time': 'None', 'bs_gate_num': 'None', 'qubits': [0], 'calibrate_single_shot': False, 'singleshot_reps': 10000, 'span': 500, 'active_reset': True, 'man_reset': True, 'storage_reset': True, 'threshold': -39.769721213292996, 'readout_per_round': 4, 'prep_man_photon': False, 'rb_active_reset': True, 'rb_man_reset': True, 'rb_storage_reset': True, 'rb_reps': 300, 'gates_per_wait': 100000, 'rounds': 1, 'variations': 20, 'rb_depth': 58, 'IRB_gate_no': -1, 'bs_repeat': 1, 'sync': False, 'setup': False, 'bs_para': [100, 0, 0.8425040638970613, 0.005]}\n",
      "ge fidelity (%): 0\n",
      "rotation angle (deg): [0]\n",
      "threshold ge: 0\n"
     ]
    },
    {
     "data": {
      "application/vnd.jupyter.widget-view+json": {
       "model_id": "7927f7f134b344c6abcdf5b60ef8c137",
       "version_major": 2,
       "version_minor": 0
      },
      "text/plain": [
       "  0%|          | 0/20 [00:00<?, ?it/s]"
      ]
     },
     "metadata": {},
     "output_type": "display_data"
    },
    {
     "name": "stdout",
     "output_type": "stream",
     "text": [
      "Saving H:\\Shared drives\\SLab\\Multimode\\experiment\\240911\\data1\\00982_SingleBeamSplitterRB_check_target_sweep_depth.h5\n",
      "Index: 20 depth. = 61 \n",
      "{'pre_sweep_pulse': [['qubit', 'ge', 'hpi', 0], ['qubit', 'ef', 'pi', 0], ['man', 'M1', 'pi', 0], ['storage', 'M1-S4', 'pi', 0]], 'post_sweep_pulse': [['storage', 'M1-S4', 'pi', 0], ['man', 'M1', 'pi', 0], ['qubit', 'ef', 'pi', 0], ['qubit', 'ge', 'hpi', 2305.0911188223577]], 'wait_freq': 0.1, 'prepulse': True, 'postpulse': True, 'rb_time': 'None', 'bs_gate_num': 'None', 'qubits': [0], 'calibrate_single_shot': False, 'singleshot_reps': 10000, 'span': 500, 'active_reset': True, 'man_reset': True, 'storage_reset': True, 'threshold': -39.769721213292996, 'readout_per_round': 4, 'prep_man_photon': False, 'rb_active_reset': True, 'rb_man_reset': True, 'rb_storage_reset': True, 'rb_reps': 300, 'gates_per_wait': 100000, 'rounds': 1, 'variations': 20, 'rb_depth': 61, 'IRB_gate_no': -1, 'bs_repeat': 1, 'sync': False, 'setup': False, 'bs_para': [100, 0, 0.8425040638970613, 0.005]}\n",
      "ge fidelity (%): 0\n",
      "rotation angle (deg): [0]\n",
      "threshold ge: 0\n"
     ]
    },
    {
     "data": {
      "application/vnd.jupyter.widget-view+json": {
       "model_id": "b0869003ef0e4948852eb705a52c99d1",
       "version_major": 2,
       "version_minor": 0
      },
      "text/plain": [
       "  0%|          | 0/20 [00:00<?, ?it/s]"
      ]
     },
     "metadata": {},
     "output_type": "display_data"
    },
    {
     "name": "stdout",
     "output_type": "stream",
     "text": [
      "Saving H:\\Shared drives\\SLab\\Multimode\\experiment\\240911\\data1\\00983_SingleBeamSplitterRB_check_target_sweep_depth.h5\n",
      "Index: 21 depth. = 64 \n",
      "{'pre_sweep_pulse': [['qubit', 'ge', 'hpi', 0], ['qubit', 'ef', 'pi', 0], ['man', 'M1', 'pi', 0], ['storage', 'M1-S4', 'pi', 0]], 'post_sweep_pulse': [['storage', 'M1-S4', 'pi', 0], ['man', 'M1', 'pi', 0], ['qubit', 'ef', 'pi', 0], ['qubit', 'ge', 'hpi', 2699.383020726183]], 'wait_freq': 0.1, 'prepulse': True, 'postpulse': True, 'rb_time': 'None', 'bs_gate_num': 'None', 'qubits': [0], 'calibrate_single_shot': False, 'singleshot_reps': 10000, 'span': 500, 'active_reset': True, 'man_reset': True, 'storage_reset': True, 'threshold': -39.769721213292996, 'readout_per_round': 4, 'prep_man_photon': False, 'rb_active_reset': True, 'rb_man_reset': True, 'rb_storage_reset': True, 'rb_reps': 300, 'gates_per_wait': 100000, 'rounds': 1, 'variations': 20, 'rb_depth': 64, 'IRB_gate_no': -1, 'bs_repeat': 1, 'sync': False, 'setup': False, 'bs_para': [100, 0, 0.8425040638970613, 0.005]}\n",
      "ge fidelity (%): 0\n",
      "rotation angle (deg): [0]\n",
      "threshold ge: 0\n"
     ]
    },
    {
     "data": {
      "application/vnd.jupyter.widget-view+json": {
       "model_id": "cb5eff10ed8448738d74a9f9aae2b5a7",
       "version_major": 2,
       "version_minor": 0
      },
      "text/plain": [
       "  0%|          | 0/20 [00:00<?, ?it/s]"
      ]
     },
     "metadata": {},
     "output_type": "display_data"
    },
    {
     "name": "stdout",
     "output_type": "stream",
     "text": [
      "Saving H:\\Shared drives\\SLab\\Multimode\\experiment\\240911\\data1\\00984_SingleBeamSplitterRB_check_target_sweep_depth.h5\n",
      "Index: 22 depth. = 67 \n",
      "{'pre_sweep_pulse': [['qubit', 'ge', 'hpi', 0], ['qubit', 'ef', 'pi', 0], ['man', 'M1', 'pi', 0], ['storage', 'M1-S4', 'pi', 0]], 'post_sweep_pulse': [['storage', 'M1-S4', 'pi', 0], ['man', 'M1', 'pi', 0], ['qubit', 'ef', 'pi', 0], ['qubit', 'ge', 'hpi', 2578.0624355250075]], 'wait_freq': 0.1, 'prepulse': True, 'postpulse': True, 'rb_time': 'None', 'bs_gate_num': 'None', 'qubits': [0], 'calibrate_single_shot': False, 'singleshot_reps': 10000, 'span': 500, 'active_reset': True, 'man_reset': True, 'storage_reset': True, 'threshold': -39.769721213292996, 'readout_per_round': 4, 'prep_man_photon': False, 'rb_active_reset': True, 'rb_man_reset': True, 'rb_storage_reset': True, 'rb_reps': 300, 'gates_per_wait': 100000, 'rounds': 1, 'variations': 20, 'rb_depth': 67, 'IRB_gate_no': -1, 'bs_repeat': 1, 'sync': False, 'setup': False, 'bs_para': [100, 0, 0.8425040638970613, 0.005]}\n",
      "ge fidelity (%): 0\n",
      "rotation angle (deg): [0]\n",
      "threshold ge: 0\n"
     ]
    },
    {
     "data": {
      "application/vnd.jupyter.widget-view+json": {
       "model_id": "013ee1f80aec4dff94be47e17b760f68",
       "version_major": 2,
       "version_minor": 0
      },
      "text/plain": [
       "  0%|          | 0/20 [00:00<?, ?it/s]"
      ]
     },
     "metadata": {},
     "output_type": "display_data"
    },
    {
     "name": "stdout",
     "output_type": "stream",
     "text": [
      "Saving H:\\Shared drives\\SLab\\Multimode\\experiment\\240911\\data1\\00985_SingleBeamSplitterRB_check_target_sweep_depth.h5\n",
      "Index: 23 depth. = 70 \n",
      "{'pre_sweep_pulse': [['qubit', 'ge', 'hpi', 0], ['qubit', 'ef', 'pi', 0], ['man', 'M1', 'pi', 0], ['storage', 'M1-S4', 'pi', 0]], 'post_sweep_pulse': [['storage', 'M1-S4', 'pi', 0], ['man', 'M1', 'pi', 0], ['qubit', 'ef', 'pi', 0], ['qubit', 'ge', 'hpi', 2729.7131670264785]], 'wait_freq': 0.1, 'prepulse': True, 'postpulse': True, 'rb_time': 'None', 'bs_gate_num': 'None', 'qubits': [0], 'calibrate_single_shot': False, 'singleshot_reps': 10000, 'span': 500, 'active_reset': True, 'man_reset': True, 'storage_reset': True, 'threshold': -39.769721213292996, 'readout_per_round': 4, 'prep_man_photon': False, 'rb_active_reset': True, 'rb_man_reset': True, 'rb_storage_reset': True, 'rb_reps': 300, 'gates_per_wait': 100000, 'rounds': 1, 'variations': 20, 'rb_depth': 70, 'IRB_gate_no': -1, 'bs_repeat': 1, 'sync': False, 'setup': False, 'bs_para': [100, 0, 0.8425040638970613, 0.005]}\n",
      "ge fidelity (%): 0\n",
      "rotation angle (deg): [0]\n",
      "threshold ge: 0\n"
     ]
    },
    {
     "data": {
      "application/vnd.jupyter.widget-view+json": {
       "model_id": "8501ca96f9504f8e80a1e5dad4fa25f8",
       "version_major": 2,
       "version_minor": 0
      },
      "text/plain": [
       "  0%|          | 0/20 [00:00<?, ?it/s]"
      ]
     },
     "metadata": {},
     "output_type": "display_data"
    },
    {
     "name": "stdout",
     "output_type": "stream",
     "text": [
      "Saving H:\\Shared drives\\SLab\\Multimode\\experiment\\240911\\data1\\00986_SingleBeamSplitterRB_check_target_sweep_depth.h5\n",
      "Index: 24 depth. = 73 \n",
      "{'pre_sweep_pulse': [['qubit', 'ge', 'hpi', 0], ['qubit', 'ef', 'pi', 0], ['man', 'M1', 'pi', 0], ['storage', 'M1-S4', 'pi', 0]], 'post_sweep_pulse': [['storage', 'M1-S4', 'pi', 0], ['man', 'M1', 'pi', 0], ['qubit', 'ef', 'pi', 0], ['qubit', 'ge', 'hpi', 2638.7227281255946]], 'wait_freq': 0.1, 'prepulse': True, 'postpulse': True, 'rb_time': 'None', 'bs_gate_num': 'None', 'qubits': [0], 'calibrate_single_shot': False, 'singleshot_reps': 10000, 'span': 500, 'active_reset': True, 'man_reset': True, 'storage_reset': True, 'threshold': -39.769721213292996, 'readout_per_round': 4, 'prep_man_photon': False, 'rb_active_reset': True, 'rb_man_reset': True, 'rb_storage_reset': True, 'rb_reps': 300, 'gates_per_wait': 100000, 'rounds': 1, 'variations': 20, 'rb_depth': 73, 'IRB_gate_no': -1, 'bs_repeat': 1, 'sync': False, 'setup': False, 'bs_para': [100, 0, 0.8425040638970613, 0.005]}\n",
      "ge fidelity (%): 0\n",
      "rotation angle (deg): [0]\n",
      "threshold ge: 0\n"
     ]
    },
    {
     "data": {
      "application/vnd.jupyter.widget-view+json": {
       "model_id": "0402cf287ec24ac9b2bb881fa431f677",
       "version_major": 2,
       "version_minor": 0
      },
      "text/plain": [
       "  0%|          | 0/20 [00:00<?, ?it/s]"
      ]
     },
     "metadata": {},
     "output_type": "display_data"
    },
    {
     "name": "stdout",
     "output_type": "stream",
     "text": [
      "Saving H:\\Shared drives\\SLab\\Multimode\\experiment\\240911\\data1\\00987_SingleBeamSplitterRB_check_target_sweep_depth.h5\n",
      "Index: 25 depth. = 76 \n",
      "{'pre_sweep_pulse': [['qubit', 'ge', 'hpi', 0], ['qubit', 'ef', 'pi', 0], ['man', 'M1', 'pi', 0], ['storage', 'M1-S4', 'pi', 0]], 'post_sweep_pulse': [['storage', 'M1-S4', 'pi', 0], ['man', 'M1', 'pi', 0], ['qubit', 'ef', 'pi', 0], ['qubit', 'ge', 'hpi', 2942.024191128537]], 'wait_freq': 0.1, 'prepulse': True, 'postpulse': True, 'rb_time': 'None', 'bs_gate_num': 'None', 'qubits': [0], 'calibrate_single_shot': False, 'singleshot_reps': 10000, 'span': 500, 'active_reset': True, 'man_reset': True, 'storage_reset': True, 'threshold': -39.769721213292996, 'readout_per_round': 4, 'prep_man_photon': False, 'rb_active_reset': True, 'rb_man_reset': True, 'rb_storage_reset': True, 'rb_reps': 300, 'gates_per_wait': 100000, 'rounds': 1, 'variations': 20, 'rb_depth': 76, 'IRB_gate_no': -1, 'bs_repeat': 1, 'sync': False, 'setup': False, 'bs_para': [100, 0, 0.8425040638970613, 0.005]}\n",
      "ge fidelity (%): 0\n",
      "rotation angle (deg): [0]\n",
      "threshold ge: 0\n"
     ]
    },
    {
     "data": {
      "application/vnd.jupyter.widget-view+json": {
       "model_id": "5cb821cdcdc44782bc089b3b57c08784",
       "version_major": 2,
       "version_minor": 0
      },
      "text/plain": [
       "  0%|          | 0/20 [00:00<?, ?it/s]"
      ]
     },
     "metadata": {},
     "output_type": "display_data"
    },
    {
     "name": "stdout",
     "output_type": "stream",
     "text": [
      "Saving H:\\Shared drives\\SLab\\Multimode\\experiment\\240911\\data1\\00988_SingleBeamSplitterRB_check_target_sweep_depth.h5\n",
      "Index: 26 depth. = 79 \n",
      "{'pre_sweep_pulse': [['qubit', 'ge', 'hpi', 0], ['qubit', 'ef', 'pi', 0], ['man', 'M1', 'pi', 0], ['storage', 'M1-S4', 'pi', 0]], 'post_sweep_pulse': [['storage', 'M1-S4', 'pi', 0], ['man', 'M1', 'pi', 0], ['qubit', 'ef', 'pi', 0], ['qubit', 'ge', 'hpi', 3033.014630029422]], 'wait_freq': 0.1, 'prepulse': True, 'postpulse': True, 'rb_time': 'None', 'bs_gate_num': 'None', 'qubits': [0], 'calibrate_single_shot': False, 'singleshot_reps': 10000, 'span': 500, 'active_reset': True, 'man_reset': True, 'storage_reset': True, 'threshold': -39.769721213292996, 'readout_per_round': 4, 'prep_man_photon': False, 'rb_active_reset': True, 'rb_man_reset': True, 'rb_storage_reset': True, 'rb_reps': 300, 'gates_per_wait': 100000, 'rounds': 1, 'variations': 20, 'rb_depth': 79, 'IRB_gate_no': -1, 'bs_repeat': 1, 'sync': False, 'setup': False, 'bs_para': [100, 0, 0.8425040638970613, 0.005]}\n",
      "ge fidelity (%): 0\n",
      "rotation angle (deg): [0]\n",
      "threshold ge: 0\n"
     ]
    },
    {
     "data": {
      "application/vnd.jupyter.widget-view+json": {
       "model_id": "085b9f0ee9d749c7a43df7dd559bd0cc",
       "version_major": 2,
       "version_minor": 0
      },
      "text/plain": [
       "  0%|          | 0/20 [00:00<?, ?it/s]"
      ]
     },
     "metadata": {},
     "output_type": "display_data"
    },
    {
     "name": "stdout",
     "output_type": "stream",
     "text": [
      "Saving H:\\Shared drives\\SLab\\Multimode\\experiment\\240911\\data1\\00989_SingleBeamSplitterRB_check_target_sweep_depth.h5\n",
      "Index: 27 depth. = 82 \n",
      "{'pre_sweep_pulse': [['qubit', 'ge', 'hpi', 0], ['qubit', 'ef', 'pi', 0], ['man', 'M1', 'pi', 0], ['storage', 'M1-S4', 'pi', 0]], 'post_sweep_pulse': [['storage', 'M1-S4', 'pi', 0], ['man', 'M1', 'pi', 0], ['qubit', 'ef', 'pi', 0], ['qubit', 'ge', 'hpi', 3427.3065319332454]], 'wait_freq': 0.1, 'prepulse': True, 'postpulse': True, 'rb_time': 'None', 'bs_gate_num': 'None', 'qubits': [0], 'calibrate_single_shot': False, 'singleshot_reps': 10000, 'span': 500, 'active_reset': True, 'man_reset': True, 'storage_reset': True, 'threshold': -39.769721213292996, 'readout_per_round': 4, 'prep_man_photon': False, 'rb_active_reset': True, 'rb_man_reset': True, 'rb_storage_reset': True, 'rb_reps': 300, 'gates_per_wait': 100000, 'rounds': 1, 'variations': 20, 'rb_depth': 82, 'IRB_gate_no': -1, 'bs_repeat': 1, 'sync': False, 'setup': False, 'bs_para': [100, 0, 0.8425040638970613, 0.005]}\n",
      "ge fidelity (%): 0\n",
      "rotation angle (deg): [0]\n",
      "threshold ge: 0\n"
     ]
    },
    {
     "data": {
      "application/vnd.jupyter.widget-view+json": {
       "model_id": "0368a7be14024c498a8282c4ef6d83f2",
       "version_major": 2,
       "version_minor": 0
      },
      "text/plain": [
       "  0%|          | 0/20 [00:00<?, ?it/s]"
      ]
     },
     "metadata": {},
     "output_type": "display_data"
    },
    {
     "name": "stdout",
     "output_type": "stream",
     "text": [
      "Saving H:\\Shared drives\\SLab\\Multimode\\experiment\\240911\\data1\\00990_SingleBeamSplitterRB_check_target_sweep_depth.h5\n",
      "Index: 28 depth. = 85 \n",
      "{'pre_sweep_pulse': [['qubit', 'ge', 'hpi', 0], ['qubit', 'ef', 'pi', 0], ['man', 'M1', 'pi', 0], ['storage', 'M1-S4', 'pi', 0]], 'post_sweep_pulse': [['storage', 'M1-S4', 'pi', 0], ['man', 'M1', 'pi', 0], ['qubit', 'ef', 'pi', 0], ['qubit', 'ge', 'hpi', 3366.646239332658]], 'wait_freq': 0.1, 'prepulse': True, 'postpulse': True, 'rb_time': 'None', 'bs_gate_num': 'None', 'qubits': [0], 'calibrate_single_shot': False, 'singleshot_reps': 10000, 'span': 500, 'active_reset': True, 'man_reset': True, 'storage_reset': True, 'threshold': -39.769721213292996, 'readout_per_round': 4, 'prep_man_photon': False, 'rb_active_reset': True, 'rb_man_reset': True, 'rb_storage_reset': True, 'rb_reps': 300, 'gates_per_wait': 100000, 'rounds': 1, 'variations': 20, 'rb_depth': 85, 'IRB_gate_no': -1, 'bs_repeat': 1, 'sync': False, 'setup': False, 'bs_para': [100, 0, 0.8425040638970613, 0.005]}\n",
      "ge fidelity (%): 0\n",
      "rotation angle (deg): [0]\n",
      "threshold ge: 0\n"
     ]
    },
    {
     "data": {
      "application/vnd.jupyter.widget-view+json": {
       "model_id": "d3eb3870717542ba917ffc61d842e106",
       "version_major": 2,
       "version_minor": 0
      },
      "text/plain": [
       "  0%|          | 0/20 [00:00<?, ?it/s]"
      ]
     },
     "metadata": {},
     "output_type": "display_data"
    },
    {
     "name": "stdout",
     "output_type": "stream",
     "text": [
      "Saving H:\\Shared drives\\SLab\\Multimode\\experiment\\240911\\data1\\00991_SingleBeamSplitterRB_check_target_sweep_depth.h5\n",
      "Index: 29 depth. = 88 \n",
      "{'pre_sweep_pulse': [['qubit', 'ge', 'hpi', 0], ['qubit', 'ef', 'pi', 0], ['man', 'M1', 'pi', 0], ['storage', 'M1-S4', 'pi', 0]], 'post_sweep_pulse': [['storage', 'M1-S4', 'pi', 0], ['man', 'M1', 'pi', 0], ['qubit', 'ef', 'pi', 0], ['qubit', 'ge', 'hpi', 3548.627117134424]], 'wait_freq': 0.1, 'prepulse': True, 'postpulse': True, 'rb_time': 'None', 'bs_gate_num': 'None', 'qubits': [0], 'calibrate_single_shot': False, 'singleshot_reps': 10000, 'span': 500, 'active_reset': True, 'man_reset': True, 'storage_reset': True, 'threshold': -39.769721213292996, 'readout_per_round': 4, 'prep_man_photon': False, 'rb_active_reset': True, 'rb_man_reset': True, 'rb_storage_reset': True, 'rb_reps': 300, 'gates_per_wait': 100000, 'rounds': 1, 'variations': 20, 'rb_depth': 88, 'IRB_gate_no': -1, 'bs_repeat': 1, 'sync': False, 'setup': False, 'bs_para': [100, 0, 0.8425040638970613, 0.005]}\n",
      "ge fidelity (%): 0\n",
      "rotation angle (deg): [0]\n",
      "threshold ge: 0\n"
     ]
    },
    {
     "data": {
      "application/vnd.jupyter.widget-view+json": {
       "model_id": "31506f6e78084431a7b1a17c2918510f",
       "version_major": 2,
       "version_minor": 0
      },
      "text/plain": [
       "  0%|          | 0/20 [00:00<?, ?it/s]"
      ]
     },
     "metadata": {},
     "output_type": "display_data"
    },
    {
     "name": "stdout",
     "output_type": "stream",
     "text": [
      "Saving H:\\Shared drives\\SLab\\Multimode\\experiment\\240911\\data1\\00992_SingleBeamSplitterRB_check_target_sweep_depth.h5\n",
      "Index: 30 depth. = 91 \n",
      "{'pre_sweep_pulse': [['qubit', 'ge', 'hpi', 0], ['qubit', 'ef', 'pi', 0], ['man', 'M1', 'pi', 0], ['storage', 'M1-S4', 'pi', 0]], 'post_sweep_pulse': [['storage', 'M1-S4', 'pi', 0], ['man', 'M1', 'pi', 0], ['qubit', 'ef', 'pi', 0], ['qubit', 'ge', 'hpi', 3639.6175560353067]], 'wait_freq': 0.1, 'prepulse': True, 'postpulse': True, 'rb_time': 'None', 'bs_gate_num': 'None', 'qubits': [0], 'calibrate_single_shot': False, 'singleshot_reps': 10000, 'span': 500, 'active_reset': True, 'man_reset': True, 'storage_reset': True, 'threshold': -39.769721213292996, 'readout_per_round': 4, 'prep_man_photon': False, 'rb_active_reset': True, 'rb_man_reset': True, 'rb_storage_reset': True, 'rb_reps': 300, 'gates_per_wait': 100000, 'rounds': 1, 'variations': 20, 'rb_depth': 91, 'IRB_gate_no': -1, 'bs_repeat': 1, 'sync': False, 'setup': False, 'bs_para': [100, 0, 0.8425040638970613, 0.005]}\n",
      "ge fidelity (%): 0\n",
      "rotation angle (deg): [0]\n",
      "threshold ge: 0\n"
     ]
    },
    {
     "data": {
      "application/vnd.jupyter.widget-view+json": {
       "model_id": "a5b77c75f85240f28584071b4bfcbd8b",
       "version_major": 2,
       "version_minor": 0
      },
      "text/plain": [
       "  0%|          | 0/20 [00:00<?, ?it/s]"
      ]
     },
     "metadata": {},
     "output_type": "display_data"
    },
    {
     "name": "stdout",
     "output_type": "stream",
     "text": [
      "Saving H:\\Shared drives\\SLab\\Multimode\\experiment\\240911\\data1\\00993_SingleBeamSplitterRB_check_target_sweep_depth.h5\n",
      "Index: 31 depth. = 94 \n",
      "{'pre_sweep_pulse': [['qubit', 'ge', 'hpi', 0], ['qubit', 'ef', 'pi', 0], ['man', 'M1', 'pi', 0], ['storage', 'M1-S4', 'pi', 0]], 'post_sweep_pulse': [['storage', 'M1-S4', 'pi', 0], ['man', 'M1', 'pi', 0], ['qubit', 'ef', 'pi', 0], ['qubit', 'ge', 'hpi', 3730.607994936189]], 'wait_freq': 0.1, 'prepulse': True, 'postpulse': True, 'rb_time': 'None', 'bs_gate_num': 'None', 'qubits': [0], 'calibrate_single_shot': False, 'singleshot_reps': 10000, 'span': 500, 'active_reset': True, 'man_reset': True, 'storage_reset': True, 'threshold': -39.769721213292996, 'readout_per_round': 4, 'prep_man_photon': False, 'rb_active_reset': True, 'rb_man_reset': True, 'rb_storage_reset': True, 'rb_reps': 300, 'gates_per_wait': 100000, 'rounds': 1, 'variations': 20, 'rb_depth': 94, 'IRB_gate_no': -1, 'bs_repeat': 1, 'sync': False, 'setup': False, 'bs_para': [100, 0, 0.8425040638970613, 0.005]}\n",
      "ge fidelity (%): 0\n",
      "rotation angle (deg): [0]\n",
      "threshold ge: 0\n"
     ]
    },
    {
     "data": {
      "application/vnd.jupyter.widget-view+json": {
       "model_id": "ba061ae9a0df420a8c4739bfaac4c48b",
       "version_major": 2,
       "version_minor": 0
      },
      "text/plain": [
       "  0%|          | 0/20 [00:00<?, ?it/s]"
      ]
     },
     "metadata": {},
     "output_type": "display_data"
    },
    {
     "name": "stdout",
     "output_type": "stream",
     "text": [
      "Saving H:\\Shared drives\\SLab\\Multimode\\experiment\\240911\\data1\\00994_SingleBeamSplitterRB_check_target_sweep_depth.h5\n",
      "Index: 32 depth. = 97 \n",
      "{'pre_sweep_pulse': [['qubit', 'ge', 'hpi', 0], ['qubit', 'ef', 'pi', 0], ['man', 'M1', 'pi', 0], ['storage', 'M1-S4', 'pi', 0]], 'post_sweep_pulse': [['storage', 'M1-S4', 'pi', 0], ['man', 'M1', 'pi', 0], ['qubit', 'ef', 'pi', 0], ['qubit', 'ge', 'hpi', 3882.258726437661]], 'wait_freq': 0.1, 'prepulse': True, 'postpulse': True, 'rb_time': 'None', 'bs_gate_num': 'None', 'qubits': [0], 'calibrate_single_shot': False, 'singleshot_reps': 10000, 'span': 500, 'active_reset': True, 'man_reset': True, 'storage_reset': True, 'threshold': -39.769721213292996, 'readout_per_round': 4, 'prep_man_photon': False, 'rb_active_reset': True, 'rb_man_reset': True, 'rb_storage_reset': True, 'rb_reps': 300, 'gates_per_wait': 100000, 'rounds': 1, 'variations': 20, 'rb_depth': 97, 'IRB_gate_no': -1, 'bs_repeat': 1, 'sync': False, 'setup': False, 'bs_para': [100, 0, 0.8425040638970613, 0.005]}\n",
      "ge fidelity (%): 0\n",
      "rotation angle (deg): [0]\n",
      "threshold ge: 0\n"
     ]
    },
    {
     "data": {
      "application/vnd.jupyter.widget-view+json": {
       "model_id": "653cc7e27c48456ca38496786554605a",
       "version_major": 2,
       "version_minor": 0
      },
      "text/plain": [
       "  0%|          | 0/20 [00:00<?, ?it/s]"
      ]
     },
     "metadata": {},
     "output_type": "display_data"
    },
    {
     "name": "stdout",
     "output_type": "stream",
     "text": [
      "Saving H:\\Shared drives\\SLab\\Multimode\\experiment\\240911\\data1\\00995_SingleBeamSplitterRB_check_target_sweep_depth.h5\n",
      "Index: 33 depth. = 100 \n",
      "{'pre_sweep_pulse': [['qubit', 'ge', 'hpi', 0], ['qubit', 'ef', 'pi', 0], ['man', 'M1', 'pi', 0], ['storage', 'M1-S4', 'pi', 0]], 'post_sweep_pulse': [['storage', 'M1-S4', 'pi', 0], ['man', 'M1', 'pi', 0], ['qubit', 'ef', 'pi', 0], ['qubit', 'ge', 'hpi', 4094.569750539721]], 'wait_freq': 0.1, 'prepulse': True, 'postpulse': True, 'rb_time': 'None', 'bs_gate_num': 'None', 'qubits': [0], 'calibrate_single_shot': False, 'singleshot_reps': 10000, 'span': 500, 'active_reset': True, 'man_reset': True, 'storage_reset': True, 'threshold': -39.769721213292996, 'readout_per_round': 4, 'prep_man_photon': False, 'rb_active_reset': True, 'rb_man_reset': True, 'rb_storage_reset': True, 'rb_reps': 300, 'gates_per_wait': 100000, 'rounds': 1, 'variations': 20, 'rb_depth': 100, 'IRB_gate_no': -1, 'bs_repeat': 1, 'sync': False, 'setup': False, 'bs_para': [100, 0, 0.8425040638970613, 0.005]}\n",
      "ge fidelity (%): 0\n",
      "rotation angle (deg): [0]\n",
      "threshold ge: 0\n"
     ]
    },
    {
     "data": {
      "application/vnd.jupyter.widget-view+json": {
       "model_id": "dd0349a666c640ab8c8ac408ff35aae6",
       "version_major": 2,
       "version_minor": 0
      },
      "text/plain": [
       "  0%|          | 0/20 [00:00<?, ?it/s]"
      ]
     },
     "metadata": {},
     "output_type": "display_data"
    },
    {
     "name": "stdout",
     "output_type": "stream",
     "text": [
      "Saving H:\\Shared drives\\SLab\\Multimode\\experiment\\240911\\data1\\00996_SingleBeamSplitterRB_check_target_sweep_depth.h5\n",
      "Index: 34 depth. = 103 \n",
      "{'pre_sweep_pulse': [['qubit', 'ge', 'hpi', 0], ['qubit', 'ef', 'pi', 0], ['man', 'M1', 'pi', 0], ['storage', 'M1-S4', 'pi', 0]], 'post_sweep_pulse': [['storage', 'M1-S4', 'pi', 0], ['man', 'M1', 'pi', 0], ['qubit', 'ef', 'pi', 0], ['qubit', 'ge', 'hpi', 4124.8998968400165]], 'wait_freq': 0.1, 'prepulse': True, 'postpulse': True, 'rb_time': 'None', 'bs_gate_num': 'None', 'qubits': [0], 'calibrate_single_shot': False, 'singleshot_reps': 10000, 'span': 500, 'active_reset': True, 'man_reset': True, 'storage_reset': True, 'threshold': -39.769721213292996, 'readout_per_round': 4, 'prep_man_photon': False, 'rb_active_reset': True, 'rb_man_reset': True, 'rb_storage_reset': True, 'rb_reps': 300, 'gates_per_wait': 100000, 'rounds': 1, 'variations': 20, 'rb_depth': 103, 'IRB_gate_no': -1, 'bs_repeat': 1, 'sync': False, 'setup': False, 'bs_para': [100, 0, 0.8425040638970613, 0.005]}\n",
      "ge fidelity (%): 0\n",
      "rotation angle (deg): [0]\n",
      "threshold ge: 0\n"
     ]
    },
    {
     "data": {
      "application/vnd.jupyter.widget-view+json": {
       "model_id": "cc4af1d13d0b4ead943dff1048dbb81c",
       "version_major": 2,
       "version_minor": 0
      },
      "text/plain": [
       "  0%|          | 0/20 [00:00<?, ?it/s]"
      ]
     },
     "metadata": {},
     "output_type": "display_data"
    },
    {
     "name": "stdout",
     "output_type": "stream",
     "text": [
      "Saving H:\\Shared drives\\SLab\\Multimode\\experiment\\240911\\data1\\00997_SingleBeamSplitterRB_check_target_sweep_depth.h5\n",
      "Index: 35 depth. = 106 \n",
      "{'pre_sweep_pulse': [['qubit', 'ge', 'hpi', 0], ['qubit', 'ef', 'pi', 0], ['man', 'M1', 'pi', 0], ['storage', 'M1-S4', 'pi', 0]], 'post_sweep_pulse': [['storage', 'M1-S4', 'pi', 0], ['man', 'M1', 'pi', 0], ['qubit', 'ef', 'pi', 0], ['qubit', 'ge', 'hpi', 4215.890335740899]], 'wait_freq': 0.1, 'prepulse': True, 'postpulse': True, 'rb_time': 'None', 'bs_gate_num': 'None', 'qubits': [0], 'calibrate_single_shot': False, 'singleshot_reps': 10000, 'span': 500, 'active_reset': True, 'man_reset': True, 'storage_reset': True, 'threshold': -39.769721213292996, 'readout_per_round': 4, 'prep_man_photon': False, 'rb_active_reset': True, 'rb_man_reset': True, 'rb_storage_reset': True, 'rb_reps': 300, 'gates_per_wait': 100000, 'rounds': 1, 'variations': 20, 'rb_depth': 106, 'IRB_gate_no': -1, 'bs_repeat': 1, 'sync': False, 'setup': False, 'bs_para': [100, 0, 0.8425040638970613, 0.005]}\n",
      "ge fidelity (%): 0\n",
      "rotation angle (deg): [0]\n",
      "threshold ge: 0\n"
     ]
    },
    {
     "data": {
      "application/vnd.jupyter.widget-view+json": {
       "model_id": "aecf7c6846534307946cdad83957c386",
       "version_major": 2,
       "version_minor": 0
      },
      "text/plain": [
       "  0%|          | 0/20 [00:00<?, ?it/s]"
      ]
     },
     "metadata": {},
     "output_type": "display_data"
    },
    {
     "name": "stdout",
     "output_type": "stream",
     "text": [
      "Saving H:\\Shared drives\\SLab\\Multimode\\experiment\\240911\\data1\\00998_SingleBeamSplitterRB_check_target_sweep_depth.h5\n",
      "Index: 36 depth. = 109 \n",
      "{'pre_sweep_pulse': [['qubit', 'ge', 'hpi', 0], ['qubit', 'ef', 'pi', 0], ['man', 'M1', 'pi', 0], ['storage', 'M1-S4', 'pi', 0]], 'post_sweep_pulse': [['storage', 'M1-S4', 'pi', 0], ['man', 'M1', 'pi', 0], ['qubit', 'ef', 'pi', 0], ['qubit', 'ge', 'hpi', 4428.201359842957]], 'wait_freq': 0.1, 'prepulse': True, 'postpulse': True, 'rb_time': 'None', 'bs_gate_num': 'None', 'qubits': [0], 'calibrate_single_shot': False, 'singleshot_reps': 10000, 'span': 500, 'active_reset': True, 'man_reset': True, 'storage_reset': True, 'threshold': -39.769721213292996, 'readout_per_round': 4, 'prep_man_photon': False, 'rb_active_reset': True, 'rb_man_reset': True, 'rb_storage_reset': True, 'rb_reps': 300, 'gates_per_wait': 100000, 'rounds': 1, 'variations': 20, 'rb_depth': 109, 'IRB_gate_no': -1, 'bs_repeat': 1, 'sync': False, 'setup': False, 'bs_para': [100, 0, 0.8425040638970613, 0.005]}\n",
      "ge fidelity (%): 0\n",
      "rotation angle (deg): [0]\n",
      "threshold ge: 0\n"
     ]
    },
    {
     "data": {
      "application/vnd.jupyter.widget-view+json": {
       "model_id": "c0c5d756653f46c3bc6fe75ad0122eb5",
       "version_major": 2,
       "version_minor": 0
      },
      "text/plain": [
       "  0%|          | 0/20 [00:00<?, ?it/s]"
      ]
     },
     "metadata": {},
     "output_type": "display_data"
    },
    {
     "name": "stdout",
     "output_type": "stream",
     "text": [
      "Saving H:\\Shared drives\\SLab\\Multimode\\experiment\\240911\\data1\\00999_SingleBeamSplitterRB_check_target_sweep_depth.h5\n",
      "Index: 37 depth. = 112 \n",
      "{'pre_sweep_pulse': [['qubit', 'ge', 'hpi', 0], ['qubit', 'ef', 'pi', 0], ['man', 'M1', 'pi', 0], ['storage', 'M1-S4', 'pi', 0]], 'post_sweep_pulse': [['storage', 'M1-S4', 'pi', 0], ['man', 'M1', 'pi', 0], ['qubit', 'ef', 'pi', 0], ['qubit', 'ge', 'hpi', 4246.220482041192]], 'wait_freq': 0.1, 'prepulse': True, 'postpulse': True, 'rb_time': 'None', 'bs_gate_num': 'None', 'qubits': [0], 'calibrate_single_shot': False, 'singleshot_reps': 10000, 'span': 500, 'active_reset': True, 'man_reset': True, 'storage_reset': True, 'threshold': -39.769721213292996, 'readout_per_round': 4, 'prep_man_photon': False, 'rb_active_reset': True, 'rb_man_reset': True, 'rb_storage_reset': True, 'rb_reps': 300, 'gates_per_wait': 100000, 'rounds': 1, 'variations': 20, 'rb_depth': 112, 'IRB_gate_no': -1, 'bs_repeat': 1, 'sync': False, 'setup': False, 'bs_para': [100, 0, 0.8425040638970613, 0.005]}\n",
      "ge fidelity (%): 0\n",
      "rotation angle (deg): [0]\n",
      "threshold ge: 0\n"
     ]
    },
    {
     "data": {
      "application/vnd.jupyter.widget-view+json": {
       "model_id": "1503853da527450ebafb6357f8aaa429",
       "version_major": 2,
       "version_minor": 0
      },
      "text/plain": [
       "  0%|          | 0/20 [00:00<?, ?it/s]"
      ]
     },
     "metadata": {},
     "output_type": "display_data"
    },
    {
     "name": "stdout",
     "output_type": "stream",
     "text": [
      "Saving H:\\Shared drives\\SLab\\Multimode\\experiment\\240911\\data1\\01000_SingleBeamSplitterRB_check_target_sweep_depth.h5\n",
      "Index: 38 depth. = 115 \n",
      "{'pre_sweep_pulse': [['qubit', 'ge', 'hpi', 0], ['qubit', 'ef', 'pi', 0], ['man', 'M1', 'pi', 0], ['storage', 'M1-S4', 'pi', 0]], 'post_sweep_pulse': [['storage', 'M1-S4', 'pi', 0], ['man', 'M1', 'pi', 0], ['qubit', 'ef', 'pi', 0], ['qubit', 'ge', 'hpi', 4428.201359842959]], 'wait_freq': 0.1, 'prepulse': True, 'postpulse': True, 'rb_time': 'None', 'bs_gate_num': 'None', 'qubits': [0], 'calibrate_single_shot': False, 'singleshot_reps': 10000, 'span': 500, 'active_reset': True, 'man_reset': True, 'storage_reset': True, 'threshold': -39.769721213292996, 'readout_per_round': 4, 'prep_man_photon': False, 'rb_active_reset': True, 'rb_man_reset': True, 'rb_storage_reset': True, 'rb_reps': 300, 'gates_per_wait': 100000, 'rounds': 1, 'variations': 20, 'rb_depth': 115, 'IRB_gate_no': -1, 'bs_repeat': 1, 'sync': False, 'setup': False, 'bs_para': [100, 0, 0.8425040638970613, 0.005]}\n",
      "ge fidelity (%): 0\n",
      "rotation angle (deg): [0]\n",
      "threshold ge: 0\n"
     ]
    },
    {
     "data": {
      "application/vnd.jupyter.widget-view+json": {
       "model_id": "12c1866c7f7b4d409343f2f5ce5d070b",
       "version_major": 2,
       "version_minor": 0
      },
      "text/plain": [
       "  0%|          | 0/20 [00:00<?, ?it/s]"
      ]
     },
     "metadata": {},
     "output_type": "display_data"
    },
    {
     "name": "stdout",
     "output_type": "stream",
     "text": [
      "Saving H:\\Shared drives\\SLab\\Multimode\\experiment\\240911\\data1\\01001_SingleBeamSplitterRB_check_target_sweep_depth.h5\n",
      "Index: 39 depth. = 118 \n",
      "{'pre_sweep_pulse': [['qubit', 'ge', 'hpi', 0], ['qubit', 'ef', 'pi', 0], ['man', 'M1', 'pi', 0], ['storage', 'M1-S4', 'pi', 0]], 'post_sweep_pulse': [['storage', 'M1-S4', 'pi', 0], ['man', 'M1', 'pi', 0], ['qubit', 'ef', 'pi', 0], ['qubit', 'ge', 'hpi', 4640.512383945015]], 'wait_freq': 0.1, 'prepulse': True, 'postpulse': True, 'rb_time': 'None', 'bs_gate_num': 'None', 'qubits': [0], 'calibrate_single_shot': False, 'singleshot_reps': 10000, 'span': 500, 'active_reset': True, 'man_reset': True, 'storage_reset': True, 'threshold': -39.769721213292996, 'readout_per_round': 4, 'prep_man_photon': False, 'rb_active_reset': True, 'rb_man_reset': True, 'rb_storage_reset': True, 'rb_reps': 300, 'gates_per_wait': 100000, 'rounds': 1, 'variations': 20, 'rb_depth': 118, 'IRB_gate_no': -1, 'bs_repeat': 1, 'sync': False, 'setup': False, 'bs_para': [100, 0, 0.8425040638970613, 0.005]}\n",
      "ge fidelity (%): 0\n",
      "rotation angle (deg): [0]\n",
      "threshold ge: 0\n"
     ]
    },
    {
     "data": {
      "application/vnd.jupyter.widget-view+json": {
       "model_id": "fc28194e8f9a4dcaba3fbcdb0d351daf",
       "version_major": 2,
       "version_minor": 0
      },
      "text/plain": [
       "  0%|          | 0/20 [00:00<?, ?it/s]"
      ]
     },
     "metadata": {},
     "output_type": "display_data"
    },
    {
     "name": "stdout",
     "output_type": "stream",
     "text": [
      "Saving H:\\Shared drives\\SLab\\Multimode\\experiment\\240911\\data1\\01002_SingleBeamSplitterRB_check_target_sweep_depth.h5\n",
      "Index: 40 depth. = 121 \n",
      "{'pre_sweep_pulse': [['qubit', 'ge', 'hpi', 0], ['qubit', 'ef', 'pi', 0], ['man', 'M1', 'pi', 0], ['storage', 'M1-S4', 'pi', 0]], 'post_sweep_pulse': [['storage', 'M1-S4', 'pi', 0], ['man', 'M1', 'pi', 0], ['qubit', 'ef', 'pi', 0], ['qubit', 'ge', 'hpi', 4610.1822376447235]], 'wait_freq': 0.1, 'prepulse': True, 'postpulse': True, 'rb_time': 'None', 'bs_gate_num': 'None', 'qubits': [0], 'calibrate_single_shot': False, 'singleshot_reps': 10000, 'span': 500, 'active_reset': True, 'man_reset': True, 'storage_reset': True, 'threshold': -39.769721213292996, 'readout_per_round': 4, 'prep_man_photon': False, 'rb_active_reset': True, 'rb_man_reset': True, 'rb_storage_reset': True, 'rb_reps': 300, 'gates_per_wait': 100000, 'rounds': 1, 'variations': 20, 'rb_depth': 121, 'IRB_gate_no': -1, 'bs_repeat': 1, 'sync': False, 'setup': False, 'bs_para': [100, 0, 0.8425040638970613, 0.005]}\n",
      "ge fidelity (%): 0\n",
      "rotation angle (deg): [0]\n",
      "threshold ge: 0\n"
     ]
    },
    {
     "data": {
      "application/vnd.jupyter.widget-view+json": {
       "model_id": "5ca80f5e122b4baf96487caaa94a47ec",
       "version_major": 2,
       "version_minor": 0
      },
      "text/plain": [
       "  0%|          | 0/20 [00:00<?, ?it/s]"
      ]
     },
     "metadata": {},
     "output_type": "display_data"
    },
    {
     "name": "stdout",
     "output_type": "stream",
     "text": [
      "Saving H:\\Shared drives\\SLab\\Multimode\\experiment\\240911\\data1\\01003_SingleBeamSplitterRB_check_target_sweep_depth.h5\n",
      "Index: 41 depth. = 124 \n",
      "{'pre_sweep_pulse': [['qubit', 'ge', 'hpi', 0], ['qubit', 'ef', 'pi', 0], ['man', 'M1', 'pi', 0], ['storage', 'M1-S4', 'pi', 0]], 'post_sweep_pulse': [['storage', 'M1-S4', 'pi', 0], ['man', 'M1', 'pi', 0], ['qubit', 'ef', 'pi', 0], ['qubit', 'ge', 'hpi', 4822.493261746786]], 'wait_freq': 0.1, 'prepulse': True, 'postpulse': True, 'rb_time': 'None', 'bs_gate_num': 'None', 'qubits': [0], 'calibrate_single_shot': False, 'singleshot_reps': 10000, 'span': 500, 'active_reset': True, 'man_reset': True, 'storage_reset': True, 'threshold': -39.769721213292996, 'readout_per_round': 4, 'prep_man_photon': False, 'rb_active_reset': True, 'rb_man_reset': True, 'rb_storage_reset': True, 'rb_reps': 300, 'gates_per_wait': 100000, 'rounds': 1, 'variations': 20, 'rb_depth': 124, 'IRB_gate_no': -1, 'bs_repeat': 1, 'sync': False, 'setup': False, 'bs_para': [100, 0, 0.8425040638970613, 0.005]}\n",
      "ge fidelity (%): 0\n",
      "rotation angle (deg): [0]\n",
      "threshold ge: 0\n"
     ]
    },
    {
     "data": {
      "application/vnd.jupyter.widget-view+json": {
       "model_id": "0cd5e3d4468746df9327cfa45477657a",
       "version_major": 2,
       "version_minor": 0
      },
      "text/plain": [
       "  0%|          | 0/20 [00:00<?, ?it/s]"
      ]
     },
     "metadata": {},
     "output_type": "display_data"
    },
    {
     "name": "stdout",
     "output_type": "stream",
     "text": [
      "Saving H:\\Shared drives\\SLab\\Multimode\\experiment\\240911\\data1\\01004_SingleBeamSplitterRB_check_target_sweep_depth.h5\n",
      "Index: 42 depth. = 127 \n",
      "{'pre_sweep_pulse': [['qubit', 'ge', 'hpi', 0], ['qubit', 'ef', 'pi', 0], ['man', 'M1', 'pi', 0], ['storage', 'M1-S4', 'pi', 0]], 'post_sweep_pulse': [['storage', 'M1-S4', 'pi', 0], ['man', 'M1', 'pi', 0], ['qubit', 'ef', 'pi', 0], ['qubit', 'ge', 'hpi', 4974.143993248254]], 'wait_freq': 0.1, 'prepulse': True, 'postpulse': True, 'rb_time': 'None', 'bs_gate_num': 'None', 'qubits': [0], 'calibrate_single_shot': False, 'singleshot_reps': 10000, 'span': 500, 'active_reset': True, 'man_reset': True, 'storage_reset': True, 'threshold': -39.769721213292996, 'readout_per_round': 4, 'prep_man_photon': False, 'rb_active_reset': True, 'rb_man_reset': True, 'rb_storage_reset': True, 'rb_reps': 300, 'gates_per_wait': 100000, 'rounds': 1, 'variations': 20, 'rb_depth': 127, 'IRB_gate_no': -1, 'bs_repeat': 1, 'sync': False, 'setup': False, 'bs_para': [100, 0, 0.8425040638970613, 0.005]}\n",
      "ge fidelity (%): 0\n",
      "rotation angle (deg): [0]\n",
      "threshold ge: 0\n"
     ]
    },
    {
     "data": {
      "application/vnd.jupyter.widget-view+json": {
       "model_id": "461f22d8fec041d7b1a241a9eaf86ae9",
       "version_major": 2,
       "version_minor": 0
      },
      "text/plain": [
       "  0%|          | 0/20 [00:00<?, ?it/s]"
      ]
     },
     "metadata": {},
     "output_type": "display_data"
    },
    {
     "name": "stdout",
     "output_type": "stream",
     "text": [
      "Saving H:\\Shared drives\\SLab\\Multimode\\experiment\\240911\\data1\\01005_SingleBeamSplitterRB_check_target_sweep_depth.h5\n",
      "Index: 43 depth. = 130 \n",
      "{'pre_sweep_pulse': [['qubit', 'ge', 'hpi', 0], ['qubit', 'ef', 'pi', 0], ['man', 'M1', 'pi', 0], ['storage', 'M1-S4', 'pi', 0]], 'post_sweep_pulse': [['storage', 'M1-S4', 'pi', 0], ['man', 'M1', 'pi', 0], ['qubit', 'ef', 'pi', 0], ['qubit', 'ge', 'hpi', 5095.464578449431]], 'wait_freq': 0.1, 'prepulse': True, 'postpulse': True, 'rb_time': 'None', 'bs_gate_num': 'None', 'qubits': [0], 'calibrate_single_shot': False, 'singleshot_reps': 10000, 'span': 500, 'active_reset': True, 'man_reset': True, 'storage_reset': True, 'threshold': -39.769721213292996, 'readout_per_round': 4, 'prep_man_photon': False, 'rb_active_reset': True, 'rb_man_reset': True, 'rb_storage_reset': True, 'rb_reps': 300, 'gates_per_wait': 100000, 'rounds': 1, 'variations': 20, 'rb_depth': 130, 'IRB_gate_no': -1, 'bs_repeat': 1, 'sync': False, 'setup': False, 'bs_para': [100, 0, 0.8425040638970613, 0.005]}\n",
      "ge fidelity (%): 0\n",
      "rotation angle (deg): [0]\n",
      "threshold ge: 0\n"
     ]
    },
    {
     "data": {
      "application/vnd.jupyter.widget-view+json": {
       "model_id": "62e46decb2f14d3b884622c4583dc275",
       "version_major": 2,
       "version_minor": 0
      },
      "text/plain": [
       "  0%|          | 0/20 [00:00<?, ?it/s]"
      ]
     },
     "metadata": {},
     "output_type": "display_data"
    },
    {
     "name": "stdout",
     "output_type": "stream",
     "text": [
      "Saving H:\\Shared drives\\SLab\\Multimode\\experiment\\240911\\data1\\01006_SingleBeamSplitterRB_check_target_sweep_depth.h5\n",
      "Index: 44 depth. = 133 \n",
      "{'pre_sweep_pulse': [['qubit', 'ge', 'hpi', 0], ['qubit', 'ef', 'pi', 0], ['man', 'M1', 'pi', 0], ['storage', 'M1-S4', 'pi', 0]], 'post_sweep_pulse': [['storage', 'M1-S4', 'pi', 0], ['man', 'M1', 'pi', 0], ['qubit', 'ef', 'pi', 0], ['qubit', 'ge', 'hpi', 5489.756480353253]], 'wait_freq': 0.1, 'prepulse': True, 'postpulse': True, 'rb_time': 'None', 'bs_gate_num': 'None', 'qubits': [0], 'calibrate_single_shot': False, 'singleshot_reps': 10000, 'span': 500, 'active_reset': True, 'man_reset': True, 'storage_reset': True, 'threshold': -39.769721213292996, 'readout_per_round': 4, 'prep_man_photon': False, 'rb_active_reset': True, 'rb_man_reset': True, 'rb_storage_reset': True, 'rb_reps': 300, 'gates_per_wait': 100000, 'rounds': 1, 'variations': 20, 'rb_depth': 133, 'IRB_gate_no': -1, 'bs_repeat': 1, 'sync': False, 'setup': False, 'bs_para': [100, 0, 0.8425040638970613, 0.005]}\n",
      "ge fidelity (%): 0\n",
      "rotation angle (deg): [0]\n",
      "threshold ge: 0\n"
     ]
    },
    {
     "data": {
      "application/vnd.jupyter.widget-view+json": {
       "model_id": "1931334f756145f49f228bda3c9e9231",
       "version_major": 2,
       "version_minor": 0
      },
      "text/plain": [
       "  0%|          | 0/20 [00:00<?, ?it/s]"
      ]
     },
     "metadata": {},
     "output_type": "display_data"
    },
    {
     "name": "stdout",
     "output_type": "stream",
     "text": [
      "Saving H:\\Shared drives\\SLab\\Multimode\\experiment\\240911\\data1\\01007_SingleBeamSplitterRB_check_target_sweep_depth.h5\n",
      "Index: 45 depth. = 136 \n",
      "{'pre_sweep_pulse': [['qubit', 'ge', 'hpi', 0], ['qubit', 'ef', 'pi', 0], ['man', 'M1', 'pi', 0], ['storage', 'M1-S4', 'pi', 0]], 'post_sweep_pulse': [['storage', 'M1-S4', 'pi', 0], ['man', 'M1', 'pi', 0], ['qubit', 'ef', 'pi', 0], ['qubit', 'ge', 'hpi', 5368.435895152078]], 'wait_freq': 0.1, 'prepulse': True, 'postpulse': True, 'rb_time': 'None', 'bs_gate_num': 'None', 'qubits': [0], 'calibrate_single_shot': False, 'singleshot_reps': 10000, 'span': 500, 'active_reset': True, 'man_reset': True, 'storage_reset': True, 'threshold': -39.769721213292996, 'readout_per_round': 4, 'prep_man_photon': False, 'rb_active_reset': True, 'rb_man_reset': True, 'rb_storage_reset': True, 'rb_reps': 300, 'gates_per_wait': 100000, 'rounds': 1, 'variations': 20, 'rb_depth': 136, 'IRB_gate_no': -1, 'bs_repeat': 1, 'sync': False, 'setup': False, 'bs_para': [100, 0, 0.8425040638970613, 0.005]}\n",
      "ge fidelity (%): 0\n",
      "rotation angle (deg): [0]\n",
      "threshold ge: 0\n"
     ]
    },
    {
     "data": {
      "application/vnd.jupyter.widget-view+json": {
       "model_id": "ed82aef089a24264a502694c849eb506",
       "version_major": 2,
       "version_minor": 0
      },
      "text/plain": [
       "  0%|          | 0/20 [00:00<?, ?it/s]"
      ]
     },
     "metadata": {},
     "output_type": "display_data"
    },
    {
     "ename": "KeyboardInterrupt",
     "evalue": "",
     "output_type": "error",
     "traceback": [
      "\u001b[1;31m---------------------------------------------------------------------------\u001b[0m",
      "\u001b[1;31mKeyboardInterrupt\u001b[0m                         Traceback (most recent call last)",
      "Cell \u001b[1;32mIn[78], line 53\u001b[0m\n\u001b[0;32m     39\u001b[0m \u001b[38;5;66;03m# experiment_class, experiment_name = 'MM_dual_rail_seq_exp', 'SingleBeamSplitterRB_stor_ramsey_spec'\u001b[39;00m\n\u001b[0;32m     40\u001b[0m \u001b[38;5;66;03m# experiment_name = 'ramsey_sweep'\u001b[39;00m\n\u001b[0;32m     41\u001b[0m \u001b[38;5;66;03m# experiment_name = 'cavity_ramsey_sweep'\u001b[39;00m\n\u001b[1;32m   (...)\u001b[0m\n\u001b[0;32m     46\u001b[0m \u001b[38;5;66;03m# experiment_name = 'single_dual_rail_tomography'\u001b[39;00m\n\u001b[0;32m     47\u001b[0m \u001b[38;5;66;03m# experiment_name = 'two_dual_rail_tomography'\u001b[39;00m\n\u001b[0;32m     52\u001b[0m class_for_exp \u001b[38;5;241m=\u001b[39m \u001b[38;5;28meval\u001b[39m(\u001b[38;5;124m'\u001b[39m\u001b[38;5;124mseq_exp.\u001b[39m\u001b[38;5;124m'\u001b[39m \u001b[38;5;241m+\u001b[39m experiment_class)()\n\u001b[1;32m---> 53\u001b[0m \u001b[38;5;28;43meval\u001b[39;49m\u001b[43m(\u001b[49m\u001b[38;5;124;43m'\u001b[39;49m\u001b[38;5;124;43mclass_for_exp .\u001b[39;49m\u001b[38;5;124;43m'\u001b[39;49m\u001b[43m \u001b[49m\u001b[38;5;241;43m+\u001b[39;49m\u001b[43m \u001b[49m\u001b[43mexperiment_name\u001b[49m\u001b[43m)\u001b[49m\u001b[43m(\u001b[49m\u001b[43msoccfg\u001b[49m\u001b[38;5;241;43m=\u001b[39;49m\u001b[43msoc\u001b[49m\u001b[43m,\u001b[49m\u001b[43m \u001b[49m\u001b[43mpath\u001b[49m\u001b[38;5;241;43m=\u001b[39;49m\u001b[43mexpt_path\u001b[49m\u001b[43m,\u001b[49m\u001b[43m \u001b[49m\u001b[43mprefix\u001b[49m\u001b[38;5;241;43m=\u001b[39;49m\u001b[43mexperiment_name\u001b[49m\u001b[43m,\u001b[49m\u001b[43m \u001b[49m\u001b[43mconfig_file\u001b[49m\u001b[38;5;241;43m=\u001b[39;49m\u001b[43mconfig_path\u001b[49m\u001b[43m,\u001b[49m\u001b[43m \u001b[49m\u001b[43mexp_param_file\u001b[49m\u001b[38;5;241;43m=\u001b[39;49m\u001b[43mexp_param_file\u001b[49m\u001b[43m)\u001b[49m\n",
      "File \u001b[1;32mC:\\_Lib\\python\\multimode_expts\\sequential_experiment.py:1200\u001b[0m, in \u001b[0;36mMM_dual_rail_seq_exp.SingleBeamSplitterRB_check_target_sweep_depth\u001b[1;34m(self, soccfg, path, prefix, config_file, exp_param_file, prep_init, prep_params)\u001b[0m\n\u001b[0;32m   1197\u001b[0m loaded[sweep_experiment_name][\u001b[38;5;124m'\u001b[39m\u001b[38;5;124mreps_list\u001b[39m\u001b[38;5;124m'\u001b[39m] \u001b[38;5;241m=\u001b[39m [loaded[sweep_experiment_name][\u001b[38;5;124m'\u001b[39m\u001b[38;5;124mrepss\u001b[39m\u001b[38;5;124m'\u001b[39m] \u001b[38;5;28;01mfor\u001b[39;00m _ \u001b[38;5;129;01min\u001b[39;00m \u001b[38;5;28mrange\u001b[39m(length)] \u001b[38;5;66;03m# * len(loaded[sweep_experiment_name]['depth_list'])\u001b[39;00m\n\u001b[0;32m   1199\u001b[0m \u001b[38;5;66;03m# print(loaded[sweep_experiment_name])\u001b[39;00m\n\u001b[1;32m-> 1200\u001b[0m \u001b[38;5;28;43mself\u001b[39;49m\u001b[38;5;241;43m.\u001b[39;49m\u001b[43mSingleBeamSplitterRBPostSelection_sweep_depth\u001b[49m\u001b[43m(\u001b[49m\u001b[43msoccfg\u001b[49m\u001b[38;5;241;43m=\u001b[39;49m\u001b[43msoccfg\u001b[49m\u001b[43m,\u001b[49m\u001b[43m \u001b[49m\u001b[43mpath\u001b[49m\u001b[38;5;241;43m=\u001b[39;49m\u001b[43mpath\u001b[49m\u001b[43m,\u001b[49m\u001b[43m \u001b[49m\u001b[43mprefix\u001b[49m\u001b[38;5;241;43m=\u001b[39;49m\u001b[43mprefix\u001b[49m\u001b[43m,\u001b[49m\u001b[43m \u001b[49m\u001b[43mconfig_file\u001b[49m\u001b[38;5;241;43m=\u001b[39;49m\u001b[43mconfig_path\u001b[49m\u001b[43m,\u001b[49m\u001b[43m \u001b[49m\u001b[43mexp_param_file\u001b[49m\u001b[38;5;241;43m=\u001b[39;49m\u001b[43mexp_param_file\u001b[49m\u001b[43m,\u001b[49m\n\u001b[0;32m   1201\u001b[0m \u001b[43m                                            \u001b[49m\u001b[43mprep_init\u001b[49m\u001b[43m \u001b[49m\u001b[38;5;241;43m=\u001b[39;49m\u001b[43m \u001b[49m\u001b[38;5;28;43;01mTrue\u001b[39;49;00m\u001b[43m,\u001b[49m\u001b[43m \u001b[49m\u001b[43mprep_params\u001b[49m\u001b[43m \u001b[49m\u001b[38;5;241;43m=\u001b[39;49m\u001b[43m \u001b[49m\u001b[43m[\u001b[49m\u001b[43mconfig_path\u001b[49m\u001b[43m,\u001b[49m\u001b[43m \u001b[49m\u001b[43mloaded\u001b[49m\u001b[43m,\u001b[49m\u001b[43m \u001b[49m\u001b[43mexperiment_class\u001b[49m\u001b[43m,\u001b[49m\u001b[43m \u001b[49m\u001b[43mexperiment_name\u001b[49m\u001b[43m,\u001b[49m\u001b[43m \u001b[49m\u001b[43msweep_experiment_name\u001b[49m\u001b[43m]\u001b[49m\u001b[43m,\u001b[49m\n\u001b[0;32m   1202\u001b[0m \u001b[43m                                            \u001b[49m\u001b[43mskip_ss\u001b[49m\u001b[43m \u001b[49m\u001b[38;5;241;43m=\u001b[39;49m\u001b[43m \u001b[49m\u001b[38;5;28;43;01mTrue\u001b[39;49;00m\u001b[43m)\u001b[49m\n",
      "File \u001b[1;32mC:\\_Lib\\python\\multimode_expts\\sequential_experiment.py:1253\u001b[0m, in \u001b[0;36mMM_dual_rail_seq_exp.SingleBeamSplitterRBPostSelection_sweep_depth\u001b[1;34m(self, soccfg, path, prefix, config_file, exp_param_file, prep_init, prep_params, skip_ss)\u001b[0m\n\u001b[0;32m   1250\u001b[0m run_exp\u001b[38;5;241m.\u001b[39mcfg\u001b[38;5;241m.\u001b[39mexpt \u001b[38;5;241m=\u001b[39m \u001b[38;5;28meval\u001b[39m(\u001b[38;5;124mf\u001b[39m\u001b[38;5;124m\"\u001b[39m\u001b[38;5;124mloaded[\u001b[39m\u001b[38;5;124m'\u001b[39m\u001b[38;5;132;01m{\u001b[39;00mexperiment_name\u001b[38;5;132;01m}\u001b[39;00m\u001b[38;5;124m'\u001b[39m\u001b[38;5;124m]\u001b[39m\u001b[38;5;124m\"\u001b[39m)\n\u001b[0;32m   1252\u001b[0m \u001b[38;5;28mprint\u001b[39m(run_exp\u001b[38;5;241m.\u001b[39mcfg\u001b[38;5;241m.\u001b[39mexpt)\n\u001b[1;32m-> 1253\u001b[0m \u001b[43mrun_exp\u001b[49m\u001b[38;5;241;43m.\u001b[39;49m\u001b[43mgo\u001b[49m\u001b[43m(\u001b[49m\u001b[43manalyze\u001b[49m\u001b[38;5;241;43m=\u001b[39;49m\u001b[38;5;28;43;01mFalse\u001b[39;49;00m\u001b[43m,\u001b[49m\u001b[43m \u001b[49m\u001b[43mdisplay\u001b[49m\u001b[38;5;241;43m=\u001b[39;49m\u001b[38;5;28;43;01mFalse\u001b[39;49;00m\u001b[43m,\u001b[49m\u001b[43m \u001b[49m\u001b[43mprogress\u001b[49m\u001b[38;5;241;43m=\u001b[39;49m\u001b[38;5;28;43;01mFalse\u001b[39;49;00m\u001b[43m,\u001b[49m\u001b[43m \u001b[49m\u001b[43msave\u001b[49m\u001b[38;5;241;43m=\u001b[39;49m\u001b[38;5;28;43;01mTrue\u001b[39;49;00m\u001b[43m)\u001b[49m\n",
      "File \u001b[1;32mC:\\_Lib\\python\\slab\\experiment.py:111\u001b[0m, in \u001b[0;36mExperiment.go\u001b[1;34m(self, save, analyze, display, progress)\u001b[0m\n\u001b[0;32m    108\u001b[0m \u001b[38;5;28;01mdef\u001b[39;00m \u001b[38;5;21mgo\u001b[39m(\u001b[38;5;28mself\u001b[39m, save\u001b[38;5;241m=\u001b[39m\u001b[38;5;28;01mFalse\u001b[39;00m, analyze\u001b[38;5;241m=\u001b[39m\u001b[38;5;28;01mFalse\u001b[39;00m, display\u001b[38;5;241m=\u001b[39m\u001b[38;5;28;01mFalse\u001b[39;00m, progress\u001b[38;5;241m=\u001b[39m\u001b[38;5;28;01mFalse\u001b[39;00m):\n\u001b[0;32m    109\u001b[0m     \u001b[38;5;66;03m# get data\u001b[39;00m\n\u001b[1;32m--> 111\u001b[0m     data\u001b[38;5;241m=\u001b[39m\u001b[38;5;28;43mself\u001b[39;49m\u001b[38;5;241;43m.\u001b[39;49m\u001b[43macquire\u001b[49m\u001b[43m(\u001b[49m\u001b[43mprogress\u001b[49m\u001b[43m)\u001b[49m\n\u001b[0;32m    112\u001b[0m     \u001b[38;5;28;01mif\u001b[39;00m analyze:\n\u001b[0;32m    113\u001b[0m         data\u001b[38;5;241m=\u001b[39m\u001b[38;5;28mself\u001b[39m\u001b[38;5;241m.\u001b[39manalyze(data)\n",
      "File \u001b[1;32mC:\\_Lib\\python\\multimode_expts\\experiments\\single_qubit\\rb_BSgate_check_target.py:305\u001b[0m, in \u001b[0;36mSingleBeamSplitterRB_check_target.acquire\u001b[1;34m(self, progress, debug)\u001b[0m\n\u001b[0;32m    283\u001b[0m \u001b[38;5;28mself\u001b[39m\u001b[38;5;241m.\u001b[39mcfg\u001b[38;5;241m.\u001b[39mexpt\u001b[38;5;241m.\u001b[39mbs_gate_nums\u001b[38;5;241m.\u001b[39mappend(bs_gate_num)\n\u001b[0;32m    285\u001b[0m \u001b[38;5;66;03m# print(self.cfg.expt.rb_time)\u001b[39;00m\n\u001b[0;32m    286\u001b[0m \n\u001b[0;32m    287\u001b[0m \u001b[38;5;66;03m# #for ram prepulse \u001b[39;00m\n\u001b[1;32m   (...)\u001b[0m\n\u001b[0;32m    303\u001b[0m \n\u001b[0;32m    304\u001b[0m \u001b[38;5;66;03m# self.cfg.expt.pre_sweep_pulse = prepulse_str\u001b[39;00m\n\u001b[1;32m--> 305\u001b[0m rb_shot \u001b[38;5;241m=\u001b[39m \u001b[43mSingleBeamSplitterRB_check_target_prog\u001b[49m\u001b[43m(\u001b[49m\u001b[43msoccfg\u001b[49m\u001b[38;5;241;43m=\u001b[39;49m\u001b[38;5;28;43mself\u001b[39;49m\u001b[38;5;241;43m.\u001b[39;49m\u001b[43msoccfg\u001b[49m\u001b[43m,\u001b[49m\u001b[43m \u001b[49m\u001b[43mcfg\u001b[49m\u001b[38;5;241;43m=\u001b[39;49m\u001b[38;5;28;43mself\u001b[39;49m\u001b[38;5;241;43m.\u001b[39;49m\u001b[43mcfg\u001b[49m\u001b[43m)\u001b[49m\n\u001b[0;32m    306\u001b[0m read_num \u001b[38;5;241m=\u001b[39m\u001b[38;5;241m1\u001b[39m\n\u001b[0;32m    307\u001b[0m \u001b[38;5;28;01mif\u001b[39;00m \u001b[38;5;28mself\u001b[39m\u001b[38;5;241m.\u001b[39mcfg\u001b[38;5;241m.\u001b[39mexpt\u001b[38;5;241m.\u001b[39mrb_active_reset: read_num \u001b[38;5;241m=\u001b[39m \u001b[38;5;241m4\u001b[39m\n",
      "File \u001b[1;32mC:\\_Lib\\python\\multimode_expts\\experiments\\single_qubit\\rb_BSgate_check_target.py:39\u001b[0m, in \u001b[0;36mSingleBeamSplitterRB_check_target_prog.__init__\u001b[1;34m(self, soccfg, cfg)\u001b[0m\n\u001b[0;32m     37\u001b[0m \u001b[38;5;66;03m# copy over parameters for the acquire method\u001b[39;00m\n\u001b[0;32m     38\u001b[0m \u001b[38;5;28mself\u001b[39m\u001b[38;5;241m.\u001b[39mcfg\u001b[38;5;241m.\u001b[39mreps \u001b[38;5;241m=\u001b[39m cfg\u001b[38;5;241m.\u001b[39mexpt\u001b[38;5;241m.\u001b[39mreps\n\u001b[1;32m---> 39\u001b[0m \u001b[38;5;28;43msuper\u001b[39;49m\u001b[43m(\u001b[49m\u001b[43m)\u001b[49m\u001b[38;5;241;43m.\u001b[39;49m\u001b[38;5;21;43m__init__\u001b[39;49m\u001b[43m(\u001b[49m\u001b[43msoccfg\u001b[49m\u001b[43m,\u001b[49m\u001b[43m \u001b[49m\u001b[43mcfg\u001b[49m\u001b[43m)\u001b[49m\n",
      "File \u001b[1;32mC:\\_Lib\\python\\multimode_expts\\MM_dual_rail_base.py:281\u001b[0m, in \u001b[0;36mMMDualRailAveragerProgram.__init__\u001b[1;34m(self, soccfg, cfg)\u001b[0m\n\u001b[0;32m    280\u001b[0m \u001b[38;5;28;01mdef\u001b[39;00m \u001b[38;5;21m__init__\u001b[39m(\u001b[38;5;28mself\u001b[39m, soccfg, cfg):\n\u001b[1;32m--> 281\u001b[0m     \u001b[38;5;28;43msuper\u001b[39;49m\u001b[43m(\u001b[49m\u001b[43m)\u001b[49m\u001b[38;5;241;43m.\u001b[39;49m\u001b[38;5;21;43m__init__\u001b[39;49m\u001b[43m(\u001b[49m\u001b[43msoccfg\u001b[49m\u001b[43m,\u001b[49m\u001b[43m \u001b[49m\u001b[43mcfg\u001b[49m\u001b[43m)\u001b[49m\n",
      "File \u001b[1;32mC:\\_Lib\\python\\qick\\qick_lib\\qick\\averager_program.py:28\u001b[0m, in \u001b[0;36mAveragerProgram.__init__\u001b[1;34m(self, soccfg, cfg)\u001b[0m\n\u001b[0;32m     26\u001b[0m \u001b[38;5;28msuper\u001b[39m()\u001b[38;5;241m.\u001b[39m\u001b[38;5;21m__init__\u001b[39m(soccfg)\n\u001b[0;32m     27\u001b[0m \u001b[38;5;28mself\u001b[39m\u001b[38;5;241m.\u001b[39mcfg \u001b[38;5;241m=\u001b[39m cfg\n\u001b[1;32m---> 28\u001b[0m \u001b[38;5;28;43mself\u001b[39;49m\u001b[38;5;241;43m.\u001b[39;49m\u001b[43mmake_program\u001b[49m\u001b[43m(\u001b[49m\u001b[43m)\u001b[49m\n\u001b[0;32m     29\u001b[0m \u001b[38;5;28;01mif\u001b[39;00m \u001b[38;5;124m\"\u001b[39m\u001b[38;5;124msoft_avgs\u001b[39m\u001b[38;5;124m\"\u001b[39m \u001b[38;5;129;01min\u001b[39;00m cfg:\n\u001b[0;32m     30\u001b[0m     \u001b[38;5;28mself\u001b[39m\u001b[38;5;241m.\u001b[39mrounds \u001b[38;5;241m=\u001b[39m cfg[\u001b[38;5;124m'\u001b[39m\u001b[38;5;124msoft_avgs\u001b[39m\u001b[38;5;124m'\u001b[39m]\n",
      "File \u001b[1;32mC:\\_Lib\\python\\qick\\qick_lib\\qick\\averager_program.py:60\u001b[0m, in \u001b[0;36mAveragerProgram.make_program\u001b[1;34m(self)\u001b[0m\n\u001b[0;32m     57\u001b[0m p\u001b[38;5;241m.\u001b[39mregwi(\u001b[38;5;241m0\u001b[39m, rjj, \u001b[38;5;28mself\u001b[39m\u001b[38;5;241m.\u001b[39mcfg[\u001b[38;5;124m'\u001b[39m\u001b[38;5;124mreps\u001b[39m\u001b[38;5;124m'\u001b[39m]\u001b[38;5;241m-\u001b[39m\u001b[38;5;241m1\u001b[39m)\n\u001b[0;32m     58\u001b[0m p\u001b[38;5;241m.\u001b[39mlabel(\u001b[38;5;124m\"\u001b[39m\u001b[38;5;124mLOOP_J\u001b[39m\u001b[38;5;124m\"\u001b[39m)\n\u001b[1;32m---> 60\u001b[0m \u001b[43mp\u001b[49m\u001b[38;5;241;43m.\u001b[39;49m\u001b[43mbody\u001b[49m\u001b[43m(\u001b[49m\u001b[43m)\u001b[49m\n\u001b[0;32m     62\u001b[0m p\u001b[38;5;241m.\u001b[39mmathi(\u001b[38;5;241m0\u001b[39m, rcount, rcount, \u001b[38;5;124m\"\u001b[39m\u001b[38;5;124m+\u001b[39m\u001b[38;5;124m\"\u001b[39m, \u001b[38;5;241m1\u001b[39m)\n\u001b[0;32m     64\u001b[0m p\u001b[38;5;241m.\u001b[39mmemwi(\u001b[38;5;241m0\u001b[39m, rcount, \u001b[38;5;28mself\u001b[39m\u001b[38;5;241m.\u001b[39mcounter_addr)\n",
      "File \u001b[1;32mC:\\_Lib\\python\\multimode_expts\\experiments\\single_qubit\\rb_BSgate_check_target.py:70\u001b[0m, in \u001b[0;36mSingleBeamSplitterRB_check_target_prog.body\u001b[1;34m(self)\u001b[0m\n\u001b[0;32m     68\u001b[0m \u001b[38;5;66;03m#do the active reset\u001b[39;00m\n\u001b[0;32m     69\u001b[0m \u001b[38;5;28;01mif\u001b[39;00m cfg\u001b[38;5;241m.\u001b[39mexpt\u001b[38;5;241m.\u001b[39mrb_active_reset:\n\u001b[1;32m---> 70\u001b[0m     \u001b[38;5;28;43mself\u001b[39;49m\u001b[38;5;241;43m.\u001b[39;49m\u001b[43mactive_reset\u001b[49m\u001b[43m(\u001b[49m\u001b[43m \u001b[49m\u001b[43mman_reset\u001b[49m\u001b[38;5;241;43m=\u001b[39;49m\u001b[43m \u001b[49m\u001b[38;5;28;43mself\u001b[39;49m\u001b[38;5;241;43m.\u001b[39;49m\u001b[43mcfg\u001b[49m\u001b[38;5;241;43m.\u001b[39;49m\u001b[43mexpt\u001b[49m\u001b[38;5;241;43m.\u001b[39;49m\u001b[43mrb_man_reset\u001b[49m\u001b[43m,\u001b[49m\u001b[43m \u001b[49m\u001b[43mstorage_reset\u001b[49m\u001b[38;5;241;43m=\u001b[39;49m\u001b[43m \u001b[49m\u001b[38;5;28;43mself\u001b[39;49m\u001b[38;5;241;43m.\u001b[39;49m\u001b[43mcfg\u001b[49m\u001b[38;5;241;43m.\u001b[39;49m\u001b[43mexpt\u001b[49m\u001b[38;5;241;43m.\u001b[39;49m\u001b[43mrb_storage_reset\u001b[49m\u001b[43m,\u001b[49m\u001b[43m \u001b[49m\n\u001b[0;32m     71\u001b[0m \u001b[43m                      \u001b[49m\u001b[43mef_reset\u001b[49m\u001b[43m \u001b[49m\u001b[38;5;241;43m=\u001b[39;49m\u001b[43m \u001b[49m\u001b[38;5;28;43;01mTrue\u001b[39;49;00m\u001b[43m,\u001b[49m\u001b[43m \u001b[49m\u001b[43mpre_selection_reset\u001b[49m\u001b[43m \u001b[49m\u001b[38;5;241;43m=\u001b[39;49m\u001b[43m \u001b[49m\u001b[38;5;28;43;01mTrue\u001b[39;49;00m\u001b[43m,\u001b[49m\u001b[43m \u001b[49m\u001b[43mprefix\u001b[49m\u001b[43m \u001b[49m\u001b[38;5;241;43m=\u001b[39;49m\u001b[43m \u001b[49m\u001b[38;5;124;43m'\u001b[39;49m\u001b[38;5;124;43mbase\u001b[39;49m\u001b[38;5;124;43m'\u001b[39;49m\u001b[43m)\u001b[49m\n\u001b[0;32m     73\u001b[0m \u001b[38;5;66;03m# self.wait_all(self.us2cycles(0.2))\u001b[39;00m\n\u001b[0;32m     74\u001b[0m \u001b[38;5;66;03m# self.sync_all(self.us2cycles(0.2))\u001b[39;00m\n\u001b[0;32m     75\u001b[0m \n\u001b[0;32m     76\u001b[0m \u001b[38;5;66;03m# prepulse \u001b[39;00m\n\u001b[0;32m     77\u001b[0m \u001b[38;5;28;01mif\u001b[39;00m cfg\u001b[38;5;241m.\u001b[39mexpt\u001b[38;5;241m.\u001b[39mprepulse:\n",
      "File \u001b[1;32mC:\\_Lib\\python\\multimode_expts\\MM_base.py:612\u001b[0m, in \u001b[0;36mMM_base.active_reset\u001b[1;34m(self, man_reset, storage_reset, ef_reset, pre_selection_reset, prefix)\u001b[0m\n\u001b[0;32m    610\u001b[0m man_idx \u001b[38;5;241m=\u001b[39m \u001b[38;5;241m0\u001b[39m \n\u001b[0;32m    611\u001b[0m stor_idx \u001b[38;5;241m=\u001b[39m ii\n\u001b[1;32m--> 612\u001b[0m \u001b[38;5;28;43mself\u001b[39;49m\u001b[38;5;241;43m.\u001b[39;49m\u001b[43mman_stor_swap\u001b[49m\u001b[43m(\u001b[49m\u001b[43mman_idx\u001b[49m\u001b[38;5;241;43m=\u001b[39;49m\u001b[43mman_idx\u001b[49m\u001b[38;5;241;43m+\u001b[39;49m\u001b[38;5;241;43m1\u001b[39;49m\u001b[43m,\u001b[49m\u001b[43m \u001b[49m\u001b[43mstor_idx\u001b[49m\u001b[38;5;241;43m=\u001b[39;49m\u001b[43mstor_idx\u001b[49m\u001b[38;5;241;43m+\u001b[39;49m\u001b[38;5;241;43m1\u001b[39;49m\u001b[43m)\u001b[49m \u001b[38;5;66;03m#self.man_stor_swap(1, ii+1)\u001b[39;00m\n\u001b[0;32m    613\u001b[0m \u001b[38;5;28mself\u001b[39m\u001b[38;5;241m.\u001b[39mman_reset(\u001b[38;5;241m0\u001b[39m, chi_dressed \u001b[38;5;241m=\u001b[39m \u001b[38;5;28;01mFalse\u001b[39;00m)\n\u001b[0;32m    614\u001b[0m \u001b[38;5;28mself\u001b[39m\u001b[38;5;241m.\u001b[39mman_reset(\u001b[38;5;241m1\u001b[39m, chi_dressed \u001b[38;5;241m=\u001b[39m \u001b[38;5;28;01mFalse\u001b[39;00m)\n",
      "File \u001b[1;32mC:\\_Lib\\python\\multimode_expts\\MM_base.py:457\u001b[0m, in \u001b[0;36mMM_base.man_stor_swap\u001b[1;34m(self, man_idx, stor_idx)\u001b[0m\n\u001b[0;32m    454\u001b[0m qTest \u001b[38;5;241m=\u001b[39m \u001b[38;5;241m0\u001b[39m\n\u001b[0;32m    455\u001b[0m sweep_pulse \u001b[38;5;241m=\u001b[39m [[\u001b[38;5;124m'\u001b[39m\u001b[38;5;124mstorage\u001b[39m\u001b[38;5;124m'\u001b[39m, \u001b[38;5;124m'\u001b[39m\u001b[38;5;124mM\u001b[39m\u001b[38;5;124m'\u001b[39m\u001b[38;5;241m+\u001b[39m \u001b[38;5;28mstr\u001b[39m(man_idx) \u001b[38;5;241m+\u001b[39m \u001b[38;5;124m'\u001b[39m\u001b[38;5;124m-\u001b[39m\u001b[38;5;124m'\u001b[39m \u001b[38;5;241m+\u001b[39m \u001b[38;5;124m'\u001b[39m\u001b[38;5;124mS\u001b[39m\u001b[38;5;124m'\u001b[39m \u001b[38;5;241m+\u001b[39m \u001b[38;5;28mstr\u001b[39m(stor_idx), \u001b[38;5;124m'\u001b[39m\u001b[38;5;124mpi\u001b[39m\u001b[38;5;124m'\u001b[39m, \u001b[38;5;241m0\u001b[39m], \n\u001b[0;32m    456\u001b[0m                ]\n\u001b[1;32m--> 457\u001b[0m creator \u001b[38;5;241m=\u001b[39m \u001b[38;5;28;43mself\u001b[39;49m\u001b[38;5;241;43m.\u001b[39;49m\u001b[43mget_prepulse_creator\u001b[49m\u001b[43m(\u001b[49m\u001b[43msweep_pulse\u001b[49m\u001b[43m)\u001b[49m\n\u001b[0;32m    458\u001b[0m \u001b[38;5;66;03m# print(creator.pulse)\u001b[39;00m\n\u001b[0;32m    459\u001b[0m \u001b[38;5;66;03m# self.sync_all(self.us2cycles(0.2))\u001b[39;00m\n\u001b[0;32m    460\u001b[0m \u001b[38;5;28mself\u001b[39m\u001b[38;5;241m.\u001b[39mcustom_pulse(\u001b[38;5;28mself\u001b[39m\u001b[38;5;241m.\u001b[39mcfg, creator\u001b[38;5;241m.\u001b[39mpulse, prefix\u001b[38;5;241m=\u001b[39m\u001b[38;5;124m'\u001b[39m\u001b[38;5;124mStorage\u001b[39m\u001b[38;5;124m'\u001b[39m \u001b[38;5;241m+\u001b[39m \u001b[38;5;28mstr\u001b[39m(stor_idx) \u001b[38;5;241m+\u001b[39m \u001b[38;5;124m'\u001b[39m\u001b[38;5;124mdump\u001b[39m\u001b[38;5;124m'\u001b[39m)\n",
      "File \u001b[1;32mC:\\_Lib\\python\\multimode_expts\\MM_base.py:30\u001b[0m, in \u001b[0;36mMM_base.get_prepulse_creator\u001b[1;34m(self, sweep_pulse)\u001b[0m\n\u001b[0;32m     28\u001b[0m \u001b[38;5;250m\u001b[39m\u001b[38;5;124;03m'''returns an instance  of  prepulse creator class '''\u001b[39;00m\n\u001b[0;32m     29\u001b[0m \u001b[38;5;66;03m#config_file = self.cfg\u001b[39;00m\n\u001b[1;32m---> 30\u001b[0m creator \u001b[38;5;241m=\u001b[39m \u001b[43mprepulse_creator2\u001b[49m\u001b[43m(\u001b[49m\u001b[38;5;28;43mself\u001b[39;49m\u001b[38;5;241;43m.\u001b[39;49m\u001b[43mcfg\u001b[49m\u001b[43m,\u001b[49m\u001b[43m \u001b[49m\u001b[38;5;28;43mself\u001b[39;49m\u001b[38;5;241;43m.\u001b[39;49m\u001b[43mcfg\u001b[49m\u001b[38;5;241;43m.\u001b[39;49m\u001b[43mdevice\u001b[49m\u001b[38;5;241;43m.\u001b[39;49m\u001b[43mstorage\u001b[49m\u001b[38;5;241;43m.\u001b[39;49m\u001b[43mstorage_man_file\u001b[49m\u001b[43m)\u001b[49m\n\u001b[0;32m     32\u001b[0m \u001b[38;5;28;01mif\u001b[39;00m sweep_pulse \u001b[38;5;129;01mis\u001b[39;00m \u001b[38;5;129;01mnot\u001b[39;00m \u001b[38;5;28;01mNone\u001b[39;00m:\n\u001b[0;32m     33\u001b[0m     \u001b[38;5;28;01mfor\u001b[39;00m pulse_idx \u001b[38;5;129;01min\u001b[39;00m \u001b[38;5;28mrange\u001b[39m(\u001b[38;5;28mlen\u001b[39m(sweep_pulse)):\n\u001b[0;32m     34\u001b[0m         \u001b[38;5;66;03m# for each pulse \u001b[39;00m\n\u001b[0;32m     35\u001b[0m         \u001b[38;5;66;03m#print(sweep_pulse)\u001b[39;00m\n",
      "File \u001b[1;32mC:\\_Lib\\python\\multimode_expts\\MM_base.py:1258\u001b[0m, in \u001b[0;36mprepulse_creator2.__init__\u001b[1;34m(self, cfg, storage_man_file)\u001b[0m\n\u001b[0;32m   1255\u001b[0m \u001b[38;5;28mself\u001b[39m\u001b[38;5;241m.\u001b[39mcfg \u001b[38;5;241m=\u001b[39m cfg\u001b[38;5;66;03m#AttrDict(yaml_cfg)\u001b[39;00m\n\u001b[0;32m   1257\u001b[0m \u001b[38;5;66;03m# man storage swap data \u001b[39;00m\n\u001b[1;32m-> 1258\u001b[0m \u001b[38;5;28mself\u001b[39m\u001b[38;5;241m.\u001b[39mdataset \u001b[38;5;241m=\u001b[39m \u001b[43mstorage_man_swap_dataset\u001b[49m\u001b[43m(\u001b[49m\u001b[43mstorage_man_file\u001b[49m\u001b[43m)\u001b[49m\n\u001b[0;32m   1260\u001b[0m \u001b[38;5;66;03m# initialize pulse \u001b[39;00m\n\u001b[0;32m   1261\u001b[0m \u001b[38;5;28mself\u001b[39m\u001b[38;5;241m.\u001b[39mpulse \u001b[38;5;241m=\u001b[39m np\u001b[38;5;241m.\u001b[39marray([[],[],[],[],[],[],[]], dtype \u001b[38;5;241m=\u001b[39m \u001b[38;5;28mobject\u001b[39m)\n",
      "File \u001b[1;32mC:\\_Lib\\python\\multimode_expts\\dataset.py:17\u001b[0m, in \u001b[0;36mstorage_man_swap_dataset.__init__\u001b[1;34m(self, filename)\u001b[0m\n\u001b[0;32m     15\u001b[0m \u001b[38;5;28mself\u001b[39m\u001b[38;5;241m.\u001b[39mfilename \u001b[38;5;241m=\u001b[39m filename\n\u001b[0;32m     16\u001b[0m \u001b[38;5;28;01mif\u001b[39;00m os\u001b[38;5;241m.\u001b[39mpath\u001b[38;5;241m.\u001b[39mexists(filename):\n\u001b[1;32m---> 17\u001b[0m     \u001b[38;5;28mself\u001b[39m\u001b[38;5;241m.\u001b[39mdf \u001b[38;5;241m=\u001b[39m \u001b[43mpd\u001b[49m\u001b[38;5;241;43m.\u001b[39;49m\u001b[43mread_csv\u001b[49m\u001b[43m(\u001b[49m\u001b[43mfilename\u001b[49m\u001b[43m)\u001b[49m\n\u001b[0;32m     18\u001b[0m \u001b[38;5;28;01melse\u001b[39;00m: \n\u001b[0;32m     19\u001b[0m     \u001b[38;5;66;03m# create a new dataframe\u001b[39;00m\n\u001b[0;32m     20\u001b[0m     \u001b[38;5;28mself\u001b[39m\u001b[38;5;241m.\u001b[39mcreate_new_df()\n",
      "File \u001b[1;32mc:\\Users\\26049\\.conda\\envs\\slab\\lib\\site-packages\\pandas\\util\\_decorators.py:211\u001b[0m, in \u001b[0;36mdeprecate_kwarg.<locals>._deprecate_kwarg.<locals>.wrapper\u001b[1;34m(*args, **kwargs)\u001b[0m\n\u001b[0;32m    209\u001b[0m     \u001b[38;5;28;01melse\u001b[39;00m:\n\u001b[0;32m    210\u001b[0m         kwargs[new_arg_name] \u001b[38;5;241m=\u001b[39m new_arg_value\n\u001b[1;32m--> 211\u001b[0m \u001b[38;5;28;01mreturn\u001b[39;00m \u001b[43mfunc\u001b[49m\u001b[43m(\u001b[49m\u001b[38;5;241;43m*\u001b[39;49m\u001b[43margs\u001b[49m\u001b[43m,\u001b[49m\u001b[43m \u001b[49m\u001b[38;5;241;43m*\u001b[39;49m\u001b[38;5;241;43m*\u001b[39;49m\u001b[43mkwargs\u001b[49m\u001b[43m)\u001b[49m\n",
      "File \u001b[1;32mc:\\Users\\26049\\.conda\\envs\\slab\\lib\\site-packages\\pandas\\util\\_decorators.py:331\u001b[0m, in \u001b[0;36mdeprecate_nonkeyword_arguments.<locals>.decorate.<locals>.wrapper\u001b[1;34m(*args, **kwargs)\u001b[0m\n\u001b[0;32m    325\u001b[0m \u001b[38;5;28;01mif\u001b[39;00m \u001b[38;5;28mlen\u001b[39m(args) \u001b[38;5;241m>\u001b[39m num_allow_args:\n\u001b[0;32m    326\u001b[0m     warnings\u001b[38;5;241m.\u001b[39mwarn(\n\u001b[0;32m    327\u001b[0m         msg\u001b[38;5;241m.\u001b[39mformat(arguments\u001b[38;5;241m=\u001b[39m_format_argument_list(allow_args)),\n\u001b[0;32m    328\u001b[0m         \u001b[38;5;167;01mFutureWarning\u001b[39;00m,\n\u001b[0;32m    329\u001b[0m         stacklevel\u001b[38;5;241m=\u001b[39mfind_stack_level(),\n\u001b[0;32m    330\u001b[0m     )\n\u001b[1;32m--> 331\u001b[0m \u001b[38;5;28;01mreturn\u001b[39;00m \u001b[43mfunc\u001b[49m\u001b[43m(\u001b[49m\u001b[38;5;241;43m*\u001b[39;49m\u001b[43margs\u001b[49m\u001b[43m,\u001b[49m\u001b[43m \u001b[49m\u001b[38;5;241;43m*\u001b[39;49m\u001b[38;5;241;43m*\u001b[39;49m\u001b[43mkwargs\u001b[49m\u001b[43m)\u001b[49m\n",
      "File \u001b[1;32mc:\\Users\\26049\\.conda\\envs\\slab\\lib\\site-packages\\pandas\\io\\parsers\\readers.py:950\u001b[0m, in \u001b[0;36mread_csv\u001b[1;34m(filepath_or_buffer, sep, delimiter, header, names, index_col, usecols, squeeze, prefix, mangle_dupe_cols, dtype, engine, converters, true_values, false_values, skipinitialspace, skiprows, skipfooter, nrows, na_values, keep_default_na, na_filter, verbose, skip_blank_lines, parse_dates, infer_datetime_format, keep_date_col, date_parser, dayfirst, cache_dates, iterator, chunksize, compression, thousands, decimal, lineterminator, quotechar, quoting, doublequote, escapechar, comment, encoding, encoding_errors, dialect, error_bad_lines, warn_bad_lines, on_bad_lines, delim_whitespace, low_memory, memory_map, float_precision, storage_options)\u001b[0m\n\u001b[0;32m    935\u001b[0m kwds_defaults \u001b[38;5;241m=\u001b[39m _refine_defaults_read(\n\u001b[0;32m    936\u001b[0m     dialect,\n\u001b[0;32m    937\u001b[0m     delimiter,\n\u001b[1;32m   (...)\u001b[0m\n\u001b[0;32m    946\u001b[0m     defaults\u001b[38;5;241m=\u001b[39m{\u001b[38;5;124m\"\u001b[39m\u001b[38;5;124mdelimiter\u001b[39m\u001b[38;5;124m\"\u001b[39m: \u001b[38;5;124m\"\u001b[39m\u001b[38;5;124m,\u001b[39m\u001b[38;5;124m\"\u001b[39m},\n\u001b[0;32m    947\u001b[0m )\n\u001b[0;32m    948\u001b[0m kwds\u001b[38;5;241m.\u001b[39mupdate(kwds_defaults)\n\u001b[1;32m--> 950\u001b[0m \u001b[38;5;28;01mreturn\u001b[39;00m \u001b[43m_read\u001b[49m\u001b[43m(\u001b[49m\u001b[43mfilepath_or_buffer\u001b[49m\u001b[43m,\u001b[49m\u001b[43m \u001b[49m\u001b[43mkwds\u001b[49m\u001b[43m)\u001b[49m\n",
      "File \u001b[1;32mc:\\Users\\26049\\.conda\\envs\\slab\\lib\\site-packages\\pandas\\io\\parsers\\readers.py:611\u001b[0m, in \u001b[0;36m_read\u001b[1;34m(filepath_or_buffer, kwds)\u001b[0m\n\u001b[0;32m    608\u001b[0m     \u001b[38;5;28;01mreturn\u001b[39;00m parser\n\u001b[0;32m    610\u001b[0m \u001b[38;5;28;01mwith\u001b[39;00m parser:\n\u001b[1;32m--> 611\u001b[0m     \u001b[38;5;28;01mreturn\u001b[39;00m parser\u001b[38;5;241m.\u001b[39mread(nrows)\n",
      "File \u001b[1;32mc:\\Users\\26049\\.conda\\envs\\slab\\lib\\site-packages\\pandas\\io\\parsers\\readers.py:1816\u001b[0m, in \u001b[0;36mTextFileReader.__exit__\u001b[1;34m(self, exc_type, exc_value, traceback)\u001b[0m\n\u001b[0;32m   1815\u001b[0m \u001b[38;5;28;01mdef\u001b[39;00m \u001b[38;5;21m__exit__\u001b[39m(\u001b[38;5;28mself\u001b[39m, exc_type, exc_value, traceback) \u001b[38;5;241m-\u001b[39m\u001b[38;5;241m>\u001b[39m \u001b[38;5;28;01mNone\u001b[39;00m:\n\u001b[1;32m-> 1816\u001b[0m     \u001b[38;5;28;43mself\u001b[39;49m\u001b[38;5;241;43m.\u001b[39;49m\u001b[43mclose\u001b[49m\u001b[43m(\u001b[49m\u001b[43m)\u001b[49m\n",
      "File \u001b[1;32mc:\\Users\\26049\\.conda\\envs\\slab\\lib\\site-packages\\pandas\\io\\parsers\\readers.py:1446\u001b[0m, in \u001b[0;36mTextFileReader.close\u001b[1;34m(self)\u001b[0m\n\u001b[0;32m   1444\u001b[0m \u001b[38;5;28;01mdef\u001b[39;00m \u001b[38;5;21mclose\u001b[39m(\u001b[38;5;28mself\u001b[39m) \u001b[38;5;241m-\u001b[39m\u001b[38;5;241m>\u001b[39m \u001b[38;5;28;01mNone\u001b[39;00m:\n\u001b[0;32m   1445\u001b[0m     \u001b[38;5;28;01mif\u001b[39;00m \u001b[38;5;28mself\u001b[39m\u001b[38;5;241m.\u001b[39mhandles \u001b[38;5;129;01mis\u001b[39;00m \u001b[38;5;129;01mnot\u001b[39;00m \u001b[38;5;28;01mNone\u001b[39;00m:\n\u001b[1;32m-> 1446\u001b[0m         \u001b[38;5;28;43mself\u001b[39;49m\u001b[38;5;241;43m.\u001b[39;49m\u001b[43mhandles\u001b[49m\u001b[38;5;241;43m.\u001b[39;49m\u001b[43mclose\u001b[49m\u001b[43m(\u001b[49m\u001b[43m)\u001b[49m\n\u001b[0;32m   1447\u001b[0m     \u001b[38;5;28mself\u001b[39m\u001b[38;5;241m.\u001b[39m_engine\u001b[38;5;241m.\u001b[39mclose()\n",
      "File \u001b[1;32mc:\\Users\\26049\\.conda\\envs\\slab\\lib\\site-packages\\pandas\\io\\common.py:125\u001b[0m, in \u001b[0;36mIOHandles.close\u001b[1;34m(self)\u001b[0m\n\u001b[0;32m    123\u001b[0m     \u001b[38;5;28mself\u001b[39m\u001b[38;5;241m.\u001b[39mcreated_handles\u001b[38;5;241m.\u001b[39mremove(\u001b[38;5;28mself\u001b[39m\u001b[38;5;241m.\u001b[39mhandle)\n\u001b[0;32m    124\u001b[0m \u001b[38;5;28;01mfor\u001b[39;00m handle \u001b[38;5;129;01min\u001b[39;00m \u001b[38;5;28mself\u001b[39m\u001b[38;5;241m.\u001b[39mcreated_handles:\n\u001b[1;32m--> 125\u001b[0m     \u001b[43mhandle\u001b[49m\u001b[38;5;241;43m.\u001b[39;49m\u001b[43mclose\u001b[49m\u001b[43m(\u001b[49m\u001b[43m)\u001b[49m\n\u001b[0;32m    126\u001b[0m \u001b[38;5;28mself\u001b[39m\u001b[38;5;241m.\u001b[39mcreated_handles \u001b[38;5;241m=\u001b[39m []\n\u001b[0;32m    127\u001b[0m \u001b[38;5;28mself\u001b[39m\u001b[38;5;241m.\u001b[39mis_wrapped \u001b[38;5;241m=\u001b[39m \u001b[38;5;28;01mFalse\u001b[39;00m\n",
      "\u001b[1;31mKeyboardInterrupt\u001b[0m: "
     ]
    }
   ],
   "source": [
    "import multimode_expts.sequential_experiment as seq_exp\n",
    "\n",
    "experiment_name = 'length_rabi_sweep'\n",
    "# experiment_name = 'dc_flux_sweep'\n",
    "experiment_name = 'length_rabi_f0g1_sweep'\n",
    "# experiment_name = 'gain_displace_sweep'\n",
    "experiment_name = 'sideband_general_sweep'\n",
    "# experiment_name = 'single_shot_phase_sweep'\n",
    "# experiment_name = 'single_shot_freq_sweep'\n",
    "# experiment_name = 'HistogramExperiment_freq_sweep'\n",
    "# experiment_name = 'HistogramExperiment_ef_freq_sweep'\n",
    "# experiment_name = 'single_shot_time_sweep'\n",
    "# experiment_name = 'single_qubit_tomography'      # <--------------\n",
    "# experiment_name = 'SingleRB_sweep_freq'\n",
    "# experiment_name = 'SingleRB_sweep_pi_amp'\n",
    "# experiment_name = 'SingleRB_sweep_hpi_amp'\n",
    "# experiment_name = 'SingleRB_sweep_f0g1_phase'\n",
    "# experiment_name = 'SingleRB_sweep_depth_and_prepulse'\n",
    "# experiment_name = 'SingleRB_sweep_depth'\n",
    "# experiment_name = 'MultiRBAM_sweep_depth'\n",
    "# experiment_name = 'SingleBeamsplitterRB_sweep_depth'\n",
    "# experiment_name = 'SingleBeamSplitterRB_sweep_freq'\n",
    "# experiment_name = 'SingleBeamSplitterRB_gain_freq'\n",
    "# experiment_name = 'pulseprobe_f0g1_dc_flux_sweep'\n",
    "# experiment_name = 'PhaseSweepAverager_sweep_reps_middlepulse'\n",
    "# experiment_name = 'cavity_t1_dc_flux_sweep'\n",
    "# experiment_name = 'displace_enhanced_sweep'\n",
    "# experiment_name = 'fluxspectroscopy_f0g1_dc_flux_sweep'\n",
    "# experiment_name = 'storage_sideband_sweep'\n",
    "# experiment_name = 'sideband_fidelity_optimization'\n",
    "# experiment_name = 'storage_t1_optimization'\n",
    "# experiment_name = 'SingleBeamSplitterRBPostSelection_sweep_depth'#\n",
    "experiment_name = 'SingleBeamSplitterRBPostSelection_sweep_depth_and_ram'\n",
    "experiment_name = 'SingleBeamSplitterRBPostSelection_sweep_depth_and_single_spec'\n",
    "experiment_name = 'DualRail_sweep_depth_and_single_spec_and_stor'\n",
    "# experiment_name = 'SingleBeamSplitterRBPostSelection_sweep_depth_storsweep'\n",
    "# experiment_name = 'SingleBeamSplitterRBPostSelection_sweep_depth_defined_storsweep'\n",
    "experiment_class, experiment_name = 'MM_dual_rail_seq_exp', 'SingleBeamSplitterRB_check_target_sweep_depth'\n",
    "# experiment_class, experiment_name = 'MM_dual_rail_seq_exp', 'SingleBeamSplitterRB_stor_ramsey_spec'\n",
    "# experiment_name = 'ramsey_sweep'\n",
    "# experiment_name = 'cavity_ramsey_sweep'\n",
    "# experiment_name = 'manipulate_dc_flux_sweep'\n",
    "# experiment_name = 'rb_bs_optimization'\n",
    "# experiment_name = 'rb_bs_dual_rail_optimization'\n",
    "# experiment_name = 'cross_kerr_sweep'\n",
    "# experiment_name = 'single_dual_rail_tomography'\n",
    "# experiment_name = 'two_dual_rail_tomography'\n",
    "\n",
    "\n",
    "\n",
    "\n",
    "class_for_exp = eval('seq_exp.' + experiment_class)()\n",
    "eval('class_for_exp .' + experiment_name)(soccfg=soc, path=expt_path, prefix=experiment_name, config_file=config_path, exp_param_file=exp_param_file)\n",
    "# eval('seq_exp.' + experiment_name)(soccfg=soc, path=expt_path, prefix=experiment_name, config_file=config_path, exp_param_file=exp_param_file)"
   ]
  },
  {
   "cell_type": "markdown",
   "metadata": {},
   "source": []
  },
  {
   "cell_type": "code",
   "execution_count": 58,
   "metadata": {},
   "outputs": [],
   "source": [
    "from multimode_expts.MM_rb_base import  *\n",
    "def get_parity_str(man_mode_no, return_pulse=False): \n",
    "    '''\n",
    "    Create parity pulse \n",
    "    '''\n",
    "    parity_str = [['qubit', 'ge', 'hpi', 0],\n",
    "                  ['qubit', 'ge', 'parity_M' + str(man_mode_no), 0],\n",
    "                  ['qubit', 'ge', 'hpi', 0]]\n",
    "    if return_pulse:\n",
    "        mm_base = MM_rb_base(cfg = yaml_cfg)\n",
    "        creator = mm_base.get_prepulse_creator(parity_str)\n",
    "        return creator.pulse.tolist()\n",
    "\n",
    "    return parity_str\n"
   ]
  },
  {
   "cell_type": "code",
   "execution_count": null,
   "metadata": {},
   "outputs": [],
   "source": [
    "from MM_base import MM_base\n",
    "stor_no=1\n",
    "man_idx=1\n",
    "mm_base = MM_base(cfg = yaml_cfg)\n",
    "pre_sweep_pulse_str = [['man', 'M' + str(man_idx) , 'pi',0],\n",
    "                       ['qubit', 'ef', 'pi',0]]\n",
    "creator = mm_base.get_prepulse_creator(pre_sweep_pulse_str)\n",
    "a1 = creator.pulse.tolist()\n",
    "a1\n"
   ]
  },
  {
   "cell_type": "code",
   "execution_count": null,
   "metadata": {},
   "outputs": [],
   "source": [
    "from MM_base import MM_base\n",
    "stor_no=1\n",
    "man_idx=1\n",
    "mm_base = MM_base(cfg = yaml_cfg)\n",
    "pre_sweep_pulse_str = [['storage', 'M'+ str(man_idx) + '-S' + str(stor_no), 'pi',0],\n",
    "    ['qubit', 'ge', 'hpi',0], # Starting parity meas\n",
    "                ['qubit', 'ge', 'parity_M' + str(man_idx),0], \n",
    "                ['qubit', 'ge', 'hpi',0]]\n",
    "creator = mm_base.get_prepulse_creator(pre_sweep_pulse_str)\n",
    "a1 = creator.pulse.tolist()\n",
    "a1\n"
   ]
  },
  {
   "cell_type": "code",
   "execution_count": 36,
   "metadata": {},
   "outputs": [
    {
     "data": {
      "text/plain": [
       "[[3568.1751638611518, 3425.5564066067, 2007.06, 349.415, 520.925, 520.925],\n",
       " [10716, 8236, 15000, 3000, 5000, 5000],\n",
       " [0, 0, 0.651287, 0.4885714285714285, 0.565451994946885, 0.565451994946885],\n",
       " [0, 0, 0, 0, 0, 0],\n",
       " [2, 2, 0, 1, 1, 1],\n",
       " ['g', 'g', 'flat_top', 'flat_top', 'flat_top', 'flat_top'],\n",
       " [0.035, 0.035, 0.005, 0.005, 0.005, 0.005]]"
      ]
     },
     "execution_count": 36,
     "metadata": {},
     "output_type": "execute_result"
    }
   ],
   "source": [
    "from MM_base import MM_base\n",
    "stor_no=[1,2]\n",
    "man_idx=1\n",
    "mm_base = MM_base(cfg = yaml_cfg)\n",
    "pre_sweep_pulse_str = [['qubit', 'ge', 'pi',0],\n",
    "                    ['qubit', 'ef', 'pi',0],\n",
    "                    ['man', 'M' + str(man_idx) , 'pi',0],\n",
    "                    ['storage', 'M'+ str(man_idx) + '-S' + str(stor_no[0]), 'hpi',0], \n",
    "                    ['storage', 'M'+ str(man_idx) + '-S' + str(stor_no[1]), 'hpi',0],\n",
    "                    ['storage', 'M'+ str(man_idx) + '-S' + str(stor_no[1]), 'hpi',0]]\n",
    "\n",
    "creator = mm_base.get_prepulse_creator(pre_sweep_pulse_str)\n",
    "a1 = creator.pulse.tolist()\n",
    "a1\n"
   ]
  },
  {
   "cell_type": "code",
   "execution_count": 43,
   "metadata": {},
   "outputs": [
    {
     "data": {
      "text/plain": [
       "[[3568.1751638611518,\n",
       "  3425.5564066067,\n",
       "  2007.06,\n",
       "  349.415,\n",
       "  520.925,\n",
       "  520.925,\n",
       "  3568.1751638611518,\n",
       "  3425.5564066067,\n",
       "  2007.06,\n",
       "  696.665,\n",
       "  875.845,\n",
       "  875.845],\n",
       " [10716, 8236, 15000, 3000, 5000, 5000, 10716, 8236, 15000, 9000, 9000, 9000],\n",
       " [0,\n",
       "  0,\n",
       "  0.651287,\n",
       "  0.4885714285714285,\n",
       "  0.565451994946885,\n",
       "  0.565451994946885,\n",
       "  0,\n",
       "  0,\n",
       "  0.651287,\n",
       "  0.666955,\n",
       "  0.6271437312608766,\n",
       "  0.6271437312608766],\n",
       " [0, 0, 0, 0, 0, 0, 0, 0, 0, 0, 0, 0],\n",
       " [2, 2, 0, 1, 1, 1, 2, 2, 0, 1, 1, 1],\n",
       " ['g',\n",
       "  'g',\n",
       "  'flat_top',\n",
       "  'flat_top',\n",
       "  'flat_top',\n",
       "  'flat_top',\n",
       "  'g',\n",
       "  'g',\n",
       "  'flat_top',\n",
       "  'flat_top',\n",
       "  'flat_top',\n",
       "  'flat_top'],\n",
       " [0.035,\n",
       "  0.035,\n",
       "  0.005,\n",
       "  0.005,\n",
       "  0.005,\n",
       "  0.005,\n",
       "  0.035,\n",
       "  0.035,\n",
       "  0.005,\n",
       "  0.005,\n",
       "  0.005,\n",
       "  0.005]]"
      ]
     },
     "execution_count": 43,
     "metadata": {},
     "output_type": "execute_result"
    }
   ],
   "source": [
    "from MM_base import MM_base\n",
    "stor_no=[[1,2],[3,4]]\n",
    "man_idx=1\n",
    "mm_base = MM_base(cfg = yaml_cfg)\n",
    "pre_sweep_pulse_str = [['qubit', 'ge', 'pi',0],\n",
    "                    ['qubit', 'ef', 'pi',0],\n",
    "                    ['man', 'M' + str(man_idx) , 'pi',0],\n",
    "                    ['storage', 'M'+ str(man_idx) + '-S' + str(stor_no[0][0]), 'hpi',0], \n",
    "                    ['storage', 'M'+ str(man_idx) + '-S' + str(stor_no[0][1]), 'hpi',0],\n",
    "                    ['storage', 'M'+ str(man_idx) + '-S' + str(stor_no[0][1]), 'hpi',0],\n",
    "                    ['qubit', 'ge', 'pi',0],\n",
    "                    ['qubit', 'ef', 'pi',0],\n",
    "                    ['man', 'M' + str(man_idx) , 'pi',0],\n",
    "                    ['storage', 'M'+ str(man_idx) + '-S' + str(stor_no[1][0]), 'hpi',0], \n",
    "                    ['storage', 'M'+ str(man_idx) + '-S' + str(stor_no[1][1]), 'hpi',0], \n",
    "                    ['storage', 'M'+ str(man_idx) + '-S' + str(stor_no[1][1]), 'hpi',0]]\n",
    "\n",
    "creator = mm_base.get_prepulse_creator(pre_sweep_pulse_str)\n",
    "a1 = creator.pulse.tolist()\n",
    "a1"
   ]
  },
  {
   "cell_type": "code",
   "execution_count": 29,
   "metadata": {},
   "outputs": [],
   "source": [
    "stor_no=[3,4]\n",
    "man_idx=1\n",
    "post_selection_pulse_str = [['storage', 'M'+ str(man_idx) + '-S' + str(stor_no[0]), 'hpi',0], \n",
    "                    ['storage', 'M'+ str(man_idx) + '-S' + str(stor_no[0]), 'hpi',0],\n",
    "                ['qubit', 'ge', 'hpi',0], # Starting parity meas\n",
    "                ['qubit', 'ge', 'parity_M' + str(man_idx),0], \n",
    "                ['qubit', 'ge', 'hpi',0]]# measure]\n",
    "creator = mm_base.get_prepulse_creator(post_selection_pulse_str)\n",
    "I_gate1 = creator.pulse.tolist()\n",
    "post_selection_pulse_str = [\n",
    "                ['storage', 'M'+ str(man_idx) + '-S' + str(stor_no[1]), 'hpi',0], \n",
    "                    ['storage', 'M'+ str(man_idx) + '-S' + str(stor_no[1]), 'hpi',0],\n",
    "                ['qubit', 'ge', 'hpi',0], # Starting parity meas\n",
    "                ['qubit', 'ge', 'parity_M' + str(man_idx),0], \n",
    "                ['qubit', 'ge', 'hpi',0]]# measure]\n",
    "creator = mm_base.get_prepulse_creator(post_selection_pulse_str)\n",
    "I_gate2 = creator.pulse.tolist()\n",
    "\n",
    "\n",
    "I_gate = [I_gate1, I_gate2]\n",
    "\n",
    "post_selection_pulse_str = [['storage', 'M'+ str(man_idx) + '-S' + str(stor_no[0]), 'hpi',0], \n",
    "                    ['storage', 'M'+ str(man_idx) + '-S' + str(stor_no[0]), 'hpi',0],\n",
    "                ['storage', 'M'+ str(man_idx) + '-S' + str(stor_no[1]), 'hpi',0], \n",
    "                ['qubit', 'ge', 'hpi',0], # Starting parity meas\n",
    "                ['qubit', 'ge', 'parity_M' + str(man_idx),0], \n",
    "                ['qubit', 'ge', 'hpi',0]]\n",
    "creator = mm_base.get_prepulse_creator(post_selection_pulse_str)\n",
    "X_gate1 = creator.pulse.tolist()\n",
    "post_selection_pulse_str = [['storage', 'M'+ str(man_idx) + '-S' + str(stor_no[1]), 'hpi',0], \n",
    "                    ['storage', 'M'+ str(man_idx) + '-S' + str(stor_no[1]), 'hpi',0],\n",
    "                ['qubit', 'ge', 'hpi',0], # Starting parity meas\n",
    "                ['qubit', 'ge', 'parity_M' + str(man_idx),0], \n",
    "                ['qubit', 'ge', 'hpi',0]]\n",
    "creator = mm_base.get_prepulse_creator(post_selection_pulse_str)\n",
    "X_gate2 = creator.pulse.tolist()\n",
    "\n",
    "X_gate = [X_gate1, X_gate2]\n",
    "\n",
    "post_selection_pulse_str = [['storage', 'M'+ str(man_idx) + '-S' + str(stor_no[0]), 'hpi',0], \n",
    "                    ['storage', 'M'+ str(man_idx) + '-S' + str(stor_no[0]), 'hpi',0],\n",
    "                ['storage', 'M'+ str(man_idx) + '-S' + str(stor_no[1]), 'hpi',90], \n",
    "                ['qubit', 'ge', 'hpi',0], # Starting parity meas\n",
    "                ['qubit', 'ge', 'parity_M' + str(man_idx),0], \n",
    "                ['qubit', 'ge', 'hpi',0]]\n",
    "creator = mm_base.get_prepulse_creator(post_selection_pulse_str)\n",
    "Y_gate1 = creator.pulse.tolist()\n",
    "post_selection_pulse_str = [['storage', 'M'+ str(man_idx) + '-S' + str(stor_no[1]), 'hpi',0], \n",
    "                    ['storage', 'M'+ str(man_idx) + '-S' + str(stor_no[1]), 'hpi',0],\n",
    "                ['qubit', 'ge', 'hpi',0], # Starting parity meas\n",
    "                ['qubit', 'ge', 'parity_M' + str(man_idx),0], \n",
    "                ['qubit', 'ge', 'hpi',0]]\n",
    "creator = mm_base.get_prepulse_creator(post_selection_pulse_str)\n",
    "Y_gate2 = creator.pulse.tolist()\n",
    "\n",
    "Y_gate = [Y_gate1, Y_gate2]"
   ]
  },
  {
   "cell_type": "markdown",
   "metadata": {},
   "source": [
    "# Prepulse and Postpulse generator"
   ]
  },
  {
   "cell_type": "code",
   "execution_count": 21,
   "metadata": {},
   "outputs": [],
   "source": [
    "freq = 1423.04\n",
    "pi_length =0.8425040638970613*2\n",
    "pi2_length = 0.8425040638970613\n",
    "gain = 13500\n",
    "\n",
    "dataset.update_all('M1-S7', freq, 0.01, pi_length, pi2_length, gain)"
   ]
  },
  {
   "cell_type": "markdown",
   "metadata": {},
   "source": [
    "## Dataset"
   ]
  },
  {
   "cell_type": "code",
   "execution_count": 14,
   "metadata": {},
   "outputs": [],
   "source": [
    "from dataset import * \n",
    "from dataset import storage_man_swap_dataset"
   ]
  },
  {
   "cell_type": "code",
   "execution_count": 15,
   "metadata": {},
   "outputs": [
    {
     "data": {
      "text/html": [
       "<div>\n",
       "<style scoped>\n",
       "    .dataframe tbody tr th:only-of-type {\n",
       "        vertical-align: middle;\n",
       "    }\n",
       "\n",
       "    .dataframe tbody tr th {\n",
       "        vertical-align: top;\n",
       "    }\n",
       "\n",
       "    .dataframe thead th {\n",
       "        text-align: right;\n",
       "    }\n",
       "</style>\n",
       "<table border=\"1\" class=\"dataframe\">\n",
       "  <thead>\n",
       "    <tr style=\"text-align: right;\">\n",
       "      <th></th>\n",
       "      <th>stor_name</th>\n",
       "      <th>freq (MHz)</th>\n",
       "      <th>precision (MHz)</th>\n",
       "      <th>pi (mus)</th>\n",
       "      <th>h_pi (mus)</th>\n",
       "      <th>gain (DAC units)</th>\n",
       "      <th>last_update</th>\n",
       "    </tr>\n",
       "  </thead>\n",
       "  <tbody>\n",
       "    <tr>\n",
       "      <th>0</th>\n",
       "      <td>M1-S1</td>\n",
       "      <td>349.415</td>\n",
       "      <td>0.01</td>\n",
       "      <td>0.977143</td>\n",
       "      <td>0.488571</td>\n",
       "      <td>3000</td>\n",
       "      <td>2024-10-26 17:42:46.915401</td>\n",
       "    </tr>\n",
       "    <tr>\n",
       "      <th>1</th>\n",
       "      <td>M1-S2</td>\n",
       "      <td>520.925</td>\n",
       "      <td>0.01</td>\n",
       "      <td>1.130904</td>\n",
       "      <td>0.565452</td>\n",
       "      <td>5000</td>\n",
       "      <td>2024-10-26 17:43:09.376354</td>\n",
       "    </tr>\n",
       "    <tr>\n",
       "      <th>2</th>\n",
       "      <td>M1-S3</td>\n",
       "      <td>696.665</td>\n",
       "      <td>0.01</td>\n",
       "      <td>1.333910</td>\n",
       "      <td>0.666955</td>\n",
       "      <td>9000</td>\n",
       "      <td>2024-10-26 17:43:34.019332</td>\n",
       "    </tr>\n",
       "    <tr>\n",
       "      <th>3</th>\n",
       "      <td>M1-S4</td>\n",
       "      <td>875.845</td>\n",
       "      <td>0.01</td>\n",
       "      <td>1.254287</td>\n",
       "      <td>0.627144</td>\n",
       "      <td>9000</td>\n",
       "      <td>2024-10-26 17:43:51.867832</td>\n",
       "    </tr>\n",
       "    <tr>\n",
       "      <th>4</th>\n",
       "      <td>M1-S5</td>\n",
       "      <td>1053.395</td>\n",
       "      <td>0.01</td>\n",
       "      <td>1.973198</td>\n",
       "      <td>0.986599</td>\n",
       "      <td>7500</td>\n",
       "      <td>2024-10-26 17:44:14.975970</td>\n",
       "    </tr>\n",
       "    <tr>\n",
       "      <th>5</th>\n",
       "      <td>M1-S6</td>\n",
       "      <td>1245.160</td>\n",
       "      <td>0.01</td>\n",
       "      <td>1.595310</td>\n",
       "      <td>0.797655</td>\n",
       "      <td>13500</td>\n",
       "      <td>2024-10-26 17:44:34.143253</td>\n",
       "    </tr>\n",
       "    <tr>\n",
       "      <th>6</th>\n",
       "      <td>M1-S7</td>\n",
       "      <td>1423.040</td>\n",
       "      <td>0.01</td>\n",
       "      <td>1.685008</td>\n",
       "      <td>0.842504</td>\n",
       "      <td>13500</td>\n",
       "      <td>2024-10-26 17:44:51.587301</td>\n",
       "    </tr>\n",
       "    <tr>\n",
       "      <th>7</th>\n",
       "      <td>M1-S8</td>\n",
       "      <td>-1.000</td>\n",
       "      <td>-1.00</td>\n",
       "      <td>-1.000000</td>\n",
       "      <td>-1.000000</td>\n",
       "      <td>-1</td>\n",
       "      <td>51:31.3</td>\n",
       "    </tr>\n",
       "    <tr>\n",
       "      <th>8</th>\n",
       "      <td>M1-S9</td>\n",
       "      <td>-1.000</td>\n",
       "      <td>-1.00</td>\n",
       "      <td>-1.000000</td>\n",
       "      <td>-1.000000</td>\n",
       "      <td>-1</td>\n",
       "      <td>51:31.3</td>\n",
       "    </tr>\n",
       "    <tr>\n",
       "      <th>9</th>\n",
       "      <td>M1-S10</td>\n",
       "      <td>-1.000</td>\n",
       "      <td>-1.00</td>\n",
       "      <td>-1.000000</td>\n",
       "      <td>-1.000000</td>\n",
       "      <td>-1</td>\n",
       "      <td>51:31.3</td>\n",
       "    </tr>\n",
       "    <tr>\n",
       "      <th>10</th>\n",
       "      <td>M1-S11</td>\n",
       "      <td>-1.000</td>\n",
       "      <td>-1.00</td>\n",
       "      <td>-1.000000</td>\n",
       "      <td>-1.000000</td>\n",
       "      <td>-1</td>\n",
       "      <td>51:31.3</td>\n",
       "    </tr>\n",
       "    <tr>\n",
       "      <th>11</th>\n",
       "      <td>M1-S12</td>\n",
       "      <td>-1.000</td>\n",
       "      <td>-1.00</td>\n",
       "      <td>-1.000000</td>\n",
       "      <td>-1.000000</td>\n",
       "      <td>-1</td>\n",
       "      <td>51:31.3</td>\n",
       "    </tr>\n",
       "    <tr>\n",
       "      <th>12</th>\n",
       "      <td>M1</td>\n",
       "      <td>2007.060</td>\n",
       "      <td>0.02</td>\n",
       "      <td>0.651287</td>\n",
       "      <td>0.325643</td>\n",
       "      <td>15000</td>\n",
       "      <td>2024-10-24 11:12:24.060663</td>\n",
       "    </tr>\n",
       "    <tr>\n",
       "      <th>13</th>\n",
       "      <td>M2</td>\n",
       "      <td>1834.895</td>\n",
       "      <td>0.01</td>\n",
       "      <td>1.060413</td>\n",
       "      <td>0.528845</td>\n",
       "      <td>15000</td>\n",
       "      <td>2024-10-09 23:31:32.434744</td>\n",
       "    </tr>\n",
       "    <tr>\n",
       "      <th>14</th>\n",
       "      <td>M2-S1</td>\n",
       "      <td>175.630</td>\n",
       "      <td>0.01</td>\n",
       "      <td>2.173484</td>\n",
       "      <td>1.086742</td>\n",
       "      <td>1000</td>\n",
       "      <td>28:20.8</td>\n",
       "    </tr>\n",
       "    <tr>\n",
       "      <th>15</th>\n",
       "      <td>M2-S2</td>\n",
       "      <td>346.840</td>\n",
       "      <td>0.01</td>\n",
       "      <td>0.908835</td>\n",
       "      <td>0.454417</td>\n",
       "      <td>5000</td>\n",
       "      <td>33:56.1</td>\n",
       "    </tr>\n",
       "    <tr>\n",
       "      <th>16</th>\n",
       "      <td>M2-S3</td>\n",
       "      <td>523.220</td>\n",
       "      <td>0.01</td>\n",
       "      <td>1.561615</td>\n",
       "      <td>0.780808</td>\n",
       "      <td>5000</td>\n",
       "      <td>22:30.3</td>\n",
       "    </tr>\n",
       "    <tr>\n",
       "      <th>17</th>\n",
       "      <td>M2-S4</td>\n",
       "      <td>702.650</td>\n",
       "      <td>0.01</td>\n",
       "      <td>1.386764</td>\n",
       "      <td>0.693382</td>\n",
       "      <td>9000</td>\n",
       "      <td>25:33.1</td>\n",
       "    </tr>\n",
       "    <tr>\n",
       "      <th>18</th>\n",
       "      <td>M2-S5</td>\n",
       "      <td>878.780</td>\n",
       "      <td>0.01</td>\n",
       "      <td>1.303372</td>\n",
       "      <td>0.651686</td>\n",
       "      <td>13500</td>\n",
       "      <td>00:05.4</td>\n",
       "    </tr>\n",
       "    <tr>\n",
       "      <th>19</th>\n",
       "      <td>M2-S6</td>\n",
       "      <td>1070.100</td>\n",
       "      <td>0.01</td>\n",
       "      <td>2.379622</td>\n",
       "      <td>1.189811</td>\n",
       "      <td>9000</td>\n",
       "      <td>30:59.0</td>\n",
       "    </tr>\n",
       "    <tr>\n",
       "      <th>20</th>\n",
       "      <td>M2-S7</td>\n",
       "      <td>1249.700</td>\n",
       "      <td>0.01</td>\n",
       "      <td>1.796981</td>\n",
       "      <td>0.898491</td>\n",
       "      <td>12000</td>\n",
       "      <td>56:07.5</td>\n",
       "    </tr>\n",
       "    <tr>\n",
       "      <th>21</th>\n",
       "      <td>M2-M1</td>\n",
       "      <td>173.790</td>\n",
       "      <td>0.01</td>\n",
       "      <td>0.463481</td>\n",
       "      <td>0.231741</td>\n",
       "      <td>2000</td>\n",
       "      <td>2024-10-06 01:47:25.946153</td>\n",
       "    </tr>\n",
       "  </tbody>\n",
       "</table>\n",
       "</div>"
      ],
      "text/plain": [
       "   stor_name  freq (MHz)  precision (MHz)  pi (mus)  h_pi (mus)  \\\n",
       "0      M1-S1     349.415             0.01  0.977143    0.488571   \n",
       "1      M1-S2     520.925             0.01  1.130904    0.565452   \n",
       "2      M1-S3     696.665             0.01  1.333910    0.666955   \n",
       "3      M1-S4     875.845             0.01  1.254287    0.627144   \n",
       "4      M1-S5    1053.395             0.01  1.973198    0.986599   \n",
       "5      M1-S6    1245.160             0.01  1.595310    0.797655   \n",
       "6      M1-S7    1423.040             0.01  1.685008    0.842504   \n",
       "7      M1-S8      -1.000            -1.00 -1.000000   -1.000000   \n",
       "8      M1-S9      -1.000            -1.00 -1.000000   -1.000000   \n",
       "9     M1-S10      -1.000            -1.00 -1.000000   -1.000000   \n",
       "10    M1-S11      -1.000            -1.00 -1.000000   -1.000000   \n",
       "11    M1-S12      -1.000            -1.00 -1.000000   -1.000000   \n",
       "12        M1    2007.060             0.02  0.651287    0.325643   \n",
       "13        M2    1834.895             0.01  1.060413    0.528845   \n",
       "14     M2-S1     175.630             0.01  2.173484    1.086742   \n",
       "15     M2-S2     346.840             0.01  0.908835    0.454417   \n",
       "16     M2-S3     523.220             0.01  1.561615    0.780808   \n",
       "17     M2-S4     702.650             0.01  1.386764    0.693382   \n",
       "18     M2-S5     878.780             0.01  1.303372    0.651686   \n",
       "19     M2-S6    1070.100             0.01  2.379622    1.189811   \n",
       "20     M2-S7    1249.700             0.01  1.796981    0.898491   \n",
       "21     M2-M1     173.790             0.01  0.463481    0.231741   \n",
       "\n",
       "    gain (DAC units)                 last_update  \n",
       "0               3000  2024-10-26 17:42:46.915401  \n",
       "1               5000  2024-10-26 17:43:09.376354  \n",
       "2               9000  2024-10-26 17:43:34.019332  \n",
       "3               9000  2024-10-26 17:43:51.867832  \n",
       "4               7500  2024-10-26 17:44:14.975970  \n",
       "5              13500  2024-10-26 17:44:34.143253  \n",
       "6              13500  2024-10-26 17:44:51.587301  \n",
       "7                 -1                     51:31.3  \n",
       "8                 -1                     51:31.3  \n",
       "9                 -1                     51:31.3  \n",
       "10                -1                     51:31.3  \n",
       "11                -1                     51:31.3  \n",
       "12             15000  2024-10-24 11:12:24.060663  \n",
       "13             15000  2024-10-09 23:31:32.434744  \n",
       "14              1000                     28:20.8  \n",
       "15              5000                     33:56.1  \n",
       "16              5000                     22:30.3  \n",
       "17              9000                     25:33.1  \n",
       "18             13500                     00:05.4  \n",
       "19              9000                     30:59.0  \n",
       "20             12000                     56:07.5  \n",
       "21              2000  2024-10-06 01:47:25.946153  "
      ]
     },
     "execution_count": 15,
     "metadata": {},
     "output_type": "execute_result"
    }
   ],
   "source": [
    "dataset = storage_man_swap_dataset('man1_storage_swap_dataset.csv')\n",
    "dataset.df"
   ]
  },
  {
   "cell_type": "code",
   "execution_count": null,
   "metadata": {},
   "outputs": [],
   "source": [
    "list(dataset.df['gain (DAC units)'][2:7])"
   ]
  },
  {
   "cell_type": "markdown",
   "metadata": {},
   "source": [
    "## Old Prepulse creator"
   ]
  },
  {
   "cell_type": "code",
   "execution_count": 135,
   "metadata": {},
   "outputs": [],
   "source": [
    "class prepulse_creator: \n",
    "    def __init__(self, config_file, storage_man_file):\n",
    "        '''\n",
    "        Creates pulses of the form \n",
    "        # [[frequency], [gain], [length (us)], [phases], [drive channel], [shape], [ramp sigma]], drive channel=1 (flux low), 2 (qubit),3 (flux high),6 (storage),5 (f0g1),4 (manipulate),           \n",
    "        '''\n",
    "        # config \n",
    "        with open(config_file, 'r') as cfg_file:\n",
    "            yaml_cfg = yaml.safe_load(cfg_file)\n",
    "        self.cfg = AttrDict(yaml_cfg)\n",
    "\n",
    "        # man storage swap data \n",
    "        self.dataset = storage_man_swap_dataset(storage_man_file)\n",
    "        \n",
    "        # initialize pulse \n",
    "        self.pulse = np.array([[],[],[],[],[],[],[]], dtype = object)\n",
    "    \n",
    "    def append(self, pulse):\n",
    "        self.pulse = np.concatenate((self.pulse, pulse), axis=1)\n",
    "        return None\n",
    "        \n",
    "    def qubit(self, pulse_name,ge_bool):\n",
    "        ''' pulse name comes from yaml file '''\n",
    "        # frequency \n",
    "        if ge_bool: \n",
    "            freq = self.cfg.device.qubit.f_ge[0]\n",
    "        else: \n",
    "            freq = self.cfg.device.qubit.f_ef[0]\n",
    "        \n",
    "        # length and sigma \n",
    "        # pulse_type = self.cfg.device.qubit.pulses[pulse_name]['type']\n",
    "        # if pulse is 'gauss': \n",
    "        #     length = 0\n",
    "        #     ramp_sigma = self.cfg.device.qubit.pulses[pulse_name]['sigma']\n",
    "        qubit_pulse = np.array([[freq], \n",
    "                [self.cfg.device.qubit.pulses[pulse_name]['gain'][0]],\n",
    "                [0],\n",
    "                [0],\n",
    "                [2],\n",
    "                ['gaussian'],\n",
    "                [self.cfg.device.qubit.pulses[pulse_name]['sigma'][0]]], dtype = object)\n",
    "        self.pulse = np.concatenate((self.pulse, qubit_pulse), axis=1)\n",
    "        return None\n",
    "    \n",
    "    def man(self, cav_name, pulse_name, buffer = False):\n",
    "        '''name can be pi or hpi'''\n",
    "\n",
    "        if pulse_name == 'pi': \n",
    "            length = self.dataset.get_pi(cav_name)\n",
    "        else:\n",
    "            length = self.dataset.get_h_pi(cav_name)\n",
    "        \n",
    "        f0g1  = np.array([[self.dataset.get_freq(cav_name)],\n",
    "                [ self.dataset.get_gain(cav_name)],\n",
    "                [length],\n",
    "                [0],\n",
    "                [5], # f0g1 pulse \n",
    "                ['flat_top'],\n",
    "                [0.005]], dtype = object)\n",
    "        \n",
    "        self.pulse = np.concatenate((self.pulse, f0g1), axis=1)\n",
    "        return None\n",
    "    # def buffer(self): \n",
    "    #     buffer = np.array([[0],\n",
    "    #             [0],\n",
    "    #             [0.01],\n",
    "    #             [0],\n",
    "    #             [5],\n",
    "    #             ['flat_top'],\n",
    "    #             [0.005]], dtype = object)\n",
    "    #     self.pulse = np.concatenate((self.pulse, buffer), axis=1)\n",
    "    #     return None\n",
    "\n",
    "    def storage(self, stor_name, pulse_name):\n",
    "        '''\n",
    "        plays sideband pulse on storage via coupler rf flux\n",
    "        name can be pi or hpi'''\n",
    "\n",
    "        if pulse_name == 'pi': \n",
    "            length = self.dataset.get_pi(stor_name)\n",
    "        else:\n",
    "            length = self.dataset.get_h_pi(stor_name)\n",
    "        freq = self.dataset.get_freq(stor_name)\n",
    "        if freq<1000: \n",
    "            ch = 1\n",
    "        else:\n",
    "            ch = 3\n",
    "        \n",
    "        storage_pulse = np.array([[self.dataset.get_freq(stor_name)],\n",
    "                [ self.dataset.get_gain(stor_name)],\n",
    "                [length],\n",
    "                [0],\n",
    "                [ch],\n",
    "                ['flat_top'],\n",
    "                [0.005]], dtype = object)\n",
    "        \n",
    "        self.pulse = np.concatenate((self.pulse, storage_pulse), axis=1)\n",
    "        return None\n",
    "        \n",
    "                \n",
    "    "
   ]
  },
  {
   "cell_type": "code",
   "execution_count": null,
   "metadata": {},
   "outputs": [],
   "source": [
    "creator = prepulse_creator(config_file, 'man1_storage_swap_dataset.csv')\n",
    "modes = ['M1-S2', 'M1-S3', 'M1-S4', 'M1-S5', 'M1-S6', 'M1-S7']\n",
    "# for mode in modes: \n",
    "#     creator.append(np.array([[4984.026194477733],\n",
    "#                 [3750],\n",
    "#                 [0],\n",
    "#                 [0],\n",
    "#                 [4],\n",
    "#                 ['gaussian'],\n",
    "#                 [0.1]], dtype = object))\n",
    "#     creator.storage(mode, 'pi')\n",
    "# creator.append(np.array([[4984.026194477733],\n",
    "#                 [3750],\n",
    "#                 [0],\n",
    "#                 [0],\n",
    "#                 [4],\n",
    "#                 ['gaussian'],\n",
    "#                 [0.1]], dtype = object))\n",
    "# creator.storage('M1-S3', 'pi')\n",
    "# creator.qubit('pi_ge', ge_bool = True)\n",
    "# creator.qubit('pi_ef', ge_bool = False)\n",
    "# # creator.buffer()\n",
    "# creator.man('M1', 'pi', buffer = True)\n",
    "# creator.qubit('pi_ef', ge_bool = False)\n",
    "# creator.storage('M1-S1', 'pi')\n",
    "# creator.storage('M1-S3', 'pi')\n",
    "creator.storage('M1-S5', 'pi')\n",
    "# creator.qubit('pi_ge', ge_bool = True)\n",
    "# creator.qubit('pi_ef', ge_bool = False)\n",
    "# creator.man('M2', 'pi')\n",
    "# creator.pulse\n",
    "# creator.append(np.array([[4984.026194477733],\n",
    "#         [3750],\n",
    "#         [0],\n",
    "#         [0],\n",
    "#         [4],\n",
    "#         ['gaussian'],\n",
    "#         [0.1]], dtype = object))\n",
    "# creator.append(np.array([[3568.1904347121535, 3425.5537944060666, 2006.72, 2313.3, 100],\n",
    "#        [9653, 7575, 15000, 5000, 0],\n",
    "#        [0, 0, 0.6168960348389007, 10, 5],\n",
    "#        [0, 0, 0, 0, 0],\n",
    "#        [2, 2, 5, 3, 3],\n",
    "#        ['gaussian', 'gaussian', 'flat_top', 'flat_top', 'flat_top'],\n",
    "#        [0.035, 0.035, 0.005, 0.005, 0.005]], dtype = object))'\"LO id is 10003495.txt\"\n",
    "# creator.append(np.array([[3567.900564],\n",
    "#         [9653],\n",
    "#         [0],\n",
    "#         [0],\n",
    "#         [2],\n",
    "#         ['gaussian'],\n",
    "#         [0.035]], dtype = object))\n",
    "creator.pulse\n"
   ]
  },
  {
   "cell_type": "code",
   "execution_count": null,
   "metadata": {},
   "outputs": [],
   "source": [
    "creator = prepulse_creator(config_file, 'man1_storage_swap_dataset.csv')\n",
    "#creator.pulse = np.array([[],[],[],[],[],[],[]], dtype = object)\n",
    "# creator.qubit('pi_ge', ge_bool = True)\n",
    "# creator.qubit('pi_ef', ge_bool = False)\n",
    "# # creator.buffer()\n",
    "creator.storage('M1-S1', 'pi')\n",
    "creator.man('M1', 'pi')\n",
    "creator.pulse"
   ]
  },
  {
   "cell_type": "markdown",
   "metadata": {},
   "source": [
    "## New Creator"
   ]
  },
  {
   "cell_type": "code",
   "execution_count": 24,
   "metadata": {},
   "outputs": [
    {
     "data": {
      "text/plain": [
       "array([[3568.1751638611518, 3425.5564066067, 2007.06, 349.415],\n",
       "       [10716, 8236, 15000, 3000],\n",
       "       [0, 0, 0.651287, 0.9771428571428572],\n",
       "       [0, 0, 0, 0],\n",
       "       [2, 2, 0, 1],\n",
       "       ['g', 'g', 'flat_top', 'flat_top'],\n",
       "       [0.035, 0.035, 0.005, 0.005]], dtype=object)"
      ]
     },
     "execution_count": 24,
     "metadata": {},
     "output_type": "execute_result"
    }
   ],
   "source": [
    "from multimode_expts.MM_base import *\n",
    "mm_base = MM_base(cfg = yaml_cfg)\n",
    "\n",
    "man_idx = 1\n",
    "stor_id = [1,2]\n",
    "parity_str = [['qubit', 'ge', 'hpi', 0 ], # Starting parity meas\n",
    "                ['qubit', 'ge', 'parity_M' + str(man_idx), 0 ], \n",
    "                ['qubit', 'ge', 'hpi', 0 ], \n",
    "                ]\n",
    "\n",
    "# parity_str_multiple\n",
    "\n",
    "prep_f0g1_str = [\n",
    "                ['qubit', 'ge', 'pi', 0],\n",
    "                ['qubit', 'ef', 'pi', 0],\n",
    "                ['man', 'M1', 'pi', 0], \n",
    "                ['storage', 'M' + str(man_idx) + '-S' + str(stor_id[0]), 'pi', 0]\n",
    "            ]\n",
    "\n",
    "    \n",
    "creator = mm_base.get_prepulse_creator(prep_f0g1_str)\n",
    "creator.pulse\n",
    "# pulse_str"
   ]
  },
  {
   "cell_type": "code",
   "execution_count": null,
   "metadata": {},
   "outputs": [],
   "source": [
    "# for the cross storage phase correction \n",
    "spectator_mode_no = 2\n",
    "target_mode_no = 1\n",
    "man_no = 1\n",
    "\n",
    "cfg = yaml_cfg\n",
    "\n",
    "omega_target = cfg.device.storage.idling_freq[target_mode_no -1]\n",
    "omega_f0g1 = cfg.device.manipulate.idling_freq[man_no - 1]\n",
    "phi_target = cfg.device.storage.idling_phase[target_mode_no -1][target_mode_no -1]\n",
    "phi_f0g1 = cfg.device.manipulate.idling_phase[man_no - 1][man_no - 1]\n",
    "\n",
    "mm_base = MM_base(cfg = yaml_cfg)\n",
    "\n",
    "# create prepulse \n",
    "prepulse_str = [['qubit', 'ge', 'hpi',0]]\n",
    "stor_input = mm_base.compound_storage_gate(input = True, storage_no = target_mode_no)\n",
    "\n",
    "# spector pulse \n",
    "spectator_pulse_str = [['storage', 'M' + str(man_no) + '-S' + str(spectator_mode_no), 'pi', 0]]\n",
    "\n",
    "# idling_times \n",
    "spec_idling_time = mm_base.get_total_time(spectator_pulse_str, gate_based = True)\n",
    "targ_idling_time = mm_base.get_total_time([['storage', 'M' + str(man_no) + '-S' + str(target_mode_no), 'pi', 0]], gate_based = True)\n",
    "\n",
    "stor_output_str = mm_base.compound_storage_gate(input = False, storage_no = target_mode_no)\n",
    "ge_virtual_phase = omega_target * spec_idling_time + omega_f0g1 * targ_idling_time + phi_target + phi_f0g1\n",
    "post_pulse_str = [['qubit', 'ge', 'hpi', ge_virtual_phase]]\n",
    "\n",
    "# Concatenate all lists along axis 0\n",
    "concatenated_list = prepulse_str + stor_input + spectator_pulse_str + stor_output_str + post_pulse_str\n",
    "\n",
    "# Print the concatenated list\n",
    "concatenated_list\n"
   ]
  },
  {
   "cell_type": "code",
   "execution_count": null,
   "metadata": {},
   "outputs": [],
   "source": [
    "concatenated_list = [concatenated_list[-1]]"
   ]
  },
  {
   "cell_type": "markdown",
   "metadata": {},
   "source": [
    "## Example"
   ]
  },
  {
   "cell_type": "code",
   "execution_count": null,
   "metadata": {},
   "outputs": [],
   "source": [
    "# import sequential_experiment as seq_exp\n",
    "# experiment_name = 'length_rabi_sweep'\n",
    "\n",
    "# eval('seq_exp.' + experiment_name)(soccfg=soc, path=expt_path, prefix=experiment_name, config_file=config_path, exp_param_file=exp_param_file)"
   ]
  },
  {
   "cell_type": "code",
   "execution_count": null,
   "metadata": {},
   "outputs": [],
   "source": [
    "from scipy.special import erf"
   ]
  },
  {
   "cell_type": "code",
   "execution_count": null,
   "metadata": {},
   "outputs": [],
   "source": [
    "from experiments.single_qubit.length_rabi_general import LengthRabiGeneralExperiment\n",
    "\n",
    "cfg_expt = {'start': 0.0069754464285714285, # us\n",
    "            'step': 0.007, # us\n",
    "            'qubits': [0],\n",
    "            'expts': 1,\n",
    "            'reps': 100,\n",
    "            'rounds': 1,\n",
    "            'gain': 0 ,# qubit gain [DAC units],\n",
    "            'ramp_sigma': 0.005 , # us\n",
    "            'freq': 3566.383307324457,   #2010.5265269004717,   # MHz\n",
    "            'pi_ge_before': False,\n",
    "            'pi_ef_before': False,\n",
    "            'pi_ge_after': False,\n",
    "            'pre_pulse': False}\n",
    "\n",
    "# g state \n",
    "lrabi = LengthRabiGeneralExperiment(\n",
    "    soccfg=soc,\n",
    "    path=expt_path,\n",
    "    config_file=config_path,\n",
    ")\n",
    "lrabi.cfg.expt = cfg_expt\n",
    "\n",
    "#g_data = lrabi.acquire()\n",
    "lrabi.go(analyze=False, display=False, progress=False, save=False)"
   ]
  },
  {
   "cell_type": "markdown",
   "metadata": {},
   "source": [
    "# Extrapolate f0g1 sideband"
   ]
  },
  {
   "cell_type": "code",
   "execution_count": null,
   "metadata": {},
   "outputs": [],
   "source": [
    "import numpy as np\n",
    "import matplotlib.pyplot as plt\n",
    "from scipy.interpolate import UnivariateSpline\n",
    "\n",
    "# Sample data\n",
    "x_data = np.asarray([0.593264249,0.64507772,\t0.670984456\t,0.72279792,\t0.800518135,\t0.878238342])\n",
    "y_data = np.array([2012.15, 2010.2,\t2008.9,\t2005.2,\t\t1995.55,\t\t1976.5\n",
    "])\n",
    "\n",
    "# Sort the data\n",
    "sorted_indices = np.argsort(x_data)\n",
    "x_data = x_data[sorted_indices]\n",
    "y_data = y_data[sorted_indices]\n",
    "\n",
    "# Fit a spline to the data\n",
    "spline = UnivariateSpline(x_data, y_data)\n",
    "\n",
    "# Evaluate the spline at a range of x values\n",
    "x_fit = np.linspace(x_data.min(), x_data.max(), 1000)\n",
    "y_fit = spline(x_fit)\n",
    "\n",
    "# Plot the original data and the fitted spline\n",
    "plt.figure(figsize=(10, 6))\n",
    "plt.plot(x_data, y_data, 'ro', label='Original Data')\n",
    "plt.plot(x_fit, y_fit, 'b-', label='Fitted Spline')\n",
    "plt.xlabel('DC flux (mA)')\n",
    "plt.ylabel('F0-g1 frequency (MHz)')\n",
    "plt.title('Spline Fit to Data')\n",
    "plt.legend()\n",
    "plt.show()"
   ]
  },
  {
   "cell_type": "code",
   "execution_count": null,
   "metadata": {},
   "outputs": [],
   "source": [
    "spline((0.601036269\n",
    "))"
   ]
  },
  {
   "cell_type": "code",
   "execution_count": null,
   "metadata": {},
   "outputs": [],
   "source": [
    "spline(0.95)"
   ]
  },
  {
   "cell_type": "code",
   "execution_count": null,
   "metadata": {},
   "outputs": [],
   "source": [
    "man_f = -1976.5+(3568.1063715816226+3425.0265059169296)\n",
    "man_coup =247.8\n",
    "coup = man_f - man_coup\n",
    "flux_quanta = 0.878238342#0.670984456\n",
    "Ec = 60\n",
    "a = (coup + Ec)/np.sqrt(8*Ec* np.abs(np.cos(np.pi*flux_quanta)))\n",
    "a"
   ]
  },
  {
   "cell_type": "code",
   "execution_count": null,
   "metadata": {},
   "outputs": [],
   "source": [
    "a**2"
   ]
  },
  {
   "cell_type": "code",
   "execution_count": null,
   "metadata": {},
   "outputs": [],
   "source": [
    "coup"
   ]
  },
  {
   "cell_type": "code",
   "execution_count": null,
   "metadata": {},
   "outputs": [],
   "source": [
    "a* sqrt(8*Ec)"
   ]
  },
  {
   "cell_type": "code",
   "execution_count": null,
   "metadata": {},
   "outputs": [],
   "source": [
    "2*np.pi*flux_quanta"
   ]
  },
  {
   "cell_type": "code",
   "execution_count": null,
   "metadata": {},
   "outputs": [],
   "source": [
    "flux_quanta = 0.64507772\n",
    "coup = 5235 * np.sqrt(np.abs(np.cos(np.pi*flux_quanta)))"
   ]
  },
  {
   "cell_type": "code",
   "execution_count": null,
   "metadata": {},
   "outputs": [],
   "source": [
    "coup"
   ]
  },
  {
   "cell_type": "code",
   "execution_count": null,
   "metadata": {},
   "outputs": [],
   "source": [
    "man_f - 841.05"
   ]
  },
  {
   "cell_type": "code",
   "execution_count": null,
   "metadata": {},
   "outputs": [],
   "source": [
    "man_f - coup"
   ]
  },
  {
   "cell_type": "code",
   "execution_count": null,
   "metadata": {},
   "outputs": [],
   "source": []
  },
  {
   "cell_type": "markdown",
   "metadata": {},
   "source": [
    "# Extrapolate Coupler Manipulate Sideband\n"
   ]
  },
  {
   "cell_type": "markdown",
   "metadata": {},
   "source": []
  },
  {
   "cell_type": "code",
   "execution_count": null,
   "metadata": {},
   "outputs": [],
   "source": [
    "y_data = np.asarray([1472.6,\t1229.4,\t841.05,\t\t451.2,\t\t247.8])\n",
    "x_data = np.asarray([0.64507772,\t0.670984456\t,0.72279792,\t0.800518135,\t0.878238342])\n",
    "# Sort the data\n",
    "sorted_indices = np.argsort(x_data)\n",
    "x_data = x_data[sorted_indices]\n",
    "y_data = y_data[sorted_indices]\n",
    "\n",
    "# Fit a spline to the data\n",
    "spline = UnivariateSpline(x_data, y_data)\n",
    "\n",
    "# Evaluate the spline at a range of x values\n",
    "x_fit = np.linspace(x_data.min(), x_data.max(), 1000)\n",
    "y_fit = spline(x_fit)\n",
    "\n",
    "# Plot the original data and the fitted spline\n",
    "plt.figure(figsize=(10, 6))\n",
    "plt.plot(x_data, y_data, 'ro', label='Original Data')\n",
    "plt.plot(x_fit, y_fit, 'b-', label='Fitted Spline')\n",
    "plt.xlabel('DC flux (mA)')\n",
    "plt.ylabel('Coupler Manipulate sideband (MHz)')\n",
    "plt.title('Spline Fit to Data')\n",
    "plt.legend()\n",
    "plt.show()\n"
   ]
  },
  {
   "cell_type": "code",
   "execution_count": null,
   "metadata": {},
   "outputs": [],
   "source": [
    "spline(0.601036269\n",
    ")"
   ]
  },
  {
   "cell_type": "markdown",
   "metadata": {},
   "source": [
    "# Extrapolate Coupler Frequency "
   ]
  },
  {
   "cell_type": "code",
   "execution_count": null,
   "metadata": {},
   "outputs": [],
   "source": [
    "y_data = np.asarray([3510.332877,\t3754.832877,\t4146.882877,\t\t4546.382877,\t\t4768.832877])\n",
    "x_data = np.asarray([0.64507772,\t0.670984456\t,0.72279792,\t0.800518135,\t0.878238342])\n",
    "# Sort the data\n",
    "sorted_indices = np.argsort(x_data)\n",
    "x_data = x_data[sorted_indices]\n",
    "y_data = y_data[sorted_indices]\n",
    "\n",
    "# Fit a spline to the data\n",
    "spline = UnivariateSpline(x_data, y_data)\n",
    "\n",
    "# Evaluate the spline at a range of x values\n",
    "x_fit = np.linspace(x_data.min(), x_data.max(), 1000)\n",
    "y_fit = spline(x_fit)\n",
    "\n",
    "# Plot the original data and the fitted spline\n",
    "plt.figure(figsize=(10, 6))\n",
    "plt.plot(x_data, y_data, 'ro', label='Original Data')\n",
    "plt.plot(x_fit, y_fit, 'b-', label='Fitted Spline')\n",
    "#plot extrapolated point at x = 1\n",
    "plt.plot(1, spline(1), 'go', label='Extrapolated Point')\n",
    "#add a xline at the above point\n",
    "plt.axhline(y = spline(1), color='g', linestyle='--', label = str(spline(1)))\n",
    "plt.xlabel('DC flux (mA)')\n",
    "plt.ylabel('Coupler (MHz)')\n",
    "plt.title('Spline Fit to Data')\n",
    "plt.legend()\n",
    "plt.show()"
   ]
  },
  {
   "cell_type": "code",
   "execution_count": null,
   "metadata": {},
   "outputs": [],
   "source": [
    "spline(0.601036269\n",
    ")"
   ]
  },
  {
   "cell_type": "code",
   "execution_count": null,
   "metadata": {},
   "outputs": [],
   "source": []
  }
 ],
 "metadata": {
  "kernelspec": {
   "display_name": "slab",
   "language": "python",
   "name": "python3"
  },
  "language_info": {
   "codemirror_mode": {
    "name": "ipython",
    "version": 3
   },
   "file_extension": ".py",
   "mimetype": "text/x-python",
   "name": "python",
   "nbconvert_exporter": "python",
   "pygments_lexer": "ipython3",
   "version": "3.8.17"
  }
 },
 "nbformat": 4,
 "nbformat_minor": 2
}
