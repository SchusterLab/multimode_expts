{
 "cells": [
  {
   "cell_type": "code",
   "execution_count": 2,
   "metadata": {},
   "outputs": [
    {
     "name": "stdout",
     "output_type": "stream",
     "text": [
      "Warning serial library import failed.\n",
      "Could not load InstrumentManagerWindow\n",
      "Could not import QickInstrument, try install qick package\n",
      "Could not load AD5780 dac \n",
      "Could not load labbrick\n",
      "Could not load Autonics TM4 Driver\n"
     ]
    }
   ],
   "source": [
    "%load_ext autoreload\n",
    "%autoreload 2\n",
    "\n",
    "import numpy as np\n",
    "import matplotlib.pyplot as plt\n",
    "\n",
    "from qick import *\n",
    "from qick.helpers import gauss\n",
    "from tqdm import tqdm_notebook as tqdm\n",
    "\n",
    "import time\n",
    "import os\n",
    "import sys\n",
    "sys.path.append('/home/xilinx/jupyter_notebooks/')\n",
    "sys.path.append('C:\\\\_Lib\\\\python\\\\rfsoc\\\\rfsoc_multimode\\\\example_expts')\n",
    "# sys.path.append('C:\\\\_Lib\\\\python\\\\multimode')\n",
    "import scipy as sp\n",
    "import json\n",
    "from scipy.fft import fft, fftfreq\n",
    "\n",
    "from slab.instruments import *\n",
    "from slab.experiment import Experiment\n",
    "from slab.datamanagement import SlabFile\n",
    "from slab import get_next_filename, get_current_filename, AttrDict\n",
    "\n",
    "# Figure params\n",
    "plt.rcParams['figure.figsize'] = [10,6]\n",
    "plt.rcParams.update({'font.size': 14})"
   ]
  },
  {
   "cell_type": "code",
   "execution_count": 3,
   "metadata": {},
   "outputs": [
    {
     "name": "stdout",
     "output_type": "stream",
     "text": [
      "path:  H:\\Shared drives\\SLab\\Multimode\\experiment\\240911\n"
     ]
    }
   ],
   "source": [
    "import json\n",
    "import os\n",
    "# path = os.getcwd()\n",
    "path = r'H:\\Shared drives\\SLab\\Multimode\\experiment\\240911' # for data \n",
    "print(\"path: \", path)"
   ]
  },
  {
   "cell_type": "markdown",
   "metadata": {},
   "source": [
    "# setup experiment hardware"
   ]
  },
  {
   "cell_type": "code",
   "execution_count": 4,
   "metadata": {},
   "outputs": [
    {
     "name": "stdout",
     "output_type": "stream",
     "text": [
      "Data will be stored in H:\\Shared drives\\SLab\\Multimode\\experiment\\240911\\data1\n"
     ]
    }
   ],
   "source": [
    "expt_path=path+'\\\\data1'\n",
    "\n",
    "print('Data will be stored in', expt_path)"
   ]
  },
  {
   "cell_type": "code",
   "execution_count": 5,
   "metadata": {},
   "outputs": [
    {
     "name": "stdout",
     "output_type": "stream",
     "text": [
      "Config will be c:\\_Lib\\python\\multimode_expts\\config_rfsoc_ziqian.yml\n",
      "Exp Param will be c:\\_Lib\\python\\multimode_expts\\experiment_config.yml\n"
     ]
    }
   ],
   "source": [
    "curr_path = os.getcwd()\n",
    "config_file = curr_path+'\\\\config_rfsoc_ziqian.yml'\n",
    "config_path = config_file\n",
    "print('Config will be', config_path)\n",
    "\n",
    "exp_param_file = curr_path+'\\\\experiment_config.yml'\n",
    "exp_param_path = exp_param_file\n",
    "print('Exp Param will be', exp_param_path)"
   ]
  },
  {
   "cell_type": "code",
   "execution_count": 6,
   "metadata": {},
   "outputs": [],
   "source": [
    "qubit_i = 0\n",
    "import yaml\n",
    "with open(config_file, 'r') as cfg_file:\n",
    "    yaml_cfg = yaml.safe_load(cfg_file)\n",
    "yaml_cfg = AttrDict(yaml_cfg)"
   ]
  },
  {
   "cell_type": "code",
   "execution_count": 13,
   "metadata": {},
   "outputs": [],
   "source": [
    "\n",
    "im = InstrumentManager(ns_address='192.168.137.25') # SLAC lab"
   ]
  },
  {
   "cell_type": "code",
   "execution_count": 14,
   "metadata": {},
   "outputs": [
    {
     "data": {
      "text/plain": [
       "dict_keys(['Pyro.NameServer', 'Qick101'])"
      ]
     },
     "execution_count": 14,
     "metadata": {},
     "output_type": "execute_result"
    }
   ],
   "source": [
    "im.keys()"
   ]
  },
  {
   "cell_type": "code",
   "execution_count": 15,
   "metadata": {},
   "outputs": [
    {
     "name": "stdout",
     "output_type": "stream",
     "text": [
      "<Pyro4.core.Proxy at 0x25423b60f70; not connected; for PYRO:obj_ad97dcf0e780429ab7512a22956bb9ec@192.168.137.101:46251>\n"
     ]
    }
   ],
   "source": [
    "print(im['Qick101'])"
   ]
  },
  {
   "cell_type": "code",
   "execution_count": 16,
   "metadata": {},
   "outputs": [
    {
     "name": "stdout",
     "output_type": "stream",
     "text": [
      "\n",
      "QICK configuration:\n",
      "\n",
      "\tBoard: ZCU216\n",
      "\n",
      "\tSoftware version: 0.2.180\n",
      "\tFirmware timestamp: Tue Oct 15 12:06:51 2024\n",
      "\n",
      "\tGlobal clocks (MHz): tProcessor 430.080, RF reference 245.760\n",
      "\n",
      "\t7 signal generator channels:\n",
      "\t0:\taxis_signal_gen_v6 - tProc output 0, envelope memory 32768 samples\n",
      "\t\tDAC tile 2, blk 0, 32-bit DDS, fabric=399.360 MHz, f_dds=6389.760 MHz\n",
      "\t1:\taxis_signal_gen_v6 - tProc output 1, envelope memory 32768 samples\n",
      "\t\tDAC tile 2, blk 1, 32-bit DDS, fabric=399.360 MHz, f_dds=6389.760 MHz\n",
      "\t2:\taxis_signal_gen_v6 - tProc output 2, envelope memory 32768 samples\n",
      "\t\tDAC tile 2, blk 2, 32-bit DDS, fabric=399.360 MHz, f_dds=6389.760 MHz\n",
      "\t3:\taxis_signal_gen_v6 - tProc output 3, envelope memory 32768 samples\n",
      "\t\tDAC tile 2, blk 3, 32-bit DDS, fabric=399.360 MHz, f_dds=6389.760 MHz\n",
      "\t4:\taxis_signal_gen_v6 - tProc output 4, envelope memory 32768 samples\n",
      "\t\tDAC tile 3, blk 0, 32-bit DDS, fabric=430.080 MHz, f_dds=6881.280 MHz\n",
      "\t5:\taxis_signal_gen_v6 - tProc output 5, envelope memory 32768 samples\n",
      "\t\tDAC tile 3, blk 1, 32-bit DDS, fabric=430.080 MHz, f_dds=6881.280 MHz\n",
      "\t6:\taxis_sg_mux4_v2 - tProc output 6, envelope memory 0 samples\n",
      "\t\tDAC tile 0, blk 0, 32-bit DDS, fabric=430.080 MHz, f_dds=1720.320 MHz\n",
      "\n",
      "\t4 constant-IQ outputs:\n",
      "\t0:\tDAC tile 1, blk 0, fs=6881.280 MHz\n",
      "\t1:\tDAC tile 1, blk 1, fs=6881.280 MHz\n",
      "\t2:\tDAC tile 1, blk 2, fs=6881.280 MHz\n",
      "\t3:\tDAC tile 1, blk 3, fs=6881.280 MHz\n",
      "\n",
      "\t4 readout channels:\n",
      "\t0:\taxis_pfb_readout_v2 - controlled by PYNQ\n",
      "\t\tADC tile 2, blk 0, 35-bit DDS, fabric=307.200 MHz, fs=2457.600 MHz\n",
      "\t\tmaxlen 16384 (avg) 1024 (decimated)\n",
      "\t\ttriggered by output 7, pin 8, feedback to tProc input 0\n",
      "\t1:\taxis_pfb_readout_v2 - controlled by PYNQ\n",
      "\t\tADC tile 2, blk 0, 35-bit DDS, fabric=307.200 MHz, fs=2457.600 MHz\n",
      "\t\tmaxlen 16384 (avg) 1024 (decimated)\n",
      "\t\ttriggered by output 7, pin 9, feedback to tProc input 1\n",
      "\t2:\taxis_pfb_readout_v2 - controlled by PYNQ\n",
      "\t\tADC tile 2, blk 0, 35-bit DDS, fabric=307.200 MHz, fs=2457.600 MHz\n",
      "\t\tmaxlen 16384 (avg) 1024 (decimated)\n",
      "\t\ttriggered by output 7, pin 10, feedback to tProc input 2\n",
      "\t3:\taxis_pfb_readout_v2 - controlled by PYNQ\n",
      "\t\tADC tile 2, blk 0, 35-bit DDS, fabric=307.200 MHz, fs=2457.600 MHz\n",
      "\t\tmaxlen 16384 (avg) 1024 (decimated)\n",
      "\t\ttriggered by output 7, pin 11, feedback to tProc input 3\n",
      "\n",
      "\t11 DACs:\n",
      "\t\tDAC tile 0, blk 0 is 0_228, on JHC1\n",
      "\t\tDAC tile 1, blk 0 is 0_229, on JHC1\n",
      "\t\tDAC tile 1, blk 1 is 1_229, on JHC2\n",
      "\t\tDAC tile 1, blk 2 is 2_229, on JHC1\n",
      "\t\tDAC tile 1, blk 3 is 3_229, on JHC2\n",
      "\t\tDAC tile 2, blk 0 is 0_230, on JHC3\n",
      "\t\tDAC tile 2, blk 1 is 1_230, on JHC4\n",
      "\t\tDAC tile 2, blk 2 is 2_230, on JHC3\n",
      "\t\tDAC tile 2, blk 3 is 3_230, on JHC4\n",
      "\t\tDAC tile 3, blk 0 is 0_231, on JHC3\n",
      "\t\tDAC tile 3, blk 1 is 1_231, on JHC4\n",
      "\n",
      "\t1 ADCs:\n",
      "\t\tADC tile 2, blk 0 is 0_226, on JHC7\n",
      "\n",
      "\t8 digital output pins:\n",
      "\t0:\tPMOD0_0_LS (output 7, pin 0)\n",
      "\t1:\tPMOD0_1_LS (output 7, pin 1)\n",
      "\t2:\tPMOD0_2_LS (output 7, pin 2)\n",
      "\t3:\tPMOD0_3_LS (output 7, pin 3)\n",
      "\t4:\tPMOD0_4_LS (output 7, pin 4)\n",
      "\t5:\tPMOD0_5_LS (output 7, pin 5)\n",
      "\t6:\tPMOD0_6_LS (output 7, pin 6)\n",
      "\t7:\tPMOD0_7_LS (output 7, pin 7)\n",
      "\n",
      "\ttProc axis_tproc64x32_x8: program memory 32768 words, data memory 4096 words\n",
      "\t\texternal start pin: PMOD1_0_LS\n"
     ]
    }
   ],
   "source": [
    "soc = QickConfig(im[yaml_cfg['aliases']['soc']].get_cfg())\n",
    "print(soc)"
   ]
  },
  {
   "cell_type": "markdown",
   "metadata": {},
   "source": [
    "# choose experiment name"
   ]
  },
  {
   "cell_type": "code",
   "execution_count": 17,
   "metadata": {},
   "outputs": [
    {
     "name": "stdout",
     "output_type": "stream",
     "text": [
      "Path added at highest priority\n",
      "['C:\\\\_Lib\\\\python\\\\multimode_expts', 'c:\\\\_Lib\\\\python\\\\multimode_expts', 'C:\\\\_Lib\\\\python', 'C:\\\\_Lib\\\\python\\\\slab', 'C:\\\\_Lib\\\\python\\\\qick\\\\qick_lib', 'C:\\\\_Lib\\\\python\\\\rfsoc\\\\rfsoc_multimode\\\\example_expts', 'c:\\\\_Lib\\\\python\\\\multimode_expts', 'c:\\\\Users\\\\26049\\\\.conda\\\\envs\\\\slab\\\\python38.zip', 'c:\\\\Users\\\\26049\\\\.conda\\\\envs\\\\slab\\\\DLLs', 'c:\\\\Users\\\\26049\\\\.conda\\\\envs\\\\slab\\\\lib', 'c:\\\\Users\\\\26049\\\\.conda\\\\envs\\\\slab', '', 'C:\\\\Users\\\\26049\\\\AppData\\\\Roaming\\\\Python\\\\Python38\\\\site-packages', 'c:\\\\Users\\\\26049\\\\.conda\\\\envs\\\\slab\\\\lib\\\\site-packages', 'c:\\\\Users\\\\26049\\\\.conda\\\\envs\\\\slab\\\\lib\\\\site-packages\\\\easy_lmfit-1.0-py3.8.egg', 'c:\\\\Users\\\\26049\\\\.conda\\\\envs\\\\slab\\\\lib\\\\site-packages\\\\attrdict-2.0.1-py3.8.egg', 'c:\\\\Users\\\\26049\\\\.conda\\\\envs\\\\slab\\\\lib\\\\site-packages\\\\win32', 'c:\\\\Users\\\\26049\\\\.conda\\\\envs\\\\slab\\\\lib\\\\site-packages\\\\win32\\\\lib', 'c:\\\\Users\\\\26049\\\\.conda\\\\envs\\\\slab\\\\lib\\\\site-packages\\\\Pythonwin', '/home/xilinx/jupyter_notebooks/', 'C:\\\\_Lib\\\\python\\\\rfsoc\\\\rfsoc_multimode\\\\example_expts']\n",
      "importing from path  C:\\_Lib\\python\\multimode_expts\\experiments\\clifford_averager_program.py\n",
      "imported experiments.clifford_averager_program\n",
      "importing from path  C:\\_Lib\\python\\multimode_expts\\experiments\\fitting.py\n",
      "imported experiments.fitting\n",
      "importing from path  C:\\_Lib\\python\\multimode_expts\\experiments\\qram_protocol_timestepped.py\n",
      "imported experiments.qram_protocol_timestepped\n",
      "importing from path  C:\\_Lib\\python\\multimode_expts\\experiments\\qubit_cavity\n",
      "imported experiments.qubit_cavity.amplitude_rabi_f0g1\n",
      "imported experiments.qubit_cavity.displacement_enhanced_sideband\n",
      "imported experiments.qubit_cavity.displace_amplitude_calibration\n",
      "imported experiments.qubit_cavity.displace_pulse_probe\n",
      "imported experiments.qubit_cavity.ecd\n",
      "imported experiments.qubit_cavity.ecd_backup\n",
      "imported experiments.qubit_cavity.ecd_read_spec\n",
      "imported experiments.qubit_cavity.non_demolution_readout\n",
      "imported experiments.qubit_cavity.out_and_back\n",
      "imported experiments.qubit_cavity.photo_resolved_pulse_probe\n",
      "imported experiments.qubit_cavity.qubit_cavity_opt\n",
      "imported experiments.qubit_cavity.single_mode_cats_wigner_tomography\n",
      "imported experiments.qubit_cavity.single_mode_wigner_tomography - Copy\n",
      "imported experiments.qubit_cavity.single_mode_wigner_tomography\n",
      "imported experiments.qubit_cavity.small_chi_calibration\n",
      "imported experiments.qubit_cavity.test_opt\n",
      "imported experiments.qubit_cavity.test_opt2\n",
      "imported experiments.qubit_cavity.test_opt_ecd\n",
      "importing from path  C:\\_Lib\\python\\multimode_expts\\experiments\\single_qubit\n",
      "imported experiments.single_qubit.acstarkshift_spectroscopy\n",
      "imported experiments.single_qubit.active_reset_single_shot\n",
      "imported experiments.single_qubit.amplitude_rabi\n",
      "imported experiments.single_qubit.amplitude_rabi_ef\n",
      "imported experiments.single_qubit.amplitude_rabi_general\n",
      "imported experiments.single_qubit.cavity2qubit\n",
      "imported experiments.single_qubit.cavity_spectroscopy\n",
      "imported experiments.single_qubit.dragpulse_calibration\n",
      "imported experiments.single_qubit.dual_rail_single_shot\n",
      "imported experiments.single_qubit.fast_reset_test\n",
      "imported experiments.single_qubit.flux_sweep\n",
      "imported experiments.single_qubit.length_rabi\n",
      "imported experiments.single_qubit.length_rabi_f0g1_general\n",
      "imported experiments.single_qubit.length_rabi_general\n",
      "imported experiments.single_qubit.normalize\n",
      "imported experiments.single_qubit.parity_delay\n",
      "imported experiments.single_qubit.parity_freq\n",
      "imported experiments.single_qubit.parity_gain\n",
      "imported experiments.single_qubit.phase_sweep\n",
      "imported experiments.single_qubit.phase_sweep_averager\n",
      "imported experiments.single_qubit.pulse_cavity_probe_readout\n",
      "imported experiments.single_qubit.pulse_probe_ef_spectroscopy\n",
      "imported experiments.single_qubit.pulse_probe_f0g1_spectroscopy\n",
      "imported experiments.single_qubit.pulse_probe_spectroscopy\n",
      "imported experiments.single_qubit.pulse_probe_spectroscopy_prepulse\n",
      "imported experiments.single_qubit.ramsey_ef\n",
      "imported experiments.single_qubit.randbench\n",
      "imported experiments.single_qubit.rbam\n",
      "imported experiments.single_qubit.rb_BSgate\n",
      "imported experiments.single_qubit.rb_BSgate_check_target\n",
      "imported experiments.single_qubit.rb_BSgate_postselection\n",
      "imported experiments.single_qubit.rb_BSgate_postselection_storage\n",
      "imported experiments.single_qubit.rb_BSgate_ramsey\n",
      "imported experiments.single_qubit.rb_ziqian - Copy\n",
      "imported experiments.single_qubit.rb_ziqian copy\n",
      "imported experiments.single_qubit.rb_ziqian\n",
      "imported experiments.single_qubit.rb_ziqian_backup\n",
      "imported experiments.single_qubit.resonator_spectroscopy\n",
      "imported experiments.single_qubit.rfsoc_tof_calibration\n",
      "imported experiments.single_qubit.rf_flux_modulation_general\n",
      "imported experiments.single_qubit.rf_flux_spectroscopy\n",
      "imported experiments.single_qubit.rf_flux_spectroscopy_f0g1\n",
      "imported experiments.single_qubit.sideband_general\n",
      "imported experiments.single_qubit.sideband_t1_general\n",
      "imported experiments.single_qubit.single_shot\n",
      "imported experiments.single_qubit.single_shot_old\n",
      "imported experiments.single_qubit.single_shot_prepulse\n",
      "imported experiments.single_qubit.square_pulse\n",
      "imported experiments.single_qubit.t1\n",
      "imported experiments.single_qubit.t1_cavity\n",
      "imported experiments.single_qubit.t1_fluxonium\n",
      "imported experiments.single_qubit.t1_ring_down\n",
      "imported experiments.single_qubit.t2_cavity\n",
      "imported experiments.single_qubit.t2_echo\n",
      "imported experiments.single_qubit.t2_fluxonium\n",
      "imported experiments.single_qubit.t2_ramsey\n",
      "importing from path  C:\\_Lib\\python\\multimode_expts\\experiments\\two_qubit\n",
      "imported experiments.two_qubit.amplitude_rabi_EgGf\n",
      "imported experiments.two_qubit.length_rabi_EgGf\n",
      "imported experiments.two_qubit.length_rabi_pi_pulse_ZZ\n",
      "imported experiments.two_qubit.pulse_probe_coupling_spectroscopy\n",
      "imported experiments.two_qubit.pulse_probe_EgGf_spectroscopy\n",
      "imported experiments.two_qubit.twoqutrit_state_tomography\n",
      "imported experiments.two_qubit.twoQ_state_tomography\n",
      "C:\\_Lib\\python\\multimode_expts\\experiments\\__init__.py\n"
     ]
    }
   ],
   "source": [
    "import sys\n",
    "\n",
    "# Path to add\n",
    "expts_path = 'C:\\\\_Lib\\\\python\\\\multimode_expts'\n",
    "\n",
    "# Add the path to the system path at the highest priority\n",
    "if expts_path not in sys.path:\n",
    "    sys.path.insert(0, expts_path)\n",
    "    print('Path added at highest priority')\n",
    "\n",
    "# Verify the path is added\n",
    "print(sys.path)\n",
    "\n",
    "# Import the experiments module from multimode\n",
    "import experiments as meas\n",
    "\n",
    "# Verify the module is imported from the correct path\n",
    "print(meas.__file__)"
   ]
  },
  {
   "cell_type": "markdown",
   "metadata": {},
   "source": [
    "# Run experiments"
   ]
  },
  {
   "cell_type": "code",
   "execution_count": 257,
   "metadata": {},
   "outputs": [
    {
     "name": "stdout",
     "output_type": "stream",
     "text": [
      "{'prepulse_qubit': {'freq': [3568.1751638611518], 'length': [0.06], 'gain': [30], 'phase': [0], 'repeat_time': 10}, 'device': {'qubit': {'T1': [127.0], 'f_ge': [3568.1515953227604], 'f_ge_resolved': [3568.1515953227604], 'f_ge_idle': [3568.1515953227604], 'f_ef': [3425.5564066067], 'f_ef_idle': [3425.5564066067], 'ramp_sigma': [0.005], 'ramp_sigma_num': [3], 'pulses': {'pi_ge': {'gain': [10716], 'sigma': [0.035], 'length': [0], 'type': 'gauss'}, 'pi_ge_ftop': {'gain': [3000], 'sigma': [0.005], 'length': [0.190914187445986], 'type': 'flat_top'}, 'pi_ge_fast': {'gain': [10682], 'sigma': [0.035], 'length': [0], 'type': 'gauss'}, 'pi_ge_resolved': {'gain': [50], 'sigma': [0.005], 'length': [6.553697146578866], 'type': 'flat_top', 'repeat_no': 1}, 'hpi_ge': {'gain': [5510], 'length': [0], 'sigma': [0.035], 'type': 'gauss'}, 'hpi_ge_ftop': {'gain': [3000], 'sigma': [0.005], 'length': [0.09131395179924079], 'type': 'flat_top'}, 'hpi_ge_fast': {'gain': [5195], 'length': [0], 'sigma': [0.035], 'type': 'gauss'}, 'pi_ef_ftop': {'gain': [3000], 'sigma': [0.005], 'length': [0.15377089082752435], 'type': 'flat_top'}, 'pi_ef_new': {'gain': [3000], 'sigma': [0.005], 'length': [0.15377089082752435], 'type': 'flat_top'}, 'hpi_ef_ftop': {'gain': [3000], 'sigma': [0.005], 'length': [0.073291601301268], 'type': 'flat_top'}, 'hpi_ef_new': {'gain': [3000], 'sigma': [0.005], 'length': [0.073291601301268], 'type': 'flat_top'}, 'pi_ef': {'gain': [8236], 'length': [0], 'sigma': [0.035], 'type': 'gauss'}, 'hpi_ef': {'gain': [3863], 'sigma': [0.035], 'type': 'gauss'}, 'f0g1': {'gain': [20000], 'length': [0.4209728295970486], 'sigma': [0.005]}, 'pi_f0g1': {'sigma': [0.005]}, 'pi_m1si': {'sigma': [0.005]}, 'binomial_M1': {'ge_freq': [3568.18781776926, 3567.90056386609, 3567.61563457181, 3568.18781776926, 3568.18781776926], 'ge_gain': [9653, 9653, 9653, 9653, 9653], 'ge_sigma': [0.035, 0.035, 0.035, 0.035, 0.035], 'ef_freq': [3425.55703383178, 3425.30098176373, 3425.55703383178, 3425.55703383178, 3425.55703383178], 'ef_gain': [7575, 7575, 7575, 7575, 7575], 'ef_sigma': [0.035, 0.035, 0.035, 0.035, 0.035], 'f0g1_freq': [2006.76, 2006.22, 2006.76, 2006.76, 2006.76], 'f0g1_gain': [15000, 15000, 15000, 15000, 15000], 'f0g1_length': [0.621500217304513, 0.436074712309811, 0.621500217304513, 0.621500217304513, 0.621500217304513], 'f0g1_sigma': [0.005, 0.005, 0.005, 0.005, 0.005]}}, 'f0g1': 1828.6, 'cycles_add_to_R': 400}, 'QM': {'chi_shift_matrix': [[-142.92577186624158, -0.28725, -0.27214], [-0.28725, -0.006572659352514165, 0.0], [-0.27214, 0.0, -0.0034172418618254596]], 'pulses': {'qubit_pi_ge': {'gain': [[10682, 10682], [10682, 10682]], 'sigma': [[0.035, 0.035], [0.035, 0.035]], 'type': 'gauss'}, 'qubit_pi_ge_resolved': {'gain': [[50, 50], [50, 50]], 'sigma': [[0.005, 0.005], [0.005, 0.005]], 'length': [[6.553697146578866, 6.553697146578866], [6.553697146578866, 6.553697146578866]], 'type': 'flat_top'}, 'qubit_pi_ge_resolved_man': {'freq': [], 'gain': [50, 50], 'sigma': [0.005, 0.005], 'length': [6.288721018841144, 0], 'type': 'flat_top'}, 'f0g1': {'freq': [2007.09, 1834.895], 'gain': [15000, 15000], 'length': [0.615286689634651, 1.060413], 'hpilength': [0.3076433448173255, 0.528845], 'sigma': 0.005}, 'f1g2': {'freq': [2002.98, 1840.6], 'gain': [15000, 20000], 'length': [0.43461615322272, 0.9276287688775608], 'hpilength': [0.21730807661136, 0.4638143844387804], 'sigma': 0.005}}}, 'readout': {'trig_offset': 450, 'frequency': [748.8], 'gain': [700], 'phase': [8], 'threshold': [-20.47477176210509], 'threshold_list': [-31.47477176210509], 'man1_drive_list': [0], 'man2_drive_list': [0], 'readout_length': [1.0], 'relax_delay': [2500]}, 'manipulate': {'trig_offset': 450, 'f_ge': [4984.026194477733, 5157.8527963217475], 'standard_dispalce': [0.05, 0.05], 'revival_time': [1.6833333333333333, 1.7366205852286094], 'gain_to_alpha': [0.00014281, 0.00020045], 'freq_to_alpha': [0.495062203431879, 0.0], 'gain': [2000, 2000], 'chi': [1.0, 1.0], 'readout_length': [8], 'phase': [-176.45792887777], 'cycles_add_to_Q': 260, 'idling_phase': [[0.0, 0.0], [0.0, 0.0]], 'idling_freq': [0, 0]}, 'storage': {'trig_offset': 450, 'f_ge': [6229.766612195359, 5300], 'gain': [1000, 2000], 'chi': [1.0, 1.0], 'readout_length': [8], 'phase': [-176.45792887777], 'storage_man_file': 'C:/_Lib/python/multimode_expts/man1_storage_swap_dataset.csv', 'idling_phase': [[-52.6696123, -22.7088024, 4.32404839, 1.74059096, 3.07928552, 131.15854816947694, -90.34878087129891], [-0.8543699, -116.043431, 3.45837055, 0.608331428, -2.036, 9.45, 95.59156092221656], [1.04040701, -3.74923237, -117.783814, 0.356992259, -2.45519509, 0.647967825, 12.8401564], [1.66740192, -4.21812224, 3.29786448, -154.122273, -1.60291285, -1.18402153, 5.044314], [4.82521854, 0.209877344, 5.59148305, 7.67963852, -91.167355, 1.30630108, 5.65421906], [3.70780701, 0.0768208841, 4.16044796, 2.61829414, 3.48690085, -37.3968965, 4.05643677], [3.84028579, -0.418792628, 4.0522379, 3.24634888, 2.06016015, 3.24251258, -22.4708301]], 'idling_freq': [-2.5937677197135596, -2.85371864950844, -2.446015004544113, -1.8393250164457633, -3.231025833205897, -3.2053137013077597, -2.935087792327744]}, 'active_reset': {'qubit_ge': [4000, 0.1422665780546079, 0.005], 'qubit_ef': [3000, 0.15377089082752435, 0.005], 'M1_S_freq': [349.41, 520.93, 696.66, 875.825, 1053.405, 1245.17, 1423.155], 'M1_S_gain': [3000, 5000, 9000, 9000, 7500, 13500, 16500], 'relax_delay': [50], 'M1_S_length': [0.9771428571428571, 1.13, 1.33802338, 1.25428746, 1.97319797, 1.59530999, 1.3783587], 'M1_S_sigma': 0.005, 'chis': [0, -0.28725, -0.54329], 'M_lossy': [[2313.3, 5000, 10, 2, 2], [2093.9, 8000, 15, 2, 2]]}}, 'hw': {'soc': {'dacs': {'qubit': {'ch': 2, 'type': 'full', 'nyquist': 1}, 'readout': {'ch': 5, 'type': 'full', 'nyquist': 1}, 'manipulate_in': {'ch': 4, 'type': 'full', 'nyquist': 2}, 'storage_in': {'ch': 6, 'type': 'full', 'nyquist': 2}, 'flux_low': {'ch': 1, 'type': 'full', 'nyquist': 1}, 'flux_high': {'ch': 3, 'type': 'full', 'nyquist': 1}, 'sideband': {'ch': 0, 'type': 'full', 'nyquist': 1}}, 'adcs': {'readout': {'ch': 0}, 'cavity_out': {'ch': 1}}}}, 'aliases': {'soc': 'Qick101'}, 'expt': {'start': 0.01, 'step': 1, 'expts': 300, 'ramsey_freq': 0.03, 'reps': 100, 'rounds': 1, 'qubits': [0], 'checkEF': False, 'user_defined_freq': [False, 3425.30098176373, 7575, 0.035], 'qubit_ge_init': False, 'qubit_ge_after': False, 'f0g1_cavity': 0, 'normalize': False, 'active_reset': False, 'man_reset': True, 'storage_reset': False, 'prepulse': False, 'postpulse': False, 'pre_active_reset_pulse': False, 'pre_active_reset_sweep_pulse': [[3568.1751638611518, 3425.5564066067, 2007.0], [10716, 8236, 15000], [0, 0, 0.6056817916987671], [0, 0, 0], [2, 2, 0], ['g', 'g', 'flat_top'], [0.035, 0.035, 0.005]], 'pre_sweep_pulse': [[3568.1751638611518, 3425.5537944060666, 2007.06, 349.415], [10819, 8327, 15000, 3000], [0, 0, 0.6552866896346518, 0.973722], [0, 0, 0, 0], [2, 2, 0, 1], ['gaussian', 'gaussian', 'flat_top', 'flat_top'], [0.035, 0.035, 0.005, 0.005]], 'reps_middlepulse': 0, 'advance_phase': 0, 'middlepulse': False, 'mid_sweep_pulse': [[3424.2965691707564, 0, 2004.775, 2004.775, 0, 3424.2965691707564], [2563, 0, 3000, 3000, 0, 2563], [0.0, 0.01, 0.740015963968996, 0.740015963968996, 0.01, 0.0], [0, 0, 0, 0, 0, 0], [2, 5, 5, 5, 5, 2], ['gaussian', 'flat_top', 'flat_top', 'flat_top', 'flat_top', 'gaussian'], [0.03, 0.005, 0.005, 0.005, 0.005, 0.03]]}}\n"
     ]
    },
    {
     "data": {
      "application/vnd.jupyter.widget-view+json": {
       "model_id": "b49a71d0e3c24408aa68398d88920edb",
       "version_major": 2,
       "version_minor": 0
      },
      "text/plain": [
       "  0%|          | 0/30000 [00:00<?, ?it/s]"
      ]
     },
     "metadata": {},
     "output_type": "display_data"
    },
    {
     "name": "stdout",
     "output_type": "stream",
     "text": [
      "Saving H:\\Shared drives\\SLab\\Multimode\\experiment\\240911\\data1\\00032_RamseyExperiment.h5\n"
     ]
    }
   ],
   "source": [
    "experiment_class, experiment_name = 'single_qubit.t1', 'T1Experiment'\n",
    "# experiment_class, experiment_name = 'single_qubit.single_shot', 'HistogramExperiment'\n",
    "# experiment_class, experiment_name = 'single_qubit.single_shot_old', 'HistogramExperiment_oldold'\n",
    "# experiment_class, experiment_name = 'single_qubit.single_shot', 'HistogramExperiment_old'\n",
    "# experiment_class, experiment_name = 'qubit_cavity.non_demolution_readout', 'DemolutionMeasurementExperiment'\n",
    "# experiment_class, experiment_name = 'single_qubit.t2_ramsey', 'RamseyExperiment'\n",
    "# experiment_class, experiment_name = 'single_qubit.phase_sweep', 'PhaseSweepExperiment'\n",
    "# experiment_class, experiment_name = 'single_qubit.phase_sweep_averager', 'PhaseSweepAveragerExperiment'\n",
    "# experiment_class, experiment_name = 'single_qubit.amplitude_rabi', 'AmplitudeRabiExperiment'\n",
    "# experiment_class, experiment_name = 'single_qubit.amplitude_rabi_general', 'AmplitudeRabiGeneralExperiment'\n",
    "# experiment_class, experiment_name = 'single_qubit.amplitude_rabi_ef', 'AmplitudeRabiEFExperiment'\n",
    "# experiment_class, experiment_name = 'single_qubit.t2_echo', 'RamseyEchoExperiment'\n",
    "# experiment_class, experiment_name = 'single_qubit.cavity_spectroscopy', 'CavitySpectroscopyExperiment'\n",
    "# experiment_class, experiment_name = 'single_qubit.resonator_spectroscopy', 'ResonatorSpectroscopyExperiment'\n",
    "# experiment_class, experiment_name = 'single_qubit.length_rabi_general', 'LengthRabiGeneralExperiment'\n",
    "# experiment_class, experiment_name = 'single_qubit.length_rabi_f0g1_general', 'LengthRabiGeneralF0g1Experiment'\n",
    "# experiment_class, experiment_name = 'qubit_cavity.single_mode_wigner_tomography', 'WignerTomography1ModeExperiment'\n",
    "# experiment_class, experiment_name = 'qubit_cavity.single_mode_cats_wigner_tomography', 'WignerTomography1ModeCatExperiment'\n",
    "# experiment_class, experiment_name = 'single_qubit.pulse_probe_spectroscopy', 'PulseProbeSpectroscopyExperiment'\n",
    "# experiment_class, experiment_name = 'single_qubit.pulse_probe_f0g1_spectroscopy', 'PulseProbeF0g1SpectroscopyExperiment' # <--------------\n",
    "# experiment_class, experiment_name = 'qubit_cavity.ecd', 'ECDExperiment'\n",
    "# experiment_class, experiment_name = 'qubit_cavity.ecd_read_spec', 'ECDReadSpecExperiment'\n",
    "# experiment_class, experiment_name = 'single_qubit.pulse_probe_ef_spectroscopy', 'PulseProbeEFSpectroscopyExperiment'\n",
    "# experiment_class, experiment_name = 'single_qubit.t1_cavity', 'T1CavityExperiment'\n",
    "# experiment_class, experiment_name = 'single_qubit.t2_cavity', 'CavityRamseyExperiment' # -------\n",
    "# experiment_class, experiment_name = 'single_qubit.t2_cavity', 'CavityRamseyExperiment_old'\n",
    "# experiment_class, experiment_name = 'single_qubit.pulse_probe_spectroscopy_prepulse', 'PulseProbePrePulseSpectroscopyExperiment'\n",
    "# experiment_class, experiment_name = 'single_qubit.cavity2qubit', 'Cavity2QubitSweepExperiment'\n",
    "# experiment_class, experiment_name = 'single_qubit.sideband_general', 'SidebandGeneralExperiment'\n",
    "# experiment_class, experiment_name = 'single_qubit.rf_flux_spectroscopy', 'FluxSpectroscopyExperiment'\n",
    "# experiment_class, experiment_name = 'single_qubit.parity_delay', 'ParityDelayExperiment'\n",
    "# experiment_class, experiment_name = 'single_qubit.parity_gain', 'ParityGainExperiment'\n",
    "# experiment_class, experiment_name = 'single_qubit.parity_freq', 'ParityFreqExperiment'\n",
    "# experiment_class, experiment_name = 'single_qubit.single_shot_prepulse','HistogramPrepulseExperiment'\n",
    "# experiment_class, experiment_name = 'single_qubit.rb_ziqian', 'SingleRB'\n",
    "# experiment_class, experiment_name = 'single_qubit.rbam', 'MultiRBAM'\n",
    "# experiment_class, experiment_name = 'single_qubit.rb_BSgate', 'SingleBeamSplitterRB'\n",
    "# experiment_class, experiment_name = 'single_qubit.rb_BSgate_postselection', 'SingleBeamSplitterRBPostSelection'\n",
    "# experiment_class, experiment_name = 'single_qubit.rb_BSgate_check_target', 'SingleBeamSplitterRB_check_target'\n",
    "# experiment_class, experiment_name = 'single_qubit.rb_BSgate_ramsey', 'SingleBeamSplitterRB_ramsey'\n",
    "# experiment_class, experiment_name = 'qubit_cavity.displacement_enhanced_sideband', 'DisplacementEnhancedSidebandExperiment'\n",
    "# experiment_class, experiment_name = 'single_qubit.sideband_t1_general', 'SidebandT1GeneralExperiment' # --------\n",
    "# experiment_class, experiment_name = 'qubit_cavity.out_and_back', 'OutAndBackExperiment'\n",
    "# experiment_class, experiment_name = 'qubit_cavity.amplitude_rabi_f0g1', 'AmplitudeRabiF0g1Experiment'\n",
    "# experiment_class, experiment_name = 'single_qubit.rf_flux_spectroscopy_f0g1', 'FluxSpectroscopyF0g1Experiment' \n",
    "# experiment_class, experiment_name = 'single_qubit.dragpulse_calibration', 'DragCalibrationExperiment' \n",
    "# experiment_class, experiment_name = 'single_qubit.fast_reset_test', 'FastResetExperiment'\n",
    "# experiment_class, experiment_name = 'single_qubit.active_reset_single_shot', 'HistogramActiveResetExperiment'\n",
    "\n",
    "# \n",
    "\n",
    "run_exp = eval(f\"meas.{experiment_class}.{experiment_name}(soccfg=soc, path=expt_path, prefix=experiment_name, config_file=config_path)\")\n",
    "\n",
    "\n",
    "with open(exp_param_file, 'r') as file:\n",
    "\n",
    "    # Load the YAML contenta\n",
    "    loaded = yaml.safe_load(file)\n",
    "    run_exp.cfg.expt = eval(f\"loaded['{experiment_name}']\")\n",
    "\n",
    "# special updates on device_config file\n",
    "# run_exp.cfg.device.readout.relax_delay =\n",
    "#  [1500] # Wait time between experiments [us]\n",
    "run_exp.cfg.device.readout.relax_delay = [100] # best for active reset\n",
    "# run_exp.cfg.device.readout.relax_delay = [2500] # Wait time between experiments [us]\n",
    "# run_exp.cfg.device.manipulate.readout_length = 5\n",
    "# run_exp.cfg.device.storage.readout_length = 5\n",
    "#run_exp.cfg.device.readout.relax_delay = int(qick.c)\n",
    "print(run_exp.cfg)\n",
    "run_exp.go(analyze=False, display=False, progress=True, save=True)"
   ]
  },
  {
   "cell_type": "markdown",
   "metadata": {},
   "source": [
    "$\\text{Gain (linear)} = 10^{\\frac{\\text{dB}}{20}} $"
   ]
  },
  {
   "cell_type": "markdown",
   "metadata": {},
   "source": [
    "# Run sequential experiment"
   ]
  },
  {
   "cell_type": "code",
   "execution_count": 212,
   "metadata": {},
   "outputs": [
    {
     "name": "stdout",
     "output_type": "stream",
     "text": [
      "Config will be c:\\_Lib\\python\\multimode_expts\\config_rfsoc_ziqian.yml\n",
      "-------------------------------------------------\n",
      "Index: 0 Storage = 7, Spectator = 1 \n",
      "Index: 0 depth. = 1 \n",
      "{'pre_sweep_pulse': [['qubit', 'ge', 'hpi', 0], ['qubit', 'ef', 'pi', 0], ['man', 'M1', 'pi', 0], ['storage', 'M1-S7', 'pi', 0]], 'post_sweep_pulse': [['storage', 'M1-S7', 'pi', 0], ['man', 'M1', 'pi', 0], ['qubit', 'ef', 'pi', 0], ['qubit', 'ge', 'hpi', 0]], 'wait_freq': 1.05, 'prepulse': True, 'postpulse': True, 'rb_time': 'None', 'bs_gate_num': 'None', 'qubits': [0], 'calibrate_single_shot': True, 'singleshot_reps': 10000, 'span': 500, 'active_reset': True, 'man_reset': True, 'storage_reset': True, 'threshold': -39.769721213292996, 'readout_per_round': 4, 'prep_man_photon': True, 'rb_active_reset': True, 'rb_man_reset': True, 'rb_storage_reset': True, 'rb_reps': 300, 'gates_per_wait': 100000, 'rounds': 1, 'variations': 50, 'rb_depth': 1, 'IRB_gate_no': -1, 'bs_repeat': 1, 'sync': False, 'setup': False, 'bs_para': [349.415, 3000, 0.48857142857142855, 0.005]}\n",
      "sscfg active reset True\n",
      "9888\n",
      "9886\n",
      "ge fidelity (%): 97.97779301315691\n",
      "rotation angle (deg): -0.39387098648808844\n",
      "threshold ge: -3.9131671672249695\n"
     ]
    },
    {
     "data": {
      "application/vnd.jupyter.widget-view+json": {
       "model_id": "551c58077c044b3fb47116e56aebc689",
       "version_major": 2,
       "version_minor": 0
      },
      "text/plain": [
       "  0%|          | 0/50 [00:00<?, ?it/s]"
      ]
     },
     "metadata": {},
     "output_type": "display_data"
    },
    {
     "name": "stdout",
     "output_type": "stream",
     "text": [
      "Saving H:\\Shared drives\\SLab\\Multimode\\experiment\\240911\\data1\\01031_SingleBeamSplitterRB_stor_ramsey_spec.h5\n",
      "Index: 1 depth. = 8 \n",
      "{'pre_sweep_pulse': [['qubit', 'ge', 'hpi', 0], ['qubit', 'ef', 'pi', 0], ['man', 'M1', 'pi', 0], ['storage', 'M1-S7', 'pi', 0]], 'post_sweep_pulse': [['storage', 'M1-S7', 'pi', 0], ['man', 'M1', 'pi', 0], ['qubit', 'ef', 'pi', 0], ['qubit', 'ge', 'hpi', 369.36]], 'wait_freq': 1.05, 'prepulse': True, 'postpulse': True, 'rb_time': 'None', 'bs_gate_num': 'None', 'qubits': [0], 'calibrate_single_shot': False, 'singleshot_reps': 10000, 'span': 500, 'active_reset': True, 'man_reset': True, 'storage_reset': True, 'threshold': -39.769721213292996, 'readout_per_round': 4, 'prep_man_photon': True, 'rb_active_reset': True, 'rb_man_reset': True, 'rb_storage_reset': True, 'rb_reps': 300, 'gates_per_wait': 100000, 'rounds': 1, 'variations': 50, 'rb_depth': 8, 'IRB_gate_no': -1, 'bs_repeat': 1, 'sync': False, 'setup': False, 'bs_para': [349.415, 3000, 0.48857142857142855, 0.005]}\n",
      "ge fidelity (%): 0\n",
      "rotation angle (deg): [0]\n",
      "threshold ge: 0\n"
     ]
    },
    {
     "data": {
      "application/vnd.jupyter.widget-view+json": {
       "model_id": "2bc5cfa2588040f08f2e43907bf6a9b7",
       "version_major": 2,
       "version_minor": 0
      },
      "text/plain": [
       "  0%|          | 0/50 [00:00<?, ?it/s]"
      ]
     },
     "metadata": {},
     "output_type": "display_data"
    },
    {
     "name": "stdout",
     "output_type": "stream",
     "text": [
      "Saving H:\\Shared drives\\SLab\\Multimode\\experiment\\240911\\data1\\01032_SingleBeamSplitterRB_stor_ramsey_spec.h5\n",
      "Index: 2 depth. = 15 \n",
      "{'pre_sweep_pulse': [['qubit', 'ge', 'hpi', 0], ['qubit', 'ef', 'pi', 0], ['man', 'M1', 'pi', 0], ['storage', 'M1-S7', 'pi', 0]], 'post_sweep_pulse': [['storage', 'M1-S7', 'pi', 0], ['man', 'M1', 'pi', 0], ['qubit', 'ef', 'pi', 0], ['qubit', 'ge', 'hpi', 1846.8]], 'wait_freq': 1.05, 'prepulse': True, 'postpulse': True, 'rb_time': 'None', 'bs_gate_num': 'None', 'qubits': [0], 'calibrate_single_shot': False, 'singleshot_reps': 10000, 'span': 500, 'active_reset': True, 'man_reset': True, 'storage_reset': True, 'threshold': -39.769721213292996, 'readout_per_round': 4, 'prep_man_photon': True, 'rb_active_reset': True, 'rb_man_reset': True, 'rb_storage_reset': True, 'rb_reps': 300, 'gates_per_wait': 100000, 'rounds': 1, 'variations': 50, 'rb_depth': 15, 'IRB_gate_no': -1, 'bs_repeat': 1, 'sync': False, 'setup': False, 'bs_para': [349.415, 3000, 0.48857142857142855, 0.005]}\n",
      "ge fidelity (%): 0\n",
      "rotation angle (deg): [0]\n",
      "threshold ge: 0\n"
     ]
    },
    {
     "data": {
      "application/vnd.jupyter.widget-view+json": {
       "model_id": "3faa7ae3267f40f5bfb4b7748c12cda4",
       "version_major": 2,
       "version_minor": 0
      },
      "text/plain": [
       "  0%|          | 0/50 [00:00<?, ?it/s]"
      ]
     },
     "metadata": {},
     "output_type": "display_data"
    },
    {
     "name": "stdout",
     "output_type": "stream",
     "text": [
      "Saving H:\\Shared drives\\SLab\\Multimode\\experiment\\240911\\data1\\01033_SingleBeamSplitterRB_stor_ramsey_spec.h5\n",
      "Index: 3 depth. = 22 \n",
      "{'pre_sweep_pulse': [['qubit', 'ge', 'hpi', 0], ['qubit', 'ef', 'pi', 0], ['man', 'M1', 'pi', 0], ['storage', 'M1-S7', 'pi', 0]], 'post_sweep_pulse': [['storage', 'M1-S7', 'pi', 0], ['man', 'M1', 'pi', 0], ['qubit', 'ef', 'pi', 0], ['qubit', 'ge', 'hpi', 4432.320000000001]], 'wait_freq': 1.05, 'prepulse': True, 'postpulse': True, 'rb_time': 'None', 'bs_gate_num': 'None', 'qubits': [0], 'calibrate_single_shot': False, 'singleshot_reps': 10000, 'span': 500, 'active_reset': True, 'man_reset': True, 'storage_reset': True, 'threshold': -39.769721213292996, 'readout_per_round': 4, 'prep_man_photon': True, 'rb_active_reset': True, 'rb_man_reset': True, 'rb_storage_reset': True, 'rb_reps': 300, 'gates_per_wait': 100000, 'rounds': 1, 'variations': 50, 'rb_depth': 22, 'IRB_gate_no': -1, 'bs_repeat': 1, 'sync': False, 'setup': False, 'bs_para': [349.415, 3000, 0.48857142857142855, 0.005]}\n",
      "ge fidelity (%): 0\n",
      "rotation angle (deg): [0]\n",
      "threshold ge: 0\n"
     ]
    },
    {
     "data": {
      "application/vnd.jupyter.widget-view+json": {
       "model_id": "d6fcba90729b486eaf84705751efbb9c",
       "version_major": 2,
       "version_minor": 0
      },
      "text/plain": [
       "  0%|          | 0/50 [00:00<?, ?it/s]"
      ]
     },
     "metadata": {},
     "output_type": "display_data"
    },
    {
     "name": "stdout",
     "output_type": "stream",
     "text": [
      "Saving H:\\Shared drives\\SLab\\Multimode\\experiment\\240911\\data1\\01034_SingleBeamSplitterRB_stor_ramsey_spec.h5\n",
      "Index: 4 depth. = 29 \n",
      "{'pre_sweep_pulse': [['qubit', 'ge', 'hpi', 0], ['qubit', 'ef', 'pi', 0], ['man', 'M1', 'pi', 0], ['storage', 'M1-S7', 'pi', 0]], 'post_sweep_pulse': [['storage', 'M1-S7', 'pi', 0], ['man', 'M1', 'pi', 0], ['qubit', 'ef', 'pi', 0], ['qubit', 'ge', 'hpi', 5540.400000000001]], 'wait_freq': 1.05, 'prepulse': True, 'postpulse': True, 'rb_time': 'None', 'bs_gate_num': 'None', 'qubits': [0], 'calibrate_single_shot': False, 'singleshot_reps': 10000, 'span': 500, 'active_reset': True, 'man_reset': True, 'storage_reset': True, 'threshold': -39.769721213292996, 'readout_per_round': 4, 'prep_man_photon': True, 'rb_active_reset': True, 'rb_man_reset': True, 'rb_storage_reset': True, 'rb_reps': 300, 'gates_per_wait': 100000, 'rounds': 1, 'variations': 50, 'rb_depth': 29, 'IRB_gate_no': -1, 'bs_repeat': 1, 'sync': False, 'setup': False, 'bs_para': [349.415, 3000, 0.48857142857142855, 0.005]}\n",
      "ge fidelity (%): 0\n",
      "rotation angle (deg): [0]\n",
      "threshold ge: 0\n"
     ]
    },
    {
     "data": {
      "application/vnd.jupyter.widget-view+json": {
       "model_id": "87f44410cd874d4fa1966fcbc640dbc5",
       "version_major": 2,
       "version_minor": 0
      },
      "text/plain": [
       "  0%|          | 0/50 [00:00<?, ?it/s]"
      ]
     },
     "metadata": {},
     "output_type": "display_data"
    },
    {
     "name": "stdout",
     "output_type": "stream",
     "text": [
      "Saving H:\\Shared drives\\SLab\\Multimode\\experiment\\240911\\data1\\01035_SingleBeamSplitterRB_stor_ramsey_spec.h5\n",
      "Index: 5 depth. = 36 \n",
      "{'pre_sweep_pulse': [['qubit', 'ge', 'hpi', 0], ['qubit', 'ef', 'pi', 0], ['man', 'M1', 'pi', 0], ['storage', 'M1-S7', 'pi', 0]], 'post_sweep_pulse': [['storage', 'M1-S7', 'pi', 0], ['man', 'M1', 'pi', 0], ['qubit', 'ef', 'pi', 0], ['qubit', 'ge', 'hpi', 7571.880000000005]], 'wait_freq': 1.05, 'prepulse': True, 'postpulse': True, 'rb_time': 'None', 'bs_gate_num': 'None', 'qubits': [0], 'calibrate_single_shot': False, 'singleshot_reps': 10000, 'span': 500, 'active_reset': True, 'man_reset': True, 'storage_reset': True, 'threshold': -39.769721213292996, 'readout_per_round': 4, 'prep_man_photon': True, 'rb_active_reset': True, 'rb_man_reset': True, 'rb_storage_reset': True, 'rb_reps': 300, 'gates_per_wait': 100000, 'rounds': 1, 'variations': 50, 'rb_depth': 36, 'IRB_gate_no': -1, 'bs_repeat': 1, 'sync': False, 'setup': False, 'bs_para': [349.415, 3000, 0.48857142857142855, 0.005]}\n",
      "ge fidelity (%): 0\n",
      "rotation angle (deg): [0]\n",
      "threshold ge: 0\n"
     ]
    },
    {
     "data": {
      "application/vnd.jupyter.widget-view+json": {
       "model_id": "aba5cd738da1416cb591bb316bb1fd2d",
       "version_major": 2,
       "version_minor": 0
      },
      "text/plain": [
       "  0%|          | 0/50 [00:00<?, ?it/s]"
      ]
     },
     "metadata": {},
     "output_type": "display_data"
    },
    {
     "name": "stdout",
     "output_type": "stream",
     "text": [
      "Saving H:\\Shared drives\\SLab\\Multimode\\experiment\\240911\\data1\\01036_SingleBeamSplitterRB_stor_ramsey_spec.h5\n",
      "Index: 6 depth. = 43 \n",
      "{'pre_sweep_pulse': [['qubit', 'ge', 'hpi', 0], ['qubit', 'ef', 'pi', 0], ['man', 'M1', 'pi', 0], ['storage', 'M1-S7', 'pi', 0]], 'post_sweep_pulse': [['storage', 'M1-S7', 'pi', 0], ['man', 'M1', 'pi', 0], ['qubit', 'ef', 'pi', 0], ['qubit', 'ge', 'hpi', 8864.640000000007]], 'wait_freq': 1.05, 'prepulse': True, 'postpulse': True, 'rb_time': 'None', 'bs_gate_num': 'None', 'qubits': [0], 'calibrate_single_shot': False, 'singleshot_reps': 10000, 'span': 500, 'active_reset': True, 'man_reset': True, 'storage_reset': True, 'threshold': -39.769721213292996, 'readout_per_round': 4, 'prep_man_photon': True, 'rb_active_reset': True, 'rb_man_reset': True, 'rb_storage_reset': True, 'rb_reps': 300, 'gates_per_wait': 100000, 'rounds': 1, 'variations': 50, 'rb_depth': 43, 'IRB_gate_no': -1, 'bs_repeat': 1, 'sync': False, 'setup': False, 'bs_para': [349.415, 3000, 0.48857142857142855, 0.005]}\n",
      "ge fidelity (%): 0\n",
      "rotation angle (deg): [0]\n",
      "threshold ge: 0\n"
     ]
    },
    {
     "data": {
      "application/vnd.jupyter.widget-view+json": {
       "model_id": "bcc6ac5613fd456a96eddba08e8f8f93",
       "version_major": 2,
       "version_minor": 0
      },
      "text/plain": [
       "  0%|          | 0/50 [00:00<?, ?it/s]"
      ]
     },
     "metadata": {},
     "output_type": "display_data"
    },
    {
     "name": "stdout",
     "output_type": "stream",
     "text": [
      "Saving H:\\Shared drives\\SLab\\Multimode\\experiment\\240911\\data1\\01037_SingleBeamSplitterRB_stor_ramsey_spec.h5\n",
      "Index: 7 depth. = 50 \n",
      "{'pre_sweep_pulse': [['qubit', 'ge', 'hpi', 0], ['qubit', 'ef', 'pi', 0], ['man', 'M1', 'pi', 0], ['storage', 'M1-S7', 'pi', 0]], 'post_sweep_pulse': [['storage', 'M1-S7', 'pi', 0], ['man', 'M1', 'pi', 0], ['qubit', 'ef', 'pi', 0], ['qubit', 'ge', 'hpi', 11080.800000000008]], 'wait_freq': 1.05, 'prepulse': True, 'postpulse': True, 'rb_time': 'None', 'bs_gate_num': 'None', 'qubits': [0], 'calibrate_single_shot': False, 'singleshot_reps': 10000, 'span': 500, 'active_reset': True, 'man_reset': True, 'storage_reset': True, 'threshold': -39.769721213292996, 'readout_per_round': 4, 'prep_man_photon': True, 'rb_active_reset': True, 'rb_man_reset': True, 'rb_storage_reset': True, 'rb_reps': 300, 'gates_per_wait': 100000, 'rounds': 1, 'variations': 50, 'rb_depth': 50, 'IRB_gate_no': -1, 'bs_repeat': 1, 'sync': False, 'setup': False, 'bs_para': [349.415, 3000, 0.48857142857142855, 0.005]}\n",
      "ge fidelity (%): 0\n",
      "rotation angle (deg): [0]\n",
      "threshold ge: 0\n"
     ]
    },
    {
     "data": {
      "application/vnd.jupyter.widget-view+json": {
       "model_id": "bbe3462afd6c4ce38803e8e29585b0d0",
       "version_major": 2,
       "version_minor": 0
      },
      "text/plain": [
       "  0%|          | 0/50 [00:00<?, ?it/s]"
      ]
     },
     "metadata": {},
     "output_type": "display_data"
    },
    {
     "name": "stdout",
     "output_type": "stream",
     "text": [
      "Saving H:\\Shared drives\\SLab\\Multimode\\experiment\\240911\\data1\\01038_SingleBeamSplitterRB_stor_ramsey_spec.h5\n",
      "Index: 8 depth. = 57 \n",
      "{'pre_sweep_pulse': [['qubit', 'ge', 'hpi', 0], ['qubit', 'ef', 'pi', 0], ['man', 'M1', 'pi', 0], ['storage', 'M1-S7', 'pi', 0]], 'post_sweep_pulse': [['storage', 'M1-S7', 'pi', 0], ['man', 'M1', 'pi', 0], ['qubit', 'ef', 'pi', 0], ['qubit', 'ge', 'hpi', 12927.60000000001]], 'wait_freq': 1.05, 'prepulse': True, 'postpulse': True, 'rb_time': 'None', 'bs_gate_num': 'None', 'qubits': [0], 'calibrate_single_shot': False, 'singleshot_reps': 10000, 'span': 500, 'active_reset': True, 'man_reset': True, 'storage_reset': True, 'threshold': -39.769721213292996, 'readout_per_round': 4, 'prep_man_photon': True, 'rb_active_reset': True, 'rb_man_reset': True, 'rb_storage_reset': True, 'rb_reps': 300, 'gates_per_wait': 100000, 'rounds': 1, 'variations': 50, 'rb_depth': 57, 'IRB_gate_no': -1, 'bs_repeat': 1, 'sync': False, 'setup': False, 'bs_para': [349.415, 3000, 0.48857142857142855, 0.005]}\n",
      "ge fidelity (%): 0\n",
      "rotation angle (deg): [0]\n",
      "threshold ge: 0\n"
     ]
    },
    {
     "data": {
      "application/vnd.jupyter.widget-view+json": {
       "model_id": "13a2f4ab8a674afa944c6b5dd4295074",
       "version_major": 2,
       "version_minor": 0
      },
      "text/plain": [
       "  0%|          | 0/50 [00:00<?, ?it/s]"
      ]
     },
     "metadata": {},
     "output_type": "display_data"
    },
    {
     "name": "stdout",
     "output_type": "stream",
     "text": [
      "Saving H:\\Shared drives\\SLab\\Multimode\\experiment\\240911\\data1\\01039_SingleBeamSplitterRB_stor_ramsey_spec.h5\n",
      "Index: 9 depth. = 64 \n",
      "{'pre_sweep_pulse': [['qubit', 'ge', 'hpi', 0], ['qubit', 'ef', 'pi', 0], ['man', 'M1', 'pi', 0], ['storage', 'M1-S7', 'pi', 0]], 'post_sweep_pulse': [['storage', 'M1-S7', 'pi', 0], ['man', 'M1', 'pi', 0], ['qubit', 'ef', 'pi', 0], ['qubit', 'ge', 'hpi', 15328.440000000008]], 'wait_freq': 1.05, 'prepulse': True, 'postpulse': True, 'rb_time': 'None', 'bs_gate_num': 'None', 'qubits': [0], 'calibrate_single_shot': False, 'singleshot_reps': 10000, 'span': 500, 'active_reset': True, 'man_reset': True, 'storage_reset': True, 'threshold': -39.769721213292996, 'readout_per_round': 4, 'prep_man_photon': True, 'rb_active_reset': True, 'rb_man_reset': True, 'rb_storage_reset': True, 'rb_reps': 300, 'gates_per_wait': 100000, 'rounds': 1, 'variations': 50, 'rb_depth': 64, 'IRB_gate_no': -1, 'bs_repeat': 1, 'sync': False, 'setup': False, 'bs_para': [349.415, 3000, 0.48857142857142855, 0.005]}\n",
      "ge fidelity (%): 0\n",
      "rotation angle (deg): [0]\n",
      "threshold ge: 0\n"
     ]
    },
    {
     "data": {
      "application/vnd.jupyter.widget-view+json": {
       "model_id": "5d14efe2028c4131a9f9a75868cba577",
       "version_major": 2,
       "version_minor": 0
      },
      "text/plain": [
       "  0%|          | 0/50 [00:00<?, ?it/s]"
      ]
     },
     "metadata": {},
     "output_type": "display_data"
    },
    {
     "name": "stdout",
     "output_type": "stream",
     "text": [
      "Saving H:\\Shared drives\\SLab\\Multimode\\experiment\\240911\\data1\\01040_SingleBeamSplitterRB_stor_ramsey_spec.h5\n",
      "Index: 10 depth. = 71 \n",
      "{'pre_sweep_pulse': [['qubit', 'ge', 'hpi', 0], ['qubit', 'ef', 'pi', 0], ['man', 'M1', 'pi', 0], ['storage', 'M1-S7', 'pi', 0]], 'post_sweep_pulse': [['storage', 'M1-S7', 'pi', 0], ['man', 'M1', 'pi', 0], ['qubit', 'ef', 'pi', 0], ['qubit', 'ge', 'hpi', 16251.840000000004]], 'wait_freq': 1.05, 'prepulse': True, 'postpulse': True, 'rb_time': 'None', 'bs_gate_num': 'None', 'qubits': [0], 'calibrate_single_shot': False, 'singleshot_reps': 10000, 'span': 500, 'active_reset': True, 'man_reset': True, 'storage_reset': True, 'threshold': -39.769721213292996, 'readout_per_round': 4, 'prep_man_photon': True, 'rb_active_reset': True, 'rb_man_reset': True, 'rb_storage_reset': True, 'rb_reps': 300, 'gates_per_wait': 100000, 'rounds': 1, 'variations': 50, 'rb_depth': 71, 'IRB_gate_no': -1, 'bs_repeat': 1, 'sync': False, 'setup': False, 'bs_para': [349.415, 3000, 0.48857142857142855, 0.005]}\n",
      "ge fidelity (%): 0\n",
      "rotation angle (deg): [0]\n",
      "threshold ge: 0\n"
     ]
    },
    {
     "data": {
      "application/vnd.jupyter.widget-view+json": {
       "model_id": "f7159197e3c248b4935ccf0b24524fa9",
       "version_major": 2,
       "version_minor": 0
      },
      "text/plain": [
       "  0%|          | 0/50 [00:00<?, ?it/s]"
      ]
     },
     "metadata": {},
     "output_type": "display_data"
    },
    {
     "name": "stdout",
     "output_type": "stream",
     "text": [
      "Saving H:\\Shared drives\\SLab\\Multimode\\experiment\\240911\\data1\\01041_SingleBeamSplitterRB_stor_ramsey_spec.h5\n",
      "Index: 11 depth. = 78 \n",
      "{'pre_sweep_pulse': [['qubit', 'ge', 'hpi', 0], ['qubit', 'ef', 'pi', 0], ['man', 'M1', 'pi', 0], ['storage', 'M1-S7', 'pi', 0]], 'post_sweep_pulse': [['storage', 'M1-S7', 'pi', 0], ['man', 'M1', 'pi', 0], ['qubit', 'ef', 'pi', 0], ['qubit', 'ge', 'hpi', 18098.640000000007]], 'wait_freq': 1.05, 'prepulse': True, 'postpulse': True, 'rb_time': 'None', 'bs_gate_num': 'None', 'qubits': [0], 'calibrate_single_shot': False, 'singleshot_reps': 10000, 'span': 500, 'active_reset': True, 'man_reset': True, 'storage_reset': True, 'threshold': -39.769721213292996, 'readout_per_round': 4, 'prep_man_photon': True, 'rb_active_reset': True, 'rb_man_reset': True, 'rb_storage_reset': True, 'rb_reps': 300, 'gates_per_wait': 100000, 'rounds': 1, 'variations': 50, 'rb_depth': 78, 'IRB_gate_no': -1, 'bs_repeat': 1, 'sync': False, 'setup': False, 'bs_para': [349.415, 3000, 0.48857142857142855, 0.005]}\n",
      "ge fidelity (%): 0\n",
      "rotation angle (deg): [0]\n",
      "threshold ge: 0\n"
     ]
    },
    {
     "data": {
      "application/vnd.jupyter.widget-view+json": {
       "model_id": "a86324b43b7b46fe8921b642305cef7a",
       "version_major": 2,
       "version_minor": 0
      },
      "text/plain": [
       "  0%|          | 0/50 [00:00<?, ?it/s]"
      ]
     },
     "metadata": {},
     "output_type": "display_data"
    },
    {
     "name": "stdout",
     "output_type": "stream",
     "text": [
      "Saving H:\\Shared drives\\SLab\\Multimode\\experiment\\240911\\data1\\01042_SingleBeamSplitterRB_stor_ramsey_spec.h5\n",
      "Index: 12 depth. = 85 \n",
      "{'pre_sweep_pulse': [['qubit', 'ge', 'hpi', 0], ['qubit', 'ef', 'pi', 0], ['man', 'M1', 'pi', 0], ['storage', 'M1-S7', 'pi', 0]], 'post_sweep_pulse': [['storage', 'M1-S7', 'pi', 0], ['man', 'M1', 'pi', 0], ['qubit', 'ef', 'pi', 0], ['qubit', 'ge', 'hpi', 19576.079999999994]], 'wait_freq': 1.05, 'prepulse': True, 'postpulse': True, 'rb_time': 'None', 'bs_gate_num': 'None', 'qubits': [0], 'calibrate_single_shot': False, 'singleshot_reps': 10000, 'span': 500, 'active_reset': True, 'man_reset': True, 'storage_reset': True, 'threshold': -39.769721213292996, 'readout_per_round': 4, 'prep_man_photon': True, 'rb_active_reset': True, 'rb_man_reset': True, 'rb_storage_reset': True, 'rb_reps': 300, 'gates_per_wait': 100000, 'rounds': 1, 'variations': 50, 'rb_depth': 85, 'IRB_gate_no': -1, 'bs_repeat': 1, 'sync': False, 'setup': False, 'bs_para': [349.415, 3000, 0.48857142857142855, 0.005]}\n",
      "ge fidelity (%): 0\n",
      "rotation angle (deg): [0]\n",
      "threshold ge: 0\n"
     ]
    },
    {
     "data": {
      "application/vnd.jupyter.widget-view+json": {
       "model_id": "484283db9f4e4a88b053f85b8db9fee4",
       "version_major": 2,
       "version_minor": 0
      },
      "text/plain": [
       "  0%|          | 0/50 [00:00<?, ?it/s]"
      ]
     },
     "metadata": {},
     "output_type": "display_data"
    },
    {
     "name": "stdout",
     "output_type": "stream",
     "text": [
      "Saving H:\\Shared drives\\SLab\\Multimode\\experiment\\240911\\data1\\01043_SingleBeamSplitterRB_stor_ramsey_spec.h5\n",
      "Index: 13 depth. = 92 \n",
      "{'pre_sweep_pulse': [['qubit', 'ge', 'hpi', 0], ['qubit', 'ef', 'pi', 0], ['man', 'M1', 'pi', 0], ['storage', 'M1-S7', 'pi', 0]], 'post_sweep_pulse': [['storage', 'M1-S7', 'pi', 0], ['man', 'M1', 'pi', 0], ['qubit', 'ef', 'pi', 0], ['qubit', 'ge', 'hpi', 21976.92]], 'wait_freq': 1.05, 'prepulse': True, 'postpulse': True, 'rb_time': 'None', 'bs_gate_num': 'None', 'qubits': [0], 'calibrate_single_shot': False, 'singleshot_reps': 10000, 'span': 500, 'active_reset': True, 'man_reset': True, 'storage_reset': True, 'threshold': -39.769721213292996, 'readout_per_round': 4, 'prep_man_photon': True, 'rb_active_reset': True, 'rb_man_reset': True, 'rb_storage_reset': True, 'rb_reps': 300, 'gates_per_wait': 100000, 'rounds': 1, 'variations': 50, 'rb_depth': 92, 'IRB_gate_no': -1, 'bs_repeat': 1, 'sync': False, 'setup': False, 'bs_para': [349.415, 3000, 0.48857142857142855, 0.005]}\n",
      "ge fidelity (%): 0\n",
      "rotation angle (deg): [0]\n",
      "threshold ge: 0\n"
     ]
    },
    {
     "data": {
      "application/vnd.jupyter.widget-view+json": {
       "model_id": "e69c809b9f904795b4597bb4aab8cb81",
       "version_major": 2,
       "version_minor": 0
      },
      "text/plain": [
       "  0%|          | 0/50 [00:00<?, ?it/s]"
      ]
     },
     "metadata": {},
     "output_type": "display_data"
    },
    {
     "name": "stdout",
     "output_type": "stream",
     "text": [
      "Saving H:\\Shared drives\\SLab\\Multimode\\experiment\\240911\\data1\\01044_SingleBeamSplitterRB_stor_ramsey_spec.h5\n",
      "Index: 14 depth. = 99 \n",
      "{'pre_sweep_pulse': [['qubit', 'ge', 'hpi', 0], ['qubit', 'ef', 'pi', 0], ['man', 'M1', 'pi', 0], ['storage', 'M1-S7', 'pi', 0]], 'post_sweep_pulse': [['storage', 'M1-S7', 'pi', 0], ['man', 'M1', 'pi', 0], ['qubit', 'ef', 'pi', 0], ['qubit', 'ge', 'hpi', 22530.95999999999]], 'wait_freq': 1.05, 'prepulse': True, 'postpulse': True, 'rb_time': 'None', 'bs_gate_num': 'None', 'qubits': [0], 'calibrate_single_shot': False, 'singleshot_reps': 10000, 'span': 500, 'active_reset': True, 'man_reset': True, 'storage_reset': True, 'threshold': -39.769721213292996, 'readout_per_round': 4, 'prep_man_photon': True, 'rb_active_reset': True, 'rb_man_reset': True, 'rb_storage_reset': True, 'rb_reps': 300, 'gates_per_wait': 100000, 'rounds': 1, 'variations': 50, 'rb_depth': 99, 'IRB_gate_no': -1, 'bs_repeat': 1, 'sync': False, 'setup': False, 'bs_para': [349.415, 3000, 0.48857142857142855, 0.005]}\n",
      "ge fidelity (%): 0\n",
      "rotation angle (deg): [0]\n",
      "threshold ge: 0\n"
     ]
    },
    {
     "data": {
      "application/vnd.jupyter.widget-view+json": {
       "model_id": "2aaf21c65da44cf6945f4c70704f4597",
       "version_major": 2,
       "version_minor": 0
      },
      "text/plain": [
       "  0%|          | 0/50 [00:00<?, ?it/s]"
      ]
     },
     "metadata": {},
     "output_type": "display_data"
    },
    {
     "name": "stdout",
     "output_type": "stream",
     "text": [
      "Saving H:\\Shared drives\\SLab\\Multimode\\experiment\\240911\\data1\\01045_SingleBeamSplitterRB_stor_ramsey_spec.h5\n",
      "Index: 15 depth. = 106 \n",
      "{'pre_sweep_pulse': [['qubit', 'ge', 'hpi', 0], ['qubit', 'ef', 'pi', 0], ['man', 'M1', 'pi', 0], ['storage', 'M1-S7', 'pi', 0]], 'post_sweep_pulse': [['storage', 'M1-S7', 'pi', 0], ['man', 'M1', 'pi', 0], ['qubit', 'ef', 'pi', 0], ['qubit', 'ge', 'hpi', 24008.399999999998]], 'wait_freq': 1.05, 'prepulse': True, 'postpulse': True, 'rb_time': 'None', 'bs_gate_num': 'None', 'qubits': [0], 'calibrate_single_shot': False, 'singleshot_reps': 10000, 'span': 500, 'active_reset': True, 'man_reset': True, 'storage_reset': True, 'threshold': -39.769721213292996, 'readout_per_round': 4, 'prep_man_photon': True, 'rb_active_reset': True, 'rb_man_reset': True, 'rb_storage_reset': True, 'rb_reps': 300, 'gates_per_wait': 100000, 'rounds': 1, 'variations': 50, 'rb_depth': 106, 'IRB_gate_no': -1, 'bs_repeat': 1, 'sync': False, 'setup': False, 'bs_para': [349.415, 3000, 0.48857142857142855, 0.005]}\n",
      "ge fidelity (%): 0\n",
      "rotation angle (deg): [0]\n",
      "threshold ge: 0\n"
     ]
    },
    {
     "data": {
      "application/vnd.jupyter.widget-view+json": {
       "model_id": "c3c43b3865ed4edb843b1de199747b90",
       "version_major": 2,
       "version_minor": 0
      },
      "text/plain": [
       "  0%|          | 0/50 [00:00<?, ?it/s]"
      ]
     },
     "metadata": {},
     "output_type": "display_data"
    },
    {
     "name": "stdout",
     "output_type": "stream",
     "text": [
      "Saving H:\\Shared drives\\SLab\\Multimode\\experiment\\240911\\data1\\01046_SingleBeamSplitterRB_stor_ramsey_spec.h5\n",
      "Index: 16 depth. = 113 \n",
      "{'pre_sweep_pulse': [['qubit', 'ge', 'hpi', 0], ['qubit', 'ef', 'pi', 0], ['man', 'M1', 'pi', 0], ['storage', 'M1-S7', 'pi', 0]], 'post_sweep_pulse': [['storage', 'M1-S7', 'pi', 0], ['man', 'M1', 'pi', 0], ['qubit', 'ef', 'pi', 0], ['qubit', 'ge', 'hpi', 25670.51999999999]], 'wait_freq': 1.05, 'prepulse': True, 'postpulse': True, 'rb_time': 'None', 'bs_gate_num': 'None', 'qubits': [0], 'calibrate_single_shot': False, 'singleshot_reps': 10000, 'span': 500, 'active_reset': True, 'man_reset': True, 'storage_reset': True, 'threshold': -39.769721213292996, 'readout_per_round': 4, 'prep_man_photon': True, 'rb_active_reset': True, 'rb_man_reset': True, 'rb_storage_reset': True, 'rb_reps': 300, 'gates_per_wait': 100000, 'rounds': 1, 'variations': 50, 'rb_depth': 113, 'IRB_gate_no': -1, 'bs_repeat': 1, 'sync': False, 'setup': False, 'bs_para': [349.415, 3000, 0.48857142857142855, 0.005]}\n",
      "ge fidelity (%): 0\n",
      "rotation angle (deg): [0]\n",
      "threshold ge: 0\n"
     ]
    },
    {
     "data": {
      "application/vnd.jupyter.widget-view+json": {
       "model_id": "6dda2bf571cf48138df91c6cc424d7f5",
       "version_major": 2,
       "version_minor": 0
      },
      "text/plain": [
       "  0%|          | 0/50 [00:00<?, ?it/s]"
      ]
     },
     "metadata": {},
     "output_type": "display_data"
    },
    {
     "name": "stdout",
     "output_type": "stream",
     "text": [
      "Saving H:\\Shared drives\\SLab\\Multimode\\experiment\\240911\\data1\\01047_SingleBeamSplitterRB_stor_ramsey_spec.h5\n",
      "Index: 17 depth. = 120 \n",
      "{'pre_sweep_pulse': [['qubit', 'ge', 'hpi', 0], ['qubit', 'ef', 'pi', 0], ['man', 'M1', 'pi', 0], ['storage', 'M1-S7', 'pi', 0]], 'post_sweep_pulse': [['storage', 'M1-S7', 'pi', 0], ['man', 'M1', 'pi', 0], ['qubit', 'ef', 'pi', 0], ['qubit', 'ge', 'hpi', 27332.639999999996]], 'wait_freq': 1.05, 'prepulse': True, 'postpulse': True, 'rb_time': 'None', 'bs_gate_num': 'None', 'qubits': [0], 'calibrate_single_shot': False, 'singleshot_reps': 10000, 'span': 500, 'active_reset': True, 'man_reset': True, 'storage_reset': True, 'threshold': -39.769721213292996, 'readout_per_round': 4, 'prep_man_photon': True, 'rb_active_reset': True, 'rb_man_reset': True, 'rb_storage_reset': True, 'rb_reps': 300, 'gates_per_wait': 100000, 'rounds': 1, 'variations': 50, 'rb_depth': 120, 'IRB_gate_no': -1, 'bs_repeat': 1, 'sync': False, 'setup': False, 'bs_para': [349.415, 3000, 0.48857142857142855, 0.005]}\n",
      "ge fidelity (%): 0\n",
      "rotation angle (deg): [0]\n",
      "threshold ge: 0\n"
     ]
    },
    {
     "data": {
      "application/vnd.jupyter.widget-view+json": {
       "model_id": "74f51a6d36a64cda8f48c0832dfc8322",
       "version_major": 2,
       "version_minor": 0
      },
      "text/plain": [
       "  0%|          | 0/50 [00:00<?, ?it/s]"
      ]
     },
     "metadata": {},
     "output_type": "display_data"
    },
    {
     "name": "stdout",
     "output_type": "stream",
     "text": [
      "Saving H:\\Shared drives\\SLab\\Multimode\\experiment\\240911\\data1\\01048_SingleBeamSplitterRB_stor_ramsey_spec.h5\n",
      "Index: 18 depth. = 127 \n",
      "{'pre_sweep_pulse': [['qubit', 'ge', 'hpi', 0], ['qubit', 'ef', 'pi', 0], ['man', 'M1', 'pi', 0], ['storage', 'M1-S7', 'pi', 0]], 'post_sweep_pulse': [['storage', 'M1-S7', 'pi', 0], ['man', 'M1', 'pi', 0], ['qubit', 'ef', 'pi', 0], ['qubit', 'ge', 'hpi', 29733.47999999998]], 'wait_freq': 1.05, 'prepulse': True, 'postpulse': True, 'rb_time': 'None', 'bs_gate_num': 'None', 'qubits': [0], 'calibrate_single_shot': False, 'singleshot_reps': 10000, 'span': 500, 'active_reset': True, 'man_reset': True, 'storage_reset': True, 'threshold': -39.769721213292996, 'readout_per_round': 4, 'prep_man_photon': True, 'rb_active_reset': True, 'rb_man_reset': True, 'rb_storage_reset': True, 'rb_reps': 300, 'gates_per_wait': 100000, 'rounds': 1, 'variations': 50, 'rb_depth': 127, 'IRB_gate_no': -1, 'bs_repeat': 1, 'sync': False, 'setup': False, 'bs_para': [349.415, 3000, 0.48857142857142855, 0.005]}\n",
      "ge fidelity (%): 0\n",
      "rotation angle (deg): [0]\n",
      "threshold ge: 0\n"
     ]
    },
    {
     "data": {
      "application/vnd.jupyter.widget-view+json": {
       "model_id": "fef62bc523504ebd92b6897d23d5764c",
       "version_major": 2,
       "version_minor": 0
      },
      "text/plain": [
       "  0%|          | 0/50 [00:00<?, ?it/s]"
      ]
     },
     "metadata": {},
     "output_type": "display_data"
    },
    {
     "name": "stdout",
     "output_type": "stream",
     "text": [
      "Saving H:\\Shared drives\\SLab\\Multimode\\experiment\\240911\\data1\\01049_SingleBeamSplitterRB_stor_ramsey_spec.h5\n",
      "Index: 19 depth. = 134 \n",
      "{'pre_sweep_pulse': [['qubit', 'ge', 'hpi', 0], ['qubit', 'ef', 'pi', 0], ['man', 'M1', 'pi', 0], ['storage', 'M1-S7', 'pi', 0]], 'post_sweep_pulse': [['storage', 'M1-S7', 'pi', 0], ['man', 'M1', 'pi', 0], ['qubit', 'ef', 'pi', 0], ['qubit', 'ge', 'hpi', 33427.07999999998]], 'wait_freq': 1.05, 'prepulse': True, 'postpulse': True, 'rb_time': 'None', 'bs_gate_num': 'None', 'qubits': [0], 'calibrate_single_shot': False, 'singleshot_reps': 10000, 'span': 500, 'active_reset': True, 'man_reset': True, 'storage_reset': True, 'threshold': -39.769721213292996, 'readout_per_round': 4, 'prep_man_photon': True, 'rb_active_reset': True, 'rb_man_reset': True, 'rb_storage_reset': True, 'rb_reps': 300, 'gates_per_wait': 100000, 'rounds': 1, 'variations': 50, 'rb_depth': 134, 'IRB_gate_no': -1, 'bs_repeat': 1, 'sync': False, 'setup': False, 'bs_para': [349.415, 3000, 0.48857142857142855, 0.005]}\n",
      "ge fidelity (%): 0\n",
      "rotation angle (deg): [0]\n",
      "threshold ge: 0\n"
     ]
    },
    {
     "data": {
      "application/vnd.jupyter.widget-view+json": {
       "model_id": "750baf78649e4fa8a0608372d4e9d7c9",
       "version_major": 2,
       "version_minor": 0
      },
      "text/plain": [
       "  0%|          | 0/50 [00:00<?, ?it/s]"
      ]
     },
     "metadata": {},
     "output_type": "display_data"
    },
    {
     "name": "stdout",
     "output_type": "stream",
     "text": [
      "Saving H:\\Shared drives\\SLab\\Multimode\\experiment\\240911\\data1\\01050_SingleBeamSplitterRB_stor_ramsey_spec.h5\n",
      "Index: 20 depth. = 141 \n",
      "{'pre_sweep_pulse': [['qubit', 'ge', 'hpi', 0], ['qubit', 'ef', 'pi', 0], ['man', 'M1', 'pi', 0], ['storage', 'M1-S7', 'pi', 0]], 'post_sweep_pulse': [['storage', 'M1-S7', 'pi', 0], ['man', 'M1', 'pi', 0], ['qubit', 'ef', 'pi', 0], ['qubit', 'ge', 'hpi', 33611.75999999998]], 'wait_freq': 1.05, 'prepulse': True, 'postpulse': True, 'rb_time': 'None', 'bs_gate_num': 'None', 'qubits': [0], 'calibrate_single_shot': False, 'singleshot_reps': 10000, 'span': 500, 'active_reset': True, 'man_reset': True, 'storage_reset': True, 'threshold': -39.769721213292996, 'readout_per_round': 4, 'prep_man_photon': True, 'rb_active_reset': True, 'rb_man_reset': True, 'rb_storage_reset': True, 'rb_reps': 300, 'gates_per_wait': 100000, 'rounds': 1, 'variations': 50, 'rb_depth': 141, 'IRB_gate_no': -1, 'bs_repeat': 1, 'sync': False, 'setup': False, 'bs_para': [349.415, 3000, 0.48857142857142855, 0.005]}\n",
      "ge fidelity (%): 0\n",
      "rotation angle (deg): [0]\n",
      "threshold ge: 0\n"
     ]
    },
    {
     "data": {
      "application/vnd.jupyter.widget-view+json": {
       "model_id": "9a86e213cc0d4479878cc130eaea332b",
       "version_major": 2,
       "version_minor": 0
      },
      "text/plain": [
       "  0%|          | 0/50 [00:00<?, ?it/s]"
      ]
     },
     "metadata": {},
     "output_type": "display_data"
    },
    {
     "name": "stdout",
     "output_type": "stream",
     "text": [
      "Saving H:\\Shared drives\\SLab\\Multimode\\experiment\\240911\\data1\\01051_SingleBeamSplitterRB_stor_ramsey_spec.h5\n",
      "Index: 21 depth. = 148 \n",
      "{'pre_sweep_pulse': [['qubit', 'ge', 'hpi', 0], ['qubit', 'ef', 'pi', 0], ['man', 'M1', 'pi', 0], ['storage', 'M1-S7', 'pi', 0]], 'post_sweep_pulse': [['storage', 'M1-S7', 'pi', 0], ['man', 'M1', 'pi', 0], ['qubit', 'ef', 'pi', 0], ['qubit', 'ge', 'hpi', 35458.560000000005]], 'wait_freq': 1.05, 'prepulse': True, 'postpulse': True, 'rb_time': 'None', 'bs_gate_num': 'None', 'qubits': [0], 'calibrate_single_shot': False, 'singleshot_reps': 10000, 'span': 500, 'active_reset': True, 'man_reset': True, 'storage_reset': True, 'threshold': -39.769721213292996, 'readout_per_round': 4, 'prep_man_photon': True, 'rb_active_reset': True, 'rb_man_reset': True, 'rb_storage_reset': True, 'rb_reps': 300, 'gates_per_wait': 100000, 'rounds': 1, 'variations': 50, 'rb_depth': 148, 'IRB_gate_no': -1, 'bs_repeat': 1, 'sync': False, 'setup': False, 'bs_para': [349.415, 3000, 0.48857142857142855, 0.005]}\n",
      "ge fidelity (%): 0\n",
      "rotation angle (deg): [0]\n",
      "threshold ge: 0\n"
     ]
    },
    {
     "data": {
      "application/vnd.jupyter.widget-view+json": {
       "model_id": "79b671262e10425aa642abc263853941",
       "version_major": 2,
       "version_minor": 0
      },
      "text/plain": [
       "  0%|          | 0/50 [00:00<?, ?it/s]"
      ]
     },
     "metadata": {},
     "output_type": "display_data"
    },
    {
     "name": "stdout",
     "output_type": "stream",
     "text": [
      "Saving H:\\Shared drives\\SLab\\Multimode\\experiment\\240911\\data1\\01052_SingleBeamSplitterRB_stor_ramsey_spec.h5\n",
      "Index: 22 depth. = 155 \n",
      "{'pre_sweep_pulse': [['qubit', 'ge', 'hpi', 0], ['qubit', 'ef', 'pi', 0], ['man', 'M1', 'pi', 0], ['storage', 'M1-S7', 'pi', 0]], 'post_sweep_pulse': [['storage', 'M1-S7', 'pi', 0], ['man', 'M1', 'pi', 0], ['qubit', 'ef', 'pi', 0], ['qubit', 'ge', 'hpi', 36012.600000000006]], 'wait_freq': 1.05, 'prepulse': True, 'postpulse': True, 'rb_time': 'None', 'bs_gate_num': 'None', 'qubits': [0], 'calibrate_single_shot': False, 'singleshot_reps': 10000, 'span': 500, 'active_reset': True, 'man_reset': True, 'storage_reset': True, 'threshold': -39.769721213292996, 'readout_per_round': 4, 'prep_man_photon': True, 'rb_active_reset': True, 'rb_man_reset': True, 'rb_storage_reset': True, 'rb_reps': 300, 'gates_per_wait': 100000, 'rounds': 1, 'variations': 50, 'rb_depth': 155, 'IRB_gate_no': -1, 'bs_repeat': 1, 'sync': False, 'setup': False, 'bs_para': [349.415, 3000, 0.48857142857142855, 0.005]}\n",
      "ge fidelity (%): 0\n",
      "rotation angle (deg): [0]\n",
      "threshold ge: 0\n"
     ]
    },
    {
     "data": {
      "application/vnd.jupyter.widget-view+json": {
       "model_id": "e4ee77680a244aba966a20a4b717bf56",
       "version_major": 2,
       "version_minor": 0
      },
      "text/plain": [
       "  0%|          | 0/50 [00:00<?, ?it/s]"
      ]
     },
     "metadata": {},
     "output_type": "display_data"
    },
    {
     "name": "stdout",
     "output_type": "stream",
     "text": [
      "Saving H:\\Shared drives\\SLab\\Multimode\\experiment\\240911\\data1\\01053_SingleBeamSplitterRB_stor_ramsey_spec.h5\n",
      "Index: 23 depth. = 162 \n",
      "{'pre_sweep_pulse': [['qubit', 'ge', 'hpi', 0], ['qubit', 'ef', 'pi', 0], ['man', 'M1', 'pi', 0], ['storage', 'M1-S7', 'pi', 0]], 'post_sweep_pulse': [['storage', 'M1-S7', 'pi', 0], ['man', 'M1', 'pi', 0], ['qubit', 'ef', 'pi', 0], ['qubit', 'ge', 'hpi', 37859.40000000001]], 'wait_freq': 1.05, 'prepulse': True, 'postpulse': True, 'rb_time': 'None', 'bs_gate_num': 'None', 'qubits': [0], 'calibrate_single_shot': False, 'singleshot_reps': 10000, 'span': 500, 'active_reset': True, 'man_reset': True, 'storage_reset': True, 'threshold': -39.769721213292996, 'readout_per_round': 4, 'prep_man_photon': True, 'rb_active_reset': True, 'rb_man_reset': True, 'rb_storage_reset': True, 'rb_reps': 300, 'gates_per_wait': 100000, 'rounds': 1, 'variations': 50, 'rb_depth': 162, 'IRB_gate_no': -1, 'bs_repeat': 1, 'sync': False, 'setup': False, 'bs_para': [349.415, 3000, 0.48857142857142855, 0.005]}\n",
      "ge fidelity (%): 0\n",
      "rotation angle (deg): [0]\n",
      "threshold ge: 0\n"
     ]
    },
    {
     "data": {
      "application/vnd.jupyter.widget-view+json": {
       "model_id": "571f7124d70440b298266ba2ee834757",
       "version_major": 2,
       "version_minor": 0
      },
      "text/plain": [
       "  0%|          | 0/50 [00:00<?, ?it/s]"
      ]
     },
     "metadata": {},
     "output_type": "display_data"
    },
    {
     "name": "stdout",
     "output_type": "stream",
     "text": [
      "Saving H:\\Shared drives\\SLab\\Multimode\\experiment\\240911\\data1\\01054_SingleBeamSplitterRB_stor_ramsey_spec.h5\n",
      "Index: 24 depth. = 169 \n",
      "{'pre_sweep_pulse': [['qubit', 'ge', 'hpi', 0], ['qubit', 'ef', 'pi', 0], ['man', 'M1', 'pi', 0], ['storage', 'M1-S7', 'pi', 0]], 'post_sweep_pulse': [['storage', 'M1-S7', 'pi', 0], ['man', 'M1', 'pi', 0], ['qubit', 'ef', 'pi', 0], ['qubit', 'ge', 'hpi', 41183.63999999999]], 'wait_freq': 1.05, 'prepulse': True, 'postpulse': True, 'rb_time': 'None', 'bs_gate_num': 'None', 'qubits': [0], 'calibrate_single_shot': False, 'singleshot_reps': 10000, 'span': 500, 'active_reset': True, 'man_reset': True, 'storage_reset': True, 'threshold': -39.769721213292996, 'readout_per_round': 4, 'prep_man_photon': True, 'rb_active_reset': True, 'rb_man_reset': True, 'rb_storage_reset': True, 'rb_reps': 300, 'gates_per_wait': 100000, 'rounds': 1, 'variations': 50, 'rb_depth': 169, 'IRB_gate_no': -1, 'bs_repeat': 1, 'sync': False, 'setup': False, 'bs_para': [349.415, 3000, 0.48857142857142855, 0.005]}\n",
      "ge fidelity (%): 0\n",
      "rotation angle (deg): [0]\n",
      "threshold ge: 0\n"
     ]
    },
    {
     "data": {
      "application/vnd.jupyter.widget-view+json": {
       "model_id": "52ba8e31cccf4da5b03b6ae258d4aad4",
       "version_major": 2,
       "version_minor": 0
      },
      "text/plain": [
       "  0%|          | 0/50 [00:00<?, ?it/s]"
      ]
     },
     "metadata": {},
     "output_type": "display_data"
    },
    {
     "name": "stdout",
     "output_type": "stream",
     "text": [
      "Saving H:\\Shared drives\\SLab\\Multimode\\experiment\\240911\\data1\\01055_SingleBeamSplitterRB_stor_ramsey_spec.h5\n",
      "Index: 25 depth. = 176 \n",
      "{'pre_sweep_pulse': [['qubit', 'ge', 'hpi', 0], ['qubit', 'ef', 'pi', 0], ['man', 'M1', 'pi', 0], ['storage', 'M1-S7', 'pi', 0]], 'post_sweep_pulse': [['storage', 'M1-S7', 'pi', 0], ['man', 'M1', 'pi', 0], ['qubit', 'ef', 'pi', 0], ['qubit', 'ge', 'hpi', 42107.04000000001]], 'wait_freq': 1.05, 'prepulse': True, 'postpulse': True, 'rb_time': 'None', 'bs_gate_num': 'None', 'qubits': [0], 'calibrate_single_shot': False, 'singleshot_reps': 10000, 'span': 500, 'active_reset': True, 'man_reset': True, 'storage_reset': True, 'threshold': -39.769721213292996, 'readout_per_round': 4, 'prep_man_photon': True, 'rb_active_reset': True, 'rb_man_reset': True, 'rb_storage_reset': True, 'rb_reps': 300, 'gates_per_wait': 100000, 'rounds': 1, 'variations': 50, 'rb_depth': 176, 'IRB_gate_no': -1, 'bs_repeat': 1, 'sync': False, 'setup': False, 'bs_para': [349.415, 3000, 0.48857142857142855, 0.005]}\n",
      "ge fidelity (%): 0\n",
      "rotation angle (deg): [0]\n",
      "threshold ge: 0\n"
     ]
    },
    {
     "data": {
      "application/vnd.jupyter.widget-view+json": {
       "model_id": "939f4c4e5fbb437fae2a3354bcc4a77f",
       "version_major": 2,
       "version_minor": 0
      },
      "text/plain": [
       "  0%|          | 0/50 [00:00<?, ?it/s]"
      ]
     },
     "metadata": {},
     "output_type": "display_data"
    },
    {
     "name": "stdout",
     "output_type": "stream",
     "text": [
      "Saving H:\\Shared drives\\SLab\\Multimode\\experiment\\240911\\data1\\01056_SingleBeamSplitterRB_stor_ramsey_spec.h5\n",
      "Index: 26 depth. = 183 \n",
      "{'pre_sweep_pulse': [['qubit', 'ge', 'hpi', 0], ['qubit', 'ef', 'pi', 0], ['man', 'M1', 'pi', 0], ['storage', 'M1-S7', 'pi', 0]], 'post_sweep_pulse': [['storage', 'M1-S7', 'pi', 0], ['man', 'M1', 'pi', 0], ['qubit', 'ef', 'pi', 0], ['qubit', 'ge', 'hpi', 42476.40000000002]], 'wait_freq': 1.05, 'prepulse': True, 'postpulse': True, 'rb_time': 'None', 'bs_gate_num': 'None', 'qubits': [0], 'calibrate_single_shot': False, 'singleshot_reps': 10000, 'span': 500, 'active_reset': True, 'man_reset': True, 'storage_reset': True, 'threshold': -39.769721213292996, 'readout_per_round': 4, 'prep_man_photon': True, 'rb_active_reset': True, 'rb_man_reset': True, 'rb_storage_reset': True, 'rb_reps': 300, 'gates_per_wait': 100000, 'rounds': 1, 'variations': 50, 'rb_depth': 183, 'IRB_gate_no': -1, 'bs_repeat': 1, 'sync': False, 'setup': False, 'bs_para': [349.415, 3000, 0.48857142857142855, 0.005]}\n",
      "ge fidelity (%): 0\n",
      "rotation angle (deg): [0]\n",
      "threshold ge: 0\n"
     ]
    },
    {
     "data": {
      "application/vnd.jupyter.widget-view+json": {
       "model_id": "cb46b06244794591b0528c759e1f7f7c",
       "version_major": 2,
       "version_minor": 0
      },
      "text/plain": [
       "  0%|          | 0/50 [00:00<?, ?it/s]"
      ]
     },
     "metadata": {},
     "output_type": "display_data"
    },
    {
     "name": "stdout",
     "output_type": "stream",
     "text": [
      "Saving H:\\Shared drives\\SLab\\Multimode\\experiment\\240911\\data1\\01057_SingleBeamSplitterRB_stor_ramsey_spec.h5\n",
      "Index: 27 depth. = 190 \n",
      "{'pre_sweep_pulse': [['qubit', 'ge', 'hpi', 0], ['qubit', 'ef', 'pi', 0], ['man', 'M1', 'pi', 0], ['storage', 'M1-S7', 'pi', 0]], 'post_sweep_pulse': [['storage', 'M1-S7', 'pi', 0], ['man', 'M1', 'pi', 0], ['qubit', 'ef', 'pi', 0], ['qubit', 'ge', 'hpi', 45985.319999999985]], 'wait_freq': 1.05, 'prepulse': True, 'postpulse': True, 'rb_time': 'None', 'bs_gate_num': 'None', 'qubits': [0], 'calibrate_single_shot': False, 'singleshot_reps': 10000, 'span': 500, 'active_reset': True, 'man_reset': True, 'storage_reset': True, 'threshold': -39.769721213292996, 'readout_per_round': 4, 'prep_man_photon': True, 'rb_active_reset': True, 'rb_man_reset': True, 'rb_storage_reset': True, 'rb_reps': 300, 'gates_per_wait': 100000, 'rounds': 1, 'variations': 50, 'rb_depth': 190, 'IRB_gate_no': -1, 'bs_repeat': 1, 'sync': False, 'setup': False, 'bs_para': [349.415, 3000, 0.48857142857142855, 0.005]}\n",
      "ge fidelity (%): 0\n",
      "rotation angle (deg): [0]\n",
      "threshold ge: 0\n"
     ]
    },
    {
     "data": {
      "application/vnd.jupyter.widget-view+json": {
       "model_id": "0363211e91c1426897bc4d2178c00bc4",
       "version_major": 2,
       "version_minor": 0
      },
      "text/plain": [
       "  0%|          | 0/50 [00:00<?, ?it/s]"
      ]
     },
     "metadata": {},
     "output_type": "display_data"
    },
    {
     "name": "stdout",
     "output_type": "stream",
     "text": [
      "Saving H:\\Shared drives\\SLab\\Multimode\\experiment\\240911\\data1\\01058_SingleBeamSplitterRB_stor_ramsey_spec.h5\n",
      "Index: 28 depth. = 197 \n",
      "{'pre_sweep_pulse': [['qubit', 'ge', 'hpi', 0], ['qubit', 'ef', 'pi', 0], ['man', 'M1', 'pi', 0], ['storage', 'M1-S7', 'pi', 0]], 'post_sweep_pulse': [['storage', 'M1-S7', 'pi', 0], ['man', 'M1', 'pi', 0], ['qubit', 'ef', 'pi', 0], ['qubit', 'ge', 'hpi', 48201.48]], 'wait_freq': 1.05, 'prepulse': True, 'postpulse': True, 'rb_time': 'None', 'bs_gate_num': 'None', 'qubits': [0], 'calibrate_single_shot': False, 'singleshot_reps': 10000, 'span': 500, 'active_reset': True, 'man_reset': True, 'storage_reset': True, 'threshold': -39.769721213292996, 'readout_per_round': 4, 'prep_man_photon': True, 'rb_active_reset': True, 'rb_man_reset': True, 'rb_storage_reset': True, 'rb_reps': 300, 'gates_per_wait': 100000, 'rounds': 1, 'variations': 50, 'rb_depth': 197, 'IRB_gate_no': -1, 'bs_repeat': 1, 'sync': False, 'setup': False, 'bs_para': [349.415, 3000, 0.48857142857142855, 0.005]}\n",
      "ge fidelity (%): 0\n",
      "rotation angle (deg): [0]\n",
      "threshold ge: 0\n"
     ]
    },
    {
     "data": {
      "application/vnd.jupyter.widget-view+json": {
       "model_id": "0c81cbc046944ef2bd1016d856962314",
       "version_major": 2,
       "version_minor": 0
      },
      "text/plain": [
       "  0%|          | 0/50 [00:00<?, ?it/s]"
      ]
     },
     "metadata": {},
     "output_type": "display_data"
    },
    {
     "name": "stdout",
     "output_type": "stream",
     "text": [
      "Saving H:\\Shared drives\\SLab\\Multimode\\experiment\\240911\\data1\\01059_SingleBeamSplitterRB_stor_ramsey_spec.h5\n",
      "Index: 29 depth. = 204 \n",
      "{'pre_sweep_pulse': [['qubit', 'ge', 'hpi', 0], ['qubit', 'ef', 'pi', 0], ['man', 'M1', 'pi', 0], ['storage', 'M1-S7', 'pi', 0]], 'post_sweep_pulse': [['storage', 'M1-S7', 'pi', 0], ['man', 'M1', 'pi', 0], ['qubit', 'ef', 'pi', 0], ['qubit', 'ge', 'hpi', 48755.52000000002]], 'wait_freq': 1.05, 'prepulse': True, 'postpulse': True, 'rb_time': 'None', 'bs_gate_num': 'None', 'qubits': [0], 'calibrate_single_shot': False, 'singleshot_reps': 10000, 'span': 500, 'active_reset': True, 'man_reset': True, 'storage_reset': True, 'threshold': -39.769721213292996, 'readout_per_round': 4, 'prep_man_photon': True, 'rb_active_reset': True, 'rb_man_reset': True, 'rb_storage_reset': True, 'rb_reps': 300, 'gates_per_wait': 100000, 'rounds': 1, 'variations': 50, 'rb_depth': 204, 'IRB_gate_no': -1, 'bs_repeat': 1, 'sync': False, 'setup': False, 'bs_para': [349.415, 3000, 0.48857142857142855, 0.005]}\n",
      "ge fidelity (%): 0\n",
      "rotation angle (deg): [0]\n",
      "threshold ge: 0\n"
     ]
    },
    {
     "data": {
      "application/vnd.jupyter.widget-view+json": {
       "model_id": "28e5a81d9ae740668c1304c18c940d7a",
       "version_major": 2,
       "version_minor": 0
      },
      "text/plain": [
       "  0%|          | 0/50 [00:00<?, ?it/s]"
      ]
     },
     "metadata": {},
     "output_type": "display_data"
    },
    {
     "name": "stdout",
     "output_type": "stream",
     "text": [
      "Saving H:\\Shared drives\\SLab\\Multimode\\experiment\\240911\\data1\\01060_SingleBeamSplitterRB_stor_ramsey_spec.h5\n",
      "-------------------------------------------------\n",
      "Index: 0 Storage = 7, Spectator = 2 \n",
      "Index: 0 depth. = 1 \n",
      "{'pre_sweep_pulse': [['qubit', 'ge', 'hpi', 0], ['qubit', 'ef', 'pi', 0], ['man', 'M1', 'pi', 0], ['storage', 'M1-S7', 'pi', 0]], 'post_sweep_pulse': [['storage', 'M1-S7', 'pi', 0], ['man', 'M1', 'pi', 0], ['qubit', 'ef', 'pi', 0], ['qubit', 'ge', 'hpi', 50787.000000000015]], 'wait_freq': 2.2, 'prepulse': True, 'postpulse': True, 'rb_time': 'None', 'bs_gate_num': 'None', 'qubits': [0], 'calibrate_single_shot': True, 'singleshot_reps': 10000, 'span': 500, 'active_reset': True, 'man_reset': True, 'storage_reset': True, 'threshold': -39.769721213292996, 'readout_per_round': 4, 'prep_man_photon': True, 'rb_active_reset': True, 'rb_man_reset': True, 'rb_storage_reset': True, 'rb_reps': 300, 'gates_per_wait': 100000, 'rounds': 1, 'variations': 50, 'rb_depth': 1, 'IRB_gate_no': -1, 'bs_repeat': 1, 'sync': False, 'setup': False, 'bs_para': [520.925, 5000, 0.565451994946885, 0.005]}\n",
      "sscfg active reset True\n",
      "9870\n",
      "9889\n",
      "ge fidelity (%): 98.24910641730821\n",
      "rotation angle (deg): -0.1627299233262696\n",
      "threshold ge: 10.131121462802525\n"
     ]
    },
    {
     "data": {
      "application/vnd.jupyter.widget-view+json": {
       "model_id": "8bc7bf674f534fd595e085ad0dd9ddbb",
       "version_major": 2,
       "version_minor": 0
      },
      "text/plain": [
       "  0%|          | 0/50 [00:00<?, ?it/s]"
      ]
     },
     "metadata": {},
     "output_type": "display_data"
    },
    {
     "name": "stdout",
     "output_type": "stream",
     "text": [
      "Saving H:\\Shared drives\\SLab\\Multimode\\experiment\\240911\\data1\\01061_SingleBeamSplitterRB_stor_ramsey_spec.h5\n",
      "Index: 1 depth. = 8 \n",
      "{'pre_sweep_pulse': [['qubit', 'ge', 'hpi', 0], ['qubit', 'ef', 'pi', 0], ['man', 'M1', 'pi', 0], ['storage', 'M1-S7', 'pi', 0]], 'post_sweep_pulse': [['storage', 'M1-S7', 'pi', 0], ['man', 'M1', 'pi', 0], ['qubit', 'ef', 'pi', 0], ['qubit', 'ge', 'hpi', 895.6759599958659]], 'wait_freq': 2.2, 'prepulse': True, 'postpulse': True, 'rb_time': 'None', 'bs_gate_num': 'None', 'qubits': [0], 'calibrate_single_shot': False, 'singleshot_reps': 10000, 'span': 500, 'active_reset': True, 'man_reset': True, 'storage_reset': True, 'threshold': -39.769721213292996, 'readout_per_round': 4, 'prep_man_photon': True, 'rb_active_reset': True, 'rb_man_reset': True, 'rb_storage_reset': True, 'rb_reps': 300, 'gates_per_wait': 100000, 'rounds': 1, 'variations': 50, 'rb_depth': 8, 'IRB_gate_no': -1, 'bs_repeat': 1, 'sync': False, 'setup': False, 'bs_para': [520.925, 5000, 0.565451994946885, 0.005]}\n",
      "ge fidelity (%): 0\n",
      "rotation angle (deg): [0]\n",
      "threshold ge: 0\n"
     ]
    },
    {
     "data": {
      "application/vnd.jupyter.widget-view+json": {
       "model_id": "1fd3bc56e5fc4f6f8ac45ffa40e599d0",
       "version_major": 2,
       "version_minor": 0
      },
      "text/plain": [
       "  0%|          | 0/50 [00:00<?, ?it/s]"
      ]
     },
     "metadata": {},
     "output_type": "display_data"
    },
    {
     "name": "stdout",
     "output_type": "stream",
     "text": [
      "Saving H:\\Shared drives\\SLab\\Multimode\\experiment\\240911\\data1\\01062_SingleBeamSplitterRB_stor_ramsey_spec.h5\n",
      "Index: 2 depth. = 15 \n",
      "{'pre_sweep_pulse': [['qubit', 'ge', 'hpi', 0], ['qubit', 'ef', 'pi', 0], ['man', 'M1', 'pi', 0], ['storage', 'M1-S7', 'pi', 0]], 'post_sweep_pulse': [['storage', 'M1-S7', 'pi', 0], ['man', 'M1', 'pi', 0], ['qubit', 'ef', 'pi', 0], ['qubit', 'ge', 'hpi', 5821.893739973129]], 'wait_freq': 2.2, 'prepulse': True, 'postpulse': True, 'rb_time': 'None', 'bs_gate_num': 'None', 'qubits': [0], 'calibrate_single_shot': False, 'singleshot_reps': 10000, 'span': 500, 'active_reset': True, 'man_reset': True, 'storage_reset': True, 'threshold': -39.769721213292996, 'readout_per_round': 4, 'prep_man_photon': True, 'rb_active_reset': True, 'rb_man_reset': True, 'rb_storage_reset': True, 'rb_reps': 300, 'gates_per_wait': 100000, 'rounds': 1, 'variations': 50, 'rb_depth': 15, 'IRB_gate_no': -1, 'bs_repeat': 1, 'sync': False, 'setup': False, 'bs_para': [520.925, 5000, 0.565451994946885, 0.005]}\n",
      "ge fidelity (%): 0\n",
      "rotation angle (deg): [0]\n",
      "threshold ge: 0\n"
     ]
    },
    {
     "data": {
      "application/vnd.jupyter.widget-view+json": {
       "model_id": "3ea6a5ed1eab4a57882b16c51e63e626",
       "version_major": 2,
       "version_minor": 0
      },
      "text/plain": [
       "  0%|          | 0/50 [00:00<?, ?it/s]"
      ]
     },
     "metadata": {},
     "output_type": "display_data"
    },
    {
     "name": "stdout",
     "output_type": "stream",
     "text": [
      "Saving H:\\Shared drives\\SLab\\Multimode\\experiment\\240911\\data1\\01063_SingleBeamSplitterRB_stor_ramsey_spec.h5\n",
      "Index: 3 depth. = 22 \n",
      "{'pre_sweep_pulse': [['qubit', 'ge', 'hpi', 0], ['qubit', 'ef', 'pi', 0], ['man', 'M1', 'pi', 0], ['storage', 'M1-S7', 'pi', 0]], 'post_sweep_pulse': [['storage', 'M1-S7', 'pi', 0], ['man', 'M1', 'pi', 0], ['qubit', 'ef', 'pi', 0], ['qubit', 'ge', 'hpi', 10300.27353995246]], 'wait_freq': 2.2, 'prepulse': True, 'postpulse': True, 'rb_time': 'None', 'bs_gate_num': 'None', 'qubits': [0], 'calibrate_single_shot': False, 'singleshot_reps': 10000, 'span': 500, 'active_reset': True, 'man_reset': True, 'storage_reset': True, 'threshold': -39.769721213292996, 'readout_per_round': 4, 'prep_man_photon': True, 'rb_active_reset': True, 'rb_man_reset': True, 'rb_storage_reset': True, 'rb_reps': 300, 'gates_per_wait': 100000, 'rounds': 1, 'variations': 50, 'rb_depth': 22, 'IRB_gate_no': -1, 'bs_repeat': 1, 'sync': False, 'setup': False, 'bs_para': [520.925, 5000, 0.565451994946885, 0.005]}\n",
      "ge fidelity (%): 0\n",
      "rotation angle (deg): [0]\n",
      "threshold ge: 0\n"
     ]
    },
    {
     "data": {
      "application/vnd.jupyter.widget-view+json": {
       "model_id": "9f7e0633949240359f7befae7b5b6c2a",
       "version_major": 2,
       "version_minor": 0
      },
      "text/plain": [
       "  0%|          | 0/50 [00:00<?, ?it/s]"
      ]
     },
     "metadata": {},
     "output_type": "display_data"
    },
    {
     "name": "stdout",
     "output_type": "stream",
     "text": [
      "Saving H:\\Shared drives\\SLab\\Multimode\\experiment\\240911\\data1\\01064_SingleBeamSplitterRB_stor_ramsey_spec.h5\n",
      "Index: 4 depth. = 29 \n",
      "{'pre_sweep_pulse': [['qubit', 'ge', 'hpi', 0], ['qubit', 'ef', 'pi', 0], ['man', 'M1', 'pi', 0], ['storage', 'M1-S7', 'pi', 0]], 'post_sweep_pulse': [['storage', 'M1-S7', 'pi', 0], ['man', 'M1', 'pi', 0], ['qubit', 'ef', 'pi', 0], ['qubit', 'ge', 'hpi', 13435.139399937992]], 'wait_freq': 2.2, 'prepulse': True, 'postpulse': True, 'rb_time': 'None', 'bs_gate_num': 'None', 'qubits': [0], 'calibrate_single_shot': False, 'singleshot_reps': 10000, 'span': 500, 'active_reset': True, 'man_reset': True, 'storage_reset': True, 'threshold': -39.769721213292996, 'readout_per_round': 4, 'prep_man_photon': True, 'rb_active_reset': True, 'rb_man_reset': True, 'rb_storage_reset': True, 'rb_reps': 300, 'gates_per_wait': 100000, 'rounds': 1, 'variations': 50, 'rb_depth': 29, 'IRB_gate_no': -1, 'bs_repeat': 1, 'sync': False, 'setup': False, 'bs_para': [520.925, 5000, 0.565451994946885, 0.005]}\n",
      "ge fidelity (%): 0\n",
      "rotation angle (deg): [0]\n",
      "threshold ge: 0\n"
     ]
    },
    {
     "data": {
      "application/vnd.jupyter.widget-view+json": {
       "model_id": "5fac3048a9304d389b141c28a4698a28",
       "version_major": 2,
       "version_minor": 0
      },
      "text/plain": [
       "  0%|          | 0/50 [00:00<?, ?it/s]"
      ]
     },
     "metadata": {},
     "output_type": "display_data"
    },
    {
     "name": "stdout",
     "output_type": "stream",
     "text": [
      "Saving H:\\Shared drives\\SLab\\Multimode\\experiment\\240911\\data1\\01065_SingleBeamSplitterRB_stor_ramsey_spec.h5\n",
      "Index: 5 depth. = 36 \n",
      "{'pre_sweep_pulse': [['qubit', 'ge', 'hpi', 0], ['qubit', 'ef', 'pi', 0], ['man', 'M1', 'pi', 0], ['storage', 'M1-S7', 'pi', 0]], 'post_sweep_pulse': [['storage', 'M1-S7', 'pi', 0], ['man', 'M1', 'pi', 0], ['qubit', 'ef', 'pi', 0], ['qubit', 'ge', 'hpi', 17913.519199917315]], 'wait_freq': 2.2, 'prepulse': True, 'postpulse': True, 'rb_time': 'None', 'bs_gate_num': 'None', 'qubits': [0], 'calibrate_single_shot': False, 'singleshot_reps': 10000, 'span': 500, 'active_reset': True, 'man_reset': True, 'storage_reset': True, 'threshold': -39.769721213292996, 'readout_per_round': 4, 'prep_man_photon': True, 'rb_active_reset': True, 'rb_man_reset': True, 'rb_storage_reset': True, 'rb_reps': 300, 'gates_per_wait': 100000, 'rounds': 1, 'variations': 50, 'rb_depth': 36, 'IRB_gate_no': -1, 'bs_repeat': 1, 'sync': False, 'setup': False, 'bs_para': [520.925, 5000, 0.565451994946885, 0.005]}\n",
      "ge fidelity (%): 0\n",
      "rotation angle (deg): [0]\n",
      "threshold ge: 0\n"
     ]
    },
    {
     "data": {
      "application/vnd.jupyter.widget-view+json": {
       "model_id": "d59311b15338423bb7871b2e7e9dec8a",
       "version_major": 2,
       "version_minor": 0
      },
      "text/plain": [
       "  0%|          | 0/50 [00:00<?, ?it/s]"
      ]
     },
     "metadata": {},
     "output_type": "display_data"
    },
    {
     "name": "stdout",
     "output_type": "stream",
     "text": [
      "Saving H:\\Shared drives\\SLab\\Multimode\\experiment\\240911\\data1\\01066_SingleBeamSplitterRB_stor_ramsey_spec.h5\n",
      "Index: 6 depth. = 43 \n",
      "{'pre_sweep_pulse': [['qubit', 'ge', 'hpi', 0], ['qubit', 'ef', 'pi', 0], ['man', 'M1', 'pi', 0], ['storage', 'M1-S7', 'pi', 0]], 'post_sweep_pulse': [['storage', 'M1-S7', 'pi', 0], ['man', 'M1', 'pi', 0], ['qubit', 'ef', 'pi', 0], ['qubit', 'ge', 'hpi', 21944.06101989871]], 'wait_freq': 2.2, 'prepulse': True, 'postpulse': True, 'rb_time': 'None', 'bs_gate_num': 'None', 'qubits': [0], 'calibrate_single_shot': False, 'singleshot_reps': 10000, 'span': 500, 'active_reset': True, 'man_reset': True, 'storage_reset': True, 'threshold': -39.769721213292996, 'readout_per_round': 4, 'prep_man_photon': True, 'rb_active_reset': True, 'rb_man_reset': True, 'rb_storage_reset': True, 'rb_reps': 300, 'gates_per_wait': 100000, 'rounds': 1, 'variations': 50, 'rb_depth': 43, 'IRB_gate_no': -1, 'bs_repeat': 1, 'sync': False, 'setup': False, 'bs_para': [520.925, 5000, 0.565451994946885, 0.005]}\n",
      "ge fidelity (%): 0\n",
      "rotation angle (deg): [0]\n",
      "threshold ge: 0\n"
     ]
    },
    {
     "data": {
      "application/vnd.jupyter.widget-view+json": {
       "model_id": "353a0fbf54e54ac999d1dff851dcbe5a",
       "version_major": 2,
       "version_minor": 0
      },
      "text/plain": [
       "  0%|          | 0/50 [00:00<?, ?it/s]"
      ]
     },
     "metadata": {},
     "output_type": "display_data"
    },
    {
     "name": "stdout",
     "output_type": "stream",
     "text": [
      "Saving H:\\Shared drives\\SLab\\Multimode\\experiment\\240911\\data1\\01067_SingleBeamSplitterRB_stor_ramsey_spec.h5\n",
      "Index: 7 depth. = 50 \n",
      "{'pre_sweep_pulse': [['qubit', 'ge', 'hpi', 0], ['qubit', 'ef', 'pi', 0], ['man', 'M1', 'pi', 0], ['storage', 'M1-S7', 'pi', 0]], 'post_sweep_pulse': [['storage', 'M1-S7', 'pi', 0], ['man', 'M1', 'pi', 0], ['qubit', 'ef', 'pi', 0], ['qubit', 'ge', 'hpi', 28213.792739869765]], 'wait_freq': 2.2, 'prepulse': True, 'postpulse': True, 'rb_time': 'None', 'bs_gate_num': 'None', 'qubits': [0], 'calibrate_single_shot': False, 'singleshot_reps': 10000, 'span': 500, 'active_reset': True, 'man_reset': True, 'storage_reset': True, 'threshold': -39.769721213292996, 'readout_per_round': 4, 'prep_man_photon': True, 'rb_active_reset': True, 'rb_man_reset': True, 'rb_storage_reset': True, 'rb_reps': 300, 'gates_per_wait': 100000, 'rounds': 1, 'variations': 50, 'rb_depth': 50, 'IRB_gate_no': -1, 'bs_repeat': 1, 'sync': False, 'setup': False, 'bs_para': [520.925, 5000, 0.565451994946885, 0.005]}\n",
      "ge fidelity (%): 0\n",
      "rotation angle (deg): [0]\n",
      "threshold ge: 0\n"
     ]
    },
    {
     "data": {
      "application/vnd.jupyter.widget-view+json": {
       "model_id": "8f440ee72cbc47eab1b85023db7f9b43",
       "version_major": 2,
       "version_minor": 0
      },
      "text/plain": [
       "  0%|          | 0/50 [00:00<?, ?it/s]"
      ]
     },
     "metadata": {},
     "output_type": "display_data"
    },
    {
     "name": "stdout",
     "output_type": "stream",
     "text": [
      "Saving H:\\Shared drives\\SLab\\Multimode\\experiment\\240911\\data1\\01068_SingleBeamSplitterRB_stor_ramsey_spec.h5\n",
      "Index: 8 depth. = 57 \n",
      "{'pre_sweep_pulse': [['qubit', 'ge', 'hpi', 0], ['qubit', 'ef', 'pi', 0], ['man', 'M1', 'pi', 0], ['storage', 'M1-S7', 'pi', 0]], 'post_sweep_pulse': [['storage', 'M1-S7', 'pi', 0], ['man', 'M1', 'pi', 0], ['qubit', 'ef', 'pi', 0], ['qubit', 'ge', 'hpi', 29109.468699865618]], 'wait_freq': 2.2, 'prepulse': True, 'postpulse': True, 'rb_time': 'None', 'bs_gate_num': 'None', 'qubits': [0], 'calibrate_single_shot': False, 'singleshot_reps': 10000, 'span': 500, 'active_reset': True, 'man_reset': True, 'storage_reset': True, 'threshold': -39.769721213292996, 'readout_per_round': 4, 'prep_man_photon': True, 'rb_active_reset': True, 'rb_man_reset': True, 'rb_storage_reset': True, 'rb_reps': 300, 'gates_per_wait': 100000, 'rounds': 1, 'variations': 50, 'rb_depth': 57, 'IRB_gate_no': -1, 'bs_repeat': 1, 'sync': False, 'setup': False, 'bs_para': [520.925, 5000, 0.565451994946885, 0.005]}\n",
      "ge fidelity (%): 0\n",
      "rotation angle (deg): [0]\n",
      "threshold ge: 0\n"
     ]
    },
    {
     "data": {
      "application/vnd.jupyter.widget-view+json": {
       "model_id": "c0cc088a7e69452a8b44813325c04bfc",
       "version_major": 2,
       "version_minor": 0
      },
      "text/plain": [
       "  0%|          | 0/50 [00:00<?, ?it/s]"
      ]
     },
     "metadata": {},
     "output_type": "display_data"
    },
    {
     "name": "stdout",
     "output_type": "stream",
     "text": [
      "Saving H:\\Shared drives\\SLab\\Multimode\\experiment\\240911\\data1\\01069_SingleBeamSplitterRB_stor_ramsey_spec.h5\n",
      "Index: 9 depth. = 64 \n",
      "{'pre_sweep_pulse': [['qubit', 'ge', 'hpi', 0], ['qubit', 'ef', 'pi', 0], ['man', 'M1', 'pi', 0], ['storage', 'M1-S7', 'pi', 0]], 'post_sweep_pulse': [['storage', 'M1-S7', 'pi', 0], ['man', 'M1', 'pi', 0], ['qubit', 'ef', 'pi', 0], ['qubit', 'ge', 'hpi', 32244.334559851137]], 'wait_freq': 2.2, 'prepulse': True, 'postpulse': True, 'rb_time': 'None', 'bs_gate_num': 'None', 'qubits': [0], 'calibrate_single_shot': False, 'singleshot_reps': 10000, 'span': 500, 'active_reset': True, 'man_reset': True, 'storage_reset': True, 'threshold': -39.769721213292996, 'readout_per_round': 4, 'prep_man_photon': True, 'rb_active_reset': True, 'rb_man_reset': True, 'rb_storage_reset': True, 'rb_reps': 300, 'gates_per_wait': 100000, 'rounds': 1, 'variations': 50, 'rb_depth': 64, 'IRB_gate_no': -1, 'bs_repeat': 1, 'sync': False, 'setup': False, 'bs_para': [520.925, 5000, 0.565451994946885, 0.005]}\n",
      "ge fidelity (%): 0\n",
      "rotation angle (deg): [0]\n",
      "threshold ge: 0\n"
     ]
    },
    {
     "data": {
      "application/vnd.jupyter.widget-view+json": {
       "model_id": "1e6bc9cc00194325a4904f558252dcb2",
       "version_major": 2,
       "version_minor": 0
      },
      "text/plain": [
       "  0%|          | 0/50 [00:00<?, ?it/s]"
      ]
     },
     "metadata": {},
     "output_type": "display_data"
    },
    {
     "name": "stdout",
     "output_type": "stream",
     "text": [
      "Saving H:\\Shared drives\\SLab\\Multimode\\experiment\\240911\\data1\\01070_SingleBeamSplitterRB_stor_ramsey_spec.h5\n",
      "Index: 10 depth. = 71 \n",
      "{'pre_sweep_pulse': [['qubit', 'ge', 'hpi', 0], ['qubit', 'ef', 'pi', 0], ['man', 'M1', 'pi', 0], ['storage', 'M1-S7', 'pi', 0]], 'post_sweep_pulse': [['storage', 'M1-S7', 'pi', 0], ['man', 'M1', 'pi', 0], ['qubit', 'ef', 'pi', 0], ['qubit', 'ge', 'hpi', 41201.09415980979]], 'wait_freq': 2.2, 'prepulse': True, 'postpulse': True, 'rb_time': 'None', 'bs_gate_num': 'None', 'qubits': [0], 'calibrate_single_shot': False, 'singleshot_reps': 10000, 'span': 500, 'active_reset': True, 'man_reset': True, 'storage_reset': True, 'threshold': -39.769721213292996, 'readout_per_round': 4, 'prep_man_photon': True, 'rb_active_reset': True, 'rb_man_reset': True, 'rb_storage_reset': True, 'rb_reps': 300, 'gates_per_wait': 100000, 'rounds': 1, 'variations': 50, 'rb_depth': 71, 'IRB_gate_no': -1, 'bs_repeat': 1, 'sync': False, 'setup': False, 'bs_para': [520.925, 5000, 0.565451994946885, 0.005]}\n",
      "ge fidelity (%): 0\n",
      "rotation angle (deg): [0]\n",
      "threshold ge: 0\n"
     ]
    },
    {
     "data": {
      "application/vnd.jupyter.widget-view+json": {
       "model_id": "4de415aae67046778c8d2208d1228c86",
       "version_major": 2,
       "version_minor": 0
      },
      "text/plain": [
       "  0%|          | 0/50 [00:00<?, ?it/s]"
      ]
     },
     "metadata": {},
     "output_type": "display_data"
    },
    {
     "name": "stdout",
     "output_type": "stream",
     "text": [
      "Saving H:\\Shared drives\\SLab\\Multimode\\experiment\\240911\\data1\\01071_SingleBeamSplitterRB_stor_ramsey_spec.h5\n",
      "Index: 11 depth. = 78 \n",
      "{'pre_sweep_pulse': [['qubit', 'ge', 'hpi', 0], ['qubit', 'ef', 'pi', 0], ['man', 'M1', 'pi', 0], ['storage', 'M1-S7', 'pi', 0]], 'post_sweep_pulse': [['storage', 'M1-S7', 'pi', 0], ['man', 'M1', 'pi', 0], ['qubit', 'ef', 'pi', 0], ['qubit', 'ge', 'hpi', 46575.14991978497]], 'wait_freq': 2.2, 'prepulse': True, 'postpulse': True, 'rb_time': 'None', 'bs_gate_num': 'None', 'qubits': [0], 'calibrate_single_shot': False, 'singleshot_reps': 10000, 'span': 500, 'active_reset': True, 'man_reset': True, 'storage_reset': True, 'threshold': -39.769721213292996, 'readout_per_round': 4, 'prep_man_photon': True, 'rb_active_reset': True, 'rb_man_reset': True, 'rb_storage_reset': True, 'rb_reps': 300, 'gates_per_wait': 100000, 'rounds': 1, 'variations': 50, 'rb_depth': 78, 'IRB_gate_no': -1, 'bs_repeat': 1, 'sync': False, 'setup': False, 'bs_para': [520.925, 5000, 0.565451994946885, 0.005]}\n",
      "ge fidelity (%): 0\n",
      "rotation angle (deg): [0]\n",
      "threshold ge: 0\n"
     ]
    },
    {
     "data": {
      "application/vnd.jupyter.widget-view+json": {
       "model_id": "f135b6ed693941eca702c432c5cc476f",
       "version_major": 2,
       "version_minor": 0
      },
      "text/plain": [
       "  0%|          | 0/50 [00:00<?, ?it/s]"
      ]
     },
     "metadata": {},
     "output_type": "display_data"
    },
    {
     "name": "stdout",
     "output_type": "stream",
     "text": [
      "Saving H:\\Shared drives\\SLab\\Multimode\\experiment\\240911\\data1\\01072_SingleBeamSplitterRB_stor_ramsey_spec.h5\n",
      "Index: 12 depth. = 85 \n",
      "{'pre_sweep_pulse': [['qubit', 'ge', 'hpi', 0], ['qubit', 'ef', 'pi', 0], ['man', 'M1', 'pi', 0], ['storage', 'M1-S7', 'pi', 0]], 'post_sweep_pulse': [['storage', 'M1-S7', 'pi', 0], ['man', 'M1', 'pi', 0], ['qubit', 'ef', 'pi', 0], ['qubit', 'ge', 'hpi', 51053.52971976429]], 'wait_freq': 2.2, 'prepulse': True, 'postpulse': True, 'rb_time': 'None', 'bs_gate_num': 'None', 'qubits': [0], 'calibrate_single_shot': False, 'singleshot_reps': 10000, 'span': 500, 'active_reset': True, 'man_reset': True, 'storage_reset': True, 'threshold': -39.769721213292996, 'readout_per_round': 4, 'prep_man_photon': True, 'rb_active_reset': True, 'rb_man_reset': True, 'rb_storage_reset': True, 'rb_reps': 300, 'gates_per_wait': 100000, 'rounds': 1, 'variations': 50, 'rb_depth': 85, 'IRB_gate_no': -1, 'bs_repeat': 1, 'sync': False, 'setup': False, 'bs_para': [520.925, 5000, 0.565451994946885, 0.005]}\n",
      "ge fidelity (%): 0\n",
      "rotation angle (deg): [0]\n",
      "threshold ge: 0\n"
     ]
    },
    {
     "data": {
      "application/vnd.jupyter.widget-view+json": {
       "model_id": "b55de5d8a19f4a7fb510cb4aedd8c175",
       "version_major": 2,
       "version_minor": 0
      },
      "text/plain": [
       "  0%|          | 0/50 [00:00<?, ?it/s]"
      ]
     },
     "metadata": {},
     "output_type": "display_data"
    },
    {
     "name": "stdout",
     "output_type": "stream",
     "text": [
      "Saving H:\\Shared drives\\SLab\\Multimode\\experiment\\240911\\data1\\01073_SingleBeamSplitterRB_stor_ramsey_spec.h5\n",
      "Index: 13 depth. = 92 \n",
      "{'pre_sweep_pulse': [['qubit', 'ge', 'hpi', 0], ['qubit', 'ef', 'pi', 0], ['man', 'M1', 'pi', 0], ['storage', 'M1-S7', 'pi', 0]], 'post_sweep_pulse': [['storage', 'M1-S7', 'pi', 0], ['man', 'M1', 'pi', 0], ['qubit', 'ef', 'pi', 0], ['qubit', 'ge', 'hpi', 49710.01577977048]], 'wait_freq': 2.2, 'prepulse': True, 'postpulse': True, 'rb_time': 'None', 'bs_gate_num': 'None', 'qubits': [0], 'calibrate_single_shot': False, 'singleshot_reps': 10000, 'span': 500, 'active_reset': True, 'man_reset': True, 'storage_reset': True, 'threshold': -39.769721213292996, 'readout_per_round': 4, 'prep_man_photon': True, 'rb_active_reset': True, 'rb_man_reset': True, 'rb_storage_reset': True, 'rb_reps': 300, 'gates_per_wait': 100000, 'rounds': 1, 'variations': 50, 'rb_depth': 92, 'IRB_gate_no': -1, 'bs_repeat': 1, 'sync': False, 'setup': False, 'bs_para': [520.925, 5000, 0.565451994946885, 0.005]}\n",
      "ge fidelity (%): 0\n",
      "rotation angle (deg): [0]\n",
      "threshold ge: 0\n"
     ]
    },
    {
     "data": {
      "application/vnd.jupyter.widget-view+json": {
       "model_id": "e1e483a92af74b19bc331f2ee49acce2",
       "version_major": 2,
       "version_minor": 0
      },
      "text/plain": [
       "  0%|          | 0/50 [00:00<?, ?it/s]"
      ]
     },
     "metadata": {},
     "output_type": "display_data"
    },
    {
     "name": "stdout",
     "output_type": "stream",
     "text": [
      "Saving H:\\Shared drives\\SLab\\Multimode\\experiment\\240911\\data1\\01074_SingleBeamSplitterRB_stor_ramsey_spec.h5\n",
      "Index: 14 depth. = 99 \n",
      "{'pre_sweep_pulse': [['qubit', 'ge', 'hpi', 0], ['qubit', 'ef', 'pi', 0], ['man', 'M1', 'pi', 0], ['storage', 'M1-S7', 'pi', 0]], 'post_sweep_pulse': [['storage', 'M1-S7', 'pi', 0], ['man', 'M1', 'pi', 0], ['qubit', 'ef', 'pi', 0], ['qubit', 'ge', 'hpi', 57323.26143973533]], 'wait_freq': 2.2, 'prepulse': True, 'postpulse': True, 'rb_time': 'None', 'bs_gate_num': 'None', 'qubits': [0], 'calibrate_single_shot': False, 'singleshot_reps': 10000, 'span': 500, 'active_reset': True, 'man_reset': True, 'storage_reset': True, 'threshold': -39.769721213292996, 'readout_per_round': 4, 'prep_man_photon': True, 'rb_active_reset': True, 'rb_man_reset': True, 'rb_storage_reset': True, 'rb_reps': 300, 'gates_per_wait': 100000, 'rounds': 1, 'variations': 50, 'rb_depth': 99, 'IRB_gate_no': -1, 'bs_repeat': 1, 'sync': False, 'setup': False, 'bs_para': [520.925, 5000, 0.565451994946885, 0.005]}\n",
      "ge fidelity (%): 0\n",
      "rotation angle (deg): [0]\n",
      "threshold ge: 0\n"
     ]
    },
    {
     "data": {
      "application/vnd.jupyter.widget-view+json": {
       "model_id": "1d4c1d0de34d4a7d9bda3f18552e7620",
       "version_major": 2,
       "version_minor": 0
      },
      "text/plain": [
       "  0%|          | 0/50 [00:00<?, ?it/s]"
      ]
     },
     "metadata": {},
     "output_type": "display_data"
    },
    {
     "name": "stdout",
     "output_type": "stream",
     "text": [
      "Saving H:\\Shared drives\\SLab\\Multimode\\experiment\\240911\\data1\\01075_SingleBeamSplitterRB_stor_ramsey_spec.h5\n",
      "Index: 15 depth. = 106 \n",
      "{'pre_sweep_pulse': [['qubit', 'ge', 'hpi', 0], ['qubit', 'ef', 'pi', 0], ['man', 'M1', 'pi', 0], ['storage', 'M1-S7', 'pi', 0]], 'post_sweep_pulse': [['storage', 'M1-S7', 'pi', 0], ['man', 'M1', 'pi', 0], ['qubit', 'ef', 'pi', 0], ['qubit', 'ge', 'hpi', 59562.45133972499]], 'wait_freq': 2.2, 'prepulse': True, 'postpulse': True, 'rb_time': 'None', 'bs_gate_num': 'None', 'qubits': [0], 'calibrate_single_shot': False, 'singleshot_reps': 10000, 'span': 500, 'active_reset': True, 'man_reset': True, 'storage_reset': True, 'threshold': -39.769721213292996, 'readout_per_round': 4, 'prep_man_photon': True, 'rb_active_reset': True, 'rb_man_reset': True, 'rb_storage_reset': True, 'rb_reps': 300, 'gates_per_wait': 100000, 'rounds': 1, 'variations': 50, 'rb_depth': 106, 'IRB_gate_no': -1, 'bs_repeat': 1, 'sync': False, 'setup': False, 'bs_para': [520.925, 5000, 0.565451994946885, 0.005]}\n",
      "ge fidelity (%): 0\n",
      "rotation angle (deg): [0]\n",
      "threshold ge: 0\n"
     ]
    },
    {
     "data": {
      "application/vnd.jupyter.widget-view+json": {
       "model_id": "fae8049d9b6144c7bc59547a4a2ba690",
       "version_major": 2,
       "version_minor": 0
      },
      "text/plain": [
       "  0%|          | 0/50 [00:00<?, ?it/s]"
      ]
     },
     "metadata": {},
     "output_type": "display_data"
    },
    {
     "name": "stdout",
     "output_type": "stream",
     "text": [
      "Saving H:\\Shared drives\\SLab\\Multimode\\experiment\\240911\\data1\\01076_SingleBeamSplitterRB_stor_ramsey_spec.h5\n",
      "Index: 16 depth. = 113 \n",
      "{'pre_sweep_pulse': [['qubit', 'ge', 'hpi', 0], ['qubit', 'ef', 'pi', 0], ['man', 'M1', 'pi', 0], ['storage', 'M1-S7', 'pi', 0]], 'post_sweep_pulse': [['storage', 'M1-S7', 'pi', 0], ['man', 'M1', 'pi', 0], ['qubit', 'ef', 'pi', 0], ['qubit', 'ge', 'hpi', 65384.3450796981]], 'wait_freq': 2.2, 'prepulse': True, 'postpulse': True, 'rb_time': 'None', 'bs_gate_num': 'None', 'qubits': [0], 'calibrate_single_shot': False, 'singleshot_reps': 10000, 'span': 500, 'active_reset': True, 'man_reset': True, 'storage_reset': True, 'threshold': -39.769721213292996, 'readout_per_round': 4, 'prep_man_photon': True, 'rb_active_reset': True, 'rb_man_reset': True, 'rb_storage_reset': True, 'rb_reps': 300, 'gates_per_wait': 100000, 'rounds': 1, 'variations': 50, 'rb_depth': 113, 'IRB_gate_no': -1, 'bs_repeat': 1, 'sync': False, 'setup': False, 'bs_para': [520.925, 5000, 0.565451994946885, 0.005]}\n",
      "ge fidelity (%): 0\n",
      "rotation angle (deg): [0]\n",
      "threshold ge: 0\n"
     ]
    },
    {
     "data": {
      "application/vnd.jupyter.widget-view+json": {
       "model_id": "00ef242acb214fbcbc3d1f4e1a792803",
       "version_major": 2,
       "version_minor": 0
      },
      "text/plain": [
       "  0%|          | 0/50 [00:00<?, ?it/s]"
      ]
     },
     "metadata": {},
     "output_type": "display_data"
    },
    {
     "name": "stdout",
     "output_type": "stream",
     "text": [
      "Saving H:\\Shared drives\\SLab\\Multimode\\experiment\\240911\\data1\\01077_SingleBeamSplitterRB_stor_ramsey_spec.h5\n",
      "Index: 17 depth. = 120 \n",
      "{'pre_sweep_pulse': [['qubit', 'ge', 'hpi', 0], ['qubit', 'ef', 'pi', 0], ['man', 'M1', 'pi', 0], ['storage', 'M1-S7', 'pi', 0]], 'post_sweep_pulse': [['storage', 'M1-S7', 'pi', 0], ['man', 'M1', 'pi', 0], ['qubit', 'ef', 'pi', 0], ['qubit', 'ge', 'hpi', 68967.04891968156]], 'wait_freq': 2.2, 'prepulse': True, 'postpulse': True, 'rb_time': 'None', 'bs_gate_num': 'None', 'qubits': [0], 'calibrate_single_shot': False, 'singleshot_reps': 10000, 'span': 500, 'active_reset': True, 'man_reset': True, 'storage_reset': True, 'threshold': -39.769721213292996, 'readout_per_round': 4, 'prep_man_photon': True, 'rb_active_reset': True, 'rb_man_reset': True, 'rb_storage_reset': True, 'rb_reps': 300, 'gates_per_wait': 100000, 'rounds': 1, 'variations': 50, 'rb_depth': 120, 'IRB_gate_no': -1, 'bs_repeat': 1, 'sync': False, 'setup': False, 'bs_para': [520.925, 5000, 0.565451994946885, 0.005]}\n",
      "ge fidelity (%): 0\n",
      "rotation angle (deg): [0]\n",
      "threshold ge: 0\n"
     ]
    },
    {
     "data": {
      "application/vnd.jupyter.widget-view+json": {
       "model_id": "b19112accc4b44b2a4589f7227e3cee2",
       "version_major": 2,
       "version_minor": 0
      },
      "text/plain": [
       "  0%|          | 0/50 [00:00<?, ?it/s]"
      ]
     },
     "metadata": {},
     "output_type": "display_data"
    },
    {
     "name": "stdout",
     "output_type": "stream",
     "text": [
      "Saving H:\\Shared drives\\SLab\\Multimode\\experiment\\240911\\data1\\01078_SingleBeamSplitterRB_stor_ramsey_spec.h5\n",
      "Index: 18 depth. = 127 \n",
      "{'pre_sweep_pulse': [['qubit', 'ge', 'hpi', 0], ['qubit', 'ef', 'pi', 0], ['man', 'M1', 'pi', 0], ['storage', 'M1-S7', 'pi', 0]], 'post_sweep_pulse': [['storage', 'M1-S7', 'pi', 0], ['man', 'M1', 'pi', 0], ['qubit', 'ef', 'pi', 0], ['qubit', 'ge', 'hpi', 72101.91477966707]], 'wait_freq': 2.2, 'prepulse': True, 'postpulse': True, 'rb_time': 'None', 'bs_gate_num': 'None', 'qubits': [0], 'calibrate_single_shot': False, 'singleshot_reps': 10000, 'span': 500, 'active_reset': True, 'man_reset': True, 'storage_reset': True, 'threshold': -39.769721213292996, 'readout_per_round': 4, 'prep_man_photon': True, 'rb_active_reset': True, 'rb_man_reset': True, 'rb_storage_reset': True, 'rb_reps': 300, 'gates_per_wait': 100000, 'rounds': 1, 'variations': 50, 'rb_depth': 127, 'IRB_gate_no': -1, 'bs_repeat': 1, 'sync': False, 'setup': False, 'bs_para': [520.925, 5000, 0.565451994946885, 0.005]}\n",
      "ge fidelity (%): 0\n",
      "rotation angle (deg): [0]\n",
      "threshold ge: 0\n"
     ]
    },
    {
     "data": {
      "application/vnd.jupyter.widget-view+json": {
       "model_id": "3b2c13ed77ac4c8682415fb9952cbdbf",
       "version_major": 2,
       "version_minor": 0
      },
      "text/plain": [
       "  0%|          | 0/50 [00:00<?, ?it/s]"
      ]
     },
     "metadata": {},
     "output_type": "display_data"
    },
    {
     "name": "stdout",
     "output_type": "stream",
     "text": [
      "Saving H:\\Shared drives\\SLab\\Multimode\\experiment\\240911\\data1\\01079_SingleBeamSplitterRB_stor_ramsey_spec.h5\n",
      "Index: 19 depth. = 134 \n",
      "{'pre_sweep_pulse': [['qubit', 'ge', 'hpi', 0], ['qubit', 'ef', 'pi', 0], ['man', 'M1', 'pi', 0], ['storage', 'M1-S7', 'pi', 0]], 'post_sweep_pulse': [['storage', 'M1-S7', 'pi', 0], ['man', 'M1', 'pi', 0], ['qubit', 'ef', 'pi', 0], ['qubit', 'ge', 'hpi', 80610.83639962776]], 'wait_freq': 2.2, 'prepulse': True, 'postpulse': True, 'rb_time': 'None', 'bs_gate_num': 'None', 'qubits': [0], 'calibrate_single_shot': False, 'singleshot_reps': 10000, 'span': 500, 'active_reset': True, 'man_reset': True, 'storage_reset': True, 'threshold': -39.769721213292996, 'readout_per_round': 4, 'prep_man_photon': True, 'rb_active_reset': True, 'rb_man_reset': True, 'rb_storage_reset': True, 'rb_reps': 300, 'gates_per_wait': 100000, 'rounds': 1, 'variations': 50, 'rb_depth': 134, 'IRB_gate_no': -1, 'bs_repeat': 1, 'sync': False, 'setup': False, 'bs_para': [520.925, 5000, 0.565451994946885, 0.005]}\n",
      "ge fidelity (%): 0\n",
      "rotation angle (deg): [0]\n",
      "threshold ge: 0\n"
     ]
    },
    {
     "data": {
      "application/vnd.jupyter.widget-view+json": {
       "model_id": "72b4da865d194b52906eaa04ea704bfc",
       "version_major": 2,
       "version_minor": 0
      },
      "text/plain": [
       "  0%|          | 0/50 [00:00<?, ?it/s]"
      ]
     },
     "metadata": {},
     "output_type": "display_data"
    },
    {
     "name": "stdout",
     "output_type": "stream",
     "text": [
      "Saving H:\\Shared drives\\SLab\\Multimode\\experiment\\240911\\data1\\01080_SingleBeamSplitterRB_stor_ramsey_spec.h5\n",
      "Index: 20 depth. = 141 \n",
      "{'pre_sweep_pulse': [['qubit', 'ge', 'hpi', 0], ['qubit', 'ef', 'pi', 0], ['man', 'M1', 'pi', 0], ['storage', 'M1-S7', 'pi', 0]], 'post_sweep_pulse': [['storage', 'M1-S7', 'pi', 0], ['man', 'M1', 'pi', 0], ['qubit', 'ef', 'pi', 0], ['qubit', 'ge', 'hpi', 74341.10467965672]], 'wait_freq': 2.2, 'prepulse': True, 'postpulse': True, 'rb_time': 'None', 'bs_gate_num': 'None', 'qubits': [0], 'calibrate_single_shot': False, 'singleshot_reps': 10000, 'span': 500, 'active_reset': True, 'man_reset': True, 'storage_reset': True, 'threshold': -39.769721213292996, 'readout_per_round': 4, 'prep_man_photon': True, 'rb_active_reset': True, 'rb_man_reset': True, 'rb_storage_reset': True, 'rb_reps': 300, 'gates_per_wait': 100000, 'rounds': 1, 'variations': 50, 'rb_depth': 141, 'IRB_gate_no': -1, 'bs_repeat': 1, 'sync': False, 'setup': False, 'bs_para': [520.925, 5000, 0.565451994946885, 0.005]}\n",
      "ge fidelity (%): 0\n",
      "rotation angle (deg): [0]\n",
      "threshold ge: 0\n"
     ]
    },
    {
     "data": {
      "application/vnd.jupyter.widget-view+json": {
       "model_id": "6f780602ecaf4b9e9ae654afa0660751",
       "version_major": 2,
       "version_minor": 0
      },
      "text/plain": [
       "  0%|          | 0/50 [00:00<?, ?it/s]"
      ]
     },
     "metadata": {},
     "output_type": "display_data"
    },
    {
     "name": "stdout",
     "output_type": "stream",
     "text": [
      "Saving H:\\Shared drives\\SLab\\Multimode\\experiment\\240911\\data1\\01081_SingleBeamSplitterRB_stor_ramsey_spec.h5\n",
      "Index: 21 depth. = 148 \n",
      "{'pre_sweep_pulse': [['qubit', 'ge', 'hpi', 0], ['qubit', 'ef', 'pi', 0], ['man', 'M1', 'pi', 0], ['storage', 'M1-S7', 'pi', 0]], 'post_sweep_pulse': [['storage', 'M1-S7', 'pi', 0], ['man', 'M1', 'pi', 0], ['qubit', 'ef', 'pi', 0], ['qubit', 'ge', 'hpi', 85537.05417960502]], 'wait_freq': 2.2, 'prepulse': True, 'postpulse': True, 'rb_time': 'None', 'bs_gate_num': 'None', 'qubits': [0], 'calibrate_single_shot': False, 'singleshot_reps': 10000, 'span': 500, 'active_reset': True, 'man_reset': True, 'storage_reset': True, 'threshold': -39.769721213292996, 'readout_per_round': 4, 'prep_man_photon': True, 'rb_active_reset': True, 'rb_man_reset': True, 'rb_storage_reset': True, 'rb_reps': 300, 'gates_per_wait': 100000, 'rounds': 1, 'variations': 50, 'rb_depth': 148, 'IRB_gate_no': -1, 'bs_repeat': 1, 'sync': False, 'setup': False, 'bs_para': [520.925, 5000, 0.565451994946885, 0.005]}\n",
      "ge fidelity (%): 0\n",
      "rotation angle (deg): [0]\n",
      "threshold ge: 0\n"
     ]
    },
    {
     "data": {
      "application/vnd.jupyter.widget-view+json": {
       "model_id": "e53a6a93a79047d2948194773ce9dc2c",
       "version_major": 2,
       "version_minor": 0
      },
      "text/plain": [
       "  0%|          | 0/50 [00:00<?, ?it/s]"
      ]
     },
     "metadata": {},
     "output_type": "display_data"
    },
    {
     "name": "stdout",
     "output_type": "stream",
     "text": [
      "Saving H:\\Shared drives\\SLab\\Multimode\\experiment\\240911\\data1\\01082_SingleBeamSplitterRB_stor_ramsey_spec.h5\n",
      "Index: 22 depth. = 155 \n",
      "{'pre_sweep_pulse': [['qubit', 'ge', 'hpi', 0], ['qubit', 'ef', 'pi', 0], ['man', 'M1', 'pi', 0], ['storage', 'M1-S7', 'pi', 0]], 'post_sweep_pulse': [['storage', 'M1-S7', 'pi', 0], ['man', 'M1', 'pi', 0], ['qubit', 'ef', 'pi', 0], ['qubit', 'ge', 'hpi', 84193.54023961123]], 'wait_freq': 2.2, 'prepulse': True, 'postpulse': True, 'rb_time': 'None', 'bs_gate_num': 'None', 'qubits': [0], 'calibrate_single_shot': False, 'singleshot_reps': 10000, 'span': 500, 'active_reset': True, 'man_reset': True, 'storage_reset': True, 'threshold': -39.769721213292996, 'readout_per_round': 4, 'prep_man_photon': True, 'rb_active_reset': True, 'rb_man_reset': True, 'rb_storage_reset': True, 'rb_reps': 300, 'gates_per_wait': 100000, 'rounds': 1, 'variations': 50, 'rb_depth': 155, 'IRB_gate_no': -1, 'bs_repeat': 1, 'sync': False, 'setup': False, 'bs_para': [520.925, 5000, 0.565451994946885, 0.005]}\n",
      "ge fidelity (%): 0\n",
      "rotation angle (deg): [0]\n",
      "threshold ge: 0\n"
     ]
    },
    {
     "data": {
      "application/vnd.jupyter.widget-view+json": {
       "model_id": "3cb92d0f8b5440d18bc9ff50119ff8a8",
       "version_major": 2,
       "version_minor": 0
      },
      "text/plain": [
       "  0%|          | 0/50 [00:00<?, ?it/s]"
      ]
     },
     "metadata": {},
     "output_type": "display_data"
    },
    {
     "name": "stdout",
     "output_type": "stream",
     "text": [
      "Saving H:\\Shared drives\\SLab\\Multimode\\experiment\\240911\\data1\\01083_SingleBeamSplitterRB_stor_ramsey_spec.h5\n",
      "Index: 23 depth. = 162 \n",
      "{'pre_sweep_pulse': [['qubit', 'ge', 'hpi', 0], ['qubit', 'ef', 'pi', 0], ['man', 'M1', 'pi', 0], ['storage', 'M1-S7', 'pi', 0]], 'post_sweep_pulse': [['storage', 'M1-S7', 'pi', 0], ['man', 'M1', 'pi', 0], ['qubit', 'ef', 'pi', 0], ['qubit', 'ge', 'hpi', 90015.43397958436]], 'wait_freq': 2.2, 'prepulse': True, 'postpulse': True, 'rb_time': 'None', 'bs_gate_num': 'None', 'qubits': [0], 'calibrate_single_shot': False, 'singleshot_reps': 10000, 'span': 500, 'active_reset': True, 'man_reset': True, 'storage_reset': True, 'threshold': -39.769721213292996, 'readout_per_round': 4, 'prep_man_photon': True, 'rb_active_reset': True, 'rb_man_reset': True, 'rb_storage_reset': True, 'rb_reps': 300, 'gates_per_wait': 100000, 'rounds': 1, 'variations': 50, 'rb_depth': 162, 'IRB_gate_no': -1, 'bs_repeat': 1, 'sync': False, 'setup': False, 'bs_para': [520.925, 5000, 0.565451994946885, 0.005]}\n",
      "ge fidelity (%): 0\n",
      "rotation angle (deg): [0]\n",
      "threshold ge: 0\n"
     ]
    },
    {
     "data": {
      "application/vnd.jupyter.widget-view+json": {
       "model_id": "12b4a8b745e04661bebbda990a6e715d",
       "version_major": 2,
       "version_minor": 0
      },
      "text/plain": [
       "  0%|          | 0/50 [00:00<?, ?it/s]"
      ]
     },
     "metadata": {},
     "output_type": "display_data"
    },
    {
     "name": "stdout",
     "output_type": "stream",
     "text": [
      "Saving H:\\Shared drives\\SLab\\Multimode\\experiment\\240911\\data1\\01084_SingleBeamSplitterRB_stor_ramsey_spec.h5\n",
      "Index: 24 depth. = 169 \n",
      "{'pre_sweep_pulse': [['qubit', 'ge', 'hpi', 0], ['qubit', 'ef', 'pi', 0], ['man', 'M1', 'pi', 0], ['storage', 'M1-S7', 'pi', 0]], 'post_sweep_pulse': [['storage', 'M1-S7', 'pi', 0], ['man', 'M1', 'pi', 0], ['qubit', 'ef', 'pi', 0], ['qubit', 'ge', 'hpi', 98524.35559954506]], 'wait_freq': 2.2, 'prepulse': True, 'postpulse': True, 'rb_time': 'None', 'bs_gate_num': 'None', 'qubits': [0], 'calibrate_single_shot': False, 'singleshot_reps': 10000, 'span': 500, 'active_reset': True, 'man_reset': True, 'storage_reset': True, 'threshold': -39.769721213292996, 'readout_per_round': 4, 'prep_man_photon': True, 'rb_active_reset': True, 'rb_man_reset': True, 'rb_storage_reset': True, 'rb_reps': 300, 'gates_per_wait': 100000, 'rounds': 1, 'variations': 50, 'rb_depth': 169, 'IRB_gate_no': -1, 'bs_repeat': 1, 'sync': False, 'setup': False, 'bs_para': [520.925, 5000, 0.565451994946885, 0.005]}\n",
      "ge fidelity (%): 0\n",
      "rotation angle (deg): [0]\n",
      "threshold ge: 0\n"
     ]
    },
    {
     "data": {
      "application/vnd.jupyter.widget-view+json": {
       "model_id": "a7dfc3d09c774ab19e13bf8197a43edd",
       "version_major": 2,
       "version_minor": 0
      },
      "text/plain": [
       "  0%|          | 0/50 [00:00<?, ?it/s]"
      ]
     },
     "metadata": {},
     "output_type": "display_data"
    },
    {
     "name": "stdout",
     "output_type": "stream",
     "text": [
      "Saving H:\\Shared drives\\SLab\\Multimode\\experiment\\240911\\data1\\01085_SingleBeamSplitterRB_stor_ramsey_spec.h5\n",
      "Index: 25 depth. = 176 \n",
      "{'pre_sweep_pulse': [['qubit', 'ge', 'hpi', 0], ['qubit', 'ef', 'pi', 0], ['man', 'M1', 'pi', 0], ['storage', 'M1-S7', 'pi', 0]], 'post_sweep_pulse': [['storage', 'M1-S7', 'pi', 0], ['man', 'M1', 'pi', 0], ['qubit', 'ef', 'pi', 0], ['qubit', 'ge', 'hpi', 97628.67963954917]], 'wait_freq': 2.2, 'prepulse': True, 'postpulse': True, 'rb_time': 'None', 'bs_gate_num': 'None', 'qubits': [0], 'calibrate_single_shot': False, 'singleshot_reps': 10000, 'span': 500, 'active_reset': True, 'man_reset': True, 'storage_reset': True, 'threshold': -39.769721213292996, 'readout_per_round': 4, 'prep_man_photon': True, 'rb_active_reset': True, 'rb_man_reset': True, 'rb_storage_reset': True, 'rb_reps': 300, 'gates_per_wait': 100000, 'rounds': 1, 'variations': 50, 'rb_depth': 176, 'IRB_gate_no': -1, 'bs_repeat': 1, 'sync': False, 'setup': False, 'bs_para': [520.925, 5000, 0.565451994946885, 0.005]}\n",
      "ge fidelity (%): 0\n",
      "rotation angle (deg): [0]\n",
      "threshold ge: 0\n"
     ]
    },
    {
     "data": {
      "application/vnd.jupyter.widget-view+json": {
       "model_id": "9559ee96b3524ab3b2fcf91f2c3d6c60",
       "version_major": 2,
       "version_minor": 0
      },
      "text/plain": [
       "  0%|          | 0/50 [00:00<?, ?it/s]"
      ]
     },
     "metadata": {},
     "output_type": "display_data"
    },
    {
     "name": "stdout",
     "output_type": "stream",
     "text": [
      "Saving H:\\Shared drives\\SLab\\Multimode\\experiment\\240911\\data1\\01086_SingleBeamSplitterRB_stor_ramsey_spec.h5\n",
      "Index: 26 depth. = 183 \n",
      "{'pre_sweep_pulse': [['qubit', 'ge', 'hpi', 0], ['qubit', 'ef', 'pi', 0], ['man', 'M1', 'pi', 0], ['storage', 'M1-S7', 'pi', 0]], 'post_sweep_pulse': [['storage', 'M1-S7', 'pi', 0], ['man', 'M1', 'pi', 0], ['qubit', 'ef', 'pi', 0], ['qubit', 'ge', 'hpi', 106137.60125950995]], 'wait_freq': 2.2, 'prepulse': True, 'postpulse': True, 'rb_time': 'None', 'bs_gate_num': 'None', 'qubits': [0], 'calibrate_single_shot': False, 'singleshot_reps': 10000, 'span': 500, 'active_reset': True, 'man_reset': True, 'storage_reset': True, 'threshold': -39.769721213292996, 'readout_per_round': 4, 'prep_man_photon': True, 'rb_active_reset': True, 'rb_man_reset': True, 'rb_storage_reset': True, 'rb_reps': 300, 'gates_per_wait': 100000, 'rounds': 1, 'variations': 50, 'rb_depth': 183, 'IRB_gate_no': -1, 'bs_repeat': 1, 'sync': False, 'setup': False, 'bs_para': [520.925, 5000, 0.565451994946885, 0.005]}\n",
      "ge fidelity (%): 0\n",
      "rotation angle (deg): [0]\n",
      "threshold ge: 0\n"
     ]
    },
    {
     "data": {
      "application/vnd.jupyter.widget-view+json": {
       "model_id": "0ce6643b652842928e2bb4ec36e0a699",
       "version_major": 2,
       "version_minor": 0
      },
      "text/plain": [
       "  0%|          | 0/50 [00:00<?, ?it/s]"
      ]
     },
     "metadata": {},
     "output_type": "display_data"
    },
    {
     "name": "stdout",
     "output_type": "stream",
     "text": [
      "Saving H:\\Shared drives\\SLab\\Multimode\\experiment\\240911\\data1\\01087_SingleBeamSplitterRB_stor_ramsey_spec.h5\n",
      "Index: 27 depth. = 190 \n",
      "{'pre_sweep_pulse': [['qubit', 'ge', 'hpi', 0], ['qubit', 'ef', 'pi', 0], ['man', 'M1', 'pi', 0], ['storage', 'M1-S7', 'pi', 0]], 'post_sweep_pulse': [['storage', 'M1-S7', 'pi', 0], ['man', 'M1', 'pi', 0], ['qubit', 'ef', 'pi', 0], ['qubit', 'ge', 'hpi', 115542.19883946666]], 'wait_freq': 2.2, 'prepulse': True, 'postpulse': True, 'rb_time': 'None', 'bs_gate_num': 'None', 'qubits': [0], 'calibrate_single_shot': False, 'singleshot_reps': 10000, 'span': 500, 'active_reset': True, 'man_reset': True, 'storage_reset': True, 'threshold': -39.769721213292996, 'readout_per_round': 4, 'prep_man_photon': True, 'rb_active_reset': True, 'rb_man_reset': True, 'rb_storage_reset': True, 'rb_reps': 300, 'gates_per_wait': 100000, 'rounds': 1, 'variations': 50, 'rb_depth': 190, 'IRB_gate_no': -1, 'bs_repeat': 1, 'sync': False, 'setup': False, 'bs_para': [520.925, 5000, 0.565451994946885, 0.005]}\n",
      "ge fidelity (%): 0\n",
      "rotation angle (deg): [0]\n",
      "threshold ge: 0\n"
     ]
    },
    {
     "data": {
      "application/vnd.jupyter.widget-view+json": {
       "model_id": "4292d4351b4f487083ddc32bac9d7f2f",
       "version_major": 2,
       "version_minor": 0
      },
      "text/plain": [
       "  0%|          | 0/50 [00:00<?, ?it/s]"
      ]
     },
     "metadata": {},
     "output_type": "display_data"
    },
    {
     "name": "stdout",
     "output_type": "stream",
     "text": [
      "Saving H:\\Shared drives\\SLab\\Multimode\\experiment\\240911\\data1\\01088_SingleBeamSplitterRB_stor_ramsey_spec.h5\n",
      "Index: 28 depth. = 197 \n",
      "{'pre_sweep_pulse': [['qubit', 'ge', 'hpi', 0], ['qubit', 'ef', 'pi', 0], ['man', 'M1', 'pi', 0], ['storage', 'M1-S7', 'pi', 0]], 'post_sweep_pulse': [['storage', 'M1-S7', 'pi', 0], ['man', 'M1', 'pi', 0], ['qubit', 'ef', 'pi', 0], ['qubit', 'ge', 'hpi', 111959.49499948314]], 'wait_freq': 2.2, 'prepulse': True, 'postpulse': True, 'rb_time': 'None', 'bs_gate_num': 'None', 'qubits': [0], 'calibrate_single_shot': False, 'singleshot_reps': 10000, 'span': 500, 'active_reset': True, 'man_reset': True, 'storage_reset': True, 'threshold': -39.769721213292996, 'readout_per_round': 4, 'prep_man_photon': True, 'rb_active_reset': True, 'rb_man_reset': True, 'rb_storage_reset': True, 'rb_reps': 300, 'gates_per_wait': 100000, 'rounds': 1, 'variations': 50, 'rb_depth': 197, 'IRB_gate_no': -1, 'bs_repeat': 1, 'sync': False, 'setup': False, 'bs_para': [520.925, 5000, 0.565451994946885, 0.005]}\n",
      "ge fidelity (%): 0\n",
      "rotation angle (deg): [0]\n",
      "threshold ge: 0\n"
     ]
    },
    {
     "data": {
      "application/vnd.jupyter.widget-view+json": {
       "model_id": "d6b6dd1a916c4b6c840d362df2dcb44a",
       "version_major": 2,
       "version_minor": 0
      },
      "text/plain": [
       "  0%|          | 0/50 [00:00<?, ?it/s]"
      ]
     },
     "metadata": {},
     "output_type": "display_data"
    },
    {
     "name": "stdout",
     "output_type": "stream",
     "text": [
      "Saving H:\\Shared drives\\SLab\\Multimode\\experiment\\240911\\data1\\01089_SingleBeamSplitterRB_stor_ramsey_spec.h5\n",
      "Index: 29 depth. = 204 \n",
      "{'pre_sweep_pulse': [['qubit', 'ge', 'hpi', 0], ['qubit', 'ef', 'pi', 0], ['man', 'M1', 'pi', 0], ['storage', 'M1-S7', 'pi', 0]], 'post_sweep_pulse': [['storage', 'M1-S7', 'pi', 0], ['man', 'M1', 'pi', 0], ['qubit', 'ef', 'pi', 0], ['qubit', 'ge', 'hpi', 115542.19883946664]], 'wait_freq': 2.2, 'prepulse': True, 'postpulse': True, 'rb_time': 'None', 'bs_gate_num': 'None', 'qubits': [0], 'calibrate_single_shot': False, 'singleshot_reps': 10000, 'span': 500, 'active_reset': True, 'man_reset': True, 'storage_reset': True, 'threshold': -39.769721213292996, 'readout_per_round': 4, 'prep_man_photon': True, 'rb_active_reset': True, 'rb_man_reset': True, 'rb_storage_reset': True, 'rb_reps': 300, 'gates_per_wait': 100000, 'rounds': 1, 'variations': 50, 'rb_depth': 204, 'IRB_gate_no': -1, 'bs_repeat': 1, 'sync': False, 'setup': False, 'bs_para': [520.925, 5000, 0.565451994946885, 0.005]}\n",
      "ge fidelity (%): 0\n",
      "rotation angle (deg): [0]\n",
      "threshold ge: 0\n"
     ]
    },
    {
     "data": {
      "application/vnd.jupyter.widget-view+json": {
       "model_id": "0ea84d2dfa494d938d85f0c465e0529c",
       "version_major": 2,
       "version_minor": 0
      },
      "text/plain": [
       "  0%|          | 0/50 [00:00<?, ?it/s]"
      ]
     },
     "metadata": {},
     "output_type": "display_data"
    },
    {
     "name": "stdout",
     "output_type": "stream",
     "text": [
      "Saving H:\\Shared drives\\SLab\\Multimode\\experiment\\240911\\data1\\01090_SingleBeamSplitterRB_stor_ramsey_spec.h5\n",
      "-------------------------------------------------\n",
      "Index: 0 Storage = 7, Spectator = 3 \n",
      "Index: 0 depth. = 1 \n",
      "{'pre_sweep_pulse': [['qubit', 'ge', 'hpi', 0], ['qubit', 'ef', 'pi', 0], ['man', 'M1', 'pi', 0], ['storage', 'M1-S7', 'pi', 0]], 'post_sweep_pulse': [['storage', 'M1-S7', 'pi', 0], ['man', 'M1', 'pi', 0], ['qubit', 'ef', 'pi', 0], ['qubit', 'ge', 'hpi', 124498.95843942533]], 'wait_freq': 1.49, 'prepulse': True, 'postpulse': True, 'rb_time': 'None', 'bs_gate_num': 'None', 'qubits': [0], 'calibrate_single_shot': True, 'singleshot_reps': 10000, 'span': 500, 'active_reset': True, 'man_reset': True, 'storage_reset': True, 'threshold': -39.769721213292996, 'readout_per_round': 4, 'prep_man_photon': True, 'rb_active_reset': True, 'rb_man_reset': True, 'rb_storage_reset': True, 'rb_reps': 300, 'gates_per_wait': 100000, 'rounds': 1, 'variations': 50, 'rb_depth': 1, 'IRB_gate_no': -1, 'bs_repeat': 1, 'sync': False, 'setup': False, 'bs_para': [696.665, 9000, 0.666955, 0.005]}\n",
      "sscfg active reset True\n",
      "9868\n",
      "9843\n",
      "ge fidelity (%): 98.07828025274121\n",
      "rotation angle (deg): 0.5607152021393192\n",
      "threshold ge: 0.6754631699450329\n"
     ]
    },
    {
     "data": {
      "application/vnd.jupyter.widget-view+json": {
       "model_id": "e7882f02743146e2be6ed72cc770ea8f",
       "version_major": 2,
       "version_minor": 0
      },
      "text/plain": [
       "  0%|          | 0/50 [00:00<?, ?it/s]"
      ]
     },
     "metadata": {},
     "output_type": "display_data"
    },
    {
     "name": "stdout",
     "output_type": "stream",
     "text": [
      "Saving H:\\Shared drives\\SLab\\Multimode\\experiment\\240911\\data1\\01091_SingleBeamSplitterRB_stor_ramsey_spec.h5\n",
      "Index: 1 depth. = 8 \n",
      "{'pre_sweep_pulse': [['qubit', 'ge', 'hpi', 0], ['qubit', 'ef', 'pi', 0], ['man', 'M1', 'pi', 0], ['storage', 'M1-S7', 'pi', 0]], 'post_sweep_pulse': [['storage', 'M1-S7', 'pi', 0], ['man', 'M1', 'pi', 0], ['qubit', 'ef', 'pi', 0], ['qubit', 'ge', 'hpi', 715.509324]], 'wait_freq': 1.49, 'prepulse': True, 'postpulse': True, 'rb_time': 'None', 'bs_gate_num': 'None', 'qubits': [0], 'calibrate_single_shot': False, 'singleshot_reps': 10000, 'span': 500, 'active_reset': True, 'man_reset': True, 'storage_reset': True, 'threshold': -39.769721213292996, 'readout_per_round': 4, 'prep_man_photon': True, 'rb_active_reset': True, 'rb_man_reset': True, 'rb_storage_reset': True, 'rb_reps': 300, 'gates_per_wait': 100000, 'rounds': 1, 'variations': 50, 'rb_depth': 8, 'IRB_gate_no': -1, 'bs_repeat': 1, 'sync': False, 'setup': False, 'bs_para': [696.665, 9000, 0.666955, 0.005]}\n",
      "ge fidelity (%): 0\n",
      "rotation angle (deg): [0]\n",
      "threshold ge: 0\n"
     ]
    },
    {
     "data": {
      "application/vnd.jupyter.widget-view+json": {
       "model_id": "719450264dab4fd2890319df6d18aded",
       "version_major": 2,
       "version_minor": 0
      },
      "text/plain": [
       "  0%|          | 0/50 [00:00<?, ?it/s]"
      ]
     },
     "metadata": {},
     "output_type": "display_data"
    },
    {
     "name": "stdout",
     "output_type": "stream",
     "text": [
      "Saving H:\\Shared drives\\SLab\\Multimode\\experiment\\240911\\data1\\01092_SingleBeamSplitterRB_stor_ramsey_spec.h5\n",
      "Index: 2 depth. = 15 \n",
      "{'pre_sweep_pulse': [['qubit', 'ge', 'hpi', 0], ['qubit', 'ef', 'pi', 0], ['man', 'M1', 'pi', 0], ['storage', 'M1-S7', 'pi', 0]], 'post_sweep_pulse': [['storage', 'M1-S7', 'pi', 0], ['man', 'M1', 'pi', 0], ['qubit', 'ef', 'pi', 0], ['qubit', 'ge', 'hpi', 3577.546619999999]], 'wait_freq': 1.49, 'prepulse': True, 'postpulse': True, 'rb_time': 'None', 'bs_gate_num': 'None', 'qubits': [0], 'calibrate_single_shot': False, 'singleshot_reps': 10000, 'span': 500, 'active_reset': True, 'man_reset': True, 'storage_reset': True, 'threshold': -39.769721213292996, 'readout_per_round': 4, 'prep_man_photon': True, 'rb_active_reset': True, 'rb_man_reset': True, 'rb_storage_reset': True, 'rb_reps': 300, 'gates_per_wait': 100000, 'rounds': 1, 'variations': 50, 'rb_depth': 15, 'IRB_gate_no': -1, 'bs_repeat': 1, 'sync': False, 'setup': False, 'bs_para': [696.665, 9000, 0.666955, 0.005]}\n",
      "ge fidelity (%): 0\n",
      "rotation angle (deg): [0]\n",
      "threshold ge: 0\n"
     ]
    },
    {
     "data": {
      "application/vnd.jupyter.widget-view+json": {
       "model_id": "8d51ff4cd9274632a8929429d4c6b83c",
       "version_major": 2,
       "version_minor": 0
      },
      "text/plain": [
       "  0%|          | 0/50 [00:00<?, ?it/s]"
      ]
     },
     "metadata": {},
     "output_type": "display_data"
    },
    {
     "name": "stdout",
     "output_type": "stream",
     "text": [
      "Saving H:\\Shared drives\\SLab\\Multimode\\experiment\\240911\\data1\\01093_SingleBeamSplitterRB_stor_ramsey_spec.h5\n",
      "Index: 3 depth. = 22 \n",
      "{'pre_sweep_pulse': [['qubit', 'ge', 'hpi', 0], ['qubit', 'ef', 'pi', 0], ['man', 'M1', 'pi', 0], ['storage', 'M1-S7', 'pi', 0]], 'post_sweep_pulse': [['storage', 'M1-S7', 'pi', 0], ['man', 'M1', 'pi', 0], ['qubit', 'ef', 'pi', 0], ['qubit', 'ge', 'hpi', 7512.847901999998]], 'wait_freq': 1.49, 'prepulse': True, 'postpulse': True, 'rb_time': 'None', 'bs_gate_num': 'None', 'qubits': [0], 'calibrate_single_shot': False, 'singleshot_reps': 10000, 'span': 500, 'active_reset': True, 'man_reset': True, 'storage_reset': True, 'threshold': -39.769721213292996, 'readout_per_round': 4, 'prep_man_photon': True, 'rb_active_reset': True, 'rb_man_reset': True, 'rb_storage_reset': True, 'rb_reps': 300, 'gates_per_wait': 100000, 'rounds': 1, 'variations': 50, 'rb_depth': 22, 'IRB_gate_no': -1, 'bs_repeat': 1, 'sync': False, 'setup': False, 'bs_para': [696.665, 9000, 0.666955, 0.005]}\n",
      "ge fidelity (%): 0\n",
      "rotation angle (deg): [0]\n",
      "threshold ge: 0\n"
     ]
    },
    {
     "data": {
      "application/vnd.jupyter.widget-view+json": {
       "model_id": "c594922c27a34fbb8dc3d2c933575836",
       "version_major": 2,
       "version_minor": 0
      },
      "text/plain": [
       "  0%|          | 0/50 [00:00<?, ?it/s]"
      ]
     },
     "metadata": {},
     "output_type": "display_data"
    },
    {
     "name": "stdout",
     "output_type": "stream",
     "text": [
      "Saving H:\\Shared drives\\SLab\\Multimode\\experiment\\240911\\data1\\01094_SingleBeamSplitterRB_stor_ramsey_spec.h5\n",
      "Index: 4 depth. = 29 \n",
      "{'pre_sweep_pulse': [['qubit', 'ge', 'hpi', 0], ['qubit', 'ef', 'pi', 0], ['man', 'M1', 'pi', 0], ['storage', 'M1-S7', 'pi', 0]], 'post_sweep_pulse': [['storage', 'M1-S7', 'pi', 0], ['man', 'M1', 'pi', 0], ['qubit', 'ef', 'pi', 0], ['qubit', 'ge', 'hpi', 10017.130535999999]], 'wait_freq': 1.49, 'prepulse': True, 'postpulse': True, 'rb_time': 'None', 'bs_gate_num': 'None', 'qubits': [0], 'calibrate_single_shot': False, 'singleshot_reps': 10000, 'span': 500, 'active_reset': True, 'man_reset': True, 'storage_reset': True, 'threshold': -39.769721213292996, 'readout_per_round': 4, 'prep_man_photon': True, 'rb_active_reset': True, 'rb_man_reset': True, 'rb_storage_reset': True, 'rb_reps': 300, 'gates_per_wait': 100000, 'rounds': 1, 'variations': 50, 'rb_depth': 29, 'IRB_gate_no': -1, 'bs_repeat': 1, 'sync': False, 'setup': False, 'bs_para': [696.665, 9000, 0.666955, 0.005]}\n",
      "ge fidelity (%): 0\n",
      "rotation angle (deg): [0]\n",
      "threshold ge: 0\n"
     ]
    },
    {
     "data": {
      "application/vnd.jupyter.widget-view+json": {
       "model_id": "d445b2929e504c42b0216f20714d6f6b",
       "version_major": 2,
       "version_minor": 0
      },
      "text/plain": [
       "  0%|          | 0/50 [00:00<?, ?it/s]"
      ]
     },
     "metadata": {},
     "output_type": "display_data"
    },
    {
     "name": "stdout",
     "output_type": "stream",
     "text": [
      "Saving H:\\Shared drives\\SLab\\Multimode\\experiment\\240911\\data1\\01095_SingleBeamSplitterRB_stor_ramsey_spec.h5\n",
      "Index: 5 depth. = 36 \n",
      "{'pre_sweep_pulse': [['qubit', 'ge', 'hpi', 0], ['qubit', 'ef', 'pi', 0], ['man', 'M1', 'pi', 0], ['storage', 'M1-S7', 'pi', 0]], 'post_sweep_pulse': [['storage', 'M1-S7', 'pi', 0], ['man', 'M1', 'pi', 0], ['qubit', 'ef', 'pi', 0], ['qubit', 'ge', 'hpi', 12521.413170000002]], 'wait_freq': 1.49, 'prepulse': True, 'postpulse': True, 'rb_time': 'None', 'bs_gate_num': 'None', 'qubits': [0], 'calibrate_single_shot': False, 'singleshot_reps': 10000, 'span': 500, 'active_reset': True, 'man_reset': True, 'storage_reset': True, 'threshold': -39.769721213292996, 'readout_per_round': 4, 'prep_man_photon': True, 'rb_active_reset': True, 'rb_man_reset': True, 'rb_storage_reset': True, 'rb_reps': 300, 'gates_per_wait': 100000, 'rounds': 1, 'variations': 50, 'rb_depth': 36, 'IRB_gate_no': -1, 'bs_repeat': 1, 'sync': False, 'setup': False, 'bs_para': [696.665, 9000, 0.666955, 0.005]}\n",
      "ge fidelity (%): 0\n",
      "rotation angle (deg): [0]\n",
      "threshold ge: 0\n"
     ]
    },
    {
     "data": {
      "application/vnd.jupyter.widget-view+json": {
       "model_id": "947bed094b7a4e37b877bc4d54702d98",
       "version_major": 2,
       "version_minor": 0
      },
      "text/plain": [
       "  0%|          | 0/50 [00:00<?, ?it/s]"
      ]
     },
     "metadata": {},
     "output_type": "display_data"
    },
    {
     "name": "stdout",
     "output_type": "stream",
     "text": [
      "Saving H:\\Shared drives\\SLab\\Multimode\\experiment\\240911\\data1\\01096_SingleBeamSplitterRB_stor_ramsey_spec.h5\n",
      "Index: 6 depth. = 43 \n",
      "{'pre_sweep_pulse': [['qubit', 'ge', 'hpi', 0], ['qubit', 'ef', 'pi', 0], ['man', 'M1', 'pi', 0], ['storage', 'M1-S7', 'pi', 0]], 'post_sweep_pulse': [['storage', 'M1-S7', 'pi', 0], ['man', 'M1', 'pi', 0], ['qubit', 'ef', 'pi', 0], ['qubit', 'ge', 'hpi', 17887.73310000001]], 'wait_freq': 1.49, 'prepulse': True, 'postpulse': True, 'rb_time': 'None', 'bs_gate_num': 'None', 'qubits': [0], 'calibrate_single_shot': False, 'singleshot_reps': 10000, 'span': 500, 'active_reset': True, 'man_reset': True, 'storage_reset': True, 'threshold': -39.769721213292996, 'readout_per_round': 4, 'prep_man_photon': True, 'rb_active_reset': True, 'rb_man_reset': True, 'rb_storage_reset': True, 'rb_reps': 300, 'gates_per_wait': 100000, 'rounds': 1, 'variations': 50, 'rb_depth': 43, 'IRB_gate_no': -1, 'bs_repeat': 1, 'sync': False, 'setup': False, 'bs_para': [696.665, 9000, 0.666955, 0.005]}\n",
      "ge fidelity (%): 0\n",
      "rotation angle (deg): [0]\n",
      "threshold ge: 0\n"
     ]
    },
    {
     "data": {
      "application/vnd.jupyter.widget-view+json": {
       "model_id": "eda035d34dfb48589ac2e0e9b0c7cdd9",
       "version_major": 2,
       "version_minor": 0
      },
      "text/plain": [
       "  0%|          | 0/50 [00:00<?, ?it/s]"
      ]
     },
     "metadata": {},
     "output_type": "display_data"
    },
    {
     "name": "stdout",
     "output_type": "stream",
     "text": [
      "Saving H:\\Shared drives\\SLab\\Multimode\\experiment\\240911\\data1\\01097_SingleBeamSplitterRB_stor_ramsey_spec.h5\n",
      "Index: 7 depth. = 50 \n",
      "{'pre_sweep_pulse': [['qubit', 'ge', 'hpi', 0], ['qubit', 'ef', 'pi', 0], ['man', 'M1', 'pi', 0], ['storage', 'M1-S7', 'pi', 0]], 'post_sweep_pulse': [['storage', 'M1-S7', 'pi', 0], ['man', 'M1', 'pi', 0], ['qubit', 'ef', 'pi', 0], ['qubit', 'ge', 'hpi', 21465.279720000017]], 'wait_freq': 1.49, 'prepulse': True, 'postpulse': True, 'rb_time': 'None', 'bs_gate_num': 'None', 'qubits': [0], 'calibrate_single_shot': False, 'singleshot_reps': 10000, 'span': 500, 'active_reset': True, 'man_reset': True, 'storage_reset': True, 'threshold': -39.769721213292996, 'readout_per_round': 4, 'prep_man_photon': True, 'rb_active_reset': True, 'rb_man_reset': True, 'rb_storage_reset': True, 'rb_reps': 300, 'gates_per_wait': 100000, 'rounds': 1, 'variations': 50, 'rb_depth': 50, 'IRB_gate_no': -1, 'bs_repeat': 1, 'sync': False, 'setup': False, 'bs_para': [696.665, 9000, 0.666955, 0.005]}\n",
      "ge fidelity (%): 0\n",
      "rotation angle (deg): [0]\n",
      "threshold ge: 0\n"
     ]
    },
    {
     "data": {
      "application/vnd.jupyter.widget-view+json": {
       "model_id": "965ae58bfa914e67b8bc08aae2c7a656",
       "version_major": 2,
       "version_minor": 0
      },
      "text/plain": [
       "  0%|          | 0/50 [00:00<?, ?it/s]"
      ]
     },
     "metadata": {},
     "output_type": "display_data"
    },
    {
     "name": "stdout",
     "output_type": "stream",
     "text": [
      "Saving H:\\Shared drives\\SLab\\Multimode\\experiment\\240911\\data1\\01098_SingleBeamSplitterRB_stor_ramsey_spec.h5\n",
      "Index: 8 depth. = 57 \n",
      "{'pre_sweep_pulse': [['qubit', 'ge', 'hpi', 0], ['qubit', 'ef', 'pi', 0], ['man', 'M1', 'pi', 0], ['storage', 'M1-S7', 'pi', 0]], 'post_sweep_pulse': [['storage', 'M1-S7', 'pi', 0], ['man', 'M1', 'pi', 0], ['qubit', 'ef', 'pi', 0], ['qubit', 'ge', 'hpi', 23969.562354000027]], 'wait_freq': 1.49, 'prepulse': True, 'postpulse': True, 'rb_time': 'None', 'bs_gate_num': 'None', 'qubits': [0], 'calibrate_single_shot': False, 'singleshot_reps': 10000, 'span': 500, 'active_reset': True, 'man_reset': True, 'storage_reset': True, 'threshold': -39.769721213292996, 'readout_per_round': 4, 'prep_man_photon': True, 'rb_active_reset': True, 'rb_man_reset': True, 'rb_storage_reset': True, 'rb_reps': 300, 'gates_per_wait': 100000, 'rounds': 1, 'variations': 50, 'rb_depth': 57, 'IRB_gate_no': -1, 'bs_repeat': 1, 'sync': False, 'setup': False, 'bs_para': [696.665, 9000, 0.666955, 0.005]}\n",
      "ge fidelity (%): 0\n",
      "rotation angle (deg): [0]\n",
      "threshold ge: 0\n"
     ]
    },
    {
     "data": {
      "application/vnd.jupyter.widget-view+json": {
       "model_id": "a17dc39473cb49d1ad852722c4045bbf",
       "version_major": 2,
       "version_minor": 0
      },
      "text/plain": [
       "  0%|          | 0/50 [00:00<?, ?it/s]"
      ]
     },
     "metadata": {},
     "output_type": "display_data"
    },
    {
     "name": "stdout",
     "output_type": "stream",
     "text": [
      "Saving H:\\Shared drives\\SLab\\Multimode\\experiment\\240911\\data1\\01099_SingleBeamSplitterRB_stor_ramsey_spec.h5\n",
      "Index: 9 depth. = 64 \n",
      "{'pre_sweep_pulse': [['qubit', 'ge', 'hpi', 0], ['qubit', 'ef', 'pi', 0], ['man', 'M1', 'pi', 0], ['storage', 'M1-S7', 'pi', 0]], 'post_sweep_pulse': [['storage', 'M1-S7', 'pi', 0], ['man', 'M1', 'pi', 0], ['qubit', 'ef', 'pi', 0], ['qubit', 'ge', 'hpi', 28620.37296000003]], 'wait_freq': 1.49, 'prepulse': True, 'postpulse': True, 'rb_time': 'None', 'bs_gate_num': 'None', 'qubits': [0], 'calibrate_single_shot': False, 'singleshot_reps': 10000, 'span': 500, 'active_reset': True, 'man_reset': True, 'storage_reset': True, 'threshold': -39.769721213292996, 'readout_per_round': 4, 'prep_man_photon': True, 'rb_active_reset': True, 'rb_man_reset': True, 'rb_storage_reset': True, 'rb_reps': 300, 'gates_per_wait': 100000, 'rounds': 1, 'variations': 50, 'rb_depth': 64, 'IRB_gate_no': -1, 'bs_repeat': 1, 'sync': False, 'setup': False, 'bs_para': [696.665, 9000, 0.666955, 0.005]}\n",
      "ge fidelity (%): 0\n",
      "rotation angle (deg): [0]\n",
      "threshold ge: 0\n"
     ]
    },
    {
     "data": {
      "application/vnd.jupyter.widget-view+json": {
       "model_id": "eb176a8e4164494a96af0af6f2bb1fa8",
       "version_major": 2,
       "version_minor": 0
      },
      "text/plain": [
       "  0%|          | 0/50 [00:00<?, ?it/s]"
      ]
     },
     "metadata": {},
     "output_type": "display_data"
    },
    {
     "name": "stdout",
     "output_type": "stream",
     "text": [
      "Saving H:\\Shared drives\\SLab\\Multimode\\experiment\\240911\\data1\\01100_SingleBeamSplitterRB_stor_ramsey_spec.h5\n",
      "Index: 10 depth. = 71 \n",
      "{'pre_sweep_pulse': [['qubit', 'ge', 'hpi', 0], ['qubit', 'ef', 'pi', 0], ['man', 'M1', 'pi', 0], ['storage', 'M1-S7', 'pi', 0]], 'post_sweep_pulse': [['storage', 'M1-S7', 'pi', 0], ['man', 'M1', 'pi', 0], ['qubit', 'ef', 'pi', 0], ['qubit', 'ge', 'hpi', 29693.636946000035]], 'wait_freq': 1.49, 'prepulse': True, 'postpulse': True, 'rb_time': 'None', 'bs_gate_num': 'None', 'qubits': [0], 'calibrate_single_shot': False, 'singleshot_reps': 10000, 'span': 500, 'active_reset': True, 'man_reset': True, 'storage_reset': True, 'threshold': -39.769721213292996, 'readout_per_round': 4, 'prep_man_photon': True, 'rb_active_reset': True, 'rb_man_reset': True, 'rb_storage_reset': True, 'rb_reps': 300, 'gates_per_wait': 100000, 'rounds': 1, 'variations': 50, 'rb_depth': 71, 'IRB_gate_no': -1, 'bs_repeat': 1, 'sync': False, 'setup': False, 'bs_para': [696.665, 9000, 0.666955, 0.005]}\n",
      "ge fidelity (%): 0\n",
      "rotation angle (deg): [0]\n",
      "threshold ge: 0\n"
     ]
    },
    {
     "data": {
      "application/vnd.jupyter.widget-view+json": {
       "model_id": "43c32a241a094a80902036dfa68c2c78",
       "version_major": 2,
       "version_minor": 0
      },
      "text/plain": [
       "  0%|          | 0/50 [00:00<?, ?it/s]"
      ]
     },
     "metadata": {},
     "output_type": "display_data"
    },
    {
     "name": "stdout",
     "output_type": "stream",
     "text": [
      "Saving H:\\Shared drives\\SLab\\Multimode\\experiment\\240911\\data1\\01101_SingleBeamSplitterRB_stor_ramsey_spec.h5\n",
      "Index: 11 depth. = 78 \n",
      "{'pre_sweep_pulse': [['qubit', 'ge', 'hpi', 0], ['qubit', 'ef', 'pi', 0], ['man', 'M1', 'pi', 0], ['storage', 'M1-S7', 'pi', 0]], 'post_sweep_pulse': [['storage', 'M1-S7', 'pi', 0], ['man', 'M1', 'pi', 0], ['qubit', 'ef', 'pi', 0], ['qubit', 'ge', 'hpi', 34702.20221400005]], 'wait_freq': 1.49, 'prepulse': True, 'postpulse': True, 'rb_time': 'None', 'bs_gate_num': 'None', 'qubits': [0], 'calibrate_single_shot': False, 'singleshot_reps': 10000, 'span': 500, 'active_reset': True, 'man_reset': True, 'storage_reset': True, 'threshold': -39.769721213292996, 'readout_per_round': 4, 'prep_man_photon': True, 'rb_active_reset': True, 'rb_man_reset': True, 'rb_storage_reset': True, 'rb_reps': 300, 'gates_per_wait': 100000, 'rounds': 1, 'variations': 50, 'rb_depth': 78, 'IRB_gate_no': -1, 'bs_repeat': 1, 'sync': False, 'setup': False, 'bs_para': [696.665, 9000, 0.666955, 0.005]}\n",
      "ge fidelity (%): 0\n",
      "rotation angle (deg): [0]\n",
      "threshold ge: 0\n"
     ]
    },
    {
     "data": {
      "application/vnd.jupyter.widget-view+json": {
       "model_id": "9910a50bcebd4b548a8b9b9411c56318",
       "version_major": 2,
       "version_minor": 0
      },
      "text/plain": [
       "  0%|          | 0/50 [00:00<?, ?it/s]"
      ]
     },
     "metadata": {},
     "output_type": "display_data"
    },
    {
     "name": "stdout",
     "output_type": "stream",
     "text": [
      "Saving H:\\Shared drives\\SLab\\Multimode\\experiment\\240911\\data1\\01102_SingleBeamSplitterRB_stor_ramsey_spec.h5\n",
      "Index: 12 depth. = 85 \n",
      "{'pre_sweep_pulse': [['qubit', 'ge', 'hpi', 0], ['qubit', 'ef', 'pi', 0], ['man', 'M1', 'pi', 0], ['storage', 'M1-S7', 'pi', 0]], 'post_sweep_pulse': [['storage', 'M1-S7', 'pi', 0], ['man', 'M1', 'pi', 0], ['qubit', 'ef', 'pi', 0], ['qubit', 'ge', 'hpi', 37921.99417200006]], 'wait_freq': 1.49, 'prepulse': True, 'postpulse': True, 'rb_time': 'None', 'bs_gate_num': 'None', 'qubits': [0], 'calibrate_single_shot': False, 'singleshot_reps': 10000, 'span': 500, 'active_reset': True, 'man_reset': True, 'storage_reset': True, 'threshold': -39.769721213292996, 'readout_per_round': 4, 'prep_man_photon': True, 'rb_active_reset': True, 'rb_man_reset': True, 'rb_storage_reset': True, 'rb_reps': 300, 'gates_per_wait': 100000, 'rounds': 1, 'variations': 50, 'rb_depth': 85, 'IRB_gate_no': -1, 'bs_repeat': 1, 'sync': False, 'setup': False, 'bs_para': [696.665, 9000, 0.666955, 0.005]}\n",
      "ge fidelity (%): 0\n",
      "rotation angle (deg): [0]\n",
      "threshold ge: 0\n"
     ]
    },
    {
     "data": {
      "application/vnd.jupyter.widget-view+json": {
       "model_id": "9512be037eec4c01932ae74ccd7ce813",
       "version_major": 2,
       "version_minor": 0
      },
      "text/plain": [
       "  0%|          | 0/50 [00:00<?, ?it/s]"
      ]
     },
     "metadata": {},
     "output_type": "display_data"
    },
    {
     "name": "stdout",
     "output_type": "stream",
     "text": [
      "Saving H:\\Shared drives\\SLab\\Multimode\\experiment\\240911\\data1\\01103_SingleBeamSplitterRB_stor_ramsey_spec.h5\n",
      "Index: 13 depth. = 92 \n",
      "{'pre_sweep_pulse': [['qubit', 'ge', 'hpi', 0], ['qubit', 'ef', 'pi', 0], ['man', 'M1', 'pi', 0], ['storage', 'M1-S7', 'pi', 0]], 'post_sweep_pulse': [['storage', 'M1-S7', 'pi', 0], ['man', 'M1', 'pi', 0], ['qubit', 'ef', 'pi', 0], ['qubit', 'ge', 'hpi', 38637.50349600005]], 'wait_freq': 1.49, 'prepulse': True, 'postpulse': True, 'rb_time': 'None', 'bs_gate_num': 'None', 'qubits': [0], 'calibrate_single_shot': False, 'singleshot_reps': 10000, 'span': 500, 'active_reset': True, 'man_reset': True, 'storage_reset': True, 'threshold': -39.769721213292996, 'readout_per_round': 4, 'prep_man_photon': True, 'rb_active_reset': True, 'rb_man_reset': True, 'rb_storage_reset': True, 'rb_reps': 300, 'gates_per_wait': 100000, 'rounds': 1, 'variations': 50, 'rb_depth': 92, 'IRB_gate_no': -1, 'bs_repeat': 1, 'sync': False, 'setup': False, 'bs_para': [696.665, 9000, 0.666955, 0.005]}\n",
      "ge fidelity (%): 0\n",
      "rotation angle (deg): [0]\n",
      "threshold ge: 0\n"
     ]
    },
    {
     "data": {
      "application/vnd.jupyter.widget-view+json": {
       "model_id": "5c04d1ea8ae84ef3bc3071b3fb6dbc61",
       "version_major": 2,
       "version_minor": 0
      },
      "text/plain": [
       "  0%|          | 0/50 [00:00<?, ?it/s]"
      ]
     },
     "metadata": {},
     "output_type": "display_data"
    },
    {
     "name": "stdout",
     "output_type": "stream",
     "text": [
      "Saving H:\\Shared drives\\SLab\\Multimode\\experiment\\240911\\data1\\01104_SingleBeamSplitterRB_stor_ramsey_spec.h5\n",
      "Index: 14 depth. = 99 \n",
      "{'pre_sweep_pulse': [['qubit', 'ge', 'hpi', 0], ['qubit', 'ef', 'pi', 0], ['man', 'M1', 'pi', 0], ['storage', 'M1-S7', 'pi', 0]], 'post_sweep_pulse': [['storage', 'M1-S7', 'pi', 0], ['man', 'M1', 'pi', 0], ['qubit', 'ef', 'pi', 0], ['qubit', 'ge', 'hpi', 46150.35139800007]], 'wait_freq': 1.49, 'prepulse': True, 'postpulse': True, 'rb_time': 'None', 'bs_gate_num': 'None', 'qubits': [0], 'calibrate_single_shot': False, 'singleshot_reps': 10000, 'span': 500, 'active_reset': True, 'man_reset': True, 'storage_reset': True, 'threshold': -39.769721213292996, 'readout_per_round': 4, 'prep_man_photon': True, 'rb_active_reset': True, 'rb_man_reset': True, 'rb_storage_reset': True, 'rb_reps': 300, 'gates_per_wait': 100000, 'rounds': 1, 'variations': 50, 'rb_depth': 99, 'IRB_gate_no': -1, 'bs_repeat': 1, 'sync': False, 'setup': False, 'bs_para': [696.665, 9000, 0.666955, 0.005]}\n",
      "ge fidelity (%): 0\n",
      "rotation angle (deg): [0]\n",
      "threshold ge: 0\n"
     ]
    },
    {
     "data": {
      "application/vnd.jupyter.widget-view+json": {
       "model_id": "edfad5c0364b44fb844d44b5e5ba3b62",
       "version_major": 2,
       "version_minor": 0
      },
      "text/plain": [
       "  0%|          | 0/50 [00:00<?, ?it/s]"
      ]
     },
     "metadata": {},
     "output_type": "display_data"
    },
    {
     "name": "stdout",
     "output_type": "stream",
     "text": [
      "Saving H:\\Shared drives\\SLab\\Multimode\\experiment\\240911\\data1\\01105_SingleBeamSplitterRB_stor_ramsey_spec.h5\n",
      "Index: 15 depth. = 106 \n",
      "{'pre_sweep_pulse': [['qubit', 'ge', 'hpi', 0], ['qubit', 'ef', 'pi', 0], ['man', 'M1', 'pi', 0], ['storage', 'M1-S7', 'pi', 0]], 'post_sweep_pulse': [['storage', 'M1-S7', 'pi', 0], ['man', 'M1', 'pi', 0], ['qubit', 'ef', 'pi', 0], ['qubit', 'ge', 'hpi', 47223.61538400008]], 'wait_freq': 1.49, 'prepulse': True, 'postpulse': True, 'rb_time': 'None', 'bs_gate_num': 'None', 'qubits': [0], 'calibrate_single_shot': False, 'singleshot_reps': 10000, 'span': 500, 'active_reset': True, 'man_reset': True, 'storage_reset': True, 'threshold': -39.769721213292996, 'readout_per_round': 4, 'prep_man_photon': True, 'rb_active_reset': True, 'rb_man_reset': True, 'rb_storage_reset': True, 'rb_reps': 300, 'gates_per_wait': 100000, 'rounds': 1, 'variations': 50, 'rb_depth': 106, 'IRB_gate_no': -1, 'bs_repeat': 1, 'sync': False, 'setup': False, 'bs_para': [696.665, 9000, 0.666955, 0.005]}\n",
      "ge fidelity (%): 0\n",
      "rotation angle (deg): [0]\n",
      "threshold ge: 0\n"
     ]
    },
    {
     "data": {
      "application/vnd.jupyter.widget-view+json": {
       "model_id": "1bde869f6a1d4f1d91cf28ee7c54c874",
       "version_major": 2,
       "version_minor": 0
      },
      "text/plain": [
       "  0%|          | 0/50 [00:00<?, ?it/s]"
      ]
     },
     "metadata": {},
     "output_type": "display_data"
    },
    {
     "name": "stdout",
     "output_type": "stream",
     "text": [
      "Saving H:\\Shared drives\\SLab\\Multimode\\experiment\\240911\\data1\\01106_SingleBeamSplitterRB_stor_ramsey_spec.h5\n",
      "Index: 16 depth. = 113 \n",
      "{'pre_sweep_pulse': [['qubit', 'ge', 'hpi', 0], ['qubit', 'ef', 'pi', 0], ['man', 'M1', 'pi', 0], ['storage', 'M1-S7', 'pi', 0]], 'post_sweep_pulse': [['storage', 'M1-S7', 'pi', 0], ['man', 'M1', 'pi', 0], ['qubit', 'ef', 'pi', 0], ['qubit', 'ge', 'hpi', 49727.89801800007]], 'wait_freq': 1.49, 'prepulse': True, 'postpulse': True, 'rb_time': 'None', 'bs_gate_num': 'None', 'qubits': [0], 'calibrate_single_shot': False, 'singleshot_reps': 10000, 'span': 500, 'active_reset': True, 'man_reset': True, 'storage_reset': True, 'threshold': -39.769721213292996, 'readout_per_round': 4, 'prep_man_photon': True, 'rb_active_reset': True, 'rb_man_reset': True, 'rb_storage_reset': True, 'rb_reps': 300, 'gates_per_wait': 100000, 'rounds': 1, 'variations': 50, 'rb_depth': 113, 'IRB_gate_no': -1, 'bs_repeat': 1, 'sync': False, 'setup': False, 'bs_para': [696.665, 9000, 0.666955, 0.005]}\n",
      "ge fidelity (%): 0\n",
      "rotation angle (deg): [0]\n",
      "threshold ge: 0\n"
     ]
    },
    {
     "data": {
      "application/vnd.jupyter.widget-view+json": {
       "model_id": "f4a7fc96f89e47ba9da920dbe94476f3",
       "version_major": 2,
       "version_minor": 0
      },
      "text/plain": [
       "  0%|          | 0/50 [00:00<?, ?it/s]"
      ]
     },
     "metadata": {},
     "output_type": "display_data"
    },
    {
     "name": "stdout",
     "output_type": "stream",
     "text": [
      "Saving H:\\Shared drives\\SLab\\Multimode\\experiment\\240911\\data1\\01107_SingleBeamSplitterRB_stor_ramsey_spec.h5\n",
      "Index: 17 depth. = 120 \n",
      "{'pre_sweep_pulse': [['qubit', 'ge', 'hpi', 0], ['qubit', 'ef', 'pi', 0], ['man', 'M1', 'pi', 0], ['storage', 'M1-S7', 'pi', 0]], 'post_sweep_pulse': [['storage', 'M1-S7', 'pi', 0], ['man', 'M1', 'pi', 0], ['qubit', 'ef', 'pi', 0], ['qubit', 'ge', 'hpi', 54020.95396200008]], 'wait_freq': 1.49, 'prepulse': True, 'postpulse': True, 'rb_time': 'None', 'bs_gate_num': 'None', 'qubits': [0], 'calibrate_single_shot': False, 'singleshot_reps': 10000, 'span': 500, 'active_reset': True, 'man_reset': True, 'storage_reset': True, 'threshold': -39.769721213292996, 'readout_per_round': 4, 'prep_man_photon': True, 'rb_active_reset': True, 'rb_man_reset': True, 'rb_storage_reset': True, 'rb_reps': 300, 'gates_per_wait': 100000, 'rounds': 1, 'variations': 50, 'rb_depth': 120, 'IRB_gate_no': -1, 'bs_repeat': 1, 'sync': False, 'setup': False, 'bs_para': [696.665, 9000, 0.666955, 0.005]}\n",
      "ge fidelity (%): 0\n",
      "rotation angle (deg): [0]\n",
      "threshold ge: 0\n"
     ]
    },
    {
     "data": {
      "application/vnd.jupyter.widget-view+json": {
       "model_id": "3859eb09ed594961b3aaed24f66ccdba",
       "version_major": 2,
       "version_minor": 0
      },
      "text/plain": [
       "  0%|          | 0/50 [00:00<?, ?it/s]"
      ]
     },
     "metadata": {},
     "output_type": "display_data"
    },
    {
     "name": "stdout",
     "output_type": "stream",
     "text": [
      "Saving H:\\Shared drives\\SLab\\Multimode\\experiment\\240911\\data1\\01108_SingleBeamSplitterRB_stor_ramsey_spec.h5\n",
      "Index: 18 depth. = 127 \n",
      "{'pre_sweep_pulse': [['qubit', 'ge', 'hpi', 0], ['qubit', 'ef', 'pi', 0], ['man', 'M1', 'pi', 0], ['storage', 'M1-S7', 'pi', 0]], 'post_sweep_pulse': [['storage', 'M1-S7', 'pi', 0], ['man', 'M1', 'pi', 0], ['qubit', 'ef', 'pi', 0], ['qubit', 'ge', 'hpi', 58671.7645680001]], 'wait_freq': 1.49, 'prepulse': True, 'postpulse': True, 'rb_time': 'None', 'bs_gate_num': 'None', 'qubits': [0], 'calibrate_single_shot': False, 'singleshot_reps': 10000, 'span': 500, 'active_reset': True, 'man_reset': True, 'storage_reset': True, 'threshold': -39.769721213292996, 'readout_per_round': 4, 'prep_man_photon': True, 'rb_active_reset': True, 'rb_man_reset': True, 'rb_storage_reset': True, 'rb_reps': 300, 'gates_per_wait': 100000, 'rounds': 1, 'variations': 50, 'rb_depth': 127, 'IRB_gate_no': -1, 'bs_repeat': 1, 'sync': False, 'setup': False, 'bs_para': [696.665, 9000, 0.666955, 0.005]}\n",
      "ge fidelity (%): 0\n",
      "rotation angle (deg): [0]\n",
      "threshold ge: 0\n"
     ]
    },
    {
     "data": {
      "application/vnd.jupyter.widget-view+json": {
       "model_id": "653ee2c379fa4b87bbd1cd1dd3407614",
       "version_major": 2,
       "version_minor": 0
      },
      "text/plain": [
       "  0%|          | 0/50 [00:00<?, ?it/s]"
      ]
     },
     "metadata": {},
     "output_type": "display_data"
    },
    {
     "name": "stdout",
     "output_type": "stream",
     "text": [
      "Saving H:\\Shared drives\\SLab\\Multimode\\experiment\\240911\\data1\\01109_SingleBeamSplitterRB_stor_ramsey_spec.h5\n",
      "Index: 19 depth. = 134 \n",
      "{'pre_sweep_pulse': [['qubit', 'ge', 'hpi', 0], ['qubit', 'ef', 'pi', 0], ['man', 'M1', 'pi', 0], ['storage', 'M1-S7', 'pi', 0]], 'post_sweep_pulse': [['storage', 'M1-S7', 'pi', 0], ['man', 'M1', 'pi', 0], ['qubit', 'ef', 'pi', 0], ['qubit', 'ge', 'hpi', 63680.329836000106]], 'wait_freq': 1.49, 'prepulse': True, 'postpulse': True, 'rb_time': 'None', 'bs_gate_num': 'None', 'qubits': [0], 'calibrate_single_shot': False, 'singleshot_reps': 10000, 'span': 500, 'active_reset': True, 'man_reset': True, 'storage_reset': True, 'threshold': -39.769721213292996, 'readout_per_round': 4, 'prep_man_photon': True, 'rb_active_reset': True, 'rb_man_reset': True, 'rb_storage_reset': True, 'rb_reps': 300, 'gates_per_wait': 100000, 'rounds': 1, 'variations': 50, 'rb_depth': 134, 'IRB_gate_no': -1, 'bs_repeat': 1, 'sync': False, 'setup': False, 'bs_para': [696.665, 9000, 0.666955, 0.005]}\n",
      "ge fidelity (%): 0\n",
      "rotation angle (deg): [0]\n",
      "threshold ge: 0\n"
     ]
    },
    {
     "data": {
      "application/vnd.jupyter.widget-view+json": {
       "model_id": "30cc487ead7f43bb90a4c6e46432c7a8",
       "version_major": 2,
       "version_minor": 0
      },
      "text/plain": [
       "  0%|          | 0/50 [00:00<?, ?it/s]"
      ]
     },
     "metadata": {},
     "output_type": "display_data"
    },
    {
     "name": "stdout",
     "output_type": "stream",
     "text": [
      "Saving H:\\Shared drives\\SLab\\Multimode\\experiment\\240911\\data1\\01110_SingleBeamSplitterRB_stor_ramsey_spec.h5\n",
      "Index: 20 depth. = 141 \n",
      "{'pre_sweep_pulse': [['qubit', 'ge', 'hpi', 0], ['qubit', 'ef', 'pi', 0], ['man', 'M1', 'pi', 0], ['storage', 'M1-S7', 'pi', 0]], 'post_sweep_pulse': [['storage', 'M1-S7', 'pi', 0], ['man', 'M1', 'pi', 0], ['qubit', 'ef', 'pi', 0], ['qubit', 'ge', 'hpi', 64395.83916000011]], 'wait_freq': 1.49, 'prepulse': True, 'postpulse': True, 'rb_time': 'None', 'bs_gate_num': 'None', 'qubits': [0], 'calibrate_single_shot': False, 'singleshot_reps': 10000, 'span': 500, 'active_reset': True, 'man_reset': True, 'storage_reset': True, 'threshold': -39.769721213292996, 'readout_per_round': 4, 'prep_man_photon': True, 'rb_active_reset': True, 'rb_man_reset': True, 'rb_storage_reset': True, 'rb_reps': 300, 'gates_per_wait': 100000, 'rounds': 1, 'variations': 50, 'rb_depth': 141, 'IRB_gate_no': -1, 'bs_repeat': 1, 'sync': False, 'setup': False, 'bs_para': [696.665, 9000, 0.666955, 0.005]}\n",
      "ge fidelity (%): 0\n",
      "rotation angle (deg): [0]\n",
      "threshold ge: 0\n"
     ]
    },
    {
     "data": {
      "application/vnd.jupyter.widget-view+json": {
       "model_id": "51c2bb899287419e897cf1c9340ef895",
       "version_major": 2,
       "version_minor": 0
      },
      "text/plain": [
       "  0%|          | 0/50 [00:00<?, ?it/s]"
      ]
     },
     "metadata": {},
     "output_type": "display_data"
    },
    {
     "name": "stdout",
     "output_type": "stream",
     "text": [
      "Saving H:\\Shared drives\\SLab\\Multimode\\experiment\\240911\\data1\\01111_SingleBeamSplitterRB_stor_ramsey_spec.h5\n",
      "Index: 21 depth. = 148 \n",
      "{'pre_sweep_pulse': [['qubit', 'ge', 'hpi', 0], ['qubit', 'ef', 'pi', 0], ['man', 'M1', 'pi', 0], ['storage', 'M1-S7', 'pi', 0]], 'post_sweep_pulse': [['storage', 'M1-S7', 'pi', 0], ['man', 'M1', 'pi', 0], ['qubit', 'ef', 'pi', 0], ['qubit', 'ge', 'hpi', 71908.68706200011]], 'wait_freq': 1.49, 'prepulse': True, 'postpulse': True, 'rb_time': 'None', 'bs_gate_num': 'None', 'qubits': [0], 'calibrate_single_shot': False, 'singleshot_reps': 10000, 'span': 500, 'active_reset': True, 'man_reset': True, 'storage_reset': True, 'threshold': -39.769721213292996, 'readout_per_round': 4, 'prep_man_photon': True, 'rb_active_reset': True, 'rb_man_reset': True, 'rb_storage_reset': True, 'rb_reps': 300, 'gates_per_wait': 100000, 'rounds': 1, 'variations': 50, 'rb_depth': 148, 'IRB_gate_no': -1, 'bs_repeat': 1, 'sync': False, 'setup': False, 'bs_para': [696.665, 9000, 0.666955, 0.005]}\n",
      "ge fidelity (%): 0\n",
      "rotation angle (deg): [0]\n",
      "threshold ge: 0\n"
     ]
    },
    {
     "data": {
      "application/vnd.jupyter.widget-view+json": {
       "model_id": "c2519ce9f114447b9316a8f085d634c3",
       "version_major": 2,
       "version_minor": 0
      },
      "text/plain": [
       "  0%|          | 0/50 [00:00<?, ?it/s]"
      ]
     },
     "metadata": {},
     "output_type": "display_data"
    },
    {
     "name": "stdout",
     "output_type": "stream",
     "text": [
      "Saving H:\\Shared drives\\SLab\\Multimode\\experiment\\240911\\data1\\01112_SingleBeamSplitterRB_stor_ramsey_spec.h5\n",
      "Index: 22 depth. = 155 \n",
      "{'pre_sweep_pulse': [['qubit', 'ge', 'hpi', 0], ['qubit', 'ef', 'pi', 0], ['man', 'M1', 'pi', 0], ['storage', 'M1-S7', 'pi', 0]], 'post_sweep_pulse': [['storage', 'M1-S7', 'pi', 0], ['man', 'M1', 'pi', 0], ['qubit', 'ef', 'pi', 0], ['qubit', 'ge', 'hpi', 71908.68706200011]], 'wait_freq': 1.49, 'prepulse': True, 'postpulse': True, 'rb_time': 'None', 'bs_gate_num': 'None', 'qubits': [0], 'calibrate_single_shot': False, 'singleshot_reps': 10000, 'span': 500, 'active_reset': True, 'man_reset': True, 'storage_reset': True, 'threshold': -39.769721213292996, 'readout_per_round': 4, 'prep_man_photon': True, 'rb_active_reset': True, 'rb_man_reset': True, 'rb_storage_reset': True, 'rb_reps': 300, 'gates_per_wait': 100000, 'rounds': 1, 'variations': 50, 'rb_depth': 155, 'IRB_gate_no': -1, 'bs_repeat': 1, 'sync': False, 'setup': False, 'bs_para': [696.665, 9000, 0.666955, 0.005]}\n",
      "ge fidelity (%): 0\n",
      "rotation angle (deg): [0]\n",
      "threshold ge: 0\n"
     ]
    },
    {
     "data": {
      "application/vnd.jupyter.widget-view+json": {
       "model_id": "794329d818dd4d0a85b9e0a80190a336",
       "version_major": 2,
       "version_minor": 0
      },
      "text/plain": [
       "  0%|          | 0/50 [00:00<?, ?it/s]"
      ]
     },
     "metadata": {},
     "output_type": "display_data"
    },
    {
     "name": "stdout",
     "output_type": "stream",
     "text": [
      "Saving H:\\Shared drives\\SLab\\Multimode\\experiment\\240911\\data1\\01113_SingleBeamSplitterRB_stor_ramsey_spec.h5\n",
      "Index: 23 depth. = 162 \n",
      "{'pre_sweep_pulse': [['qubit', 'ge', 'hpi', 0], ['qubit', 'ef', 'pi', 0], ['man', 'M1', 'pi', 0], ['storage', 'M1-S7', 'pi', 0]], 'post_sweep_pulse': [['storage', 'M1-S7', 'pi', 0], ['man', 'M1', 'pi', 0], ['qubit', 'ef', 'pi', 0], ['qubit', 'ge', 'hpi', 72266.44172400013]], 'wait_freq': 1.49, 'prepulse': True, 'postpulse': True, 'rb_time': 'None', 'bs_gate_num': 'None', 'qubits': [0], 'calibrate_single_shot': False, 'singleshot_reps': 10000, 'span': 500, 'active_reset': True, 'man_reset': True, 'storage_reset': True, 'threshold': -39.769721213292996, 'readout_per_round': 4, 'prep_man_photon': True, 'rb_active_reset': True, 'rb_man_reset': True, 'rb_storage_reset': True, 'rb_reps': 300, 'gates_per_wait': 100000, 'rounds': 1, 'variations': 50, 'rb_depth': 162, 'IRB_gate_no': -1, 'bs_repeat': 1, 'sync': False, 'setup': False, 'bs_para': [696.665, 9000, 0.666955, 0.005]}\n",
      "ge fidelity (%): 0\n",
      "rotation angle (deg): [0]\n",
      "threshold ge: 0\n"
     ]
    },
    {
     "data": {
      "application/vnd.jupyter.widget-view+json": {
       "model_id": "6fd5db329f37454ca5bd2aa8980b7553",
       "version_major": 2,
       "version_minor": 0
      },
      "text/plain": [
       "  0%|          | 0/50 [00:00<?, ?it/s]"
      ]
     },
     "metadata": {},
     "output_type": "display_data"
    },
    {
     "name": "stdout",
     "output_type": "stream",
     "text": [
      "Saving H:\\Shared drives\\SLab\\Multimode\\experiment\\240911\\data1\\01114_SingleBeamSplitterRB_stor_ramsey_spec.h5\n",
      "Index: 24 depth. = 169 \n",
      "{'pre_sweep_pulse': [['qubit', 'ge', 'hpi', 0], ['qubit', 'ef', 'pi', 0], ['man', 'M1', 'pi', 0], ['storage', 'M1-S7', 'pi', 0]], 'post_sweep_pulse': [['storage', 'M1-S7', 'pi', 0], ['man', 'M1', 'pi', 0], ['qubit', 'ef', 'pi', 0], ['qubit', 'ge', 'hpi', 76559.49766800014]], 'wait_freq': 1.49, 'prepulse': True, 'postpulse': True, 'rb_time': 'None', 'bs_gate_num': 'None', 'qubits': [0], 'calibrate_single_shot': False, 'singleshot_reps': 10000, 'span': 500, 'active_reset': True, 'man_reset': True, 'storage_reset': True, 'threshold': -39.769721213292996, 'readout_per_round': 4, 'prep_man_photon': True, 'rb_active_reset': True, 'rb_man_reset': True, 'rb_storage_reset': True, 'rb_reps': 300, 'gates_per_wait': 100000, 'rounds': 1, 'variations': 50, 'rb_depth': 169, 'IRB_gate_no': -1, 'bs_repeat': 1, 'sync': False, 'setup': False, 'bs_para': [696.665, 9000, 0.666955, 0.005]}\n",
      "ge fidelity (%): 0\n",
      "rotation angle (deg): [0]\n",
      "threshold ge: 0\n"
     ]
    },
    {
     "data": {
      "application/vnd.jupyter.widget-view+json": {
       "model_id": "b6a89b82e9ea4c48a38c3be62d375095",
       "version_major": 2,
       "version_minor": 0
      },
      "text/plain": [
       "  0%|          | 0/50 [00:00<?, ?it/s]"
      ]
     },
     "metadata": {},
     "output_type": "display_data"
    },
    {
     "name": "stdout",
     "output_type": "stream",
     "text": [
      "Saving H:\\Shared drives\\SLab\\Multimode\\experiment\\240911\\data1\\01115_SingleBeamSplitterRB_stor_ramsey_spec.h5\n",
      "Index: 25 depth. = 176 \n",
      "{'pre_sweep_pulse': [['qubit', 'ge', 'hpi', 0], ['qubit', 'ef', 'pi', 0], ['man', 'M1', 'pi', 0], ['storage', 'M1-S7', 'pi', 0]], 'post_sweep_pulse': [['storage', 'M1-S7', 'pi', 0], ['man', 'M1', 'pi', 0], ['qubit', 'ef', 'pi', 0], ['qubit', 'ge', 'hpi', 79779.28962600016]], 'wait_freq': 1.49, 'prepulse': True, 'postpulse': True, 'rb_time': 'None', 'bs_gate_num': 'None', 'qubits': [0], 'calibrate_single_shot': False, 'singleshot_reps': 10000, 'span': 500, 'active_reset': True, 'man_reset': True, 'storage_reset': True, 'threshold': -39.769721213292996, 'readout_per_round': 4, 'prep_man_photon': True, 'rb_active_reset': True, 'rb_man_reset': True, 'rb_storage_reset': True, 'rb_reps': 300, 'gates_per_wait': 100000, 'rounds': 1, 'variations': 50, 'rb_depth': 176, 'IRB_gate_no': -1, 'bs_repeat': 1, 'sync': False, 'setup': False, 'bs_para': [696.665, 9000, 0.666955, 0.005]}\n",
      "ge fidelity (%): 0\n",
      "rotation angle (deg): [0]\n",
      "threshold ge: 0\n"
     ]
    },
    {
     "data": {
      "application/vnd.jupyter.widget-view+json": {
       "model_id": "4aa13b2165124a5db50485074086feb8",
       "version_major": 2,
       "version_minor": 0
      },
      "text/plain": [
       "  0%|          | 0/50 [00:00<?, ?it/s]"
      ]
     },
     "metadata": {},
     "output_type": "display_data"
    },
    {
     "name": "stdout",
     "output_type": "stream",
     "text": [
      "Saving H:\\Shared drives\\SLab\\Multimode\\experiment\\240911\\data1\\01116_SingleBeamSplitterRB_stor_ramsey_spec.h5\n",
      "Index: 26 depth. = 183 \n",
      "{'pre_sweep_pulse': [['qubit', 'ge', 'hpi', 0], ['qubit', 'ef', 'pi', 0], ['man', 'M1', 'pi', 0], ['storage', 'M1-S7', 'pi', 0]], 'post_sweep_pulse': [['storage', 'M1-S7', 'pi', 0], ['man', 'M1', 'pi', 0], ['qubit', 'ef', 'pi', 0], ['qubit', 'ge', 'hpi', 90869.68414800016]], 'wait_freq': 1.49, 'prepulse': True, 'postpulse': True, 'rb_time': 'None', 'bs_gate_num': 'None', 'qubits': [0], 'calibrate_single_shot': False, 'singleshot_reps': 10000, 'span': 500, 'active_reset': True, 'man_reset': True, 'storage_reset': True, 'threshold': -39.769721213292996, 'readout_per_round': 4, 'prep_man_photon': True, 'rb_active_reset': True, 'rb_man_reset': True, 'rb_storage_reset': True, 'rb_reps': 300, 'gates_per_wait': 100000, 'rounds': 1, 'variations': 50, 'rb_depth': 183, 'IRB_gate_no': -1, 'bs_repeat': 1, 'sync': False, 'setup': False, 'bs_para': [696.665, 9000, 0.666955, 0.005]}\n",
      "ge fidelity (%): 0\n",
      "rotation angle (deg): [0]\n",
      "threshold ge: 0\n"
     ]
    },
    {
     "data": {
      "application/vnd.jupyter.widget-view+json": {
       "model_id": "d4ff9c04ce6a4ce4ac66384cb3221a00",
       "version_major": 2,
       "version_minor": 0
      },
      "text/plain": [
       "  0%|          | 0/50 [00:00<?, ?it/s]"
      ]
     },
     "metadata": {},
     "output_type": "display_data"
    },
    {
     "name": "stdout",
     "output_type": "stream",
     "text": [
      "Saving H:\\Shared drives\\SLab\\Multimode\\experiment\\240911\\data1\\01117_SingleBeamSplitterRB_stor_ramsey_spec.h5\n",
      "Index: 27 depth. = 190 \n",
      "{'pre_sweep_pulse': [['qubit', 'ge', 'hpi', 0], ['qubit', 'ef', 'pi', 0], ['man', 'M1', 'pi', 0], ['storage', 'M1-S7', 'pi', 0]], 'post_sweep_pulse': [['storage', 'M1-S7', 'pi', 0], ['man', 'M1', 'pi', 0], ['qubit', 'ef', 'pi', 0], ['qubit', 'ge', 'hpi', 85503.36421800016]], 'wait_freq': 1.49, 'prepulse': True, 'postpulse': True, 'rb_time': 'None', 'bs_gate_num': 'None', 'qubits': [0], 'calibrate_single_shot': False, 'singleshot_reps': 10000, 'span': 500, 'active_reset': True, 'man_reset': True, 'storage_reset': True, 'threshold': -39.769721213292996, 'readout_per_round': 4, 'prep_man_photon': True, 'rb_active_reset': True, 'rb_man_reset': True, 'rb_storage_reset': True, 'rb_reps': 300, 'gates_per_wait': 100000, 'rounds': 1, 'variations': 50, 'rb_depth': 190, 'IRB_gate_no': -1, 'bs_repeat': 1, 'sync': False, 'setup': False, 'bs_para': [696.665, 9000, 0.666955, 0.005]}\n",
      "ge fidelity (%): 0\n",
      "rotation angle (deg): [0]\n",
      "threshold ge: 0\n"
     ]
    },
    {
     "data": {
      "application/vnd.jupyter.widget-view+json": {
       "model_id": "86ee774c1a374f108a0267013db2e0f5",
       "version_major": 2,
       "version_minor": 0
      },
      "text/plain": [
       "  0%|          | 0/50 [00:00<?, ?it/s]"
      ]
     },
     "metadata": {},
     "output_type": "display_data"
    },
    {
     "name": "stdout",
     "output_type": "stream",
     "text": [
      "Saving H:\\Shared drives\\SLab\\Multimode\\experiment\\240911\\data1\\01118_SingleBeamSplitterRB_stor_ramsey_spec.h5\n",
      "Index: 28 depth. = 197 \n",
      "{'pre_sweep_pulse': [['qubit', 'ge', 'hpi', 0], ['qubit', 'ef', 'pi', 0], ['man', 'M1', 'pi', 0], ['storage', 'M1-S7', 'pi', 0]], 'post_sweep_pulse': [['storage', 'M1-S7', 'pi', 0], ['man', 'M1', 'pi', 0], ['qubit', 'ef', 'pi', 0], ['qubit', 'ge', 'hpi', 93016.21212000017]], 'wait_freq': 1.49, 'prepulse': True, 'postpulse': True, 'rb_time': 'None', 'bs_gate_num': 'None', 'qubits': [0], 'calibrate_single_shot': False, 'singleshot_reps': 10000, 'span': 500, 'active_reset': True, 'man_reset': True, 'storage_reset': True, 'threshold': -39.769721213292996, 'readout_per_round': 4, 'prep_man_photon': True, 'rb_active_reset': True, 'rb_man_reset': True, 'rb_storage_reset': True, 'rb_reps': 300, 'gates_per_wait': 100000, 'rounds': 1, 'variations': 50, 'rb_depth': 197, 'IRB_gate_no': -1, 'bs_repeat': 1, 'sync': False, 'setup': False, 'bs_para': [696.665, 9000, 0.666955, 0.005]}\n",
      "ge fidelity (%): 0\n",
      "rotation angle (deg): [0]\n",
      "threshold ge: 0\n"
     ]
    },
    {
     "data": {
      "application/vnd.jupyter.widget-view+json": {
       "model_id": "b57285ec85dd4f2ab1f88bb015d0f052",
       "version_major": 2,
       "version_minor": 0
      },
      "text/plain": [
       "  0%|          | 0/50 [00:00<?, ?it/s]"
      ]
     },
     "metadata": {},
     "output_type": "display_data"
    },
    {
     "name": "stdout",
     "output_type": "stream",
     "text": [
      "Saving H:\\Shared drives\\SLab\\Multimode\\experiment\\240911\\data1\\01119_SingleBeamSplitterRB_stor_ramsey_spec.h5\n",
      "Index: 29 depth. = 204 \n",
      "{'pre_sweep_pulse': [['qubit', 'ge', 'hpi', 0], ['qubit', 'ef', 'pi', 0], ['man', 'M1', 'pi', 0], ['storage', 'M1-S7', 'pi', 0]], 'post_sweep_pulse': [['storage', 'M1-S7', 'pi', 0], ['man', 'M1', 'pi', 0], ['qubit', 'ef', 'pi', 0], ['qubit', 'ge', 'hpi', 94447.23076800015]], 'wait_freq': 1.49, 'prepulse': True, 'postpulse': True, 'rb_time': 'None', 'bs_gate_num': 'None', 'qubits': [0], 'calibrate_single_shot': False, 'singleshot_reps': 10000, 'span': 500, 'active_reset': True, 'man_reset': True, 'storage_reset': True, 'threshold': -39.769721213292996, 'readout_per_round': 4, 'prep_man_photon': True, 'rb_active_reset': True, 'rb_man_reset': True, 'rb_storage_reset': True, 'rb_reps': 300, 'gates_per_wait': 100000, 'rounds': 1, 'variations': 50, 'rb_depth': 204, 'IRB_gate_no': -1, 'bs_repeat': 1, 'sync': False, 'setup': False, 'bs_para': [696.665, 9000, 0.666955, 0.005]}\n",
      "ge fidelity (%): 0\n",
      "rotation angle (deg): [0]\n",
      "threshold ge: 0\n"
     ]
    },
    {
     "data": {
      "application/vnd.jupyter.widget-view+json": {
       "model_id": "24ef66b5585247aa80c6c71aedcfb4ba",
       "version_major": 2,
       "version_minor": 0
      },
      "text/plain": [
       "  0%|          | 0/50 [00:00<?, ?it/s]"
      ]
     },
     "metadata": {},
     "output_type": "display_data"
    },
    {
     "name": "stdout",
     "output_type": "stream",
     "text": [
      "Saving H:\\Shared drives\\SLab\\Multimode\\experiment\\240911\\data1\\01120_SingleBeamSplitterRB_stor_ramsey_spec.h5\n",
      "-------------------------------------------------\n",
      "Index: 0 Storage = 7, Spectator = 4 \n",
      "Index: 0 depth. = 1 \n",
      "{'pre_sweep_pulse': [['qubit', 'ge', 'hpi', 0], ['qubit', 'ef', 'pi', 0], ['man', 'M1', 'pi', 0], ['storage', 'M1-S7', 'pi', 0]], 'post_sweep_pulse': [['storage', 'M1-S7', 'pi', 0], ['man', 'M1', 'pi', 0], ['qubit', 'ef', 'pi', 0], ['qubit', 'ge', 'hpi', 94447.23076800015]], 'wait_freq': 1.77, 'prepulse': True, 'postpulse': True, 'rb_time': 'None', 'bs_gate_num': 'None', 'qubits': [0], 'calibrate_single_shot': True, 'singleshot_reps': 10000, 'span': 500, 'active_reset': True, 'man_reset': True, 'storage_reset': True, 'threshold': -39.769721213292996, 'readout_per_round': 4, 'prep_man_photon': True, 'rb_active_reset': True, 'rb_man_reset': True, 'rb_storage_reset': True, 'rb_reps': 300, 'gates_per_wait': 100000, 'rounds': 1, 'variations': 50, 'rb_depth': 1, 'IRB_gate_no': -1, 'bs_repeat': 1, 'sync': False, 'setup': False, 'bs_para': [875.845, 9000, 0.6271437312608766, 0.005]}\n",
      "sscfg active reset True\n",
      "9881\n",
      "9872\n",
      "ge fidelity (%): 98.33850910560541\n",
      "rotation angle (deg): 1.4313311443982748\n",
      "threshold ge: -8.023976220961572\n"
     ]
    },
    {
     "data": {
      "application/vnd.jupyter.widget-view+json": {
       "model_id": "6fce1b435d8e4202915b62580e146ff7",
       "version_major": 2,
       "version_minor": 0
      },
      "text/plain": [
       "  0%|          | 0/50 [00:00<?, ?it/s]"
      ]
     },
     "metadata": {},
     "output_type": "display_data"
    },
    {
     "name": "stdout",
     "output_type": "stream",
     "text": [
      "Saving H:\\Shared drives\\SLab\\Multimode\\experiment\\240911\\data1\\01121_SingleBeamSplitterRB_stor_ramsey_spec.h5\n",
      "Index: 1 depth. = 8 \n",
      "{'pre_sweep_pulse': [['qubit', 'ge', 'hpi', 0], ['qubit', 'ef', 'pi', 0], ['man', 'M1', 'pi', 0], ['storage', 'M1-S7', 'pi', 0]], 'post_sweep_pulse': [['storage', 'M1-S7', 'pi', 0], ['man', 'M1', 'pi', 0], ['qubit', 'ef', 'pi', 0], ['qubit', 'ge', 'hpi', 1598.4639422377224]], 'wait_freq': 1.77, 'prepulse': True, 'postpulse': True, 'rb_time': 'None', 'bs_gate_num': 'None', 'qubits': [0], 'calibrate_single_shot': False, 'singleshot_reps': 10000, 'span': 500, 'active_reset': True, 'man_reset': True, 'storage_reset': True, 'threshold': -39.769721213292996, 'readout_per_round': 4, 'prep_man_photon': True, 'rb_active_reset': True, 'rb_man_reset': True, 'rb_storage_reset': True, 'rb_reps': 300, 'gates_per_wait': 100000, 'rounds': 1, 'variations': 50, 'rb_depth': 8, 'IRB_gate_no': -1, 'bs_repeat': 1, 'sync': False, 'setup': False, 'bs_para': [875.845, 9000, 0.6271437312608766, 0.005]}\n",
      "ge fidelity (%): 0\n",
      "rotation angle (deg): [0]\n",
      "threshold ge: 0\n"
     ]
    },
    {
     "data": {
      "application/vnd.jupyter.widget-view+json": {
       "model_id": "9d0c0485ac4c4e5d94b6ae6c83e7c81a",
       "version_major": 2,
       "version_minor": 0
      },
      "text/plain": [
       "  0%|          | 0/50 [00:00<?, ?it/s]"
      ]
     },
     "metadata": {},
     "output_type": "display_data"
    },
    {
     "name": "stdout",
     "output_type": "stream",
     "text": [
      "Saving H:\\Shared drives\\SLab\\Multimode\\experiment\\240911\\data1\\01122_SingleBeamSplitterRB_stor_ramsey_spec.h5\n",
      "Index: 2 depth. = 15 \n",
      "{'pre_sweep_pulse': [['qubit', 'ge', 'hpi', 0], ['qubit', 'ef', 'pi', 0], ['man', 'M1', 'pi', 0], ['storage', 'M1-S7', 'pi', 0]], 'post_sweep_pulse': [['storage', 'M1-S7', 'pi', 0], ['man', 'M1', 'pi', 0], ['qubit', 'ef', 'pi', 0], ['qubit', 'ge', 'hpi', 5195.007812272598]], 'wait_freq': 1.77, 'prepulse': True, 'postpulse': True, 'rb_time': 'None', 'bs_gate_num': 'None', 'qubits': [0], 'calibrate_single_shot': False, 'singleshot_reps': 10000, 'span': 500, 'active_reset': True, 'man_reset': True, 'storage_reset': True, 'threshold': -39.769721213292996, 'readout_per_round': 4, 'prep_man_photon': True, 'rb_active_reset': True, 'rb_man_reset': True, 'rb_storage_reset': True, 'rb_reps': 300, 'gates_per_wait': 100000, 'rounds': 1, 'variations': 50, 'rb_depth': 15, 'IRB_gate_no': -1, 'bs_repeat': 1, 'sync': False, 'setup': False, 'bs_para': [875.845, 9000, 0.6271437312608766, 0.005]}\n",
      "ge fidelity (%): 0\n",
      "rotation angle (deg): [0]\n",
      "threshold ge: 0\n"
     ]
    },
    {
     "data": {
      "application/vnd.jupyter.widget-view+json": {
       "model_id": "7add1bb7b2044ad09f7bba637b865480",
       "version_major": 2,
       "version_minor": 0
      },
      "text/plain": [
       "  0%|          | 0/50 [00:00<?, ?it/s]"
      ]
     },
     "metadata": {},
     "output_type": "display_data"
    },
    {
     "name": "stdout",
     "output_type": "stream",
     "text": [
      "Saving H:\\Shared drives\\SLab\\Multimode\\experiment\\240911\\data1\\01123_SingleBeamSplitterRB_stor_ramsey_spec.h5\n",
      "Index: 3 depth. = 22 \n",
      "{'pre_sweep_pulse': [['qubit', 'ge', 'hpi', 0], ['qubit', 'ef', 'pi', 0], ['man', 'M1', 'pi', 0], ['storage', 'M1-S7', 'pi', 0]], 'post_sweep_pulse': [['storage', 'M1-S7', 'pi', 0], ['man', 'M1', 'pi', 0], ['qubit', 'ef', 'pi', 0], ['qubit', 'ge', 'hpi', 8391.935696748043]], 'wait_freq': 1.77, 'prepulse': True, 'postpulse': True, 'rb_time': 'None', 'bs_gate_num': 'None', 'qubits': [0], 'calibrate_single_shot': False, 'singleshot_reps': 10000, 'span': 500, 'active_reset': True, 'man_reset': True, 'storage_reset': True, 'threshold': -39.769721213292996, 'readout_per_round': 4, 'prep_man_photon': True, 'rb_active_reset': True, 'rb_man_reset': True, 'rb_storage_reset': True, 'rb_reps': 300, 'gates_per_wait': 100000, 'rounds': 1, 'variations': 50, 'rb_depth': 22, 'IRB_gate_no': -1, 'bs_repeat': 1, 'sync': False, 'setup': False, 'bs_para': [875.845, 9000, 0.6271437312608766, 0.005]}\n",
      "ge fidelity (%): 0\n",
      "rotation angle (deg): [0]\n",
      "threshold ge: 0\n"
     ]
    },
    {
     "data": {
      "application/vnd.jupyter.widget-view+json": {
       "model_id": "6f12f8ffa57144a9acba73ed34c8f7f2",
       "version_major": 2,
       "version_minor": 0
      },
      "text/plain": [
       "  0%|          | 0/50 [00:00<?, ?it/s]"
      ]
     },
     "metadata": {},
     "output_type": "display_data"
    },
    {
     "name": "stdout",
     "output_type": "stream",
     "text": [
      "Saving H:\\Shared drives\\SLab\\Multimode\\experiment\\240911\\data1\\01124_SingleBeamSplitterRB_stor_ramsey_spec.h5\n",
      "Index: 4 depth. = 29 \n",
      "{'pre_sweep_pulse': [['qubit', 'ge', 'hpi', 0], ['qubit', 'ef', 'pi', 0], ['man', 'M1', 'pi', 0], ['storage', 'M1-S7', 'pi', 0]], 'post_sweep_pulse': [['storage', 'M1-S7', 'pi', 0], ['man', 'M1', 'pi', 0], ['qubit', 'ef', 'pi', 0], ['qubit', 'ge', 'hpi', 13187.327523461205]], 'wait_freq': 1.77, 'prepulse': True, 'postpulse': True, 'rb_time': 'None', 'bs_gate_num': 'None', 'qubits': [0], 'calibrate_single_shot': False, 'singleshot_reps': 10000, 'span': 500, 'active_reset': True, 'man_reset': True, 'storage_reset': True, 'threshold': -39.769721213292996, 'readout_per_round': 4, 'prep_man_photon': True, 'rb_active_reset': True, 'rb_man_reset': True, 'rb_storage_reset': True, 'rb_reps': 300, 'gates_per_wait': 100000, 'rounds': 1, 'variations': 50, 'rb_depth': 29, 'IRB_gate_no': -1, 'bs_repeat': 1, 'sync': False, 'setup': False, 'bs_para': [875.845, 9000, 0.6271437312608766, 0.005]}\n",
      "ge fidelity (%): 0\n",
      "rotation angle (deg): [0]\n",
      "threshold ge: 0\n"
     ]
    },
    {
     "data": {
      "application/vnd.jupyter.widget-view+json": {
       "model_id": "a7ef31d89b0944dea113728299639dae",
       "version_major": 2,
       "version_minor": 0
      },
      "text/plain": [
       "  0%|          | 0/50 [00:00<?, ?it/s]"
      ]
     },
     "metadata": {},
     "output_type": "display_data"
    },
    {
     "name": "stdout",
     "output_type": "stream",
     "text": [
      "Saving H:\\Shared drives\\SLab\\Multimode\\experiment\\240911\\data1\\01125_SingleBeamSplitterRB_stor_ramsey_spec.h5\n",
      "Index: 5 depth. = 36 \n",
      "{'pre_sweep_pulse': [['qubit', 'ge', 'hpi', 0], ['qubit', 'ef', 'pi', 0], ['man', 'M1', 'pi', 0], ['storage', 'M1-S7', 'pi', 0]], 'post_sweep_pulse': [['storage', 'M1-S7', 'pi', 0], ['man', 'M1', 'pi', 0], ['qubit', 'ef', 'pi', 0], ['qubit', 'ge', 'hpi', 16783.871393496083]], 'wait_freq': 1.77, 'prepulse': True, 'postpulse': True, 'rb_time': 'None', 'bs_gate_num': 'None', 'qubits': [0], 'calibrate_single_shot': False, 'singleshot_reps': 10000, 'span': 500, 'active_reset': True, 'man_reset': True, 'storage_reset': True, 'threshold': -39.769721213292996, 'readout_per_round': 4, 'prep_man_photon': True, 'rb_active_reset': True, 'rb_man_reset': True, 'rb_storage_reset': True, 'rb_reps': 300, 'gates_per_wait': 100000, 'rounds': 1, 'variations': 50, 'rb_depth': 36, 'IRB_gate_no': -1, 'bs_repeat': 1, 'sync': False, 'setup': False, 'bs_para': [875.845, 9000, 0.6271437312608766, 0.005]}\n",
      "ge fidelity (%): 0\n",
      "rotation angle (deg): [0]\n",
      "threshold ge: 0\n"
     ]
    },
    {
     "data": {
      "application/vnd.jupyter.widget-view+json": {
       "model_id": "5c7d805ef4804351b528e86fd4079f51",
       "version_major": 2,
       "version_minor": 0
      },
      "text/plain": [
       "  0%|          | 0/50 [00:00<?, ?it/s]"
      ]
     },
     "metadata": {},
     "output_type": "display_data"
    },
    {
     "name": "stdout",
     "output_type": "stream",
     "text": [
      "Saving H:\\Shared drives\\SLab\\Multimode\\experiment\\240911\\data1\\01126_SingleBeamSplitterRB_stor_ramsey_spec.h5\n",
      "Index: 6 depth. = 43 \n",
      "{'pre_sweep_pulse': [['qubit', 'ge', 'hpi', 0], ['qubit', 'ef', 'pi', 0], ['man', 'M1', 'pi', 0], ['storage', 'M1-S7', 'pi', 0]], 'post_sweep_pulse': [['storage', 'M1-S7', 'pi', 0], ['man', 'M1', 'pi', 0], ['qubit', 'ef', 'pi', 0], ['qubit', 'ge', 'hpi', 18781.951321293232]], 'wait_freq': 1.77, 'prepulse': True, 'postpulse': True, 'rb_time': 'None', 'bs_gate_num': 'None', 'qubits': [0], 'calibrate_single_shot': False, 'singleshot_reps': 10000, 'span': 500, 'active_reset': True, 'man_reset': True, 'storage_reset': True, 'threshold': -39.769721213292996, 'readout_per_round': 4, 'prep_man_photon': True, 'rb_active_reset': True, 'rb_man_reset': True, 'rb_storage_reset': True, 'rb_reps': 300, 'gates_per_wait': 100000, 'rounds': 1, 'variations': 50, 'rb_depth': 43, 'IRB_gate_no': -1, 'bs_repeat': 1, 'sync': False, 'setup': False, 'bs_para': [875.845, 9000, 0.6271437312608766, 0.005]}\n",
      "ge fidelity (%): 0\n",
      "rotation angle (deg): [0]\n",
      "threshold ge: 0\n"
     ]
    },
    {
     "data": {
      "application/vnd.jupyter.widget-view+json": {
       "model_id": "a6cf5bfe8df7483986b3d447662191c5",
       "version_major": 2,
       "version_minor": 0
      },
      "text/plain": [
       "  0%|          | 0/50 [00:00<?, ?it/s]"
      ]
     },
     "metadata": {},
     "output_type": "display_data"
    },
    {
     "name": "stdout",
     "output_type": "stream",
     "text": [
      "Saving H:\\Shared drives\\SLab\\Multimode\\experiment\\240911\\data1\\01127_SingleBeamSplitterRB_stor_ramsey_spec.h5\n",
      "Index: 7 depth. = 50 \n",
      "{'pre_sweep_pulse': [['qubit', 'ge', 'hpi', 0], ['qubit', 'ef', 'pi', 0], ['man', 'M1', 'pi', 0], ['storage', 'M1-S7', 'pi', 0]], 'post_sweep_pulse': [['storage', 'M1-S7', 'pi', 0], ['man', 'M1', 'pi', 0], ['qubit', 'ef', 'pi', 0], ['qubit', 'ge', 'hpi', 22378.49519132811]], 'wait_freq': 1.77, 'prepulse': True, 'postpulse': True, 'rb_time': 'None', 'bs_gate_num': 'None', 'qubits': [0], 'calibrate_single_shot': False, 'singleshot_reps': 10000, 'span': 500, 'active_reset': True, 'man_reset': True, 'storage_reset': True, 'threshold': -39.769721213292996, 'readout_per_round': 4, 'prep_man_photon': True, 'rb_active_reset': True, 'rb_man_reset': True, 'rb_storage_reset': True, 'rb_reps': 300, 'gates_per_wait': 100000, 'rounds': 1, 'variations': 50, 'rb_depth': 50, 'IRB_gate_no': -1, 'bs_repeat': 1, 'sync': False, 'setup': False, 'bs_para': [875.845, 9000, 0.6271437312608766, 0.005]}\n",
      "ge fidelity (%): 0\n",
      "rotation angle (deg): [0]\n",
      "threshold ge: 0\n"
     ]
    },
    {
     "data": {
      "application/vnd.jupyter.widget-view+json": {
       "model_id": "bb920e4f9f784cf3b6da929770ed0b15",
       "version_major": 2,
       "version_minor": 0
      },
      "text/plain": [
       "  0%|          | 0/50 [00:00<?, ?it/s]"
      ]
     },
     "metadata": {},
     "output_type": "display_data"
    },
    {
     "name": "stdout",
     "output_type": "stream",
     "text": [
      "Saving H:\\Shared drives\\SLab\\Multimode\\experiment\\240911\\data1\\01128_SingleBeamSplitterRB_stor_ramsey_spec.h5\n",
      "Index: 8 depth. = 57 \n",
      "{'pre_sweep_pulse': [['qubit', 'ge', 'hpi', 0], ['qubit', 'ef', 'pi', 0], ['man', 'M1', 'pi', 0], ['storage', 'M1-S7', 'pi', 0]], 'post_sweep_pulse': [['storage', 'M1-S7', 'pi', 0], ['man', 'M1', 'pi', 0], ['qubit', 'ef', 'pi', 0], ['qubit', 'ge', 'hpi', 27173.887018041278]], 'wait_freq': 1.77, 'prepulse': True, 'postpulse': True, 'rb_time': 'None', 'bs_gate_num': 'None', 'qubits': [0], 'calibrate_single_shot': False, 'singleshot_reps': 10000, 'span': 500, 'active_reset': True, 'man_reset': True, 'storage_reset': True, 'threshold': -39.769721213292996, 'readout_per_round': 4, 'prep_man_photon': True, 'rb_active_reset': True, 'rb_man_reset': True, 'rb_storage_reset': True, 'rb_reps': 300, 'gates_per_wait': 100000, 'rounds': 1, 'variations': 50, 'rb_depth': 57, 'IRB_gate_no': -1, 'bs_repeat': 1, 'sync': False, 'setup': False, 'bs_para': [875.845, 9000, 0.6271437312608766, 0.005]}\n",
      "ge fidelity (%): 0\n",
      "rotation angle (deg): [0]\n",
      "threshold ge: 0\n"
     ]
    },
    {
     "data": {
      "application/vnd.jupyter.widget-view+json": {
       "model_id": "2ca439e8a69c4bb186f32b761268a13c",
       "version_major": 2,
       "version_minor": 0
      },
      "text/plain": [
       "  0%|          | 0/50 [00:00<?, ?it/s]"
      ]
     },
     "metadata": {},
     "output_type": "display_data"
    },
    {
     "name": "stdout",
     "output_type": "stream",
     "text": [
      "Saving H:\\Shared drives\\SLab\\Multimode\\experiment\\240911\\data1\\01129_SingleBeamSplitterRB_stor_ramsey_spec.h5\n",
      "Index: 9 depth. = 64 \n",
      "{'pre_sweep_pulse': [['qubit', 'ge', 'hpi', 0], ['qubit', 'ef', 'pi', 0], ['man', 'M1', 'pi', 0], ['storage', 'M1-S7', 'pi', 0]], 'post_sweep_pulse': [['storage', 'M1-S7', 'pi', 0], ['man', 'M1', 'pi', 0], ['qubit', 'ef', 'pi', 0], ['qubit', 'ge', 'hpi', 29971.198916957306]], 'wait_freq': 1.77, 'prepulse': True, 'postpulse': True, 'rb_time': 'None', 'bs_gate_num': 'None', 'qubits': [0], 'calibrate_single_shot': False, 'singleshot_reps': 10000, 'span': 500, 'active_reset': True, 'man_reset': True, 'storage_reset': True, 'threshold': -39.769721213292996, 'readout_per_round': 4, 'prep_man_photon': True, 'rb_active_reset': True, 'rb_man_reset': True, 'rb_storage_reset': True, 'rb_reps': 300, 'gates_per_wait': 100000, 'rounds': 1, 'variations': 50, 'rb_depth': 64, 'IRB_gate_no': -1, 'bs_repeat': 1, 'sync': False, 'setup': False, 'bs_para': [875.845, 9000, 0.6271437312608766, 0.005]}\n",
      "ge fidelity (%): 0\n",
      "rotation angle (deg): [0]\n",
      "threshold ge: 0\n"
     ]
    },
    {
     "data": {
      "application/vnd.jupyter.widget-view+json": {
       "model_id": "b396b6b930554959af2db3584d4e97f4",
       "version_major": 2,
       "version_minor": 0
      },
      "text/plain": [
       "  0%|          | 0/50 [00:00<?, ?it/s]"
      ]
     },
     "metadata": {},
     "output_type": "display_data"
    },
    {
     "name": "stdout",
     "output_type": "stream",
     "text": [
      "Saving H:\\Shared drives\\SLab\\Multimode\\experiment\\240911\\data1\\01130_SingleBeamSplitterRB_stor_ramsey_spec.h5\n",
      "Index: 10 depth. = 71 \n",
      "{'pre_sweep_pulse': [['qubit', 'ge', 'hpi', 0], ['qubit', 'ef', 'pi', 0], ['man', 'M1', 'pi', 0], ['storage', 'M1-S7', 'pi', 0]], 'post_sweep_pulse': [['storage', 'M1-S7', 'pi', 0], ['man', 'M1', 'pi', 0], ['qubit', 'ef', 'pi', 0], ['qubit', 'ge', 'hpi', 37563.90264258649]], 'wait_freq': 1.77, 'prepulse': True, 'postpulse': True, 'rb_time': 'None', 'bs_gate_num': 'None', 'qubits': [0], 'calibrate_single_shot': False, 'singleshot_reps': 10000, 'span': 500, 'active_reset': True, 'man_reset': True, 'storage_reset': True, 'threshold': -39.769721213292996, 'readout_per_round': 4, 'prep_man_photon': True, 'rb_active_reset': True, 'rb_man_reset': True, 'rb_storage_reset': True, 'rb_reps': 300, 'gates_per_wait': 100000, 'rounds': 1, 'variations': 50, 'rb_depth': 71, 'IRB_gate_no': -1, 'bs_repeat': 1, 'sync': False, 'setup': False, 'bs_para': [875.845, 9000, 0.6271437312608766, 0.005]}\n",
      "ge fidelity (%): 0\n",
      "rotation angle (deg): [0]\n",
      "threshold ge: 0\n"
     ]
    },
    {
     "data": {
      "application/vnd.jupyter.widget-view+json": {
       "model_id": "952f6b2346e346bcaa7ad514b4fd6e10",
       "version_major": 2,
       "version_minor": 0
      },
      "text/plain": [
       "  0%|          | 0/50 [00:00<?, ?it/s]"
      ]
     },
     "metadata": {},
     "output_type": "display_data"
    },
    {
     "name": "stdout",
     "output_type": "stream",
     "text": [
      "Saving H:\\Shared drives\\SLab\\Multimode\\experiment\\240911\\data1\\01131_SingleBeamSplitterRB_stor_ramsey_spec.h5\n",
      "Index: 11 depth. = 78 \n",
      "{'pre_sweep_pulse': [['qubit', 'ge', 'hpi', 0], ['qubit', 'ef', 'pi', 0], ['man', 'M1', 'pi', 0], ['storage', 'M1-S7', 'pi', 0]], 'post_sweep_pulse': [['storage', 'M1-S7', 'pi', 0], ['man', 'M1', 'pi', 0], ['qubit', 'ef', 'pi', 0], ['qubit', 'ge', 'hpi', 38762.750599264786]], 'wait_freq': 1.77, 'prepulse': True, 'postpulse': True, 'rb_time': 'None', 'bs_gate_num': 'None', 'qubits': [0], 'calibrate_single_shot': False, 'singleshot_reps': 10000, 'span': 500, 'active_reset': True, 'man_reset': True, 'storage_reset': True, 'threshold': -39.769721213292996, 'readout_per_round': 4, 'prep_man_photon': True, 'rb_active_reset': True, 'rb_man_reset': True, 'rb_storage_reset': True, 'rb_reps': 300, 'gates_per_wait': 100000, 'rounds': 1, 'variations': 50, 'rb_depth': 78, 'IRB_gate_no': -1, 'bs_repeat': 1, 'sync': False, 'setup': False, 'bs_para': [875.845, 9000, 0.6271437312608766, 0.005]}\n",
      "ge fidelity (%): 0\n",
      "rotation angle (deg): [0]\n",
      "threshold ge: 0\n"
     ]
    },
    {
     "data": {
      "application/vnd.jupyter.widget-view+json": {
       "model_id": "521cc43faa8447138d81cdd8e0629443",
       "version_major": 2,
       "version_minor": 0
      },
      "text/plain": [
       "  0%|          | 0/50 [00:00<?, ?it/s]"
      ]
     },
     "metadata": {},
     "output_type": "display_data"
    },
    {
     "name": "stdout",
     "output_type": "stream",
     "text": [
      "Saving H:\\Shared drives\\SLab\\Multimode\\experiment\\240911\\data1\\01132_SingleBeamSplitterRB_stor_ramsey_spec.h5\n",
      "Index: 12 depth. = 85 \n",
      "{'pre_sweep_pulse': [['qubit', 'ge', 'hpi', 0], ['qubit', 'ef', 'pi', 0], ['man', 'M1', 'pi', 0], ['storage', 'M1-S7', 'pi', 0]], 'post_sweep_pulse': [['storage', 'M1-S7', 'pi', 0], ['man', 'M1', 'pi', 0], ['qubit', 'ef', 'pi', 0], ['qubit', 'ge', 'hpi', 40361.21454150252]], 'wait_freq': 1.77, 'prepulse': True, 'postpulse': True, 'rb_time': 'None', 'bs_gate_num': 'None', 'qubits': [0], 'calibrate_single_shot': False, 'singleshot_reps': 10000, 'span': 500, 'active_reset': True, 'man_reset': True, 'storage_reset': True, 'threshold': -39.769721213292996, 'readout_per_round': 4, 'prep_man_photon': True, 'rb_active_reset': True, 'rb_man_reset': True, 'rb_storage_reset': True, 'rb_reps': 300, 'gates_per_wait': 100000, 'rounds': 1, 'variations': 50, 'rb_depth': 85, 'IRB_gate_no': -1, 'bs_repeat': 1, 'sync': False, 'setup': False, 'bs_para': [875.845, 9000, 0.6271437312608766, 0.005]}\n",
      "ge fidelity (%): 0\n",
      "rotation angle (deg): [0]\n",
      "threshold ge: 0\n"
     ]
    },
    {
     "data": {
      "application/vnd.jupyter.widget-view+json": {
       "model_id": "60d2037af3c047619c4e3420ead5a726",
       "version_major": 2,
       "version_minor": 0
      },
      "text/plain": [
       "  0%|          | 0/50 [00:00<?, ?it/s]"
      ]
     },
     "metadata": {},
     "output_type": "display_data"
    },
    {
     "name": "stdout",
     "output_type": "stream",
     "text": [
      "Saving H:\\Shared drives\\SLab\\Multimode\\experiment\\240911\\data1\\01133_SingleBeamSplitterRB_stor_ramsey_spec.h5\n",
      "Index: 13 depth. = 92 \n",
      "{'pre_sweep_pulse': [['qubit', 'ge', 'hpi', 0], ['qubit', 'ef', 'pi', 0], ['man', 'M1', 'pi', 0], ['storage', 'M1-S7', 'pi', 0]], 'post_sweep_pulse': [['storage', 'M1-S7', 'pi', 0], ['man', 'M1', 'pi', 0], ['qubit', 'ef', 'pi', 0], ['qubit', 'ge', 'hpi', 45955.83833933454]], 'wait_freq': 1.77, 'prepulse': True, 'postpulse': True, 'rb_time': 'None', 'bs_gate_num': 'None', 'qubits': [0], 'calibrate_single_shot': False, 'singleshot_reps': 10000, 'span': 500, 'active_reset': True, 'man_reset': True, 'storage_reset': True, 'threshold': -39.769721213292996, 'readout_per_round': 4, 'prep_man_photon': True, 'rb_active_reset': True, 'rb_man_reset': True, 'rb_storage_reset': True, 'rb_reps': 300, 'gates_per_wait': 100000, 'rounds': 1, 'variations': 50, 'rb_depth': 92, 'IRB_gate_no': -1, 'bs_repeat': 1, 'sync': False, 'setup': False, 'bs_para': [875.845, 9000, 0.6271437312608766, 0.005]}\n",
      "ge fidelity (%): 0\n",
      "rotation angle (deg): [0]\n",
      "threshold ge: 0\n"
     ]
    },
    {
     "data": {
      "application/vnd.jupyter.widget-view+json": {
       "model_id": "e852c7c889e849259f16ed58cee3d7f2",
       "version_major": 2,
       "version_minor": 0
      },
      "text/plain": [
       "  0%|          | 0/50 [00:00<?, ?it/s]"
      ]
     },
     "metadata": {},
     "output_type": "display_data"
    },
    {
     "name": "stdout",
     "output_type": "stream",
     "text": [
      "Saving H:\\Shared drives\\SLab\\Multimode\\experiment\\240911\\data1\\01134_SingleBeamSplitterRB_stor_ramsey_spec.h5\n",
      "Index: 14 depth. = 99 \n",
      "{'pre_sweep_pulse': [['qubit', 'ge', 'hpi', 0], ['qubit', 'ef', 'pi', 0], ['man', 'M1', 'pi', 0], ['storage', 'M1-S7', 'pi', 0]], 'post_sweep_pulse': [['storage', 'M1-S7', 'pi', 0], ['man', 'M1', 'pi', 0], ['qubit', 'ef', 'pi', 0], ['qubit', 'ge', 'hpi', 51150.846151607126]], 'wait_freq': 1.77, 'prepulse': True, 'postpulse': True, 'rb_time': 'None', 'bs_gate_num': 'None', 'qubits': [0], 'calibrate_single_shot': False, 'singleshot_reps': 10000, 'span': 500, 'active_reset': True, 'man_reset': True, 'storage_reset': True, 'threshold': -39.769721213292996, 'readout_per_round': 4, 'prep_man_photon': True, 'rb_active_reset': True, 'rb_man_reset': True, 'rb_storage_reset': True, 'rb_reps': 300, 'gates_per_wait': 100000, 'rounds': 1, 'variations': 50, 'rb_depth': 99, 'IRB_gate_no': -1, 'bs_repeat': 1, 'sync': False, 'setup': False, 'bs_para': [875.845, 9000, 0.6271437312608766, 0.005]}\n",
      "ge fidelity (%): 0\n",
      "rotation angle (deg): [0]\n",
      "threshold ge: 0\n"
     ]
    },
    {
     "data": {
      "application/vnd.jupyter.widget-view+json": {
       "model_id": "2bfd01e82c9d430bb7c78ee966401cba",
       "version_major": 2,
       "version_minor": 0
      },
      "text/plain": [
       "  0%|          | 0/50 [00:00<?, ?it/s]"
      ]
     },
     "metadata": {},
     "output_type": "display_data"
    },
    {
     "name": "stdout",
     "output_type": "stream",
     "text": [
      "Saving H:\\Shared drives\\SLab\\Multimode\\experiment\\240911\\data1\\01135_SingleBeamSplitterRB_stor_ramsey_spec.h5\n",
      "Index: 15 depth. = 106 \n",
      "{'pre_sweep_pulse': [['qubit', 'ge', 'hpi', 0], ['qubit', 'ef', 'pi', 0], ['man', 'M1', 'pi', 0], ['storage', 'M1-S7', 'pi', 0]], 'post_sweep_pulse': [['storage', 'M1-S7', 'pi', 0], ['man', 'M1', 'pi', 0], ['qubit', 'ef', 'pi', 0], ['qubit', 'ge', 'hpi', 56745.46994943915]], 'wait_freq': 1.77, 'prepulse': True, 'postpulse': True, 'rb_time': 'None', 'bs_gate_num': 'None', 'qubits': [0], 'calibrate_single_shot': False, 'singleshot_reps': 10000, 'span': 500, 'active_reset': True, 'man_reset': True, 'storage_reset': True, 'threshold': -39.769721213292996, 'readout_per_round': 4, 'prep_man_photon': True, 'rb_active_reset': True, 'rb_man_reset': True, 'rb_storage_reset': True, 'rb_reps': 300, 'gates_per_wait': 100000, 'rounds': 1, 'variations': 50, 'rb_depth': 106, 'IRB_gate_no': -1, 'bs_repeat': 1, 'sync': False, 'setup': False, 'bs_para': [875.845, 9000, 0.6271437312608766, 0.005]}\n",
      "ge fidelity (%): 0\n",
      "rotation angle (deg): [0]\n",
      "threshold ge: 0\n"
     ]
    },
    {
     "data": {
      "application/vnd.jupyter.widget-view+json": {
       "model_id": "a6c1455b045445f6a4c5f843ed56eb0e",
       "version_major": 2,
       "version_minor": 0
      },
      "text/plain": [
       "  0%|          | 0/50 [00:00<?, ?it/s]"
      ]
     },
     "metadata": {},
     "output_type": "display_data"
    },
    {
     "name": "stdout",
     "output_type": "stream",
     "text": [
      "Saving H:\\Shared drives\\SLab\\Multimode\\experiment\\240911\\data1\\01136_SingleBeamSplitterRB_stor_ramsey_spec.h5\n",
      "Index: 16 depth. = 113 \n",
      "{'pre_sweep_pulse': [['qubit', 'ge', 'hpi', 0], ['qubit', 'ef', 'pi', 0], ['man', 'M1', 'pi', 0], ['storage', 'M1-S7', 'pi', 0]], 'post_sweep_pulse': [['storage', 'M1-S7', 'pi', 0], ['man', 'M1', 'pi', 0], ['qubit', 'ef', 'pi', 0], ['qubit', 'ge', 'hpi', 52749.310093844884]], 'wait_freq': 1.77, 'prepulse': True, 'postpulse': True, 'rb_time': 'None', 'bs_gate_num': 'None', 'qubits': [0], 'calibrate_single_shot': False, 'singleshot_reps': 10000, 'span': 500, 'active_reset': True, 'man_reset': True, 'storage_reset': True, 'threshold': -39.769721213292996, 'readout_per_round': 4, 'prep_man_photon': True, 'rb_active_reset': True, 'rb_man_reset': True, 'rb_storage_reset': True, 'rb_reps': 300, 'gates_per_wait': 100000, 'rounds': 1, 'variations': 50, 'rb_depth': 113, 'IRB_gate_no': -1, 'bs_repeat': 1, 'sync': False, 'setup': False, 'bs_para': [875.845, 9000, 0.6271437312608766, 0.005]}\n",
      "ge fidelity (%): 0\n",
      "rotation angle (deg): [0]\n",
      "threshold ge: 0\n"
     ]
    },
    {
     "data": {
      "application/vnd.jupyter.widget-view+json": {
       "model_id": "85a7d8df2bbb4e0a8759cfc3499c4b81",
       "version_major": 2,
       "version_minor": 0
      },
      "text/plain": [
       "  0%|          | 0/50 [00:00<?, ?it/s]"
      ]
     },
     "metadata": {},
     "output_type": "display_data"
    },
    {
     "name": "stdout",
     "output_type": "stream",
     "text": [
      "Saving H:\\Shared drives\\SLab\\Multimode\\experiment\\240911\\data1\\01137_SingleBeamSplitterRB_stor_ramsey_spec.h5\n",
      "Index: 17 depth. = 120 \n",
      "{'pre_sweep_pulse': [['qubit', 'ge', 'hpi', 0], ['qubit', 'ef', 'pi', 0], ['man', 'M1', 'pi', 0], ['storage', 'M1-S7', 'pi', 0]], 'post_sweep_pulse': [['storage', 'M1-S7', 'pi', 0], ['man', 'M1', 'pi', 0], ['qubit', 'ef', 'pi', 0], ['qubit', 'ge', 'hpi', 61940.47776171175]], 'wait_freq': 1.77, 'prepulse': True, 'postpulse': True, 'rb_time': 'None', 'bs_gate_num': 'None', 'qubits': [0], 'calibrate_single_shot': False, 'singleshot_reps': 10000, 'span': 500, 'active_reset': True, 'man_reset': True, 'storage_reset': True, 'threshold': -39.769721213292996, 'readout_per_round': 4, 'prep_man_photon': True, 'rb_active_reset': True, 'rb_man_reset': True, 'rb_storage_reset': True, 'rb_reps': 300, 'gates_per_wait': 100000, 'rounds': 1, 'variations': 50, 'rb_depth': 120, 'IRB_gate_no': -1, 'bs_repeat': 1, 'sync': False, 'setup': False, 'bs_para': [875.845, 9000, 0.6271437312608766, 0.005]}\n",
      "ge fidelity (%): 0\n",
      "rotation angle (deg): [0]\n",
      "threshold ge: 0\n"
     ]
    },
    {
     "data": {
      "application/vnd.jupyter.widget-view+json": {
       "model_id": "112b646f97e04e08a69de6c9c51ac537",
       "version_major": 2,
       "version_minor": 0
      },
      "text/plain": [
       "  0%|          | 0/50 [00:00<?, ?it/s]"
      ]
     },
     "metadata": {},
     "output_type": "display_data"
    },
    {
     "name": "stdout",
     "output_type": "stream",
     "text": [
      "Saving H:\\Shared drives\\SLab\\Multimode\\experiment\\240911\\data1\\01138_SingleBeamSplitterRB_stor_ramsey_spec.h5\n",
      "Index: 18 depth. = 127 \n",
      "{'pre_sweep_pulse': [['qubit', 'ge', 'hpi', 0], ['qubit', 'ef', 'pi', 0], ['man', 'M1', 'pi', 0], ['storage', 'M1-S7', 'pi', 0]], 'post_sweep_pulse': [['storage', 'M1-S7', 'pi', 0], ['man', 'M1', 'pi', 0], ['qubit', 'ef', 'pi', 0], ['qubit', 'ge', 'hpi', 61141.24579059285]], 'wait_freq': 1.77, 'prepulse': True, 'postpulse': True, 'rb_time': 'None', 'bs_gate_num': 'None', 'qubits': [0], 'calibrate_single_shot': False, 'singleshot_reps': 10000, 'span': 500, 'active_reset': True, 'man_reset': True, 'storage_reset': True, 'threshold': -39.769721213292996, 'readout_per_round': 4, 'prep_man_photon': True, 'rb_active_reset': True, 'rb_man_reset': True, 'rb_storage_reset': True, 'rb_reps': 300, 'gates_per_wait': 100000, 'rounds': 1, 'variations': 50, 'rb_depth': 127, 'IRB_gate_no': -1, 'bs_repeat': 1, 'sync': False, 'setup': False, 'bs_para': [875.845, 9000, 0.6271437312608766, 0.005]}\n",
      "ge fidelity (%): 0\n",
      "rotation angle (deg): [0]\n",
      "threshold ge: 0\n"
     ]
    },
    {
     "data": {
      "application/vnd.jupyter.widget-view+json": {
       "model_id": "80759e54305c4c99a07238f34538e0c7",
       "version_major": 2,
       "version_minor": 0
      },
      "text/plain": [
       "  0%|          | 0/50 [00:00<?, ?it/s]"
      ]
     },
     "metadata": {},
     "output_type": "display_data"
    },
    {
     "name": "stdout",
     "output_type": "stream",
     "text": [
      "Saving H:\\Shared drives\\SLab\\Multimode\\experiment\\240911\\data1\\01139_SingleBeamSplitterRB_stor_ramsey_spec.h5\n",
      "Index: 19 depth. = 134 \n",
      "{'pre_sweep_pulse': [['qubit', 'ge', 'hpi', 0], ['qubit', 'ef', 'pi', 0], ['man', 'M1', 'pi', 0], ['storage', 'M1-S7', 'pi', 0]], 'post_sweep_pulse': [['storage', 'M1-S7', 'pi', 0], ['man', 'M1', 'pi', 0], ['qubit', 'ef', 'pi', 0], ['qubit', 'ge', 'hpi', 69932.79747290038]], 'wait_freq': 1.77, 'prepulse': True, 'postpulse': True, 'rb_time': 'None', 'bs_gate_num': 'None', 'qubits': [0], 'calibrate_single_shot': False, 'singleshot_reps': 10000, 'span': 500, 'active_reset': True, 'man_reset': True, 'storage_reset': True, 'threshold': -39.769721213292996, 'readout_per_round': 4, 'prep_man_photon': True, 'rb_active_reset': True, 'rb_man_reset': True, 'rb_storage_reset': True, 'rb_reps': 300, 'gates_per_wait': 100000, 'rounds': 1, 'variations': 50, 'rb_depth': 134, 'IRB_gate_no': -1, 'bs_repeat': 1, 'sync': False, 'setup': False, 'bs_para': [875.845, 9000, 0.6271437312608766, 0.005]}\n",
      "ge fidelity (%): 0\n",
      "rotation angle (deg): [0]\n",
      "threshold ge: 0\n"
     ]
    },
    {
     "data": {
      "application/vnd.jupyter.widget-view+json": {
       "model_id": "078cc50c113448939b1c216c8281037f",
       "version_major": 2,
       "version_minor": 0
      },
      "text/plain": [
       "  0%|          | 0/50 [00:00<?, ?it/s]"
      ]
     },
     "metadata": {},
     "output_type": "display_data"
    },
    {
     "name": "stdout",
     "output_type": "stream",
     "text": [
      "Saving H:\\Shared drives\\SLab\\Multimode\\experiment\\240911\\data1\\01140_SingleBeamSplitterRB_stor_ramsey_spec.h5\n",
      "Index: 20 depth. = 141 \n",
      "{'pre_sweep_pulse': [['qubit', 'ge', 'hpi', 0], ['qubit', 'ef', 'pi', 0], ['man', 'M1', 'pi', 0], ['storage', 'M1-S7', 'pi', 0]], 'post_sweep_pulse': [['storage', 'M1-S7', 'pi', 0], ['man', 'M1', 'pi', 0], ['qubit', 'ef', 'pi', 0], ['qubit', 'ge', 'hpi', 72330.49338625695]], 'wait_freq': 1.77, 'prepulse': True, 'postpulse': True, 'rb_time': 'None', 'bs_gate_num': 'None', 'qubits': [0], 'calibrate_single_shot': False, 'singleshot_reps': 10000, 'span': 500, 'active_reset': True, 'man_reset': True, 'storage_reset': True, 'threshold': -39.769721213292996, 'readout_per_round': 4, 'prep_man_photon': True, 'rb_active_reset': True, 'rb_man_reset': True, 'rb_storage_reset': True, 'rb_reps': 300, 'gates_per_wait': 100000, 'rounds': 1, 'variations': 50, 'rb_depth': 141, 'IRB_gate_no': -1, 'bs_repeat': 1, 'sync': False, 'setup': False, 'bs_para': [875.845, 9000, 0.6271437312608766, 0.005]}\n",
      "ge fidelity (%): 0\n",
      "rotation angle (deg): [0]\n",
      "threshold ge: 0\n"
     ]
    },
    {
     "data": {
      "application/vnd.jupyter.widget-view+json": {
       "model_id": "a5d50fe51fcf41358fbeea0e1262bbe8",
       "version_major": 2,
       "version_minor": 0
      },
      "text/plain": [
       "  0%|          | 0/50 [00:00<?, ?it/s]"
      ]
     },
     "metadata": {},
     "output_type": "display_data"
    },
    {
     "name": "stdout",
     "output_type": "stream",
     "text": [
      "Saving H:\\Shared drives\\SLab\\Multimode\\experiment\\240911\\data1\\01141_SingleBeamSplitterRB_stor_ramsey_spec.h5\n",
      "Index: 21 depth. = 148 \n",
      "{'pre_sweep_pulse': [['qubit', 'ge', 'hpi', 0], ['qubit', 'ef', 'pi', 0], ['man', 'M1', 'pi', 0], ['storage', 'M1-S7', 'pi', 0]], 'post_sweep_pulse': [['storage', 'M1-S7', 'pi', 0], ['man', 'M1', 'pi', 0], ['qubit', 'ef', 'pi', 0], ['qubit', 'ge', 'hpi', 76326.65324185128]], 'wait_freq': 1.77, 'prepulse': True, 'postpulse': True, 'rb_time': 'None', 'bs_gate_num': 'None', 'qubits': [0], 'calibrate_single_shot': False, 'singleshot_reps': 10000, 'span': 500, 'active_reset': True, 'man_reset': True, 'storage_reset': True, 'threshold': -39.769721213292996, 'readout_per_round': 4, 'prep_man_photon': True, 'rb_active_reset': True, 'rb_man_reset': True, 'rb_storage_reset': True, 'rb_reps': 300, 'gates_per_wait': 100000, 'rounds': 1, 'variations': 50, 'rb_depth': 148, 'IRB_gate_no': -1, 'bs_repeat': 1, 'sync': False, 'setup': False, 'bs_para': [875.845, 9000, 0.6271437312608766, 0.005]}\n",
      "ge fidelity (%): 0\n",
      "rotation angle (deg): [0]\n",
      "threshold ge: 0\n"
     ]
    },
    {
     "data": {
      "application/vnd.jupyter.widget-view+json": {
       "model_id": "2d4538cc08a4422984f7a61def54f751",
       "version_major": 2,
       "version_minor": 0
      },
      "text/plain": [
       "  0%|          | 0/50 [00:00<?, ?it/s]"
      ]
     },
     "metadata": {},
     "output_type": "display_data"
    },
    {
     "name": "stdout",
     "output_type": "stream",
     "text": [
      "Saving H:\\Shared drives\\SLab\\Multimode\\experiment\\240911\\data1\\01142_SingleBeamSplitterRB_stor_ramsey_spec.h5\n",
      "Index: 22 depth. = 155 \n",
      "{'pre_sweep_pulse': [['qubit', 'ge', 'hpi', 0], ['qubit', 'ef', 'pi', 0], ['man', 'M1', 'pi', 0], ['storage', 'M1-S7', 'pi', 0]], 'post_sweep_pulse': [['storage', 'M1-S7', 'pi', 0], ['man', 'M1', 'pi', 0], ['qubit', 'ef', 'pi', 0], ['qubit', 'ge', 'hpi', 76326.65324185124]], 'wait_freq': 1.77, 'prepulse': True, 'postpulse': True, 'rb_time': 'None', 'bs_gate_num': 'None', 'qubits': [0], 'calibrate_single_shot': False, 'singleshot_reps': 10000, 'span': 500, 'active_reset': True, 'man_reset': True, 'storage_reset': True, 'threshold': -39.769721213292996, 'readout_per_round': 4, 'prep_man_photon': True, 'rb_active_reset': True, 'rb_man_reset': True, 'rb_storage_reset': True, 'rb_reps': 300, 'gates_per_wait': 100000, 'rounds': 1, 'variations': 50, 'rb_depth': 155, 'IRB_gate_no': -1, 'bs_repeat': 1, 'sync': False, 'setup': False, 'bs_para': [875.845, 9000, 0.6271437312608766, 0.005]}\n",
      "ge fidelity (%): 0\n",
      "rotation angle (deg): [0]\n",
      "threshold ge: 0\n"
     ]
    },
    {
     "data": {
      "application/vnd.jupyter.widget-view+json": {
       "model_id": "289c4dd0450b46b0874ecbe2d2a545e7",
       "version_major": 2,
       "version_minor": 0
      },
      "text/plain": [
       "  0%|          | 0/50 [00:00<?, ?it/s]"
      ]
     },
     "metadata": {},
     "output_type": "display_data"
    },
    {
     "name": "stdout",
     "output_type": "stream",
     "text": [
      "Saving H:\\Shared drives\\SLab\\Multimode\\experiment\\240911\\data1\\01143_SingleBeamSplitterRB_stor_ramsey_spec.h5\n",
      "Index: 23 depth. = 162 \n",
      "{'pre_sweep_pulse': [['qubit', 'ge', 'hpi', 0], ['qubit', 'ef', 'pi', 0], ['man', 'M1', 'pi', 0], ['storage', 'M1-S7', 'pi', 0]], 'post_sweep_pulse': [['storage', 'M1-S7', 'pi', 0], ['man', 'M1', 'pi', 0], ['qubit', 'ef', 'pi', 0], ['qubit', 'ge', 'hpi', 82320.89302524271]], 'wait_freq': 1.77, 'prepulse': True, 'postpulse': True, 'rb_time': 'None', 'bs_gate_num': 'None', 'qubits': [0], 'calibrate_single_shot': False, 'singleshot_reps': 10000, 'span': 500, 'active_reset': True, 'man_reset': True, 'storage_reset': True, 'threshold': -39.769721213292996, 'readout_per_round': 4, 'prep_man_photon': True, 'rb_active_reset': True, 'rb_man_reset': True, 'rb_storage_reset': True, 'rb_reps': 300, 'gates_per_wait': 100000, 'rounds': 1, 'variations': 50, 'rb_depth': 162, 'IRB_gate_no': -1, 'bs_repeat': 1, 'sync': False, 'setup': False, 'bs_para': [875.845, 9000, 0.6271437312608766, 0.005]}\n",
      "ge fidelity (%): 0\n",
      "rotation angle (deg): [0]\n",
      "threshold ge: 0\n"
     ]
    },
    {
     "data": {
      "application/vnd.jupyter.widget-view+json": {
       "model_id": "ff8d73ca3afa4d5e9d90ad505b207503",
       "version_major": 2,
       "version_minor": 0
      },
      "text/plain": [
       "  0%|          | 0/50 [00:00<?, ?it/s]"
      ]
     },
     "metadata": {},
     "output_type": "display_data"
    },
    {
     "name": "stdout",
     "output_type": "stream",
     "text": [
      "Saving H:\\Shared drives\\SLab\\Multimode\\experiment\\240911\\data1\\01144_SingleBeamSplitterRB_stor_ramsey_spec.h5\n",
      "Index: 24 depth. = 169 \n",
      "{'pre_sweep_pulse': [['qubit', 'ge', 'hpi', 0], ['qubit', 'ef', 'pi', 0], ['man', 'M1', 'pi', 0], ['storage', 'M1-S7', 'pi', 0]], 'post_sweep_pulse': [['storage', 'M1-S7', 'pi', 0], ['man', 'M1', 'pi', 0], ['qubit', 'ef', 'pi', 0], ['qubit', 'ge', 'hpi', 86317.05288083693]], 'wait_freq': 1.77, 'prepulse': True, 'postpulse': True, 'rb_time': 'None', 'bs_gate_num': 'None', 'qubits': [0], 'calibrate_single_shot': False, 'singleshot_reps': 10000, 'span': 500, 'active_reset': True, 'man_reset': True, 'storage_reset': True, 'threshold': -39.769721213292996, 'readout_per_round': 4, 'prep_man_photon': True, 'rb_active_reset': True, 'rb_man_reset': True, 'rb_storage_reset': True, 'rb_reps': 300, 'gates_per_wait': 100000, 'rounds': 1, 'variations': 50, 'rb_depth': 169, 'IRB_gate_no': -1, 'bs_repeat': 1, 'sync': False, 'setup': False, 'bs_para': [875.845, 9000, 0.6271437312608766, 0.005]}\n",
      "ge fidelity (%): 0\n",
      "rotation angle (deg): [0]\n",
      "threshold ge: 0\n"
     ]
    },
    {
     "data": {
      "application/vnd.jupyter.widget-view+json": {
       "model_id": "b054dd2298f445e9b33035524c5b92fc",
       "version_major": 2,
       "version_minor": 0
      },
      "text/plain": [
       "  0%|          | 0/50 [00:00<?, ?it/s]"
      ]
     },
     "metadata": {},
     "output_type": "display_data"
    },
    {
     "name": "stdout",
     "output_type": "stream",
     "text": [
      "Saving H:\\Shared drives\\SLab\\Multimode\\experiment\\240911\\data1\\01145_SingleBeamSplitterRB_stor_ramsey_spec.h5\n",
      "Index: 25 depth. = 176 \n",
      "{'pre_sweep_pulse': [['qubit', 'ge', 'hpi', 0], ['qubit', 'ef', 'pi', 0], ['man', 'M1', 'pi', 0], ['storage', 'M1-S7', 'pi', 0]], 'post_sweep_pulse': [['storage', 'M1-S7', 'pi', 0], ['man', 'M1', 'pi', 0], ['qubit', 'ef', 'pi', 0], ['qubit', 'ge', 'hpi', 91911.67667866897]], 'wait_freq': 1.77, 'prepulse': True, 'postpulse': True, 'rb_time': 'None', 'bs_gate_num': 'None', 'qubits': [0], 'calibrate_single_shot': False, 'singleshot_reps': 10000, 'span': 500, 'active_reset': True, 'man_reset': True, 'storage_reset': True, 'threshold': -39.769721213292996, 'readout_per_round': 4, 'prep_man_photon': True, 'rb_active_reset': True, 'rb_man_reset': True, 'rb_storage_reset': True, 'rb_reps': 300, 'gates_per_wait': 100000, 'rounds': 1, 'variations': 50, 'rb_depth': 176, 'IRB_gate_no': -1, 'bs_repeat': 1, 'sync': False, 'setup': False, 'bs_para': [875.845, 9000, 0.6271437312608766, 0.005]}\n",
      "ge fidelity (%): 0\n",
      "rotation angle (deg): [0]\n",
      "threshold ge: 0\n"
     ]
    },
    {
     "data": {
      "application/vnd.jupyter.widget-view+json": {
       "model_id": "2a3e4e69915a4badb3f8e52d60470218",
       "version_major": 2,
       "version_minor": 0
      },
      "text/plain": [
       "  0%|          | 0/50 [00:00<?, ?it/s]"
      ]
     },
     "metadata": {},
     "output_type": "display_data"
    },
    {
     "name": "stdout",
     "output_type": "stream",
     "text": [
      "Saving H:\\Shared drives\\SLab\\Multimode\\experiment\\240911\\data1\\01146_SingleBeamSplitterRB_stor_ramsey_spec.h5\n",
      "Index: 26 depth. = 183 \n",
      "{'pre_sweep_pulse': [['qubit', 'ge', 'hpi', 0], ['qubit', 'ef', 'pi', 0], ['man', 'M1', 'pi', 0], ['storage', 'M1-S7', 'pi', 0]], 'post_sweep_pulse': [['storage', 'M1-S7', 'pi', 0], ['man', 'M1', 'pi', 0], ['qubit', 'ef', 'pi', 0], ['qubit', 'ge', 'hpi', 91911.67667866897]], 'wait_freq': 1.77, 'prepulse': True, 'postpulse': True, 'rb_time': 'None', 'bs_gate_num': 'None', 'qubits': [0], 'calibrate_single_shot': False, 'singleshot_reps': 10000, 'span': 500, 'active_reset': True, 'man_reset': True, 'storage_reset': True, 'threshold': -39.769721213292996, 'readout_per_round': 4, 'prep_man_photon': True, 'rb_active_reset': True, 'rb_man_reset': True, 'rb_storage_reset': True, 'rb_reps': 300, 'gates_per_wait': 100000, 'rounds': 1, 'variations': 50, 'rb_depth': 183, 'IRB_gate_no': -1, 'bs_repeat': 1, 'sync': False, 'setup': False, 'bs_para': [875.845, 9000, 0.6271437312608766, 0.005]}\n",
      "ge fidelity (%): 0\n",
      "rotation angle (deg): [0]\n",
      "threshold ge: 0\n"
     ]
    },
    {
     "data": {
      "application/vnd.jupyter.widget-view+json": {
       "model_id": "61972a3724ee4345971e10ac8b217b63",
       "version_major": 2,
       "version_minor": 0
      },
      "text/plain": [
       "  0%|          | 0/50 [00:00<?, ?it/s]"
      ]
     },
     "metadata": {},
     "output_type": "display_data"
    },
    {
     "name": "stdout",
     "output_type": "stream",
     "text": [
      "Saving H:\\Shared drives\\SLab\\Multimode\\experiment\\240911\\data1\\01147_SingleBeamSplitterRB_stor_ramsey_spec.h5\n",
      "Index: 27 depth. = 190 \n",
      "{'pre_sweep_pulse': [['qubit', 'ge', 'hpi', 0], ['qubit', 'ef', 'pi', 0], ['man', 'M1', 'pi', 0], ['storage', 'M1-S7', 'pi', 0]], 'post_sweep_pulse': [['storage', 'M1-S7', 'pi', 0], ['man', 'M1', 'pi', 0], ['qubit', 'ef', 'pi', 0], ['qubit', 'ge', 'hpi', 97506.300476501]], 'wait_freq': 1.77, 'prepulse': True, 'postpulse': True, 'rb_time': 'None', 'bs_gate_num': 'None', 'qubits': [0], 'calibrate_single_shot': False, 'singleshot_reps': 10000, 'span': 500, 'active_reset': True, 'man_reset': True, 'storage_reset': True, 'threshold': -39.769721213292996, 'readout_per_round': 4, 'prep_man_photon': True, 'rb_active_reset': True, 'rb_man_reset': True, 'rb_storage_reset': True, 'rb_reps': 300, 'gates_per_wait': 100000, 'rounds': 1, 'variations': 50, 'rb_depth': 190, 'IRB_gate_no': -1, 'bs_repeat': 1, 'sync': False, 'setup': False, 'bs_para': [875.845, 9000, 0.6271437312608766, 0.005]}\n",
      "ge fidelity (%): 0\n",
      "rotation angle (deg): [0]\n",
      "threshold ge: 0\n"
     ]
    },
    {
     "data": {
      "application/vnd.jupyter.widget-view+json": {
       "model_id": "df1ed8881b4f4386b64a62105fd30f90",
       "version_major": 2,
       "version_minor": 0
      },
      "text/plain": [
       "  0%|          | 0/50 [00:00<?, ?it/s]"
      ]
     },
     "metadata": {},
     "output_type": "display_data"
    },
    {
     "name": "stdout",
     "output_type": "stream",
     "text": [
      "Saving H:\\Shared drives\\SLab\\Multimode\\experiment\\240911\\data1\\01148_SingleBeamSplitterRB_stor_ramsey_spec.h5\n",
      "Index: 28 depth. = 197 \n",
      "{'pre_sweep_pulse': [['qubit', 'ge', 'hpi', 0], ['qubit', 'ef', 'pi', 0], ['man', 'M1', 'pi', 0], ['storage', 'M1-S7', 'pi', 0]], 'post_sweep_pulse': [['storage', 'M1-S7', 'pi', 0], ['man', 'M1', 'pi', 0], ['qubit', 'ef', 'pi', 0], ['qubit', 'ge', 'hpi', 105898.23617324901]], 'wait_freq': 1.77, 'prepulse': True, 'postpulse': True, 'rb_time': 'None', 'bs_gate_num': 'None', 'qubits': [0], 'calibrate_single_shot': False, 'singleshot_reps': 10000, 'span': 500, 'active_reset': True, 'man_reset': True, 'storage_reset': True, 'threshold': -39.769721213292996, 'readout_per_round': 4, 'prep_man_photon': True, 'rb_active_reset': True, 'rb_man_reset': True, 'rb_storage_reset': True, 'rb_reps': 300, 'gates_per_wait': 100000, 'rounds': 1, 'variations': 50, 'rb_depth': 197, 'IRB_gate_no': -1, 'bs_repeat': 1, 'sync': False, 'setup': False, 'bs_para': [875.845, 9000, 0.6271437312608766, 0.005]}\n",
      "ge fidelity (%): 0\n",
      "rotation angle (deg): [0]\n",
      "threshold ge: 0\n"
     ]
    },
    {
     "data": {
      "application/vnd.jupyter.widget-view+json": {
       "model_id": "c036257e829a4f9281a41bf4aac5a50e",
       "version_major": 2,
       "version_minor": 0
      },
      "text/plain": [
       "  0%|          | 0/50 [00:00<?, ?it/s]"
      ]
     },
     "metadata": {},
     "output_type": "display_data"
    },
    {
     "name": "stdout",
     "output_type": "stream",
     "text": [
      "Saving H:\\Shared drives\\SLab\\Multimode\\experiment\\240911\\data1\\01149_SingleBeamSplitterRB_stor_ramsey_spec.h5\n",
      "Index: 29 depth. = 204 \n",
      "{'pre_sweep_pulse': [['qubit', 'ge', 'hpi', 0], ['qubit', 'ef', 'pi', 0], ['man', 'M1', 'pi', 0], ['storage', 'M1-S7', 'pi', 0]], 'post_sweep_pulse': [['storage', 'M1-S7', 'pi', 0], ['man', 'M1', 'pi', 0], ['qubit', 'ef', 'pi', 0], ['qubit', 'ge', 'hpi', 103900.15624545184]], 'wait_freq': 1.77, 'prepulse': True, 'postpulse': True, 'rb_time': 'None', 'bs_gate_num': 'None', 'qubits': [0], 'calibrate_single_shot': False, 'singleshot_reps': 10000, 'span': 500, 'active_reset': True, 'man_reset': True, 'storage_reset': True, 'threshold': -39.769721213292996, 'readout_per_round': 4, 'prep_man_photon': True, 'rb_active_reset': True, 'rb_man_reset': True, 'rb_storage_reset': True, 'rb_reps': 300, 'gates_per_wait': 100000, 'rounds': 1, 'variations': 50, 'rb_depth': 204, 'IRB_gate_no': -1, 'bs_repeat': 1, 'sync': False, 'setup': False, 'bs_para': [875.845, 9000, 0.6271437312608766, 0.005]}\n",
      "ge fidelity (%): 0\n",
      "rotation angle (deg): [0]\n",
      "threshold ge: 0\n"
     ]
    },
    {
     "data": {
      "application/vnd.jupyter.widget-view+json": {
       "model_id": "04b27bd51a18498faee1bbeca179dfc9",
       "version_major": 2,
       "version_minor": 0
      },
      "text/plain": [
       "  0%|          | 0/50 [00:00<?, ?it/s]"
      ]
     },
     "metadata": {},
     "output_type": "display_data"
    },
    {
     "name": "stdout",
     "output_type": "stream",
     "text": [
      "Saving H:\\Shared drives\\SLab\\Multimode\\experiment\\240911\\data1\\01150_SingleBeamSplitterRB_stor_ramsey_spec.h5\n",
      "-------------------------------------------------\n",
      "Index: 0 Storage = 7, Spectator = 5 \n",
      "Index: 0 depth. = 1 \n",
      "{'pre_sweep_pulse': [['qubit', 'ge', 'hpi', 0], ['qubit', 'ef', 'pi', 0], ['man', 'M1', 'pi', 0], ['storage', 'M1-S7', 'pi', 0]], 'post_sweep_pulse': [['storage', 'M1-S7', 'pi', 0], ['man', 'M1', 'pi', 0], ['qubit', 'ef', 'pi', 0], ['qubit', 'ge', 'hpi', 109894.39602884321]], 'wait_freq': 2.03, 'prepulse': True, 'postpulse': True, 'rb_time': 'None', 'bs_gate_num': 'None', 'qubits': [0], 'calibrate_single_shot': True, 'singleshot_reps': 10000, 'span': 500, 'active_reset': True, 'man_reset': True, 'storage_reset': True, 'threshold': -39.769721213292996, 'readout_per_round': 4, 'prep_man_photon': True, 'rb_active_reset': True, 'rb_man_reset': True, 'rb_storage_reset': True, 'rb_reps': 300, 'gates_per_wait': 100000, 'rounds': 1, 'variations': 50, 'rb_depth': 1, 'IRB_gate_no': -1, 'bs_repeat': 1, 'sync': False, 'setup': False, 'bs_para': [1053.395, 7500, 0.9865989868431034, 0.005]}\n",
      "sscfg active reset True\n",
      "9883\n",
      "9864\n",
      "ge fidelity (%): 98.2816892510818\n",
      "rotation angle (deg): 2.4225034399057668\n",
      "threshold ge: -14.298591899692497\n"
     ]
    },
    {
     "data": {
      "application/vnd.jupyter.widget-view+json": {
       "model_id": "b986c9a8981c4fa8894b7161845ceea1",
       "version_major": 2,
       "version_minor": 0
      },
      "text/plain": [
       "  0%|          | 0/50 [00:00<?, ?it/s]"
      ]
     },
     "metadata": {},
     "output_type": "display_data"
    },
    {
     "name": "stdout",
     "output_type": "stream",
     "text": [
      "Saving H:\\Shared drives\\SLab\\Multimode\\experiment\\240911\\data1\\01151_SingleBeamSplitterRB_stor_ramsey_spec.h5\n",
      "Index: 1 depth. = 8 \n",
      "{'pre_sweep_pulse': [['qubit', 'ge', 'hpi', 0], ['qubit', 'ef', 'pi', 0], ['man', 'M1', 'pi', 0], ['storage', 'M1-S7', 'pi', 0]], 'post_sweep_pulse': [['storage', 'M1-S7', 'pi', 0], ['man', 'M1', 'pi', 0], ['qubit', 'ef', 'pi', 0], ['qubit', 'ge', 'hpi', 2884.02615833976]], 'wait_freq': 2.03, 'prepulse': True, 'postpulse': True, 'rb_time': 'None', 'bs_gate_num': 'None', 'qubits': [0], 'calibrate_single_shot': False, 'singleshot_reps': 10000, 'span': 500, 'active_reset': True, 'man_reset': True, 'storage_reset': True, 'threshold': -39.769721213292996, 'readout_per_round': 4, 'prep_man_photon': True, 'rb_active_reset': True, 'rb_man_reset': True, 'rb_storage_reset': True, 'rb_reps': 300, 'gates_per_wait': 100000, 'rounds': 1, 'variations': 50, 'rb_depth': 8, 'IRB_gate_no': -1, 'bs_repeat': 1, 'sync': False, 'setup': False, 'bs_para': [1053.395, 7500, 0.9865989868431034, 0.005]}\n",
      "ge fidelity (%): 0\n",
      "rotation angle (deg): [0]\n",
      "threshold ge: 0\n"
     ]
    },
    {
     "data": {
      "application/vnd.jupyter.widget-view+json": {
       "model_id": "6697108c41304bcc9c2dff8d56d56029",
       "version_major": 2,
       "version_minor": 0
      },
      "text/plain": [
       "  0%|          | 0/50 [00:00<?, ?it/s]"
      ]
     },
     "metadata": {},
     "output_type": "display_data"
    },
    {
     "name": "stdout",
     "output_type": "stream",
     "text": [
      "Saving H:\\Shared drives\\SLab\\Multimode\\experiment\\240911\\data1\\01152_SingleBeamSplitterRB_stor_ramsey_spec.h5\n",
      "Index: 2 depth. = 15 \n",
      "{'pre_sweep_pulse': [['qubit', 'ge', 'hpi', 0], ['qubit', 'ef', 'pi', 0], ['man', 'M1', 'pi', 0], ['storage', 'M1-S7', 'pi', 0]], 'post_sweep_pulse': [['storage', 'M1-S7', 'pi', 0], ['man', 'M1', 'pi', 0], ['qubit', 'ef', 'pi', 0], ['qubit', 'ge', 'hpi', 7931.07193543434]], 'wait_freq': 2.03, 'prepulse': True, 'postpulse': True, 'rb_time': 'None', 'bs_gate_num': 'None', 'qubits': [0], 'calibrate_single_shot': False, 'singleshot_reps': 10000, 'span': 500, 'active_reset': True, 'man_reset': True, 'storage_reset': True, 'threshold': -39.769721213292996, 'readout_per_round': 4, 'prep_man_photon': True, 'rb_active_reset': True, 'rb_man_reset': True, 'rb_storage_reset': True, 'rb_reps': 300, 'gates_per_wait': 100000, 'rounds': 1, 'variations': 50, 'rb_depth': 15, 'IRB_gate_no': -1, 'bs_repeat': 1, 'sync': False, 'setup': False, 'bs_para': [1053.395, 7500, 0.9865989868431034, 0.005]}\n",
      "ge fidelity (%): 0\n",
      "rotation angle (deg): [0]\n",
      "threshold ge: 0\n"
     ]
    },
    {
     "data": {
      "application/vnd.jupyter.widget-view+json": {
       "model_id": "0bb15ee6145d4706b5830be0c85d213d",
       "version_major": 2,
       "version_minor": 0
      },
      "text/plain": [
       "  0%|          | 0/50 [00:00<?, ?it/s]"
      ]
     },
     "metadata": {},
     "output_type": "display_data"
    },
    {
     "name": "stdout",
     "output_type": "stream",
     "text": [
      "Saving H:\\Shared drives\\SLab\\Multimode\\experiment\\240911\\data1\\01153_SingleBeamSplitterRB_stor_ramsey_spec.h5\n",
      "Index: 3 depth. = 22 \n",
      "{'pre_sweep_pulse': [['qubit', 'ge', 'hpi', 0], ['qubit', 'ef', 'pi', 0], ['man', 'M1', 'pi', 0], ['storage', 'M1-S7', 'pi', 0]], 'post_sweep_pulse': [['storage', 'M1-S7', 'pi', 0], ['man', 'M1', 'pi', 0], ['qubit', 'ef', 'pi', 0], ['qubit', 'ge', 'hpi', 15862.143870868676]], 'wait_freq': 2.03, 'prepulse': True, 'postpulse': True, 'rb_time': 'None', 'bs_gate_num': 'None', 'qubits': [0], 'calibrate_single_shot': False, 'singleshot_reps': 10000, 'span': 500, 'active_reset': True, 'man_reset': True, 'storage_reset': True, 'threshold': -39.769721213292996, 'readout_per_round': 4, 'prep_man_photon': True, 'rb_active_reset': True, 'rb_man_reset': True, 'rb_storage_reset': True, 'rb_reps': 300, 'gates_per_wait': 100000, 'rounds': 1, 'variations': 50, 'rb_depth': 22, 'IRB_gate_no': -1, 'bs_repeat': 1, 'sync': False, 'setup': False, 'bs_para': [1053.395, 7500, 0.9865989868431034, 0.005]}\n",
      "ge fidelity (%): 0\n",
      "rotation angle (deg): [0]\n",
      "threshold ge: 0\n"
     ]
    },
    {
     "data": {
      "application/vnd.jupyter.widget-view+json": {
       "model_id": "f23e0ae710624ff595e12b6c86d1bbef",
       "version_major": 2,
       "version_minor": 0
      },
      "text/plain": [
       "  0%|          | 0/50 [00:00<?, ?it/s]"
      ]
     },
     "metadata": {},
     "output_type": "display_data"
    },
    {
     "name": "stdout",
     "output_type": "stream",
     "text": [
      "Saving H:\\Shared drives\\SLab\\Multimode\\experiment\\240911\\data1\\01154_SingleBeamSplitterRB_stor_ramsey_spec.h5\n",
      "Index: 4 depth. = 29 \n",
      "{'pre_sweep_pulse': [['qubit', 'ge', 'hpi', 0], ['qubit', 'ef', 'pi', 0], ['man', 'M1', 'pi', 0], ['storage', 'M1-S7', 'pi', 0]], 'post_sweep_pulse': [['storage', 'M1-S7', 'pi', 0], ['man', 'M1', 'pi', 0], ['qubit', 'ef', 'pi', 0], ['qubit', 'ge', 'hpi', 23072.20926671808]], 'wait_freq': 2.03, 'prepulse': True, 'postpulse': True, 'rb_time': 'None', 'bs_gate_num': 'None', 'qubits': [0], 'calibrate_single_shot': False, 'singleshot_reps': 10000, 'span': 500, 'active_reset': True, 'man_reset': True, 'storage_reset': True, 'threshold': -39.769721213292996, 'readout_per_round': 4, 'prep_man_photon': True, 'rb_active_reset': True, 'rb_man_reset': True, 'rb_storage_reset': True, 'rb_reps': 300, 'gates_per_wait': 100000, 'rounds': 1, 'variations': 50, 'rb_depth': 29, 'IRB_gate_no': -1, 'bs_repeat': 1, 'sync': False, 'setup': False, 'bs_para': [1053.395, 7500, 0.9865989868431034, 0.005]}\n",
      "ge fidelity (%): 0\n",
      "rotation angle (deg): [0]\n",
      "threshold ge: 0\n"
     ]
    },
    {
     "data": {
      "application/vnd.jupyter.widget-view+json": {
       "model_id": "95a3a7105f5948ac96a204b463e769b8",
       "version_major": 2,
       "version_minor": 0
      },
      "text/plain": [
       "  0%|          | 0/50 [00:00<?, ?it/s]"
      ]
     },
     "metadata": {},
     "output_type": "display_data"
    },
    {
     "name": "stdout",
     "output_type": "stream",
     "text": [
      "Saving H:\\Shared drives\\SLab\\Multimode\\experiment\\240911\\data1\\01155_SingleBeamSplitterRB_stor_ramsey_spec.h5\n",
      "Index: 5 depth. = 36 \n",
      "{'pre_sweep_pulse': [['qubit', 'ge', 'hpi', 0], ['qubit', 'ef', 'pi', 0], ['man', 'M1', 'pi', 0], ['storage', 'M1-S7', 'pi', 0]], 'post_sweep_pulse': [['storage', 'M1-S7', 'pi', 0], ['man', 'M1', 'pi', 0], ['qubit', 'ef', 'pi', 0], ['qubit', 'ge', 'hpi', 29561.268122982532]], 'wait_freq': 2.03, 'prepulse': True, 'postpulse': True, 'rb_time': 'None', 'bs_gate_num': 'None', 'qubits': [0], 'calibrate_single_shot': False, 'singleshot_reps': 10000, 'span': 500, 'active_reset': True, 'man_reset': True, 'storage_reset': True, 'threshold': -39.769721213292996, 'readout_per_round': 4, 'prep_man_photon': True, 'rb_active_reset': True, 'rb_man_reset': True, 'rb_storage_reset': True, 'rb_reps': 300, 'gates_per_wait': 100000, 'rounds': 1, 'variations': 50, 'rb_depth': 36, 'IRB_gate_no': -1, 'bs_repeat': 1, 'sync': False, 'setup': False, 'bs_para': [1053.395, 7500, 0.9865989868431034, 0.005]}\n",
      "ge fidelity (%): 0\n",
      "rotation angle (deg): [0]\n",
      "threshold ge: 0\n"
     ]
    },
    {
     "data": {
      "application/vnd.jupyter.widget-view+json": {
       "model_id": "a29538a13746409db8a1d6f2e82e1740",
       "version_major": 2,
       "version_minor": 0
      },
      "text/plain": [
       "  0%|          | 0/50 [00:00<?, ?it/s]"
      ]
     },
     "metadata": {},
     "output_type": "display_data"
    },
    {
     "name": "stdout",
     "output_type": "stream",
     "text": [
      "Saving H:\\Shared drives\\SLab\\Multimode\\experiment\\240911\\data1\\01156_SingleBeamSplitterRB_stor_ramsey_spec.h5\n",
      "Index: 6 depth. = 43 \n",
      "{'pre_sweep_pulse': [['qubit', 'ge', 'hpi', 0], ['qubit', 'ef', 'pi', 0], ['man', 'M1', 'pi', 0], ['storage', 'M1-S7', 'pi', 0]], 'post_sweep_pulse': [['storage', 'M1-S7', 'pi', 0], ['man', 'M1', 'pi', 0], ['qubit', 'ef', 'pi', 0], ['qubit', 'ge', 'hpi', 36050.32697924701]], 'wait_freq': 2.03, 'prepulse': True, 'postpulse': True, 'rb_time': 'None', 'bs_gate_num': 'None', 'qubits': [0], 'calibrate_single_shot': False, 'singleshot_reps': 10000, 'span': 500, 'active_reset': True, 'man_reset': True, 'storage_reset': True, 'threshold': -39.769721213292996, 'readout_per_round': 4, 'prep_man_photon': True, 'rb_active_reset': True, 'rb_man_reset': True, 'rb_storage_reset': True, 'rb_reps': 300, 'gates_per_wait': 100000, 'rounds': 1, 'variations': 50, 'rb_depth': 43, 'IRB_gate_no': -1, 'bs_repeat': 1, 'sync': False, 'setup': False, 'bs_para': [1053.395, 7500, 0.9865989868431034, 0.005]}\n",
      "ge fidelity (%): 0\n",
      "rotation angle (deg): [0]\n",
      "threshold ge: 0\n"
     ]
    },
    {
     "data": {
      "application/vnd.jupyter.widget-view+json": {
       "model_id": "51412ae4b7264137bc49c4081ab85820",
       "version_major": 2,
       "version_minor": 0
      },
      "text/plain": [
       "  0%|          | 0/50 [00:00<?, ?it/s]"
      ]
     },
     "metadata": {},
     "output_type": "display_data"
    },
    {
     "name": "stdout",
     "output_type": "stream",
     "text": [
      "Saving H:\\Shared drives\\SLab\\Multimode\\experiment\\240911\\data1\\01157_SingleBeamSplitterRB_stor_ramsey_spec.h5\n",
      "Index: 7 depth. = 50 \n",
      "{'pre_sweep_pulse': [['qubit', 'ge', 'hpi', 0], ['qubit', 'ef', 'pi', 0], ['man', 'M1', 'pi', 0], ['storage', 'M1-S7', 'pi', 0]], 'post_sweep_pulse': [['storage', 'M1-S7', 'pi', 0], ['man', 'M1', 'pi', 0], ['qubit', 'ef', 'pi', 0], ['qubit', 'ge', 'hpi', 40376.36621675663]], 'wait_freq': 2.03, 'prepulse': True, 'postpulse': True, 'rb_time': 'None', 'bs_gate_num': 'None', 'qubits': [0], 'calibrate_single_shot': False, 'singleshot_reps': 10000, 'span': 500, 'active_reset': True, 'man_reset': True, 'storage_reset': True, 'threshold': -39.769721213292996, 'readout_per_round': 4, 'prep_man_photon': True, 'rb_active_reset': True, 'rb_man_reset': True, 'rb_storage_reset': True, 'rb_reps': 300, 'gates_per_wait': 100000, 'rounds': 1, 'variations': 50, 'rb_depth': 50, 'IRB_gate_no': -1, 'bs_repeat': 1, 'sync': False, 'setup': False, 'bs_para': [1053.395, 7500, 0.9865989868431034, 0.005]}\n",
      "ge fidelity (%): 0\n",
      "rotation angle (deg): [0]\n",
      "threshold ge: 0\n"
     ]
    },
    {
     "data": {
      "application/vnd.jupyter.widget-view+json": {
       "model_id": "fb0b70df419c424a9b01e5cd785344d9",
       "version_major": 2,
       "version_minor": 0
      },
      "text/plain": [
       "  0%|          | 0/50 [00:00<?, ?it/s]"
      ]
     },
     "metadata": {},
     "output_type": "display_data"
    },
    {
     "name": "stdout",
     "output_type": "stream",
     "text": [
      "Saving H:\\Shared drives\\SLab\\Multimode\\experiment\\240911\\data1\\01158_SingleBeamSplitterRB_stor_ramsey_spec.h5\n",
      "Index: 8 depth. = 57 \n",
      "{'pre_sweep_pulse': [['qubit', 'ge', 'hpi', 0], ['qubit', 'ef', 'pi', 0], ['man', 'M1', 'pi', 0], ['storage', 'M1-S7', 'pi', 0]], 'post_sweep_pulse': [['storage', 'M1-S7', 'pi', 0], ['man', 'M1', 'pi', 0], ['qubit', 'ef', 'pi', 0], ['qubit', 'ge', 'hpi', 51191.46431053075]], 'wait_freq': 2.03, 'prepulse': True, 'postpulse': True, 'rb_time': 'None', 'bs_gate_num': 'None', 'qubits': [0], 'calibrate_single_shot': False, 'singleshot_reps': 10000, 'span': 500, 'active_reset': True, 'man_reset': True, 'storage_reset': True, 'threshold': -39.769721213292996, 'readout_per_round': 4, 'prep_man_photon': True, 'rb_active_reset': True, 'rb_man_reset': True, 'rb_storage_reset': True, 'rb_reps': 300, 'gates_per_wait': 100000, 'rounds': 1, 'variations': 50, 'rb_depth': 57, 'IRB_gate_no': -1, 'bs_repeat': 1, 'sync': False, 'setup': False, 'bs_para': [1053.395, 7500, 0.9865989868431034, 0.005]}\n",
      "ge fidelity (%): 0\n",
      "rotation angle (deg): [0]\n",
      "threshold ge: 0\n"
     ]
    },
    {
     "data": {
      "application/vnd.jupyter.widget-view+json": {
       "model_id": "61f98a7053c9482582ca96e9e58f7222",
       "version_major": 2,
       "version_minor": 0
      },
      "text/plain": [
       "  0%|          | 0/50 [00:00<?, ?it/s]"
      ]
     },
     "metadata": {},
     "output_type": "display_data"
    },
    {
     "name": "stdout",
     "output_type": "stream",
     "text": [
      "Saving H:\\Shared drives\\SLab\\Multimode\\experiment\\240911\\data1\\01159_SingleBeamSplitterRB_stor_ramsey_spec.h5\n",
      "Index: 9 depth. = 64 \n",
      "{'pre_sweep_pulse': [['qubit', 'ge', 'hpi', 0], ['qubit', 'ef', 'pi', 0], ['man', 'M1', 'pi', 0], ['storage', 'M1-S7', 'pi', 0]], 'post_sweep_pulse': [['storage', 'M1-S7', 'pi', 0], ['man', 'M1', 'pi', 0], ['qubit', 'ef', 'pi', 0], ['qubit', 'ge', 'hpi', 52633.47738970064]], 'wait_freq': 2.03, 'prepulse': True, 'postpulse': True, 'rb_time': 'None', 'bs_gate_num': 'None', 'qubits': [0], 'calibrate_single_shot': False, 'singleshot_reps': 10000, 'span': 500, 'active_reset': True, 'man_reset': True, 'storage_reset': True, 'threshold': -39.769721213292996, 'readout_per_round': 4, 'prep_man_photon': True, 'rb_active_reset': True, 'rb_man_reset': True, 'rb_storage_reset': True, 'rb_reps': 300, 'gates_per_wait': 100000, 'rounds': 1, 'variations': 50, 'rb_depth': 64, 'IRB_gate_no': -1, 'bs_repeat': 1, 'sync': False, 'setup': False, 'bs_para': [1053.395, 7500, 0.9865989868431034, 0.005]}\n",
      "ge fidelity (%): 0\n",
      "rotation angle (deg): [0]\n",
      "threshold ge: 0\n"
     ]
    },
    {
     "data": {
      "application/vnd.jupyter.widget-view+json": {
       "model_id": "ba35b3a91f4440e0ab7538975f8b9f9f",
       "version_major": 2,
       "version_minor": 0
      },
      "text/plain": [
       "  0%|          | 0/50 [00:00<?, ?it/s]"
      ]
     },
     "metadata": {},
     "output_type": "display_data"
    },
    {
     "name": "stdout",
     "output_type": "stream",
     "text": [
      "Saving H:\\Shared drives\\SLab\\Multimode\\experiment\\240911\\data1\\01160_SingleBeamSplitterRB_stor_ramsey_spec.h5\n",
      "Index: 10 depth. = 71 \n",
      "{'pre_sweep_pulse': [['qubit', 'ge', 'hpi', 0], ['qubit', 'ef', 'pi', 0], ['man', 'M1', 'pi', 0], ['storage', 'M1-S7', 'pi', 0]], 'post_sweep_pulse': [['storage', 'M1-S7', 'pi', 0], ['man', 'M1', 'pi', 0], ['qubit', 'ef', 'pi', 0], ['qubit', 'ge', 'hpi', 64169.58202305972]], 'wait_freq': 2.03, 'prepulse': True, 'postpulse': True, 'rb_time': 'None', 'bs_gate_num': 'None', 'qubits': [0], 'calibrate_single_shot': False, 'singleshot_reps': 10000, 'span': 500, 'active_reset': True, 'man_reset': True, 'storage_reset': True, 'threshold': -39.769721213292996, 'readout_per_round': 4, 'prep_man_photon': True, 'rb_active_reset': True, 'rb_man_reset': True, 'rb_storage_reset': True, 'rb_reps': 300, 'gates_per_wait': 100000, 'rounds': 1, 'variations': 50, 'rb_depth': 71, 'IRB_gate_no': -1, 'bs_repeat': 1, 'sync': False, 'setup': False, 'bs_para': [1053.395, 7500, 0.9865989868431034, 0.005]}\n",
      "ge fidelity (%): 0\n",
      "rotation angle (deg): [0]\n",
      "threshold ge: 0\n"
     ]
    },
    {
     "data": {
      "application/vnd.jupyter.widget-view+json": {
       "model_id": "b555a2b37b2444dca3ea111eaa800698",
       "version_major": 2,
       "version_minor": 0
      },
      "text/plain": [
       "  0%|          | 0/50 [00:00<?, ?it/s]"
      ]
     },
     "metadata": {},
     "output_type": "display_data"
    },
    {
     "name": "stdout",
     "output_type": "stream",
     "text": [
      "Saving H:\\Shared drives\\SLab\\Multimode\\experiment\\240911\\data1\\01161_SingleBeamSplitterRB_stor_ramsey_spec.h5\n",
      "Index: 11 depth. = 78 \n",
      "{'pre_sweep_pulse': [['qubit', 'ge', 'hpi', 0], ['qubit', 'ef', 'pi', 0], ['man', 'M1', 'pi', 0], ['storage', 'M1-S7', 'pi', 0]], 'post_sweep_pulse': [['storage', 'M1-S7', 'pi', 0], ['man', 'M1', 'pi', 0], ['qubit', 'ef', 'pi', 0], ['qubit', 'ge', 'hpi', 67053.60818139947]], 'wait_freq': 2.03, 'prepulse': True, 'postpulse': True, 'rb_time': 'None', 'bs_gate_num': 'None', 'qubits': [0], 'calibrate_single_shot': False, 'singleshot_reps': 10000, 'span': 500, 'active_reset': True, 'man_reset': True, 'storage_reset': True, 'threshold': -39.769721213292996, 'readout_per_round': 4, 'prep_man_photon': True, 'rb_active_reset': True, 'rb_man_reset': True, 'rb_storage_reset': True, 'rb_reps': 300, 'gates_per_wait': 100000, 'rounds': 1, 'variations': 50, 'rb_depth': 78, 'IRB_gate_no': -1, 'bs_repeat': 1, 'sync': False, 'setup': False, 'bs_para': [1053.395, 7500, 0.9865989868431034, 0.005]}\n",
      "ge fidelity (%): 0\n",
      "rotation angle (deg): [0]\n",
      "threshold ge: 0\n"
     ]
    },
    {
     "data": {
      "application/vnd.jupyter.widget-view+json": {
       "model_id": "9350de883e8b4daaba3cb4f2c9599979",
       "version_major": 2,
       "version_minor": 0
      },
      "text/plain": [
       "  0%|          | 0/50 [00:00<?, ?it/s]"
      ]
     },
     "metadata": {},
     "output_type": "display_data"
    },
    {
     "name": "stdout",
     "output_type": "stream",
     "text": [
      "Saving H:\\Shared drives\\SLab\\Multimode\\experiment\\240911\\data1\\01162_SingleBeamSplitterRB_stor_ramsey_spec.h5\n",
      "Index: 12 depth. = 85 \n",
      "{'pre_sweep_pulse': [['qubit', 'ge', 'hpi', 0], ['qubit', 'ef', 'pi', 0], ['man', 'M1', 'pi', 0], ['storage', 'M1-S7', 'pi', 0]], 'post_sweep_pulse': [['storage', 'M1-S7', 'pi', 0], ['man', 'M1', 'pi', 0], ['qubit', 'ef', 'pi', 0], ['qubit', 'ge', 'hpi', 79310.71935434347]], 'wait_freq': 2.03, 'prepulse': True, 'postpulse': True, 'rb_time': 'None', 'bs_gate_num': 'None', 'qubits': [0], 'calibrate_single_shot': False, 'singleshot_reps': 10000, 'span': 500, 'active_reset': True, 'man_reset': True, 'storage_reset': True, 'threshold': -39.769721213292996, 'readout_per_round': 4, 'prep_man_photon': True, 'rb_active_reset': True, 'rb_man_reset': True, 'rb_storage_reset': True, 'rb_reps': 300, 'gates_per_wait': 100000, 'rounds': 1, 'variations': 50, 'rb_depth': 85, 'IRB_gate_no': -1, 'bs_repeat': 1, 'sync': False, 'setup': False, 'bs_para': [1053.395, 7500, 0.9865989868431034, 0.005]}\n",
      "ge fidelity (%): 0\n",
      "rotation angle (deg): [0]\n",
      "threshold ge: 0\n"
     ]
    },
    {
     "data": {
      "application/vnd.jupyter.widget-view+json": {
       "model_id": "ff09ec232a1b4379b00dd41c7dee9c4e",
       "version_major": 2,
       "version_minor": 0
      },
      "text/plain": [
       "  0%|          | 0/50 [00:00<?, ?it/s]"
      ]
     },
     "metadata": {},
     "output_type": "display_data"
    },
    {
     "name": "stdout",
     "output_type": "stream",
     "text": [
      "Saving H:\\Shared drives\\SLab\\Multimode\\experiment\\240911\\data1\\01163_SingleBeamSplitterRB_stor_ramsey_spec.h5\n",
      "Index: 13 depth. = 92 \n",
      "{'pre_sweep_pulse': [['qubit', 'ge', 'hpi', 0], ['qubit', 'ef', 'pi', 0], ['man', 'M1', 'pi', 0], ['storage', 'M1-S7', 'pi', 0]], 'post_sweep_pulse': [['storage', 'M1-S7', 'pi', 0], ['man', 'M1', 'pi', 0], ['qubit', 'ef', 'pi', 0], ['qubit', 'ge', 'hpi', 79310.71935434346]], 'wait_freq': 2.03, 'prepulse': True, 'postpulse': True, 'rb_time': 'None', 'bs_gate_num': 'None', 'qubits': [0], 'calibrate_single_shot': False, 'singleshot_reps': 10000, 'span': 500, 'active_reset': True, 'man_reset': True, 'storage_reset': True, 'threshold': -39.769721213292996, 'readout_per_round': 4, 'prep_man_photon': True, 'rb_active_reset': True, 'rb_man_reset': True, 'rb_storage_reset': True, 'rb_reps': 300, 'gates_per_wait': 100000, 'rounds': 1, 'variations': 50, 'rb_depth': 92, 'IRB_gate_no': -1, 'bs_repeat': 1, 'sync': False, 'setup': False, 'bs_para': [1053.395, 7500, 0.9865989868431034, 0.005]}\n",
      "ge fidelity (%): 0\n",
      "rotation angle (deg): [0]\n",
      "threshold ge: 0\n"
     ]
    },
    {
     "data": {
      "application/vnd.jupyter.widget-view+json": {
       "model_id": "98b2d1cbfa094abf9e90b92c08dc38a2",
       "version_major": 2,
       "version_minor": 0
      },
      "text/plain": [
       "  0%|          | 0/50 [00:00<?, ?it/s]"
      ]
     },
     "metadata": {},
     "output_type": "display_data"
    },
    {
     "name": "stdout",
     "output_type": "stream",
     "text": [
      "Saving H:\\Shared drives\\SLab\\Multimode\\experiment\\240911\\data1\\01164_SingleBeamSplitterRB_stor_ramsey_spec.h5\n",
      "Index: 14 depth. = 99 \n",
      "{'pre_sweep_pulse': [['qubit', 'ge', 'hpi', 0], ['qubit', 'ef', 'pi', 0], ['man', 'M1', 'pi', 0], ['storage', 'M1-S7', 'pi', 0]], 'post_sweep_pulse': [['storage', 'M1-S7', 'pi', 0], ['man', 'M1', 'pi', 0], ['qubit', 'ef', 'pi', 0], ['qubit', 'ge', 'hpi', 91567.83052728749]], 'wait_freq': 2.03, 'prepulse': True, 'postpulse': True, 'rb_time': 'None', 'bs_gate_num': 'None', 'qubits': [0], 'calibrate_single_shot': False, 'singleshot_reps': 10000, 'span': 500, 'active_reset': True, 'man_reset': True, 'storage_reset': True, 'threshold': -39.769721213292996, 'readout_per_round': 4, 'prep_man_photon': True, 'rb_active_reset': True, 'rb_man_reset': True, 'rb_storage_reset': True, 'rb_reps': 300, 'gates_per_wait': 100000, 'rounds': 1, 'variations': 50, 'rb_depth': 99, 'IRB_gate_no': -1, 'bs_repeat': 1, 'sync': False, 'setup': False, 'bs_para': [1053.395, 7500, 0.9865989868431034, 0.005]}\n",
      "ge fidelity (%): 0\n",
      "rotation angle (deg): [0]\n",
      "threshold ge: 0\n"
     ]
    },
    {
     "data": {
      "application/vnd.jupyter.widget-view+json": {
       "model_id": "868e4a7197d14420b899b531a2886bb2",
       "version_major": 2,
       "version_minor": 0
      },
      "text/plain": [
       "  0%|          | 0/50 [00:00<?, ?it/s]"
      ]
     },
     "metadata": {},
     "output_type": "display_data"
    },
    {
     "name": "stdout",
     "output_type": "stream",
     "text": [
      "Saving H:\\Shared drives\\SLab\\Multimode\\experiment\\240911\\data1\\01165_SingleBeamSplitterRB_stor_ramsey_spec.h5\n",
      "Index: 15 depth. = 106 \n",
      "{'pre_sweep_pulse': [['qubit', 'ge', 'hpi', 0], ['qubit', 'ef', 'pi', 0], ['man', 'M1', 'pi', 0], ['storage', 'M1-S7', 'pi', 0]], 'post_sweep_pulse': [['storage', 'M1-S7', 'pi', 0], ['man', 'M1', 'pi', 0], ['qubit', 'ef', 'pi', 0], ['qubit', 'ge', 'hpi', 96614.87630438205]], 'wait_freq': 2.03, 'prepulse': True, 'postpulse': True, 'rb_time': 'None', 'bs_gate_num': 'None', 'qubits': [0], 'calibrate_single_shot': False, 'singleshot_reps': 10000, 'span': 500, 'active_reset': True, 'man_reset': True, 'storage_reset': True, 'threshold': -39.769721213292996, 'readout_per_round': 4, 'prep_man_photon': True, 'rb_active_reset': True, 'rb_man_reset': True, 'rb_storage_reset': True, 'rb_reps': 300, 'gates_per_wait': 100000, 'rounds': 1, 'variations': 50, 'rb_depth': 106, 'IRB_gate_no': -1, 'bs_repeat': 1, 'sync': False, 'setup': False, 'bs_para': [1053.395, 7500, 0.9865989868431034, 0.005]}\n",
      "ge fidelity (%): 0\n",
      "rotation angle (deg): [0]\n",
      "threshold ge: 0\n"
     ]
    },
    {
     "data": {
      "application/vnd.jupyter.widget-view+json": {
       "model_id": "71cb793c2cb64c75b9e7af9ea2b4a5fc",
       "version_major": 2,
       "version_minor": 0
      },
      "text/plain": [
       "  0%|          | 0/50 [00:00<?, ?it/s]"
      ]
     },
     "metadata": {},
     "output_type": "display_data"
    },
    {
     "name": "stdout",
     "output_type": "stream",
     "text": [
      "Saving H:\\Shared drives\\SLab\\Multimode\\experiment\\240911\\data1\\01166_SingleBeamSplitterRB_stor_ramsey_spec.h5\n",
      "Index: 16 depth. = 113 \n",
      "{'pre_sweep_pulse': [['qubit', 'ge', 'hpi', 0], ['qubit', 'ef', 'pi', 0], ['man', 'M1', 'pi', 0], ['storage', 'M1-S7', 'pi', 0]], 'post_sweep_pulse': [['storage', 'M1-S7', 'pi', 0], ['man', 'M1', 'pi', 0], ['qubit', 'ef', 'pi', 0], ['qubit', 'ge', 'hpi', 101661.92208147662]], 'wait_freq': 2.03, 'prepulse': True, 'postpulse': True, 'rb_time': 'None', 'bs_gate_num': 'None', 'qubits': [0], 'calibrate_single_shot': False, 'singleshot_reps': 10000, 'span': 500, 'active_reset': True, 'man_reset': True, 'storage_reset': True, 'threshold': -39.769721213292996, 'readout_per_round': 4, 'prep_man_photon': True, 'rb_active_reset': True, 'rb_man_reset': True, 'rb_storage_reset': True, 'rb_reps': 300, 'gates_per_wait': 100000, 'rounds': 1, 'variations': 50, 'rb_depth': 113, 'IRB_gate_no': -1, 'bs_repeat': 1, 'sync': False, 'setup': False, 'bs_para': [1053.395, 7500, 0.9865989868431034, 0.005]}\n",
      "ge fidelity (%): 0\n",
      "rotation angle (deg): [0]\n",
      "threshold ge: 0\n"
     ]
    },
    {
     "data": {
      "application/vnd.jupyter.widget-view+json": {
       "model_id": "723df767c09441eea82d18d7b1df74ae",
       "version_major": 2,
       "version_minor": 0
      },
      "text/plain": [
       "  0%|          | 0/50 [00:00<?, ?it/s]"
      ]
     },
     "metadata": {},
     "output_type": "display_data"
    },
    {
     "name": "stdout",
     "output_type": "stream",
     "text": [
      "Saving H:\\Shared drives\\SLab\\Multimode\\experiment\\240911\\data1\\01167_SingleBeamSplitterRB_stor_ramsey_spec.h5\n",
      "Index: 17 depth. = 120 \n",
      "{'pre_sweep_pulse': [['qubit', 'ge', 'hpi', 0], ['qubit', 'ef', 'pi', 0], ['man', 'M1', 'pi', 0], ['storage', 'M1-S7', 'pi', 0]], 'post_sweep_pulse': [['storage', 'M1-S7', 'pi', 0], ['man', 'M1', 'pi', 0], ['qubit', 'ef', 'pi', 0], ['qubit', 'ge', 'hpi', 113919.03325442062]], 'wait_freq': 2.03, 'prepulse': True, 'postpulse': True, 'rb_time': 'None', 'bs_gate_num': 'None', 'qubits': [0], 'calibrate_single_shot': False, 'singleshot_reps': 10000, 'span': 500, 'active_reset': True, 'man_reset': True, 'storage_reset': True, 'threshold': -39.769721213292996, 'readout_per_round': 4, 'prep_man_photon': True, 'rb_active_reset': True, 'rb_man_reset': True, 'rb_storage_reset': True, 'rb_reps': 300, 'gates_per_wait': 100000, 'rounds': 1, 'variations': 50, 'rb_depth': 120, 'IRB_gate_no': -1, 'bs_repeat': 1, 'sync': False, 'setup': False, 'bs_para': [1053.395, 7500, 0.9865989868431034, 0.005]}\n",
      "ge fidelity (%): 0\n",
      "rotation angle (deg): [0]\n",
      "threshold ge: 0\n"
     ]
    },
    {
     "data": {
      "application/vnd.jupyter.widget-view+json": {
       "model_id": "ea2eb6bbdd7f4b5d8d6d7e9b0fa3a19f",
       "version_major": 2,
       "version_minor": 0
      },
      "text/plain": [
       "  0%|          | 0/50 [00:00<?, ?it/s]"
      ]
     },
     "metadata": {},
     "output_type": "display_data"
    },
    {
     "name": "stdout",
     "output_type": "stream",
     "text": [
      "Saving H:\\Shared drives\\SLab\\Multimode\\experiment\\240911\\data1\\01168_SingleBeamSplitterRB_stor_ramsey_spec.h5\n",
      "Index: 18 depth. = 127 \n",
      "{'pre_sweep_pulse': [['qubit', 'ge', 'hpi', 0], ['qubit', 'ef', 'pi', 0], ['man', 'M1', 'pi', 0], ['storage', 'M1-S7', 'pi', 0]], 'post_sweep_pulse': [['storage', 'M1-S7', 'pi', 0], ['man', 'M1', 'pi', 0], ['qubit', 'ef', 'pi', 0], ['qubit', 'ge', 'hpi', 114640.03979400545]], 'wait_freq': 2.03, 'prepulse': True, 'postpulse': True, 'rb_time': 'None', 'bs_gate_num': 'None', 'qubits': [0], 'calibrate_single_shot': False, 'singleshot_reps': 10000, 'span': 500, 'active_reset': True, 'man_reset': True, 'storage_reset': True, 'threshold': -39.769721213292996, 'readout_per_round': 4, 'prep_man_photon': True, 'rb_active_reset': True, 'rb_man_reset': True, 'rb_storage_reset': True, 'rb_reps': 300, 'gates_per_wait': 100000, 'rounds': 1, 'variations': 50, 'rb_depth': 127, 'IRB_gate_no': -1, 'bs_repeat': 1, 'sync': False, 'setup': False, 'bs_para': [1053.395, 7500, 0.9865989868431034, 0.005]}\n",
      "ge fidelity (%): 0\n",
      "rotation angle (deg): [0]\n",
      "threshold ge: 0\n"
     ]
    },
    {
     "data": {
      "application/vnd.jupyter.widget-view+json": {
       "model_id": "986fadaffad24521998fdcda4b5ca687",
       "version_major": 2,
       "version_minor": 0
      },
      "text/plain": [
       "  0%|          | 0/50 [00:00<?, ?it/s]"
      ]
     },
     "metadata": {},
     "output_type": "display_data"
    },
    {
     "name": "stdout",
     "output_type": "stream",
     "text": [
      "Saving H:\\Shared drives\\SLab\\Multimode\\experiment\\240911\\data1\\01169_SingleBeamSplitterRB_stor_ramsey_spec.h5\n",
      "Index: 19 depth. = 134 \n",
      "{'pre_sweep_pulse': [['qubit', 'ge', 'hpi', 0], ['qubit', 'ef', 'pi', 0], ['man', 'M1', 'pi', 0], ['storage', 'M1-S7', 'pi', 0]], 'post_sweep_pulse': [['storage', 'M1-S7', 'pi', 0], ['man', 'M1', 'pi', 0], ['qubit', 'ef', 'pi', 0], ['qubit', 'ge', 'hpi', 126176.14442736449]], 'wait_freq': 2.03, 'prepulse': True, 'postpulse': True, 'rb_time': 'None', 'bs_gate_num': 'None', 'qubits': [0], 'calibrate_single_shot': False, 'singleshot_reps': 10000, 'span': 500, 'active_reset': True, 'man_reset': True, 'storage_reset': True, 'threshold': -39.769721213292996, 'readout_per_round': 4, 'prep_man_photon': True, 'rb_active_reset': True, 'rb_man_reset': True, 'rb_storage_reset': True, 'rb_reps': 300, 'gates_per_wait': 100000, 'rounds': 1, 'variations': 50, 'rb_depth': 134, 'IRB_gate_no': -1, 'bs_repeat': 1, 'sync': False, 'setup': False, 'bs_para': [1053.395, 7500, 0.9865989868431034, 0.005]}\n",
      "ge fidelity (%): 0\n",
      "rotation angle (deg): [0]\n",
      "threshold ge: 0\n"
     ]
    },
    {
     "data": {
      "application/vnd.jupyter.widget-view+json": {
       "model_id": "24f1b8debf54440ebd28280807e3dfbb",
       "version_major": 2,
       "version_minor": 0
      },
      "text/plain": [
       "  0%|          | 0/50 [00:00<?, ?it/s]"
      ]
     },
     "metadata": {},
     "output_type": "display_data"
    },
    {
     "name": "stdout",
     "output_type": "stream",
     "text": [
      "Saving H:\\Shared drives\\SLab\\Multimode\\experiment\\240911\\data1\\01170_SingleBeamSplitterRB_stor_ramsey_spec.h5\n",
      "Index: 20 depth. = 141 \n",
      "{'pre_sweep_pulse': [['qubit', 'ge', 'hpi', 0], ['qubit', 'ef', 'pi', 0], ['man', 'M1', 'pi', 0], ['storage', 'M1-S7', 'pi', 0]], 'post_sweep_pulse': [['storage', 'M1-S7', 'pi', 0], ['man', 'M1', 'pi', 0], ['qubit', 'ef', 'pi', 0], ['qubit', 'ge', 'hpi', 130502.18366487404]], 'wait_freq': 2.03, 'prepulse': True, 'postpulse': True, 'rb_time': 'None', 'bs_gate_num': 'None', 'qubits': [0], 'calibrate_single_shot': False, 'singleshot_reps': 10000, 'span': 500, 'active_reset': True, 'man_reset': True, 'storage_reset': True, 'threshold': -39.769721213292996, 'readout_per_round': 4, 'prep_man_photon': True, 'rb_active_reset': True, 'rb_man_reset': True, 'rb_storage_reset': True, 'rb_reps': 300, 'gates_per_wait': 100000, 'rounds': 1, 'variations': 50, 'rb_depth': 141, 'IRB_gate_no': -1, 'bs_repeat': 1, 'sync': False, 'setup': False, 'bs_para': [1053.395, 7500, 0.9865989868431034, 0.005]}\n",
      "ge fidelity (%): 0\n",
      "rotation angle (deg): [0]\n",
      "threshold ge: 0\n"
     ]
    },
    {
     "data": {
      "application/vnd.jupyter.widget-view+json": {
       "model_id": "8a9411c2154144d8ae00b98e3f9c01f3",
       "version_major": 2,
       "version_minor": 0
      },
      "text/plain": [
       "  0%|          | 0/50 [00:00<?, ?it/s]"
      ]
     },
     "metadata": {},
     "output_type": "display_data"
    },
    {
     "name": "stdout",
     "output_type": "stream",
     "text": [
      "Saving H:\\Shared drives\\SLab\\Multimode\\experiment\\240911\\data1\\01171_SingleBeamSplitterRB_stor_ramsey_spec.h5\n",
      "Index: 21 depth. = 148 \n",
      "{'pre_sweep_pulse': [['qubit', 'ge', 'hpi', 0], ['qubit', 'ef', 'pi', 0], ['man', 'M1', 'pi', 0], ['storage', 'M1-S7', 'pi', 0]], 'post_sweep_pulse': [['storage', 'M1-S7', 'pi', 0], ['man', 'M1', 'pi', 0], ['qubit', 'ef', 'pi', 0], ['qubit', 'ge', 'hpi', 138433.25560030836]], 'wait_freq': 2.03, 'prepulse': True, 'postpulse': True, 'rb_time': 'None', 'bs_gate_num': 'None', 'qubits': [0], 'calibrate_single_shot': False, 'singleshot_reps': 10000, 'span': 500, 'active_reset': True, 'man_reset': True, 'storage_reset': True, 'threshold': -39.769721213292996, 'readout_per_round': 4, 'prep_man_photon': True, 'rb_active_reset': True, 'rb_man_reset': True, 'rb_storage_reset': True, 'rb_reps': 300, 'gates_per_wait': 100000, 'rounds': 1, 'variations': 50, 'rb_depth': 148, 'IRB_gate_no': -1, 'bs_repeat': 1, 'sync': False, 'setup': False, 'bs_para': [1053.395, 7500, 0.9865989868431034, 0.005]}\n",
      "ge fidelity (%): 0\n",
      "rotation angle (deg): [0]\n",
      "threshold ge: 0\n"
     ]
    },
    {
     "data": {
      "application/vnd.jupyter.widget-view+json": {
       "model_id": "ca636c1b76354dec92cc82e8f7ba9230",
       "version_major": 2,
       "version_minor": 0
      },
      "text/plain": [
       "  0%|          | 0/50 [00:00<?, ?it/s]"
      ]
     },
     "metadata": {},
     "output_type": "display_data"
    },
    {
     "name": "stdout",
     "output_type": "stream",
     "text": [
      "Saving H:\\Shared drives\\SLab\\Multimode\\experiment\\240911\\data1\\01172_SingleBeamSplitterRB_stor_ramsey_spec.h5\n",
      "Index: 22 depth. = 155 \n",
      "{'pre_sweep_pulse': [['qubit', 'ge', 'hpi', 0], ['qubit', 'ef', 'pi', 0], ['man', 'M1', 'pi', 0], ['storage', 'M1-S7', 'pi', 0]], 'post_sweep_pulse': [['storage', 'M1-S7', 'pi', 0], ['man', 'M1', 'pi', 0], ['qubit', 'ef', 'pi', 0], ['qubit', 'ge', 'hpi', 138433.2556003083]], 'wait_freq': 2.03, 'prepulse': True, 'postpulse': True, 'rb_time': 'None', 'bs_gate_num': 'None', 'qubits': [0], 'calibrate_single_shot': False, 'singleshot_reps': 10000, 'span': 500, 'active_reset': True, 'man_reset': True, 'storage_reset': True, 'threshold': -39.769721213292996, 'readout_per_round': 4, 'prep_man_photon': True, 'rb_active_reset': True, 'rb_man_reset': True, 'rb_storage_reset': True, 'rb_reps': 300, 'gates_per_wait': 100000, 'rounds': 1, 'variations': 50, 'rb_depth': 155, 'IRB_gate_no': -1, 'bs_repeat': 1, 'sync': False, 'setup': False, 'bs_para': [1053.395, 7500, 0.9865989868431034, 0.005]}\n",
      "ge fidelity (%): 0\n",
      "rotation angle (deg): [0]\n",
      "threshold ge: 0\n"
     ]
    },
    {
     "data": {
      "application/vnd.jupyter.widget-view+json": {
       "model_id": "f0b6592383474b6f9d037b28d2ecf6e8",
       "version_major": 2,
       "version_minor": 0
      },
      "text/plain": [
       "  0%|          | 0/50 [00:00<?, ?it/s]"
      ]
     },
     "metadata": {},
     "output_type": "display_data"
    },
    {
     "name": "stdout",
     "output_type": "stream",
     "text": [
      "Saving H:\\Shared drives\\SLab\\Multimode\\experiment\\240911\\data1\\01173_SingleBeamSplitterRB_stor_ramsey_spec.h5\n",
      "Index: 23 depth. = 162 \n",
      "{'pre_sweep_pulse': [['qubit', 'ge', 'hpi', 0], ['qubit', 'ef', 'pi', 0], ['man', 'M1', 'pi', 0], ['storage', 'M1-S7', 'pi', 0]], 'post_sweep_pulse': [['storage', 'M1-S7', 'pi', 0], ['man', 'M1', 'pi', 0], ['qubit', 'ef', 'pi', 0], ['qubit', 'ge', 'hpi', 144201.30791698783]], 'wait_freq': 2.03, 'prepulse': True, 'postpulse': True, 'rb_time': 'None', 'bs_gate_num': 'None', 'qubits': [0], 'calibrate_single_shot': False, 'singleshot_reps': 10000, 'span': 500, 'active_reset': True, 'man_reset': True, 'storage_reset': True, 'threshold': -39.769721213292996, 'readout_per_round': 4, 'prep_man_photon': True, 'rb_active_reset': True, 'rb_man_reset': True, 'rb_storage_reset': True, 'rb_reps': 300, 'gates_per_wait': 100000, 'rounds': 1, 'variations': 50, 'rb_depth': 162, 'IRB_gate_no': -1, 'bs_repeat': 1, 'sync': False, 'setup': False, 'bs_para': [1053.395, 7500, 0.9865989868431034, 0.005]}\n",
      "ge fidelity (%): 0\n",
      "rotation angle (deg): [0]\n",
      "threshold ge: 0\n"
     ]
    },
    {
     "data": {
      "application/vnd.jupyter.widget-view+json": {
       "model_id": "88580b3c3315460cafd81795c2f61819",
       "version_major": 2,
       "version_minor": 0
      },
      "text/plain": [
       "  0%|          | 0/50 [00:00<?, ?it/s]"
      ]
     },
     "metadata": {},
     "output_type": "display_data"
    },
    {
     "name": "stdout",
     "output_type": "stream",
     "text": [
      "Saving H:\\Shared drives\\SLab\\Multimode\\experiment\\240911\\data1\\01174_SingleBeamSplitterRB_stor_ramsey_spec.h5\n",
      "Index: 24 depth. = 169 \n",
      "{'pre_sweep_pulse': [['qubit', 'ge', 'hpi', 0], ['qubit', 'ef', 'pi', 0], ['man', 'M1', 'pi', 0], ['storage', 'M1-S7', 'pi', 0]], 'post_sweep_pulse': [['storage', 'M1-S7', 'pi', 0], ['man', 'M1', 'pi', 0], ['qubit', 'ef', 'pi', 0], ['qubit', 'ge', 'hpi', 154295.39947117696]], 'wait_freq': 2.03, 'prepulse': True, 'postpulse': True, 'rb_time': 'None', 'bs_gate_num': 'None', 'qubits': [0], 'calibrate_single_shot': False, 'singleshot_reps': 10000, 'span': 500, 'active_reset': True, 'man_reset': True, 'storage_reset': True, 'threshold': -39.769721213292996, 'readout_per_round': 4, 'prep_man_photon': True, 'rb_active_reset': True, 'rb_man_reset': True, 'rb_storage_reset': True, 'rb_reps': 300, 'gates_per_wait': 100000, 'rounds': 1, 'variations': 50, 'rb_depth': 169, 'IRB_gate_no': -1, 'bs_repeat': 1, 'sync': False, 'setup': False, 'bs_para': [1053.395, 7500, 0.9865989868431034, 0.005]}\n",
      "ge fidelity (%): 0\n",
      "rotation angle (deg): [0]\n",
      "threshold ge: 0\n"
     ]
    },
    {
     "data": {
      "application/vnd.jupyter.widget-view+json": {
       "model_id": "5b2c294f1cb44ba1a807a45c8683f04e",
       "version_major": 2,
       "version_minor": 0
      },
      "text/plain": [
       "  0%|          | 0/50 [00:00<?, ?it/s]"
      ]
     },
     "metadata": {},
     "output_type": "display_data"
    },
    {
     "name": "stdout",
     "output_type": "stream",
     "text": [
      "Saving H:\\Shared drives\\SLab\\Multimode\\experiment\\240911\\data1\\01175_SingleBeamSplitterRB_stor_ramsey_spec.h5\n",
      "Index: 25 depth. = 176 \n",
      "{'pre_sweep_pulse': [['qubit', 'ge', 'hpi', 0], ['qubit', 'ef', 'pi', 0], ['man', 'M1', 'pi', 0], ['storage', 'M1-S7', 'pi', 0]], 'post_sweep_pulse': [['storage', 'M1-S7', 'pi', 0], ['man', 'M1', 'pi', 0], ['qubit', 'ef', 'pi', 0], ['qubit', 'ge', 'hpi', 165110.49756495102]], 'wait_freq': 2.03, 'prepulse': True, 'postpulse': True, 'rb_time': 'None', 'bs_gate_num': 'None', 'qubits': [0], 'calibrate_single_shot': False, 'singleshot_reps': 10000, 'span': 500, 'active_reset': True, 'man_reset': True, 'storage_reset': True, 'threshold': -39.769721213292996, 'readout_per_round': 4, 'prep_man_photon': True, 'rb_active_reset': True, 'rb_man_reset': True, 'rb_storage_reset': True, 'rb_reps': 300, 'gates_per_wait': 100000, 'rounds': 1, 'variations': 50, 'rb_depth': 176, 'IRB_gate_no': -1, 'bs_repeat': 1, 'sync': False, 'setup': False, 'bs_para': [1053.395, 7500, 0.9865989868431034, 0.005]}\n",
      "ge fidelity (%): 0\n",
      "rotation angle (deg): [0]\n",
      "threshold ge: 0\n"
     ]
    },
    {
     "data": {
      "application/vnd.jupyter.widget-view+json": {
       "model_id": "bbce4dca19ec4ec98e9d2351f4cd4632",
       "version_major": 2,
       "version_minor": 0
      },
      "text/plain": [
       "  0%|          | 0/50 [00:00<?, ?it/s]"
      ]
     },
     "metadata": {},
     "output_type": "display_data"
    },
    {
     "name": "stdout",
     "output_type": "stream",
     "text": [
      "Saving H:\\Shared drives\\SLab\\Multimode\\experiment\\240911\\data1\\01176_SingleBeamSplitterRB_stor_ramsey_spec.h5\n",
      "Index: 26 depth. = 183 \n",
      "{'pre_sweep_pulse': [['qubit', 'ge', 'hpi', 0], ['qubit', 'ef', 'pi', 0], ['man', 'M1', 'pi', 0], ['storage', 'M1-S7', 'pi', 0]], 'post_sweep_pulse': [['storage', 'M1-S7', 'pi', 0], ['man', 'M1', 'pi', 0], ['qubit', 'ef', 'pi', 0], ['qubit', 'ge', 'hpi', 166552.51064412083]], 'wait_freq': 2.03, 'prepulse': True, 'postpulse': True, 'rb_time': 'None', 'bs_gate_num': 'None', 'qubits': [0], 'calibrate_single_shot': False, 'singleshot_reps': 10000, 'span': 500, 'active_reset': True, 'man_reset': True, 'storage_reset': True, 'threshold': -39.769721213292996, 'readout_per_round': 4, 'prep_man_photon': True, 'rb_active_reset': True, 'rb_man_reset': True, 'rb_storage_reset': True, 'rb_reps': 300, 'gates_per_wait': 100000, 'rounds': 1, 'variations': 50, 'rb_depth': 183, 'IRB_gate_no': -1, 'bs_repeat': 1, 'sync': False, 'setup': False, 'bs_para': [1053.395, 7500, 0.9865989868431034, 0.005]}\n",
      "ge fidelity (%): 0\n",
      "rotation angle (deg): [0]\n",
      "threshold ge: 0\n"
     ]
    },
    {
     "data": {
      "application/vnd.jupyter.widget-view+json": {
       "model_id": "91952e411b8b4588b7380f43b4e660e6",
       "version_major": 2,
       "version_minor": 0
      },
      "text/plain": [
       "  0%|          | 0/50 [00:00<?, ?it/s]"
      ]
     },
     "metadata": {},
     "output_type": "display_data"
    },
    {
     "name": "stdout",
     "output_type": "stream",
     "text": [
      "Saving H:\\Shared drives\\SLab\\Multimode\\experiment\\240911\\data1\\01177_SingleBeamSplitterRB_stor_ramsey_spec.h5\n",
      "Index: 27 depth. = 190 \n",
      "{'pre_sweep_pulse': [['qubit', 'ge', 'hpi', 0], ['qubit', 'ef', 'pi', 0], ['man', 'M1', 'pi', 0], ['storage', 'M1-S7', 'pi', 0]], 'post_sweep_pulse': [['storage', 'M1-S7', 'pi', 0], ['man', 'M1', 'pi', 0], ['qubit', 'ef', 'pi', 0], ['qubit', 'ge', 'hpi', 177367.60873789483]], 'wait_freq': 2.03, 'prepulse': True, 'postpulse': True, 'rb_time': 'None', 'bs_gate_num': 'None', 'qubits': [0], 'calibrate_single_shot': False, 'singleshot_reps': 10000, 'span': 500, 'active_reset': True, 'man_reset': True, 'storage_reset': True, 'threshold': -39.769721213292996, 'readout_per_round': 4, 'prep_man_photon': True, 'rb_active_reset': True, 'rb_man_reset': True, 'rb_storage_reset': True, 'rb_reps': 300, 'gates_per_wait': 100000, 'rounds': 1, 'variations': 50, 'rb_depth': 190, 'IRB_gate_no': -1, 'bs_repeat': 1, 'sync': False, 'setup': False, 'bs_para': [1053.395, 7500, 0.9865989868431034, 0.005]}\n",
      "ge fidelity (%): 0\n",
      "rotation angle (deg): [0]\n",
      "threshold ge: 0\n"
     ]
    },
    {
     "data": {
      "application/vnd.jupyter.widget-view+json": {
       "model_id": "0d0231c1d42842788bbd263b7480c7fb",
       "version_major": 2,
       "version_minor": 0
      },
      "text/plain": [
       "  0%|          | 0/50 [00:00<?, ?it/s]"
      ]
     },
     "metadata": {},
     "output_type": "display_data"
    },
    {
     "name": "stdout",
     "output_type": "stream",
     "text": [
      "Saving H:\\Shared drives\\SLab\\Multimode\\experiment\\240911\\data1\\01178_SingleBeamSplitterRB_stor_ramsey_spec.h5\n",
      "Index: 28 depth. = 197 \n",
      "{'pre_sweep_pulse': [['qubit', 'ge', 'hpi', 0], ['qubit', 'ef', 'pi', 0], ['man', 'M1', 'pi', 0], ['storage', 'M1-S7', 'pi', 0]], 'post_sweep_pulse': [['storage', 'M1-S7', 'pi', 0], ['man', 'M1', 'pi', 0], ['qubit', 'ef', 'pi', 0], ['qubit', 'ge', 'hpi', 180251.63489623464]], 'wait_freq': 2.03, 'prepulse': True, 'postpulse': True, 'rb_time': 'None', 'bs_gate_num': 'None', 'qubits': [0], 'calibrate_single_shot': False, 'singleshot_reps': 10000, 'span': 500, 'active_reset': True, 'man_reset': True, 'storage_reset': True, 'threshold': -39.769721213292996, 'readout_per_round': 4, 'prep_man_photon': True, 'rb_active_reset': True, 'rb_man_reset': True, 'rb_storage_reset': True, 'rb_reps': 300, 'gates_per_wait': 100000, 'rounds': 1, 'variations': 50, 'rb_depth': 197, 'IRB_gate_no': -1, 'bs_repeat': 1, 'sync': False, 'setup': False, 'bs_para': [1053.395, 7500, 0.9865989868431034, 0.005]}\n",
      "ge fidelity (%): 0\n",
      "rotation angle (deg): [0]\n",
      "threshold ge: 0\n"
     ]
    },
    {
     "data": {
      "application/vnd.jupyter.widget-view+json": {
       "model_id": "25a4aeaa8490472ab9439cef2cde95e6",
       "version_major": 2,
       "version_minor": 0
      },
      "text/plain": [
       "  0%|          | 0/50 [00:00<?, ?it/s]"
      ]
     },
     "metadata": {},
     "output_type": "display_data"
    },
    {
     "name": "stdout",
     "output_type": "stream",
     "text": [
      "Saving H:\\Shared drives\\SLab\\Multimode\\experiment\\240911\\data1\\01179_SingleBeamSplitterRB_stor_ramsey_spec.h5\n",
      "Index: 29 depth. = 204 \n",
      "{'pre_sweep_pulse': [['qubit', 'ge', 'hpi', 0], ['qubit', 'ef', 'pi', 0], ['man', 'M1', 'pi', 0], ['storage', 'M1-S7', 'pi', 0]], 'post_sweep_pulse': [['storage', 'M1-S7', 'pi', 0], ['man', 'M1', 'pi', 0], ['qubit', 'ef', 'pi', 0], ['qubit', 'ge', 'hpi', 193229.7526087635]], 'wait_freq': 2.03, 'prepulse': True, 'postpulse': True, 'rb_time': 'None', 'bs_gate_num': 'None', 'qubits': [0], 'calibrate_single_shot': False, 'singleshot_reps': 10000, 'span': 500, 'active_reset': True, 'man_reset': True, 'storage_reset': True, 'threshold': -39.769721213292996, 'readout_per_round': 4, 'prep_man_photon': True, 'rb_active_reset': True, 'rb_man_reset': True, 'rb_storage_reset': True, 'rb_reps': 300, 'gates_per_wait': 100000, 'rounds': 1, 'variations': 50, 'rb_depth': 204, 'IRB_gate_no': -1, 'bs_repeat': 1, 'sync': False, 'setup': False, 'bs_para': [1053.395, 7500, 0.9865989868431034, 0.005]}\n",
      "ge fidelity (%): 0\n",
      "rotation angle (deg): [0]\n",
      "threshold ge: 0\n"
     ]
    },
    {
     "data": {
      "application/vnd.jupyter.widget-view+json": {
       "model_id": "202a8122bb2e41fcb9138c24d5509543",
       "version_major": 2,
       "version_minor": 0
      },
      "text/plain": [
       "  0%|          | 0/50 [00:00<?, ?it/s]"
      ]
     },
     "metadata": {},
     "output_type": "display_data"
    },
    {
     "name": "stdout",
     "output_type": "stream",
     "text": [
      "Saving H:\\Shared drives\\SLab\\Multimode\\experiment\\240911\\data1\\01180_SingleBeamSplitterRB_stor_ramsey_spec.h5\n",
      "-------------------------------------------------\n",
      "Index: 0 Storage = 7, Spectator = 6 \n",
      "Index: 0 depth. = 1 \n",
      "{'pre_sweep_pulse': [['qubit', 'ge', 'hpi', 0], ['qubit', 'ef', 'pi', 0], ['man', 'M1', 'pi', 0], ['storage', 'M1-S7', 'pi', 0]], 'post_sweep_pulse': [['storage', 'M1-S7', 'pi', 0], ['man', 'M1', 'pi', 0], ['qubit', 'ef', 'pi', 0], ['qubit', 'ge', 'hpi', 197555.7918462731]], 'wait_freq': 1.965, 'prepulse': True, 'postpulse': True, 'rb_time': 'None', 'bs_gate_num': 'None', 'qubits': [0], 'calibrate_single_shot': True, 'singleshot_reps': 10000, 'span': 500, 'active_reset': True, 'man_reset': True, 'storage_reset': True, 'threshold': -39.769721213292996, 'readout_per_round': 4, 'prep_man_photon': True, 'rb_active_reset': True, 'rb_man_reset': True, 'rb_storage_reset': True, 'rb_reps': 300, 'gates_per_wait': 100000, 'rounds': 1, 'variations': 50, 'rb_depth': 1, 'IRB_gate_no': -1, 'bs_repeat': 1, 'sync': False, 'setup': False, 'bs_para': [1245.16, 13500, 0.797654995769661, 0.005]}\n",
      "sscfg active reset True\n",
      "9871\n",
      "9897\n",
      "ge fidelity (%): 98.16142040789435\n",
      "rotation angle (deg): 3.873697657724705\n",
      "threshold ge: -11.035722463887282\n"
     ]
    },
    {
     "data": {
      "application/vnd.jupyter.widget-view+json": {
       "model_id": "b2e476f84bb746bbb8a5099c82e82088",
       "version_major": 2,
       "version_minor": 0
      },
      "text/plain": [
       "  0%|          | 0/50 [00:00<?, ?it/s]"
      ]
     },
     "metadata": {},
     "output_type": "display_data"
    },
    {
     "name": "stdout",
     "output_type": "stream",
     "text": [
      "Saving H:\\Shared drives\\SLab\\Multimode\\experiment\\240911\\data1\\01181_SingleBeamSplitterRB_stor_ramsey_spec.h5\n",
      "Index: 1 depth. = 8 \n",
      "{'pre_sweep_pulse': [['qubit', 'ge', 'hpi', 0], ['qubit', 'ef', 'pi', 0], ['man', 'M1', 'pi', 0], ['storage', 'M1-S7', 'pi', 0]], 'post_sweep_pulse': [['storage', 'M1-S7', 'pi', 0], ['man', 'M1', 'pi', 0], ['qubit', 'ef', 'pi', 0], ['qubit', 'ge', 'hpi', 2257.044576029833]], 'wait_freq': 1.965, 'prepulse': True, 'postpulse': True, 'rb_time': 'None', 'bs_gate_num': 'None', 'qubits': [0], 'calibrate_single_shot': False, 'singleshot_reps': 10000, 'span': 500, 'active_reset': True, 'man_reset': True, 'storage_reset': True, 'threshold': -39.769721213292996, 'readout_per_round': 4, 'prep_man_photon': True, 'rb_active_reset': True, 'rb_man_reset': True, 'rb_storage_reset': True, 'rb_reps': 300, 'gates_per_wait': 100000, 'rounds': 1, 'variations': 50, 'rb_depth': 8, 'IRB_gate_no': -1, 'bs_repeat': 1, 'sync': False, 'setup': False, 'bs_para': [1245.16, 13500, 0.797654995769661, 0.005]}\n",
      "ge fidelity (%): 0\n",
      "rotation angle (deg): [0]\n",
      "threshold ge: 0\n"
     ]
    },
    {
     "data": {
      "application/vnd.jupyter.widget-view+json": {
       "model_id": "f91addd5c0184ab1b22af23ec37d6846",
       "version_major": 2,
       "version_minor": 0
      },
      "text/plain": [
       "  0%|          | 0/50 [00:00<?, ?it/s]"
      ]
     },
     "metadata": {},
     "output_type": "display_data"
    },
    {
     "name": "stdout",
     "output_type": "stream",
     "text": [
      "Saving H:\\Shared drives\\SLab\\Multimode\\experiment\\240911\\data1\\01182_SingleBeamSplitterRB_stor_ramsey_spec.h5\n",
      "Index: 2 depth. = 15 \n",
      "{'pre_sweep_pulse': [['qubit', 'ge', 'hpi', 0], ['qubit', 'ef', 'pi', 0], ['man', 'M1', 'pi', 0], ['storage', 'M1-S7', 'pi', 0]], 'post_sweep_pulse': [['storage', 'M1-S7', 'pi', 0], ['man', 'M1', 'pi', 0], ['qubit', 'ef', 'pi', 0], ['qubit', 'ge', 'hpi', 6771.1337280894995]], 'wait_freq': 1.965, 'prepulse': True, 'postpulse': True, 'rb_time': 'None', 'bs_gate_num': 'None', 'qubits': [0], 'calibrate_single_shot': False, 'singleshot_reps': 10000, 'span': 500, 'active_reset': True, 'man_reset': True, 'storage_reset': True, 'threshold': -39.769721213292996, 'readout_per_round': 4, 'prep_man_photon': True, 'rb_active_reset': True, 'rb_man_reset': True, 'rb_storage_reset': True, 'rb_reps': 300, 'gates_per_wait': 100000, 'rounds': 1, 'variations': 50, 'rb_depth': 15, 'IRB_gate_no': -1, 'bs_repeat': 1, 'sync': False, 'setup': False, 'bs_para': [1245.16, 13500, 0.797654995769661, 0.005]}\n",
      "ge fidelity (%): 0\n",
      "rotation angle (deg): [0]\n",
      "threshold ge: 0\n"
     ]
    },
    {
     "data": {
      "application/vnd.jupyter.widget-view+json": {
       "model_id": "0fe22ce3c0784b6195e04a596467e5ca",
       "version_major": 2,
       "version_minor": 0
      },
      "text/plain": [
       "  0%|          | 0/50 [00:00<?, ?it/s]"
      ]
     },
     "metadata": {},
     "output_type": "display_data"
    },
    {
     "name": "stdout",
     "output_type": "stream",
     "text": [
      "Saving H:\\Shared drives\\SLab\\Multimode\\experiment\\240911\\data1\\01183_SingleBeamSplitterRB_stor_ramsey_spec.h5\n",
      "Index: 3 depth. = 22 \n",
      "{'pre_sweep_pulse': [['qubit', 'ge', 'hpi', 0], ['qubit', 'ef', 'pi', 0], ['man', 'M1', 'pi', 0], ['storage', 'M1-S7', 'pi', 0]], 'post_sweep_pulse': [['storage', 'M1-S7', 'pi', 0], ['man', 'M1', 'pi', 0], ['qubit', 'ef', 'pi', 0], ['qubit', 'ge', 'hpi', 11285.222880149167]], 'wait_freq': 1.965, 'prepulse': True, 'postpulse': True, 'rb_time': 'None', 'bs_gate_num': 'None', 'qubits': [0], 'calibrate_single_shot': False, 'singleshot_reps': 10000, 'span': 500, 'active_reset': True, 'man_reset': True, 'storage_reset': True, 'threshold': -39.769721213292996, 'readout_per_round': 4, 'prep_man_photon': True, 'rb_active_reset': True, 'rb_man_reset': True, 'rb_storage_reset': True, 'rb_reps': 300, 'gates_per_wait': 100000, 'rounds': 1, 'variations': 50, 'rb_depth': 22, 'IRB_gate_no': -1, 'bs_repeat': 1, 'sync': False, 'setup': False, 'bs_para': [1245.16, 13500, 0.797654995769661, 0.005]}\n",
      "ge fidelity (%): 0\n",
      "rotation angle (deg): [0]\n",
      "threshold ge: 0\n"
     ]
    },
    {
     "data": {
      "application/vnd.jupyter.widget-view+json": {
       "model_id": "2514946f1d264de9bb5f1e6307ca33b2",
       "version_major": 2,
       "version_minor": 0
      },
      "text/plain": [
       "  0%|          | 0/50 [00:00<?, ?it/s]"
      ]
     },
     "metadata": {},
     "output_type": "display_data"
    },
    {
     "name": "stdout",
     "output_type": "stream",
     "text": [
      "Saving H:\\Shared drives\\SLab\\Multimode\\experiment\\240911\\data1\\01184_SingleBeamSplitterRB_stor_ramsey_spec.h5\n",
      "Index: 4 depth. = 29 \n",
      "{'pre_sweep_pulse': [['qubit', 'ge', 'hpi', 0], ['qubit', 'ef', 'pi', 0], ['man', 'M1', 'pi', 0], ['storage', 'M1-S7', 'pi', 0]], 'post_sweep_pulse': [['storage', 'M1-S7', 'pi', 0], ['man', 'M1', 'pi', 0], ['qubit', 'ef', 'pi', 0], ['qubit', 'ge', 'hpi', 15799.312032208833]], 'wait_freq': 1.965, 'prepulse': True, 'postpulse': True, 'rb_time': 'None', 'bs_gate_num': 'None', 'qubits': [0], 'calibrate_single_shot': False, 'singleshot_reps': 10000, 'span': 500, 'active_reset': True, 'man_reset': True, 'storage_reset': True, 'threshold': -39.769721213292996, 'readout_per_round': 4, 'prep_man_photon': True, 'rb_active_reset': True, 'rb_man_reset': True, 'rb_storage_reset': True, 'rb_reps': 300, 'gates_per_wait': 100000, 'rounds': 1, 'variations': 50, 'rb_depth': 29, 'IRB_gate_no': -1, 'bs_repeat': 1, 'sync': False, 'setup': False, 'bs_para': [1245.16, 13500, 0.797654995769661, 0.005]}\n",
      "ge fidelity (%): 0\n",
      "rotation angle (deg): [0]\n",
      "threshold ge: 0\n"
     ]
    },
    {
     "data": {
      "application/vnd.jupyter.widget-view+json": {
       "model_id": "2a722801e6a24e35b8c392190a4d0eab",
       "version_major": 2,
       "version_minor": 0
      },
      "text/plain": [
       "  0%|          | 0/50 [00:00<?, ?it/s]"
      ]
     },
     "metadata": {},
     "output_type": "display_data"
    },
    {
     "name": "stdout",
     "output_type": "stream",
     "text": [
      "Saving H:\\Shared drives\\SLab\\Multimode\\experiment\\240911\\data1\\01185_SingleBeamSplitterRB_stor_ramsey_spec.h5\n",
      "Index: 5 depth. = 36 \n",
      "{'pre_sweep_pulse': [['qubit', 'ge', 'hpi', 0], ['qubit', 'ef', 'pi', 0], ['man', 'M1', 'pi', 0], ['storage', 'M1-S7', 'pi', 0]], 'post_sweep_pulse': [['storage', 'M1-S7', 'pi', 0], ['man', 'M1', 'pi', 0], ['qubit', 'ef', 'pi', 0], ['qubit', 'ge', 'hpi', 20877.66232827596]], 'wait_freq': 1.965, 'prepulse': True, 'postpulse': True, 'rb_time': 'None', 'bs_gate_num': 'None', 'qubits': [0], 'calibrate_single_shot': False, 'singleshot_reps': 10000, 'span': 500, 'active_reset': True, 'man_reset': True, 'storage_reset': True, 'threshold': -39.769721213292996, 'readout_per_round': 4, 'prep_man_photon': True, 'rb_active_reset': True, 'rb_man_reset': True, 'rb_storage_reset': True, 'rb_reps': 300, 'gates_per_wait': 100000, 'rounds': 1, 'variations': 50, 'rb_depth': 36, 'IRB_gate_no': -1, 'bs_repeat': 1, 'sync': False, 'setup': False, 'bs_para': [1245.16, 13500, 0.797654995769661, 0.005]}\n",
      "ge fidelity (%): 0\n",
      "rotation angle (deg): [0]\n",
      "threshold ge: 0\n"
     ]
    },
    {
     "data": {
      "application/vnd.jupyter.widget-view+json": {
       "model_id": "a1cb50c5c50f417582c448708cc97448",
       "version_major": 2,
       "version_minor": 0
      },
      "text/plain": [
       "  0%|          | 0/50 [00:00<?, ?it/s]"
      ]
     },
     "metadata": {},
     "output_type": "display_data"
    },
    {
     "name": "stdout",
     "output_type": "stream",
     "text": [
      "Saving H:\\Shared drives\\SLab\\Multimode\\experiment\\240911\\data1\\01186_SingleBeamSplitterRB_stor_ramsey_spec.h5\n",
      "Index: 6 depth. = 43 \n",
      "{'pre_sweep_pulse': [['qubit', 'ge', 'hpi', 0], ['qubit', 'ef', 'pi', 0], ['man', 'M1', 'pi', 0], ['storage', 'M1-S7', 'pi', 0]], 'post_sweep_pulse': [['storage', 'M1-S7', 'pi', 0], ['man', 'M1', 'pi', 0], ['qubit', 'ef', 'pi', 0], ['qubit', 'ge', 'hpi', 27648.796056365467]], 'wait_freq': 1.965, 'prepulse': True, 'postpulse': True, 'rb_time': 'None', 'bs_gate_num': 'None', 'qubits': [0], 'calibrate_single_shot': False, 'singleshot_reps': 10000, 'span': 500, 'active_reset': True, 'man_reset': True, 'storage_reset': True, 'threshold': -39.769721213292996, 'readout_per_round': 4, 'prep_man_photon': True, 'rb_active_reset': True, 'rb_man_reset': True, 'rb_storage_reset': True, 'rb_reps': 300, 'gates_per_wait': 100000, 'rounds': 1, 'variations': 50, 'rb_depth': 43, 'IRB_gate_no': -1, 'bs_repeat': 1, 'sync': False, 'setup': False, 'bs_para': [1245.16, 13500, 0.797654995769661, 0.005]}\n",
      "ge fidelity (%): 0\n",
      "rotation angle (deg): [0]\n",
      "threshold ge: 0\n"
     ]
    },
    {
     "data": {
      "application/vnd.jupyter.widget-view+json": {
       "model_id": "49d3d298b9a5429684d8892bbba4972d",
       "version_major": 2,
       "version_minor": 0
      },
      "text/plain": [
       "  0%|          | 0/50 [00:00<?, ?it/s]"
      ]
     },
     "metadata": {},
     "output_type": "display_data"
    },
    {
     "name": "stdout",
     "output_type": "stream",
     "text": [
      "Saving H:\\Shared drives\\SLab\\Multimode\\experiment\\240911\\data1\\01187_SingleBeamSplitterRB_stor_ramsey_spec.h5\n",
      "Index: 7 depth. = 50 \n",
      "{'pre_sweep_pulse': [['qubit', 'ge', 'hpi', 0], ['qubit', 'ef', 'pi', 0], ['man', 'M1', 'pi', 0], ['storage', 'M1-S7', 'pi', 0]], 'post_sweep_pulse': [['storage', 'M1-S7', 'pi', 0], ['man', 'M1', 'pi', 0], ['qubit', 'ef', 'pi', 0], ['qubit', 'ge', 'hpi', 34984.19092846244]], 'wait_freq': 1.965, 'prepulse': True, 'postpulse': True, 'rb_time': 'None', 'bs_gate_num': 'None', 'qubits': [0], 'calibrate_single_shot': False, 'singleshot_reps': 10000, 'span': 500, 'active_reset': True, 'man_reset': True, 'storage_reset': True, 'threshold': -39.769721213292996, 'readout_per_round': 4, 'prep_man_photon': True, 'rb_active_reset': True, 'rb_man_reset': True, 'rb_storage_reset': True, 'rb_reps': 300, 'gates_per_wait': 100000, 'rounds': 1, 'variations': 50, 'rb_depth': 50, 'IRB_gate_no': -1, 'bs_repeat': 1, 'sync': False, 'setup': False, 'bs_para': [1245.16, 13500, 0.797654995769661, 0.005]}\n",
      "ge fidelity (%): 0\n",
      "rotation angle (deg): [0]\n",
      "threshold ge: 0\n"
     ]
    },
    {
     "data": {
      "application/vnd.jupyter.widget-view+json": {
       "model_id": "f6cd0a86ac724af2af4135841d640c28",
       "version_major": 2,
       "version_minor": 0
      },
      "text/plain": [
       "  0%|          | 0/50 [00:00<?, ?it/s]"
      ]
     },
     "metadata": {},
     "output_type": "display_data"
    },
    {
     "name": "stdout",
     "output_type": "stream",
     "text": [
      "Saving H:\\Shared drives\\SLab\\Multimode\\experiment\\240911\\data1\\01188_SingleBeamSplitterRB_stor_ramsey_spec.h5\n",
      "Index: 8 depth. = 57 \n",
      "{'pre_sweep_pulse': [['qubit', 'ge', 'hpi', 0], ['qubit', 'ef', 'pi', 0], ['man', 'M1', 'pi', 0], ['storage', 'M1-S7', 'pi', 0]], 'post_sweep_pulse': [['storage', 'M1-S7', 'pi', 0], ['man', 'M1', 'pi', 0], ['qubit', 'ef', 'pi', 0], ['qubit', 'ge', 'hpi', 34984.19092846244]], 'wait_freq': 1.965, 'prepulse': True, 'postpulse': True, 'rb_time': 'None', 'bs_gate_num': 'None', 'qubits': [0], 'calibrate_single_shot': False, 'singleshot_reps': 10000, 'span': 500, 'active_reset': True, 'man_reset': True, 'storage_reset': True, 'threshold': -39.769721213292996, 'readout_per_round': 4, 'prep_man_photon': True, 'rb_active_reset': True, 'rb_man_reset': True, 'rb_storage_reset': True, 'rb_reps': 300, 'gates_per_wait': 100000, 'rounds': 1, 'variations': 50, 'rb_depth': 57, 'IRB_gate_no': -1, 'bs_repeat': 1, 'sync': False, 'setup': False, 'bs_para': [1245.16, 13500, 0.797654995769661, 0.005]}\n",
      "ge fidelity (%): 0\n",
      "rotation angle (deg): [0]\n",
      "threshold ge: 0\n"
     ]
    },
    {
     "data": {
      "application/vnd.jupyter.widget-view+json": {
       "model_id": "641524226eec4a55b4bdec120745a4bb",
       "version_major": 2,
       "version_minor": 0
      },
      "text/plain": [
       "  0%|          | 0/50 [00:00<?, ?it/s]"
      ]
     },
     "metadata": {},
     "output_type": "display_data"
    },
    {
     "name": "stdout",
     "output_type": "stream",
     "text": [
      "Saving H:\\Shared drives\\SLab\\Multimode\\experiment\\240911\\data1\\01189_SingleBeamSplitterRB_stor_ramsey_spec.h5\n",
      "Index: 9 depth. = 64 \n",
      "{'pre_sweep_pulse': [['qubit', 'ge', 'hpi', 0], ['qubit', 'ef', 'pi', 0], ['man', 'M1', 'pi', 0], ['storage', 'M1-S7', 'pi', 0]], 'post_sweep_pulse': [['storage', 'M1-S7', 'pi', 0], ['man', 'M1', 'pi', 0], ['qubit', 'ef', 'pi', 0], ['qubit', 'ge', 'hpi', 42883.84694456687]], 'wait_freq': 1.965, 'prepulse': True, 'postpulse': True, 'rb_time': 'None', 'bs_gate_num': 'None', 'qubits': [0], 'calibrate_single_shot': False, 'singleshot_reps': 10000, 'span': 500, 'active_reset': True, 'man_reset': True, 'storage_reset': True, 'threshold': -39.769721213292996, 'readout_per_round': 4, 'prep_man_photon': True, 'rb_active_reset': True, 'rb_man_reset': True, 'rb_storage_reset': True, 'rb_reps': 300, 'gates_per_wait': 100000, 'rounds': 1, 'variations': 50, 'rb_depth': 64, 'IRB_gate_no': -1, 'bs_repeat': 1, 'sync': False, 'setup': False, 'bs_para': [1245.16, 13500, 0.797654995769661, 0.005]}\n",
      "ge fidelity (%): 0\n",
      "rotation angle (deg): [0]\n",
      "threshold ge: 0\n"
     ]
    },
    {
     "data": {
      "application/vnd.jupyter.widget-view+json": {
       "model_id": "7a328a73ec694d26a83c4fa8c21b67e2",
       "version_major": 2,
       "version_minor": 0
      },
      "text/plain": [
       "  0%|          | 0/50 [00:00<?, ?it/s]"
      ]
     },
     "metadata": {},
     "output_type": "display_data"
    },
    {
     "name": "stdout",
     "output_type": "stream",
     "text": [
      "Saving H:\\Shared drives\\SLab\\Multimode\\experiment\\240911\\data1\\01190_SingleBeamSplitterRB_stor_ramsey_spec.h5\n",
      "Index: 10 depth. = 71 \n",
      "{'pre_sweep_pulse': [['qubit', 'ge', 'hpi', 0], ['qubit', 'ef', 'pi', 0], ['man', 'M1', 'pi', 0], ['storage', 'M1-S7', 'pi', 0]], 'post_sweep_pulse': [['storage', 'M1-S7', 'pi', 0], ['man', 'M1', 'pi', 0], ['qubit', 'ef', 'pi', 0], ['qubit', 'ge', 'hpi', 47962.197240634]], 'wait_freq': 1.965, 'prepulse': True, 'postpulse': True, 'rb_time': 'None', 'bs_gate_num': 'None', 'qubits': [0], 'calibrate_single_shot': False, 'singleshot_reps': 10000, 'span': 500, 'active_reset': True, 'man_reset': True, 'storage_reset': True, 'threshold': -39.769721213292996, 'readout_per_round': 4, 'prep_man_photon': True, 'rb_active_reset': True, 'rb_man_reset': True, 'rb_storage_reset': True, 'rb_reps': 300, 'gates_per_wait': 100000, 'rounds': 1, 'variations': 50, 'rb_depth': 71, 'IRB_gate_no': -1, 'bs_repeat': 1, 'sync': False, 'setup': False, 'bs_para': [1245.16, 13500, 0.797654995769661, 0.005]}\n",
      "ge fidelity (%): 0\n",
      "rotation angle (deg): [0]\n",
      "threshold ge: 0\n"
     ]
    },
    {
     "data": {
      "application/vnd.jupyter.widget-view+json": {
       "model_id": "9a49315b5cfc4c09909d244a3494ac9d",
       "version_major": 2,
       "version_minor": 0
      },
      "text/plain": [
       "  0%|          | 0/50 [00:00<?, ?it/s]"
      ]
     },
     "metadata": {},
     "output_type": "display_data"
    },
    {
     "name": "stdout",
     "output_type": "stream",
     "text": [
      "Saving H:\\Shared drives\\SLab\\Multimode\\experiment\\240911\\data1\\01191_SingleBeamSplitterRB_stor_ramsey_spec.h5\n",
      "Index: 11 depth. = 78 \n",
      "{'pre_sweep_pulse': [['qubit', 'ge', 'hpi', 0], ['qubit', 'ef', 'pi', 0], ['man', 'M1', 'pi', 0], ['storage', 'M1-S7', 'pi', 0]], 'post_sweep_pulse': [['storage', 'M1-S7', 'pi', 0], ['man', 'M1', 'pi', 0], ['qubit', 'ef', 'pi', 0], ['qubit', 'ge', 'hpi', 52476.28639269366]], 'wait_freq': 1.965, 'prepulse': True, 'postpulse': True, 'rb_time': 'None', 'bs_gate_num': 'None', 'qubits': [0], 'calibrate_single_shot': False, 'singleshot_reps': 10000, 'span': 500, 'active_reset': True, 'man_reset': True, 'storage_reset': True, 'threshold': -39.769721213292996, 'readout_per_round': 4, 'prep_man_photon': True, 'rb_active_reset': True, 'rb_man_reset': True, 'rb_storage_reset': True, 'rb_reps': 300, 'gates_per_wait': 100000, 'rounds': 1, 'variations': 50, 'rb_depth': 78, 'IRB_gate_no': -1, 'bs_repeat': 1, 'sync': False, 'setup': False, 'bs_para': [1245.16, 13500, 0.797654995769661, 0.005]}\n",
      "ge fidelity (%): 0\n",
      "rotation angle (deg): [0]\n",
      "threshold ge: 0\n"
     ]
    },
    {
     "data": {
      "application/vnd.jupyter.widget-view+json": {
       "model_id": "0b887fa2d1424eafb340d3668ba5198d",
       "version_major": 2,
       "version_minor": 0
      },
      "text/plain": [
       "  0%|          | 0/50 [00:00<?, ?it/s]"
      ]
     },
     "metadata": {},
     "output_type": "display_data"
    },
    {
     "name": "stdout",
     "output_type": "stream",
     "text": [
      "Saving H:\\Shared drives\\SLab\\Multimode\\experiment\\240911\\data1\\01192_SingleBeamSplitterRB_stor_ramsey_spec.h5\n",
      "Index: 12 depth. = 85 \n",
      "{'pre_sweep_pulse': [['qubit', 'ge', 'hpi', 0], ['qubit', 'ef', 'pi', 0], ['man', 'M1', 'pi', 0], ['storage', 'M1-S7', 'pi', 0]], 'post_sweep_pulse': [['storage', 'M1-S7', 'pi', 0], ['man', 'M1', 'pi', 0], ['qubit', 'ef', 'pi', 0], ['qubit', 'ge', 'hpi', 57554.63668876079]], 'wait_freq': 1.965, 'prepulse': True, 'postpulse': True, 'rb_time': 'None', 'bs_gate_num': 'None', 'qubits': [0], 'calibrate_single_shot': False, 'singleshot_reps': 10000, 'span': 500, 'active_reset': True, 'man_reset': True, 'storage_reset': True, 'threshold': -39.769721213292996, 'readout_per_round': 4, 'prep_man_photon': True, 'rb_active_reset': True, 'rb_man_reset': True, 'rb_storage_reset': True, 'rb_reps': 300, 'gates_per_wait': 100000, 'rounds': 1, 'variations': 50, 'rb_depth': 85, 'IRB_gate_no': -1, 'bs_repeat': 1, 'sync': False, 'setup': False, 'bs_para': [1245.16, 13500, 0.797654995769661, 0.005]}\n",
      "ge fidelity (%): 0\n",
      "rotation angle (deg): [0]\n",
      "threshold ge: 0\n"
     ]
    },
    {
     "data": {
      "application/vnd.jupyter.widget-view+json": {
       "model_id": "4150a1cd3e08432db7c1516b4c983684",
       "version_major": 2,
       "version_minor": 0
      },
      "text/plain": [
       "  0%|          | 0/50 [00:00<?, ?it/s]"
      ]
     },
     "metadata": {},
     "output_type": "display_data"
    },
    {
     "name": "stdout",
     "output_type": "stream",
     "text": [
      "Saving H:\\Shared drives\\SLab\\Multimode\\experiment\\240911\\data1\\01193_SingleBeamSplitterRB_stor_ramsey_spec.h5\n",
      "Index: 13 depth. = 92 \n",
      "{'pre_sweep_pulse': [['qubit', 'ge', 'hpi', 0], ['qubit', 'ef', 'pi', 0], ['man', 'M1', 'pi', 0], ['storage', 'M1-S7', 'pi', 0]], 'post_sweep_pulse': [['storage', 'M1-S7', 'pi', 0], ['man', 'M1', 'pi', 0], ['qubit', 'ef', 'pi', 0], ['qubit', 'ge', 'hpi', 65454.29270486522]], 'wait_freq': 1.965, 'prepulse': True, 'postpulse': True, 'rb_time': 'None', 'bs_gate_num': 'None', 'qubits': [0], 'calibrate_single_shot': False, 'singleshot_reps': 10000, 'span': 500, 'active_reset': True, 'man_reset': True, 'storage_reset': True, 'threshold': -39.769721213292996, 'readout_per_round': 4, 'prep_man_photon': True, 'rb_active_reset': True, 'rb_man_reset': True, 'rb_storage_reset': True, 'rb_reps': 300, 'gates_per_wait': 100000, 'rounds': 1, 'variations': 50, 'rb_depth': 92, 'IRB_gate_no': -1, 'bs_repeat': 1, 'sync': False, 'setup': False, 'bs_para': [1245.16, 13500, 0.797654995769661, 0.005]}\n",
      "ge fidelity (%): 0\n",
      "rotation angle (deg): [0]\n",
      "threshold ge: 0\n"
     ]
    },
    {
     "data": {
      "application/vnd.jupyter.widget-view+json": {
       "model_id": "94249cf796364189b00d67aeb7f1a61e",
       "version_major": 2,
       "version_minor": 0
      },
      "text/plain": [
       "  0%|          | 0/50 [00:00<?, ?it/s]"
      ]
     },
     "metadata": {},
     "output_type": "display_data"
    },
    {
     "name": "stdout",
     "output_type": "stream",
     "text": [
      "Saving H:\\Shared drives\\SLab\\Multimode\\experiment\\240911\\data1\\01194_SingleBeamSplitterRB_stor_ramsey_spec.h5\n",
      "Index: 14 depth. = 99 \n",
      "{'pre_sweep_pulse': [['qubit', 'ge', 'hpi', 0], ['qubit', 'ef', 'pi', 0], ['man', 'M1', 'pi', 0], ['storage', 'M1-S7', 'pi', 0]], 'post_sweep_pulse': [['storage', 'M1-S7', 'pi', 0], ['man', 'M1', 'pi', 0], ['qubit', 'ef', 'pi', 0], ['qubit', 'ge', 'hpi', 72225.42643295473]], 'wait_freq': 1.965, 'prepulse': True, 'postpulse': True, 'rb_time': 'None', 'bs_gate_num': 'None', 'qubits': [0], 'calibrate_single_shot': False, 'singleshot_reps': 10000, 'span': 500, 'active_reset': True, 'man_reset': True, 'storage_reset': True, 'threshold': -39.769721213292996, 'readout_per_round': 4, 'prep_man_photon': True, 'rb_active_reset': True, 'rb_man_reset': True, 'rb_storage_reset': True, 'rb_reps': 300, 'gates_per_wait': 100000, 'rounds': 1, 'variations': 50, 'rb_depth': 99, 'IRB_gate_no': -1, 'bs_repeat': 1, 'sync': False, 'setup': False, 'bs_para': [1245.16, 13500, 0.797654995769661, 0.005]}\n",
      "ge fidelity (%): 0\n",
      "rotation angle (deg): [0]\n",
      "threshold ge: 0\n"
     ]
    },
    {
     "data": {
      "application/vnd.jupyter.widget-view+json": {
       "model_id": "dd61b0f104084a16904b2d6006d0f2c0",
       "version_major": 2,
       "version_minor": 0
      },
      "text/plain": [
       "  0%|          | 0/50 [00:00<?, ?it/s]"
      ]
     },
     "metadata": {},
     "output_type": "display_data"
    },
    {
     "name": "stdout",
     "output_type": "stream",
     "text": [
      "Saving H:\\Shared drives\\SLab\\Multimode\\experiment\\240911\\data1\\01195_SingleBeamSplitterRB_stor_ramsey_spec.h5\n",
      "Index: 15 depth. = 106 \n",
      "{'pre_sweep_pulse': [['qubit', 'ge', 'hpi', 0], ['qubit', 'ef', 'pi', 0], ['man', 'M1', 'pi', 0], ['storage', 'M1-S7', 'pi', 0]], 'post_sweep_pulse': [['storage', 'M1-S7', 'pi', 0], ['man', 'M1', 'pi', 0], ['qubit', 'ef', 'pi', 0], ['qubit', 'ge', 'hpi', 70532.64300093235]], 'wait_freq': 1.965, 'prepulse': True, 'postpulse': True, 'rb_time': 'None', 'bs_gate_num': 'None', 'qubits': [0], 'calibrate_single_shot': False, 'singleshot_reps': 10000, 'span': 500, 'active_reset': True, 'man_reset': True, 'storage_reset': True, 'threshold': -39.769721213292996, 'readout_per_round': 4, 'prep_man_photon': True, 'rb_active_reset': True, 'rb_man_reset': True, 'rb_storage_reset': True, 'rb_reps': 300, 'gates_per_wait': 100000, 'rounds': 1, 'variations': 50, 'rb_depth': 106, 'IRB_gate_no': -1, 'bs_repeat': 1, 'sync': False, 'setup': False, 'bs_para': [1245.16, 13500, 0.797654995769661, 0.005]}\n",
      "ge fidelity (%): 0\n",
      "rotation angle (deg): [0]\n",
      "threshold ge: 0\n"
     ]
    },
    {
     "data": {
      "application/vnd.jupyter.widget-view+json": {
       "model_id": "8d33d3b9405d419caa71a61aa0c62e58",
       "version_major": 2,
       "version_minor": 0
      },
      "text/plain": [
       "  0%|          | 0/50 [00:00<?, ?it/s]"
      ]
     },
     "metadata": {},
     "output_type": "display_data"
    },
    {
     "name": "stdout",
     "output_type": "stream",
     "text": [
      "Saving H:\\Shared drives\\SLab\\Multimode\\experiment\\240911\\data1\\01196_SingleBeamSplitterRB_stor_ramsey_spec.h5\n",
      "Index: 16 depth. = 113 \n",
      "{'pre_sweep_pulse': [['qubit', 'ge', 'hpi', 0], ['qubit', 'ef', 'pi', 0], ['man', 'M1', 'pi', 0], ['storage', 'M1-S7', 'pi', 0]], 'post_sweep_pulse': [['storage', 'M1-S7', 'pi', 0], ['man', 'M1', 'pi', 0], ['qubit', 'ef', 'pi', 0], ['qubit', 'ge', 'hpi', 80689.34359306659]], 'wait_freq': 1.965, 'prepulse': True, 'postpulse': True, 'rb_time': 'None', 'bs_gate_num': 'None', 'qubits': [0], 'calibrate_single_shot': False, 'singleshot_reps': 10000, 'span': 500, 'active_reset': True, 'man_reset': True, 'storage_reset': True, 'threshold': -39.769721213292996, 'readout_per_round': 4, 'prep_man_photon': True, 'rb_active_reset': True, 'rb_man_reset': True, 'rb_storage_reset': True, 'rb_reps': 300, 'gates_per_wait': 100000, 'rounds': 1, 'variations': 50, 'rb_depth': 113, 'IRB_gate_no': -1, 'bs_repeat': 1, 'sync': False, 'setup': False, 'bs_para': [1245.16, 13500, 0.797654995769661, 0.005]}\n",
      "ge fidelity (%): 0\n",
      "rotation angle (deg): [0]\n",
      "threshold ge: 0\n"
     ]
    },
    {
     "data": {
      "application/vnd.jupyter.widget-view+json": {
       "model_id": "47cb9570cf5d4256b35c4d148a14be2a",
       "version_major": 2,
       "version_minor": 0
      },
      "text/plain": [
       "  0%|          | 0/50 [00:00<?, ?it/s]"
      ]
     },
     "metadata": {},
     "output_type": "display_data"
    },
    {
     "name": "stdout",
     "output_type": "stream",
     "text": [
      "Saving H:\\Shared drives\\SLab\\Multimode\\experiment\\240911\\data1\\01197_SingleBeamSplitterRB_stor_ramsey_spec.h5\n",
      "Index: 17 depth. = 120 \n",
      "{'pre_sweep_pulse': [['qubit', 'ge', 'hpi', 0], ['qubit', 'ef', 'pi', 0], ['man', 'M1', 'pi', 0], ['storage', 'M1-S7', 'pi', 0]], 'post_sweep_pulse': [['storage', 'M1-S7', 'pi', 0], ['man', 'M1', 'pi', 0], ['qubit', 'ef', 'pi', 0], ['qubit', 'ge', 'hpi', 89717.52189718594]], 'wait_freq': 1.965, 'prepulse': True, 'postpulse': True, 'rb_time': 'None', 'bs_gate_num': 'None', 'qubits': [0], 'calibrate_single_shot': False, 'singleshot_reps': 10000, 'span': 500, 'active_reset': True, 'man_reset': True, 'storage_reset': True, 'threshold': -39.769721213292996, 'readout_per_round': 4, 'prep_man_photon': True, 'rb_active_reset': True, 'rb_man_reset': True, 'rb_storage_reset': True, 'rb_reps': 300, 'gates_per_wait': 100000, 'rounds': 1, 'variations': 50, 'rb_depth': 120, 'IRB_gate_no': -1, 'bs_repeat': 1, 'sync': False, 'setup': False, 'bs_para': [1245.16, 13500, 0.797654995769661, 0.005]}\n",
      "ge fidelity (%): 0\n",
      "rotation angle (deg): [0]\n",
      "threshold ge: 0\n"
     ]
    },
    {
     "data": {
      "application/vnd.jupyter.widget-view+json": {
       "model_id": "edcf99f53c7546a89345d0f5a9316380",
       "version_major": 2,
       "version_minor": 0
      },
      "text/plain": [
       "  0%|          | 0/50 [00:00<?, ?it/s]"
      ]
     },
     "metadata": {},
     "output_type": "display_data"
    },
    {
     "name": "stdout",
     "output_type": "stream",
     "text": [
      "Saving H:\\Shared drives\\SLab\\Multimode\\experiment\\240911\\data1\\01198_SingleBeamSplitterRB_stor_ramsey_spec.h5\n",
      "Index: 18 depth. = 127 \n",
      "{'pre_sweep_pulse': [['qubit', 'ge', 'hpi', 0], ['qubit', 'ef', 'pi', 0], ['man', 'M1', 'pi', 0], ['storage', 'M1-S7', 'pi', 0]], 'post_sweep_pulse': [['storage', 'M1-S7', 'pi', 0], ['man', 'M1', 'pi', 0], ['qubit', 'ef', 'pi', 0], ['qubit', 'ge', 'hpi', 90846.04418520085]], 'wait_freq': 1.965, 'prepulse': True, 'postpulse': True, 'rb_time': 'None', 'bs_gate_num': 'None', 'qubits': [0], 'calibrate_single_shot': False, 'singleshot_reps': 10000, 'span': 500, 'active_reset': True, 'man_reset': True, 'storage_reset': True, 'threshold': -39.769721213292996, 'readout_per_round': 4, 'prep_man_photon': True, 'rb_active_reset': True, 'rb_man_reset': True, 'rb_storage_reset': True, 'rb_reps': 300, 'gates_per_wait': 100000, 'rounds': 1, 'variations': 50, 'rb_depth': 127, 'IRB_gate_no': -1, 'bs_repeat': 1, 'sync': False, 'setup': False, 'bs_para': [1245.16, 13500, 0.797654995769661, 0.005]}\n",
      "ge fidelity (%): 0\n",
      "rotation angle (deg): [0]\n",
      "threshold ge: 0\n"
     ]
    },
    {
     "data": {
      "application/vnd.jupyter.widget-view+json": {
       "model_id": "ecc87c67ead3456c8b01ee827cac3297",
       "version_major": 2,
       "version_minor": 0
      },
      "text/plain": [
       "  0%|          | 0/50 [00:00<?, ?it/s]"
      ]
     },
     "metadata": {},
     "output_type": "display_data"
    },
    {
     "name": "stdout",
     "output_type": "stream",
     "text": [
      "Saving H:\\Shared drives\\SLab\\Multimode\\experiment\\240911\\data1\\01199_SingleBeamSplitterRB_stor_ramsey_spec.h5\n",
      "Index: 19 depth. = 134 \n",
      "{'pre_sweep_pulse': [['qubit', 'ge', 'hpi', 0], ['qubit', 'ef', 'pi', 0], ['man', 'M1', 'pi', 0], ['storage', 'M1-S7', 'pi', 0]], 'post_sweep_pulse': [['storage', 'M1-S7', 'pi', 0], ['man', 'M1', 'pi', 0], ['qubit', 'ef', 'pi', 0], ['qubit', 'ge', 'hpi', 93103.08876123065]], 'wait_freq': 1.965, 'prepulse': True, 'postpulse': True, 'rb_time': 'None', 'bs_gate_num': 'None', 'qubits': [0], 'calibrate_single_shot': False, 'singleshot_reps': 10000, 'span': 500, 'active_reset': True, 'man_reset': True, 'storage_reset': True, 'threshold': -39.769721213292996, 'readout_per_round': 4, 'prep_man_photon': True, 'rb_active_reset': True, 'rb_man_reset': True, 'rb_storage_reset': True, 'rb_reps': 300, 'gates_per_wait': 100000, 'rounds': 1, 'variations': 50, 'rb_depth': 134, 'IRB_gate_no': -1, 'bs_repeat': 1, 'sync': False, 'setup': False, 'bs_para': [1245.16, 13500, 0.797654995769661, 0.005]}\n",
      "ge fidelity (%): 0\n",
      "rotation angle (deg): [0]\n",
      "threshold ge: 0\n"
     ]
    },
    {
     "data": {
      "application/vnd.jupyter.widget-view+json": {
       "model_id": "5161aa493b954e81b55eef793474dea9",
       "version_major": 2,
       "version_minor": 0
      },
      "text/plain": [
       "  0%|          | 0/50 [00:00<?, ?it/s]"
      ]
     },
     "metadata": {},
     "output_type": "display_data"
    },
    {
     "name": "stdout",
     "output_type": "stream",
     "text": [
      "Saving H:\\Shared drives\\SLab\\Multimode\\experiment\\240911\\data1\\01200_SingleBeamSplitterRB_stor_ramsey_spec.h5\n",
      "Index: 20 depth. = 141 \n",
      "{'pre_sweep_pulse': [['qubit', 'ge', 'hpi', 0], ['qubit', 'ef', 'pi', 0], ['man', 'M1', 'pi', 0], ['storage', 'M1-S7', 'pi', 0]], 'post_sweep_pulse': [['storage', 'M1-S7', 'pi', 0], ['man', 'M1', 'pi', 0], ['qubit', 'ef', 'pi', 0], ['qubit', 'ge', 'hpi', 103259.78935336483]], 'wait_freq': 1.965, 'prepulse': True, 'postpulse': True, 'rb_time': 'None', 'bs_gate_num': 'None', 'qubits': [0], 'calibrate_single_shot': False, 'singleshot_reps': 10000, 'span': 500, 'active_reset': True, 'man_reset': True, 'storage_reset': True, 'threshold': -39.769721213292996, 'readout_per_round': 4, 'prep_man_photon': True, 'rb_active_reset': True, 'rb_man_reset': True, 'rb_storage_reset': True, 'rb_reps': 300, 'gates_per_wait': 100000, 'rounds': 1, 'variations': 50, 'rb_depth': 141, 'IRB_gate_no': -1, 'bs_repeat': 1, 'sync': False, 'setup': False, 'bs_para': [1245.16, 13500, 0.797654995769661, 0.005]}\n",
      "ge fidelity (%): 0\n",
      "rotation angle (deg): [0]\n",
      "threshold ge: 0\n"
     ]
    },
    {
     "data": {
      "application/vnd.jupyter.widget-view+json": {
       "model_id": "c3499ce09a1e40608c5e572e8c88b051",
       "version_major": 2,
       "version_minor": 0
      },
      "text/plain": [
       "  0%|          | 0/50 [00:00<?, ?it/s]"
      ]
     },
     "metadata": {},
     "output_type": "display_data"
    },
    {
     "name": "stdout",
     "output_type": "stream",
     "text": [
      "Saving H:\\Shared drives\\SLab\\Multimode\\experiment\\240911\\data1\\01201_SingleBeamSplitterRB_stor_ramsey_spec.h5\n",
      "Index: 21 depth. = 148 \n",
      "{'pre_sweep_pulse': [['qubit', 'ge', 'hpi', 0], ['qubit', 'ef', 'pi', 0], ['man', 'M1', 'pi', 0], ['storage', 'M1-S7', 'pi', 0]], 'post_sweep_pulse': [['storage', 'M1-S7', 'pi', 0], ['man', 'M1', 'pi', 0], ['qubit', 'ef', 'pi', 0], ['qubit', 'ge', 'hpi', 108902.40079343934]], 'wait_freq': 1.965, 'prepulse': True, 'postpulse': True, 'rb_time': 'None', 'bs_gate_num': 'None', 'qubits': [0], 'calibrate_single_shot': False, 'singleshot_reps': 10000, 'span': 500, 'active_reset': True, 'man_reset': True, 'storage_reset': True, 'threshold': -39.769721213292996, 'readout_per_round': 4, 'prep_man_photon': True, 'rb_active_reset': True, 'rb_man_reset': True, 'rb_storage_reset': True, 'rb_reps': 300, 'gates_per_wait': 100000, 'rounds': 1, 'variations': 50, 'rb_depth': 148, 'IRB_gate_no': -1, 'bs_repeat': 1, 'sync': False, 'setup': False, 'bs_para': [1245.16, 13500, 0.797654995769661, 0.005]}\n",
      "ge fidelity (%): 0\n",
      "rotation angle (deg): [0]\n",
      "threshold ge: 0\n"
     ]
    },
    {
     "data": {
      "application/vnd.jupyter.widget-view+json": {
       "model_id": "e9efc5d9c6034117ba1b8bca150ad980",
       "version_major": 2,
       "version_minor": 0
      },
      "text/plain": [
       "  0%|          | 0/50 [00:00<?, ?it/s]"
      ]
     },
     "metadata": {},
     "output_type": "display_data"
    },
    {
     "name": "stdout",
     "output_type": "stream",
     "text": [
      "Saving H:\\Shared drives\\SLab\\Multimode\\experiment\\240911\\data1\\01202_SingleBeamSplitterRB_stor_ramsey_spec.h5\n",
      "Index: 22 depth. = 155 \n",
      "{'pre_sweep_pulse': [['qubit', 'ge', 'hpi', 0], ['qubit', 'ef', 'pi', 0], ['man', 'M1', 'pi', 0], ['storage', 'M1-S7', 'pi', 0]], 'post_sweep_pulse': [['storage', 'M1-S7', 'pi', 0], ['man', 'M1', 'pi', 0], ['qubit', 'ef', 'pi', 0], ['qubit', 'ge', 'hpi', 115673.53452152884]], 'wait_freq': 1.965, 'prepulse': True, 'postpulse': True, 'rb_time': 'None', 'bs_gate_num': 'None', 'qubits': [0], 'calibrate_single_shot': False, 'singleshot_reps': 10000, 'span': 500, 'active_reset': True, 'man_reset': True, 'storage_reset': True, 'threshold': -39.769721213292996, 'readout_per_round': 4, 'prep_man_photon': True, 'rb_active_reset': True, 'rb_man_reset': True, 'rb_storage_reset': True, 'rb_reps': 300, 'gates_per_wait': 100000, 'rounds': 1, 'variations': 50, 'rb_depth': 155, 'IRB_gate_no': -1, 'bs_repeat': 1, 'sync': False, 'setup': False, 'bs_para': [1245.16, 13500, 0.797654995769661, 0.005]}\n",
      "ge fidelity (%): 0\n",
      "rotation angle (deg): [0]\n",
      "threshold ge: 0\n"
     ]
    },
    {
     "data": {
      "application/vnd.jupyter.widget-view+json": {
       "model_id": "17a52b0ef6ef48e8b8109a9c171adb34",
       "version_major": 2,
       "version_minor": 0
      },
      "text/plain": [
       "  0%|          | 0/50 [00:00<?, ?it/s]"
      ]
     },
     "metadata": {},
     "output_type": "display_data"
    },
    {
     "name": "stdout",
     "output_type": "stream",
     "text": [
      "Saving H:\\Shared drives\\SLab\\Multimode\\experiment\\240911\\data1\\01203_SingleBeamSplitterRB_stor_ramsey_spec.h5\n",
      "Index: 23 depth. = 162 \n",
      "{'pre_sweep_pulse': [['qubit', 'ge', 'hpi', 0], ['qubit', 'ef', 'pi', 0], ['man', 'M1', 'pi', 0], ['storage', 'M1-S7', 'pi', 0]], 'post_sweep_pulse': [['storage', 'M1-S7', 'pi', 0], ['man', 'M1', 'pi', 0], ['qubit', 'ef', 'pi', 0], ['qubit', 'ge', 'hpi', 116237.7956655363]], 'wait_freq': 1.965, 'prepulse': True, 'postpulse': True, 'rb_time': 'None', 'bs_gate_num': 'None', 'qubits': [0], 'calibrate_single_shot': False, 'singleshot_reps': 10000, 'span': 500, 'active_reset': True, 'man_reset': True, 'storage_reset': True, 'threshold': -39.769721213292996, 'readout_per_round': 4, 'prep_man_photon': True, 'rb_active_reset': True, 'rb_man_reset': True, 'rb_storage_reset': True, 'rb_reps': 300, 'gates_per_wait': 100000, 'rounds': 1, 'variations': 50, 'rb_depth': 162, 'IRB_gate_no': -1, 'bs_repeat': 1, 'sync': False, 'setup': False, 'bs_para': [1245.16, 13500, 0.797654995769661, 0.005]}\n",
      "ge fidelity (%): 0\n",
      "rotation angle (deg): [0]\n",
      "threshold ge: 0\n"
     ]
    },
    {
     "data": {
      "application/vnd.jupyter.widget-view+json": {
       "model_id": "a40cdb556d9c4a65911718ba48ad3605",
       "version_major": 2,
       "version_minor": 0
      },
      "text/plain": [
       "  0%|          | 0/50 [00:00<?, ?it/s]"
      ]
     },
     "metadata": {},
     "output_type": "display_data"
    },
    {
     "name": "stdout",
     "output_type": "stream",
     "text": [
      "Saving H:\\Shared drives\\SLab\\Multimode\\experiment\\240911\\data1\\01204_SingleBeamSplitterRB_stor_ramsey_spec.h5\n",
      "Index: 24 depth. = 169 \n",
      "{'pre_sweep_pulse': [['qubit', 'ge', 'hpi', 0], ['qubit', 'ef', 'pi', 0], ['man', 'M1', 'pi', 0], ['storage', 'M1-S7', 'pi', 0]], 'post_sweep_pulse': [['storage', 'M1-S7', 'pi', 0], ['man', 'M1', 'pi', 0], ['qubit', 'ef', 'pi', 0], ['qubit', 'ge', 'hpi', 123573.1905376332]], 'wait_freq': 1.965, 'prepulse': True, 'postpulse': True, 'rb_time': 'None', 'bs_gate_num': 'None', 'qubits': [0], 'calibrate_single_shot': False, 'singleshot_reps': 10000, 'span': 500, 'active_reset': True, 'man_reset': True, 'storage_reset': True, 'threshold': -39.769721213292996, 'readout_per_round': 4, 'prep_man_photon': True, 'rb_active_reset': True, 'rb_man_reset': True, 'rb_storage_reset': True, 'rb_reps': 300, 'gates_per_wait': 100000, 'rounds': 1, 'variations': 50, 'rb_depth': 169, 'IRB_gate_no': -1, 'bs_repeat': 1, 'sync': False, 'setup': False, 'bs_para': [1245.16, 13500, 0.797654995769661, 0.005]}\n",
      "ge fidelity (%): 0\n",
      "rotation angle (deg): [0]\n",
      "threshold ge: 0\n"
     ]
    },
    {
     "data": {
      "application/vnd.jupyter.widget-view+json": {
       "model_id": "36deecfc5aef43b38279339f9e6193e9",
       "version_major": 2,
       "version_minor": 0
      },
      "text/plain": [
       "  0%|          | 0/50 [00:00<?, ?it/s]"
      ]
     },
     "metadata": {},
     "output_type": "display_data"
    },
    {
     "name": "stdout",
     "output_type": "stream",
     "text": [
      "Saving H:\\Shared drives\\SLab\\Multimode\\experiment\\240911\\data1\\01205_SingleBeamSplitterRB_stor_ramsey_spec.h5\n",
      "Index: 25 depth. = 176 \n",
      "{'pre_sweep_pulse': [['qubit', 'ge', 'hpi', 0], ['qubit', 'ef', 'pi', 0], ['man', 'M1', 'pi', 0], ['storage', 'M1-S7', 'pi', 0]], 'post_sweep_pulse': [['storage', 'M1-S7', 'pi', 0], ['man', 'M1', 'pi', 0], ['qubit', 'ef', 'pi', 0], ['qubit', 'ge', 'hpi', 127523.01854568534]], 'wait_freq': 1.965, 'prepulse': True, 'postpulse': True, 'rb_time': 'None', 'bs_gate_num': 'None', 'qubits': [0], 'calibrate_single_shot': False, 'singleshot_reps': 10000, 'span': 500, 'active_reset': True, 'man_reset': True, 'storage_reset': True, 'threshold': -39.769721213292996, 'readout_per_round': 4, 'prep_man_photon': True, 'rb_active_reset': True, 'rb_man_reset': True, 'rb_storage_reset': True, 'rb_reps': 300, 'gates_per_wait': 100000, 'rounds': 1, 'variations': 50, 'rb_depth': 176, 'IRB_gate_no': -1, 'bs_repeat': 1, 'sync': False, 'setup': False, 'bs_para': [1245.16, 13500, 0.797654995769661, 0.005]}\n",
      "ge fidelity (%): 0\n",
      "rotation angle (deg): [0]\n",
      "threshold ge: 0\n"
     ]
    },
    {
     "data": {
      "application/vnd.jupyter.widget-view+json": {
       "model_id": "53613b2c26d945c9a4a5a81979ceac57",
       "version_major": 2,
       "version_minor": 0
      },
      "text/plain": [
       "  0%|          | 0/50 [00:00<?, ?it/s]"
      ]
     },
     "metadata": {},
     "output_type": "display_data"
    },
    {
     "name": "stdout",
     "output_type": "stream",
     "text": [
      "Saving H:\\Shared drives\\SLab\\Multimode\\experiment\\240911\\data1\\01206_SingleBeamSplitterRB_stor_ramsey_spec.h5\n",
      "Index: 26 depth. = 183 \n",
      "{'pre_sweep_pulse': [['qubit', 'ge', 'hpi', 0], ['qubit', 'ef', 'pi', 0], ['man', 'M1', 'pi', 0], ['storage', 'M1-S7', 'pi', 0]], 'post_sweep_pulse': [['storage', 'M1-S7', 'pi', 0], ['man', 'M1', 'pi', 0], ['qubit', 'ef', 'pi', 0], ['qubit', 'ge', 'hpi', 132037.107697745]], 'wait_freq': 1.965, 'prepulse': True, 'postpulse': True, 'rb_time': 'None', 'bs_gate_num': 'None', 'qubits': [0], 'calibrate_single_shot': False, 'singleshot_reps': 10000, 'span': 500, 'active_reset': True, 'man_reset': True, 'storage_reset': True, 'threshold': -39.769721213292996, 'readout_per_round': 4, 'prep_man_photon': True, 'rb_active_reset': True, 'rb_man_reset': True, 'rb_storage_reset': True, 'rb_reps': 300, 'gates_per_wait': 100000, 'rounds': 1, 'variations': 50, 'rb_depth': 183, 'IRB_gate_no': -1, 'bs_repeat': 1, 'sync': False, 'setup': False, 'bs_para': [1245.16, 13500, 0.797654995769661, 0.005]}\n",
      "ge fidelity (%): 0\n",
      "rotation angle (deg): [0]\n",
      "threshold ge: 0\n"
     ]
    },
    {
     "data": {
      "application/vnd.jupyter.widget-view+json": {
       "model_id": "aac5fb97c2904e609f92c9e7d561a138",
       "version_major": 2,
       "version_minor": 0
      },
      "text/plain": [
       "  0%|          | 0/50 [00:00<?, ?it/s]"
      ]
     },
     "metadata": {},
     "output_type": "display_data"
    },
    {
     "name": "stdout",
     "output_type": "stream",
     "text": [
      "Saving H:\\Shared drives\\SLab\\Multimode\\experiment\\240911\\data1\\01207_SingleBeamSplitterRB_stor_ramsey_spec.h5\n",
      "Index: 27 depth. = 190 \n",
      "{'pre_sweep_pulse': [['qubit', 'ge', 'hpi', 0], ['qubit', 'ef', 'pi', 0], ['man', 'M1', 'pi', 0], ['storage', 'M1-S7', 'pi', 0]], 'post_sweep_pulse': [['storage', 'M1-S7', 'pi', 0], ['man', 'M1', 'pi', 0], ['qubit', 'ef', 'pi', 0], ['qubit', 'ge', 'hpi', 138808.24142583445]], 'wait_freq': 1.965, 'prepulse': True, 'postpulse': True, 'rb_time': 'None', 'bs_gate_num': 'None', 'qubits': [0], 'calibrate_single_shot': False, 'singleshot_reps': 10000, 'span': 500, 'active_reset': True, 'man_reset': True, 'storage_reset': True, 'threshold': -39.769721213292996, 'readout_per_round': 4, 'prep_man_photon': True, 'rb_active_reset': True, 'rb_man_reset': True, 'rb_storage_reset': True, 'rb_reps': 300, 'gates_per_wait': 100000, 'rounds': 1, 'variations': 50, 'rb_depth': 190, 'IRB_gate_no': -1, 'bs_repeat': 1, 'sync': False, 'setup': False, 'bs_para': [1245.16, 13500, 0.797654995769661, 0.005]}\n",
      "ge fidelity (%): 0\n",
      "rotation angle (deg): [0]\n",
      "threshold ge: 0\n"
     ]
    },
    {
     "data": {
      "application/vnd.jupyter.widget-view+json": {
       "model_id": "3673d099aa8544918649c1d2838cb839",
       "version_major": 2,
       "version_minor": 0
      },
      "text/plain": [
       "  0%|          | 0/50 [00:00<?, ?it/s]"
      ]
     },
     "metadata": {},
     "output_type": "display_data"
    },
    {
     "name": "stdout",
     "output_type": "stream",
     "text": [
      "Saving H:\\Shared drives\\SLab\\Multimode\\experiment\\240911\\data1\\01208_SingleBeamSplitterRB_stor_ramsey_spec.h5\n",
      "Index: 28 depth. = 197 \n",
      "{'pre_sweep_pulse': [['qubit', 'ge', 'hpi', 0], ['qubit', 'ef', 'pi', 0], ['man', 'M1', 'pi', 0], ['storage', 'M1-S7', 'pi', 0]], 'post_sweep_pulse': [['storage', 'M1-S7', 'pi', 0], ['man', 'M1', 'pi', 0], ['qubit', 'ef', 'pi', 0], ['qubit', 'ge', 'hpi', 137115.45799381202]], 'wait_freq': 1.965, 'prepulse': True, 'postpulse': True, 'rb_time': 'None', 'bs_gate_num': 'None', 'qubits': [0], 'calibrate_single_shot': False, 'singleshot_reps': 10000, 'span': 500, 'active_reset': True, 'man_reset': True, 'storage_reset': True, 'threshold': -39.769721213292996, 'readout_per_round': 4, 'prep_man_photon': True, 'rb_active_reset': True, 'rb_man_reset': True, 'rb_storage_reset': True, 'rb_reps': 300, 'gates_per_wait': 100000, 'rounds': 1, 'variations': 50, 'rb_depth': 197, 'IRB_gate_no': -1, 'bs_repeat': 1, 'sync': False, 'setup': False, 'bs_para': [1245.16, 13500, 0.797654995769661, 0.005]}\n",
      "ge fidelity (%): 0\n",
      "rotation angle (deg): [0]\n",
      "threshold ge: 0\n"
     ]
    },
    {
     "data": {
      "application/vnd.jupyter.widget-view+json": {
       "model_id": "325e3fafc248452faabcbabcf2aac778",
       "version_major": 2,
       "version_minor": 0
      },
      "text/plain": [
       "  0%|          | 0/50 [00:00<?, ?it/s]"
      ]
     },
     "metadata": {},
     "output_type": "display_data"
    },
    {
     "name": "stdout",
     "output_type": "stream",
     "text": [
      "Saving H:\\Shared drives\\SLab\\Multimode\\experiment\\240911\\data1\\01209_SingleBeamSplitterRB_stor_ramsey_spec.h5\n",
      "Index: 29 depth. = 204 \n",
      "{'pre_sweep_pulse': [['qubit', 'ge', 'hpi', 0], ['qubit', 'ef', 'pi', 0], ['man', 'M1', 'pi', 0], ['storage', 'M1-S7', 'pi', 0]], 'post_sweep_pulse': [['storage', 'M1-S7', 'pi', 0], ['man', 'M1', 'pi', 0], ['qubit', 'ef', 'pi', 0], ['qubit', 'ge', 'hpi', 147272.15858594625]], 'wait_freq': 1.965, 'prepulse': True, 'postpulse': True, 'rb_time': 'None', 'bs_gate_num': 'None', 'qubits': [0], 'calibrate_single_shot': False, 'singleshot_reps': 10000, 'span': 500, 'active_reset': True, 'man_reset': True, 'storage_reset': True, 'threshold': -39.769721213292996, 'readout_per_round': 4, 'prep_man_photon': True, 'rb_active_reset': True, 'rb_man_reset': True, 'rb_storage_reset': True, 'rb_reps': 300, 'gates_per_wait': 100000, 'rounds': 1, 'variations': 50, 'rb_depth': 204, 'IRB_gate_no': -1, 'bs_repeat': 1, 'sync': False, 'setup': False, 'bs_para': [1245.16, 13500, 0.797654995769661, 0.005]}\n",
      "ge fidelity (%): 0\n",
      "rotation angle (deg): [0]\n",
      "threshold ge: 0\n"
     ]
    },
    {
     "data": {
      "application/vnd.jupyter.widget-view+json": {
       "model_id": "ab993ddc237d42be833aa625a893f84d",
       "version_major": 2,
       "version_minor": 0
      },
      "text/plain": [
       "  0%|          | 0/50 [00:00<?, ?it/s]"
      ]
     },
     "metadata": {},
     "output_type": "display_data"
    },
    {
     "name": "stdout",
     "output_type": "stream",
     "text": [
      "Saving H:\\Shared drives\\SLab\\Multimode\\experiment\\240911\\data1\\01210_SingleBeamSplitterRB_stor_ramsey_spec.h5\n"
     ]
    }
   ],
   "source": [
    "import multimode_expts.sequential_experiment as seq_exp\n",
    "\n",
    "experiment_name = 'length_rabi_sweep'\n",
    "# experiment_name = 'dc_flux_sweep'\n",
    "experiment_name = 'length_rabi_f0g1_sweep'\n",
    "# experiment_name = 'gain_displace_sweep'\n",
    "# experiment_name = 'sideband_general_sweep'\n",
    "# experiment_name = 'single_shot_phase_sweep'\n",
    "# experiment_name = 'single_shot_freq_sweep'\n",
    "# experiment_name = 'HistogramExperiment_freq_sweep'\n",
    "# experiment_name = 'HistogramExperiment_ef_freq_sweep'\n",
    "# experiment_name = 'single_shot_time_sweep'\n",
    "# experiment_name = 'single_qubit_tomography'      # <--------------\n",
    "# experiment_name = 'SingleRB_sweep_freq'\n",
    "# experiment_name = 'SingleRB_sweep_pi_amp'\n",
    "# experiment_name = 'SingleRB_sweep_hpi_amp'\n",
    "# experiment_name = 'SingleRB_sweep_f0g1_phase'\n",
    "# experiment_name = 'SingleRB_sweep_de|pth_and_prepulse'\n",
    "# experiment_name = 'SingleRB_sweep_depth'\n",
    "# experiment_name = 'MultiRBAM_sweep_depth'\n",
    "# experiment_name = 'SingleBeamsplitterRB_sweep_depth'\n",
    "# experiment_name = 'SingleBeamSplitterRB_sweep_freq'\n",
    "# experiment_name = 'SingleBeamSplitterRB_gain_freq'\n",
    "# experiment_name = 'pulseprobe_f0g1_dc_flux_sweep'\n",
    "# experiment_name = 'PhaseSweepAverager_sweep_reps_middlepulse'\n",
    "# experiment_name = 'cavity_t1_dc_flux_sweep'\n",
    "# experiment_name = 'displace_enhanced_sweep'\n",
    "# experiment_name = 'fluxspectroscopy_f0g1_dc_flux_sweep'\n",
    "experiment_name = 'storage_sideband_sweep'\n",
    "# experiment_name = 'sideband_fidelity_optimization'\n",
    "# experiment_name = 'storage_t1_optimization'\n",
    "# experiment_name = 'SingleBeamSplitterRBPostSelection_sweep_depth'#\n",
    "# experiment_name = 'SingleBeamSplitterRBPostSelection_sweep_depth_and_ram'\n",
    "# experiment_name = 'SingleBeamSplitterRBPostSelection_sweep_depth_and_single_spec'\n",
    "# experiment_name = 'DualRail_sweep_depth_and_single_spec_and_stor'\n",
    "# experiment_name = 'SingleBeamSplitterRBPostSelection_sweep_depth_storsweep'\n",
    "# experiment_name = 'SingleBeamSplitterRBPostSelection_sweep_depth_defined_storsweep'\n",
    "experiment_class, experiment_name = 'MM_dual_rail_seq_exp', 'SingleBeamSplitterRB_check_target_sweep_depth'\n",
    "experiment_class, experiment_name = 'MM_dual_rail_seq_exp', 'SingleBeamSplitterRB_stor_ramsey_spec'\n",
    "# experiment_name = 'ramsey_sweep'\n",
    "# experiment_name = 'cavity_ramsey_sweep'\n",
    "# experiment_name = 'manipulate_dc_flux_sweep'\n",
    "# experiment_name = 'rb_bs_optimization'\n",
    "# experiment_name = 'rb_bs_dual_rail_optimization'\n",
    "# experiment_name = 'cross_kerr_sweep'\n",
    "# experiment_name = 'single_dual_rail_tomography'\n",
    "# experiment_name = 'two_dual_rail_tomography'\n",
    "# experiment_name = 'cavity_t1_dc_flux_sweep_new'\n",
    "\n",
    "\n",
    "\n",
    "class_for_exp = eval('seq_exp.' + experiment_class)()\n",
    "eval('class_for_exp .' + experiment_name)(soccfg=soc, path=expt_path, prefix=experiment_name, config_file=config_path, exp_param_file=exp_param_file)\n",
    "# eval('seq_exp.' + experiment_name)(soccfg=soc, path=expt_path, prefix=experiment_name, config_file=config_path, exp_param_file=exp_param_file)"
   ]
  },
  {
   "cell_type": "code",
   "execution_count": 138,
   "metadata": {},
   "outputs": [
    {
     "data": {
      "text/plain": [
       "0.0033333333333333335"
      ]
     },
     "execution_count": 138,
     "metadata": {},
     "output_type": "execute_result"
    }
   ],
   "source": [
    "1/300"
   ]
  },
  {
   "cell_type": "markdown",
   "metadata": {},
   "source": []
  },
  {
   "cell_type": "code",
   "execution_count": 58,
   "metadata": {},
   "outputs": [],
   "source": [
    "from multimode_expts.MM_rb_base import  *\n",
    "def get_parity_str(man_mode_no, return_pulse=False): \n",
    "    '''\n",
    "    Create parity pulse \n",
    "    '''\n",
    "    parity_str = [['qubit', 'ge', 'hpi', 0],\n",
    "                  ['qubit', 'ge', 'parity_M' + str(man_mode_no), 0],\n",
    "                  ['qubit', 'ge', 'hpi', 0]]\n",
    "    if return_pulse:\n",
    "        mm_base = MM_rb_base(cfg = yaml_cfg)\n",
    "        creator = mm_base.get_prepulse_creator(parity_str)\n",
    "        return creator.pulse.tolist()\n",
    "\n",
    "    return parity_str\n"
   ]
  },
  {
   "cell_type": "code",
   "execution_count": null,
   "metadata": {},
   "outputs": [],
   "source": [
    "from MM_base import MM_base\n",
    "stor_no=1\n",
    "man_idx=1\n",
    "mm_base = MM_base(cfg = yaml_cfg)\n",
    "pre_sweep_pulse_str = [['man', 'M' + str(man_idx) , 'pi',0],\n",
    "                       ['qubit', 'ef', 'pi',0]]\n",
    "creator = mm_base.get_prepulse_creator(pre_sweep_pulse_str)\n",
    "a1 = creator.pulse.tolist()\n",
    "a1\n"
   ]
  },
  {
   "cell_type": "code",
   "execution_count": null,
   "metadata": {},
   "outputs": [],
   "source": [
    "from MM_base import MM_base\n",
    "stor_no=1\n",
    "man_idx=1\n",
    "mm_base = MM_base(cfg = yaml_cfg)\n",
    "pre_sweep_pulse_str = [['storage', 'M'+ str(man_idx) + '-S' + str(stor_no), 'pi',0],\n",
    "    ['qubit', 'ge', 'hpi',0], # Starting parity meas\n",
    "                ['qubit', 'ge', 'parity_M' + str(man_idx),0], \n",
    "                ['qubit', 'ge', 'hpi',0]]\n",
    "creator = mm_base.get_prepulse_creator(pre_sweep_pulse_str)\n",
    "a1 = creator.pulse.tolist()\n",
    "a1\n"
   ]
  },
  {
   "cell_type": "code",
   "execution_count": 36,
   "metadata": {},
   "outputs": [
    {
     "data": {
      "text/plain": [
       "[[3568.1751638611518, 3425.5564066067, 2007.06, 349.415, 520.925, 520.925],\n",
       " [10716, 8236, 15000, 3000, 5000, 5000],\n",
       " [0, 0, 0.651287, 0.4885714285714285, 0.565451994946885, 0.565451994946885],\n",
       " [0, 0, 0, 0, 0, 0],\n",
       " [2, 2, 0, 1, 1, 1],\n",
       " ['g', 'g', 'flat_top', 'flat_top', 'flat_top', 'flat_top'],\n",
       " [0.035, 0.035, 0.005, 0.005, 0.005, 0.005]]"
      ]
     },
     "execution_count": 36,
     "metadata": {},
     "output_type": "execute_result"
    }
   ],
   "source": [
    "from MM_base import MM_base\n",
    "stor_no=[1,2]\n",
    "man_idx=1\n",
    "mm_base = MM_base(cfg = yaml_cfg)\n",
    "pre_sweep_pulse_str = [['qubit', 'ge', 'pi',0],\n",
    "                    ['qubit', 'ef', 'pi',0],\n",
    "                    ['man', 'M' + str(man_idx) , 'pi',0],\n",
    "                    ['storage', 'M'+ str(man_idx) + '-S' + str(stor_no[0]), 'hpi',0], \n",
    "                    ['storage', 'M'+ str(man_idx) + '-S' + str(stor_no[1]), 'hpi',0],\n",
    "                    ['storage', 'M'+ str(man_idx) + '-S' + str(stor_no[1]), 'hpi',0]]\n",
    "\n",
    "creator = mm_base.get_prepulse_creator(pre_sweep_pulse_str)\n",
    "a1 = creator.pulse.tolist()\n",
    "a1\n"
   ]
  },
  {
   "cell_type": "code",
   "execution_count": 43,
   "metadata": {},
   "outputs": [
    {
     "data": {
      "text/plain": [
       "[[3568.1751638611518,\n",
       "  3425.5564066067,\n",
       "  2007.06,\n",
       "  349.415,\n",
       "  520.925,\n",
       "  520.925,\n",
       "  3568.1751638611518,\n",
       "  3425.5564066067,\n",
       "  2007.06,\n",
       "  696.665,\n",
       "  875.845,\n",
       "  875.845],\n",
       " [10716, 8236, 15000, 3000, 5000, 5000, 10716, 8236, 15000, 9000, 9000, 9000],\n",
       " [0,\n",
       "  0,\n",
       "  0.651287,\n",
       "  0.4885714285714285,\n",
       "  0.565451994946885,\n",
       "  0.565451994946885,\n",
       "  0,\n",
       "  0,\n",
       "  0.651287,\n",
       "  0.666955,\n",
       "  0.6271437312608766,\n",
       "  0.6271437312608766],\n",
       " [0, 0, 0, 0, 0, 0, 0, 0, 0, 0, 0, 0],\n",
       " [2, 2, 0, 1, 1, 1, 2, 2, 0, 1, 1, 1],\n",
       " ['g',\n",
       "  'g',\n",
       "  'flat_top',\n",
       "  'flat_top',\n",
       "  'flat_top',\n",
       "  'flat_top',\n",
       "  'g',\n",
       "  'g',\n",
       "  'flat_top',\n",
       "  'flat_top',\n",
       "  'flat_top',\n",
       "  'flat_top'],\n",
       " [0.035,\n",
       "  0.035,\n",
       "  0.005,\n",
       "  0.005,\n",
       "  0.005,\n",
       "  0.005,\n",
       "  0.035,\n",
       "  0.035,\n",
       "  0.005,\n",
       "  0.005,\n",
       "  0.005,\n",
       "  0.005]]"
      ]
     },
     "execution_count": 43,
     "metadata": {},
     "output_type": "execute_result"
    }
   ],
   "source": [
    "from MM_base import MM_base\n",
    "stor_no=[[1,2],[3,4]]\n",
    "man_idx=1\n",
    "mm_base = MM_base(cfg = yaml_cfg)\n",
    "pre_sweep_pulse_str = [['qubit', 'ge', 'pi',0],\n",
    "                    ['qubit', 'ef', 'pi',0],\n",
    "                    ['man', 'M' + str(man_idx) , 'pi',0],\n",
    "                    ['storage', 'M'+ str(man_idx) + '-S' + str(stor_no[0][0]), 'hpi',0], \n",
    "                    ['storage', 'M'+ str(man_idx) + '-S' + str(stor_no[0][1]), 'hpi',0],\n",
    "                    ['storage', 'M'+ str(man_idx) + '-S' + str(stor_no[0][1]), 'hpi',0],\n",
    "                    ['qubit', 'ge', 'pi',0],\n",
    "                    ['qubit', 'ef', 'pi',0],\n",
    "                    ['man', 'M' + str(man_idx) , 'pi',0],\n",
    "                    ['storage', 'M'+ str(man_idx) + '-S' + str(stor_no[1][0]), 'hpi',0], \n",
    "                    ['storage', 'M'+ str(man_idx) + '-S' + str(stor_no[1][1]), 'hpi',0], \n",
    "                    ['storage', 'M'+ str(man_idx) + '-S' + str(stor_no[1][1]), 'hpi',0]]\n",
    "\n",
    "creator = mm_base.get_prepulse_creator(pre_sweep_pulse_str)\n",
    "a1 = creator.pulse.tolist()\n",
    "a1"
   ]
  },
  {
   "cell_type": "code",
   "execution_count": 29,
   "metadata": {},
   "outputs": [],
   "source": [
    "stor_no=[3,4]\n",
    "man_idx=1\n",
    "post_selection_pulse_str = [['storage', 'M'+ str(man_idx) + '-S' + str(stor_no[0]), 'hpi',0], \n",
    "                    ['storage', 'M'+ str(man_idx) + '-S' + str(stor_no[0]), 'hpi',0],\n",
    "                ['qubit', 'ge', 'hpi',0], # Starting parity meas\n",
    "                ['qubit', 'ge', 'parity_M' + str(man_idx),0], \n",
    "                ['qubit', 'ge', 'hpi',0]]# measure]\n",
    "creator = mm_base.get_prepulse_creator(post_selection_pulse_str)\n",
    "I_gate1 = creator.pulse.tolist()\n",
    "post_selection_pulse_str = [\n",
    "                ['storage', 'M'+ str(man_idx) + '-S' + str(stor_no[1]), 'hpi',0], \n",
    "                    ['storage', 'M'+ str(man_idx) + '-S' + str(stor_no[1]), 'hpi',0],\n",
    "                ['qubit', 'ge', 'hpi',0], # Starting parity meas\n",
    "                ['qubit', 'ge', 'parity_M' + str(man_idx),0], \n",
    "                ['qubit', 'ge', 'hpi',0]]# measure]\n",
    "creator = mm_base.get_prepulse_creator(post_selection_pulse_str)\n",
    "I_gate2 = creator.pulse.tolist()\n",
    "\n",
    "\n",
    "I_gate = [I_gate1, I_gate2]\n",
    "\n",
    "post_selection_pulse_str = [['storage', 'M'+ str(man_idx) + '-S' + str(stor_no[0]), 'hpi',0], \n",
    "                    ['storage', 'M'+ str(man_idx) + '-S' + str(stor_no[0]), 'hpi',0],\n",
    "                ['storage', 'M'+ str(man_idx) + '-S' + str(stor_no[1]), 'hpi',0], \n",
    "                ['qubit', 'ge', 'hpi',0], # Starting parity meas\n",
    "                ['qubit', 'ge', 'parity_M' + str(man_idx),0], \n",
    "                ['qubit', 'ge', 'hpi',0]]\n",
    "creator = mm_base.get_prepulse_creator(post_selection_pulse_str)\n",
    "X_gate1 = creator.pulse.tolist()\n",
    "post_selection_pulse_str = [['storage', 'M'+ str(man_idx) + '-S' + str(stor_no[1]), 'hpi',0], \n",
    "                    ['storage', 'M'+ str(man_idx) + '-S' + str(stor_no[1]), 'hpi',0],\n",
    "                ['qubit', 'ge', 'hpi',0], # Starting parity meas\n",
    "                ['qubit', 'ge', 'parity_M' + str(man_idx),0], \n",
    "                ['qubit', 'ge', 'hpi',0]]\n",
    "creator = mm_base.get_prepulse_creator(post_selection_pulse_str)\n",
    "X_gate2 = creator.pulse.tolist()\n",
    "\n",
    "X_gate = [X_gate1, X_gate2]\n",
    "\n",
    "post_selection_pulse_str = [['storage', 'M'+ str(man_idx) + '-S' + str(stor_no[0]), 'hpi',0], \n",
    "                    ['storage', 'M'+ str(man_idx) + '-S' + str(stor_no[0]), 'hpi',0],\n",
    "                ['storage', 'M'+ str(man_idx) + '-S' + str(stor_no[1]), 'hpi',90], \n",
    "                ['qubit', 'ge', 'hpi',0], # Starting parity meas\n",
    "                ['qubit', 'ge', 'parity_M' + str(man_idx),0], \n",
    "                ['qubit', 'ge', 'hpi',0]]\n",
    "creator = mm_base.get_prepulse_creator(post_selection_pulse_str)\n",
    "Y_gate1 = creator.pulse.tolist()\n",
    "post_selection_pulse_str = [['storage', 'M'+ str(man_idx) + '-S' + str(stor_no[1]), 'hpi',0], \n",
    "                    ['storage', 'M'+ str(man_idx) + '-S' + str(stor_no[1]), 'hpi',0],\n",
    "                ['qubit', 'ge', 'hpi',0], # Starting parity meas\n",
    "                ['qubit', 'ge', 'parity_M' + str(man_idx),0], \n",
    "                ['qubit', 'ge', 'hpi',0]]\n",
    "creator = mm_base.get_prepulse_creator(post_selection_pulse_str)\n",
    "Y_gate2 = creator.pulse.tolist()\n",
    "\n",
    "Y_gate = [Y_gate1, Y_gate2]"
   ]
  },
  {
   "cell_type": "markdown",
   "metadata": {},
   "source": [
    "# Prepulse and Postpulse generator"
   ]
  },
  {
   "cell_type": "code",
   "execution_count": 18,
   "metadata": {},
   "outputs": [
    {
     "ename": "NameError",
     "evalue": "name 'dataset' is not defined",
     "output_type": "error",
     "traceback": [
      "\u001b[1;31m---------------------------------------------------------------------------\u001b[0m",
      "\u001b[1;31mNameError\u001b[0m                                 Traceback (most recent call last)",
      "Cell \u001b[1;32mIn[18], line 6\u001b[0m\n\u001b[0;32m      3\u001b[0m pi2_length \u001b[38;5;241m=\u001b[39m \u001b[38;5;241m0.8425040638970613\u001b[39m\n\u001b[0;32m      4\u001b[0m gain \u001b[38;5;241m=\u001b[39m \u001b[38;5;241m13500\u001b[39m\n\u001b[1;32m----> 6\u001b[0m \u001b[43mdataset\u001b[49m\u001b[38;5;241m.\u001b[39mupdate_all(\u001b[38;5;124m'\u001b[39m\u001b[38;5;124mM1-S7\u001b[39m\u001b[38;5;124m'\u001b[39m, freq, \u001b[38;5;241m0.01\u001b[39m, pi_length, pi2_length, gain)\n",
      "\u001b[1;31mNameError\u001b[0m: name 'dataset' is not defined"
     ]
    }
   ],
   "source": [
    "freq = 1423.04\n",
    "pi_length =0.8425040638970613*2\n",
    "pi2_length = 0.8425040638970613\n",
    "gain = 13500\n",
    "\n",
    "dataset.update_all('M1-S7', freq, 0.01, pi_length, pi2_length, gain)"
   ]
  },
  {
   "cell_type": "markdown",
   "metadata": {},
   "source": [
    "## Dataset"
   ]
  },
  {
   "cell_type": "code",
   "execution_count": 129,
   "metadata": {},
   "outputs": [],
   "source": [
    "from dataset import * \n",
    "from dataset import storage_man_swap_dataset"
   ]
  },
  {
   "cell_type": "code",
   "execution_count": 130,
   "metadata": {},
   "outputs": [
    {
     "data": {
      "text/html": [
       "<div>\n",
       "<style scoped>\n",
       "    .dataframe tbody tr th:only-of-type {\n",
       "        vertical-align: middle;\n",
       "    }\n",
       "\n",
       "    .dataframe tbody tr th {\n",
       "        vertical-align: top;\n",
       "    }\n",
       "\n",
       "    .dataframe thead th {\n",
       "        text-align: right;\n",
       "    }\n",
       "</style>\n",
       "<table border=\"1\" class=\"dataframe\">\n",
       "  <thead>\n",
       "    <tr style=\"text-align: right;\">\n",
       "      <th></th>\n",
       "      <th>stor_name</th>\n",
       "      <th>freq (MHz)</th>\n",
       "      <th>precision (MHz)</th>\n",
       "      <th>pi (mus)</th>\n",
       "      <th>h_pi (mus)</th>\n",
       "      <th>gain (DAC units)</th>\n",
       "      <th>last_update</th>\n",
       "    </tr>\n",
       "  </thead>\n",
       "  <tbody>\n",
       "    <tr>\n",
       "      <th>0</th>\n",
       "      <td>M1-S1</td>\n",
       "      <td>349.415</td>\n",
       "      <td>0.010</td>\n",
       "      <td>0.977143</td>\n",
       "      <td>0.488571</td>\n",
       "      <td>3000</td>\n",
       "      <td>2024-10-26 17:42:46.915401</td>\n",
       "    </tr>\n",
       "    <tr>\n",
       "      <th>1</th>\n",
       "      <td>M1-S2</td>\n",
       "      <td>520.925</td>\n",
       "      <td>0.010</td>\n",
       "      <td>1.130904</td>\n",
       "      <td>0.565452</td>\n",
       "      <td>5000</td>\n",
       "      <td>2024-10-26 17:43:09.376354</td>\n",
       "    </tr>\n",
       "    <tr>\n",
       "      <th>2</th>\n",
       "      <td>M1-S3</td>\n",
       "      <td>696.665</td>\n",
       "      <td>0.010</td>\n",
       "      <td>1.333910</td>\n",
       "      <td>0.666955</td>\n",
       "      <td>9000</td>\n",
       "      <td>2024-10-26 17:43:34.019332</td>\n",
       "    </tr>\n",
       "    <tr>\n",
       "      <th>3</th>\n",
       "      <td>M1-S4</td>\n",
       "      <td>875.845</td>\n",
       "      <td>0.010</td>\n",
       "      <td>1.254287</td>\n",
       "      <td>0.627144</td>\n",
       "      <td>9000</td>\n",
       "      <td>2024-10-26 17:43:51.867832</td>\n",
       "    </tr>\n",
       "    <tr>\n",
       "      <th>4</th>\n",
       "      <td>M1-S5</td>\n",
       "      <td>1053.395</td>\n",
       "      <td>0.010</td>\n",
       "      <td>1.973198</td>\n",
       "      <td>0.986599</td>\n",
       "      <td>7500</td>\n",
       "      <td>2024-10-26 17:44:14.975970</td>\n",
       "    </tr>\n",
       "    <tr>\n",
       "      <th>5</th>\n",
       "      <td>M1-S6</td>\n",
       "      <td>1245.160</td>\n",
       "      <td>0.010</td>\n",
       "      <td>1.595310</td>\n",
       "      <td>0.797655</td>\n",
       "      <td>13500</td>\n",
       "      <td>2024-10-26 17:44:34.143253</td>\n",
       "    </tr>\n",
       "    <tr>\n",
       "      <th>6</th>\n",
       "      <td>M1-S7</td>\n",
       "      <td>1423.040</td>\n",
       "      <td>0.010</td>\n",
       "      <td>1.685008</td>\n",
       "      <td>0.842504</td>\n",
       "      <td>13500</td>\n",
       "      <td>2024-10-26 17:44:51.587301</td>\n",
       "    </tr>\n",
       "    <tr>\n",
       "      <th>7</th>\n",
       "      <td>M1-S8</td>\n",
       "      <td>-1.000</td>\n",
       "      <td>-1.000</td>\n",
       "      <td>-1.000000</td>\n",
       "      <td>-1.000000</td>\n",
       "      <td>-1</td>\n",
       "      <td>51:31.3</td>\n",
       "    </tr>\n",
       "    <tr>\n",
       "      <th>8</th>\n",
       "      <td>M1-S9</td>\n",
       "      <td>-1.000</td>\n",
       "      <td>-1.000</td>\n",
       "      <td>-1.000000</td>\n",
       "      <td>-1.000000</td>\n",
       "      <td>-1</td>\n",
       "      <td>51:31.3</td>\n",
       "    </tr>\n",
       "    <tr>\n",
       "      <th>9</th>\n",
       "      <td>M1-S10</td>\n",
       "      <td>-1.000</td>\n",
       "      <td>-1.000</td>\n",
       "      <td>-1.000000</td>\n",
       "      <td>-1.000000</td>\n",
       "      <td>-1</td>\n",
       "      <td>51:31.3</td>\n",
       "    </tr>\n",
       "    <tr>\n",
       "      <th>10</th>\n",
       "      <td>M1-S11</td>\n",
       "      <td>-1.000</td>\n",
       "      <td>-1.000</td>\n",
       "      <td>-1.000000</td>\n",
       "      <td>-1.000000</td>\n",
       "      <td>-1</td>\n",
       "      <td>51:31.3</td>\n",
       "    </tr>\n",
       "    <tr>\n",
       "      <th>11</th>\n",
       "      <td>M1-S12</td>\n",
       "      <td>-1.000</td>\n",
       "      <td>-1.000</td>\n",
       "      <td>-1.000000</td>\n",
       "      <td>-1.000000</td>\n",
       "      <td>-1</td>\n",
       "      <td>51:31.3</td>\n",
       "    </tr>\n",
       "    <tr>\n",
       "      <th>12</th>\n",
       "      <td>M1</td>\n",
       "      <td>2007.000</td>\n",
       "      <td>0.025</td>\n",
       "      <td>0.605682</td>\n",
       "      <td>0.298561</td>\n",
       "      <td>15000</td>\n",
       "      <td>2024-11-14 09:55:44.755064</td>\n",
       "    </tr>\n",
       "    <tr>\n",
       "      <th>13</th>\n",
       "      <td>M2</td>\n",
       "      <td>1834.895</td>\n",
       "      <td>0.010</td>\n",
       "      <td>1.060413</td>\n",
       "      <td>0.528845</td>\n",
       "      <td>15000</td>\n",
       "      <td>2024-10-09 23:31:32.434744</td>\n",
       "    </tr>\n",
       "    <tr>\n",
       "      <th>14</th>\n",
       "      <td>M2-S1</td>\n",
       "      <td>175.630</td>\n",
       "      <td>0.010</td>\n",
       "      <td>2.173484</td>\n",
       "      <td>1.086742</td>\n",
       "      <td>1000</td>\n",
       "      <td>28:20.8</td>\n",
       "    </tr>\n",
       "    <tr>\n",
       "      <th>15</th>\n",
       "      <td>M2-S2</td>\n",
       "      <td>346.840</td>\n",
       "      <td>0.010</td>\n",
       "      <td>0.908835</td>\n",
       "      <td>0.454417</td>\n",
       "      <td>5000</td>\n",
       "      <td>33:56.1</td>\n",
       "    </tr>\n",
       "    <tr>\n",
       "      <th>16</th>\n",
       "      <td>M2-S3</td>\n",
       "      <td>523.220</td>\n",
       "      <td>0.010</td>\n",
       "      <td>1.561615</td>\n",
       "      <td>0.780808</td>\n",
       "      <td>5000</td>\n",
       "      <td>22:30.3</td>\n",
       "    </tr>\n",
       "    <tr>\n",
       "      <th>17</th>\n",
       "      <td>M2-S4</td>\n",
       "      <td>702.650</td>\n",
       "      <td>0.010</td>\n",
       "      <td>1.386764</td>\n",
       "      <td>0.693382</td>\n",
       "      <td>9000</td>\n",
       "      <td>25:33.1</td>\n",
       "    </tr>\n",
       "    <tr>\n",
       "      <th>18</th>\n",
       "      <td>M2-S5</td>\n",
       "      <td>878.780</td>\n",
       "      <td>0.010</td>\n",
       "      <td>1.303372</td>\n",
       "      <td>0.651686</td>\n",
       "      <td>13500</td>\n",
       "      <td>00:05.4</td>\n",
       "    </tr>\n",
       "    <tr>\n",
       "      <th>19</th>\n",
       "      <td>M2-S6</td>\n",
       "      <td>1070.100</td>\n",
       "      <td>0.010</td>\n",
       "      <td>2.379622</td>\n",
       "      <td>1.189811</td>\n",
       "      <td>9000</td>\n",
       "      <td>30:59.0</td>\n",
       "    </tr>\n",
       "    <tr>\n",
       "      <th>20</th>\n",
       "      <td>M2-S7</td>\n",
       "      <td>1249.700</td>\n",
       "      <td>0.010</td>\n",
       "      <td>1.796981</td>\n",
       "      <td>0.898491</td>\n",
       "      <td>12000</td>\n",
       "      <td>56:07.5</td>\n",
       "    </tr>\n",
       "    <tr>\n",
       "      <th>21</th>\n",
       "      <td>M2-M1</td>\n",
       "      <td>173.790</td>\n",
       "      <td>0.010</td>\n",
       "      <td>0.463481</td>\n",
       "      <td>0.231741</td>\n",
       "      <td>2000</td>\n",
       "      <td>2024-10-06 01:47:25.946153</td>\n",
       "    </tr>\n",
       "  </tbody>\n",
       "</table>\n",
       "</div>"
      ],
      "text/plain": [
       "   stor_name  freq (MHz)  precision (MHz)  pi (mus)  h_pi (mus)  \\\n",
       "0      M1-S1     349.415            0.010  0.977143    0.488571   \n",
       "1      M1-S2     520.925            0.010  1.130904    0.565452   \n",
       "2      M1-S3     696.665            0.010  1.333910    0.666955   \n",
       "3      M1-S4     875.845            0.010  1.254287    0.627144   \n",
       "4      M1-S5    1053.395            0.010  1.973198    0.986599   \n",
       "5      M1-S6    1245.160            0.010  1.595310    0.797655   \n",
       "6      M1-S7    1423.040            0.010  1.685008    0.842504   \n",
       "7      M1-S8      -1.000           -1.000 -1.000000   -1.000000   \n",
       "8      M1-S9      -1.000           -1.000 -1.000000   -1.000000   \n",
       "9     M1-S10      -1.000           -1.000 -1.000000   -1.000000   \n",
       "10    M1-S11      -1.000           -1.000 -1.000000   -1.000000   \n",
       "11    M1-S12      -1.000           -1.000 -1.000000   -1.000000   \n",
       "12        M1    2007.000            0.025  0.605682    0.298561   \n",
       "13        M2    1834.895            0.010  1.060413    0.528845   \n",
       "14     M2-S1     175.630            0.010  2.173484    1.086742   \n",
       "15     M2-S2     346.840            0.010  0.908835    0.454417   \n",
       "16     M2-S3     523.220            0.010  1.561615    0.780808   \n",
       "17     M2-S4     702.650            0.010  1.386764    0.693382   \n",
       "18     M2-S5     878.780            0.010  1.303372    0.651686   \n",
       "19     M2-S6    1070.100            0.010  2.379622    1.189811   \n",
       "20     M2-S7    1249.700            0.010  1.796981    0.898491   \n",
       "21     M2-M1     173.790            0.010  0.463481    0.231741   \n",
       "\n",
       "    gain (DAC units)                 last_update  \n",
       "0               3000  2024-10-26 17:42:46.915401  \n",
       "1               5000  2024-10-26 17:43:09.376354  \n",
       "2               9000  2024-10-26 17:43:34.019332  \n",
       "3               9000  2024-10-26 17:43:51.867832  \n",
       "4               7500  2024-10-26 17:44:14.975970  \n",
       "5              13500  2024-10-26 17:44:34.143253  \n",
       "6              13500  2024-10-26 17:44:51.587301  \n",
       "7                 -1                     51:31.3  \n",
       "8                 -1                     51:31.3  \n",
       "9                 -1                     51:31.3  \n",
       "10                -1                     51:31.3  \n",
       "11                -1                     51:31.3  \n",
       "12             15000  2024-11-14 09:55:44.755064  \n",
       "13             15000  2024-10-09 23:31:32.434744  \n",
       "14              1000                     28:20.8  \n",
       "15              5000                     33:56.1  \n",
       "16              5000                     22:30.3  \n",
       "17              9000                     25:33.1  \n",
       "18             13500                     00:05.4  \n",
       "19              9000                     30:59.0  \n",
       "20             12000                     56:07.5  \n",
       "21              2000  2024-10-06 01:47:25.946153  "
      ]
     },
     "execution_count": 130,
     "metadata": {},
     "output_type": "execute_result"
    }
   ],
   "source": [
    "dataset = storage_man_swap_dataset('man1_storage_swap_dataset.csv')\n",
    "dataset.df"
   ]
  },
  {
   "cell_type": "code",
   "execution_count": 135,
   "metadata": {},
   "outputs": [
    {
     "data": {
      "text/plain": [
       "[3000,\n",
       " 5000,\n",
       " 9000,\n",
       " 9000,\n",
       " 7500,\n",
       " 13500,\n",
       " 13500,\n",
       " -1,\n",
       " -1,\n",
       " -1,\n",
       " -1,\n",
       " -1,\n",
       " 15000,\n",
       " 15000,\n",
       " 1000,\n",
       " 5000,\n",
       " 5000,\n",
       " 9000,\n",
       " 13500,\n",
       " 9000,\n",
       " 12000,\n",
       " 2000]"
      ]
     },
     "execution_count": 135,
     "metadata": {},
     "output_type": "execute_result"
    }
   ],
   "source": [
    "dataset.df['gain (DAC units)'].values.tolist()"
   ]
  },
  {
   "cell_type": "code",
   "execution_count": null,
   "metadata": {},
   "outputs": [],
   "source": [
    "list(dataset.df['gain (DAC units)'][2:7])"
   ]
  },
  {
   "cell_type": "markdown",
   "metadata": {},
   "source": [
    "## Old Prepulse creator"
   ]
  },
  {
   "cell_type": "code",
   "execution_count": 135,
   "metadata": {},
   "outputs": [],
   "source": [
    "class prepulse_creator: \n",
    "    def __init__(self, config_file, storage_man_file):\n",
    "        '''\n",
    "        Creates pulses of the form \n",
    "        # [[frequency], [gain], [length (us)], [phases], [drive channel], [shape], [ramp sigma]], drive channel=1 (flux low), 2 (qubit),3 (flux high),6 (storage),5 (f0g1),4 (manipulate),           \n",
    "        '''\n",
    "        # config \n",
    "        with open(config_file, 'r') as cfg_file:\n",
    "            yaml_cfg = yaml.safe_load(cfg_file)\n",
    "        self.cfg = AttrDict(yaml_cfg)\n",
    "\n",
    "        # man storage swap data \n",
    "        self.dataset = storage_man_swap_dataset(storage_man_file)\n",
    "        \n",
    "        # initialize pulse \n",
    "        self.pulse = np.array([[],[],[],[],[],[],[]], dtype = object)\n",
    "    \n",
    "    def append(self, pulse):\n",
    "        self.pulse = np.concatenate((self.pulse, pulse), axis=1)\n",
    "        return None\n",
    "        \n",
    "    def qubit(self, pulse_name,ge_bool):\n",
    "        ''' pulse name comes from yaml file '''\n",
    "        # frequency \n",
    "        if ge_bool: \n",
    "            freq = self.cfg.device.qubit.f_ge[0]\n",
    "        else: \n",
    "            freq = self.cfg.device.qubit.f_ef[0]\n",
    "        \n",
    "        # length and sigma \n",
    "        # pulse_type = self.cfg.device.qubit.pulses[pulse_name]['type']\n",
    "        # if pulse is 'gauss': \n",
    "        #     length = 0\n",
    "        #     ramp_sigma = self.cfg.device.qubit.pulses[pulse_name]['sigma']\n",
    "        qubit_pulse = np.array([[freq], \n",
    "                [self.cfg.device.qubit.pulses[pulse_name]['gain'][0]],\n",
    "                [0],\n",
    "                [0],\n",
    "                [2],\n",
    "                ['gaussian'],\n",
    "                [self.cfg.device.qubit.pulses[pulse_name]['sigma'][0]]], dtype = object)\n",
    "        self.pulse = np.concatenate((self.pulse, qubit_pulse), axis=1)\n",
    "        return None\n",
    "    \n",
    "    def man(self, cav_name, pulse_name, buffer = False):\n",
    "        '''name can be pi or hpi'''\n",
    "\n",
    "        if pulse_name == 'pi': \n",
    "            length = self.dataset.get_pi(cav_name)\n",
    "        else:\n",
    "            length = self.dataset.get_h_pi(cav_name)\n",
    "        \n",
    "        f0g1  = np.array([[self.dataset.get_freq(cav_name)],\n",
    "                [ self.dataset.get_gain(cav_name)],\n",
    "                [length],\n",
    "                [0],\n",
    "                [5], # f0g1 pulse \n",
    "                ['flat_top'],\n",
    "                [0.005]], dtype = object)\n",
    "        \n",
    "        self.pulse = np.concatenate((self.pulse, f0g1), axis=1)\n",
    "        return None\n",
    "    # def buffer(self): \n",
    "    #     buffer = np.array([[0],\n",
    "    #             [0],\n",
    "    #             [0.01],\n",
    "    #             [0],\n",
    "    #             [5],\n",
    "    #             ['flat_top'],\n",
    "    #             [0.005]], dtype = object)\n",
    "    #     self.pulse = np.concatenate((self.pulse, buffer), axis=1)\n",
    "    #     return None\n",
    "\n",
    "    def storage(self, stor_name, pulse_name):\n",
    "        '''\n",
    "        plays sideband pulse on storage via coupler rf flux\n",
    "        name can be pi or hpi'''\n",
    "\n",
    "        if pulse_name == 'pi': \n",
    "            length = self.dataset.get_pi(stor_name)\n",
    "        else:\n",
    "            length = self.dataset.get_h_pi(stor_name)\n",
    "        freq = self.dataset.get_freq(stor_name)\n",
    "        if freq<1000: \n",
    "            ch = 1\n",
    "        else:\n",
    "            ch = 3\n",
    "        \n",
    "        storage_pulse = np.array([[self.dataset.get_freq(stor_name)],\n",
    "                [ self.dataset.get_gain(stor_name)],\n",
    "                [length],\n",
    "                [0],\n",
    "                [ch],\n",
    "                ['flat_top'],\n",
    "                [0.005]], dtype = object)\n",
    "        \n",
    "        self.pulse = np.concatenate((self.pulse, storage_pulse), axis=1)\n",
    "        return None\n",
    "        \n",
    "                \n",
    "    "
   ]
  },
  {
   "cell_type": "code",
   "execution_count": null,
   "metadata": {},
   "outputs": [],
   "source": [
    "creator = prepulse_creator(config_file, 'man1_storage_swap_dataset.csv')\n",
    "modes = ['M1-S2', 'M1-S3', 'M1-S4', 'M1-S5', 'M1-S6', 'M1-S7']\n",
    "# for mode in modes: \n",
    "#     creator.append(np.array([[4984.026194477733],\n",
    "#                 [3750],\n",
    "#                 [0],\n",
    "#                 [0],\n",
    "#                 [4],\n",
    "#                 ['gaussian'],\n",
    "#                 [0.1]], dtype = object))\n",
    "#     creator.storage(mode, 'pi')\n",
    "# creator.append(np.array([[4984.026194477733],\n",
    "#                 [3750],\n",
    "#                 [0],\n",
    "#                 [0],\n",
    "#                 [4],\n",
    "#                 ['gaussian'],\n",
    "#                 [0.1]], dtype = object))\n",
    "# creator.storage('M1-S3', 'pi')\n",
    "# creator.qubit('pi_ge', ge_bool = True)\n",
    "# creator.qubit('pi_ef', ge_bool = False)\n",
    "# # creator.buffer()\n",
    "# creator.man('M1', 'pi', buffer = True)\n",
    "# creator.qubit('pi_ef', ge_bool = False)\n",
    "# creator.storage('M1-S1', 'pi')\n",
    "# creator.storage('M1-S3', 'pi')\n",
    "creator.storage('M1-S5', 'pi')\n",
    "# creator.qubit('pi_ge', ge_bool = True)\n",
    "# creator.qubit('pi_ef', ge_bool = False)\n",
    "# creator.man('M2', 'pi')\n",
    "# creator.pulse\n",
    "# creator.append(np.array([[4984.026194477733],\n",
    "#         [3750],\n",
    "#         [0],\n",
    "#         [0],\n",
    "#         [4],\n",
    "#         ['gaussian'],\n",
    "#         [0.1]], dtype = object))\n",
    "# creator.append(np.array([[3568.1904347121535, 3425.5537944060666, 2006.72, 2313.3, 100],\n",
    "#        [9653, 7575, 15000, 5000, 0],\n",
    "#        [0, 0, 0.6168960348389007, 10, 5],\n",
    "#        [0, 0, 0, 0, 0],\n",
    "#        [2, 2, 5, 3, 3],\n",
    "#        ['gaussian', 'gaussian', 'flat_top', 'flat_top', 'flat_top'],\n",
    "#        [0.035, 0.035, 0.005, 0.005, 0.005]], dtype = object))'\"LO id is 10003495.txt\"\n",
    "# creator.append(np.array([[3567.900564],\n",
    "#         [9653],\n",
    "#         [0],\n",
    "#         [0],\n",
    "#         [2],\n",
    "#         ['gaussian'],\n",
    "#         [0.035]], dtype = object))\n",
    "creator.pulse\n"
   ]
  },
  {
   "cell_type": "code",
   "execution_count": null,
   "metadata": {},
   "outputs": [],
   "source": [
    "creator = prepulse_creator(config_file, 'man1_storage_swap_dataset.csv')\n",
    "#creator.pulse = np.array([[],[],[],[],[],[],[]], dtype = object)\n",
    "# creator.qubit('pi_ge', ge_bool = True)\n",
    "# creator.qubit('pi_ef', ge_bool = False)\n",
    "# # creator.buffer()\n",
    "creator.storage('M1-S1', 'pi')\n",
    "creator.man('M1', 'pi')\n",
    "creator.pulse"
   ]
  },
  {
   "cell_type": "markdown",
   "metadata": {},
   "source": [
    "## New Creator"
   ]
  },
  {
   "cell_type": "code",
   "execution_count": 215,
   "metadata": {},
   "outputs": [
    {
     "data": {
      "text/plain": [
       "array([[3568.1751638611518, 3425.5564066067, 2007.0],\n",
       "       [10716, 8236, 15000],\n",
       "       [0, 0, 0.6056817916987671],\n",
       "       [0, 0, 0],\n",
       "       [2, 2, 0],\n",
       "       ['g', 'g', 'flat_top'],\n",
       "       [0.035, 0.035, 0.005]], dtype=object)"
      ]
     },
     "execution_count": 215,
     "metadata": {},
     "output_type": "execute_result"
    }
   ],
   "source": [
    "from multimode_expts.MM_base import *\n",
    "mm_base = MM_base(cfg = yaml_cfg)\n",
    "\n",
    "man_idx = 1\n",
    "stor_id = [1,2]\n",
    "parity_str = [['qubit', 'ge', 'hpi', 0 ], # Starting parity meas\n",
    "                ['qubit', 'ge', 'parity_M' + str(man_idx), 0 ], \n",
    "                ['qubit', 'ge', 'hpi', 0 ], \n",
    "                ]\n",
    "\n",
    "# parity_str_multiple\n",
    "\n",
    "prep_f0g1_str = [\n",
    "                ['qubit', 'ge', 'pi', 0],\n",
    "                ['qubit', 'ef', 'pi', 0],\n",
    "                ['man', 'M1', 'pi', 0]\n",
    "            ]\n",
    "post_f0g1_str = [['man', 'M1', 'pi', 0],\n",
    "                ['qubit', 'ef', 'pi', 0]]\n",
    "\n",
    "    \n",
    "creator = mm_base.get_prepulse_creator(prep_f0g1_str)\n",
    "creator.pulse\n",
    "# pulse_str"
   ]
  },
  {
   "cell_type": "code",
   "execution_count": null,
   "metadata": {},
   "outputs": [],
   "source": [
    "# for the cross storage phase correction \n",
    "spectator_mode_no = 2\n",
    "target_mode_no = 1\n",
    "man_no = 1\n",
    "\n",
    "cfg = yaml_cfg\n",
    "\n",
    "omega_target = cfg.device.storage.idling_freq[target_mode_no -1]\n",
    "omega_f0g1 = cfg.device.manipulate.idling_freq[man_no - 1]\n",
    "phi_target = cfg.device.storage.idling_phase[target_mode_no -1][target_mode_no -1]\n",
    "phi_f0g1 = cfg.device.manipulate.idling_phase[man_no - 1][man_no - 1]\n",
    "\n",
    "mm_base = MM_base(cfg = yaml_cfg)\n",
    "\n",
    "# create prepulse \n",
    "prepulse_str = [['qubit', 'ge', 'hpi',0]]\n",
    "stor_input = mm_base.compound_storage_gate(input = True, storage_no = target_mode_no)\n",
    "\n",
    "# spector pulse \n",
    "spectator_pulse_str = [['storage', 'M' + str(man_no) + '-S' + str(spectator_mode_no), 'pi', 0]]\n",
    "\n",
    "# idling_times \n",
    "spec_idling_time = mm_base.get_total_time(spectator_pulse_str, gate_based = True)\n",
    "targ_idling_time = mm_base.get_total_time([['storage', 'M' + str(man_no) + '-S' + str(target_mode_no), 'pi', 0]], gate_based = True)\n",
    "\n",
    "stor_output_str = mm_base.compound_storage_gate(input = False, storage_no = target_mode_no)\n",
    "ge_virtual_phase = omega_target * spec_idling_time + omega_f0g1 * targ_idling_time + phi_target + phi_f0g1\n",
    "post_pulse_str = [['qubit', 'ge', 'hpi', ge_virtual_phase]]\n",
    "\n",
    "# Concatenate all lists along axis 0\n",
    "concatenated_list = prepulse_str + stor_input + spectator_pulse_str + stor_output_str + post_pulse_str\n",
    "\n",
    "# Print the concatenated list\n",
    "concatenated_list\n"
   ]
  },
  {
   "cell_type": "code",
   "execution_count": null,
   "metadata": {},
   "outputs": [],
   "source": [
    "concatenated_list = [concatenated_list[-1]]"
   ]
  },
  {
   "cell_type": "markdown",
   "metadata": {},
   "source": [
    "## Example"
   ]
  },
  {
   "cell_type": "code",
   "execution_count": null,
   "metadata": {},
   "outputs": [],
   "source": [
    "# import sequential_experiment as seq_exp\n",
    "# experiment_name = 'length_rabi_sweep'\n",
    "\n",
    "# eval('seq_exp.' + experiment_name)(soccfg=soc, path=expt_path, prefix=experiment_name, config_file=config_path, exp_param_file=exp_param_file)"
   ]
  },
  {
   "cell_type": "code",
   "execution_count": null,
   "metadata": {},
   "outputs": [],
   "source": [
    "from scipy.special import erf"
   ]
  },
  {
   "cell_type": "code",
   "execution_count": null,
   "metadata": {},
   "outputs": [],
   "source": [
    "from experiments.single_qubit.length_rabi_general import LengthRabiGeneralExperiment\n",
    "\n",
    "cfg_expt = {'start': 0.0069754464285714285, # us\n",
    "            'step': 0.007, # us\n",
    "            'qubits': [0],\n",
    "            'expts': 1,\n",
    "            'reps': 100,\n",
    "            'rounds': 1,\n",
    "            'gain': 0 ,# qubit gain [DAC units],\n",
    "            'ramp_sigma': 0.005 , # us\n",
    "            'freq': 3566.383307324457,   #2010.5265269004717,   # MHz\n",
    "            'pi_ge_before': False,\n",
    "            'pi_ef_before': False,\n",
    "            'pi_ge_after': False,\n",
    "            'pre_pulse': False}\n",
    "\n",
    "# g state \n",
    "lrabi = LengthRabiGeneralExperiment(\n",
    "    soccfg=soc,\n",
    "    path=expt_path,\n",
    "    config_file=config_path,\n",
    ")\n",
    "lrabi.cfg.expt = cfg_expt\n",
    "\n",
    "#g_data = lrabi.acquire()\n",
    "lrabi.go(analyze=False, display=False, progress=False, save=False)"
   ]
  },
  {
   "cell_type": "markdown",
   "metadata": {},
   "source": [
    "# Extrapolate f0g1 sideband"
   ]
  },
  {
   "cell_type": "code",
   "execution_count": null,
   "metadata": {},
   "outputs": [],
   "source": [
    "import numpy as np\n",
    "import matplotlib.pyplot as plt\n",
    "from scipy.interpolate import UnivariateSpline\n",
    "\n",
    "# Sample data\n",
    "x_data = np.asarray([0.593264249,0.64507772,\t0.670984456\t,0.72279792,\t0.800518135,\t0.878238342])\n",
    "y_data = np.array([2012.15, 2010.2,\t2008.9,\t2005.2,\t\t1995.55,\t\t1976.5\n",
    "])\n",
    "\n",
    "# Sort the data\n",
    "sorted_indices = np.argsort(x_data)\n",
    "x_data = x_data[sorted_indices]\n",
    "y_data = y_data[sorted_indices]\n",
    "\n",
    "# Fit a spline to the data\n",
    "spline = UnivariateSpline(x_data, y_data)\n",
    "\n",
    "# Evaluate the spline at a range of x values\n",
    "x_fit = np.linspace(x_data.min(), x_data.max(), 1000)\n",
    "y_fit = spline(x_fit)\n",
    "\n",
    "# Plot the original data and the fitted spline\n",
    "plt.figure(figsize=(10, 6))\n",
    "plt.plot(x_data, y_data, 'ro', label='Original Data')\n",
    "plt.plot(x_fit, y_fit, 'b-', label='Fitted Spline')\n",
    "plt.xlabel('DC flux (mA)')\n",
    "plt.ylabel('F0-g1 frequency (MHz)')\n",
    "plt.title('Spline Fit to Data')\n",
    "plt.legend()\n",
    "plt.show()"
   ]
  },
  {
   "cell_type": "code",
   "execution_count": null,
   "metadata": {},
   "outputs": [],
   "source": [
    "spline((0.601036269\n",
    "))"
   ]
  },
  {
   "cell_type": "code",
   "execution_count": null,
   "metadata": {},
   "outputs": [],
   "source": [
    "spline(0.95)"
   ]
  },
  {
   "cell_type": "code",
   "execution_count": null,
   "metadata": {},
   "outputs": [],
   "source": [
    "man_f = -1976.5+(3568.1063715816226+3425.0265059169296)\n",
    "man_coup =247.8\n",
    "coup = man_f - man_coup\n",
    "flux_quanta = 0.878238342#0.670984456\n",
    "Ec = 60\n",
    "a = (coup + Ec)/np.sqrt(8*Ec* np.abs(np.cos(np.pi*flux_quanta)))\n",
    "a"
   ]
  },
  {
   "cell_type": "code",
   "execution_count": null,
   "metadata": {},
   "outputs": [],
   "source": [
    "a**2"
   ]
  },
  {
   "cell_type": "code",
   "execution_count": null,
   "metadata": {},
   "outputs": [],
   "source": [
    "coup"
   ]
  },
  {
   "cell_type": "code",
   "execution_count": null,
   "metadata": {},
   "outputs": [],
   "source": [
    "a* sqrt(8*Ec)"
   ]
  },
  {
   "cell_type": "code",
   "execution_count": null,
   "metadata": {},
   "outputs": [],
   "source": [
    "2*np.pi*flux_quanta"
   ]
  },
  {
   "cell_type": "code",
   "execution_count": null,
   "metadata": {},
   "outputs": [],
   "source": [
    "flux_quanta = 0.64507772\n",
    "coup = 5235 * np.sqrt(np.abs(np.cos(np.pi*flux_quanta)))"
   ]
  },
  {
   "cell_type": "code",
   "execution_count": null,
   "metadata": {},
   "outputs": [],
   "source": [
    "coup"
   ]
  },
  {
   "cell_type": "code",
   "execution_count": null,
   "metadata": {},
   "outputs": [],
   "source": [
    "man_f - 841.05"
   ]
  },
  {
   "cell_type": "code",
   "execution_count": null,
   "metadata": {},
   "outputs": [],
   "source": [
    "man_f - coup"
   ]
  },
  {
   "cell_type": "code",
   "execution_count": null,
   "metadata": {},
   "outputs": [],
   "source": []
  },
  {
   "cell_type": "markdown",
   "metadata": {},
   "source": [
    "# Extrapolate Coupler Manipulate Sideband\n"
   ]
  },
  {
   "cell_type": "markdown",
   "metadata": {},
   "source": []
  },
  {
   "cell_type": "code",
   "execution_count": null,
   "metadata": {},
   "outputs": [],
   "source": [
    "y_data = np.asarray([1472.6,\t1229.4,\t841.05,\t\t451.2,\t\t247.8])\n",
    "x_data = np.asarray([0.64507772,\t0.670984456\t,0.72279792,\t0.800518135,\t0.878238342])\n",
    "# Sort the data\n",
    "sorted_indices = np.argsort(x_data)\n",
    "x_data = x_data[sorted_indices]\n",
    "y_data = y_data[sorted_indices]\n",
    "\n",
    "# Fit a spline to the data\n",
    "spline = UnivariateSpline(x_data, y_data)\n",
    "\n",
    "# Evaluate the spline at a range of x values\n",
    "x_fit = np.linspace(x_data.min(), x_data.max(), 1000)\n",
    "y_fit = spline(x_fit)\n",
    "\n",
    "# Plot the original data and the fitted spline\n",
    "plt.figure(figsize=(10, 6))\n",
    "plt.plot(x_data, y_data, 'ro', label='Original Data')\n",
    "plt.plot(x_fit, y_fit, 'b-', label='Fitted Spline')\n",
    "plt.xlabel('DC flux (mA)')\n",
    "plt.ylabel('Coupler Manipulate sideband (MHz)')\n",
    "plt.title('Spline Fit to Data')\n",
    "plt.legend()\n",
    "plt.show()\n"
   ]
  },
  {
   "cell_type": "code",
   "execution_count": null,
   "metadata": {},
   "outputs": [],
   "source": [
    "spline(0.601036269\n",
    ")"
   ]
  },
  {
   "cell_type": "markdown",
   "metadata": {},
   "source": [
    "# Extrapolate Coupler Frequency "
   ]
  },
  {
   "cell_type": "code",
   "execution_count": null,
   "metadata": {},
   "outputs": [],
   "source": [
    "y_data = np.asarray([3510.332877,\t3754.832877,\t4146.882877,\t\t4546.382877,\t\t4768.832877])\n",
    "x_data = np.asarray([0.64507772,\t0.670984456\t,0.72279792,\t0.800518135,\t0.878238342])\n",
    "# Sort the data\n",
    "sorted_indices = np.argsort(x_data)\n",
    "x_data = x_data[sorted_indices]\n",
    "y_data = y_data[sorted_indices]\n",
    "\n",
    "# Fit a spline to the data\n",
    "spline = UnivariateSpline(x_data, y_data)\n",
    "\n",
    "# Evaluate the spline at a range of x values\n",
    "x_fit = np.linspace(x_data.min(), x_data.max(), 1000)\n",
    "y_fit = spline(x_fit)\n",
    "\n",
    "# Plot the original data and the fitted spline\n",
    "plt.figure(figsize=(10, 6))\n",
    "plt.plot(x_data, y_data, 'ro', label='Original Data')\n",
    "plt.plot(x_fit, y_fit, 'b-', label='Fitted Spline')\n",
    "#plot extrapolated point at x = 1\n",
    "plt.plot(1, spline(1), 'go', label='Extrapolated Point')\n",
    "#add a xline at the above point\n",
    "plt.axhline(y = spline(1), color='g', linestyle='--', label = str(spline(1)))\n",
    "plt.xlabel('DC flux (mA)')\n",
    "plt.ylabel('Coupler (MHz)')\n",
    "plt.title('Spline Fit to Data')\n",
    "plt.legend()\n",
    "plt.show()"
   ]
  },
  {
   "cell_type": "code",
   "execution_count": null,
   "metadata": {},
   "outputs": [],
   "source": [
    "spline(0.601036269\n",
    ")"
   ]
  },
  {
   "cell_type": "code",
   "execution_count": null,
   "metadata": {},
   "outputs": [],
   "source": []
  }
 ],
 "metadata": {
  "kernelspec": {
   "display_name": "slab",
   "language": "python",
   "name": "python3"
  },
  "language_info": {
   "codemirror_mode": {
    "name": "ipython",
    "version": 3
   },
   "file_extension": ".py",
   "mimetype": "text/x-python",
   "name": "python",
   "nbconvert_exporter": "python",
   "pygments_lexer": "ipython3",
   "version": "3.8.17"
  }
 },
 "nbformat": 4,
 "nbformat_minor": 2
}
