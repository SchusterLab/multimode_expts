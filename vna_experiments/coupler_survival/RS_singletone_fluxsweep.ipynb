{
 "cells": [
  {
   "cell_type": "code",
   "execution_count": 1,
   "metadata": {},
   "outputs": [
    {
     "name": "stdout",
     "output_type": "stream",
     "text": [
      "Warning serial library import failed.\n",
      "Could not load InstrumentManagerWindow\n",
      "Could not import QickInstrument, try install qick package\n",
      "Could not load AD5780 dac \n",
      "Could not load labbrick\n",
      "Could not load Autonics TM4 Driver\n"
     ]
    }
   ],
   "source": [
    "\"\"\"\n",
    "Rhode Schwarz (BatMaus) Demo\n",
    "Author: Andrei V.\n",
    "\"\"\"\n",
    "\n",
    "# from slab import *\n",
    "# from slab.datamanagement import SlabFile\n",
    "import numpy as np\n",
    "import os\n",
    "import datetime\n",
    "import os.path\n",
    "from importlib import reload\n",
    "import matplotlib.pyplot as plt\n",
    "%matplotlib inline\n",
    "\n",
    "import RhodeSchwarz\n",
    "reload(RhodeSchwarz)\n",
    "\n",
    "from RhodeSchwarz import RhodeSchwarz\n",
    "from RhodeSchwarz import ZVB8\n",
    "\n",
    "# from qcodes_contrib_drivers.drivers.QDevil import QDAC2\n",
    "import time\n",
    "from tqdm.notebook import tqdm"
   ]
  },
  {
   "cell_type": "code",
   "execution_count": 2,
   "metadata": {},
   "outputs": [],
   "source": [
    "# rs = RhodeSchwarz(address='192.168.14.190')\n",
    "rs = ZVB8(address='192.168.137.84', reset = True)"
   ]
  },
  {
   "cell_type": "code",
   "execution_count": 3,
   "metadata": {
    "scrolled": true
   },
   "outputs": [
    {
     "name": "stdout",
     "output_type": "stream",
     "text": [
      "I'm Bat Mouse!\n"
     ]
    },
    {
     "data": {
      "text/plain": [
       "'Rohde-Schwarz,ZNB26-4Port,1334333065100972,3.45\\n'"
      ]
     },
     "execution_count": 3,
     "metadata": {},
     "output_type": "execute_result"
    }
   ],
   "source": [
    "rs.get_id()"
   ]
  },
  {
   "cell_type": "code",
   "execution_count": 4,
   "metadata": {},
   "outputs": [],
   "source": [
    "file_path = r'C:\\_Lib\\python\\multimode_expts\\vna_experiments\\coupler_survival\\data'"
   ]
  },
  {
   "cell_type": "code",
   "execution_count": 5,
   "metadata": {},
   "outputs": [
    {
     "data": {
      "text/plain": [
       "'C:\\\\_Lib\\\\python\\\\multimode_expts\\\\vna_experiments\\\\coupler_survival\\\\data'"
      ]
     },
     "execution_count": 5,
     "metadata": {},
     "output_type": "execute_result"
    }
   ],
   "source": [
    "file_path"
   ]
  },
  {
   "cell_type": "markdown",
   "metadata": {},
   "source": [
    "# JPA flux scan"
   ]
  },
  {
   "cell_type": "code",
   "execution_count": 6,
   "metadata": {},
   "outputs": [],
   "source": [
    "# from slab.instruments import *\n",
    "# from slab import *\n",
    "# from slab.datamanagement import SlabFile\n",
    "# dcflux = YokogawaGS200(address=\"192.168.137.149\")\n",
    "# dcflux.set_output(True)\n",
    "# dcflux.set_mode('current')\n",
    "# dcflux.ramp_current(0.000, sweeprate=0.002)"
   ]
  },
  {
   "cell_type": "code",
   "execution_count": 7,
   "metadata": {},
   "outputs": [
    {
     "ename": "NameError",
     "evalue": "name 'dcflux' is not defined",
     "output_type": "error",
     "traceback": [
      "\u001b[1;31m---------------------------------------------------------------------------\u001b[0m",
      "\u001b[1;31mNameError\u001b[0m                                 Traceback (most recent call last)",
      "Cell \u001b[1;32mIn[7], line 3\u001b[0m\n\u001b[0;32m      1\u001b[0m vary_pts \u001b[38;5;241m=\u001b[39m np\u001b[38;5;241m.\u001b[39mlinspace(\u001b[38;5;241m0.01\u001b[39m, \u001b[38;5;241m0.035\u001b[39m, \u001b[38;5;241m41\u001b[39m)  \u001b[38;5;66;03m# in units of amp!!!!!!\u001b[39;00m\n\u001b[0;32m      2\u001b[0m \u001b[38;5;66;03m# vary_pts = [0]\u001b[39;00m\n\u001b[1;32m----> 3\u001b[0m \u001b[43mdcflux\u001b[49m\u001b[38;5;241m.\u001b[39mset_output(\u001b[38;5;28;01mTrue\u001b[39;00m)\n\u001b[0;32m      4\u001b[0m dcflux\u001b[38;5;241m.\u001b[39mset_mode(\u001b[38;5;124m'\u001b[39m\u001b[38;5;124mcurrent\u001b[39m\u001b[38;5;124m'\u001b[39m)\n",
      "\u001b[1;31mNameError\u001b[0m: name 'dcflux' is not defined"
     ]
    }
   ],
   "source": [
    "vary_pts = np.linspace(0.01, 0.035, 41)  # in units of amp!!!!!!\n",
    "# vary_pts = [0]\n",
    "dcflux.set_output(True)\n",
    "dcflux.set_mode('current')"
   ]
  },
  {
   "cell_type": "code",
   "execution_count": 8,
   "metadata": {},
   "outputs": [
    {
     "ename": "NameError",
     "evalue": "name 'get_next_filename' is not defined",
     "output_type": "error",
     "traceback": [
      "\u001b[1;31m---------------------------------------------------------------------------\u001b[0m",
      "\u001b[1;31mNameError\u001b[0m                                 Traceback (most recent call last)",
      "Cell \u001b[1;32mIn[8], line 2\u001b[0m\n\u001b[0;32m      1\u001b[0m prefix \u001b[38;5;241m=\u001b[39m \u001b[38;5;124m\"\u001b[39m\u001b[38;5;124mRS_single_tone_flux_scan\u001b[39m\u001b[38;5;124m\"\u001b[39m\n\u001b[1;32m----> 2\u001b[0m fname \u001b[38;5;241m=\u001b[39m \u001b[43mget_next_filename\u001b[49m(file_path, prefix, suffix\u001b[38;5;241m=\u001b[39m\u001b[38;5;124m'\u001b[39m\u001b[38;5;124m.h5\u001b[39m\u001b[38;5;124m'\u001b[39m)\n\u001b[0;32m      4\u001b[0m \u001b[38;5;28;01mfor\u001b[39;00m ii, pt \u001b[38;5;129;01min\u001b[39;00m \u001b[38;5;28menumerate\u001b[39m(vary_pts[\u001b[38;5;241m0\u001b[39m:]):\n\u001b[0;32m      5\u001b[0m     \u001b[38;5;28mprint\u001b[39m(\u001b[38;5;124m\"\u001b[39m\u001b[38;5;132;01m%d\u001b[39;00m\u001b[38;5;124m: flux Driving at \u001b[39m\u001b[38;5;132;01m%.3f\u001b[39;00m\u001b[38;5;124m mA\u001b[39m\u001b[38;5;124m\"\u001b[39m \u001b[38;5;241m%\u001b[39m (ii, pt \u001b[38;5;241m*\u001b[39m \u001b[38;5;241m1000\u001b[39m))\n",
      "\u001b[1;31mNameError\u001b[0m: name 'get_next_filename' is not defined"
     ]
    }
   ],
   "source": [
    "prefix = \"RS_single_tone_flux_scan\"\n",
    "fname = get_next_filename(file_path, prefix, suffix='.h5')\n",
    "\n",
    "for ii, pt in enumerate(vary_pts[0:]):\n",
    "    print(\"%d: flux Driving at %.3f mA\" % (ii, pt * 1000))\n",
    "    dcflux.ramp_current(pt, sweeprate=0.002)\n",
    "    time.sleep(0.2)    \n",
    "\n",
    "    trans_settings = rs.trans_default_settings()\n",
    "    trans_settings['center'] = 7e9\n",
    "    trans_settings['bw'] = 4e9\n",
    "    trans_settings['start_freq'] = trans_settings['center']-trans_settings['bw']/2\n",
    "    trans_settings['stop_freq'] = trans_settings['center']+trans_settings['bw']/2\n",
    "    trans_settings['avg_time'] = 1\n",
    "    trans_settings['ifBW'] = 1000\n",
    "    trans_settings['RFpower'] = -45\n",
    "    trans_settings['freq_points'] = 1001\n",
    "\n",
    "    fname = os.path.join(file_path, fname)\n",
    "\n",
    "    with SlabFile(fname, 'a') as f:\n",
    "        f.save_settings(trans_settings)\n",
    "\n",
    "    data = rs.trans_meas(trans_settings)\n",
    "\n",
    "    freqs = np.fromstring(data['xaxis'], sep=',')\n",
    "    mags = np.fromstring(data['mag'], sep=',')\n",
    "    phases = np.fromstring(data['phase'], sep=',')\n",
    "\n",
    "    with SlabFile(fname, 'a') as f:\n",
    "        f.append_pt(('flux_pts'), pt)\n",
    "        f.append_line('fpts', freqs)\n",
    "        f.append_line('mags', mags)\n",
    "        f.append_line('phases', phases)\n",
    "        f.append_pt('power', trans_settings['RFpower'])\n",
    "    print(fname)\n",
    "\n",
    "    \n",
    "dcflux.ramp_current(0.0, sweeprate=0.002)"
   ]
  },
  {
   "cell_type": "markdown",
   "metadata": {},
   "source": [
    "# DC flux scan (Coupler Survival)"
   ]
  },
  {
   "cell_type": "code",
   "execution_count": 6,
   "metadata": {},
   "outputs": [],
   "source": [
    "from slab.instruments import *\n",
    "from slab import *\n",
    "from slab.datamanagement import SlabFile\n",
    "dcflux = YokogawaGS200(address=\"192.168.137.148\")\n",
    "dcflux.set_output(True)\n",
    "dcflux.set_mode('current')\n",
    "sweep_rate = 1e-3\n",
    "dcflux.ramp_current(0.000, sweeprate=sweep_rate)"
   ]
  },
  {
   "cell_type": "code",
   "execution_count": 7,
   "metadata": {},
   "outputs": [],
   "source": [
    "vary_pts = linspace(-0.002, 0.002, 61)  # in units of amp!!!!!!\n",
    "# vary_pts = [0]\n",
    "dcflux.set_output(True)\n",
    "dcflux.set_mode('current')"
   ]
  },
  {
   "cell_type": "code",
   "execution_count": 11,
   "metadata": {},
   "outputs": [
    {
     "data": {
      "text/plain": [
       "array([-2.00000000e-03, -1.93333333e-03, -1.86666667e-03, -1.80000000e-03,\n",
       "       -1.73333333e-03, -1.66666667e-03, -1.60000000e-03, -1.53333333e-03,\n",
       "       -1.46666667e-03, -1.40000000e-03, -1.33333333e-03, -1.26666667e-03,\n",
       "       -1.20000000e-03, -1.13333333e-03, -1.06666667e-03, -1.00000000e-03,\n",
       "       -9.33333333e-04, -8.66666667e-04, -8.00000000e-04, -7.33333333e-04,\n",
       "       -6.66666667e-04, -6.00000000e-04, -5.33333333e-04, -4.66666667e-04,\n",
       "       -4.00000000e-04, -3.33333333e-04, -2.66666667e-04, -2.00000000e-04,\n",
       "       -1.33333333e-04, -6.66666667e-05,  0.00000000e+00,  6.66666667e-05,\n",
       "        1.33333333e-04,  2.00000000e-04,  2.66666667e-04,  3.33333333e-04,\n",
       "        4.00000000e-04,  4.66666667e-04,  5.33333333e-04,  6.00000000e-04,\n",
       "        6.66666667e-04,  7.33333333e-04,  8.00000000e-04,  8.66666667e-04,\n",
       "        9.33333333e-04,  1.00000000e-03,  1.06666667e-03,  1.13333333e-03,\n",
       "        1.20000000e-03,  1.26666667e-03,  1.33333333e-03,  1.40000000e-03,\n",
       "        1.46666667e-03,  1.53333333e-03,  1.60000000e-03,  1.66666667e-03,\n",
       "        1.73333333e-03,  1.80000000e-03,  1.86666667e-03,  1.93333333e-03,\n",
       "        2.00000000e-03])"
      ]
     },
     "execution_count": 11,
     "metadata": {},
     "output_type": "execute_result"
    }
   ],
   "source": [
    "vary_pts"
   ]
  },
  {
   "cell_type": "code",
   "execution_count": 8,
   "metadata": {},
   "outputs": [
    {
     "name": "stdout",
     "output_type": "stream",
     "text": [
      "0: flux Driving at -2.000 mA\n",
      "C:\\_Lib\\python\\multimode_expts\\vna_experiments\\coupler_survival\\data\\00012_S5_single_tone_flux_scan.h5\n",
      "1: flux Driving at -1.933 mA\n",
      "C:\\_Lib\\python\\multimode_expts\\vna_experiments\\coupler_survival\\data\\00012_S5_single_tone_flux_scan.h5\n",
      "2: flux Driving at -1.867 mA\n",
      "C:\\_Lib\\python\\multimode_expts\\vna_experiments\\coupler_survival\\data\\00012_S5_single_tone_flux_scan.h5\n",
      "3: flux Driving at -1.800 mA\n",
      "C:\\_Lib\\python\\multimode_expts\\vna_experiments\\coupler_survival\\data\\00012_S5_single_tone_flux_scan.h5\n",
      "4: flux Driving at -1.733 mA\n",
      "C:\\_Lib\\python\\multimode_expts\\vna_experiments\\coupler_survival\\data\\00012_S5_single_tone_flux_scan.h5\n",
      "5: flux Driving at -1.667 mA\n",
      "C:\\_Lib\\python\\multimode_expts\\vna_experiments\\coupler_survival\\data\\00012_S5_single_tone_flux_scan.h5\n",
      "6: flux Driving at -1.600 mA\n",
      "C:\\_Lib\\python\\multimode_expts\\vna_experiments\\coupler_survival\\data\\00012_S5_single_tone_flux_scan.h5\n",
      "7: flux Driving at -1.533 mA\n",
      "C:\\_Lib\\python\\multimode_expts\\vna_experiments\\coupler_survival\\data\\00012_S5_single_tone_flux_scan.h5\n",
      "8: flux Driving at -1.467 mA\n",
      "C:\\_Lib\\python\\multimode_expts\\vna_experiments\\coupler_survival\\data\\00012_S5_single_tone_flux_scan.h5\n",
      "9: flux Driving at -1.400 mA\n",
      "C:\\_Lib\\python\\multimode_expts\\vna_experiments\\coupler_survival\\data\\00012_S5_single_tone_flux_scan.h5\n",
      "10: flux Driving at -1.333 mA\n",
      "C:\\_Lib\\python\\multimode_expts\\vna_experiments\\coupler_survival\\data\\00012_S5_single_tone_flux_scan.h5\n",
      "11: flux Driving at -1.267 mA\n",
      "C:\\_Lib\\python\\multimode_expts\\vna_experiments\\coupler_survival\\data\\00012_S5_single_tone_flux_scan.h5\n",
      "12: flux Driving at -1.200 mA\n",
      "C:\\_Lib\\python\\multimode_expts\\vna_experiments\\coupler_survival\\data\\00012_S5_single_tone_flux_scan.h5\n",
      "13: flux Driving at -1.133 mA\n",
      "C:\\_Lib\\python\\multimode_expts\\vna_experiments\\coupler_survival\\data\\00012_S5_single_tone_flux_scan.h5\n",
      "14: flux Driving at -1.067 mA\n",
      "C:\\_Lib\\python\\multimode_expts\\vna_experiments\\coupler_survival\\data\\00012_S5_single_tone_flux_scan.h5\n",
      "15: flux Driving at -1.000 mA\n",
      "C:\\_Lib\\python\\multimode_expts\\vna_experiments\\coupler_survival\\data\\00012_S5_single_tone_flux_scan.h5\n",
      "16: flux Driving at -0.933 mA\n",
      "C:\\_Lib\\python\\multimode_expts\\vna_experiments\\coupler_survival\\data\\00012_S5_single_tone_flux_scan.h5\n",
      "17: flux Driving at -0.867 mA\n",
      "C:\\_Lib\\python\\multimode_expts\\vna_experiments\\coupler_survival\\data\\00012_S5_single_tone_flux_scan.h5\n",
      "18: flux Driving at -0.800 mA\n",
      "C:\\_Lib\\python\\multimode_expts\\vna_experiments\\coupler_survival\\data\\00012_S5_single_tone_flux_scan.h5\n",
      "19: flux Driving at -0.733 mA\n",
      "C:\\_Lib\\python\\multimode_expts\\vna_experiments\\coupler_survival\\data\\00012_S5_single_tone_flux_scan.h5\n",
      "20: flux Driving at -0.667 mA\n",
      "C:\\_Lib\\python\\multimode_expts\\vna_experiments\\coupler_survival\\data\\00012_S5_single_tone_flux_scan.h5\n",
      "21: flux Driving at -0.600 mA\n",
      "C:\\_Lib\\python\\multimode_expts\\vna_experiments\\coupler_survival\\data\\00012_S5_single_tone_flux_scan.h5\n",
      "22: flux Driving at -0.533 mA\n",
      "C:\\_Lib\\python\\multimode_expts\\vna_experiments\\coupler_survival\\data\\00012_S5_single_tone_flux_scan.h5\n",
      "23: flux Driving at -0.467 mA\n",
      "C:\\_Lib\\python\\multimode_expts\\vna_experiments\\coupler_survival\\data\\00012_S5_single_tone_flux_scan.h5\n",
      "24: flux Driving at -0.400 mA\n",
      "C:\\_Lib\\python\\multimode_expts\\vna_experiments\\coupler_survival\\data\\00012_S5_single_tone_flux_scan.h5\n",
      "25: flux Driving at -0.333 mA\n",
      "C:\\_Lib\\python\\multimode_expts\\vna_experiments\\coupler_survival\\data\\00012_S5_single_tone_flux_scan.h5\n",
      "26: flux Driving at -0.267 mA\n",
      "C:\\_Lib\\python\\multimode_expts\\vna_experiments\\coupler_survival\\data\\00012_S5_single_tone_flux_scan.h5\n",
      "27: flux Driving at -0.200 mA\n",
      "C:\\_Lib\\python\\multimode_expts\\vna_experiments\\coupler_survival\\data\\00012_S5_single_tone_flux_scan.h5\n",
      "28: flux Driving at -0.133 mA\n",
      "C:\\_Lib\\python\\multimode_expts\\vna_experiments\\coupler_survival\\data\\00012_S5_single_tone_flux_scan.h5\n",
      "29: flux Driving at -0.067 mA\n",
      "C:\\_Lib\\python\\multimode_expts\\vna_experiments\\coupler_survival\\data\\00012_S5_single_tone_flux_scan.h5\n",
      "30: flux Driving at 0.000 mA\n",
      "C:\\_Lib\\python\\multimode_expts\\vna_experiments\\coupler_survival\\data\\00012_S5_single_tone_flux_scan.h5\n",
      "31: flux Driving at 0.067 mA\n",
      "C:\\_Lib\\python\\multimode_expts\\vna_experiments\\coupler_survival\\data\\00012_S5_single_tone_flux_scan.h5\n",
      "32: flux Driving at 0.133 mA\n",
      "C:\\_Lib\\python\\multimode_expts\\vna_experiments\\coupler_survival\\data\\00012_S5_single_tone_flux_scan.h5\n",
      "33: flux Driving at 0.200 mA\n",
      "C:\\_Lib\\python\\multimode_expts\\vna_experiments\\coupler_survival\\data\\00012_S5_single_tone_flux_scan.h5\n",
      "34: flux Driving at 0.267 mA\n",
      "C:\\_Lib\\python\\multimode_expts\\vna_experiments\\coupler_survival\\data\\00012_S5_single_tone_flux_scan.h5\n",
      "35: flux Driving at 0.333 mA\n",
      "C:\\_Lib\\python\\multimode_expts\\vna_experiments\\coupler_survival\\data\\00012_S5_single_tone_flux_scan.h5\n",
      "36: flux Driving at 0.400 mA\n",
      "C:\\_Lib\\python\\multimode_expts\\vna_experiments\\coupler_survival\\data\\00012_S5_single_tone_flux_scan.h5\n",
      "37: flux Driving at 0.467 mA\n",
      "C:\\_Lib\\python\\multimode_expts\\vna_experiments\\coupler_survival\\data\\00012_S5_single_tone_flux_scan.h5\n",
      "38: flux Driving at 0.533 mA\n",
      "C:\\_Lib\\python\\multimode_expts\\vna_experiments\\coupler_survival\\data\\00012_S5_single_tone_flux_scan.h5\n",
      "39: flux Driving at 0.600 mA\n",
      "C:\\_Lib\\python\\multimode_expts\\vna_experiments\\coupler_survival\\data\\00012_S5_single_tone_flux_scan.h5\n",
      "40: flux Driving at 0.667 mA\n",
      "C:\\_Lib\\python\\multimode_expts\\vna_experiments\\coupler_survival\\data\\00012_S5_single_tone_flux_scan.h5\n",
      "41: flux Driving at 0.733 mA\n",
      "C:\\_Lib\\python\\multimode_expts\\vna_experiments\\coupler_survival\\data\\00012_S5_single_tone_flux_scan.h5\n",
      "42: flux Driving at 0.800 mA\n",
      "C:\\_Lib\\python\\multimode_expts\\vna_experiments\\coupler_survival\\data\\00012_S5_single_tone_flux_scan.h5\n",
      "43: flux Driving at 0.867 mA\n",
      "C:\\_Lib\\python\\multimode_expts\\vna_experiments\\coupler_survival\\data\\00012_S5_single_tone_flux_scan.h5\n",
      "44: flux Driving at 0.933 mA\n",
      "C:\\_Lib\\python\\multimode_expts\\vna_experiments\\coupler_survival\\data\\00012_S5_single_tone_flux_scan.h5\n",
      "45: flux Driving at 1.000 mA\n",
      "C:\\_Lib\\python\\multimode_expts\\vna_experiments\\coupler_survival\\data\\00012_S5_single_tone_flux_scan.h5\n",
      "46: flux Driving at 1.067 mA\n",
      "C:\\_Lib\\python\\multimode_expts\\vna_experiments\\coupler_survival\\data\\00012_S5_single_tone_flux_scan.h5\n",
      "47: flux Driving at 1.133 mA\n",
      "C:\\_Lib\\python\\multimode_expts\\vna_experiments\\coupler_survival\\data\\00012_S5_single_tone_flux_scan.h5\n",
      "48: flux Driving at 1.200 mA\n",
      "C:\\_Lib\\python\\multimode_expts\\vna_experiments\\coupler_survival\\data\\00012_S5_single_tone_flux_scan.h5\n",
      "49: flux Driving at 1.267 mA\n",
      "C:\\_Lib\\python\\multimode_expts\\vna_experiments\\coupler_survival\\data\\00012_S5_single_tone_flux_scan.h5\n",
      "50: flux Driving at 1.333 mA\n",
      "C:\\_Lib\\python\\multimode_expts\\vna_experiments\\coupler_survival\\data\\00012_S5_single_tone_flux_scan.h5\n",
      "51: flux Driving at 1.400 mA\n",
      "C:\\_Lib\\python\\multimode_expts\\vna_experiments\\coupler_survival\\data\\00012_S5_single_tone_flux_scan.h5\n",
      "52: flux Driving at 1.467 mA\n",
      "C:\\_Lib\\python\\multimode_expts\\vna_experiments\\coupler_survival\\data\\00012_S5_single_tone_flux_scan.h5\n",
      "53: flux Driving at 1.533 mA\n",
      "C:\\_Lib\\python\\multimode_expts\\vna_experiments\\coupler_survival\\data\\00012_S5_single_tone_flux_scan.h5\n",
      "54: flux Driving at 1.600 mA\n",
      "C:\\_Lib\\python\\multimode_expts\\vna_experiments\\coupler_survival\\data\\00012_S5_single_tone_flux_scan.h5\n",
      "55: flux Driving at 1.667 mA\n",
      "C:\\_Lib\\python\\multimode_expts\\vna_experiments\\coupler_survival\\data\\00012_S5_single_tone_flux_scan.h5\n",
      "56: flux Driving at 1.733 mA\n",
      "C:\\_Lib\\python\\multimode_expts\\vna_experiments\\coupler_survival\\data\\00012_S5_single_tone_flux_scan.h5\n",
      "57: flux Driving at 1.800 mA\n",
      "C:\\_Lib\\python\\multimode_expts\\vna_experiments\\coupler_survival\\data\\00012_S5_single_tone_flux_scan.h5\n",
      "58: flux Driving at 1.867 mA\n",
      "C:\\_Lib\\python\\multimode_expts\\vna_experiments\\coupler_survival\\data\\00012_S5_single_tone_flux_scan.h5\n",
      "59: flux Driving at 1.933 mA\n",
      "C:\\_Lib\\python\\multimode_expts\\vna_experiments\\coupler_survival\\data\\00012_S5_single_tone_flux_scan.h5\n",
      "60: flux Driving at 2.000 mA\n",
      "C:\\_Lib\\python\\multimode_expts\\vna_experiments\\coupler_survival\\data\\00012_S5_single_tone_flux_scan.h5\n"
     ]
    }
   ],
   "source": [
    "prefix = \"S5_single_tone_flux_scan\"\n",
    "fname = get_next_filename(file_path, prefix, suffix='.h5')\n",
    "\n",
    "for ii, pt in enumerate(vary_pts[0:]):\n",
    "    print(\"%d: flux Driving at %.3f mA\" % (ii, pt * 1000))\n",
    "    dcflux.ramp_current(pt, sweeprate=sweep_rate)\n",
    "    time.sleep(0.2)    \n",
    "\n",
    "    \n",
    "\n",
    "    trans_settings = rs.trans_default_settings()\n",
    "    trans_settings['center'] = 6.0375e9\n",
    "    trans_settings['bw'] = 2e6\n",
    "    trans_settings['start_freq'] = trans_settings['center']-trans_settings['bw']/2\n",
    "    trans_settings['stop_freq'] = trans_settings['center']+trans_settings['bw']/2\n",
    "    trans_settings['avg_time'] = 40\n",
    "    trans_settings['ifBW'] = 1000\n",
    "    trans_settings['RFpower'] = -50\n",
    "    trans_settings['freq_points'] = 2001\n",
    "\n",
    "    fname = os.path.join(file_path, fname)\n",
    "\n",
    "    with SlabFile(fname, 'a') as f:\n",
    "        f.save_settings(trans_settings)\n",
    "\n",
    "    data = rs.trans_meas(trans_settings)\n",
    "\n",
    "    freqs = np.fromstring(data['xaxis'], sep=',')\n",
    "    mags = np.fromstring(data['mag'], sep=',')\n",
    "    phases = np.fromstring(data['phase'], sep=',')\n",
    "\n",
    "    with SlabFile(fname, 'a') as f:\n",
    "        f.append_pt(('flux_pts'), pt)\n",
    "        f.append_line('fpts', freqs)\n",
    "        f.append_line('mags', mags)\n",
    "        f.append_line('phases', phases)\n",
    "        f.append_pt('power', trans_settings['RFpower'])\n",
    "    print(fname)\n",
    "\n",
    "    \n",
    "dcflux.ramp_current(0.0, sweeprate=sweep_rate)"
   ]
  },
  {
   "cell_type": "markdown",
   "metadata": {},
   "source": [
    "## plot"
   ]
  },
  {
   "cell_type": "code",
   "execution_count": 15,
   "metadata": {},
   "outputs": [
    {
     "data": {
      "text/plain": [
       "dict_keys(['channel', 'avg_time', 'measurement', 'start_freq', 'stop_freq', 'freq_points', 'RFpower', 'ifBW', 'mode'])"
      ]
     },
     "execution_count": 15,
     "metadata": {},
     "output_type": "execute_result"
    }
   ],
   "source": [
    "rs.trans_default_settings().keys()"
   ]
  },
  {
   "cell_type": "code",
   "execution_count": null,
   "metadata": {},
   "outputs": [],
   "source": []
  }
 ],
 "metadata": {
  "kernelspec": {
   "display_name": "slab",
   "language": "python",
   "name": "python3"
  },
  "language_info": {
   "codemirror_mode": {
    "name": "ipython",
    "version": 3
   },
   "file_extension": ".py",
   "mimetype": "text/x-python",
   "name": "python",
   "nbconvert_exporter": "python",
   "pygments_lexer": "ipython3",
   "version": "3.8.17"
  },
  "toc": {
   "base_numbering": 1,
   "nav_menu": {},
   "number_sections": true,
   "sideBar": true,
   "skip_h1_title": false,
   "title_cell": "Table of Contents",
   "title_sidebar": "Contents",
   "toc_cell": false,
   "toc_position": {},
   "toc_section_display": true,
   "toc_window_display": false
  }
 },
 "nbformat": 4,
 "nbformat_minor": 4
}
